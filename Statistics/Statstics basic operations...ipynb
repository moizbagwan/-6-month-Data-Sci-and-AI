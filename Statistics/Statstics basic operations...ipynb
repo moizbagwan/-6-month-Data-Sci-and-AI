{
 "cells": [
  {
   "cell_type": "code",
   "execution_count": 1,
   "id": "32b2bb4d-cbce-4fb9-8773-c67169c7deca",
   "metadata": {},
   "outputs": [],
   "source": [
    "# Importing the NumPy library\n",
    "# NumPy is a powerful Python library used for numerical computations\n",
    "# It provides support for arrays, matrices, and many mathematical functions\n",
    "import numpy as np"
   ]
  },
  {
   "cell_type": "code",
   "execution_count": 2,
   "id": "43be7511-9598-43d0-af7c-b81c81f358e8",
   "metadata": {},
   "outputs": [
    {
     "name": "stdout",
     "output_type": "stream",
     "text": [
      "[  1   3   2  24  26  15   6   7  18   6  56  42   5   3  23   4 544]\n"
     ]
    }
   ],
   "source": [
    "# Creating a NumPy array using np.array()\n",
    "# The array contains a list of integers\n",
    "arr = np.array([1, 3, 2, 24, 26, 15, 6, 7, 18, 6, 56, 42, 5, 3, 23, 4, 544])\n",
    "\n",
    "# Printing the array\n",
    "print(arr)"
   ]
  },
  {
   "cell_type": "code",
   "execution_count": 3,
   "id": "e8aa5980-f396-4c2f-8272-0723ec101bcd",
   "metadata": {},
   "outputs": [
    {
     "name": "stdout",
     "output_type": "stream",
     "text": [
      "4.0\n"
     ]
    }
   ],
   "source": [
    "# Calculating the 25th percentile (Q1) of the array\n",
    "# Percentile divides the data into 100 equal parts\n",
    "# Q1 (25th percentile) means 25% of the data lies below this value\n",
    "Q1 = np.percentile(arr, 25)\n",
    "\n",
    "# Printing Q1 value\n",
    "print(Q1)"
   ]
  },
  {
   "cell_type": "code",
   "execution_count": 4,
   "id": "db09be9e-612a-4cda-a406-46906e5b3b72",
   "metadata": {},
   "outputs": [
    {
     "name": "stdout",
     "output_type": "stream",
     "text": [
      "7.0\n"
     ]
    }
   ],
   "source": [
    "# Calculating the 50th percentile (Q2) of the array\n",
    "# Q2 is the median → it divides the data into two equal halves\n",
    "Q2 = np.percentile(arr, 50)\n",
    "\n",
    "# Printing Q2 value\n",
    "print(Q2)"
   ]
  },
  {
   "cell_type": "code",
   "execution_count": 5,
   "id": "8c6a58af-2b83-42ea-9555-bf9bf25e23f2",
   "metadata": {},
   "outputs": [
    {
     "name": "stdout",
     "output_type": "stream",
     "text": [
      "24.0\n"
     ]
    }
   ],
   "source": [
    "# Calculating the 75th percentile (Q3) of the array\n",
    "# Q3 means 75% of the data lies below this value\n",
    "Q3 = np.percentile(arr, 75)\n",
    "\n",
    "# Printing Q3 value\n",
    "print(Q3)"
   ]
  },
  {
   "cell_type": "code",
   "execution_count": 6,
   "id": "215bc931-863c-4e7f-b649-31ce6c55a59c",
   "metadata": {},
   "outputs": [
    {
     "name": "stdout",
     "output_type": "stream",
     "text": [
      "20.0\n"
     ]
    }
   ],
   "source": [
    "# Calculating the Interquartile Range (IQR)\n",
    "# IQR = Q3 - Q1\n",
    "# It measures the spread of the middle 50% of the data\n",
    "IQR = Q3 - Q1\n",
    "\n",
    "# Printing the IQR value\n",
    "print(IQR)"
   ]
  },
  {
   "cell_type": "code",
   "execution_count": 7,
   "id": "95894b9e-a0f4-450d-bd82-7e05912ed07c",
   "metadata": {},
   "outputs": [
    {
     "data": {
      "text/plain": [
       "np.float64(-26.0)"
      ]
     },
     "execution_count": 7,
     "metadata": {},
     "output_type": "execute_result"
    }
   ],
   "source": [
    "# Calculating the Lower Fence (LF) for outlier detection\n",
    "# LF = Q1 - 1.5 * IQR\n",
    "# Any data point below LF is considered a lower outlier\n",
    "LF = Q1 - 1.5 * IQR  \n",
    "\n",
    "# Example calculation with values\n",
    "# LF = 4.0 - 1.5 * 20.0\n",
    "LF"
   ]
  },
  {
   "cell_type": "code",
   "execution_count": 8,
   "id": "e93cfa7a-a08b-4d4a-a10d-df91198d22c0",
   "metadata": {},
   "outputs": [
    {
     "data": {
      "text/plain": [
       "np.float64(54.0)"
      ]
     },
     "execution_count": 8,
     "metadata": {},
     "output_type": "execute_result"
    }
   ],
   "source": [
    "# Calculating the Upper Fence (UF) for outlier detection\n",
    "# UF = Q3 + 1.5 * IQR\n",
    "# Any data point above UF is considered an upper outlier\n",
    "UF = Q3 + 1.5 * IQR  \n",
    "\n",
    "# Example calculation with values\n",
    "# UF = 24.0 + 1.5 * 20.0\n",
    "UF"
   ]
  },
  {
   "cell_type": "code",
   "execution_count": 9,
   "id": "17fc00f3-5f25-47fe-a99b-79c5c0eb07a4",
   "metadata": {},
   "outputs": [],
   "source": [
    "# Creating an empty list to store non-outlier values\n",
    "l = []\n",
    "\n",
    "# Looping through each element in the original array\n",
    "for i in arr:\n",
    "    # Check if the element is within the Lower and Upper Fence\n",
    "    if i >= LF and i <= UF:\n",
    "        # If yes, add it to the list\n",
    "        l.append(i)\n",
    "\n",
    "# Converting the list of non-outliers back into a NumPy array\n",
    "arr2 = np.array(l)"
   ]
  },
  {
   "cell_type": "code",
   "execution_count": 10,
   "id": "85d76c7a-ddf3-4ad6-8423-fa3ae96af45a",
   "metadata": {},
   "outputs": [
    {
     "name": "stdout",
     "output_type": "stream",
     "text": [
      "[  1   3   2  24  26  15   6   7  18   6  56  42   5   3  23   4 544]\n",
      "[ 1  3  2 24 26 15  6  7 18  6 42  5  3 23  4]\n"
     ]
    }
   ],
   "source": [
    "# Printing the original array\n",
    "print(arr)\n",
    "\n",
    "# Printing the array after removing outliers\n",
    "print(arr2)"
   ]
  },
  {
   "cell_type": "code",
   "execution_count": 11,
   "id": "a08e9d67-79b2-40f4-80da-1c80e1fbbb6c",
   "metadata": {},
   "outputs": [
    {
     "data": {
      "image/png": "[encoded data removed]",
      "text/plain": [
       "<Figure size 640x480 with 1 Axes>"
      ]
     },
     "metadata": {},
     "output_type": "display_data"
    }
   ],
   "source": [
    "# Importing Seaborn for advanced statistical plots\n",
    "import seaborn as sns\n",
    "\n",
    "# Importing Matplotlib for plotting\n",
    "import matplotlib.pyplot as plt\n",
    "\n",
    "# Creating a boxplot for the array 'arr'\n",
    "# This will show the distribution and highlight outliers\n",
    "sns.boxplot(x=arr)\n",
    "\n",
    "# Displaying the plot\n",
    "plt.show()"
   ]
  },
  {
   "cell_type": "code",
   "execution_count": 12,
   "id": "37242be7-024b-492b-bbe5-d3551a33c38c",
   "metadata": {},
   "outputs": [
    {
     "data": {
      "image/png": "[encoded data removed]",
      "text/plain": [
       "<Figure size 640x480 with 1 Axes>"
      ]
     },
     "metadata": {},
     "output_type": "display_data"
    }
   ],
   "source": [
    "# Creating a boxplot for the array 'arr2' (after removing outliers)\n",
    "# This boxplot will show the distribution without the outliers\n",
    "sns.boxplot(x=arr2)\n",
    "\n",
    "# Displaying the plot (currently commented out)\n",
    "plt.show()"
   ]
  },
  {
   "cell_type": "code",
   "execution_count": 13,
   "id": "3862ce7b-855b-4d36-a8c7-49ca871611e8",
   "metadata": {},
   "outputs": [
    {
     "data": {
      "text/plain": [
       "array([  1,   2,  34,  56,  78,  35,  67,  89,  12,  56, 555])"
      ]
     },
     "execution_count": 13,
     "metadata": {},
     "output_type": "execute_result"
    }
   ],
   "source": [
    "# Creating a new NumPy array 'a' with a list of integers\n",
    "a = np.array([1, 2, 34, 56, 78, 35, 67, 89, 12, 56, 555])\n",
    "\n",
    "# Displaying the array\n",
    "a"
   ]
  },
  {
   "cell_type": "code",
   "execution_count": 14,
   "id": "f012b815-463c-413d-8f99-489bff2365f1",
   "metadata": {},
   "outputs": [
    {
     "data": {
      "text/plain": [
       "np.float64(23.0)"
      ]
     },
     "execution_count": 14,
     "metadata": {},
     "output_type": "execute_result"
    }
   ],
   "source": [
    "# Calculating the 25th percentile (Q1) of array 'a'\n",
    "# Q1 represents the value below which 25% of the data falls\n",
    "Q1 = np.percentile(a, 25)\n",
    "\n",
    "# Displaying Q1 value\n",
    "Q1"
   ]
  },
  {
   "cell_type": "code",
   "execution_count": 16,
   "id": "460b5dfe-9e21-454e-abc8-d97046d561e7",
   "metadata": {},
   "outputs": [
    {
     "data": {
      "text/plain": [
       "np.float64(72.5)"
      ]
     },
     "execution_count": 16,
     "metadata": {},
     "output_type": "execute_result"
    }
   ],
   "source": [
    "# Calculating the 75th percentile (Q3) of array 'a'\n",
    "# Q3 represents the value below which 75% of the data falls\n",
    "Q3 = np.percentile(a, 75)\n",
    "\n",
    "# Displaying Q3 value\n",
    "Q3"
   ]
  },
  {
   "cell_type": "code",
   "execution_count": 17,
   "id": "5cf0eab6-d5a6-4357-8e88-ebb8d3a8e201",
   "metadata": {},
   "outputs": [
    {
     "data": {
      "text/plain": [
       "np.float64(49.5)"
      ]
     },
     "execution_count": 17,
     "metadata": {},
     "output_type": "execute_result"
    }
   ],
   "source": [
    "# Calculating the Interquartile Range (IQR) for array 'a'\n",
    "# IQR = Q3 - Q1\n",
    "# It measures the spread of the middle 50% of the data\n",
    "IQR = Q3 - Q1\n",
    "\n",
    "# Displaying the IQR value\n",
    "IQR"
   ]
  },
  {
   "cell_type": "code",
   "execution_count": 18,
   "id": "ca5d386f-3941-497a-b7bc-96c611a4d518",
   "metadata": {},
   "outputs": [
    {
     "data": {
      "text/plain": [
       "np.float64(-51.25)"
      ]
     },
     "execution_count": 18,
     "metadata": {},
     "output_type": "execute_result"
    }
   ],
   "source": [
    "# Calculating the Lower Fence (LF) for outlier detection in array 'a'\n",
    "# LF = Q1 - 1.5 * IQR\n",
    "# Any value below LF is considered a lower outlier\n",
    "LF = Q1 - 1.5 * IQR\n",
    "\n",
    "# Displaying the Lower Fence value\n",
    "LF"
   ]
  },
  {
   "cell_type": "code",
   "execution_count": 19,
   "id": "68ba9202-0dd8-4389-a6d8-ef9410e71b8c",
   "metadata": {},
   "outputs": [
    {
     "data": {
      "text/plain": [
       "np.float64(146.75)"
      ]
     },
     "execution_count": 19,
     "metadata": {},
     "output_type": "execute_result"
    }
   ],
   "source": [
    "# Calculating the Upper Fence (UF) for outlier detection in array 'a'\n",
    "# UF = Q3 + 1.5 * IQR\n",
    "# Any value above UF is considered an upper outlier\n",
    "UF = Q3 + 1.5 * IQR\n",
    "\n",
    "# Displaying the Upper Fence value\n",
    "UF"
   ]
  },
  {
   "cell_type": "code",
   "execution_count": 20,
   "id": "f681f70e-3e6f-4dc2-8f40-4d81a92b6dc5",
   "metadata": {},
   "outputs": [
    {
     "data": {
      "text/plain": [
       "<Axes: >"
      ]
     },
     "execution_count": 20,
     "metadata": {},
     "output_type": "execute_result"
    },
    {
     "data": {
      "image/png": "[encoded data removed]",
      "text/plain": [
       "<Figure size 640x480 with 1 Axes>"
      ]
     },
     "metadata": {},
     "output_type": "display_data"
    }
   ],
   "source": [
    "# Creating a boxplot for array 'a' which includes outliers\n",
    "# The boxplot will visualize the distribution and highlight any outliers\n",
    "sns.boxplot(x=a)"
   ]
  },
  {
   "cell_type": "code",
   "execution_count": 21,
   "id": "a2083430-36d0-4462-a337-8b348bfb8923",
   "metadata": {},
   "outputs": [],
   "source": [
    "# Creating an empty list to store non-outlier values from array 'a'\n",
    "l = []\n",
    "\n",
    "# Looping through each element in array 'a'\n",
    "for i in a:\n",
    "    # Check if the element is within the Lower and Upper Fence\n",
    "    if i >= LF and i <= UF:\n",
    "        # If yes, add it to the list\n",
    "        l.append(i)\n",
    "\n",
    "# Converting the list of non-outliers back into a NumPy array\n",
    "a1 = np.array(l)"
   ]
  },
  {
   "cell_type": "code",
   "execution_count": 22,
   "id": "d0fd542d-9758-4dd9-b91b-e5ae3d79fd2e",
   "metadata": {},
   "outputs": [
    {
     "data": {
      "text/plain": [
       "array([ 1,  2, 34, 56, 78, 35, 67, 89, 12, 56])"
      ]
     },
     "execution_count": 22,
     "metadata": {},
     "output_type": "execute_result"
    }
   ],
   "source": [
    "# Displaying the array 'a1' which contains values of 'a' after removing outliers\n",
    "a1"
   ]
  },
  {
   "cell_type": "code",
   "execution_count": 23,
   "id": "c79330bc-d39b-478d-9044-ec5f300e0586",
   "metadata": {},
   "outputs": [
    {
     "data": {
      "text/plain": [
       "<Axes: >"
      ]
     },
     "execution_count": 23,
     "metadata": {},
     "output_type": "execute_result"
    },
    {
     "data": {
      "image/png": "[encoded data removed]",
      "text/plain": [
       "<Figure size 640x480 with 1 Axes>"
      ]
     },
     "metadata": {},
     "output_type": "display_data"
    }
   ],
   "source": [
    "# Creating a boxplot for array 'a1' (after removing outliers)\n",
    "# This boxplot will show the distribution without the outliers\n",
    "sns.boxplot(x=a1)"
   ]
  },
  {
   "cell_type": "code",
   "execution_count": 24,
   "id": "5cbb9c16-9d57-4fbd-a8f5-3ae9ae21ca67",
   "metadata": {},
   "outputs": [
    {
     "data": {
      "text/plain": [
       "np.float64(7.0710678118654755)"
      ]
     },
     "execution_count": 24,
     "metadata": {},
     "output_type": "execute_result"
    }
   ],
   "source": [
    "# Calculating the square root of 50 using NumPy\n",
    "a = np.sqrt(50)\n",
    "\n",
    "# Displaying the result\n",
    "a"
   ]
  },
  {
   "cell_type": "code",
   "execution_count": 25,
   "id": "206b0a31-bd54-4078-8bed-110e269a978c",
   "metadata": {},
   "outputs": [
    {
     "data": {
      "text/plain": [
       "np.float64(43.0)"
      ]
     },
     "execution_count": 25,
     "metadata": {},
     "output_type": "execute_result"
    }
   ],
   "source": [
    "# Calculating the mean (average) of the array 'a1'\n",
    "# Mean = sum of all elements / number of elements\n",
    "np.mean(a1)"
   ]
  },
  {
   "cell_type": "code",
   "execution_count": 26,
   "id": "1227eb8c-c4f1-437b-a84a-49dbdb25eac1",
   "metadata": {},
   "outputs": [
    {
     "data": {
      "text/plain": [
       "np.float64(45.5)"
      ]
     },
     "execution_count": 26,
     "metadata": {},
     "output_type": "execute_result"
    }
   ],
   "source": [
    "# Calculating the median of the array 'a1'\n",
    "# Median is the middle value when the data is sorted\n",
    "np.median(a1)"
   ]
  },
  {
   "cell_type": "code",
   "execution_count": 27,
   "id": "efe6752b-50da-4602-8c92-34be5b77c5d7",
   "metadata": {},
   "outputs": [
    {
     "data": {
      "image/png": "[encoded data removed]",
      "text/plain": [
       "<Figure size 1500x400 with 3 Axes>"
      ]
     },
     "metadata": {},
     "output_type": "display_data"
    }
   ],
   "source": [
    "# Importing NumPy for numerical computations\n",
    "import numpy as np\n",
    "\n",
    "# Importing Matplotlib for plotting\n",
    "import matplotlib.pyplot as plt\n",
    "\n",
    "# Generate different types of data distributions\n",
    "\n",
    "# Normal (symmetric) distribution with mean=0, std=1, 1000 samples\n",
    "normal_data = np.random.normal(0, 1, 1000)\n",
    "\n",
    "# Right Skewed Distribution (RSD) using exponential distribution\n",
    "right_skew_data = np.random.exponential(1, 1000)\n",
    "\n",
    "# Left Skewed Distribution (LSD) using negative exponential\n",
    "left_skew_data = -np.random.exponential(1, 1000)\n",
    "\n",
    "# Set up the figure with 3 subplots in a single row\n",
    "plt.figure(figsize=(15, 4))\n",
    "\n",
    "# Plot Left Skewed Distribution (LSD)\n",
    "plt.subplot(1, 3, 1)\n",
    "plt.hist(left_skew_data, bins=30, density=True, color=\"salmon\", edgecolor=\"black\")\n",
    "plt.title(\"LSD (Left Skewed Distribution)\")\n",
    "plt.xlabel(\"Value\")\n",
    "plt.ylabel(\"Density\")\n",
    "\n",
    "# Plot Normal Distribution (Symmetric)\n",
    "plt.subplot(1, 3, 2)\n",
    "plt.hist(normal_data, bins=30, density=True, color=\"skyblue\", edgecolor=\"black\")\n",
    "plt.title(\"Normal Distribution (Symmetric)\")\n",
    "plt.xlabel(\"Value\")\n",
    "\n",
    "# Plot Right Skewed Distribution (RSD)\n",
    "plt.subplot(1, 3, 3)\n",
    "plt.hist(right_skew_data, bins=30, density=True, color=\"lightgreen\", edgecolor=\"black\")\n",
    "plt.title(\"RSD (Right Skewed Distribution)\")\n",
    "plt.xlabel(\"Value\")\n",
    "\n",
    "# Adjust spacing to prevent overlap\n",
    "plt.tight_layout()\n",
    "\n",
    "# Display all three histograms\n",
    "plt.show()"
   ]
  },
  {
   "cell_type": "code",
   "execution_count": 28,
   "id": "518a85fa-b1d6-49f1-b3a2-3b068077f430",
   "metadata": {},
   "outputs": [
    {
     "data": {
      "text/plain": [
       "array([ 1,  2,  2,  3,  4,  4,  5,  5,  6,  7,  7,  8, 98, 99])"
      ]
     },
     "execution_count": 28,
     "metadata": {},
     "output_type": "execute_result"
    }
   ],
   "source": [
    "# Creating a NumPy array 's' with a list of integers\n",
    "s = np.array([1, 2, 2, 3, 4, 4, 5, 5, 6, 7, 7, 8, 98, 99])\n",
    "\n",
    "# Displaying the array\n",
    "s"
   ]
  },
  {
   "cell_type": "code",
   "execution_count": 29,
   "id": "ae1b22f2-946c-4edb-83ec-bd1ca05dabc3",
   "metadata": {},
   "outputs": [
    {
     "data": {
      "image/png": "[encoded data removed]",
      "text/plain": [
       "<Figure size 640x480 with 1 Axes>"
      ]
     },
     "metadata": {},
     "output_type": "display_data"
    }
   ],
   "source": [
    "# Creating a histogram of array 's' using Seaborn\n",
    "# Histograms show the frequency of each value in the dataset\n",
    "p = sns.histplot(x=s)"
   ]
  },
  {
   "cell_type": "code",
   "execution_count": 30,
   "id": "7e3c89be-0883-4d60-adfe-66ba52edb9fe",
   "metadata": {},
   "outputs": [
    {
     "data": {
      "image/png": "[encoded data removed]",
      "text/plain": [
       "<Figure size 640x480 with 1 Axes>"
      ]
     },
     "metadata": {},
     "output_type": "display_data"
    }
   ],
   "source": [
    "# Creating a boxplot of array 's' using Seaborn\n",
    "# The boxplot visualizes the distribution and highlights any outliers\n",
    "p = sns.boxplot(x=s)"
   ]
  },
  {
   "cell_type": "code",
   "execution_count": 31,
   "id": "2f547226-9418-431c-b303-2124f5ed7dde",
   "metadata": {},
   "outputs": [
    {
     "data": {
      "image/png": "[encoded data removed]",
      "text/plain": [
       "<Figure size 640x480 with 1 Axes>"
      ]
     },
     "metadata": {},
     "output_type": "display_data"
    }
   ],
   "source": [
    "# Creating a bar plot of array 's' using Seaborn\n",
    "# Each value in the array 's' is treated as a separate category\n",
    "p = sns.barplot(x=s)"
   ]
  },
  {
   "cell_type": "code",
   "execution_count": 32,
   "id": "c122aea7-61a7-476e-bb5c-d715594eb0a5",
   "metadata": {},
   "outputs": [
    {
     "data": {
      "image/png": "[encoded data removed]",
      "text/plain": [
       "<Figure size 640x480 with 1 Axes>"
      ]
     },
     "metadata": {},
     "output_type": "display_data"
    }
   ],
   "source": [
    "import pandas as pd\n",
    "\n",
    "# Create a simple dataframe with x and y values\n",
    "df = pd.DataFrame({'x': s, 'y': range(len(s))})\n",
    "\n",
    "# Barplot with x and y\n",
    "p = sns.barplot(x='x', y='y', data=df)"
   ]
  },
  {
   "cell_type": "code",
   "execution_count": 33,
   "id": "5da89b8f-2bff-4cd7-9fe5-fb66b4803ef0",
   "metadata": {},
   "outputs": [
    {
     "data": {
      "image/png": "[encoded data removed]",
      "text/plain": [
       "<Figure size 640x480 with 1 Axes>"
      ]
     },
     "metadata": {},
     "output_type": "display_data"
    }
   ],
   "source": [
    "# Creating a bar plot showing the frequency of each value in array 's'\n",
    "# countplot automatically counts how many times each value appears\n",
    "p = sns.countplot(x=s)"
   ]
  }
 ],
 "metadata": {
  "kernelspec": {
   "display_name": "Python 3 (ipykernel)",
   "language": "python",
   "name": "python3"
  },
  "language_info": {
   "codemirror_mode": {
    "name": "ipython",
    "version": 3
   },
   "file_extension": ".py",
   "mimetype": "text/x-python",
   "name": "python",
   "nbconvert_exporter": "python",
   "pygments_lexer": "ipython3",
   "version": "3.13.5"
  },
  "widgets": {
   "application/vnd.jupyter.widget-state+json": {
    "state": {},
    "version_major": 2,
    "version_minor": 0
   }
  }
 },
 "nbformat": 4,
 "nbformat_minor": 5
}
