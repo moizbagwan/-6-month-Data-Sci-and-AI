{
  "cells": [
    {
      "cell_type": "code",
      "execution_count": 2,
      "metadata": {
        "colab": {
          "base_uri": "https://localhost:8080/"
        },
        "id": "Hd0dl5knrB2q",
        "outputId": "4c954d2a-9441-45eb-de84-8cf45e5a22b0"
      },
      "outputs": [
        {
          "name": "stderr",
          "output_type": "stream",
          "text": [
            "[nltk_data] Downloading package punkt_tab to\n",
            "[nltk_data]     C:\\Users\\hp\\AppData\\Roaming\\nltk_data...\n",
            "[nltk_data]   Package punkt_tab is already up-to-date!\n",
            "[nltk_data] Downloading package wordnet to\n",
            "[nltk_data]     C:\\Users\\hp\\AppData\\Roaming\\nltk_data...\n",
            "[nltk_data]   Package wordnet is already up-to-date!\n",
            "[nltk_data] Downloading package stopwords to\n",
            "[nltk_data]     C:\\Users\\hp\\AppData\\Roaming\\nltk_data...\n",
            "[nltk_data]   Package stopwords is already up-to-date!\n",
            "[nltk_data] Downloading package averaged_perceptron_tagger_eng to\n",
            "[nltk_data]     C:\\Users\\hp\\AppData\\Roaming\\nltk_data...\n",
            "[nltk_data]   Package averaged_perceptron_tagger_eng is already up-to-\n",
            "[nltk_data]       date!\n",
            "[nltk_data] Downloading package maxent_ne_chunker_tab to\n",
            "[nltk_data]     C:\\Users\\hp\\AppData\\Roaming\\nltk_data...\n",
            "[nltk_data]   Package maxent_ne_chunker_tab is already up-to-date!\n",
            "[nltk_data] Downloading package words to\n",
            "[nltk_data]     C:\\Users\\hp\\AppData\\Roaming\\nltk_data...\n",
            "[nltk_data]   Package words is already up-to-date!\n"
          ]
        },
        {
          "data": {
            "text/plain": [
              "True"
            ]
          },
          "execution_count": 2,
          "metadata": {},
          "output_type": "execute_result"
        }
      ],
      "source": [
        "import nltk\n",
        "nltk.download('punkt_tab')\n",
        "nltk.download('wordnet')\n",
        "nltk.download('stopwords')\n",
        "nltk.download('averaged_perceptron_tagger_eng')\n",
        "nltk.download('maxent_ne_chunker_tab')\n",
        "nltk.download('words')"
      ]
    },
    {
      "cell_type": "code",
      "execution_count": 3,
      "metadata": {
        "id": "iTTaiMostIE-"
      },
      "outputs": [],
      "source": [
        "AI = '''Artificial Intelligence refers to the intelligence of machines. This is in contrast to the natural intelligence of\n",
        "humans and animals. With Artificial Intelligence, machines perform functions such as learning, planning, reasoning and\n",
        "problem-solving. Most noteworthy, Artificial Intelligence is the simulation of human intelligence by machines.\n",
        "It is probably the fastest-growing development in the World of technology and innovation. Furthermore, many experts believe\n",
        "AI could solve major challenges and crisis situations.'''"
      ]
    },
    {
      "cell_type": "code",
      "execution_count": 4,
      "metadata": {
        "colab": {
          "base_uri": "https://localhost:8080/",
          "height": 90
        },
        "id": "1-Hefc4ztMc8",
        "outputId": "e79bf199-9475-4b63-9dda-4e2997fdccf4"
      },
      "outputs": [
        {
          "data": {
            "text/plain": [
              "'Artificial Intelligence refers to the intelligence of machines. This is in contrast to the natural intelligence of\\nhumans and animals. With Artificial Intelligence, machines perform functions such as learning, planning, reasoning and\\nproblem-solving. Most noteworthy, Artificial Intelligence is the simulation of human intelligence by machines.\\nIt is probably the fastest-growing development in the World of technology and innovation. Furthermore, many experts believe\\nAI could solve major challenges and crisis situations.'"
            ]
          },
          "execution_count": 4,
          "metadata": {},
          "output_type": "execute_result"
        }
      ],
      "source": [
        "AI"
      ]
    },
    {
      "cell_type": "code",
      "execution_count": 5,
      "metadata": {
        "colab": {
          "base_uri": "https://localhost:8080/"
        },
        "id": "PH6_RlRKtNWB",
        "outputId": "8fcfd1d5-dad1-4dcb-99e3-47209502c7e3"
      },
      "outputs": [
        {
          "data": {
            "text/plain": [
              "str"
            ]
          },
          "execution_count": 5,
          "metadata": {},
          "output_type": "execute_result"
        }
      ],
      "source": [
        "type(AI)"
      ]
    },
    {
      "cell_type": "code",
      "execution_count": 6,
      "metadata": {
        "id": "WdSnMDmwtPf6"
      },
      "outputs": [],
      "source": [
        "from nltk.tokenize import word_tokenize"
      ]
    },
    {
      "cell_type": "code",
      "execution_count": 7,
      "metadata": {
        "colab": {
          "base_uri": "https://localhost:8080/"
        },
        "id": "9H5kJzU_tUer",
        "outputId": "88566419-4ac1-4bef-8213-42bc5120dbe0"
      },
      "outputs": [
        {
          "data": {
            "text/plain": [
              "['Artificial',\n",
              " 'Intelligence',\n",
              " 'refers',\n",
              " 'to',\n",
              " 'the',\n",
              " 'intelligence',\n",
              " 'of',\n",
              " 'machines',\n",
              " '.',\n",
              " 'This',\n",
              " 'is',\n",
              " 'in',\n",
              " 'contrast',\n",
              " 'to',\n",
              " 'the',\n",
              " 'natural',\n",
              " 'intelligence',\n",
              " 'of',\n",
              " 'humans',\n",
              " 'and',\n",
              " 'animals',\n",
              " '.',\n",
              " 'With',\n",
              " 'Artificial',\n",
              " 'Intelligence',\n",
              " ',',\n",
              " 'machines',\n",
              " 'perform',\n",
              " 'functions',\n",
              " 'such',\n",
              " 'as',\n",
              " 'learning',\n",
              " ',',\n",
              " 'planning',\n",
              " ',',\n",
              " 'reasoning',\n",
              " 'and',\n",
              " 'problem-solving',\n",
              " '.',\n",
              " 'Most',\n",
              " 'noteworthy',\n",
              " ',',\n",
              " 'Artificial',\n",
              " 'Intelligence',\n",
              " 'is',\n",
              " 'the',\n",
              " 'simulation',\n",
              " 'of',\n",
              " 'human',\n",
              " 'intelligence',\n",
              " 'by',\n",
              " 'machines',\n",
              " '.',\n",
              " 'It',\n",
              " 'is',\n",
              " 'probably',\n",
              " 'the',\n",
              " 'fastest-growing',\n",
              " 'development',\n",
              " 'in',\n",
              " 'the',\n",
              " 'World',\n",
              " 'of',\n",
              " 'technology',\n",
              " 'and',\n",
              " 'innovation',\n",
              " '.',\n",
              " 'Furthermore',\n",
              " ',',\n",
              " 'many',\n",
              " 'experts',\n",
              " 'believe',\n",
              " 'AI',\n",
              " 'could',\n",
              " 'solve',\n",
              " 'major',\n",
              " 'challenges',\n",
              " 'and',\n",
              " 'crisis',\n",
              " 'situations',\n",
              " '.']"
            ]
          },
          "execution_count": 7,
          "metadata": {},
          "output_type": "execute_result"
        }
      ],
      "source": [
        "AI_tokens = word_tokenize(AI)\n",
        "AI_tokens"
      ]
    },
    {
      "cell_type": "code",
      "execution_count": 8,
      "metadata": {
        "colab": {
          "base_uri": "https://localhost:8080/"
        },
        "id": "Yx0poUd30gdM",
        "outputId": "244be21f-8f0f-4c32-b960-9f807febdca9"
      },
      "outputs": [
        {
          "data": {
            "text/plain": [
              "81"
            ]
          },
          "execution_count": 8,
          "metadata": {},
          "output_type": "execute_result"
        }
      ],
      "source": [
        "len(AI_tokens)"
      ]
    },
    {
      "cell_type": "code",
      "execution_count": 9,
      "metadata": {
        "colab": {
          "base_uri": "https://localhost:8080/",
          "height": 90
        },
        "id": "RuLwyV1t0gg7",
        "outputId": "d5aa2cb8-2ea3-4294-a0af-38fe080931e4"
      },
      "outputs": [
        {
          "data": {
            "text/plain": [
              "'Artificial Intelligence refers to the intelligence of machines. This is in contrast to the natural intelligence of\\nhumans and animals. With Artificial Intelligence, machines perform functions such as learning, planning, reasoning and\\nproblem-solving. Most noteworthy, Artificial Intelligence is the simulation of human intelligence by machines.\\nIt is probably the fastest-growing development in the World of technology and innovation. Furthermore, many experts believe\\nAI could solve major challenges and crisis situations.'"
            ]
          },
          "execution_count": 9,
          "metadata": {},
          "output_type": "execute_result"
        }
      ],
      "source": [
        "AI"
      ]
    },
    {
      "cell_type": "code",
      "execution_count": 10,
      "metadata": {
        "id": "kVtzPq2c0gnW"
      },
      "outputs": [],
      "source": [
        "from nltk.tokenize import sent_tokenize"
      ]
    },
    {
      "cell_type": "code",
      "execution_count": 11,
      "metadata": {
        "colab": {
          "base_uri": "https://localhost:8080/"
        },
        "id": "35IoaVg80gqu",
        "outputId": "b569d1b7-34a3-4340-a40d-be9c6aa2f6d9"
      },
      "outputs": [
        {
          "data": {
            "text/plain": [
              "['Artificial Intelligence refers to the intelligence of machines.',\n",
              " 'This is in contrast to the natural intelligence of\\nhumans and animals.',\n",
              " 'With Artificial Intelligence, machines perform functions such as learning, planning, reasoning and\\nproblem-solving.',\n",
              " 'Most noteworthy, Artificial Intelligence is the simulation of human intelligence by machines.',\n",
              " 'It is probably the fastest-growing development in the World of technology and innovation.',\n",
              " 'Furthermore, many experts believe\\nAI could solve major challenges and crisis situations.']"
            ]
          },
          "execution_count": 11,
          "metadata": {},
          "output_type": "execute_result"
        }
      ],
      "source": [
        "AI_sent = sent_tokenize(AI)\n",
        "AI_sent"
      ]
    },
    {
      "cell_type": "code",
      "execution_count": 12,
      "metadata": {
        "colab": {
          "base_uri": "https://localhost:8080/"
        },
        "id": "-5eCdRiD4hzs",
        "outputId": "bbfa5bc3-e3e5-4ff1-d750-53d06bcc85ae"
      },
      "outputs": [
        {
          "data": {
            "text/plain": [
              "6"
            ]
          },
          "execution_count": 12,
          "metadata": {},
          "output_type": "execute_result"
        }
      ],
      "source": [
        "len(AI_sent)"
      ]
    },
    {
      "cell_type": "code",
      "execution_count": 13,
      "metadata": {
        "colab": {
          "base_uri": "https://localhost:8080/",
          "height": 90
        },
        "id": "I9YtqUnd4mOd",
        "outputId": "feb436c8-ebf3-414b-8afb-f6afbf671576"
      },
      "outputs": [
        {
          "data": {
            "text/plain": [
              "'Artificial Intelligence refers to the intelligence of machines. This is in contrast to the natural intelligence of\\nhumans and animals. With Artificial Intelligence, machines perform functions such as learning, planning, reasoning and\\nproblem-solving. Most noteworthy, Artificial Intelligence is the simulation of human intelligence by machines.\\nIt is probably the fastest-growing development in the World of technology and innovation. Furthermore, many experts believe\\nAI could solve major challenges and crisis situations.'"
            ]
          },
          "execution_count": 13,
          "metadata": {},
          "output_type": "execute_result"
        }
      ],
      "source": [
        "AI"
      ]
    },
    {
      "cell_type": "code",
      "execution_count": 14,
      "metadata": {
        "colab": {
          "base_uri": "https://localhost:8080/"
        },
        "id": "JTK_YlqY43e4",
        "outputId": "5487aa47-fcde-4d6f-cc16-692900d53641"
      },
      "outputs": [
        {
          "data": {
            "text/plain": [
              "['Artificial Intelligence refers to the intelligence of machines. This is in contrast to the natural intelligence of\\nhumans and animals. With Artificial Intelligence, machines perform functions such as learning, planning, reasoning and\\nproblem-solving. Most noteworthy, Artificial Intelligence is the simulation of human intelligence by machines.\\nIt is probably the fastest-growing development in the World of technology and innovation. Furthermore, many experts believe\\nAI could solve major challenges and crisis situations.']"
            ]
          },
          "execution_count": 14,
          "metadata": {},
          "output_type": "execute_result"
        }
      ],
      "source": [
        "from nltk.tokenize import blankline_tokenize\n",
        "\n",
        "AI_blank = blankline_tokenize(AI)\n",
        "AI_blank"
      ]
    },
    {
      "cell_type": "code",
      "execution_count": 15,
      "metadata": {
        "colab": {
          "base_uri": "https://localhost:8080/"
        },
        "id": "EQdsZlru4-cR",
        "outputId": "853d389b-e04b-4249-f36c-ea2e3caf3331"
      },
      "outputs": [
        {
          "data": {
            "text/plain": [
              "['Artificial',\n",
              " 'Intelligence',\n",
              " 'refers',\n",
              " 'to',\n",
              " 'the',\n",
              " 'intelligence',\n",
              " 'of',\n",
              " 'machines.',\n",
              " 'This',\n",
              " 'is',\n",
              " 'in',\n",
              " 'contrast',\n",
              " 'to',\n",
              " 'the',\n",
              " 'natural',\n",
              " 'intelligence',\n",
              " 'of',\n",
              " 'humans',\n",
              " 'and',\n",
              " 'animals.',\n",
              " 'With',\n",
              " 'Artificial',\n",
              " 'Intelligence,',\n",
              " 'machines',\n",
              " 'perform',\n",
              " 'functions',\n",
              " 'such',\n",
              " 'as',\n",
              " 'learning,',\n",
              " 'planning,',\n",
              " 'reasoning',\n",
              " 'and',\n",
              " 'problem-solving.',\n",
              " 'Most',\n",
              " 'noteworthy,',\n",
              " 'Artificial',\n",
              " 'Intelligence',\n",
              " 'is',\n",
              " 'the',\n",
              " 'simulation',\n",
              " 'of',\n",
              " 'human',\n",
              " 'intelligence',\n",
              " 'by',\n",
              " 'machines.',\n",
              " 'It',\n",
              " 'is',\n",
              " 'probably',\n",
              " 'the',\n",
              " 'fastest-growing',\n",
              " 'development',\n",
              " 'in',\n",
              " 'the',\n",
              " 'World',\n",
              " 'of',\n",
              " 'technology',\n",
              " 'and',\n",
              " 'innovation.',\n",
              " 'Furthermore,',\n",
              " 'many',\n",
              " 'experts',\n",
              " 'believe',\n",
              " 'AI',\n",
              " 'could',\n",
              " 'solve',\n",
              " 'major',\n",
              " 'challenges',\n",
              " 'and',\n",
              " 'crisis',\n",
              " 'situations.']"
            ]
          },
          "execution_count": 15,
          "metadata": {},
          "output_type": "execute_result"
        }
      ],
      "source": [
        "from nltk.tokenize import WhitespaceTokenizer\n",
        "\n",
        "wt = WhitespaceTokenizer().tokenize(AI)\n",
        "wt"
      ]
    },
    {
      "cell_type": "code",
      "execution_count": 16,
      "metadata": {
        "colab": {
          "base_uri": "https://localhost:8080/"
        },
        "id": "1mMsrf4P5g9-",
        "outputId": "cd128957-5831-4162-b344-06308784cfb2"
      },
      "outputs": [
        {
          "data": {
            "text/plain": [
              "70"
            ]
          },
          "execution_count": 16,
          "metadata": {},
          "output_type": "execute_result"
        }
      ],
      "source": [
        "len(wt)"
      ]
    },
    {
      "cell_type": "code",
      "execution_count": 17,
      "metadata": {
        "colab": {
          "base_uri": "https://localhost:8080/",
          "height": 36
        },
        "id": "iGnQECnh57M2",
        "outputId": "2537e283-68dd-400f-af82-f3a449917d7c"
      },
      "outputs": [
        {
          "data": {
            "text/plain": [
              "'Good apple cost $3.88 in hydrabad. please buy two of them. Thnaks.'"
            ]
          },
          "execution_count": 17,
          "metadata": {},
          "output_type": "execute_result"
        }
      ],
      "source": [
        "# Another Statement:\n",
        "\n",
        "s = \"Good apple cost $3.88 in hydrabad. please buy two of them. Thnaks.\"\n",
        "s"
      ]
    },
    {
      "cell_type": "code",
      "execution_count": 18,
      "metadata": {
        "colab": {
          "base_uri": "https://localhost:8080/"
        },
        "id": "xfZkVUUU6W1n",
        "outputId": "0ef1b2c9-c013-46f8-e10b-0ba6aafd0948"
      },
      "outputs": [
        {
          "data": {
            "text/plain": [
              "['Good',\n",
              " 'apple',\n",
              " 'cost',\n",
              " '$',\n",
              " '3',\n",
              " '.',\n",
              " '88',\n",
              " 'in',\n",
              " 'hydrabad',\n",
              " '.',\n",
              " 'please',\n",
              " 'buy',\n",
              " 'two',\n",
              " 'of',\n",
              " 'them',\n",
              " '.',\n",
              " 'Thnaks',\n",
              " '.']"
            ]
          },
          "execution_count": 18,
          "metadata": {},
          "output_type": "execute_result"
        }
      ],
      "source": [
        "from nltk.tokenize import wordpunct_tokenize\n",
        "wordpunct_tokenize(s)"
      ]
    },
    {
      "cell_type": "code",
      "execution_count": 19,
      "metadata": {
        "colab": {
          "base_uri": "https://localhost:8080/"
        },
        "id": "DBjZxTPh6raw",
        "outputId": "f05c4892-4536-4e38-dfc8-c7c32a2b49db"
      },
      "outputs": [
        {
          "data": {
            "text/plain": [
              "66"
            ]
          },
          "execution_count": 19,
          "metadata": {},
          "output_type": "execute_result"
        }
      ],
      "source": [
        "len(s)"
      ]
    },
    {
      "cell_type": "code",
      "execution_count": 20,
      "metadata": {
        "colab": {
          "base_uri": "https://localhost:8080/"
        },
        "id": "N1_zRwyu7HM7",
        "outputId": "ee403497-fc3b-4ced-8020-0bb600356f25"
      },
      "outputs": [
        {
          "data": {
            "text/plain": [
              "['Artificial',\n",
              " 'Intelligence',\n",
              " 'refers',\n",
              " 'to',\n",
              " 'the',\n",
              " 'intelligence',\n",
              " 'of',\n",
              " 'machines',\n",
              " '.',\n",
              " 'This',\n",
              " 'is',\n",
              " 'in',\n",
              " 'contrast',\n",
              " 'to',\n",
              " 'the',\n",
              " 'natural',\n",
              " 'intelligence',\n",
              " 'of',\n",
              " 'humans',\n",
              " 'and',\n",
              " 'animals',\n",
              " '.',\n",
              " 'With',\n",
              " 'Artificial',\n",
              " 'Intelligence',\n",
              " ',',\n",
              " 'machines',\n",
              " 'perform',\n",
              " 'functions',\n",
              " 'such',\n",
              " 'as',\n",
              " 'learning',\n",
              " ',',\n",
              " 'planning',\n",
              " ',',\n",
              " 'reasoning',\n",
              " 'and',\n",
              " 'problem',\n",
              " '-',\n",
              " 'solving',\n",
              " '.',\n",
              " 'Most',\n",
              " 'noteworthy',\n",
              " ',',\n",
              " 'Artificial',\n",
              " 'Intelligence',\n",
              " 'is',\n",
              " 'the',\n",
              " 'simulation',\n",
              " 'of',\n",
              " 'human',\n",
              " 'intelligence',\n",
              " 'by',\n",
              " 'machines',\n",
              " '.',\n",
              " 'It',\n",
              " 'is',\n",
              " 'probably',\n",
              " 'the',\n",
              " 'fastest',\n",
              " '-',\n",
              " 'growing',\n",
              " 'development',\n",
              " 'in',\n",
              " 'the',\n",
              " 'World',\n",
              " 'of',\n",
              " 'technology',\n",
              " 'and',\n",
              " 'innovation',\n",
              " '.',\n",
              " 'Furthermore',\n",
              " ',',\n",
              " 'many',\n",
              " 'experts',\n",
              " 'believe',\n",
              " 'AI',\n",
              " 'could',\n",
              " 'solve',\n",
              " 'major',\n",
              " 'challenges',\n",
              " 'and',\n",
              " 'crisis',\n",
              " 'situations',\n",
              " '.']"
            ]
          },
          "execution_count": 20,
          "metadata": {},
          "output_type": "execute_result"
        }
      ],
      "source": [
        "w_p = wordpunct_tokenize(AI)\n",
        "w_p"
      ]
    },
    {
      "cell_type": "code",
      "execution_count": 21,
      "metadata": {
        "colab": {
          "base_uri": "https://localhost:8080/"
        },
        "id": "v8sBSBsb7T0l",
        "outputId": "0cf438f2-3b88-4ecd-9649-222ee22221c1"
      },
      "outputs": [
        {
          "data": {
            "text/plain": [
              "85"
            ]
          },
          "execution_count": 21,
          "metadata": {},
          "output_type": "execute_result"
        }
      ],
      "source": [
        "len(w_p)"
      ]
    },
    {
      "cell_type": "code",
      "execution_count": 22,
      "metadata": {
        "id": "FOThz8j87X7V"
      },
      "outputs": [],
      "source": [
        "# NEXT WE WILL SEE HOW WE WILL USE UNI_GRAM, BI_GRAM, TRI_GRAM USING NLTK.\n",
        "from nltk.util import bigrams, trigrams, ngrams"
      ]
    },
    {
      "cell_type": "code",
      "execution_count": 23,
      "metadata": {
        "colab": {
          "base_uri": "https://localhost:8080/"
        },
        "id": "Gh6LEnQh8iAc",
        "outputId": "a70bc886-51e0-4273-9eef-4673bd8703d0"
      },
      "outputs": [
        {
          "name": "stdout",
          "output_type": "stream",
          "text": [
            "['We', 'are', 'learner', 'of', 'senapathi', 'from', '7pm', 'batch', '.']\n"
          ]
        }
      ],
      "source": [
        "string = 'We are learner of senapathi from 7pm batch.'\n",
        "quotes_tokens = nltk.word_tokenize(string)\n",
        "print(quotes_tokens)\n"
      ]
    },
    {
      "cell_type": "code",
      "execution_count": 24,
      "metadata": {
        "colab": {
          "base_uri": "https://localhost:8080/",
          "height": 36
        },
        "id": "5rLx4P4l84op",
        "outputId": "2fc1dfae-ad37-450c-e4b1-e101416705a4"
      },
      "outputs": [
        {
          "data": {
            "text/plain": [
              "'We are learner of senapathi from 7pm batch.'"
            ]
          },
          "execution_count": 24,
          "metadata": {},
          "output_type": "execute_result"
        }
      ],
      "source": [
        "string"
      ]
    },
    {
      "cell_type": "code",
      "execution_count": 25,
      "metadata": {
        "colab": {
          "base_uri": "https://localhost:8080/"
        },
        "id": "WEBELswH9IYR",
        "outputId": "aad15f08-e528-465b-a9ca-894174004c56"
      },
      "outputs": [
        {
          "data": {
            "text/plain": [
              "['We', 'are', 'learner', 'of', 'senapathi', 'from', '7pm', 'batch', '.']"
            ]
          },
          "execution_count": 25,
          "metadata": {},
          "output_type": "execute_result"
        }
      ],
      "source": [
        "quotes_tokens"
      ]
    },
    {
      "cell_type": "code",
      "execution_count": 26,
      "metadata": {
        "colab": {
          "base_uri": "https://localhost:8080/"
        },
        "id": "uca7FlEl9lPI",
        "outputId": "d08229ec-30ca-4403-c121-918bb773e384"
      },
      "outputs": [
        {
          "data": {
            "text/plain": [
              "9"
            ]
          },
          "execution_count": 26,
          "metadata": {},
          "output_type": "execute_result"
        }
      ],
      "source": [
        "len(quotes_tokens)"
      ]
    },
    {
      "cell_type": "code",
      "execution_count": 27,
      "metadata": {
        "colab": {
          "base_uri": "https://localhost:8080/"
        },
        "id": "n2vtQU_G9scN",
        "outputId": "717995b1-b569-4f78-84df-d4feb6cbfc98"
      },
      "outputs": [
        {
          "data": {
            "text/plain": [
              "[('We', 'are'),\n",
              " ('are', 'learner'),\n",
              " ('learner', 'of'),\n",
              " ('of', 'senapathi'),\n",
              " ('senapathi', 'from'),\n",
              " ('from', '7pm'),\n",
              " ('7pm', 'batch'),\n",
              " ('batch', '.')]"
            ]
          },
          "execution_count": 27,
          "metadata": {},
          "output_type": "execute_result"
        }
      ],
      "source": [
        "quotes_bigrams = list(nltk.bigrams(quotes_tokens))  # Bigram\n",
        "quotes_bigrams"
      ]
    },
    {
      "cell_type": "code",
      "execution_count": 28,
      "metadata": {
        "colab": {
          "base_uri": "https://localhost:8080/"
        },
        "id": "zEXYNw9q-F42",
        "outputId": "d9a86b69-694a-4ad3-80a0-61a9b4bb0557"
      },
      "outputs": [
        {
          "data": {
            "text/plain": [
              "[('We', 'are', 'learner'),\n",
              " ('are', 'learner', 'of'),\n",
              " ('learner', 'of', 'senapathi'),\n",
              " ('of', 'senapathi', 'from'),\n",
              " ('senapathi', 'from', '7pm'),\n",
              " ('from', '7pm', 'batch'),\n",
              " ('7pm', 'batch', '.')]"
            ]
          },
          "execution_count": 28,
          "metadata": {},
          "output_type": "execute_result"
        }
      ],
      "source": [
        "quotes_trigram = list(ngrams(quotes_tokens, 3)) # Trigram\n",
        "quotes_trigram"
      ]
    },
    {
      "cell_type": "code",
      "execution_count": 29,
      "metadata": {
        "colab": {
          "base_uri": "https://localhost:8080/",
          "height": 163
        },
        "id": "cjbFgU9__5F1",
        "outputId": "7e57ea3e-e24a-4a88-a919-65ac5a14b644"
      },
      "outputs": [
        {
          "ename": "TypeError",
          "evalue": "ngrams() missing 1 required positional argument: 'n'",
          "output_type": "error",
          "traceback": [
            "\u001b[31m---------------------------------------------------------------------------\u001b[39m",
            "\u001b[31mTypeError\u001b[39m                                 Traceback (most recent call last)",
            "\u001b[36mCell\u001b[39m\u001b[36m \u001b[39m\u001b[32mIn[29]\u001b[39m\u001b[32m, line 1\u001b[39m\n\u001b[32m----> \u001b[39m\u001b[32m1\u001b[39m quotes_ngrams = \u001b[38;5;28mlist\u001b[39m(\u001b[43mngrams\u001b[49m\u001b[43m(\u001b[49m\u001b[43mquotes_tokens\u001b[49m\u001b[43m)\u001b[49m) \u001b[38;5;66;03m# N-gram\u001b[39;00m\n\u001b[32m      2\u001b[39m quotes_ngrams\n",
            "\u001b[31mTypeError\u001b[39m: ngrams() missing 1 required positional argument: 'n'"
          ]
        }
      ],
      "source": [
        "quotes_ngrams = list(ngrams(quotes_tokens)) # N-gram\n",
        "quotes_ngrams"
      ]
    },
    {
      "cell_type": "code",
      "execution_count": null,
      "metadata": {
        "colab": {
          "base_uri": "https://localhost:8080/"
        },
        "id": "j7Oq8WYFAYJt",
        "outputId": "ce574e29-5c8c-4603-cda7-a935fe64e481"
      },
      "outputs": [
        {
          "data": {
            "text/plain": [
              "[('We', 'are', 'learner', 'of', 'senapathi'),\n",
              " ('are', 'learner', 'of', 'senapathi', 'from'),\n",
              " ('learner', 'of', 'senapathi', 'from', '7pm'),\n",
              " ('of', 'senapathi', 'from', '7pm', 'batch'),\n",
              " ('senapathi', 'from', '7pm', 'batch', '.')]"
            ]
          },
          "execution_count": 30,
          "metadata": {},
          "output_type": "execute_result"
        }
      ],
      "source": [
        "quotes_ngrams = list(ngrams(quotes_tokens, 5)) # N-gram\n",
        "quotes_ngrams"
      ]
    },
    {
      "cell_type": "code",
      "execution_count": 30,
      "metadata": {
        "colab": {
          "base_uri": "https://localhost:8080/"
        },
        "id": "hhYze-cjAnuW",
        "outputId": "b50ffdb5-cb64-44fb-b126-a1b859f31a05"
      },
      "outputs": [
        {
          "data": {
            "text/plain": [
              "[('We', 'are', 'learner', 'of', 'senapathi', 'from', '7pm', 'batch'),\n",
              " ('are', 'learner', 'of', 'senapathi', 'from', '7pm', 'batch', '.')]"
            ]
          },
          "execution_count": 30,
          "metadata": {},
          "output_type": "execute_result"
        }
      ],
      "source": [
        "quotes_ngrams = list(ngrams(quotes_tokens, 8)) # N-gram\n",
        "quotes_ngrams"
      ]
    },
    {
      "cell_type": "code",
      "execution_count": 31,
      "metadata": {
        "colab": {
          "base_uri": "https://localhost:8080/"
        },
        "id": "tKe5mgAwCL36",
        "outputId": "86186713-496f-4177-a3e3-4e8333bd502e"
      },
      "outputs": [
        {
          "data": {
            "text/plain": [
              "[]"
            ]
          },
          "execution_count": 31,
          "metadata": {},
          "output_type": "execute_result"
        }
      ],
      "source": [
        "quotes_ngrams = list(ngrams(quotes_tokens, 10)) # N-gram . the statement contains only 9 tokens. thats the output is empty.\n",
        "quotes_ngrams"
      ]
    },
    {
      "cell_type": "code",
      "execution_count": 32,
      "metadata": {
        "id": "VfIHe5G9COw5"
      },
      "outputs": [],
      "source": [
        "from nltk.stem import PorterStemmer # Steam\n",
        "pst = PorterStemmer()"
      ]
    },
    {
      "cell_type": "code",
      "execution_count": 33,
      "metadata": {
        "colab": {
          "base_uri": "https://localhost:8080/",
          "height": 36
        },
        "id": "K66qGc5eCqFc",
        "outputId": "9ff8bb20-8799-4c43-9c0a-1d547caedbf7"
      },
      "outputs": [
        {
          "data": {
            "text/plain": [
              "'affect'"
            ]
          },
          "execution_count": 33,
          "metadata": {},
          "output_type": "execute_result"
        }
      ],
      "source": [
        "pst.stem('affection')"
      ]
    },
    {
      "cell_type": "code",
      "execution_count": 34,
      "metadata": {
        "colab": {
          "base_uri": "https://localhost:8080/",
          "height": 36
        },
        "id": "GaHgKMyCDMuy",
        "outputId": "bfbae64a-a487-478f-93a6-a8e4818e143e"
      },
      "outputs": [
        {
          "data": {
            "text/plain": [
              "'play'"
            ]
          },
          "execution_count": 34,
          "metadata": {},
          "output_type": "execute_result"
        }
      ],
      "source": [
        "pst.stem('playing')"
      ]
    },
    {
      "cell_type": "code",
      "execution_count": 35,
      "metadata": {
        "colab": {
          "base_uri": "https://localhost:8080/",
          "height": 36
        },
        "id": "5-GoogVmDbtf",
        "outputId": "6c787616-2ab9-4f43-8cc2-50b1900188e8"
      },
      "outputs": [
        {
          "data": {
            "text/plain": [
              "'maximum'"
            ]
          },
          "execution_count": 35,
          "metadata": {},
          "output_type": "execute_result"
        }
      ],
      "source": [
        "pst.stem('maximum')"
      ]
    },
    {
      "cell_type": "code",
      "execution_count": 36,
      "metadata": {
        "colab": {
          "base_uri": "https://localhost:8080/",
          "height": 36
        },
        "id": "vXqdjgnpDdfd",
        "outputId": "08e98267-cefb-4956-9460-b1f6c31dc660"
      },
      "outputs": [
        {
          "data": {
            "text/plain": [
              "'call'"
            ]
          },
          "execution_count": 36,
          "metadata": {},
          "output_type": "execute_result"
        }
      ],
      "source": [
        "\n",
        "pst.stem('calling')"
      ]
    },
    {
      "cell_type": "code",
      "execution_count": 37,
      "metadata": {
        "colab": {
          "base_uri": "https://localhost:8080/"
        },
        "id": "vE-7X-1rDlij",
        "outputId": "65b6298b-224d-4e6e-a732-45edfa706923"
      },
      "outputs": [
        {
          "name": "stdout",
          "output_type": "stream",
          "text": [
            "give:give\n",
            "giving:give\n",
            "given:given\n",
            "gave:gave\n"
          ]
        }
      ],
      "source": [
        "words_to_stem = ['give','giving','given','gave']\n",
        "\n",
        "for words in words_to_stem:\n",
        "    print(words +':'+ pst.stem(words))"
      ]
    },
    {
      "cell_type": "code",
      "execution_count": 38,
      "metadata": {
        "colab": {
          "base_uri": "https://localhost:8080/"
        },
        "id": "q1zvKXUY6U5O",
        "outputId": "067155b4-7892-4df6-ff7b-cd32a93a2100"
      },
      "outputs": [
        {
          "name": "stdout",
          "output_type": "stream",
          "text": [
            "give:give\n",
            "giving:give\n",
            "given:given\n",
            "gave:gave\n",
            "gaved:gave\n",
            "loving:love\n",
            "unlucky:unlucki\n",
            "impomplet:impomplet\n"
          ]
        }
      ],
      "source": [
        "words_to_stem = ['give','giving','given','gave','gaved','loving','unlucky','impomplet']\n",
        "\n",
        "for words in words_to_stem:\n",
        "    print(words +':'+ pst.stem(words))"
      ]
    },
    {
      "cell_type": "code",
      "execution_count": 39,
      "metadata": {
        "colab": {
          "base_uri": "https://localhost:8080/"
        },
        "id": "SlHtt-vQ4oA7",
        "outputId": "7e2b568a-8aa9-4851-ebf6-4bf280c33d79"
      },
      "outputs": [
        {
          "name": "stdout",
          "output_type": "stream",
          "text": [
            "give:giv\n",
            "giving:giv\n",
            "given:giv\n",
            "gave:gav\n",
            "gaved:gav\n",
            "loving:lov\n",
            "unlucky:unlucky\n",
            "impomplet:impomplet\n"
          ]
        }
      ],
      "source": [
        "from nltk.stem import LancasterStemmer\n",
        "lst = LancasterStemmer()\n",
        "\n",
        "for words in words_to_stem:\n",
        "    print(words +':'+ lst.stem(words))"
      ]
    },
    {
      "cell_type": "code",
      "execution_count": 40,
      "metadata": {
        "colab": {
          "base_uri": "https://localhost:8080/"
        },
        "id": "ynUhCwNP4oDt",
        "outputId": "febb3444-605f-4ebe-db6e-562e3ba30283"
      },
      "outputs": [
        {
          "name": "stdout",
          "output_type": "stream",
          "text": [
            "give:give\n",
            "giving:give\n",
            "given:given\n",
            "gave:gave\n",
            "gaved:gave\n",
            "loving:love\n",
            "unlucky:unlucki\n",
            "impomplet:impomplet\n"
          ]
        }
      ],
      "source": [
        "from nltk.stem import SnowballStemmer\n",
        "sbst = SnowballStemmer('english')\n",
        "\n",
        "for words in words_to_stem:\n",
        "    print(words +':'+ sbst.stem(words))"
      ]
    },
    {
      "cell_type": "code",
      "execution_count": 41,
      "metadata": {
        "colab": {
          "base_uri": "https://localhost:8080/",
          "height": 36
        },
        "id": "WaiqnJsE4oGL",
        "outputId": "f27984ec-49e2-4626-c975-dbf03db163e1"
      },
      "outputs": [
        {
          "data": {
            "text/plain": [
              "'autobahn'"
            ]
          },
          "execution_count": 41,
          "metadata": {},
          "output_type": "execute_result"
        }
      ],
      "source": [
        "stemmer = SnowballStemmer('german')\n",
        ">>> stemmer.stem('Autobahnen')"
      ]
    },
    {
      "cell_type": "code",
      "execution_count": 42,
      "metadata": {
        "id": "2KQzgTSK4oI0"
      },
      "outputs": [],
      "source": [
        "from nltk.stem import wordnet\n",
        "from nltk.stem import WordNetLemmatizer\n",
        "word_lem = WordNetLemmatizer()"
      ]
    },
    {
      "cell_type": "code",
      "execution_count": 43,
      "metadata": {
        "colab": {
          "base_uri": "https://localhost:8080/"
        },
        "id": "KrjYmz244oLZ",
        "outputId": "0a610e28-6bcc-498a-8d27-7ebdf0fd9167"
      },
      "outputs": [
        {
          "data": {
            "text/plain": [
              "['give', 'giving', 'given', 'gave', 'gaved', 'loving', 'unlucky', 'impomplet']"
            ]
          },
          "execution_count": 43,
          "metadata": {},
          "output_type": "execute_result"
        }
      ],
      "source": [
        "words_to_stem"
      ]
    },
    {
      "cell_type": "code",
      "execution_count": 44,
      "metadata": {
        "colab": {
          "base_uri": "https://localhost:8080/"
        },
        "id": "4WyjpZMg4oOs",
        "outputId": "8c221f7c-0453-46ce-ba9c-d3aec761884f"
      },
      "outputs": [
        {
          "name": "stdout",
          "output_type": "stream",
          "text": [
            "give:give\n",
            "giving:giving\n",
            "given:given\n",
            "gave:gave\n",
            "gaved:gaved\n",
            "loving:loving\n",
            "unlucky:unlucky\n",
            "impomplet:impomplet\n"
          ]
        }
      ],
      "source": [
        "for words in words_to_stem:\n",
        "    print(words +':'+ word_lem.lemmatize(words))"
      ]
    },
    {
      "cell_type": "code",
      "execution_count": 45,
      "metadata": {
        "id": "NPIO--U58y4R"
      },
      "outputs": [],
      "source": [
        "from nltk.corpus import stopwords\n",
        "\n",
        "# nltk.download('stopwords')"
      ]
    },
    {
      "cell_type": "code",
      "execution_count": 46,
      "metadata": {
        "colab": {
          "base_uri": "https://localhost:8080/"
        },
        "id": "p7gJlR5J99Sb",
        "outputId": "dc60d440-b917-483f-d5cf-2f6fbc85fa03"
      },
      "outputs": [
        {
          "data": {
            "text/plain": [
              "['a',\n",
              " 'about',\n",
              " 'above',\n",
              " 'after',\n",
              " 'again',\n",
              " 'against',\n",
              " 'ain',\n",
              " 'all',\n",
              " 'am',\n",
              " 'an',\n",
              " 'and',\n",
              " 'any',\n",
              " 'are',\n",
              " 'aren',\n",
              " \"aren't\",\n",
              " 'as',\n",
              " 'at',\n",
              " 'be',\n",
              " 'because',\n",
              " 'been',\n",
              " 'before',\n",
              " 'being',\n",
              " 'below',\n",
              " 'between',\n",
              " 'both',\n",
              " 'but',\n",
              " 'by',\n",
              " 'can',\n",
              " 'couldn',\n",
              " \"couldn't\",\n",
              " 'd',\n",
              " 'did',\n",
              " 'didn',\n",
              " \"didn't\",\n",
              " 'do',\n",
              " 'does',\n",
              " 'doesn',\n",
              " \"doesn't\",\n",
              " 'doing',\n",
              " 'don',\n",
              " \"don't\",\n",
              " 'down',\n",
              " 'during',\n",
              " 'each',\n",
              " 'few',\n",
              " 'for',\n",
              " 'from',\n",
              " 'further',\n",
              " 'had',\n",
              " 'hadn',\n",
              " \"hadn't\",\n",
              " 'has',\n",
              " 'hasn',\n",
              " \"hasn't\",\n",
              " 'have',\n",
              " 'haven',\n",
              " \"haven't\",\n",
              " 'having',\n",
              " 'he',\n",
              " \"he'd\",\n",
              " \"he'll\",\n",
              " 'her',\n",
              " 'here',\n",
              " 'hers',\n",
              " 'herself',\n",
              " \"he's\",\n",
              " 'him',\n",
              " 'himself',\n",
              " 'his',\n",
              " 'how',\n",
              " 'i',\n",
              " \"i'd\",\n",
              " 'if',\n",
              " \"i'll\",\n",
              " \"i'm\",\n",
              " 'in',\n",
              " 'into',\n",
              " 'is',\n",
              " 'isn',\n",
              " \"isn't\",\n",
              " 'it',\n",
              " \"it'd\",\n",
              " \"it'll\",\n",
              " \"it's\",\n",
              " 'its',\n",
              " 'itself',\n",
              " \"i've\",\n",
              " 'just',\n",
              " 'll',\n",
              " 'm',\n",
              " 'ma',\n",
              " 'me',\n",
              " 'mightn',\n",
              " \"mightn't\",\n",
              " 'more',\n",
              " 'most',\n",
              " 'mustn',\n",
              " \"mustn't\",\n",
              " 'my',\n",
              " 'myself',\n",
              " 'needn',\n",
              " \"needn't\",\n",
              " 'no',\n",
              " 'nor',\n",
              " 'not',\n",
              " 'now',\n",
              " 'o',\n",
              " 'of',\n",
              " 'off',\n",
              " 'on',\n",
              " 'once',\n",
              " 'only',\n",
              " 'or',\n",
              " 'other',\n",
              " 'our',\n",
              " 'ours',\n",
              " 'ourselves',\n",
              " 'out',\n",
              " 'over',\n",
              " 'own',\n",
              " 're',\n",
              " 's',\n",
              " 'same',\n",
              " 'shan',\n",
              " \"shan't\",\n",
              " 'she',\n",
              " \"she'd\",\n",
              " \"she'll\",\n",
              " \"she's\",\n",
              " 'should',\n",
              " 'shouldn',\n",
              " \"shouldn't\",\n",
              " \"should've\",\n",
              " 'so',\n",
              " 'some',\n",
              " 'such',\n",
              " 't',\n",
              " 'than',\n",
              " 'that',\n",
              " \"that'll\",\n",
              " 'the',\n",
              " 'their',\n",
              " 'theirs',\n",
              " 'them',\n",
              " 'themselves',\n",
              " 'then',\n",
              " 'there',\n",
              " 'these',\n",
              " 'they',\n",
              " \"they'd\",\n",
              " \"they'll\",\n",
              " \"they're\",\n",
              " \"they've\",\n",
              " 'this',\n",
              " 'those',\n",
              " 'through',\n",
              " 'to',\n",
              " 'too',\n",
              " 'under',\n",
              " 'until',\n",
              " 'up',\n",
              " 've',\n",
              " 'very',\n",
              " 'was',\n",
              " 'wasn',\n",
              " \"wasn't\",\n",
              " 'we',\n",
              " \"we'd\",\n",
              " \"we'll\",\n",
              " \"we're\",\n",
              " 'were',\n",
              " 'weren',\n",
              " \"weren't\",\n",
              " \"we've\",\n",
              " 'what',\n",
              " 'when',\n",
              " 'where',\n",
              " 'which',\n",
              " 'while',\n",
              " 'who',\n",
              " 'whom',\n",
              " 'why',\n",
              " 'will',\n",
              " 'with',\n",
              " 'won',\n",
              " \"won't\",\n",
              " 'wouldn',\n",
              " \"wouldn't\",\n",
              " 'y',\n",
              " 'you',\n",
              " \"you'd\",\n",
              " \"you'll\",\n",
              " 'your',\n",
              " \"you're\",\n",
              " 'yours',\n",
              " 'yourself',\n",
              " 'yourselves',\n",
              " \"you've\"]"
            ]
          },
          "execution_count": 46,
          "metadata": {},
          "output_type": "execute_result"
        }
      ],
      "source": [
        "stopwords.words('english')"
      ]
    },
    {
      "cell_type": "code",
      "execution_count": 47,
      "metadata": {
        "colab": {
          "base_uri": "https://localhost:8080/"
        },
        "id": "771cSQGi-EoA",
        "outputId": "fd71ade6-9e33-444c-a7a1-541dc7dceb64"
      },
      "outputs": [
        {
          "data": {
            "text/plain": [
              "198"
            ]
          },
          "execution_count": 47,
          "metadata": {},
          "output_type": "execute_result"
        }
      ],
      "source": [
        "len(stopwords.words('english'))"
      ]
    },
    {
      "cell_type": "code",
      "execution_count": 48,
      "metadata": {
        "colab": {
          "base_uri": "https://localhost:8080/"
        },
        "id": "clIW2Fth-Po5",
        "outputId": "e24efa82-eb05-4b65-fd06-8709786424a5"
      },
      "outputs": [
        {
          "data": {
            "text/plain": [
              "['au',\n",
              " 'aux',\n",
              " 'avec',\n",
              " 'ce',\n",
              " 'ces',\n",
              " 'dans',\n",
              " 'de',\n",
              " 'des',\n",
              " 'du',\n",
              " 'elle',\n",
              " 'en',\n",
              " 'et',\n",
              " 'eux',\n",
              " 'il',\n",
              " 'ils',\n",
              " 'je',\n",
              " 'la',\n",
              " 'le',\n",
              " 'les',\n",
              " 'leur',\n",
              " 'lui',\n",
              " 'ma',\n",
              " 'mais',\n",
              " 'me',\n",
              " 'même',\n",
              " 'mes',\n",
              " 'moi',\n",
              " 'mon',\n",
              " 'ne',\n",
              " 'nos',\n",
              " 'notre',\n",
              " 'nous',\n",
              " 'on',\n",
              " 'ou',\n",
              " 'par',\n",
              " 'pas',\n",
              " 'pour',\n",
              " 'qu',\n",
              " 'que',\n",
              " 'qui',\n",
              " 'sa',\n",
              " 'se',\n",
              " 'ses',\n",
              " 'son',\n",
              " 'sur',\n",
              " 'ta',\n",
              " 'te',\n",
              " 'tes',\n",
              " 'toi',\n",
              " 'ton',\n",
              " 'tu',\n",
              " 'un',\n",
              " 'une',\n",
              " 'vos',\n",
              " 'votre',\n",
              " 'vous',\n",
              " 'c',\n",
              " 'd',\n",
              " 'j',\n",
              " 'l',\n",
              " 'à',\n",
              " 'm',\n",
              " 'n',\n",
              " 's',\n",
              " 't',\n",
              " 'y',\n",
              " 'été',\n",
              " 'étée',\n",
              " 'étées',\n",
              " 'étés',\n",
              " 'étant',\n",
              " 'étante',\n",
              " 'étants',\n",
              " 'étantes',\n",
              " 'suis',\n",
              " 'es',\n",
              " 'est',\n",
              " 'sommes',\n",
              " 'êtes',\n",
              " 'sont',\n",
              " 'serai',\n",
              " 'seras',\n",
              " 'sera',\n",
              " 'serons',\n",
              " 'serez',\n",
              " 'seront',\n",
              " 'serais',\n",
              " 'serait',\n",
              " 'serions',\n",
              " 'seriez',\n",
              " 'seraient',\n",
              " 'étais',\n",
              " 'était',\n",
              " 'étions',\n",
              " 'étiez',\n",
              " 'étaient',\n",
              " 'fus',\n",
              " 'fut',\n",
              " 'fûmes',\n",
              " 'fûtes',\n",
              " 'furent',\n",
              " 'sois',\n",
              " 'soit',\n",
              " 'soyons',\n",
              " 'soyez',\n",
              " 'soient',\n",
              " 'fusse',\n",
              " 'fusses',\n",
              " 'fût',\n",
              " 'fussions',\n",
              " 'fussiez',\n",
              " 'fussent',\n",
              " 'ayant',\n",
              " 'ayante',\n",
              " 'ayantes',\n",
              " 'ayants',\n",
              " 'eu',\n",
              " 'eue',\n",
              " 'eues',\n",
              " 'eus',\n",
              " 'ai',\n",
              " 'as',\n",
              " 'avons',\n",
              " 'avez',\n",
              " 'ont',\n",
              " 'aurai',\n",
              " 'auras',\n",
              " 'aura',\n",
              " 'aurons',\n",
              " 'aurez',\n",
              " 'auront',\n",
              " 'aurais',\n",
              " 'aurait',\n",
              " 'aurions',\n",
              " 'auriez',\n",
              " 'auraient',\n",
              " 'avais',\n",
              " 'avait',\n",
              " 'avions',\n",
              " 'aviez',\n",
              " 'avaient',\n",
              " 'eut',\n",
              " 'eûmes',\n",
              " 'eûtes',\n",
              " 'eurent',\n",
              " 'aie',\n",
              " 'aies',\n",
              " 'ait',\n",
              " 'ayons',\n",
              " 'ayez',\n",
              " 'aient',\n",
              " 'eusse',\n",
              " 'eusses',\n",
              " 'eût',\n",
              " 'eussions',\n",
              " 'eussiez',\n",
              " 'eussent']"
            ]
          },
          "execution_count": 48,
          "metadata": {},
          "output_type": "execute_result"
        }
      ],
      "source": [
        "stopwords.words('french')"
      ]
    },
    {
      "cell_type": "code",
      "execution_count": 49,
      "metadata": {
        "colab": {
          "base_uri": "https://localhost:8080/"
        },
        "id": "kUJesYIW-Ttc",
        "outputId": "f2a13626-6281-4597-946c-122ed24ab66e"
      },
      "outputs": [
        {
          "data": {
            "text/plain": [
              "157"
            ]
          },
          "execution_count": 49,
          "metadata": {},
          "output_type": "execute_result"
        }
      ],
      "source": [
        "len(stopwords.words('french'))"
      ]
    },
    {
      "cell_type": "code",
      "execution_count": 50,
      "metadata": {
        "colab": {
          "base_uri": "https://localhost:8080/"
        },
        "id": "e5XZZCpd-Vqx",
        "outputId": "b8551d32-f1a4-4c87-8e87-4f83a5dcfa69"
      },
      "outputs": [
        {
          "data": {
            "text/plain": [
              "['aber',\n",
              " 'alle',\n",
              " 'allem',\n",
              " 'allen',\n",
              " 'aller',\n",
              " 'alles',\n",
              " 'als',\n",
              " 'also',\n",
              " 'am',\n",
              " 'an',\n",
              " 'ander',\n",
              " 'andere',\n",
              " 'anderem',\n",
              " 'anderen',\n",
              " 'anderer',\n",
              " 'anderes',\n",
              " 'anderm',\n",
              " 'andern',\n",
              " 'anderr',\n",
              " 'anders',\n",
              " 'auch',\n",
              " 'auf',\n",
              " 'aus',\n",
              " 'bei',\n",
              " 'bin',\n",
              " 'bis',\n",
              " 'bist',\n",
              " 'da',\n",
              " 'damit',\n",
              " 'dann',\n",
              " 'der',\n",
              " 'den',\n",
              " 'des',\n",
              " 'dem',\n",
              " 'die',\n",
              " 'das',\n",
              " 'dass',\n",
              " 'daß',\n",
              " 'derselbe',\n",
              " 'derselben',\n",
              " 'denselben',\n",
              " 'desselben',\n",
              " 'demselben',\n",
              " 'dieselbe',\n",
              " 'dieselben',\n",
              " 'dasselbe',\n",
              " 'dazu',\n",
              " 'dein',\n",
              " 'deine',\n",
              " 'deinem',\n",
              " 'deinen',\n",
              " 'deiner',\n",
              " 'deines',\n",
              " 'denn',\n",
              " 'derer',\n",
              " 'dessen',\n",
              " 'dich',\n",
              " 'dir',\n",
              " 'du',\n",
              " 'dies',\n",
              " 'diese',\n",
              " 'diesem',\n",
              " 'diesen',\n",
              " 'dieser',\n",
              " 'dieses',\n",
              " 'doch',\n",
              " 'dort',\n",
              " 'durch',\n",
              " 'ein',\n",
              " 'eine',\n",
              " 'einem',\n",
              " 'einen',\n",
              " 'einer',\n",
              " 'eines',\n",
              " 'einig',\n",
              " 'einige',\n",
              " 'einigem',\n",
              " 'einigen',\n",
              " 'einiger',\n",
              " 'einiges',\n",
              " 'einmal',\n",
              " 'er',\n",
              " 'ihn',\n",
              " 'ihm',\n",
              " 'es',\n",
              " 'etwas',\n",
              " 'euer',\n",
              " 'eure',\n",
              " 'eurem',\n",
              " 'euren',\n",
              " 'eurer',\n",
              " 'eures',\n",
              " 'für',\n",
              " 'gegen',\n",
              " 'gewesen',\n",
              " 'hab',\n",
              " 'habe',\n",
              " 'haben',\n",
              " 'hat',\n",
              " 'hatte',\n",
              " 'hatten',\n",
              " 'hier',\n",
              " 'hin',\n",
              " 'hinter',\n",
              " 'ich',\n",
              " 'mich',\n",
              " 'mir',\n",
              " 'ihr',\n",
              " 'ihre',\n",
              " 'ihrem',\n",
              " 'ihren',\n",
              " 'ihrer',\n",
              " 'ihres',\n",
              " 'euch',\n",
              " 'im',\n",
              " 'in',\n",
              " 'indem',\n",
              " 'ins',\n",
              " 'ist',\n",
              " 'jede',\n",
              " 'jedem',\n",
              " 'jeden',\n",
              " 'jeder',\n",
              " 'jedes',\n",
              " 'jene',\n",
              " 'jenem',\n",
              " 'jenen',\n",
              " 'jener',\n",
              " 'jenes',\n",
              " 'jetzt',\n",
              " 'kann',\n",
              " 'kein',\n",
              " 'keine',\n",
              " 'keinem',\n",
              " 'keinen',\n",
              " 'keiner',\n",
              " 'keines',\n",
              " 'können',\n",
              " 'könnte',\n",
              " 'machen',\n",
              " 'man',\n",
              " 'manche',\n",
              " 'manchem',\n",
              " 'manchen',\n",
              " 'mancher',\n",
              " 'manches',\n",
              " 'mein',\n",
              " 'meine',\n",
              " 'meinem',\n",
              " 'meinen',\n",
              " 'meiner',\n",
              " 'meines',\n",
              " 'mit',\n",
              " 'muss',\n",
              " 'musste',\n",
              " 'nach',\n",
              " 'nicht',\n",
              " 'nichts',\n",
              " 'noch',\n",
              " 'nun',\n",
              " 'nur',\n",
              " 'ob',\n",
              " 'oder',\n",
              " 'ohne',\n",
              " 'sehr',\n",
              " 'sein',\n",
              " 'seine',\n",
              " 'seinem',\n",
              " 'seinen',\n",
              " 'seiner',\n",
              " 'seines',\n",
              " 'selbst',\n",
              " 'sich',\n",
              " 'sie',\n",
              " 'ihnen',\n",
              " 'sind',\n",
              " 'so',\n",
              " 'solche',\n",
              " 'solchem',\n",
              " 'solchen',\n",
              " 'solcher',\n",
              " 'solches',\n",
              " 'soll',\n",
              " 'sollte',\n",
              " 'sondern',\n",
              " 'sonst',\n",
              " 'über',\n",
              " 'um',\n",
              " 'und',\n",
              " 'uns',\n",
              " 'unsere',\n",
              " 'unserem',\n",
              " 'unseren',\n",
              " 'unser',\n",
              " 'unseres',\n",
              " 'unter',\n",
              " 'viel',\n",
              " 'vom',\n",
              " 'von',\n",
              " 'vor',\n",
              " 'während',\n",
              " 'war',\n",
              " 'waren',\n",
              " 'warst',\n",
              " 'was',\n",
              " 'weg',\n",
              " 'weil',\n",
              " 'weiter',\n",
              " 'welche',\n",
              " 'welchem',\n",
              " 'welchen',\n",
              " 'welcher',\n",
              " 'welches',\n",
              " 'wenn',\n",
              " 'werde',\n",
              " 'werden',\n",
              " 'wie',\n",
              " 'wieder',\n",
              " 'will',\n",
              " 'wir',\n",
              " 'wird',\n",
              " 'wirst',\n",
              " 'wo',\n",
              " 'wollen',\n",
              " 'wollte',\n",
              " 'würde',\n",
              " 'würden',\n",
              " 'zu',\n",
              " 'zum',\n",
              " 'zur',\n",
              " 'zwar',\n",
              " 'zwischen']"
            ]
          },
          "execution_count": 50,
          "metadata": {},
          "output_type": "execute_result"
        }
      ],
      "source": [
        "stopwords.words('german')"
      ]
    },
    {
      "cell_type": "code",
      "execution_count": 51,
      "metadata": {
        "colab": {
          "base_uri": "https://localhost:8080/"
        },
        "id": "2UENjQui-c03",
        "outputId": "55918a99-efe2-4d0f-f99f-813294bafd8a"
      },
      "outputs": [
        {
          "data": {
            "text/plain": [
              "232"
            ]
          },
          "execution_count": 51,
          "metadata": {},
          "output_type": "execute_result"
        }
      ],
      "source": [
        "len(stopwords.words('german'))"
      ]
    },
    {
      "cell_type": "code",
      "execution_count": 52,
      "metadata": {
        "colab": {
          "base_uri": "https://localhost:8080/"
        },
        "id": "2VBxW45b-fm8",
        "outputId": "e835e6fb-9c1a-4eb9-b9e8-bf8c1d1ef4d2"
      },
      "outputs": [
        {
          "data": {
            "text/plain": [
              "['de',\n",
              " 'la',\n",
              " 'que',\n",
              " 'el',\n",
              " 'en',\n",
              " 'y',\n",
              " 'a',\n",
              " 'los',\n",
              " 'del',\n",
              " 'se',\n",
              " 'las',\n",
              " 'por',\n",
              " 'un',\n",
              " 'para',\n",
              " 'con',\n",
              " 'no',\n",
              " 'una',\n",
              " 'su',\n",
              " 'al',\n",
              " 'lo',\n",
              " 'como',\n",
              " 'más',\n",
              " 'pero',\n",
              " 'sus',\n",
              " 'le',\n",
              " 'ya',\n",
              " 'o',\n",
              " 'este',\n",
              " 'sí',\n",
              " 'porque',\n",
              " 'esta',\n",
              " 'entre',\n",
              " 'cuando',\n",
              " 'muy',\n",
              " 'sin',\n",
              " 'sobre',\n",
              " 'también',\n",
              " 'me',\n",
              " 'hasta',\n",
              " 'hay',\n",
              " 'donde',\n",
              " 'quien',\n",
              " 'desde',\n",
              " 'todo',\n",
              " 'nos',\n",
              " 'durante',\n",
              " 'todos',\n",
              " 'uno',\n",
              " 'les',\n",
              " 'ni',\n",
              " 'contra',\n",
              " 'otros',\n",
              " 'ese',\n",
              " 'eso',\n",
              " 'ante',\n",
              " 'ellos',\n",
              " 'e',\n",
              " 'esto',\n",
              " 'mí',\n",
              " 'antes',\n",
              " 'algunos',\n",
              " 'qué',\n",
              " 'unos',\n",
              " 'yo',\n",
              " 'otro',\n",
              " 'otras',\n",
              " 'otra',\n",
              " 'él',\n",
              " 'tanto',\n",
              " 'esa',\n",
              " 'estos',\n",
              " 'mucho',\n",
              " 'quienes',\n",
              " 'nada',\n",
              " 'muchos',\n",
              " 'cual',\n",
              " 'poco',\n",
              " 'ella',\n",
              " 'estar',\n",
              " 'estas',\n",
              " 'algunas',\n",
              " 'algo',\n",
              " 'nosotros',\n",
              " 'mi',\n",
              " 'mis',\n",
              " 'tú',\n",
              " 'te',\n",
              " 'ti',\n",
              " 'tu',\n",
              " 'tus',\n",
              " 'ellas',\n",
              " 'nosotras',\n",
              " 'vosotros',\n",
              " 'vosotras',\n",
              " 'os',\n",
              " 'mío',\n",
              " 'mía',\n",
              " 'míos',\n",
              " 'mías',\n",
              " 'tuyo',\n",
              " 'tuya',\n",
              " 'tuyos',\n",
              " 'tuyas',\n",
              " 'suyo',\n",
              " 'suya',\n",
              " 'suyos',\n",
              " 'suyas',\n",
              " 'nuestro',\n",
              " 'nuestra',\n",
              " 'nuestros',\n",
              " 'nuestras',\n",
              " 'vuestro',\n",
              " 'vuestra',\n",
              " 'vuestros',\n",
              " 'vuestras',\n",
              " 'esos',\n",
              " 'esas',\n",
              " 'estoy',\n",
              " 'estás',\n",
              " 'está',\n",
              " 'estamos',\n",
              " 'estáis',\n",
              " 'están',\n",
              " 'esté',\n",
              " 'estés',\n",
              " 'estemos',\n",
              " 'estéis',\n",
              " 'estén',\n",
              " 'estaré',\n",
              " 'estarás',\n",
              " 'estará',\n",
              " 'estaremos',\n",
              " 'estaréis',\n",
              " 'estarán',\n",
              " 'estaría',\n",
              " 'estarías',\n",
              " 'estaríamos',\n",
              " 'estaríais',\n",
              " 'estarían',\n",
              " 'estaba',\n",
              " 'estabas',\n",
              " 'estábamos',\n",
              " 'estabais',\n",
              " 'estaban',\n",
              " 'estuve',\n",
              " 'estuviste',\n",
              " 'estuvo',\n",
              " 'estuvimos',\n",
              " 'estuvisteis',\n",
              " 'estuvieron',\n",
              " 'estuviera',\n",
              " 'estuvieras',\n",
              " 'estuviéramos',\n",
              " 'estuvierais',\n",
              " 'estuvieran',\n",
              " 'estuviese',\n",
              " 'estuvieses',\n",
              " 'estuviésemos',\n",
              " 'estuvieseis',\n",
              " 'estuviesen',\n",
              " 'estando',\n",
              " 'estado',\n",
              " 'estada',\n",
              " 'estados',\n",
              " 'estadas',\n",
              " 'estad',\n",
              " 'he',\n",
              " 'has',\n",
              " 'ha',\n",
              " 'hemos',\n",
              " 'habéis',\n",
              " 'han',\n",
              " 'haya',\n",
              " 'hayas',\n",
              " 'hayamos',\n",
              " 'hayáis',\n",
              " 'hayan',\n",
              " 'habré',\n",
              " 'habrás',\n",
              " 'habrá',\n",
              " 'habremos',\n",
              " 'habréis',\n",
              " 'habrán',\n",
              " 'habría',\n",
              " 'habrías',\n",
              " 'habríamos',\n",
              " 'habríais',\n",
              " 'habrían',\n",
              " 'había',\n",
              " 'habías',\n",
              " 'habíamos',\n",
              " 'habíais',\n",
              " 'habían',\n",
              " 'hube',\n",
              " 'hubiste',\n",
              " 'hubo',\n",
              " 'hubimos',\n",
              " 'hubisteis',\n",
              " 'hubieron',\n",
              " 'hubiera',\n",
              " 'hubieras',\n",
              " 'hubiéramos',\n",
              " 'hubierais',\n",
              " 'hubieran',\n",
              " 'hubiese',\n",
              " 'hubieses',\n",
              " 'hubiésemos',\n",
              " 'hubieseis',\n",
              " 'hubiesen',\n",
              " 'habiendo',\n",
              " 'habido',\n",
              " 'habida',\n",
              " 'habidos',\n",
              " 'habidas',\n",
              " 'soy',\n",
              " 'eres',\n",
              " 'es',\n",
              " 'somos',\n",
              " 'sois',\n",
              " 'son',\n",
              " 'sea',\n",
              " 'seas',\n",
              " 'seamos',\n",
              " 'seáis',\n",
              " 'sean',\n",
              " 'seré',\n",
              " 'serás',\n",
              " 'será',\n",
              " 'seremos',\n",
              " 'seréis',\n",
              " 'serán',\n",
              " 'sería',\n",
              " 'serías',\n",
              " 'seríamos',\n",
              " 'seríais',\n",
              " 'serían',\n",
              " 'era',\n",
              " 'eras',\n",
              " 'éramos',\n",
              " 'erais',\n",
              " 'eran',\n",
              " 'fui',\n",
              " 'fuiste',\n",
              " 'fue',\n",
              " 'fuimos',\n",
              " 'fuisteis',\n",
              " 'fueron',\n",
              " 'fuera',\n",
              " 'fueras',\n",
              " 'fuéramos',\n",
              " 'fuerais',\n",
              " 'fueran',\n",
              " 'fuese',\n",
              " 'fueses',\n",
              " 'fuésemos',\n",
              " 'fueseis',\n",
              " 'fuesen',\n",
              " 'sintiendo',\n",
              " 'sentido',\n",
              " 'sentida',\n",
              " 'sentidos',\n",
              " 'sentidas',\n",
              " 'siente',\n",
              " 'sentid',\n",
              " 'tengo',\n",
              " 'tienes',\n",
              " 'tiene',\n",
              " 'tenemos',\n",
              " 'tenéis',\n",
              " 'tienen',\n",
              " 'tenga',\n",
              " 'tengas',\n",
              " 'tengamos',\n",
              " 'tengáis',\n",
              " 'tengan',\n",
              " 'tendré',\n",
              " 'tendrás',\n",
              " 'tendrá',\n",
              " 'tendremos',\n",
              " 'tendréis',\n",
              " 'tendrán',\n",
              " 'tendría',\n",
              " 'tendrías',\n",
              " 'tendríamos',\n",
              " 'tendríais',\n",
              " 'tendrían',\n",
              " 'tenía',\n",
              " 'tenías',\n",
              " 'teníamos',\n",
              " 'teníais',\n",
              " 'tenían',\n",
              " 'tuve',\n",
              " 'tuviste',\n",
              " 'tuvo',\n",
              " 'tuvimos',\n",
              " 'tuvisteis',\n",
              " 'tuvieron',\n",
              " 'tuviera',\n",
              " 'tuvieras',\n",
              " 'tuviéramos',\n",
              " 'tuvierais',\n",
              " 'tuvieran',\n",
              " 'tuviese',\n",
              " 'tuvieses',\n",
              " 'tuviésemos',\n",
              " 'tuvieseis',\n",
              " 'tuviesen',\n",
              " 'teniendo',\n",
              " 'tenido',\n",
              " 'tenida',\n",
              " 'tenidos',\n",
              " 'tenidas',\n",
              " 'tened']"
            ]
          },
          "execution_count": 52,
          "metadata": {},
          "output_type": "execute_result"
        }
      ],
      "source": [
        "stopwords.words('spanish')"
      ]
    },
    {
      "cell_type": "code",
      "execution_count": 53,
      "metadata": {
        "colab": {
          "base_uri": "https://localhost:8080/"
        },
        "id": "X4pjKls4-qa2",
        "outputId": "1af77e0e-4277-4aff-aee0-f9aa00bbc69d"
      },
      "outputs": [
        {
          "data": {
            "text/plain": [
              "313"
            ]
          },
          "execution_count": 53,
          "metadata": {},
          "output_type": "execute_result"
        }
      ],
      "source": [
        "len(stopwords.words('spanish'))"
      ]
    },
    {
      "cell_type": "code",
      "execution_count": 54,
      "metadata": {
        "colab": {
          "base_uri": "https://localhost:8080/"
        },
        "id": "i4iZYCzT-rq2",
        "outputId": "59887b6c-09c3-4350-d907-63ab45cdd737"
      },
      "outputs": [
        {
          "data": {
            "text/plain": [
              "['إذ',\n",
              " 'إذا',\n",
              " 'إذما',\n",
              " 'إذن',\n",
              " 'أف',\n",
              " 'أقل',\n",
              " 'أكثر',\n",
              " 'ألا',\n",
              " 'إلا',\n",
              " 'التي',\n",
              " 'الذي',\n",
              " 'الذين',\n",
              " 'اللاتي',\n",
              " 'اللائي',\n",
              " 'اللتان',\n",
              " 'اللتيا',\n",
              " 'اللتين',\n",
              " 'اللذان',\n",
              " 'اللذين',\n",
              " 'اللواتي',\n",
              " 'إلى',\n",
              " 'إليك',\n",
              " 'إليكم',\n",
              " 'إليكما',\n",
              " 'إليكن',\n",
              " 'أم',\n",
              " 'أما',\n",
              " 'أما',\n",
              " 'إما',\n",
              " 'أن',\n",
              " 'إن',\n",
              " 'إنا',\n",
              " 'أنا',\n",
              " 'أنت',\n",
              " 'أنتم',\n",
              " 'أنتما',\n",
              " 'أنتن',\n",
              " 'إنما',\n",
              " 'إنه',\n",
              " 'أنى',\n",
              " 'أنى',\n",
              " 'آه',\n",
              " 'آها',\n",
              " 'أو',\n",
              " 'أولاء',\n",
              " 'أولئك',\n",
              " 'أوه',\n",
              " 'آي',\n",
              " 'أي',\n",
              " 'أيها',\n",
              " 'إي',\n",
              " 'أين',\n",
              " 'أين',\n",
              " 'أينما',\n",
              " 'إيه',\n",
              " 'بخ',\n",
              " 'بس',\n",
              " 'بعد',\n",
              " 'بعض',\n",
              " 'بك',\n",
              " 'بكم',\n",
              " 'بكم',\n",
              " 'بكما',\n",
              " 'بكن',\n",
              " 'بل',\n",
              " 'بلى',\n",
              " 'بما',\n",
              " 'بماذا',\n",
              " 'بمن',\n",
              " 'بنا',\n",
              " 'به',\n",
              " 'بها',\n",
              " 'بهم',\n",
              " 'بهما',\n",
              " 'بهن',\n",
              " 'بي',\n",
              " 'بين',\n",
              " 'بيد',\n",
              " 'تلك',\n",
              " 'تلكم',\n",
              " 'تلكما',\n",
              " 'ته',\n",
              " 'تي',\n",
              " 'تين',\n",
              " 'تينك',\n",
              " 'ثم',\n",
              " 'ثمة',\n",
              " 'حاشا',\n",
              " 'حبذا',\n",
              " 'حتى',\n",
              " 'حيث',\n",
              " 'حيثما',\n",
              " 'حين',\n",
              " 'خلا',\n",
              " 'دون',\n",
              " 'ذا',\n",
              " 'ذات',\n",
              " 'ذاك',\n",
              " 'ذان',\n",
              " 'ذانك',\n",
              " 'ذلك',\n",
              " 'ذلكم',\n",
              " 'ذلكما',\n",
              " 'ذلكن',\n",
              " 'ذه',\n",
              " 'ذو',\n",
              " 'ذوا',\n",
              " 'ذواتا',\n",
              " 'ذواتي',\n",
              " 'ذي',\n",
              " 'ذين',\n",
              " 'ذينك',\n",
              " 'ريث',\n",
              " 'سوف',\n",
              " 'سوى',\n",
              " 'شتان',\n",
              " 'عدا',\n",
              " 'عسى',\n",
              " 'عل',\n",
              " 'على',\n",
              " 'عليك',\n",
              " 'عليه',\n",
              " 'عما',\n",
              " 'عن',\n",
              " 'عند',\n",
              " 'غير',\n",
              " 'فإذا',\n",
              " 'فإن',\n",
              " 'فلا',\n",
              " 'فمن',\n",
              " 'في',\n",
              " 'فيم',\n",
              " 'فيما',\n",
              " 'فيه',\n",
              " 'فيها',\n",
              " 'قد',\n",
              " 'كأن',\n",
              " 'كأنما',\n",
              " 'كأي',\n",
              " 'كأين',\n",
              " 'كذا',\n",
              " 'كذلك',\n",
              " 'كل',\n",
              " 'كلا',\n",
              " 'كلاهما',\n",
              " 'كلتا',\n",
              " 'كلما',\n",
              " 'كليكما',\n",
              " 'كليهما',\n",
              " 'كم',\n",
              " 'كم',\n",
              " 'كما',\n",
              " 'كي',\n",
              " 'كيت',\n",
              " 'كيف',\n",
              " 'كيفما',\n",
              " 'لا',\n",
              " 'لاسيما',\n",
              " 'لدى',\n",
              " 'لست',\n",
              " 'لستم',\n",
              " 'لستما',\n",
              " 'لستن',\n",
              " 'لسن',\n",
              " 'لسنا',\n",
              " 'لعل',\n",
              " 'لك',\n",
              " 'لكم',\n",
              " 'لكما',\n",
              " 'لكن',\n",
              " 'لكنما',\n",
              " 'لكي',\n",
              " 'لكيلا',\n",
              " 'لم',\n",
              " 'لما',\n",
              " 'لن',\n",
              " 'لنا',\n",
              " 'له',\n",
              " 'لها',\n",
              " 'لهم',\n",
              " 'لهما',\n",
              " 'لهن',\n",
              " 'لو',\n",
              " 'لولا',\n",
              " 'لوما',\n",
              " 'لي',\n",
              " 'لئن',\n",
              " 'ليت',\n",
              " 'ليس',\n",
              " 'ليسا',\n",
              " 'ليست',\n",
              " 'ليستا',\n",
              " 'ليسوا',\n",
              " 'ما',\n",
              " 'ماذا',\n",
              " 'متى',\n",
              " 'مذ',\n",
              " 'مع',\n",
              " 'مما',\n",
              " 'ممن',\n",
              " 'من',\n",
              " 'منه',\n",
              " 'منها',\n",
              " 'منذ',\n",
              " 'مه',\n",
              " 'مهما',\n",
              " 'نحن',\n",
              " 'نحو',\n",
              " 'نعم',\n",
              " 'ها',\n",
              " 'هاتان',\n",
              " 'هاته',\n",
              " 'هاتي',\n",
              " 'هاتين',\n",
              " 'هاك',\n",
              " 'هاهنا',\n",
              " 'هذا',\n",
              " 'هذان',\n",
              " 'هذه',\n",
              " 'هذي',\n",
              " 'هذين',\n",
              " 'هكذا',\n",
              " 'هل',\n",
              " 'هلا',\n",
              " 'هم',\n",
              " 'هما',\n",
              " 'هن',\n",
              " 'هنا',\n",
              " 'هناك',\n",
              " 'هنالك',\n",
              " 'هو',\n",
              " 'هؤلاء',\n",
              " 'هي',\n",
              " 'هيا',\n",
              " 'هيت',\n",
              " 'هيهات',\n",
              " 'والذي',\n",
              " 'والذين',\n",
              " 'وإذ',\n",
              " 'وإذا',\n",
              " 'وإن',\n",
              " 'ولا',\n",
              " 'ولكن',\n",
              " 'ولو',\n",
              " 'وما',\n",
              " 'ومن',\n",
              " 'وهو',\n",
              " 'يا',\n",
              " 'أبٌ',\n",
              " 'أخٌ',\n",
              " 'حمٌ',\n",
              " 'فو',\n",
              " 'أنتِ',\n",
              " 'يناير',\n",
              " 'فبراير',\n",
              " 'مارس',\n",
              " 'أبريل',\n",
              " 'مايو',\n",
              " 'يونيو',\n",
              " 'يوليو',\n",
              " 'أغسطس',\n",
              " 'سبتمبر',\n",
              " 'أكتوبر',\n",
              " 'نوفمبر',\n",
              " 'ديسمبر',\n",
              " 'جانفي',\n",
              " 'فيفري',\n",
              " 'مارس',\n",
              " 'أفريل',\n",
              " 'ماي',\n",
              " 'جوان',\n",
              " 'جويلية',\n",
              " 'أوت',\n",
              " 'كانون',\n",
              " 'شباط',\n",
              " 'آذار',\n",
              " 'نيسان',\n",
              " 'أيار',\n",
              " 'حزيران',\n",
              " 'تموز',\n",
              " 'آب',\n",
              " 'أيلول',\n",
              " 'تشرين',\n",
              " 'دولار',\n",
              " 'دينار',\n",
              " 'ريال',\n",
              " 'درهم',\n",
              " 'ليرة',\n",
              " 'جنيه',\n",
              " 'قرش',\n",
              " 'مليم',\n",
              " 'فلس',\n",
              " 'هللة',\n",
              " 'سنتيم',\n",
              " 'يورو',\n",
              " 'ين',\n",
              " 'يوان',\n",
              " 'شيكل',\n",
              " 'واحد',\n",
              " 'اثنان',\n",
              " 'ثلاثة',\n",
              " 'أربعة',\n",
              " 'خمسة',\n",
              " 'ستة',\n",
              " 'سبعة',\n",
              " 'ثمانية',\n",
              " 'تسعة',\n",
              " 'عشرة',\n",
              " 'أحد',\n",
              " 'اثنا',\n",
              " 'اثني',\n",
              " 'إحدى',\n",
              " 'ثلاث',\n",
              " 'أربع',\n",
              " 'خمس',\n",
              " 'ست',\n",
              " 'سبع',\n",
              " 'ثماني',\n",
              " 'تسع',\n",
              " 'عشر',\n",
              " 'ثمان',\n",
              " 'سبت',\n",
              " 'أحد',\n",
              " 'اثنين',\n",
              " 'ثلاثاء',\n",
              " 'أربعاء',\n",
              " 'خميس',\n",
              " 'جمعة',\n",
              " 'أول',\n",
              " 'ثان',\n",
              " 'ثاني',\n",
              " 'ثالث',\n",
              " 'رابع',\n",
              " 'خامس',\n",
              " 'سادس',\n",
              " 'سابع',\n",
              " 'ثامن',\n",
              " 'تاسع',\n",
              " 'عاشر',\n",
              " 'حادي',\n",
              " 'أ',\n",
              " 'ب',\n",
              " 'ت',\n",
              " 'ث',\n",
              " 'ج',\n",
              " 'ح',\n",
              " 'خ',\n",
              " 'د',\n",
              " 'ذ',\n",
              " 'ر',\n",
              " 'ز',\n",
              " 'س',\n",
              " 'ش',\n",
              " 'ص',\n",
              " 'ض',\n",
              " 'ط',\n",
              " 'ظ',\n",
              " 'ع',\n",
              " 'غ',\n",
              " 'ف',\n",
              " 'ق',\n",
              " 'ك',\n",
              " 'ل',\n",
              " 'م',\n",
              " 'ن',\n",
              " 'ه',\n",
              " 'و',\n",
              " 'ي',\n",
              " 'ء',\n",
              " 'ى',\n",
              " 'آ',\n",
              " 'ؤ',\n",
              " 'ئ',\n",
              " 'أ',\n",
              " 'ة',\n",
              " 'ألف',\n",
              " 'باء',\n",
              " 'تاء',\n",
              " 'ثاء',\n",
              " 'جيم',\n",
              " 'حاء',\n",
              " 'خاء',\n",
              " 'دال',\n",
              " 'ذال',\n",
              " 'راء',\n",
              " 'زاي',\n",
              " 'سين',\n",
              " 'شين',\n",
              " 'صاد',\n",
              " 'ضاد',\n",
              " 'طاء',\n",
              " 'ظاء',\n",
              " 'عين',\n",
              " 'غين',\n",
              " 'فاء',\n",
              " 'قاف',\n",
              " 'كاف',\n",
              " 'لام',\n",
              " 'ميم',\n",
              " 'نون',\n",
              " 'هاء',\n",
              " 'واو',\n",
              " 'ياء',\n",
              " 'همزة',\n",
              " 'ي',\n",
              " 'نا',\n",
              " 'ك',\n",
              " 'كن',\n",
              " 'ه',\n",
              " 'إياه',\n",
              " 'إياها',\n",
              " 'إياهما',\n",
              " 'إياهم',\n",
              " 'إياهن',\n",
              " 'إياك',\n",
              " 'إياكما',\n",
              " 'إياكم',\n",
              " 'إياك',\n",
              " 'إياكن',\n",
              " 'إياي',\n",
              " 'إيانا',\n",
              " 'أولالك',\n",
              " 'تانِ',\n",
              " 'تانِك',\n",
              " 'تِه',\n",
              " 'تِي',\n",
              " 'تَيْنِ',\n",
              " 'ثمّ',\n",
              " 'ثمّة',\n",
              " 'ذانِ',\n",
              " 'ذِه',\n",
              " 'ذِي',\n",
              " 'ذَيْنِ',\n",
              " 'هَؤلاء',\n",
              " 'هَاتانِ',\n",
              " 'هَاتِه',\n",
              " 'هَاتِي',\n",
              " 'هَاتَيْنِ',\n",
              " 'هَذا',\n",
              " 'هَذانِ',\n",
              " 'هَذِه',\n",
              " 'هَذِي',\n",
              " 'هَذَيْنِ',\n",
              " 'الألى',\n",
              " 'الألاء',\n",
              " 'أل',\n",
              " 'أنّى',\n",
              " 'أيّ',\n",
              " 'ّأيّان',\n",
              " 'أنّى',\n",
              " 'أيّ',\n",
              " 'ّأيّان',\n",
              " 'ذيت',\n",
              " 'كأيّ',\n",
              " 'كأيّن',\n",
              " 'بضع',\n",
              " 'فلان',\n",
              " 'وا',\n",
              " 'آمينَ',\n",
              " 'آهِ',\n",
              " 'آهٍ',\n",
              " 'آهاً',\n",
              " 'أُفٍّ',\n",
              " 'أُفٍّ',\n",
              " 'أفٍّ',\n",
              " 'أمامك',\n",
              " 'أمامكَ',\n",
              " 'أوّهْ',\n",
              " 'إلَيْكَ',\n",
              " 'إلَيْكَ',\n",
              " 'إليكَ',\n",
              " 'إليكنّ',\n",
              " 'إيهٍ',\n",
              " 'بخٍ',\n",
              " 'بسّ',\n",
              " 'بَسْ',\n",
              " 'بطآن',\n",
              " 'بَلْهَ',\n",
              " 'حاي',\n",
              " 'حَذارِ',\n",
              " 'حيَّ',\n",
              " 'حيَّ',\n",
              " 'دونك',\n",
              " 'رويدك',\n",
              " 'سرعان',\n",
              " 'شتانَ',\n",
              " 'شَتَّانَ',\n",
              " 'صهْ',\n",
              " 'صهٍ',\n",
              " 'طاق',\n",
              " 'طَق',\n",
              " 'عَدَسْ',\n",
              " 'كِخ',\n",
              " 'مكانَك',\n",
              " 'مكانَك',\n",
              " 'مكانَك',\n",
              " 'مكانكم',\n",
              " 'مكانكما',\n",
              " 'مكانكنّ',\n",
              " 'نَخْ',\n",
              " 'هاكَ',\n",
              " 'هَجْ',\n",
              " 'هلم',\n",
              " 'هيّا',\n",
              " 'هَيْهات',\n",
              " 'وا',\n",
              " 'واهاً',\n",
              " 'وراءَك',\n",
              " 'وُشْكَانَ',\n",
              " 'وَيْ',\n",
              " 'يفعلان',\n",
              " 'تفعلان',\n",
              " 'يفعلون',\n",
              " 'تفعلون',\n",
              " 'تفعلين',\n",
              " 'اتخذ',\n",
              " 'ألفى',\n",
              " 'تخذ',\n",
              " 'ترك',\n",
              " 'تعلَّم',\n",
              " 'جعل',\n",
              " 'حجا',\n",
              " 'حبيب',\n",
              " 'خال',\n",
              " 'حسب',\n",
              " 'خال',\n",
              " 'درى',\n",
              " 'رأى',\n",
              " 'زعم',\n",
              " 'صبر',\n",
              " 'ظنَّ',\n",
              " 'عدَّ',\n",
              " 'علم',\n",
              " 'غادر',\n",
              " 'ذهب',\n",
              " 'وجد',\n",
              " 'ورد',\n",
              " 'وهب',\n",
              " 'أسكن',\n",
              " 'أطعم',\n",
              " 'أعطى',\n",
              " 'رزق',\n",
              " 'زود',\n",
              " 'سقى',\n",
              " 'كسا',\n",
              " 'أخبر',\n",
              " 'أرى',\n",
              " 'أعلم',\n",
              " 'أنبأ',\n",
              " 'حدَث',\n",
              " 'خبَّر',\n",
              " 'نبَّا',\n",
              " 'أفعل به',\n",
              " 'ما أفعله',\n",
              " 'بئس',\n",
              " 'ساء',\n",
              " 'طالما',\n",
              " 'قلما',\n",
              " 'لات',\n",
              " 'لكنَّ',\n",
              " 'ءَ',\n",
              " 'أجل',\n",
              " 'إذاً',\n",
              " 'أمّا',\n",
              " 'إمّا',\n",
              " 'إنَّ',\n",
              " 'أنًّ',\n",
              " 'أى',\n",
              " 'إى',\n",
              " 'أيا',\n",
              " 'ب',\n",
              " 'ثمَّ',\n",
              " 'جلل',\n",
              " 'جير',\n",
              " 'رُبَّ',\n",
              " 'س',\n",
              " 'علًّ',\n",
              " 'ف',\n",
              " 'كأنّ',\n",
              " 'كلَّا',\n",
              " 'كى',\n",
              " 'ل',\n",
              " 'لات',\n",
              " 'لعلَّ',\n",
              " 'لكنَّ',\n",
              " 'لكنَّ',\n",
              " 'م',\n",
              " 'نَّ',\n",
              " 'هلّا',\n",
              " 'وا',\n",
              " 'أل',\n",
              " 'إلّا',\n",
              " 'ت',\n",
              " 'ك',\n",
              " 'لمّا',\n",
              " 'ن',\n",
              " 'ه',\n",
              " 'و',\n",
              " 'ا',\n",
              " 'ي',\n",
              " 'تجاه',\n",
              " 'تلقاء',\n",
              " 'جميع',\n",
              " 'حسب',\n",
              " 'سبحان',\n",
              " 'شبه',\n",
              " 'لعمر',\n",
              " 'مثل',\n",
              " 'معاذ',\n",
              " 'أبو',\n",
              " 'أخو',\n",
              " 'حمو',\n",
              " 'فو',\n",
              " 'مئة',\n",
              " 'مئتان',\n",
              " 'ثلاثمئة',\n",
              " 'أربعمئة',\n",
              " 'خمسمئة',\n",
              " 'ستمئة',\n",
              " 'سبعمئة',\n",
              " 'ثمنمئة',\n",
              " 'تسعمئة',\n",
              " 'مائة',\n",
              " 'ثلاثمائة',\n",
              " 'أربعمائة',\n",
              " 'خمسمائة',\n",
              " 'ستمائة',\n",
              " 'سبعمائة',\n",
              " 'ثمانمئة',\n",
              " 'تسعمائة',\n",
              " 'عشرون',\n",
              " 'ثلاثون',\n",
              " 'اربعون',\n",
              " 'خمسون',\n",
              " 'ستون',\n",
              " 'سبعون',\n",
              " 'ثمانون',\n",
              " 'تسعون',\n",
              " 'عشرين',\n",
              " 'ثلاثين',\n",
              " 'اربعين',\n",
              " 'خمسين',\n",
              " 'ستين',\n",
              " 'سبعين',\n",
              " 'ثمانين',\n",
              " 'تسعين',\n",
              " 'بضع',\n",
              " 'نيف',\n",
              " 'أجمع',\n",
              " 'جميع',\n",
              " 'عامة',\n",
              " 'عين',\n",
              " 'نفس',\n",
              " 'لا سيما',\n",
              " 'أصلا',\n",
              " 'أهلا',\n",
              " 'أيضا',\n",
              " 'بؤسا',\n",
              " 'بعدا',\n",
              " 'بغتة',\n",
              " 'تعسا',\n",
              " 'حقا',\n",
              " 'حمدا',\n",
              " 'خلافا',\n",
              " 'خاصة',\n",
              " 'دواليك',\n",
              " 'سحقا',\n",
              " 'سرا',\n",
              " 'سمعا',\n",
              " 'صبرا',\n",
              " 'صدقا',\n",
              " 'صراحة',\n",
              " 'طرا',\n",
              " 'عجبا',\n",
              " 'عيانا',\n",
              " 'غالبا',\n",
              " 'فرادى',\n",
              " 'فضلا',\n",
              " 'قاطبة',\n",
              " 'كثيرا',\n",
              " 'لبيك',\n",
              " 'معاذ',\n",
              " 'أبدا',\n",
              " 'إزاء',\n",
              " 'أصلا',\n",
              " 'الآن',\n",
              " 'أمد',\n",
              " 'أمس',\n",
              " 'آنفا',\n",
              " 'آناء',\n",
              " 'أنّى',\n",
              " 'أول',\n",
              " 'أيّان',\n",
              " 'تارة',\n",
              " 'ثمّ',\n",
              " 'ثمّة',\n",
              " 'حقا',\n",
              " 'صباح',\n",
              " 'مساء',\n",
              " 'ضحوة',\n",
              " 'عوض',\n",
              " 'غدا',\n",
              " 'غداة',\n",
              " 'قطّ',\n",
              " 'كلّما',\n",
              " 'لدن',\n",
              " 'لمّا',\n",
              " 'مرّة',\n",
              " 'قبل',\n",
              " 'خلف',\n",
              " 'أمام',\n",
              " 'فوق',\n",
              " 'تحت',\n",
              " 'يمين',\n",
              " 'شمال',\n",
              " 'ارتدّ',\n",
              " 'استحال',\n",
              " 'أصبح',\n",
              " 'أضحى',\n",
              " 'آض',\n",
              " 'أمسى',\n",
              " 'انقلب',\n",
              " 'بات',\n",
              " 'تبدّل',\n",
              " 'تحوّل',\n",
              " 'حار',\n",
              " 'رجع',\n",
              " 'راح',\n",
              " 'صار',\n",
              " 'ظلّ',\n",
              " 'عاد',\n",
              " 'غدا',\n",
              " 'كان',\n",
              " 'ما انفك',\n",
              " 'ما برح',\n",
              " 'مادام',\n",
              " 'مازال',\n",
              " 'مافتئ',\n",
              " 'ابتدأ',\n",
              " 'أخذ',\n",
              " 'اخلولق',\n",
              " 'أقبل',\n",
              " 'انبرى',\n",
              " 'أنشأ',\n",
              " 'أوشك',\n",
              " 'جعل',\n",
              " 'حرى',\n",
              " 'شرع',\n",
              " 'طفق',\n",
              " 'علق',\n",
              " 'قام',\n",
              " 'كرب',\n",
              " 'كاد',\n",
              " 'هبّ']"
            ]
          },
          "execution_count": 54,
          "metadata": {},
          "output_type": "execute_result"
        }
      ],
      "source": [
        "stopwords.words('arabic')"
      ]
    },
    {
      "cell_type": "code",
      "execution_count": 55,
      "metadata": {
        "colab": {
          "base_uri": "https://localhost:8080/"
        },
        "id": "f741LVAW-wR9",
        "outputId": "f0eb1dcb-93ee-4dfc-c2a5-063346f9e3dc"
      },
      "outputs": [
        {
          "data": {
            "text/plain": [
              "754"
            ]
          },
          "execution_count": 55,
          "metadata": {},
          "output_type": "execute_result"
        }
      ],
      "source": [
        "len(stopwords.words('arabic'))"
      ]
    },
    {
      "cell_type": "code",
      "execution_count": 56,
      "metadata": {
        "colab": {
          "base_uri": "https://localhost:8080/"
        },
        "id": "Vw87zgp7-1Ex",
        "outputId": "6950128d-3978-4ad6-81a9-36c689f20efe"
      },
      "outputs": [
        {
          "data": {
            "text/plain": [
              "['и',\n",
              " 'в',\n",
              " 'во',\n",
              " 'не',\n",
              " 'что',\n",
              " 'он',\n",
              " 'на',\n",
              " 'я',\n",
              " 'с',\n",
              " 'со',\n",
              " 'как',\n",
              " 'а',\n",
              " 'то',\n",
              " 'все',\n",
              " 'она',\n",
              " 'так',\n",
              " 'его',\n",
              " 'но',\n",
              " 'да',\n",
              " 'ты',\n",
              " 'к',\n",
              " 'у',\n",
              " 'же',\n",
              " 'вы',\n",
              " 'за',\n",
              " 'бы',\n",
              " 'по',\n",
              " 'только',\n",
              " 'ее',\n",
              " 'мне',\n",
              " 'было',\n",
              " 'вот',\n",
              " 'от',\n",
              " 'меня',\n",
              " 'еще',\n",
              " 'нет',\n",
              " 'о',\n",
              " 'из',\n",
              " 'ему',\n",
              " 'теперь',\n",
              " 'когда',\n",
              " 'даже',\n",
              " 'ну',\n",
              " 'вдруг',\n",
              " 'ли',\n",
              " 'если',\n",
              " 'уже',\n",
              " 'или',\n",
              " 'ни',\n",
              " 'быть',\n",
              " 'был',\n",
              " 'него',\n",
              " 'до',\n",
              " 'вас',\n",
              " 'нибудь',\n",
              " 'опять',\n",
              " 'уж',\n",
              " 'вам',\n",
              " 'ведь',\n",
              " 'там',\n",
              " 'потом',\n",
              " 'себя',\n",
              " 'ничего',\n",
              " 'ей',\n",
              " 'может',\n",
              " 'они',\n",
              " 'тут',\n",
              " 'где',\n",
              " 'есть',\n",
              " 'надо',\n",
              " 'ней',\n",
              " 'для',\n",
              " 'мы',\n",
              " 'тебя',\n",
              " 'их',\n",
              " 'чем',\n",
              " 'была',\n",
              " 'сам',\n",
              " 'чтоб',\n",
              " 'без',\n",
              " 'будто',\n",
              " 'чего',\n",
              " 'раз',\n",
              " 'тоже',\n",
              " 'себе',\n",
              " 'под',\n",
              " 'будет',\n",
              " 'ж',\n",
              " 'тогда',\n",
              " 'кто',\n",
              " 'этот',\n",
              " 'того',\n",
              " 'потому',\n",
              " 'этого',\n",
              " 'какой',\n",
              " 'совсем',\n",
              " 'ним',\n",
              " 'здесь',\n",
              " 'этом',\n",
              " 'один',\n",
              " 'почти',\n",
              " 'мой',\n",
              " 'тем',\n",
              " 'чтобы',\n",
              " 'нее',\n",
              " 'сейчас',\n",
              " 'были',\n",
              " 'куда',\n",
              " 'зачем',\n",
              " 'всех',\n",
              " 'никогда',\n",
              " 'можно',\n",
              " 'при',\n",
              " 'наконец',\n",
              " 'два',\n",
              " 'об',\n",
              " 'другой',\n",
              " 'хоть',\n",
              " 'после',\n",
              " 'над',\n",
              " 'больше',\n",
              " 'тот',\n",
              " 'через',\n",
              " 'эти',\n",
              " 'нас',\n",
              " 'про',\n",
              " 'всего',\n",
              " 'них',\n",
              " 'какая',\n",
              " 'много',\n",
              " 'разве',\n",
              " 'три',\n",
              " 'эту',\n",
              " 'моя',\n",
              " 'впрочем',\n",
              " 'хорошо',\n",
              " 'свою',\n",
              " 'этой',\n",
              " 'перед',\n",
              " 'иногда',\n",
              " 'лучше',\n",
              " 'чуть',\n",
              " 'том',\n",
              " 'нельзя',\n",
              " 'такой',\n",
              " 'им',\n",
              " 'более',\n",
              " 'всегда',\n",
              " 'конечно',\n",
              " 'всю',\n",
              " 'между']"
            ]
          },
          "execution_count": 56,
          "metadata": {},
          "output_type": "execute_result"
        }
      ],
      "source": [
        "stopwords.words('russian')"
      ]
    },
    {
      "cell_type": "code",
      "execution_count": 57,
      "metadata": {
        "colab": {
          "base_uri": "https://localhost:8080/"
        },
        "id": "TJqvL0Df-3Yb",
        "outputId": "a653aab9-f90e-49a1-c55b-d9f2d2efbad2"
      },
      "outputs": [
        {
          "data": {
            "text/plain": [
              "151"
            ]
          },
          "execution_count": 57,
          "metadata": {},
          "output_type": "execute_result"
        }
      ],
      "source": [
        "len(stopwords.words('russian'))"
      ]
    },
    {
      "cell_type": "code",
      "execution_count": 58,
      "metadata": {
        "colab": {
          "base_uri": "https://localhost:8080/"
        },
        "id": "hg_exA0y-510",
        "outputId": "af1fa3f4-d759-44c6-9b7a-a7c6226c7df1"
      },
      "outputs": [
        {
          "data": {
            "text/plain": [
              "['一',\n",
              " '一下',\n",
              " '一些',\n",
              " '一切',\n",
              " '一则',\n",
              " '一天',\n",
              " '一定',\n",
              " '一方面',\n",
              " '一旦',\n",
              " '一时',\n",
              " '一来',\n",
              " '一样',\n",
              " '一次',\n",
              " '一片',\n",
              " '一直',\n",
              " '一致',\n",
              " '一般',\n",
              " '一起',\n",
              " '一边',\n",
              " '一面',\n",
              " '万一',\n",
              " '上下',\n",
              " '上升',\n",
              " '上去',\n",
              " '上来',\n",
              " '上述',\n",
              " '上面',\n",
              " '下列',\n",
              " '下去',\n",
              " '下来',\n",
              " '下面',\n",
              " '不一',\n",
              " '不久',\n",
              " '不仅',\n",
              " '不会',\n",
              " '不但',\n",
              " '不光',\n",
              " '不单',\n",
              " '不变',\n",
              " '不只',\n",
              " '不可',\n",
              " '不同',\n",
              " '不够',\n",
              " '不如',\n",
              " '不得',\n",
              " '不怕',\n",
              " '不惟',\n",
              " '不成',\n",
              " '不拘',\n",
              " '不敢',\n",
              " '不断',\n",
              " '不是',\n",
              " '不比',\n",
              " '不然',\n",
              " '不特',\n",
              " '不独',\n",
              " '不管',\n",
              " '不能',\n",
              " '不要',\n",
              " '不论',\n",
              " '不足',\n",
              " '不过',\n",
              " '不问',\n",
              " '与',\n",
              " '与其',\n",
              " '与否',\n",
              " '与此同时',\n",
              " '专门',\n",
              " '且',\n",
              " '两者',\n",
              " '严格',\n",
              " '严重',\n",
              " '个',\n",
              " '个人',\n",
              " '个别',\n",
              " '中小',\n",
              " '中间',\n",
              " '丰富',\n",
              " '临',\n",
              " '为',\n",
              " '为主',\n",
              " '为了',\n",
              " '为什么',\n",
              " '为什麽',\n",
              " '为何',\n",
              " '为着',\n",
              " '主张',\n",
              " '主要',\n",
              " '举行',\n",
              " '乃',\n",
              " '乃至',\n",
              " '么',\n",
              " '之',\n",
              " '之一',\n",
              " '之前',\n",
              " '之后',\n",
              " '之後',\n",
              " '之所以',\n",
              " '之类',\n",
              " '乌乎',\n",
              " '乎',\n",
              " '乘',\n",
              " '也',\n",
              " '也好',\n",
              " '也是',\n",
              " '也罢',\n",
              " '了',\n",
              " '了解',\n",
              " '争取',\n",
              " '于',\n",
              " '于是',\n",
              " '于是乎',\n",
              " '云云',\n",
              " '互相',\n",
              " '产生',\n",
              " '人们',\n",
              " '人家',\n",
              " '什么',\n",
              " '什么样',\n",
              " '什麽',\n",
              " '今后',\n",
              " '今天',\n",
              " '今年',\n",
              " '今後',\n",
              " '仍然',\n",
              " '从',\n",
              " '从事',\n",
              " '从而',\n",
              " '他',\n",
              " '他人',\n",
              " '他们',\n",
              " '他的',\n",
              " '代替',\n",
              " '以',\n",
              " '以上',\n",
              " '以下',\n",
              " '以为',\n",
              " '以便',\n",
              " '以免',\n",
              " '以前',\n",
              " '以及',\n",
              " '以后',\n",
              " '以外',\n",
              " '以後',\n",
              " '以来',\n",
              " '以至',\n",
              " '以至于',\n",
              " '以致',\n",
              " '们',\n",
              " '任',\n",
              " '任何',\n",
              " '任凭',\n",
              " '任务',\n",
              " '企图',\n",
              " '伟大',\n",
              " '似乎',\n",
              " '似的',\n",
              " '但',\n",
              " '但是',\n",
              " '何',\n",
              " '何况',\n",
              " '何处',\n",
              " '何时',\n",
              " '作为',\n",
              " '你',\n",
              " '你们',\n",
              " '你的',\n",
              " '使得',\n",
              " '使用',\n",
              " '例如',\n",
              " '依',\n",
              " '依照',\n",
              " '依靠',\n",
              " '促进',\n",
              " '保持',\n",
              " '俺',\n",
              " '俺们',\n",
              " '倘',\n",
              " '倘使',\n",
              " '倘或',\n",
              " '倘然',\n",
              " '倘若',\n",
              " '假使',\n",
              " '假如',\n",
              " '假若',\n",
              " '做到',\n",
              " '像',\n",
              " '允许',\n",
              " '充分',\n",
              " '先后',\n",
              " '先後',\n",
              " '先生',\n",
              " '全部',\n",
              " '全面',\n",
              " '兮',\n",
              " '共同',\n",
              " '关于',\n",
              " '其',\n",
              " '其一',\n",
              " '其中',\n",
              " '其二',\n",
              " '其他',\n",
              " '其余',\n",
              " '其它',\n",
              " '其实',\n",
              " '其次',\n",
              " '具体',\n",
              " '具体地说',\n",
              " '具体说来',\n",
              " '具有',\n",
              " '再者',\n",
              " '再说',\n",
              " '冒',\n",
              " '冲',\n",
              " '决定',\n",
              " '况且',\n",
              " '准备',\n",
              " '几',\n",
              " '几乎',\n",
              " '几时',\n",
              " '凭',\n",
              " '凭借',\n",
              " '出去',\n",
              " '出来',\n",
              " '出现',\n",
              " '分别',\n",
              " '则',\n",
              " '别',\n",
              " '别的',\n",
              " '别说',\n",
              " '到',\n",
              " '前后',\n",
              " '前者',\n",
              " '前进',\n",
              " '前面',\n",
              " '加之',\n",
              " '加以',\n",
              " '加入',\n",
              " '加强',\n",
              " '十分',\n",
              " '即',\n",
              " '即令',\n",
              " '即使',\n",
              " '即便',\n",
              " '即或',\n",
              " '即若',\n",
              " '却不',\n",
              " '原来',\n",
              " '又',\n",
              " '及',\n",
              " '及其',\n",
              " '及时',\n",
              " '及至',\n",
              " '双方',\n",
              " '反之',\n",
              " '反应',\n",
              " '反映',\n",
              " '反过来',\n",
              " '反过来说',\n",
              " '取得',\n",
              " '受到',\n",
              " '变成',\n",
              " '另',\n",
              " '另一方面',\n",
              " '另外',\n",
              " '只是',\n",
              " '只有',\n",
              " '只要',\n",
              " '只限',\n",
              " '叫',\n",
              " '叫做',\n",
              " '召开',\n",
              " '叮咚',\n",
              " '可',\n",
              " '可以',\n",
              " '可是',\n",
              " '可能',\n",
              " '可见',\n",
              " '各',\n",
              " '各个',\n",
              " '各人',\n",
              " '各位',\n",
              " '各地',\n",
              " '各种',\n",
              " '各级',\n",
              " '各自',\n",
              " '合理',\n",
              " '同',\n",
              " '同一',\n",
              " '同时',\n",
              " '同样',\n",
              " '后来',\n",
              " '后面',\n",
              " '向',\n",
              " '向着',\n",
              " '吓',\n",
              " '吗',\n",
              " '否则',\n",
              " '吧',\n",
              " '吧哒',\n",
              " '吱',\n",
              " '呀',\n",
              " '呃',\n",
              " '呕',\n",
              " '呗',\n",
              " '呜',\n",
              " '呜呼',\n",
              " '呢',\n",
              " '周围',\n",
              " '呵',\n",
              " '呸',\n",
              " '呼哧',\n",
              " '咋',\n",
              " '和',\n",
              " '咚',\n",
              " '咦',\n",
              " '咱',\n",
              " '咱们',\n",
              " '咳',\n",
              " '哇',\n",
              " '哈',\n",
              " '哈哈',\n",
              " '哉',\n",
              " '哎',\n",
              " '哎呀',\n",
              " '哎哟',\n",
              " '哗',\n",
              " '哟',\n",
              " '哦',\n",
              " '哩',\n",
              " '哪',\n",
              " '哪个',\n",
              " '哪些',\n",
              " '哪儿',\n",
              " '哪天',\n",
              " '哪年',\n",
              " '哪怕',\n",
              " '哪样',\n",
              " '哪边',\n",
              " '哪里',\n",
              " '哼',\n",
              " '哼唷',\n",
              " '唉',\n",
              " '啊',\n",
              " '啐',\n",
              " '啥',\n",
              " '啦',\n",
              " '啪达',\n",
              " '喂',\n",
              " '喏',\n",
              " '喔唷',\n",
              " '嗡嗡',\n",
              " '嗬',\n",
              " '嗯',\n",
              " '嗳',\n",
              " '嘎',\n",
              " '嘎登',\n",
              " '嘘',\n",
              " '嘛',\n",
              " '嘻',\n",
              " '嘿',\n",
              " '因',\n",
              " '因为',\n",
              " '因此',\n",
              " '因而',\n",
              " '固然',\n",
              " '在',\n",
              " '在下',\n",
              " '地',\n",
              " '坚决',\n",
              " '坚持',\n",
              " '基本',\n",
              " '处理',\n",
              " '复杂',\n",
              " '多',\n",
              " '多少',\n",
              " '多数',\n",
              " '多次',\n",
              " '大力',\n",
              " '大多数',\n",
              " '大大',\n",
              " '大家',\n",
              " '大批',\n",
              " '大约',\n",
              " '大量',\n",
              " '失去',\n",
              " '她',\n",
              " '她们',\n",
              " '她的',\n",
              " '好的',\n",
              " '好象',\n",
              " '如',\n",
              " '如上所述',\n",
              " '如下',\n",
              " '如何',\n",
              " '如其',\n",
              " '如果',\n",
              " '如此',\n",
              " '如若',\n",
              " '存在',\n",
              " '宁',\n",
              " '宁可',\n",
              " '宁愿',\n",
              " '宁肯',\n",
              " '它',\n",
              " '它们',\n",
              " '它们的',\n",
              " '它的',\n",
              " '安全',\n",
              " '完全',\n",
              " '完成',\n",
              " '实现',\n",
              " '实际',\n",
              " '宣布',\n",
              " '容易',\n",
              " '密切',\n",
              " '对',\n",
              " '对于',\n",
              " '对应',\n",
              " '将',\n",
              " '少数',\n",
              " '尔后',\n",
              " '尚且',\n",
              " '尤其',\n",
              " '就',\n",
              " '就是',\n",
              " '就是说',\n",
              " '尽',\n",
              " '尽管',\n",
              " '属于',\n",
              " '岂但',\n",
              " '左右',\n",
              " '巨大',\n",
              " '巩固',\n",
              " '己',\n",
              " '已经',\n",
              " '帮助',\n",
              " '常常',\n",
              " '并',\n",
              " '并不',\n",
              " '并不是',\n",
              " '并且',\n",
              " '并没有',\n",
              " '广大',\n",
              " '广泛',\n",
              " '应当',\n",
              " '应用',\n",
              " '应该',\n",
              " '开外',\n",
              " '开始',\n",
              " '开展',\n",
              " '引起',\n",
              " '强烈',\n",
              " '强调',\n",
              " '归',\n",
              " '当',\n",
              " '当前',\n",
              " '当时',\n",
              " '当然',\n",
              " '当着',\n",
              " '形成',\n",
              " '彻底',\n",
              " '彼',\n",
              " '彼此',\n",
              " '往',\n",
              " '往往',\n",
              " '待',\n",
              " '後来',\n",
              " '後面',\n",
              " '得',\n",
              " '得出',\n",
              " '得到',\n",
              " '心里',\n",
              " '必然',\n",
              " '必要',\n",
              " '必须',\n",
              " '怎',\n",
              " '怎么',\n",
              " '怎么办',\n",
              " '怎么样',\n",
              " '怎样',\n",
              " '怎麽',\n",
              " '总之',\n",
              " '总是',\n",
              " '总的来看',\n",
              " '总的来说',\n",
              " '总的说来',\n",
              " '总结',\n",
              " '总而言之',\n",
              " '恰恰相反',\n",
              " '您',\n",
              " '意思',\n",
              " '愿意',\n",
              " '慢说',\n",
              " '成为',\n",
              " '我',\n",
              " '我们',\n",
              " '我的',\n",
              " '或',\n",
              " '或是',\n",
              " '或者',\n",
              " '战斗',\n",
              " '所',\n",
              " '所以',\n",
              " '所有',\n",
              " '所谓',\n",
              " '打',\n",
              " '扩大',\n",
              " '把',\n",
              " '抑或',\n",
              " '拿',\n",
              " '按',\n",
              " '按照',\n",
              " '换句话说',\n",
              " '换言之',\n",
              " '据',\n",
              " '掌握',\n",
              " '接着',\n",
              " '接著',\n",
              " '故',\n",
              " '故此',\n",
              " '整个',\n",
              " '方便',\n",
              " '方面',\n",
              " '旁人',\n",
              " '无宁',\n",
              " '无法',\n",
              " '无论',\n",
              " '既',\n",
              " '既是',\n",
              " '既然',\n",
              " '时候',\n",
              " '明显',\n",
              " '明确',\n",
              " '是',\n",
              " '是否',\n",
              " '是的',\n",
              " '显然',\n",
              " '显著',\n",
              " '普通',\n",
              " '普遍',\n",
              " '更加',\n",
              " '曾经',\n",
              " '替',\n",
              " '最后',\n",
              " '最大',\n",
              " '最好',\n",
              " '最後',\n",
              " '最近',\n",
              " '最高',\n",
              " '有',\n",
              " '有些',\n",
              " '有关',\n",
              " '有利',\n",
              " '有力',\n",
              " '有所',\n",
              " '有效',\n",
              " '有时',\n",
              " '有点',\n",
              " '有的',\n",
              " '有着',\n",
              " '有著',\n",
              " '望',\n",
              " '朝',\n",
              " '朝着',\n",
              " '本',\n",
              " '本着',\n",
              " '来',\n",
              " '来着',\n",
              " '极了',\n",
              " '构成',\n",
              " '果然',\n",
              " '果真',\n",
              " '某',\n",
              " '某个',\n",
              " '某些',\n",
              " '根据',\n",
              " '根本',\n",
              " '欢迎',\n",
              " '正在',\n",
              " '正如',\n",
              " '正常',\n",
              " '此',\n",
              " '此外',\n",
              " '此时',\n",
              " '此间',\n",
              " '毋宁',\n",
              " '每',\n",
              " '每个',\n",
              " '每天',\n",
              " '每年',\n",
              " '每当',\n",
              " '比',\n",
              " '比如',\n",
              " '比方',\n",
              " '比较',\n",
              " '毫不',\n",
              " '没有',\n",
              " '沿',\n",
              " '沿着',\n",
              " '注意',\n",
              " '深入',\n",
              " '清楚',\n",
              " '满足',\n",
              " '漫说',\n",
              " '焉',\n",
              " '然则',\n",
              " '然后',\n",
              " '然後',\n",
              " '然而',\n",
              " '照',\n",
              " '照着',\n",
              " '特别是',\n",
              " '特殊',\n",
              " '特点',\n",
              " '现代',\n",
              " '现在',\n",
              " '甚么',\n",
              " '甚而',\n",
              " '甚至',\n",
              " '用',\n",
              " '由',\n",
              " '由于',\n",
              " '由此可见',\n",
              " '的',\n",
              " '的话',\n",
              " '目前',\n",
              " '直到',\n",
              " '直接',\n",
              " '相似',\n",
              " '相信',\n",
              " '相反',\n",
              " '相同',\n",
              " '相对',\n",
              " '相对而言',\n",
              " '相应',\n",
              " '相当',\n",
              " '相等',\n",
              " '省得',\n",
              " '看出',\n",
              " '看到',\n",
              " '看来',\n",
              " '看看',\n",
              " '看见',\n",
              " '真是',\n",
              " '真正',\n",
              " '着',\n",
              " '着呢',\n",
              " '矣',\n",
              " '知道',\n",
              " '确定',\n",
              " '离',\n",
              " '积极',\n",
              " '移动',\n",
              " '突出',\n",
              " '突然',\n",
              " '立即',\n",
              " '第',\n",
              " '等',\n",
              " '等等',\n",
              " '管',\n",
              " '紧接着',\n",
              " '纵',\n",
              " '纵令',\n",
              " '纵使',\n",
              " '纵然',\n",
              " '练习',\n",
              " '组成',\n",
              " '经',\n",
              " '经常',\n",
              " '经过',\n",
              " '结合',\n",
              " '结果',\n",
              " '给',\n",
              " '绝对',\n",
              " '继续',\n",
              " '继而',\n",
              " '维持',\n",
              " '综上所述',\n",
              " '罢了',\n",
              " '考虑',\n",
              " '者',\n",
              " '而',\n",
              " '而且',\n",
              " '而况',\n",
              " '而外',\n",
              " '而已',\n",
              " '而是',\n",
              " '而言',\n",
              " '联系',\n",
              " '能',\n",
              " '能否',\n",
              " '能够',\n",
              " '腾',\n",
              " '自',\n",
              " '自个儿',\n",
              " '自从',\n",
              " '自各儿',\n",
              " '自家',\n",
              " '自己',\n",
              " '自身',\n",
              " '至',\n",
              " '至于',\n",
              " '良好',\n",
              " '若',\n",
              " '若是',\n",
              " '若非',\n",
              " '范围',\n",
              " '莫若',\n",
              " '获得',\n",
              " '虽',\n",
              " '虽则',\n",
              " '虽然',\n",
              " '虽说',\n",
              " '行为',\n",
              " '行动',\n",
              " '表明',\n",
              " '表示',\n",
              " '被',\n",
              " '要',\n",
              " '要不',\n",
              " '要不是',\n",
              " '要不然',\n",
              " '要么',\n",
              " '要是',\n",
              " '要求',\n",
              " '规定',\n",
              " '觉得',\n",
              " '认为',\n",
              " '认真',\n",
              " '认识',\n",
              " '让',\n",
              " '许多',\n",
              " '论',\n",
              " '设使',\n",
              " '设若',\n",
              " '该',\n",
              " '说明',\n",
              " '诸位',\n",
              " '谁',\n",
              " '谁知',\n",
              " '赶',\n",
              " '起',\n",
              " '起来',\n",
              " '起见',\n",
              " '趁',\n",
              " '趁着',\n",
              " '越是',\n",
              " '跟',\n",
              " '转动',\n",
              " '转变',\n",
              " '转贴',\n",
              " '较',\n",
              " '较之',\n",
              " '边',\n",
              " '达到',\n",
              " '迅速',\n",
              " '过',\n",
              " '过去',\n",
              " '过来',\n",
              " '运用',\n",
              " '还是',\n",
              " '还有',\n",
              " '这',\n",
              " '这个',\n",
              " '这么',\n",
              " '这么些',\n",
              " '这么样',\n",
              " '这么点儿',\n",
              " '这些',\n",
              " '这会儿',\n",
              " '这儿',\n",
              " '这就是说',\n",
              " '这时',\n",
              " '这样',\n",
              " '这点',\n",
              " '这种',\n",
              " '这边',\n",
              " '这里',\n",
              " '这麽',\n",
              " '进入',\n",
              " '进步',\n",
              " '进而',\n",
              " '进行',\n",
              " '连',\n",
              " '连同',\n",
              " '适应',\n",
              " '适当',\n",
              " '适用',\n",
              " '逐步',\n",
              " '逐渐',\n",
              " '通常',\n",
              " '通过',\n",
              " '造成',\n",
              " '遇到',\n",
              " '遭到',\n",
              " '避免',\n",
              " '那',\n",
              " '那个',\n",
              " '那么',\n",
              " '那么些',\n",
              " '那么样',\n",
              " '那些',\n",
              " '那会儿',\n",
              " '那儿',\n",
              " '那时',\n",
              " '那样',\n",
              " '那边',\n",
              " '那里',\n",
              " '那麽',\n",
              " '部分',\n",
              " '鄙人',\n",
              " '采取',\n",
              " '里面',\n",
              " '重大',\n",
              " '重新',\n",
              " '重要',\n",
              " '鉴于',\n",
              " '问题',\n",
              " '防止',\n",
              " '阿',\n",
              " '附近',\n",
              " '限制',\n",
              " '除',\n",
              " '除了',\n",
              " '除此之外',\n",
              " '除非',\n",
              " '随',\n",
              " '随着',\n",
              " '随著',\n",
              " '集中',\n",
              " '需要',\n",
              " '非但',\n",
              " '非常',\n",
              " '非徒',\n",
              " '靠',\n",
              " '顺',\n",
              " '顺着',\n",
              " '首先',\n",
              " '高兴',\n",
              " '是不是']"
            ]
          },
          "execution_count": 58,
          "metadata": {},
          "output_type": "execute_result"
        }
      ],
      "source": [
        "stopwords.words('chinese')"
      ]
    },
    {
      "cell_type": "code",
      "execution_count": 59,
      "metadata": {
        "colab": {
          "base_uri": "https://localhost:8080/"
        },
        "id": "j_AHWocg-9wx",
        "outputId": "d28d6cd5-c5e6-4013-85f5-e0a8cf51d392"
      },
      "outputs": [
        {
          "data": {
            "text/plain": [
              "841"
            ]
          },
          "execution_count": 59,
          "metadata": {},
          "output_type": "execute_result"
        }
      ],
      "source": [
        "len(stopwords.words('chinese'))"
      ]
    },
    {
      "cell_type": "code",
      "execution_count": 60,
      "metadata": {
        "colab": {
          "base_uri": "https://localhost:8080/",
          "height": 296
        },
        "id": "rH-XC1pa_BiX",
        "outputId": "d97e6884-99bd-40d0-d791-1d9e186886a3"
      },
      "outputs": [
        {
          "ename": "OSError",
          "evalue": "No such file or directory: 'C:\\\\Users\\\\hp\\\\AppData\\\\Roaming\\\\nltk_data\\\\corpora\\\\stopwords\\\\hindi'",
          "output_type": "error",
          "traceback": [
            "\u001b[31m---------------------------------------------------------------------------\u001b[39m",
            "\u001b[31mOSError\u001b[39m                                   Traceback (most recent call last)",
            "\u001b[36mCell\u001b[39m\u001b[36m \u001b[39m\u001b[32mIn[60]\u001b[39m\u001b[32m, line 1\u001b[39m\n\u001b[32m----> \u001b[39m\u001b[32m1\u001b[39m \u001b[43mstopwords\u001b[49m\u001b[43m.\u001b[49m\u001b[43mwords\u001b[49m\u001b[43m(\u001b[49m\u001b[33;43m'\u001b[39;49m\u001b[33;43mhindi\u001b[39;49m\u001b[33;43m'\u001b[39;49m\u001b[43m)\u001b[49m\n",
            "\u001b[36mFile \u001b[39m\u001b[32mc:\\Users\\hp\\AppData\\Local\\Programs\\Python\\Python313\\Lib\\site-packages\\nltk\\corpus\\reader\\wordlist.py:21\u001b[39m, in \u001b[36mWordListCorpusReader.words\u001b[39m\u001b[34m(self, fileids, ignore_lines_startswith)\u001b[39m\n\u001b[32m     18\u001b[39m \u001b[38;5;28;01mdef\u001b[39;00m\u001b[38;5;250m \u001b[39m\u001b[34mwords\u001b[39m(\u001b[38;5;28mself\u001b[39m, fileids=\u001b[38;5;28;01mNone\u001b[39;00m, ignore_lines_startswith=\u001b[33m\"\u001b[39m\u001b[38;5;130;01m\\n\u001b[39;00m\u001b[33m\"\u001b[39m):\n\u001b[32m     19\u001b[39m     \u001b[38;5;28;01mreturn\u001b[39;00m [\n\u001b[32m     20\u001b[39m         line\n\u001b[32m---> \u001b[39m\u001b[32m21\u001b[39m         \u001b[38;5;28;01mfor\u001b[39;00m line \u001b[38;5;129;01min\u001b[39;00m line_tokenize(\u001b[38;5;28;43mself\u001b[39;49m\u001b[43m.\u001b[49m\u001b[43mraw\u001b[49m\u001b[43m(\u001b[49m\u001b[43mfileids\u001b[49m\u001b[43m)\u001b[49m)\n\u001b[32m     22\u001b[39m         \u001b[38;5;28;01mif\u001b[39;00m \u001b[38;5;129;01mnot\u001b[39;00m line.startswith(ignore_lines_startswith)\n\u001b[32m     23\u001b[39m     ]\n",
            "\u001b[36mFile \u001b[39m\u001b[32mc:\\Users\\hp\\AppData\\Local\\Programs\\Python\\Python313\\Lib\\site-packages\\nltk\\corpus\\reader\\api.py:218\u001b[39m, in \u001b[36mCorpusReader.raw\u001b[39m\u001b[34m(self, fileids)\u001b[39m\n\u001b[32m    216\u001b[39m contents = []\n\u001b[32m    217\u001b[39m \u001b[38;5;28;01mfor\u001b[39;00m f \u001b[38;5;129;01min\u001b[39;00m fileids:\n\u001b[32m--> \u001b[39m\u001b[32m218\u001b[39m     \u001b[38;5;28;01mwith\u001b[39;00m \u001b[38;5;28;43mself\u001b[39;49m\u001b[43m.\u001b[49m\u001b[43mopen\u001b[49m\u001b[43m(\u001b[49m\u001b[43mf\u001b[49m\u001b[43m)\u001b[49m \u001b[38;5;28;01mas\u001b[39;00m fp:\n\u001b[32m    219\u001b[39m         contents.append(fp.read())\n\u001b[32m    220\u001b[39m \u001b[38;5;28;01mreturn\u001b[39;00m concat(contents)\n",
            "\u001b[36mFile \u001b[39m\u001b[32mc:\\Users\\hp\\AppData\\Local\\Programs\\Python\\Python313\\Lib\\site-packages\\nltk\\corpus\\reader\\api.py:231\u001b[39m, in \u001b[36mCorpusReader.open\u001b[39m\u001b[34m(self, file)\u001b[39m\n\u001b[32m    223\u001b[39m \u001b[38;5;250m\u001b[39m\u001b[33;03m\"\"\"\u001b[39;00m\n\u001b[32m    224\u001b[39m \u001b[33;03mReturn an open stream that can be used to read the given file.\u001b[39;00m\n\u001b[32m    225\u001b[39m \u001b[33;03mIf the file's encoding is not None, then the stream will\u001b[39;00m\n\u001b[32m   (...)\u001b[39m\u001b[32m    228\u001b[39m \u001b[33;03m:param file: The file identifier of the file to read.\u001b[39;00m\n\u001b[32m    229\u001b[39m \u001b[33;03m\"\"\"\u001b[39;00m\n\u001b[32m    230\u001b[39m encoding = \u001b[38;5;28mself\u001b[39m.encoding(file)\n\u001b[32m--> \u001b[39m\u001b[32m231\u001b[39m stream = \u001b[38;5;28;43mself\u001b[39;49m\u001b[43m.\u001b[49m\u001b[43m_root\u001b[49m\u001b[43m.\u001b[49m\u001b[43mjoin\u001b[49m\u001b[43m(\u001b[49m\u001b[43mfile\u001b[49m\u001b[43m)\u001b[49m.open(encoding)\n\u001b[32m    232\u001b[39m \u001b[38;5;28;01mreturn\u001b[39;00m stream\n",
            "\u001b[36mFile \u001b[39m\u001b[32mc:\\Users\\hp\\AppData\\Local\\Programs\\Python\\Python313\\Lib\\site-packages\\nltk\\data.py:333\u001b[39m, in \u001b[36mFileSystemPathPointer.join\u001b[39m\u001b[34m(self, fileid)\u001b[39m\n\u001b[32m    331\u001b[39m \u001b[38;5;28;01mdef\u001b[39;00m\u001b[38;5;250m \u001b[39m\u001b[34mjoin\u001b[39m(\u001b[38;5;28mself\u001b[39m, fileid):\n\u001b[32m    332\u001b[39m     _path = os.path.join(\u001b[38;5;28mself\u001b[39m._path, fileid)\n\u001b[32m--> \u001b[39m\u001b[32m333\u001b[39m     \u001b[38;5;28;01mreturn\u001b[39;00m \u001b[43mFileSystemPathPointer\u001b[49m\u001b[43m(\u001b[49m\u001b[43m_path\u001b[49m\u001b[43m)\u001b[49m\n",
            "\u001b[36mFile \u001b[39m\u001b[32mc:\\Users\\hp\\AppData\\Local\\Programs\\Python\\Python313\\Lib\\site-packages\\nltk\\data.py:311\u001b[39m, in \u001b[36mFileSystemPathPointer.__init__\u001b[39m\u001b[34m(self, _path)\u001b[39m\n\u001b[32m    309\u001b[39m _path = os.path.abspath(_path)\n\u001b[32m    310\u001b[39m \u001b[38;5;28;01mif\u001b[39;00m \u001b[38;5;129;01mnot\u001b[39;00m os.path.exists(_path):\n\u001b[32m--> \u001b[39m\u001b[32m311\u001b[39m     \u001b[38;5;28;01mraise\u001b[39;00m \u001b[38;5;167;01mOSError\u001b[39;00m(\u001b[33m\"\u001b[39m\u001b[33mNo such file or directory: \u001b[39m\u001b[38;5;132;01m%r\u001b[39;00m\u001b[33m\"\u001b[39m % _path)\n\u001b[32m    312\u001b[39m \u001b[38;5;28mself\u001b[39m._path = _path\n",
            "\u001b[31mOSError\u001b[39m: No such file or directory: 'C:\\\\Users\\\\hp\\\\AppData\\\\Roaming\\\\nltk_data\\\\corpora\\\\stopwords\\\\hindi'"
          ]
        }
      ],
      "source": [
        "stopwords.words('hindi')"
      ]
    },
    {
      "cell_type": "code",
      "execution_count": 61,
      "metadata": {
        "colab": {
          "base_uri": "https://localhost:8080/"
        },
        "id": "C_P-4DQF_Gtx",
        "outputId": "e1e73bc3-ee13-41e6-953e-6b7aa477f485"
      },
      "outputs": [
        {
          "data": {
            "text/plain": [
              "['sam', 'is', 'a', 'natural', 'when', 'it', 'comes', 'to', 'drawing']"
            ]
          },
          "execution_count": 61,
          "metadata": {},
          "output_type": "execute_result"
        }
      ],
      "source": [
        "sent = 'sam is a natural when it comes to drawing'\n",
        "sent_tokens = word_tokenize(sent)\n",
        "sent_tokens"
      ]
    },
    {
      "cell_type": "code",
      "execution_count": 62,
      "metadata": {
        "colab": {
          "base_uri": "https://localhost:8080/"
        },
        "id": "ywHa4rSIAOFO",
        "outputId": "feaccf57-95a1-40b4-e5ad-876b848bedc8"
      },
      "outputs": [
        {
          "name": "stdout",
          "output_type": "stream",
          "text": [
            "[('sam', 'NN')]\n",
            "[('is', 'VBZ')]\n",
            "[('a', 'DT')]\n",
            "[('natural', 'JJ')]\n",
            "[('when', 'WRB')]\n",
            "[('it', 'PRP')]\n",
            "[('comes', 'VBZ')]\n",
            "[('to', 'TO')]\n",
            "[('drawing', 'VBG')]\n"
          ]
        }
      ],
      "source": [
        "for token in sent_tokens:\n",
        "  print(nltk.pos_tag([token]))"
      ]
    },
    {
      "cell_type": "code",
      "execution_count": 63,
      "metadata": {
        "colab": {
          "base_uri": "https://localhost:8080/"
        },
        "id": "w-YUP9dIAdMk",
        "outputId": "ef1a2eb6-f7f0-4c50-aa00-6e2dcc675584"
      },
      "outputs": [
        {
          "data": {
            "text/plain": [
              "['john', 'is', 'eating', 'a', 'dilicious', 'cake']"
            ]
          },
          "execution_count": 63,
          "metadata": {},
          "output_type": "execute_result"
        }
      ],
      "source": [
        "sent2 = 'john is eating a dilicious cake'\n",
        "sent2_tokens = word_tokenize(sent2)\n",
        "sent2_tokens"
      ]
    },
    {
      "cell_type": "code",
      "execution_count": 64,
      "metadata": {
        "colab": {
          "base_uri": "https://localhost:8080/"
        },
        "id": "qnLeryU0AiKk",
        "outputId": "c16fb93a-bc3a-4618-9ba3-07b68992cddc"
      },
      "outputs": [
        {
          "name": "stdout",
          "output_type": "stream",
          "text": [
            "[('john', 'NN')]\n",
            "[('is', 'VBZ')]\n",
            "[('eating', 'VBG')]\n",
            "[('a', 'DT')]\n",
            "[('dilicious', 'JJ')]\n",
            "[('cake', 'NN')]\n"
          ]
        }
      ],
      "source": [
        "for token in sent2_tokens:\n",
        "  print(nltk.pos_tag([token]))"
      ]
    },
    {
      "cell_type": "code",
      "execution_count": 65,
      "metadata": {
        "id": "w7zgjRqrByE5"
      },
      "outputs": [],
      "source": [
        "from nltk  import ne_chunk"
      ]
    },
    {
      "cell_type": "code",
      "execution_count": 66,
      "metadata": {
        "id": "kc7Q6u8tA7cn"
      },
      "outputs": [],
      "source": [
        "NE_sent = 'The us president stay in the WHITEHOUSE'"
      ]
    },
    {
      "cell_type": "code",
      "execution_count": 67,
      "metadata": {
        "colab": {
          "base_uri": "https://localhost:8080/"
        },
        "id": "yz9ELZN-B8Yc",
        "outputId": "9b64dd46-8c97-48f1-bcfd-2c9c4f8ce0d2"
      },
      "outputs": [
        {
          "data": {
            "text/plain": [
              "['The', 'us', 'president', 'stay', 'in', 'the', 'WHITEHOUSE']"
            ]
          },
          "execution_count": 67,
          "metadata": {},
          "output_type": "execute_result"
        }
      ],
      "source": [
        "NE_sent = word_tokenize(NE_sent)\n",
        "NE_sent"
      ]
    },
    {
      "cell_type": "code",
      "execution_count": 68,
      "metadata": {
        "colab": {
          "base_uri": "https://localhost:8080/"
        },
        "id": "XK5q6FPqCFUl",
        "outputId": "43b8f3d1-32cc-41cd-92e4-b1768d81613f"
      },
      "outputs": [
        {
          "data": {
            "text/plain": [
              "[('The', 'DT'),\n",
              " ('us', 'PRP'),\n",
              " ('president', 'NN'),\n",
              " ('stay', 'NN'),\n",
              " ('in', 'IN'),\n",
              " ('the', 'DT'),\n",
              " ('WHITEHOUSE', 'NNP')]"
            ]
          },
          "execution_count": 68,
          "metadata": {},
          "output_type": "execute_result"
        }
      ],
      "source": [
        "NE_tags = nltk.pos_tag(NE_sent)\n",
        "NE_tags"
      ]
    },
    {
      "cell_type": "code",
      "execution_count": 69,
      "metadata": {
        "colab": {
          "base_uri": "https://localhost:8080/"
        },
        "id": "yz6TtWf3CNDm",
        "outputId": "3b986fa5-eaa2-456b-b7db-df33572a1e30"
      },
      "outputs": [
        {
          "name": "stdout",
          "output_type": "stream",
          "text": [
            "(S\n",
            "  The/DT\n",
            "  us/PRP\n",
            "  president/NN\n",
            "  stay/NN\n",
            "  in/IN\n",
            "  the/DT\n",
            "  (ORGANIZATION WHITEHOUSE/NNP))\n"
          ]
        }
      ],
      "source": [
        "NE_NER = ne_chunk(NE_tags)\n",
        "print(NE_NER)"
      ]
    },
    {
      "cell_type": "code",
      "execution_count": 70,
      "metadata": {
        "id": "Wm_wvPtPCSyl"
      },
      "outputs": [],
      "source": [
        "# NLG --> Natural Language Generation."
      ]
    },
    {
      "cell_type": "code",
      "execution_count": 71,
      "metadata": {
        "id": "wZxiACrKC8zH"
      },
      "outputs": [],
      "source": [
        "text=(\"Python Python Python Matplotlib Matplotlib Seaborn Network Plot Violin Chart Pandas Datascience Wordcloud Spider Radar Parrallel Alpha Color Brewer Density Scatter Barplot Barplot Boxplot Violinplot Treemap Stacked Area Chart Chart Visualization Dataviz Donut Pie Time-Series Wordcloud Wordcloud Sankey Bubble\")"
      ]
    },
    {
      "cell_type": "code",
      "execution_count": 72,
      "metadata": {
        "colab": {
          "base_uri": "https://localhost:8080/",
          "height": 72
        },
        "id": "WiF6lVSJC816",
        "outputId": "08e525a0-0406-4626-a9d3-2245385b5be9"
      },
      "outputs": [
        {
          "data": {
            "text/plain": [
              "'Python Python Python Matplotlib Matplotlib Seaborn Network Plot Violin Chart Pandas Datascience Wordcloud Spider Radar Parrallel Alpha Color Brewer Density Scatter Barplot Barplot Boxplot Violinplot Treemap Stacked Area Chart Chart Visualization Dataviz Donut Pie Time-Series Wordcloud Wordcloud Sankey Bubble'"
            ]
          },
          "execution_count": 72,
          "metadata": {},
          "output_type": "execute_result"
        }
      ],
      "source": [
        "text"
      ]
    },
    {
      "cell_type": "code",
      "execution_count": 73,
      "metadata": {
        "id": "sp13AWX2C857"
      },
      "outputs": [],
      "source": [
        "from wordcloud import WordCloud\n",
        "import matplotlib.pyplot as plt"
      ]
    },
    {
      "cell_type": "code",
      "execution_count": 77,
      "metadata": {
        "colab": {
          "base_uri": "https://localhost:8080/",
          "height": 273
        },
        "id": "6RZ5v6FtC88u",
        "outputId": "e40cf30e-2797-441c-f7ba-3111697a458c"
      },
      "outputs": [
        {
          "data": {
            "image/png": "[encoded data removed]",
            "text/plain": [
              "<Figure size 640x480 with 1 Axes>"
            ]
          },
          "metadata": {},
          "output_type": "display_data"
        }
      ],
      "source": [
        "word_cloud = WordCloud(width=420, height=200, margin=2, background_color='black',colormap='Accent', mode='RGBA').generate(text)\n",
        "plt.imshow(word_cloud,interpolation='quadric')\n",
        "plt.axis('off')\n",
        "plt.margins(x=0, y=0)\n",
        "plt.show()"
      ]
    },
    {
      "cell_type": "code",
      "execution_count": null,
      "metadata": {},
      "outputs": [],
      "source": []
    },
    {
      "cell_type": "code",
      "execution_count": null,
      "metadata": {},
      "outputs": [],
      "source": []
    }
  ],
  "metadata": {
    "colab": {
      "provenance": []
    },
    "kernelspec": {
      "display_name": "Python 3",
      "name": "python3"
    },
    "language_info": {
      "codemirror_mode": {
        "name": "ipython",
        "version": 3
      },
      "file_extension": ".py",
      "mimetype": "text/x-python",
      "name": "python",
      "nbconvert_exporter": "python",
      "pygments_lexer": "ipython3",
      "version": "3.13.5"
    }
  },
  "nbformat": 4,
  "nbformat_minor": 0
}
