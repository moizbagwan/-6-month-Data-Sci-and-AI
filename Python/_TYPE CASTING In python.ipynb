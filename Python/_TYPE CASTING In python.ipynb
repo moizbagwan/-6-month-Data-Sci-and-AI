{
 "cells": [
  {
   "cell_type": "markdown",
   "id": "d0379ab5-9203-4a67-8a26-aee0af0c6d1b",
   "metadata": {},
   "source": [
    "# PYTHON TYPE CASTINTG\n",
    "\n",
    "\n",
    "    - Convert one deta type to another detatypes is called 'TYPE CASTING'.\n",
    "\n",
    "    - Only one arguments is allowed ,not more than one arguments.\n",
    "    - Boolian to int allowed.\n",
    "    - Boolian to float is allowed - bool with bool is allowed.\n",
    "    - Bool to complex is allowed.\n",
    "    - String to int allowed.\n",
    "    - String with text is not allowed.\n",
    "    - String to float allowed.\n",
    "    - String to bool is allowed.\n",
    "    - String with text to float is not allowed.\n",
    "    - String to complex is not allowed.\n",
    "    - Complex to bool is allowed.\n",
    "    - Complex to int is not allowed.\n",
    "    - Complex to float is not allowed.\n",
    "    - Complex to string not allowed.\n",
    "    - Int to float is allowed.\n",
    "    - Int to bool is allowed.\n",
    "    - Float to bool is allowed.\n",
    "    - Float to int allowed.\n",
    "    - Float to complex is not allowed.\n",
    "\n",
    "\n",
    "\n"
   ]
  },
  {
   "cell_type": "code",
   "execution_count": 1,
   "id": "d18d7897-76e9-4767-a7d3-c9347a20c007",
   "metadata": {},
   "outputs": [
    {
     "data": {
      "text/plain": [
       "2"
      ]
     },
     "execution_count": 1,
     "metadata": {},
     "output_type": "execute_result"
    }
   ],
   "source": [
    "int(2.3)                  # floa to int possible"
   ]
  },
  {
   "cell_type": "code",
   "execution_count": 1,
   "id": "f2e6af83-649f-4266-9c0c-2776856eebb0",
   "metadata": {},
   "outputs": [
    {
     "data": {
      "text/plain": [
       "2"
      ]
     },
     "execution_count": 1,
     "metadata": {},
     "output_type": "execute_result"
    }
   ],
   "source": [
    "int(2.3,56)                                        # only more than one arguments are not allowed"
   ]
  },
  {
   "cell_type": "code",
   "execution_count": 3,
   "id": "db564bad-6676-40be-a986-fd9e02ac5912",
   "metadata": {},
   "outputs": [
    {
     "data": {
      "text/plain": [
       "1"
      ]
     },
     "execution_count": 3,
     "metadata": {},
     "output_type": "execute_result"
    }
   ],
   "source": [
    "int(True)                # boolian to int allowed"
   ]
  },
  {
   "cell_type": "code",
   "execution_count": 4,
   "id": "6ae4d63e-0852-4408-b600-e6166879c346",
   "metadata": {},
   "outputs": [
    {
     "data": {
      "text/plain": [
       "0"
      ]
     },
     "execution_count": 4,
     "metadata": {},
     "output_type": "execute_result"
    }
   ],
   "source": [
    "int(False)               # boolian to int allowed"
   ]
  },
  {
   "cell_type": "code",
   "execution_count": null,
   "id": "55323274-78d6-4803-b9a2-8f1ddf37704b",
   "metadata": {},
   "outputs": [],
   "source": [
    "int(1 + 2j)                                         # complex to int is not allowed"
   ]
  },
  {
   "cell_type": "code",
   "execution_count": 6,
   "id": "96aca10e-8eae-4682-bb27-2dea39bcdcf2",
   "metadata": {},
   "outputs": [
    {
     "data": {
      "text/plain": [
       "10"
      ]
     },
     "execution_count": 6,
     "metadata": {},
     "output_type": "execute_result"
    }
   ],
   "source": [
    "int(\"10\")                # string to int possible"
   ]
  },
  {
   "cell_type": "code",
   "execution_count": 2,
   "id": "f2a34228-3ab9-429e-a8f9-5656262d83cf",
   "metadata": {},
   "outputs": [
    {
     "data": {
      "text/plain": [
       "20.0"
      ]
     },
     "execution_count": 2,
     "metadata": {},
     "output_type": "execute_result"
    }
   ],
   "source": [
    "float(20)"
   ]
  },
  {
   "cell_type": "code",
   "execution_count": 8,
   "id": "5d267d93-d219-4962-a2aa-ce107641a99c",
   "metadata": {},
   "outputs": [
    {
     "data": {
      "text/plain": [
       "10.0"
      ]
     },
     "execution_count": 8,
     "metadata": {},
     "output_type": "execute_result"
    }
   ],
   "source": [
    "float(10)                # int to float is allowed"
   ]
  },
  {
   "cell_type": "code",
   "execution_count": null,
   "id": "d222a058-6a0a-43c1-9e01-416cdd2416d5",
   "metadata": {},
   "outputs": [],
   "source": [
    "float(20,20)             # only one argument is allowed"
   ]
  },
  {
   "cell_type": "code",
   "execution_count": 10,
   "id": "22d04704-8a9f-4561-9c4e-e7f7e62a4120",
   "metadata": {},
   "outputs": [
    {
     "data": {
      "text/plain": [
       "1.0"
      ]
     },
     "execution_count": 10,
     "metadata": {},
     "output_type": "execute_result"
    }
   ],
   "source": [
    "float(True)              # boolian to float is allowed"
   ]
  },
  {
   "cell_type": "code",
   "execution_count": 11,
   "id": "6b80e9d0-c9ab-4aa2-ae14-8b2b29c6a4e5",
   "metadata": {},
   "outputs": [
    {
     "data": {
      "text/plain": [
       "0.0"
      ]
     },
     "execution_count": 11,
     "metadata": {},
     "output_type": "execute_result"
    }
   ],
   "source": [
    "float(False)             # boolian to float is allowed"
   ]
  },
  {
   "cell_type": "code",
   "execution_count": null,
   "id": "92679824-30d3-44a5-9370-dea94f1a58a7",
   "metadata": {},
   "outputs": [],
   "source": [
    "float(1 + 2j)                                          # complex to float is not allowed"
   ]
  },
  {
   "cell_type": "code",
   "execution_count": 13,
   "id": "d3cc2647-f9e5-4710-8f76-848d1972bcd1",
   "metadata": {},
   "outputs": [
    {
     "data": {
      "text/plain": [
       "10.0"
      ]
     },
     "execution_count": 13,
     "metadata": {},
     "output_type": "execute_result"
    }
   ],
   "source": [
    "float('10')              # string to float allowed "
   ]
  },
  {
   "cell_type": "code",
   "execution_count": 14,
   "id": "d68d4cba-5e3b-43d4-b60e-26a59451dce6",
   "metadata": {},
   "outputs": [
    {
     "ename": "ValueError",
     "evalue": "could not convert string to float: 'ten'",
     "output_type": "error",
     "traceback": [
      "\u001b[1;31m---------------------------------------------------------------------------\u001b[0m",
      "\u001b[1;31mValueError\u001b[0m                                Traceback (most recent call last)",
      "Cell \u001b[1;32mIn[14], line 1\u001b[0m\n\u001b[1;32m----> 1\u001b[0m \u001b[38;5;28mfloat\u001b[39m(\u001b[38;5;124m'\u001b[39m\u001b[38;5;124mten\u001b[39m\u001b[38;5;124m'\u001b[39m)\n",
      "\u001b[1;31mValueError\u001b[0m: could not convert string to float: 'ten'"
     ]
    }
   ],
   "source": [
    "float('ten')                                          # string with text to float is not allowed"
   ]
  },
  {
   "cell_type": "code",
   "execution_count": 5,
   "id": "fe3a438d-8e62-42e5-bace-70f153d2a8fd",
   "metadata": {},
   "outputs": [
    {
     "data": {
      "text/plain": [
       "True"
      ]
     },
     "execution_count": 5,
     "metadata": {},
     "output_type": "execute_result"
    }
   ],
   "source": [
    "bool(1)                  # integer to bool is allowed"
   ]
  },
  {
   "cell_type": "code",
   "execution_count": 6,
   "id": "201441ea-5a07-44d1-a506-585e49eee148",
   "metadata": {},
   "outputs": [
    {
     "data": {
      "text/plain": [
       "True"
      ]
     },
     "execution_count": 6,
     "metadata": {},
     "output_type": "execute_result"
    }
   ],
   "source": [
    "bool(3.6)                # float to bool is allowed"
   ]
  },
  {
   "cell_type": "code",
   "execution_count": 7,
   "id": "8922e22a-2911-406d-a5aa-0e43ae37ab4a",
   "metadata": {},
   "outputs": [
    {
     "data": {
      "text/plain": [
       "True"
      ]
     },
     "execution_count": 7,
     "metadata": {},
     "output_type": "execute_result"
    }
   ],
   "source": [
    "bool(1 + 2j)             # complex to bool is allowed "
   ]
  },
  {
   "cell_type": "code",
   "execution_count": 8,
   "id": "f5e32717-8255-4c43-ad12-610d79521d65",
   "metadata": {},
   "outputs": [
    {
     "data": {
      "text/plain": [
       "True"
      ]
     },
     "execution_count": 8,
     "metadata": {},
     "output_type": "execute_result"
    }
   ],
   "source": [
    "bool('str')              # string to bool is allowed "
   ]
  },
  {
   "cell_type": "code",
   "execution_count": 12,
   "id": "9c9d1063-d084-438f-ad2d-1e7a5548243d",
   "metadata": {},
   "outputs": [
    {
     "data": {
      "text/plain": [
       "True"
      ]
     },
     "execution_count": 12,
     "metadata": {},
     "output_type": "execute_result"
    }
   ],
   "source": [
    "bool(True)               # bool with bool is allowed"
   ]
  },
  {
   "cell_type": "code",
   "execution_count": 15,
   "id": "340f05af-fd81-407a-97a8-71feaaeb48e0",
   "metadata": {},
   "outputs": [
    {
     "ename": "ValueError",
     "evalue": "complex() arg is a malformed string",
     "output_type": "error",
     "traceback": [
      "\u001b[1;31m---------------------------------------------------------------------------\u001b[0m",
      "\u001b[1;31mValueError\u001b[0m                                Traceback (most recent call last)",
      "Cell \u001b[1;32mIn[15], line 1\u001b[0m\n\u001b[1;32m----> 1\u001b[0m \u001b[38;5;28mcomplex\u001b[39m(\u001b[38;5;124m'\u001b[39m\u001b[38;5;124mstr\u001b[39m\u001b[38;5;124m'\u001b[39m)\n",
      "\u001b[1;31mValueError\u001b[0m: complex() arg is a malformed string"
     ]
    }
   ],
   "source": [
    "complex('str')                                      # complex to string not allowed"
   ]
  },
  {
   "cell_type": "code",
   "execution_count": 16,
   "id": "1c005eac-e67f-434d-9530-f8c9df7db28d",
   "metadata": {},
   "outputs": [
    {
     "data": {
      "text/plain": [
       "(3.134+0j)"
      ]
     },
     "execution_count": 16,
     "metadata": {},
     "output_type": "execute_result"
    }
   ],
   "source": [
    "complex(3.134)                                      # float to complex is not allowed"
   ]
  },
  {
   "cell_type": "code",
   "execution_count": 18,
   "id": "744a8091-0d83-4032-bf50-37b8573edcfa",
   "metadata": {},
   "outputs": [
    {
     "data": {
      "text/plain": [
       "(1+0j)"
      ]
     },
     "execution_count": 18,
     "metadata": {},
     "output_type": "execute_result"
    }
   ],
   "source": [
    "complex(True)             # Bool to complex is allowed"
   ]
  },
  {
   "cell_type": "code",
   "execution_count": null,
   "id": "07f587f9-3b92-4380-95d4-e4e8f7e963b8",
   "metadata": {},
   "outputs": [],
   "source": [
    "complex('name')                                     # String to complex is not allowed"
   ]
  }
 ],
 "metadata": {
  "kernelspec": {
   "display_name": "Python 3 (ipykernel)",
   "language": "python",
   "name": "python3"
  },
  "language_info": {
   "codemirror_mode": {
    "name": "ipython",
    "version": 3
   },
   "file_extension": ".py",
   "mimetype": "text/x-python",
   "name": "python",
   "nbconvert_exporter": "python",
   "pygments_lexer": "ipython3",
   "version": "3.13.5"
  }
 },
 "nbformat": 4,
 "nbformat_minor": 5
}
