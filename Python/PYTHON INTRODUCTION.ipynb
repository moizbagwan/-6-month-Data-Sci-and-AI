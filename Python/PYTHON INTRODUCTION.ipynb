{
 "cells": [
  {
   "cell_type": "markdown",
   "id": "e32d5a60-3423-42fc-a44f-cf3efd21b204",
   "metadata": {},
   "source": [
    "# PYTHON INTRODUCTION\n",
    "\n",
    "- What is Python ?\n",
    "- ans : Python is highly recommended programing language \n",
    "\n",
    "- Father of Python : GUIDO VAN ROSAM\n",
    "\n",
    "- Python came from fun tv show called \"Complete Monthly Python \"\n",
    "- python borrowed all concept from c,c++, java,unix (python is everything) thats why . python very very powerful tool\n",
    "- python develope in NRI - (Netherland) & lot of people say that python is new language\n",
    "\n",
    "\n",
    "\n",
    "\n",
    "\n",
    "    * Now python is very popular based on software industry requirment because everybody wants to write very less code/concile code\n",
    "    * Current market trend is- Machine learing, Artificial intelligence, data science & Iot(Internet of things)\n",
    "    * which companies are used python - google,nasa,uber,netfliz,reddit,facebook/meta, everywhere python used everywhere\n",
    "    * python code can understand everybody & python is dynamic programming language\n",
    "    * In python everything done by PVM (python virtual machine)\n",
    "    * you can access python in any platform independent- windows, linux, mac one code can run in all the 4 platform & no need to      write separate programe for every platform. Once you write code you can run in platform\n",
    "    * Python is dynamically programming language (not required to declared data types)\n",
    "    * Python is freeware and open source. Moving from one platform to other platform without changeing any code\n",
    "    * Python contains rich libray - numpy,pandas so python is the best application for datascience\n",
    "    * which scenario python can't be used - ( python can not perform in mobile application like android )\n",
    "    * Flavours of python - cpython(C programming),jpython(java programming),Iron python(c#.net),Ruby python(Ruby based application  programme),Anaconda python(Bigdata,datascience)\n",
    "    * Python 1.0 introduce in jan 1994 -- Noorganization is working now\n",
    "    * Python 2.0 introduce in oct 2000 -- Noorganization is working now\n",
    "    * Python 3.0 introduce in Dec 2008, 2016, 2017,---- latest version - 3.6, 3.6, 3.7, 3.8, 3.9, 3.10"
   ]
  },
  {
   "cell_type": "markdown",
   "id": "b7baaee8-f242-462c-8e34-e5be09f02b0f",
   "metadata": {},
   "source": [
    "Python Became the Best Programming Language & fastest programming language.\n",
    "Python is used in Machine Learning, Data Science, Big Data, Web Development, Scripting, llm , generati ai everywhere \n",
    "we will learn pyton from start to end || basic to expert.\n",
    "if you are not done programm then that is totally fine. \n",
    "I will explain from starting from scratch.\n",
    "python software - pycharm || vs code || jupyter || spyder"
   ]
  },
  {
   "cell_type": "markdown",
   "id": "b4002e9c-d7e5-48c9-a3b8-8fd3ec0994e3",
   "metadata": {},
   "source": [
    "IDE (INTEGRATED DEVELOPMENT ENVIRONMENT) =>\n",
    "- using IDE - one can write code, run the code, debug the code\n",
    "- IDE takes care of interpreting the Python code, running python scripts, building executables, and debugging the applications.\n",
    "- An IDE enables programmers to combine the different aspects of writing a computer program. \n",
    "- if you wnated to be python developer only then you need to install (IDE -- PYCHARM)"
   ]
  },
  {
   "cell_type": "markdown",
   "id": "832bfc15-f5b4-4d41-9c87-bf52226c175c",
   "metadata": {},
   "source": [
    "PYTHON INTERPRETER -->\n",
    "What is Python interpreter?\n",
    "A python interpreter is a computer program that converts each high-level program statement into machine code. An interpreter translates the command that you write out into code that the computer can understand\n",
    "\n",
    "PYTHON INTERPRETER EXAMPLE --> \n",
    "You write your Python code in a text file with a name like hello.py . How does that code Run? There is program installed on your computer named \"python3\" or \"python\", and its job is looking at and running your Python code. This type of program is called an \"interpreter\"."
   ]
  },
  {
   "cell_type": "markdown",
   "id": "0e4f3a5b-414a-44cf-a329-58ed9f7d6331",
   "metadata": {},
   "source": [
    "Both compilers and interpreters are used to convert a program written in a high-level language into machine code understood by computers.\n",
    "Interpreter -->\n",
    "- Translates program one statement at a time\n",
    "- Interpreter run every line item \n",
    "- Execut the single, partial line of code\n",
    "- Easy for programming \n",
    "\n",
    "Compiler -->\n",
    "- Scans the entire program and translates it as a whole into machine code.\n",
    "- No execution if an error occurs\n",
    "- you can not fix the bug (debug) line by line "
   ]
  },
  {
   "cell_type": "markdown",
   "id": "944623ed-33a8-4962-bec1-3a908494e482",
   "metadata": {},
   "source": [
    "How to create python environment variable \n",
    "- 1- cmd - python ( if it not works)\n",
    "- 2- find the location where the python is installed -- >\n",
    "         C:\\Users\\A3MAX SOFTWARE TECH\\AppData\\Local\\Programs\\Python\\Python39\\Scripts \n",
    "- 3- system -- env - environment variable screen will pop up \n",
    "- 4- select on system variable - click on path - create New \n",
    "- 5- C:\\Users\\kdata\\AppData\\Local\\Programs\\Python\\Python311\n",
    "- 6- env - sys variable - path - new - C:\\Users\\kdata\\AppData\\Local\\Programs\\Python\\Python311\\Scripts\n",
    "- 7- cmd - type python -version\n",
    "- 8- successfully python install in cmd     "
   ]
  },
  {
   "cell_type": "markdown",
   "id": "d0cedb3d-14c1-4eb8-a863-e4a48e5ddc9c",
   "metadata": {},
   "source": [
    "## 2- Getting started with Python Language \n",
    "### Python 3.x\n",
    "#### Version Release Date  --->\n",
    "3.13 2022-25-08\n",
    "3.10 2021-10-04\n",
    "3.9 2020-10-05\n",
    "3.8 2020-04-29 \n",
    "3.7 2018-06-27\n",
    "3.6 2016-12-23\n",
    "3.5 2015-09-13\n",
    "3.4 2014-03-17\n",
    "3.3 2012-09-29\n",
    "3.2 2011-02-20\n",
    "3.1 2009-06-26\n",
    "3.0 2008-12-03\n",
    "### Python 2.x\n",
    "##### Version Release Date\n",
    "2.7 2010-07-03\n",
    "2.6 2008-10-02\n",
    "2.5 2006-09-19\n",
    "2.4 2004-11-30\n",
    "2.3 2003-07-29\n",
    "2.2 2001-12-21\n",
    "2.1 2001-04-15\n",
    "2.0 2000-10-16"
   ]
  },
  {
   "cell_type": "markdown",
   "id": "0bdcb966-0104-4f3b-8bc6-fe654e449abe",
   "metadata": {},
   "source": [
    "# Features Of Python\n",
    "    \n",
    "    - Easy to learn and use\n",
    "\n",
    "    - Interpreted language (no need for compilation)\n",
    "\n",
    "    - Object-Oriented\n",
    "\n",
    "    - Cross-platform (Windows, Mac, Linux)\n",
    "\n",
    "    - Large standard library\n",
    "\n",
    "    - Dynamic Typing\n",
    "\n",
    "\n",
    "\n",
    "Data Types :-\n",
    "\n",
    "Type    \t    Example\n",
    "\n",
    "- int      =   \t5, 100\n",
    "- float    =   \t3.14, 2.0\n",
    "- str\t   =   \"hello\", 'world'\n",
    "- bool\t   =    True, False\n",
    "- list     =   \t[1, 2, 3]\n",
    "- tuple\t   =    (4, 5, 6)\n",
    "- dict     =   \t{\"name\": \"Moiz\"}\n",
    "\n",
    "\n"
   ]
  }
 ],
 "metadata": {
  "kernelspec": {
   "display_name": "Python 3 (ipykernel)",
   "language": "python",
   "name": "python3"
  },
  "language_info": {
   "codemirror_mode": {
    "name": "ipython",
    "version": 3
   },
   "file_extension": ".py",
   "mimetype": "text/x-python",
   "name": "python",
   "nbconvert_exporter": "python",
   "pygments_lexer": "ipython3",
   "version": "3.13.5"
  },
  "widgets": {
   "application/vnd.jupyter.widget-state+json": {
    "state": {},
    "version_major": 2,
    "version_minor": 0
   }
  }
 },
 "nbformat": 4,
 "nbformat_minor": 5
}
