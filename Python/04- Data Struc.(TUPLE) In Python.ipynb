{
 "cells": [
  {
   "cell_type": "markdown",
   "id": "01cef7d5-ec73-406c-8075-6d797e729e11",
   "metadata": {},
   "source": [
    "# Tuple\n",
    "\n",
    "    - Tuple is inbuild data structure in python.\n",
    "\n",
    "    - Immutable : Tuple are not mutable , you cannot change values of Tuple.\n",
    "\n",
    "    - Duplicates : You can have duplicates values in tuple there are no restriction.\n",
    "\n",
    "    - Orderd : Tuple are orderd and you can access them through index values.\n",
    "\n",
    "    - Hetrogenous : Tuple also have hetrogenous in nature and can have different types of data type in tuple.\n",
    "\n",
    "\n",
    "    - Tuple are transversed in the same manner as list are transversed.\n",
    "\n",
    "    - But remember tuples are like string you can't change anything once it's made we can't change them.\n",
    "\n",
    "    - Always single comma is compalsory in parathesis in value , a = (1,).But in last comma is optional , a = (1,2,3,4,) like that..."
   ]
  },
  {
   "cell_type": "code",
   "execution_count": 1,
   "id": "2717418c-21fb-4757-a97c-8e62f3ba58d4",
   "metadata": {},
   "outputs": [
    {
     "data": {
      "text/plain": [
       "()"
      ]
     },
     "execution_count": 1,
     "metadata": {},
     "output_type": "execute_result"
    }
   ],
   "source": [
    "t = ()    # Empty tuple\n",
    "t"
   ]
  },
  {
   "cell_type": "code",
   "execution_count": 3,
   "id": "7ee97fe6-bc68-44d4-ace6-a7574f49fab1",
   "metadata": {},
   "outputs": [
    {
     "data": {
      "text/plain": [
       "(1, 2, 3, 4, 5)"
      ]
     },
     "execution_count": 3,
     "metadata": {},
     "output_type": "execute_result"
    }
   ],
   "source": [
    "t = (1,2,3,4,5)        # int data type in tuple\n",
    "t"
   ]
  },
  {
   "cell_type": "code",
   "execution_count": 85,
   "id": "1d9ef5f2-c7c2-4999-b6af-3357ae4b7799",
   "metadata": {},
   "outputs": [
    {
     "data": {
      "text/plain": [
       "(3.14, 35.7, 45.7, 78, 99)"
      ]
     },
     "execution_count": 85,
     "metadata": {},
     "output_type": "execute_result"
    }
   ],
   "source": [
    "t_1 = (3.14,35.7,45.7,78,99)        # float data type in tuple\n",
    "t_1"
   ]
  },
  {
   "cell_type": "code",
   "execution_count": 4,
   "id": "8267fbb2-3167-44b0-b8cb-a730f9f39934",
   "metadata": {},
   "outputs": [
    {
     "name": "stdout",
     "output_type": "stream",
     "text": [
      "<class 'tuple'>\n"
     ]
    }
   ],
   "source": [
    "print(type(t))       # type is Tuple"
   ]
  },
  {
   "cell_type": "code",
   "execution_count": 5,
   "id": "6a528cc1-b929-4d3b-965f-dc42f48dd6e3",
   "metadata": {},
   "outputs": [
    {
     "name": "stdout",
     "output_type": "stream",
     "text": [
      "5\n"
     ]
    }
   ],
   "source": [
    "print(len(t))       # length of t"
   ]
  },
  {
   "cell_type": "code",
   "execution_count": 6,
   "id": "1364644e-fff7-4535-bb8f-9428e0f0deeb",
   "metadata": {},
   "outputs": [
    {
     "name": "stdout",
     "output_type": "stream",
     "text": [
      "1547831731488\n"
     ]
    }
   ],
   "source": [
    "print(id(t))       # address of t"
   ]
  },
  {
   "cell_type": "code",
   "execution_count": 16,
   "id": "e217af69-0ea8-41bb-85a3-9e7cd6c56cde",
   "metadata": {},
   "outputs": [
    {
     "data": {
      "text/plain": [
       "(10, 3.14, True, (1+2j), 'Moiz')"
      ]
     },
     "execution_count": 16,
     "metadata": {},
     "output_type": "execute_result"
    }
   ],
   "source": [
    "t1 = (10,3.14,True,1+2j,'Moiz')      # we can store multiple of data types in tuple\n",
    "t1"
   ]
  },
  {
   "cell_type": "code",
   "execution_count": 89,
   "id": "101a2892-16a2-45fc-bd2a-d06e2828cf0c",
   "metadata": {},
   "outputs": [
    {
     "data": {
      "text/plain": [
       "(10, 3.14, True, (1+2j), 'Moiz', (34, 67, 70), (56.78, 34, 23, 'age'))"
      ]
     },
     "execution_count": 89,
     "metadata": {},
     "output_type": "execute_result"
    }
   ],
   "source": [
    "a = (10,3.14,True,1+2j,'Moiz',(34,67,70),(56.78,34,23,'age'))        # nested tuple\n",
    "a"
   ]
  },
  {
   "cell_type": "code",
   "execution_count": 83,
   "id": "4b4cd06b-89f3-47ab-845c-1407afd242fc",
   "metadata": {},
   "outputs": [
    {
     "ename": "TypeError",
     "evalue": "'tuple' object does not support item assignment",
     "output_type": "error",
     "traceback": [
      "\u001b[31m---------------------------------------------------------------------------\u001b[39m",
      "\u001b[31mTypeError\u001b[39m                                 Traceback (most recent call last)",
      "\u001b[36mCell\u001b[39m\u001b[36m \u001b[39m\u001b[32mIn[83]\u001b[39m\u001b[32m, line 1\u001b[39m\n\u001b[32m----> \u001b[39m\u001b[32m1\u001b[39m \u001b[43mt1\u001b[49m\u001b[43m[\u001b[49m\u001b[32;43m0\u001b[39;49m\u001b[43m]\u001b[49m = \u001b[32m100\u001b[39m\n",
      "\u001b[31mTypeError\u001b[39m: 'tuple' object does not support item assignment"
     ]
    }
   ],
   "source": [
    "t1[0] = 100                        # tuples are immutable ( not changable)."
   ]
  },
  {
   "cell_type": "code",
   "execution_count": 17,
   "id": "ce548f04-6144-4486-87b9-325a3b82097a",
   "metadata": {},
   "outputs": [
    {
     "data": {
      "text/plain": [
       "10"
      ]
     },
     "execution_count": 17,
     "metadata": {},
     "output_type": "execute_result"
    }
   ],
   "source": [
    "t1[0]         # 0 index of t1 "
   ]
  },
  {
   "cell_type": "code",
   "execution_count": 18,
   "id": "6857b2cc-f08d-490a-8894-f1993bec21d7",
   "metadata": {},
   "outputs": [
    {
     "data": {
      "text/plain": [
       "3.14"
      ]
     },
     "execution_count": 18,
     "metadata": {},
     "output_type": "execute_result"
    }
   ],
   "source": [
    "t1[1]         # 1 index of t1"
   ]
  },
  {
   "cell_type": "code",
   "execution_count": 19,
   "id": "624a993e-4dce-4dd6-ac92-a143c1e03ef3",
   "metadata": {},
   "outputs": [
    {
     "data": {
      "text/plain": [
       "(10, 3.14, True, (1+2j), 'Moiz')"
      ]
     },
     "execution_count": 19,
     "metadata": {},
     "output_type": "execute_result"
    }
   ],
   "source": [
    "t1[:]          # ptyhon autometically find the index number."
   ]
  },
  {
   "cell_type": "code",
   "execution_count": 20,
   "id": "40db2b4b-56b0-4771-bcab-f60beb6ad880",
   "metadata": {},
   "outputs": [
    {
     "data": {
      "text/plain": [
       "(10, 3.14, True)"
      ]
     },
     "execution_count": 20,
     "metadata": {},
     "output_type": "execute_result"
    }
   ],
   "source": [
    "t1[0 : 3]     # Slicing, index 0 to 3 index"
   ]
  },
  {
   "cell_type": "code",
   "execution_count": 21,
   "id": "a3d1a56a-7a4b-454b-9bb1-611a21c7d22b",
   "metadata": {},
   "outputs": [
    {
     "data": {
      "text/plain": [
       "(10, 3.14, True, (1+2j), 'Moiz')"
      ]
     },
     "execution_count": 21,
     "metadata": {},
     "output_type": "execute_result"
    }
   ],
   "source": [
    "t1[ : 6]      # ptyhon autometically find the index number."
   ]
  },
  {
   "cell_type": "code",
   "execution_count": 22,
   "id": "c4b52d8c-0b3a-490a-98db-1f2c69080904",
   "metadata": {},
   "outputs": [
    {
     "data": {
      "text/plain": [
       "(10, 3.14, True, (1+2j), 'Moiz')"
      ]
     },
     "execution_count": 22,
     "metadata": {},
     "output_type": "execute_result"
    }
   ],
   "source": [
    "t1[0 : ]      # ptyhon autometically find the index number."
   ]
  },
  {
   "cell_type": "code",
   "execution_count": 63,
   "id": "2bae0f45-7d48-44ad-9bb6-00ff2e8c7428",
   "metadata": {},
   "outputs": [
    {
     "data": {
      "text/plain": [
       "(True, (1+2j))"
      ]
     },
     "execution_count": 63,
     "metadata": {},
     "output_type": "execute_result"
    }
   ],
   "source": [
    "t1[-3 : -1]            # Negative slicing."
   ]
  },
  {
   "cell_type": "code",
   "execution_count": 64,
   "id": "957bc8e7-e8d4-4a2a-b7bf-57dc9186eef8",
   "metadata": {},
   "outputs": [
    {
     "data": {
      "text/plain": [
       "(10, 3.14, True, (1+2j), 'Moiz')"
      ]
     },
     "execution_count": 64,
     "metadata": {},
     "output_type": "execute_result"
    }
   ],
   "source": [
    "t1[0 : 5]             # Positive slicing"
   ]
  },
  {
   "cell_type": "code",
   "execution_count": 65,
   "id": "a02e5be0-e8b3-4eeb-a3df-ff3037c98bd2",
   "metadata": {},
   "outputs": [
    {
     "data": {
      "text/plain": [
       "(10, 3.14, True, (1+2j), 'Moiz')"
      ]
     },
     "execution_count": 65,
     "metadata": {},
     "output_type": "execute_result"
    }
   ],
   "source": [
    "t1"
   ]
  },
  {
   "cell_type": "code",
   "execution_count": 66,
   "id": "89f71353-de61-4ae9-94f8-7a6795a9cede",
   "metadata": {},
   "outputs": [
    {
     "data": {
      "text/plain": [
       "(3.14, 'Moiz')"
      ]
     },
     "execution_count": 66,
     "metadata": {},
     "output_type": "execute_result"
    }
   ],
   "source": [
    "t1[1 : 5 : 3]         #  Start at index 1 → value is 3.14\n",
    "                      #  Stop before index 5 → index 5 is not included (but here, it’s the end of the tuple anyway)\n",
    "                      #  Step size 3 → take every 3rd element from index 1"
   ]
  },
  {
   "cell_type": "code",
   "execution_count": 67,
   "id": "15e4a21f-7712-40c2-8923-2a1e7db44db8",
   "metadata": {},
   "outputs": [
    {
     "data": {
      "text/plain": [
       "(10, 3.14, True, (1+2j), 'Moiz')"
      ]
     },
     "execution_count": 67,
     "metadata": {},
     "output_type": "execute_result"
    }
   ],
   "source": [
    "t1[:]"
   ]
  },
  {
   "cell_type": "code",
   "execution_count": 68,
   "id": "14213caf-5c4f-4414-8576-74f1a773a455",
   "metadata": {},
   "outputs": [
    {
     "data": {
      "text/plain": [
       "(10, (1+2j))"
      ]
     },
     "execution_count": 68,
     "metadata": {},
     "output_type": "execute_result"
    }
   ],
   "source": [
    "t1[0 : 5 : 3]              #  Start at index 0 → value is 10\n",
    "                           #  Stop before index 5 → index 5 is not included (but here, it’s the end of the tuple anyway)\n",
    "                           #  Step size 3 → take every 3rd element from index 0"
   ]
  },
  {
   "cell_type": "code",
   "execution_count": 69,
   "id": "95ea358e-616f-4736-ba35-dd3e964a9662",
   "metadata": {},
   "outputs": [
    {
     "data": {
      "text/plain": [
       "(10, 20, 30, 40, 50, 60, 70, 80, 90)"
      ]
     },
     "execution_count": 69,
     "metadata": {},
     "output_type": "execute_result"
    }
   ],
   "source": [
    "t3 = (10,20,30,40,50,60,70,80,90)\n",
    "t3"
   ]
  },
  {
   "cell_type": "code",
   "execution_count": 70,
   "id": "559ad1d4-fa4d-485b-8970-501973fdc1d1",
   "metadata": {},
   "outputs": [
    {
     "data": {
      "text/plain": [
       "(20, 60)"
      ]
     },
     "execution_count": 70,
     "metadata": {},
     "output_type": "execute_result"
    }
   ],
   "source": [
    "t3[1 : 9 :4]           #  Start at index 1 → value is 10\n",
    "                      #  Stop before index 9 → index 9 is not included (but here, it’s the end of the tuple anyway)\n",
    "                      #  Step size 4 → take every 4th element from index 1"
   ]
  },
  {
   "cell_type": "code",
   "execution_count": 2,
   "id": "ac13ead6-eaf6-4654-8efa-cea4f5b71f36",
   "metadata": {},
   "outputs": [
    {
     "data": {
      "text/plain": [
       "(10, 15, 20, 25, 30, 35, 40, 50)"
      ]
     },
     "execution_count": 2,
     "metadata": {},
     "output_type": "execute_result"
    }
   ],
   "source": [
    "t4 = (10,15,20,25,30,35,40,50)\n",
    "t4"
   ]
  },
  {
   "cell_type": "code",
   "execution_count": 72,
   "id": "d1d1c68f-a791-4929-bc11-88521985f566",
   "metadata": {},
   "outputs": [
    {
     "data": {
      "text/plain": [
       "(10, 30)"
      ]
     },
     "execution_count": 72,
     "metadata": {},
     "output_type": "execute_result"
    }
   ],
   "source": [
    "t4[0:8:4]             #  Start at index 0 → value is 10\n",
    "                      #  Stop before index 8 → index 8 is not included (but here, it’s the end of the tuple anyway)\n",
    "                      #  Step size 4 → take every 4th element from index 0"
   ]
  },
  {
   "cell_type": "code",
   "execution_count": 73,
   "id": "08df491a-75a3-44db-a729-52c810be86db",
   "metadata": {},
   "outputs": [
    {
     "data": {
      "text/plain": [
       "(10, 20, 30, 40, 50, 60, 70, 80, 90)"
      ]
     },
     "execution_count": 73,
     "metadata": {},
     "output_type": "execute_result"
    }
   ],
   "source": [
    "t3"
   ]
  },
  {
   "cell_type": "code",
   "execution_count": 74,
   "id": "894099e2-2bf1-4f42-a507-560fe9f9cb40",
   "metadata": {},
   "outputs": [
    {
     "data": {
      "text/plain": [
       "(30, 70)"
      ]
     },
     "execution_count": 74,
     "metadata": {},
     "output_type": "execute_result"
    }
   ],
   "source": [
    "t3[2:9:4]              # Start at index 2 → value is 30\n",
    "                       # Stop before index 9 → index 9 is not included (but here, it’s the end of the tuple anyway)\n",
    "                       # Step size 4 → take every 4th element from index 2"
   ]
  },
  {
   "cell_type": "code",
   "execution_count": 75,
   "id": "e08f1f48-6934-48de-91a2-fc124e0a40a8",
   "metadata": {},
   "outputs": [
    {
     "data": {
      "text/plain": [
       "(10, 20, 30, 40, 50, 60, 70, 80, 90)"
      ]
     },
     "execution_count": 75,
     "metadata": {},
     "output_type": "execute_result"
    }
   ],
   "source": [
    "t3"
   ]
  },
  {
   "cell_type": "code",
   "execution_count": 76,
   "id": "ed4026d5-bc71-418d-9d4f-27c64bf213ed",
   "metadata": {},
   "outputs": [
    {
     "data": {
      "text/plain": [
       "(90, 70, 50, 30, 10)"
      ]
     },
     "execution_count": 76,
     "metadata": {},
     "output_type": "execute_result"
    }
   ],
   "source": [
    "t3[::-2]        # start from the end, go backwards (due to negative step), and take every 2nd element.\n",
    "                # Starting from the end (90) and moving backwards by 2 steps"
   ]
  },
  {
   "cell_type": "code",
   "execution_count": 77,
   "id": "a9e6ef93-7816-457c-be60-50079f009456",
   "metadata": {},
   "outputs": [
    {
     "data": {
      "text/plain": [
       "(10, 20, 30, 40, 50, 60, 70, 80, 90)"
      ]
     },
     "execution_count": 77,
     "metadata": {},
     "output_type": "execute_result"
    }
   ],
   "source": [
    "t3"
   ]
  },
  {
   "cell_type": "code",
   "execution_count": 78,
   "id": "4197f470-9d22-4022-abc9-63c277c6d8f9",
   "metadata": {},
   "outputs": [
    {
     "data": {
      "text/plain": [
       "(80, 90)"
      ]
     },
     "execution_count": 78,
     "metadata": {},
     "output_type": "execute_result"
    }
   ],
   "source": [
    "t3[-2 ::]       \n",
    "                      # Start at index -2 → negative indices count from the end\n",
    "                      # No stop → go till the end \n",
    "                      #  No step specified → default is +1"
   ]
  },
  {
   "cell_type": "code",
   "execution_count": 79,
   "id": "1b1b266a-81df-46f0-9a28-b5049689b893",
   "metadata": {},
   "outputs": [
    {
     "data": {
      "text/plain": [
       "(10, 30, 50, 70, 90)"
      ]
     },
     "execution_count": 79,
     "metadata": {},
     "output_type": "execute_result"
    }
   ],
   "source": [
    "t3[:: 2]              #No start → begins at index 0\n",
    "                      #No stop → goes till the end\n",
    "                      #Step = 2 → take every second element"
   ]
  },
  {
   "cell_type": "code",
   "execution_count": 80,
   "id": "37807db5-8909-481d-a4ba-b6fde198b43f",
   "metadata": {},
   "outputs": [
    {
     "data": {
      "text/plain": [
       "(10, 20, 30, 40, 50, 60, 70, 80, 90)"
      ]
     },
     "execution_count": 80,
     "metadata": {},
     "output_type": "execute_result"
    }
   ],
   "source": [
    "t3"
   ]
  },
  {
   "cell_type": "code",
   "execution_count": 81,
   "id": "cd8e7b13-24d6-46e8-a79d-7395ebcd4276",
   "metadata": {},
   "outputs": [
    {
     "name": "stdout",
     "output_type": "stream",
     "text": [
      "10\n",
      "20\n",
      "30\n",
      "40\n",
      "50\n",
      "60\n",
      "70\n",
      "80\n",
      "90\n"
     ]
    }
   ],
   "source": [
    "for i in t3:            # using for loop\n",
    "    print(i)"
   ]
  },
  {
   "cell_type": "code",
   "execution_count": 82,
   "id": "793d841a-d574-4828-8648-94c5d08a53aa",
   "metadata": {},
   "outputs": [
    {
     "name": "stdout",
     "output_type": "stream",
     "text": [
      "(0, 10)\n",
      "(1, 20)\n",
      "(2, 30)\n",
      "(3, 40)\n",
      "(4, 50)\n",
      "(5, 60)\n",
      "(6, 70)\n",
      "(7, 80)\n",
      "(8, 90)\n"
     ]
    }
   ],
   "source": [
    "for i in enumerate(t3):       # It gives you (index, value) pairs from the tuple\n",
    "    print(i)"
   ]
  },
  {
   "cell_type": "code",
   "execution_count": 5,
   "id": "169d8935-8111-4945-b417-d1286fd9c729",
   "metadata": {},
   "outputs": [
    {
     "data": {
      "text/plain": [
       "(10, 20, 30, 40, 50, 60, 70, 80, 90)"
      ]
     },
     "execution_count": 5,
     "metadata": {},
     "output_type": "execute_result"
    }
   ],
   "source": [
    "t3 = (10, 20, 30, 40, 50, 60, 70, 80, 90)\n",
    "t3"
   ]
  },
  {
   "cell_type": "code",
   "execution_count": 6,
   "id": "166f5043-7d70-4f7a-897c-af3586fcbc50",
   "metadata": {},
   "outputs": [
    {
     "data": {
      "text/plain": [
       "True"
      ]
     },
     "execution_count": 6,
     "metadata": {},
     "output_type": "execute_result"
    }
   ],
   "source": [
    "10 in t3     # Check 10 exist in tuple."
   ]
  },
  {
   "cell_type": "code",
   "execution_count": 7,
   "id": "220cc513-3bf6-4064-8fbc-81da31b2d36c",
   "metadata": {},
   "outputs": [
    {
     "data": {
      "text/plain": [
       "False"
      ]
     },
     "execution_count": 7,
     "metadata": {},
     "output_type": "execute_result"
    }
   ],
   "source": [
    "100 in t3  # 100 is not exist in tuple."
   ]
  },
  {
   "cell_type": "markdown",
   "id": "eec08635-9608-46e0-abff-5b79ea4a836f",
   "metadata": {},
   "source": [
    "# Methods of Tuple\n",
    "\n",
    "    - Two types of methods in tuple.\n",
    "     (i) - Index method\n",
    "    (ii) - Count method\n",
    "\n",
    "    * Index Method :-\n",
    "                        The index() method is used to find the position of the first occurrence of a specified value in a tuple.\n",
    "                         syntax : [  tuple_name.index(value) ]\n",
    "\n",
    "\n",
    "    * Count Method :- \n",
    "                        The count() method is used to count how many times a value appears in a tuple.\n",
    "                         syntax : [ tuple_name.count(value)]\n"
   ]
  },
  {
   "cell_type": "markdown",
   "id": "ca513ff7-3b26-46ed-8a75-e97086d2cdf7",
   "metadata": {},
   "source": [
    "# Index :"
   ]
  },
  {
   "cell_type": "code",
   "execution_count": 15,
   "id": "684d1913-4d42-43a5-bd67-7c3ffa20e076",
   "metadata": {},
   "outputs": [
    {
     "data": {
      "text/plain": [
       "(23, 56, 67, 80, 45, 65)"
      ]
     },
     "execution_count": 15,
     "metadata": {},
     "output_type": "execute_result"
    }
   ],
   "source": [
    "a = (23, 56, 67, 80, 45, 65)\n",
    "a"
   ]
  },
  {
   "cell_type": "code",
   "execution_count": 16,
   "id": "93c0dd34-d416-4dd3-9cb0-026c0357ee45",
   "metadata": {},
   "outputs": [
    {
     "ename": "TypeError",
     "evalue": "index expected at least 1 argument, got 0",
     "output_type": "error",
     "traceback": [
      "\u001b[31m---------------------------------------------------------------------------\u001b[39m",
      "\u001b[31mTypeError\u001b[39m                                 Traceback (most recent call last)",
      "\u001b[36mCell\u001b[39m\u001b[36m \u001b[39m\u001b[32mIn[16]\u001b[39m\u001b[32m, line 1\u001b[39m\n\u001b[32m----> \u001b[39m\u001b[32m1\u001b[39m \u001b[43ma\u001b[49m\u001b[43m.\u001b[49m\u001b[43mindex\u001b[49m\u001b[43m(\u001b[49m\u001b[43m)\u001b[49m        \u001b[38;5;66;03m# pass at least one arguments\u001b[39;00m\n",
      "\u001b[31mTypeError\u001b[39m: index expected at least 1 argument, got 0"
     ]
    }
   ],
   "source": [
    "a.index()        # pass at least one arguments"
   ]
  },
  {
   "cell_type": "code",
   "execution_count": 17,
   "id": "050e92e1-fb80-4b79-8b73-fc91b7fe6b58",
   "metadata": {},
   "outputs": [
    {
     "data": {
      "text/plain": [
       "1"
      ]
     },
     "execution_count": 17,
     "metadata": {},
     "output_type": "execute_result"
    }
   ],
   "source": [
    "a.index(56)       # index of 56 element is equal to 1"
   ]
  },
  {
   "cell_type": "code",
   "execution_count": 18,
   "id": "2a27a845-4536-4d8d-b745-24836dfbd510",
   "metadata": {},
   "outputs": [
    {
     "data": {
      "text/plain": [
       "5"
      ]
     },
     "execution_count": 18,
     "metadata": {},
     "output_type": "execute_result"
    }
   ],
   "source": [
    "a.index(65)      # index of 65 element is equal to 5"
   ]
  },
  {
   "cell_type": "code",
   "execution_count": 19,
   "id": "4809da73-bd85-4d41-a0c9-d89d6429d2b2",
   "metadata": {},
   "outputs": [
    {
     "data": {
      "text/plain": [
       "(23, 56, 67, 80, 45, 65)"
      ]
     },
     "execution_count": 19,
     "metadata": {},
     "output_type": "execute_result"
    }
   ],
   "source": [
    "a"
   ]
  },
  {
   "cell_type": "markdown",
   "id": "ff3546b3-84fa-42ad-a2c9-fb1fdd215490",
   "metadata": {},
   "source": [
    "# Count :"
   ]
  },
  {
   "cell_type": "code",
   "execution_count": 20,
   "id": "7fea8c1e-7b97-43e7-84aa-adeb65f3fe35",
   "metadata": {},
   "outputs": [
    {
     "data": {
      "text/plain": [
       "(12, 45, 23, 45, 78, 90, 65, 56, 23, 77, 23)"
      ]
     },
     "execution_count": 20,
     "metadata": {},
     "output_type": "execute_result"
    }
   ],
   "source": [
    "t = (12, 45, 23, 45, 78, 90, 65, 56, 23, 77, 23)\n",
    "t"
   ]
  },
  {
   "cell_type": "code",
   "execution_count": 21,
   "id": "72f7a798-467c-459d-99cf-ee00b2e05bb8",
   "metadata": {},
   "outputs": [
    {
     "data": {
      "text/plain": [
       "3"
      ]
     },
     "execution_count": 21,
     "metadata": {},
     "output_type": "execute_result"
    }
   ],
   "source": [
    "t.count(23)     # 3 time repeat 23."
   ]
  },
  {
   "cell_type": "code",
   "execution_count": 32,
   "id": "c19e36be-0d43-411b-9036-4589e9f0759e",
   "metadata": {},
   "outputs": [
    {
     "data": {
      "text/plain": [
       "1"
      ]
     },
     "execution_count": 32,
     "metadata": {},
     "output_type": "execute_result"
    }
   ],
   "source": [
    "t.count(12)     # 1 time repeate 12."
   ]
  },
  {
   "cell_type": "markdown",
   "id": "1d2f92a0-52a4-4ec1-9561-878817bada81",
   "metadata": {},
   "source": [
    "# Sorting\n",
    "\n",
    "    - In Python, tuples are immutable, meaning they cannot be changed directly (unlike lists). So you cannot sort a tuple in-place.\n",
    "\n",
    "    - But you can sort the elements of a tuple by converting it to a list, sorting the list, and converting it back if needed."
   ]
  },
  {
   "cell_type": "code",
   "execution_count": 35,
   "id": "62b160a6-1e7d-4206-b125-85baf91664e6",
   "metadata": {},
   "outputs": [],
   "source": [
    "mytuple2 = (43,67,99,6,90,67)"
   ]
  },
  {
   "cell_type": "code",
   "execution_count": 37,
   "id": "b4a366bd-5dcb-4fab-ad6b-68e9599968e2",
   "metadata": {},
   "outputs": [
    {
     "data": {
      "text/plain": [
       "[6, 43, 67, 67, 90, 99]"
      ]
     },
     "execution_count": 37,
     "metadata": {},
     "output_type": "execute_result"
    }
   ],
   "source": [
    "sorted(mytuple2)    # return a new sorted list and doesn't change original tuple"
   ]
  },
  {
   "cell_type": "code",
   "execution_count": 38,
   "id": "f1d6fd5b-2ef1-4edb-90c3-b54c56271a47",
   "metadata": {},
   "outputs": [
    {
     "data": {
      "text/plain": [
       "[99, 90, 67, 67, 43, 6]"
      ]
     },
     "execution_count": 38,
     "metadata": {},
     "output_type": "execute_result"
    }
   ],
   "source": [
    "sorted(mytuple2, reverse=True)    # sort in decending order."
   ]
  },
  {
   "cell_type": "markdown",
   "id": "4cf0a2d8-b3a4-40ed-8d64-45e97b614863",
   "metadata": {},
   "source": [
    "# Range\n",
    "\n",
    "    - The range() function in Python is used to generate a sequence of numbers.\n",
    "\n",
    "    -  you cannot apply range() to a tuple directly, but you can use it to generate values, then store them in a tuple or use it to  access tuple elements.\n",
    "\n",
    "    - Pass at leat one argument.\n"
   ]
  },
  {
   "cell_type": "code",
   "execution_count": 23,
   "id": "e30701e3-c425-4cfb-9f62-5df67fb0f826",
   "metadata": {},
   "outputs": [
    {
     "ename": "TypeError",
     "evalue": "range expected at least 1 argument, got 0",
     "output_type": "error",
     "traceback": [
      "\u001b[31m---------------------------------------------------------------------------\u001b[39m",
      "\u001b[31mTypeError\u001b[39m                                 Traceback (most recent call last)",
      "\u001b[36mCell\u001b[39m\u001b[36m \u001b[39m\u001b[32mIn[23]\u001b[39m\u001b[32m, line 1\u001b[39m\n\u001b[32m----> \u001b[39m\u001b[32m1\u001b[39m \u001b[38;5;28;43mrange\u001b[39;49m\u001b[43m(\u001b[49m\u001b[43m)\u001b[49m\n",
      "\u001b[31mTypeError\u001b[39m: range expected at least 1 argument, got 0"
     ]
    }
   ],
   "source": [
    "range()     # pass at least one argument."
   ]
  },
  {
   "cell_type": "code",
   "execution_count": 24,
   "id": "4cbf2cff-4a35-4798-88d2-0018fd13447a",
   "metadata": {},
   "outputs": [
    {
     "data": {
      "text/plain": [
       "range(0, 9)"
      ]
     },
     "execution_count": 24,
     "metadata": {},
     "output_type": "execute_result"
    }
   ],
   "source": [
    "range(9)    # range 0 to 9."
   ]
  },
  {
   "cell_type": "code",
   "execution_count": 25,
   "id": "ab628c1d-4d0e-43f4-8e8a-5f3c7f42b8ac",
   "metadata": {},
   "outputs": [
    {
     "data": {
      "text/plain": [
       "[0, 1, 2, 3, 4, 5, 6, 7, 8]"
      ]
     },
     "execution_count": 25,
     "metadata": {},
     "output_type": "execute_result"
    }
   ],
   "source": [
    "list(range(9))   # 0 to 9 list . but last element is not print"
   ]
  },
  {
   "cell_type": "code",
   "execution_count": 26,
   "id": "df2f1e94-24fe-42e2-b437-a46e11b3edc3",
   "metadata": {},
   "outputs": [
    {
     "data": {
      "text/plain": [
       "range(10, 20)"
      ]
     },
     "execution_count": 26,
     "metadata": {},
     "output_type": "execute_result"
    }
   ],
   "source": [
    "range(10,20)"
   ]
  },
  {
   "cell_type": "code",
   "execution_count": 27,
   "id": "6a6310b8-77b2-4e1c-949f-edf22624a686",
   "metadata": {},
   "outputs": [
    {
     "data": {
      "text/plain": [
       "[10, 11, 12, 13, 14, 15, 16, 17, 18, 19]"
      ]
     },
     "execution_count": 27,
     "metadata": {},
     "output_type": "execute_result"
    }
   ],
   "source": [
    "list(range(10,20))      # 10 to 20 list but last element is not print"
   ]
  },
  {
   "cell_type": "code",
   "execution_count": 28,
   "id": "14f64b8c-f446-475f-872e-04bae4bbde53",
   "metadata": {},
   "outputs": [
    {
     "data": {
      "text/plain": [
       "range(10, 50, 5)"
      ]
     },
     "execution_count": 28,
     "metadata": {},
     "output_type": "execute_result"
    }
   ],
   "source": [
    "range(10,50,5)"
   ]
  },
  {
   "cell_type": "code",
   "execution_count": 30,
   "id": "475cc44d-1e6d-4936-8bcb-a4482e426233",
   "metadata": {},
   "outputs": [
    {
     "data": {
      "text/plain": [
       "[10, 15, 20, 25, 30, 35, 40, 45]"
      ]
     },
     "execution_count": 30,
     "metadata": {},
     "output_type": "execute_result"
    }
   ],
   "source": [
    "list(range(10,50,5))   "
   ]
  },
  {
   "cell_type": "code",
   "execution_count": 31,
   "id": "fa651226-0af7-42dd-bb9a-9f5b02d876c1",
   "metadata": {},
   "outputs": [
    {
     "ename": "TypeError",
     "evalue": "range expected at most 3 arguments, got 4",
     "output_type": "error",
     "traceback": [
      "\u001b[31m---------------------------------------------------------------------------\u001b[39m",
      "\u001b[31mTypeError\u001b[39m                                 Traceback (most recent call last)",
      "\u001b[36mCell\u001b[39m\u001b[36m \u001b[39m\u001b[32mIn[31]\u001b[39m\u001b[32m, line 1\u001b[39m\n\u001b[32m----> \u001b[39m\u001b[32m1\u001b[39m \u001b[38;5;28;43mrange\u001b[39;49m\u001b[43m(\u001b[49m\u001b[32;43m10\u001b[39;49m\u001b[43m,\u001b[49m\u001b[32;43m60\u001b[39;49m\u001b[43m,\u001b[49m\u001b[32;43m5\u001b[39;49m\u001b[43m,\u001b[49m\u001b[32;43m1\u001b[39;49m\u001b[43m)\u001b[49m\n",
      "\u001b[31mTypeError\u001b[39m: range expected at most 3 arguments, got 4"
     ]
    }
   ],
   "source": [
    "range(10,60,5,1)   # in rnge accept 3 arguments not more than 3 ."
   ]
  }
 ],
 "metadata": {
  "kernelspec": {
   "display_name": "Python 3 (ipykernel)",
   "language": "python",
   "name": "python3"
  },
  "language_info": {
   "codemirror_mode": {
    "name": "ipython",
    "version": 3
   },
   "file_extension": ".py",
   "mimetype": "text/x-python",
   "name": "python",
   "nbconvert_exporter": "python",
   "pygments_lexer": "ipython3",
   "version": "3.13.5"
  }
 },
 "nbformat": 4,
 "nbformat_minor": 5
}
