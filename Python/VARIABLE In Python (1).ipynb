{
 "cells": [
  {
   "cell_type": "markdown",
   "id": "5cf73d22-6698-4ecd-88bc-8c68b05b7be1",
   "metadata": {},
   "source": [
    "# Variable || Object || Identifier"
   ]
  },
  {
   "cell_type": "raw",
   "id": "11069de1-3366-4498-9e16-abe1fddacc2a",
   "metadata": {},
   "source": [
    "# Syntax :-\n",
    "\n",
    "    - Variable is use to store the data.\n",
    "    - Variable = value\n",
    "    - Variable can't start with numbers.\n",
    "    - And also variable can't start with special symbols(@,#,$,&,etc).\n",
    "    - You can assign values to multiple variables at once.\n",
    "    - and assign the same value to multiple variables.\n",
    "    - Python automatically knows the type based on the value.\n",
    "    - PYTHON IS THE CASE SENSITIVE LAGUAGE,'a' and 'A' is differernt.\n",
    "    - SPECIAL CHARECTERS ARE NOT USE IN VARIABLE...(ECCEPT 'UNDERSCORE').\n",
    "    - Reserve word in Python we can not use as a Variable\n",
    "    - In Python 35 are reserved words."
   ]
  },
  {
   "cell_type": "code",
   "execution_count": 5,
   "id": "415ad900-cccd-42d0-95ea-8fbeacb875aa",
   "metadata": {},
   "outputs": [
    {
     "data": {
      "text/plain": [
       "'MOIZ BAGwan'"
      ]
     },
     "execution_count": 5,
     "metadata": {},
     "output_type": "execute_result"
    }
   ],
   "source": [
    "# STRING VARIABLE\n",
    "\n",
    "name = 'MOIZ BAGWAN'   # name is a variable and 'moiz Bagwan' is value\n",
    "name"
   ]
  },
  {
   "cell_type": "code",
   "execution_count": 23,
   "id": "9286ff80-2ba7-4798-8998-11a8afd699fd",
   "metadata": {},
   "outputs": [
    {
     "data": {
      "text/plain": [
       "'Naresh it'"
      ]
     },
     "execution_count": 23,
     "metadata": {},
     "output_type": "execute_result"
    }
   ],
   "source": [
    "name = \"Naresh it\"\n",
    "name"
   ]
  },
  {
   "cell_type": "code",
   "execution_count": 26,
   "id": "b32cf0a6-c78d-4aae-a66e-29c7340ceaea",
   "metadata": {},
   "outputs": [
    {
     "data": {
      "text/plain": [
       "'Admin'"
      ]
     },
     "execution_count": 26,
     "metadata": {},
     "output_type": "execute_result"
    }
   ],
   "source": [
    "hr_name = \"Admin\"\n",
    "hr_name"
   ]
  },
  {
   "cell_type": "code",
   "execution_count": 27,
   "id": "3517d185-ac8c-4f88-82ea-21c8070ac79f",
   "metadata": {},
   "outputs": [
    {
     "data": {
      "text/plain": [
       "'always ba HAPPY'"
      ]
     },
     "execution_count": 27,
     "metadata": {},
     "output_type": "execute_result"
    }
   ],
   "source": [
    "advice = \"always ba HAPPY\"\n",
    "advice"
   ]
  },
  {
   "cell_type": "code",
   "execution_count": 6,
   "id": "750dea3a-1723-4d23-8056-beeefe7fe1d2",
   "metadata": {},
   "outputs": [
    {
     "data": {
      "text/plain": [
       "25"
      ]
     },
     "execution_count": 6,
     "metadata": {},
     "output_type": "execute_result"
    }
   ],
   "source": [
    "# INTEGER VARIABLE\n",
    "\n",
    "age = 25      # age is a variable and 25 is value\n",
    "age      \n"
   ]
  },
  {
   "cell_type": "code",
   "execution_count": 28,
   "id": "16cd1622-b569-4744-9ae0-d3cb537e4ecc",
   "metadata": {},
   "outputs": [
    {
     "data": {
      "text/plain": [
       "99.345"
      ]
     },
     "execution_count": 28,
     "metadata": {},
     "output_type": "execute_result"
    }
   ],
   "source": [
    "num = 9934\n",
    "num"
   ]
  },
  {
   "cell_type": "code",
   "execution_count": 29,
   "id": "fa3786b7-5352-4890-b788-cccec50874d4",
   "metadata": {},
   "outputs": [
    {
     "data": {
      "text/plain": [
       "15"
      ]
     },
     "execution_count": 29,
     "metadata": {},
     "output_type": "execute_result"
    }
   ],
   "source": [
    "score = 15\n",
    "score"
   ]
  },
  {
   "cell_type": "code",
   "execution_count": 30,
   "id": "b8b9c1c5-259e-4a8d-828d-703f922fae6e",
   "metadata": {},
   "outputs": [
    {
     "data": {
      "text/plain": [
       "96.33"
      ]
     },
     "execution_count": 30,
     "metadata": {},
     "output_type": "execute_result"
    }
   ],
   "source": [
    "marks = 96.33\n",
    "marks"
   ]
  },
  {
   "cell_type": "code",
   "execution_count": 7,
   "id": "a865213d-023b-4d55-8f34-9bace00623b4",
   "metadata": {},
   "outputs": [
    {
     "data": {
      "text/plain": [
       "999.99"
      ]
     },
     "execution_count": 7,
     "metadata": {},
     "output_type": "execute_result"
    }
   ],
   "source": [
    "# FLOAT VARIABLE\n",
    "\n",
    "price = 999.99           # price is a variable and 999.99 is value\n",
    "price"
   ]
  },
  {
   "cell_type": "code",
   "execution_count": 8,
   "id": "4988bdac-daa4-4201-b5c8-df76f6434e27",
   "metadata": {},
   "outputs": [
    {
     "data": {
      "text/plain": [
       "True"
      ]
     },
     "execution_count": 8,
     "metadata": {},
     "output_type": "execute_result"
    }
   ],
   "source": [
    "# BOOLEAN VARIABLE\n",
    "\n",
    "is_active = True\n",
    "is_active              # is_active is a variable and True is value"
   ]
  },
  {
   "cell_type": "code",
   "execution_count": 32,
   "id": "0cc373a4-980a-4f49-bae5-03b35feda34e",
   "metadata": {},
   "outputs": [
    {
     "data": {
      "text/plain": [
       "False"
      ]
     },
     "execution_count": 32,
     "metadata": {},
     "output_type": "execute_result"
    }
   ],
   "source": [
    "clg = False\n",
    "clg"
   ]
  },
  {
   "cell_type": "code",
   "execution_count": 11,
   "id": "3b0cc662-9b5b-4f3b-8a50-c16710bca6bf",
   "metadata": {},
   "outputs": [
    {
     "ename": "SyntaxError",
     "evalue": "invalid syntax (2094776061.py, line 1)",
     "output_type": "error",
     "traceback": [
      "  \u001b[36mCell\u001b[39m\u001b[36m \u001b[39m\u001b[32mIn[11]\u001b[39m\u001b[32m, line 1\u001b[39m\n\u001b[31m    \u001b[39m\u001b[31mif = 5\u001b[39m\n       ^\n\u001b[31mSyntaxError\u001b[39m\u001b[31m:\u001b[39m invalid syntax\n"
     ]
    }
   ],
   "source": [
    "if = 5              # 'if' is the reserved word in python . in python 35 words are reserved words.\n",
    "if"
   ]
  },
  {
   "cell_type": "code",
   "execution_count": 13,
   "id": "8019746e-fb48-4c22-8096-c56af1554edc",
   "metadata": {},
   "outputs": [
    {
     "data": {
      "text/plain": [
       "['False',\n",
       " 'None',\n",
       " 'True',\n",
       " 'and',\n",
       " 'as',\n",
       " 'assert',\n",
       " 'async',\n",
       " 'await',\n",
       " 'break',\n",
       " 'class',\n",
       " 'continue',\n",
       " 'def',\n",
       " 'del',\n",
       " 'elif',\n",
       " 'else',\n",
       " 'except',\n",
       " 'finally',\n",
       " 'for',\n",
       " 'from',\n",
       " 'global',\n",
       " 'if',\n",
       " 'import',\n",
       " 'in',\n",
       " 'is',\n",
       " 'lambda',\n",
       " 'nonlocal',\n",
       " 'not',\n",
       " 'or',\n",
       " 'pass',\n",
       " 'raise',\n",
       " 'return',\n",
       " 'try',\n",
       " 'while',\n",
       " 'with',\n",
       " 'yield']"
      ]
     },
     "execution_count": 13,
     "metadata": {},
     "output_type": "execute_result"
    }
   ],
   "source": [
    "import keyword\n",
    "keyword.kwlist"
   ]
  },
  {
   "cell_type": "code",
   "execution_count": 15,
   "id": "509d1bff-2db4-42c9-ac2c-5a0271c4247d",
   "metadata": {},
   "outputs": [
    {
     "data": {
      "text/plain": [
       "35"
      ]
     },
     "execution_count": 15,
     "metadata": {},
     "output_type": "execute_result"
    }
   ],
   "source": [
    "len(keyword.kwlist)"
   ]
  },
  {
   "cell_type": "markdown",
   "id": "4e26206f-1500-496f-873f-c5fad4523116",
   "metadata": {},
   "source": [
    "# 1 STORING AND PRINTING VALUE"
   ]
  },
  {
   "cell_type": "code",
   "execution_count": 9,
   "id": "270f58a8-69f2-4035-9e05-a0a3c77ade39",
   "metadata": {},
   "outputs": [
    {
     "name": "stdout",
     "output_type": "stream",
     "text": [
      "10\n"
     ]
    }
   ],
   "source": [
    "# Store the value 10 in the variable called 'x'\n",
    "\n",
    "x = 10          # printing the value 'x'\n",
    "print(x)"
   ]
  },
  {
   "cell_type": "code",
   "execution_count": 33,
   "id": "9fc6f3e2-4b4b-4bb6-803b-036168e1d9f6",
   "metadata": {},
   "outputs": [
    {
     "name": "stdout",
     "output_type": "stream",
     "text": [
      "100\n"
     ]
    }
   ],
   "source": [
    "a = 100                 #In Variable we assgn int data type\n",
    "print(a)"
   ]
  },
  {
   "cell_type": "code",
   "execution_count": 34,
   "id": "04a5fd77-5c5e-4e00-b279-edc4bbd5a135",
   "metadata": {},
   "outputs": [
    {
     "name": "stdout",
     "output_type": "stream",
     "text": [
      "19.16555\n"
     ]
    }
   ],
   "source": [
    "b = 19.16555            # in Variable we assgn float data type\n",
    "print(b)"
   ]
  },
  {
   "cell_type": "code",
   "execution_count": 35,
   "id": "557b3396-ba23-4c33-bafe-9a9243498417",
   "metadata": {},
   "outputs": [
    {
     "name": "stdout",
     "output_type": "stream",
     "text": [
      "5342\n"
     ]
    }
   ],
   "source": [
    "y = 5342                # In Variable we assgn int data type\n",
    "print(y)                  "
   ]
  },
  {
   "cell_type": "code",
   "execution_count": 36,
   "id": "adf529f0-a432-4d53-bdb5-0ef2b0155bfd",
   "metadata": {},
   "outputs": [
    {
     "name": "stdout",
     "output_type": "stream",
     "text": [
      "moiz\n"
     ]
    }
   ],
   "source": [
    "name = 'moiz'           # In Variable we assgn string data type\n",
    "print(name) "
   ]
  },
  {
   "cell_type": "code",
   "execution_count": 37,
   "id": "a754ef2b-cfec-461c-8fd4-9d4dc8b4ae97",
   "metadata": {},
   "outputs": [
    {
     "data": {
      "text/plain": [
       "'FSDS'"
      ]
     },
     "execution_count": 37,
     "metadata": {},
     "output_type": "execute_result"
    }
   ],
   "source": [
    "batch = 'FSDS'         # In Variable we assgn string data type\n",
    "batch"
   ]
  },
  {
   "cell_type": "code",
   "execution_count": 1,
   "id": "be47c326-4998-4dd9-9693-0da8692b96bd",
   "metadata": {},
   "outputs": [
    {
     "ename": "SyntaxError",
     "evalue": "invalid decimal literal (4189290074.py, line 1)",
     "output_type": "error",
     "traceback": [
      "  \u001b[36mCell\u001b[39m\u001b[36m \u001b[39m\u001b[32mIn[1]\u001b[39m\u001b[32m, line 1\u001b[39m\n\u001b[31m    \u001b[39m\u001b[31m1V = 5\u001b[39m\n    ^\n\u001b[31mSyntaxError\u001b[39m\u001b[31m:\u001b[39m invalid decimal literal\n"
     ]
    }
   ],
   "source": [
    "1V = 5                 # In Variable can not be start with numbers\n",
    "1V"
   ]
  },
  {
   "cell_type": "code",
   "execution_count": 2,
   "id": "bcbb2a81-7ac1-4ce9-9e2d-2e1940677616",
   "metadata": {},
   "outputs": [
    {
     "data": {
      "text/plain": [
       "9"
      ]
     },
     "execution_count": 2,
     "metadata": {},
     "output_type": "execute_result"
    }
   ],
   "source": [
    "v1 = 9           # this is valid\n",
    "v1"
   ]
  },
  {
   "cell_type": "markdown",
   "id": "4a38c1b4-6dda-422e-a6fe-d672ba16eb4e",
   "metadata": {},
   "source": [
    "# 2 USING VARIABLE IN EXPRESSION"
   ]
  },
  {
   "cell_type": "code",
   "execution_count": null,
   "id": "2f0022ee-8415-4c86-bc43-bcec14f5cc1d",
   "metadata": {},
   "outputs": [],
   "source": []
  },
  {
   "cell_type": "code",
   "execution_count": 10,
   "id": "b81923c8-2d42-45e1-b0bc-df9575df742e",
   "metadata": {},
   "outputs": [
    {
     "name": "stdout",
     "output_type": "stream",
     "text": [
      "9\n"
     ]
    }
   ],
   "source": [
    "# Assigning value to variable\n",
    "a = 5               \n",
    "b = 4                     #      Addition of two numbers using variable\n",
    "print(a + b)        "
   ]
  },
  {
   "cell_type": "code",
   "execution_count": 38,
   "id": "cc304566-2416-4a5b-ad25-ccc646f2aa7c",
   "metadata": {},
   "outputs": [
    {
     "name": "stdout",
     "output_type": "stream",
     "text": [
      "313\n"
     ]
    }
   ],
   "source": [
    "a = 845\n",
    "b = 532                   #  Substraction of two numbers using variable\n",
    "print(a - b)                   "
   ]
  },
  {
   "cell_type": "code",
   "execution_count": 39,
   "id": "08986c62-18c3-414d-90c4-b985f0cfdca2",
   "metadata": {},
   "outputs": [
    {
     "name": "stdout",
     "output_type": "stream",
     "text": [
      "298224\n"
     ]
    }
   ],
   "source": [
    "x = 456\n",
    "y = 654                   #  Multiplication of two numbers using variable\n",
    "print(x * y)"
   ]
  },
  {
   "cell_type": "code",
   "execution_count": 41,
   "id": "4d38e9aa-2363-4e06-8caf-031f42af9486",
   "metadata": {},
   "outputs": [
    {
     "name": "stdout",
     "output_type": "stream",
     "text": [
      "4.338842975206612\n"
     ]
    }
   ],
   "source": [
    "a = 525\n",
    "b = 121                  # Float Division of two numbers using variable\n",
    "print(a / b)"
   ]
  },
  {
   "cell_type": "code",
   "execution_count": 42,
   "id": "3d9c585c-98dc-4a1d-b2a4-626e40909381",
   "metadata": {},
   "outputs": [
    {
     "name": "stdout",
     "output_type": "stream",
     "text": [
      "4\n"
     ]
    }
   ],
   "source": [
    "a = 525\n",
    "b = 121                  #  Int Division of two numbers using variable\n",
    "b = 121                \n",
    "print(a // b)"
   ]
  },
  {
   "cell_type": "code",
   "execution_count": 43,
   "id": "6639e916-b34d-4f03-a18d-f06d5a687b1c",
   "metadata": {},
   "outputs": [
    {
     "name": "stdout",
     "output_type": "stream",
     "text": [
      "3125\n"
     ]
    }
   ],
   "source": [
    "a = 5\n",
    "b = 5                    #  Power of two numbers using variable\n",
    "print(a ** b) "
   ]
  },
  {
   "cell_type": "code",
   "execution_count": 10,
   "id": "04e9f779-d0a7-4f40-835c-537edd2b4c21",
   "metadata": {},
   "outputs": [
    {
     "data": {
      "text/plain": [
       "'NIT'"
      ]
     },
     "execution_count": 10,
     "metadata": {},
     "output_type": "execute_result"
    }
   ],
   "source": [
    "name = \"NIT\"\n",
    "name           # Define and call the same Variable. not another variable."
   ]
  },
  {
   "cell_type": "markdown",
   "id": "aa2ba42b-a906-446d-ae4a-982d5c23166b",
   "metadata": {},
   "source": [
    "# 3 Changing the value of a variable"
   ]
  },
  {
   "cell_type": "code",
   "execution_count": 12,
   "id": "21d2ae95-d631-42a6-a3bb-f33a98520e85",
   "metadata": {},
   "outputs": [
    {
     "name": "stdout",
     "output_type": "stream",
     "text": [
      "50\n",
      "100\n"
     ]
    }
   ],
   "source": [
    "# initial value\n",
    "score = 50\n",
    "print (score)       #output is  50\n",
    "\n",
    "# changing the value of 'score'\n",
    "\n",
    "score = 100\n",
    "print(score)         #output is  50\n"
   ]
  },
  {
   "cell_type": "code",
   "execution_count": 44,
   "id": "09c821bc-b426-4b8f-9d37-ac05805c3955",
   "metadata": {},
   "outputs": [
    {
     "name": "stdout",
     "output_type": "stream",
     "text": [
      "55\n",
      "33\n"
     ]
    }
   ],
   "source": [
    "a = 55\n",
    "print(a)\n",
    "\n",
    "# changing value\n",
    "\n",
    "a = 33\n",
    "print(a)"
   ]
  },
  {
   "cell_type": "code",
   "execution_count": 46,
   "id": "a6bcd7e2-5963-4e41-8405-6c01cb7028f2",
   "metadata": {},
   "outputs": [
    {
     "name": "stdout",
     "output_type": "stream",
     "text": [
      "98.99\n",
      "78.99\n"
     ]
    }
   ],
   "source": [
    "marks = 98.99\n",
    "print(marks)\n",
    "\n",
    "# changing value..\n",
    "\n",
    "marks = 78.99\n",
    "print(marks)"
   ]
  },
  {
   "cell_type": "code",
   "execution_count": 1,
   "id": "e20cb342-6d6a-4f0b-be21-846f995cbc36",
   "metadata": {},
   "outputs": [
    {
     "name": "stdout",
     "output_type": "stream",
     "text": [
      "solo\n",
      "bolo\n"
     ]
    }
   ],
   "source": [
    "name = 'solo'\n",
    "print(name)\n",
    "\n",
    "# changing value..\n",
    "\n",
    "name = 'bolo'\n",
    "print(name)"
   ]
  },
  {
   "cell_type": "markdown",
   "id": "20987e3f-4ee8-402b-8323-96bff7b5e117",
   "metadata": {},
   "source": [
    "# 4 Concatenation Strings"
   ]
  },
  {
   "cell_type": "code",
   "execution_count": 16,
   "id": "44f42c1a-7dcc-4945-b441-edce2890429f",
   "metadata": {},
   "outputs": [
    {
     "name": "stdout",
     "output_type": "stream",
     "text": [
      "moiz Bagwan\n"
     ]
    }
   ],
   "source": [
    "# assigning value to variable\n",
    "\n",
    "first_name = 'moiz'\n",
    "second_name = 'Bagwan'\n",
    "\n",
    "# concatenating strings and storing in a new variable\n",
    "\n",
    "full_name = first_name+  \" \"  + second_name\n",
    "print(full_name)"
   ]
  },
  {
   "cell_type": "code",
   "execution_count": 49,
   "id": "65b120ce-1434-4891-8b5c-617d7ef3e57c",
   "metadata": {},
   "outputs": [
    {
     "name": "stdout",
     "output_type": "stream",
     "text": [
      "Naresh IT\n"
     ]
    }
   ],
   "source": [
    "a = 'Naresh'\n",
    "b = 'IT'\n",
    "\n",
    "a = a +' ' + b\n",
    "print(a)"
   ]
  },
  {
   "cell_type": "code",
   "execution_count": 50,
   "id": "096ee5a2-42bf-4f89-8c0d-84447d0974e7",
   "metadata": {},
   "outputs": [
    {
     "name": "stdout",
     "output_type": "stream",
     "text": [
      "Good Morning\n"
     ]
    }
   ],
   "source": [
    "x = \"Good\"\n",
    "y = 'Morning'\n",
    "\n",
    "z = x +\" \" + y\n",
    "print(z)"
   ]
  },
  {
   "cell_type": "code",
   "execution_count": 51,
   "id": "cd609e17-f572-4e11-8a33-86124bbe3159",
   "metadata": {},
   "outputs": [
    {
     "name": "stdout",
     "output_type": "stream",
     "text": [
      "Good Night\n"
     ]
    }
   ],
   "source": [
    "x = \"Good\"\n",
    "y = 'Night'\n",
    "\n",
    "z = x +\" \" + y\n",
    "print(z)"
   ]
  },
  {
   "cell_type": "markdown",
   "id": "864278a6-7a33-4a45-918b-38eaf81c2939",
   "metadata": {},
   "source": [
    "# Using Variable in a Calculation"
   ]
  },
  {
   "cell_type": "code",
   "execution_count": 22,
   "id": "20e7d4d2-cfcd-4518-93a8-d06d14bb7a3a",
   "metadata": {},
   "outputs": [
    {
     "name": "stdout",
     "output_type": "stream",
     "text": [
      "50\n"
     ]
    }
   ],
   "source": [
    "# Assigning value to variable\n",
    "\n",
    "a = 10\n",
    "b = 5\n",
    "\n",
    "# Calculation the area of a recangle \n",
    "\n",
    "area = a * b\n",
    "print(area)"
   ]
  },
  {
   "cell_type": "code",
   "execution_count": 52,
   "id": "d1ad430e-d03a-4ae8-8d1e-d2876cfccafc",
   "metadata": {},
   "outputs": [
    {
     "name": "stdout",
     "output_type": "stream",
     "text": [
      "55.0\n"
     ]
    }
   ],
   "source": [
    "# Assigning value to variable\n",
    "\n",
    "a = 50\n",
    "b = 60\n",
    "\n",
    "# find average of two value\n",
    "\n",
    "avg = ((a + b)/ 2)\n",
    "\n",
    "print(avg)\n"
   ]
  },
  {
   "cell_type": "code",
   "execution_count": 53,
   "id": "33c88e89-742c-498e-a4b5-cba27ef79fe7",
   "metadata": {},
   "outputs": [
    {
     "name": "stdout",
     "output_type": "stream",
     "text": [
      "1.0\n"
     ]
    }
   ],
   "source": [
    "a = 90\n",
    "b = 90\n",
    "# divide..\n",
    "\n",
    "c = a / b\n",
    "print(c)\n",
    "\n"
   ]
  },
  {
   "cell_type": "markdown",
   "id": "562c99ef-a113-4957-bf6b-816d3eda6444",
   "metadata": {},
   "source": [
    "# Reassigning Value to Variable"
   ]
  },
  {
   "cell_type": "code",
   "execution_count": 21,
   "id": "f4dff76c-b3e0-4be3-a821-f9b3caa35be0",
   "metadata": {},
   "outputs": [
    {
     "name": "stdout",
     "output_type": "stream",
     "text": [
      "10\n",
      "20\n"
     ]
    }
   ],
   "source": [
    "x = 10 # initial value of x\n",
    "print(x)                        # out put is  [10]\n",
    "\n",
    "# reassigning the value of x\n",
    "\n",
    "x = 20\n",
    "print(x)                       # output is 20"
   ]
  },
  {
   "cell_type": "code",
   "execution_count": 54,
   "id": "5cfddcde-f148-41ca-a8f5-84c7dd920f50",
   "metadata": {},
   "outputs": [
    {
     "name": "stdout",
     "output_type": "stream",
     "text": [
      "100\n",
      "205\n"
     ]
    }
   ],
   "source": [
    "x = 100 # initial value of x\n",
    "print(x)                        # out put is  [10]\n",
    "\n",
    "# reassigning the value of x\n",
    "\n",
    "x = 205\n",
    "print(x)                       # output is 20"
   ]
  },
  {
   "cell_type": "code",
   "execution_count": 55,
   "id": "5ac8ce8c-558f-4f3a-949e-66869ce6d9bd",
   "metadata": {},
   "outputs": [
    {
     "name": "stdout",
     "output_type": "stream",
     "text": [
      "5000\n",
      "2000\n"
     ]
    }
   ],
   "source": [
    "a = 5000\n",
    "print(a)\n",
    "\n",
    "# reassigning value..\n",
    "\n",
    "a = 2000\n",
    "print(a)"
   ]
  }
 ],
 "metadata": {
  "kernelspec": {
   "display_name": "Python 3 (ipykernel)",
   "language": "python",
   "name": "python3"
  },
  "language_info": {
   "codemirror_mode": {
    "name": "ipython",
    "version": 3
   },
   "file_extension": ".py",
   "mimetype": "text/x-python",
   "name": "python",
   "nbconvert_exporter": "python",
   "pygments_lexer": "ipython3",
   "version": "3.13.5"
  }
 },
 "nbformat": 4,
 "nbformat_minor": 5
}
