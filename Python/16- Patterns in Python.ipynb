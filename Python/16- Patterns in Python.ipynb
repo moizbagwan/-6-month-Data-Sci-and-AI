{
 "cells": [
  {
   "cell_type": "markdown",
   "id": "91077660-a530-4b41-9de0-f3ecade5b073",
   "metadata": {},
   "source": [
    "# 1. Right Angle Triangle Pattern"
   ]
  },
  {
   "cell_type": "code",
   "execution_count": 3,
   "id": "1b0cc83c-eb7a-44b1-8822-eaea441ce541",
   "metadata": {},
   "outputs": [
    {
     "name": "stdout",
     "output_type": "stream",
     "text": [
      "*\n",
      "**\n",
      "***\n",
      "****\n",
      "*****\n"
     ]
    }
   ],
   "source": [
    "for i in range (1,6):\n",
    "    print('*' *i)"
   ]
  },
  {
   "cell_type": "markdown",
   "id": "72cc8055-a00b-4172-8ade-d7efaee87071",
   "metadata": {},
   "source": [
    "# 2. Inverted Right Angle Triangle Pattern"
   ]
  },
  {
   "cell_type": "code",
   "execution_count": 4,
   "id": "e5a8f255-1134-41c9-b75e-f55e9093c75c",
   "metadata": {},
   "outputs": [
    {
     "name": "stdout",
     "output_type": "stream",
     "text": [
      "*****\n",
      "****\n",
      "***\n",
      "**\n",
      "*\n"
     ]
    }
   ],
   "source": [
    "for i in range(5,0,-1):\n",
    "    print('*'*i)"
   ]
  },
  {
   "cell_type": "markdown",
   "id": "ffc81bf0-bd4c-42cd-ab5f-caf95112a48e",
   "metadata": {},
   "source": [
    "# 3. Pyramid Pattern"
   ]
  },
  {
   "cell_type": "code",
   "execution_count": 5,
   "id": "d8877fad-afc8-4bf9-99d8-23fab8f4a981",
   "metadata": {},
   "outputs": [
    {
     "name": "stdout",
     "output_type": "stream",
     "text": [
      "*\n",
      "***\n",
      "*****\n",
      "*******\n",
      "*********\n"
     ]
    }
   ],
   "source": [
    "for i in range(1,6):\n",
    "    print(''*(5-i)+'*'*(2*i-1))"
   ]
  },
  {
   "cell_type": "markdown",
   "id": "dcdc0f02-9517-49e9-9ee4-d30499132a3f",
   "metadata": {},
   "source": [
    "# 4. Inverted Pyramid Pattern"
   ]
  },
  {
   "cell_type": "code",
   "execution_count": 6,
   "id": "06fc0440-f53b-41cb-9467-dcebb1018c0f",
   "metadata": {},
   "outputs": [
    {
     "name": "stdout",
     "output_type": "stream",
     "text": [
      "*********\n",
      "*******\n",
      "*****\n",
      "***\n",
      "*\n"
     ]
    }
   ],
   "source": [
    "for i in range (5,0,-1):\n",
    "    print(''*(5-i)+'*' *(2*i-1))"
   ]
  },
  {
   "cell_type": "markdown",
   "id": "76cde139-b4e4-47e0-9a5d-dc3d4a54abd8",
   "metadata": {},
   "source": [
    "# 5. Diamond Pattern"
   ]
  },
  {
   "cell_type": "code",
   "execution_count": 8,
   "id": "59eaa033-bd1a-4766-9ac2-04374a13d8d7",
   "metadata": {},
   "outputs": [
    {
     "name": "stdout",
     "output_type": "stream",
     "text": [
      "*\n",
      "***\n",
      "*****\n",
      "*******\n",
      "*********\n",
      "*******\n",
      "*****\n",
      "***\n",
      "*\n"
     ]
    }
   ],
   "source": [
    "for i in range(1,6):\n",
    "    print(''*(5-i)+'*'*(2*i-1))\n",
    "for i in range(4,0,-1):\n",
    "    print(''*(5-i)+'*'*(2*i-1))"
   ]
  },
  {
   "cell_type": "markdown",
   "id": "07fee0a7-2d4d-4790-866c-0917d80ebd2f",
   "metadata": {},
   "source": [
    "# 6. Hallow Square Pattern"
   ]
  },
  {
   "cell_type": "code",
   "execution_count": 16,
   "id": "29e7a6cb-d1b6-4277-860c-be7b40adb9de",
   "metadata": {},
   "outputs": [
    {
     "name": "stdout",
     "output_type": "stream",
     "text": [
      "*****\n",
      "*   *\n",
      "*   *\n",
      "*   *\n",
      "*****\n"
     ]
    }
   ],
   "source": [
    "for i in range(5):\n",
    "    for j in range(5):\n",
    "        if i == 0 or i == 4 or j == 0 or j == 4:\n",
    "            print('*', end='')\n",
    "        else:\n",
    "            print(' ', end='')  # space for inside\n",
    "    print()"
   ]
  },
  {
   "cell_type": "markdown",
   "id": "9f51efbe-10fc-4096-9ed9-676775840100",
   "metadata": {},
   "source": [
    "# 7. Full Square Pattern"
   ]
  },
  {
   "cell_type": "code",
   "execution_count": 17,
   "id": "807e86fe-b50c-4896-93f8-922f575d3fcd",
   "metadata": {},
   "outputs": [
    {
     "name": "stdout",
     "output_type": "stream",
     "text": [
      "*****\n",
      "*****\n",
      "*****\n",
      "*****\n",
      "*****\n"
     ]
    }
   ],
   "source": [
    "for i in range(5):\n",
    "    print('*'*5)"
   ]
  },
  {
   "cell_type": "markdown",
   "id": "b5ecf39e-d77e-445b-b7e2-481abb50c5fe",
   "metadata": {},
   "source": [
    "# 8. Right Angle Triange (Number Patern)"
   ]
  },
  {
   "cell_type": "code",
   "execution_count": 20,
   "id": "dc6410c2-79e7-4be6-a1bf-118bd70569a0",
   "metadata": {},
   "outputs": [
    {
     "name": "stdout",
     "output_type": "stream",
     "text": [
      "1\n",
      "12\n",
      "123\n",
      "1234\n",
      "12345\n"
     ]
    }
   ],
   "source": [
    "for i in range(1,6):\n",
    "    print(''.join(str(x) for x in range(1, i + 1)))"
   ]
  },
  {
   "cell_type": "markdown",
   "id": "8ff09ce7-caf9-465e-8306-ff09eb16019c",
   "metadata": {},
   "source": [
    "# 9. Inverted Right Angle Triange (Number Patern)"
   ]
  },
  {
   "cell_type": "code",
   "execution_count": 21,
   "id": "ff31bbf7-1298-4b09-bedb-f480f121f11c",
   "metadata": {},
   "outputs": [
    {
     "name": "stdout",
     "output_type": "stream",
     "text": [
      "12345\n",
      "1234\n",
      "123\n",
      "12\n",
      "1\n"
     ]
    }
   ],
   "source": [
    "for i in range(5,0,-1):\n",
    "    print(''.join(str(x) for x in range(1, i + 1)))"
   ]
  },
  {
   "cell_type": "markdown",
   "id": "b7f062db-16c3-4cec-9a05-2e22ba8c64e1",
   "metadata": {},
   "source": [
    "# 10. Floyd's Triangle"
   ]
  },
  {
   "cell_type": "code",
   "execution_count": 23,
   "id": "5aabce62-20de-4bac-9287-8904f478e39e",
   "metadata": {},
   "outputs": [
    {
     "name": "stdout",
     "output_type": "stream",
     "text": [
      "1 \n",
      "2 3 \n",
      "4 5 6 \n",
      "7 8 9 10 \n",
      "11 12 13 14 15 \n"
     ]
    }
   ],
   "source": [
    "num = 1\n",
    "for i in range(1,6):\n",
    "    for j in range(1,i+1):\n",
    "        print(num,end=' ')\n",
    "        num+=1\n",
    "    print()"
   ]
  },
  {
   "cell_type": "markdown",
   "id": "aa04203e-5db4-4b95-b849-287101f39110",
   "metadata": {},
   "source": [
    "# 11. Hallow Right Angle Triangle"
   ]
  },
  {
   "cell_type": "code",
   "execution_count": 24,
   "id": "b2274163-183e-4668-8573-54d4c31d6442",
   "metadata": {},
   "outputs": [
    {
     "name": "stdout",
     "output_type": "stream",
     "text": [
      "* \n",
      "* * \n",
      "*   * \n",
      "*     * \n",
      "* * * * * \n"
     ]
    }
   ],
   "source": [
    "for i in range(1,6):\n",
    "    for j in range(1,i+1):\n",
    "        if j==1 or j==i or i==5:\n",
    "            print('*',end=' ')\n",
    "        else:\n",
    "            print(' ',end= ' ')\n",
    "    print()"
   ]
  },
  {
   "cell_type": "markdown",
   "id": "a4e4e6f5-0512-4ad5-b5b8-6da7272dacd1",
   "metadata": {},
   "source": [
    "# 12. Hallow Pyramid Pattern"
   ]
  },
  {
   "cell_type": "code",
   "execution_count": 42,
   "id": "2b61f7fe-1371-45ff-96b0-aa9d1e6cdc0a",
   "metadata": {},
   "outputs": [
    {
     "name": "stdout",
     "output_type": "stream",
     "text": [
      "        * \n",
      "      *   * \n",
      "    *       * \n",
      "  *           * \n",
      "* * * * * * * * * \n"
     ]
    }
   ],
   "source": [
    "rows = 5\n",
    "for i in range(1, rows+1):\n",
    "    # print leading spaces\n",
    "    for j in range(rows - i):\n",
    "        print(' ', end=' ')\n",
    "    # print stars and hollow spaces\n",
    "    for j in range(2 * i - 1):\n",
    "        if j == 0 or j == 2 * i - 2 or i == rows:\n",
    "            print('*', end=' ')\n",
    "        else:\n",
    "            print(' ', end=' ')\n",
    "    print()"
   ]
  },
  {
   "cell_type": "markdown",
   "id": "a79e2f55-058c-4681-9af7-80d5982dadce",
   "metadata": {},
   "source": [
    "# 13. Hallow Diamond Pattern"
   ]
  },
  {
   "cell_type": "code",
   "execution_count": 50,
   "id": "48b54c44-065a-4e1c-886f-2c196cddf73a",
   "metadata": {},
   "outputs": [
    {
     "name": "stdout",
     "output_type": "stream",
     "text": [
      "        * \n",
      "      *   * \n",
      "    *       * \n",
      "  *           * \n",
      "*               * \n",
      "  *           * \n",
      "    *       * \n",
      "      *   * \n",
      "        * \n"
     ]
    }
   ],
   "source": [
    "n = 5\n",
    "\n",
    "# Upper Pyramid\n",
    "for i in range(1, n+1):\n",
    "    # Leading spaces\n",
    "    for j in range(n-i):\n",
    "        print(' ', end=' ')\n",
    "    # Hollow stars\n",
    "    for j in range(2*i - 1):\n",
    "        if j == 0 or j == 2*i - 2:\n",
    "            print('*', end=' ')\n",
    "        else:\n",
    "            print(' ', end=' ')\n",
    "    print()\n",
    "\n",
    "# Lower Inverted Pyramid\n",
    "for i in range(n-1, 0, -1):   # Note: start from n-1 to avoid middle line\n",
    "    # Leading spaces\n",
    "    for j in range(n-i):\n",
    "        print(' ', end=' ')\n",
    "    # Hollow stars\n",
    "    for j in range(2*i - 1):\n",
    "        if j == 0 or j == 2*i - 2:\n",
    "            print('*', end=' ')\n",
    "        else:\n",
    "            print(' ', end=' ')\n",
    "    print()"
   ]
  },
  {
   "cell_type": "markdown",
   "id": "28805806-a46a-4683-80cb-8044c51de307",
   "metadata": {},
   "source": [
    "# 14. Hollow Diamond Number Pattern"
   ]
  },
  {
   "cell_type": "code",
   "execution_count": 51,
   "id": "9d7ce4dc-1ae0-47f1-a91e-41d6f002b791",
   "metadata": {},
   "outputs": [
    {
     "name": "stdout",
     "output_type": "stream",
     "text": [
      "        1 \n",
      "      2   2 \n",
      "    3       3 \n",
      "  4           4 \n",
      "5               5 \n",
      "  4           4 \n",
      "    3       3 \n",
      "      2   2 \n",
      "        1 \n"
     ]
    }
   ],
   "source": [
    "n = 5\n",
    "\n",
    "# Upper Pyramid\n",
    "for i in range(1, n+1):\n",
    "    # Leading spaces\n",
    "    for j in range(n-i):\n",
    "        print(' ', end=' ')\n",
    "    # Numbers and spaces\n",
    "    for j in range(1, 2*i):\n",
    "        if j == 1 or j == 2*i - 1:\n",
    "            print(i, end=' ')\n",
    "        else:\n",
    "            print(' ', end=' ')\n",
    "    print()\n",
    "\n",
    "# Lower Inverted Pyramid\n",
    "for i in range(n-1, 0, -1):\n",
    "    # Leading spaces\n",
    "    for j in range(n-i):\n",
    "        print(' ', end=' ')\n",
    "    # Numbers and spaces\n",
    "    for j in range(1, 2*i):\n",
    "        if j == 1 or j == 2*i - 1:\n",
    "            print(i, end=' ')\n",
    "        else:\n",
    "            print(' ', end=' ')\n",
    "    print()"
   ]
  },
  {
   "cell_type": "markdown",
   "id": "d87a45b4-99a0-47f6-9552-efd86d5fdd06",
   "metadata": {},
   "source": [
    "# 15. Butterfly Pattern"
   ]
  },
  {
   "cell_type": "code",
   "execution_count": 52,
   "id": "057c5566-b080-42d1-b4da-e65441fc02e5",
   "metadata": {},
   "outputs": [
    {
     "name": "stdout",
     "output_type": "stream",
     "text": [
      "*        *\n",
      "**      **\n",
      "***    ***\n",
      "****  ****\n",
      "**********\n",
      "**********\n",
      "****  ****\n",
      "***    ***\n",
      "**      **\n",
      "*        *\n"
     ]
    }
   ],
   "source": [
    "n = 5\n",
    "\n",
    "# Upper Half\n",
    "for i in range(1, n+1):\n",
    "    # Left Stars\n",
    "    for j in range(i):\n",
    "        print('*', end='')\n",
    "    # Spaces\n",
    "    for j in range(2*(n-i)):\n",
    "        print(' ', end='')\n",
    "    # Right Stars\n",
    "    for j in range(i):\n",
    "        print('*', end='')\n",
    "    print()\n",
    "\n",
    "# Lower Half\n",
    "for i in range(n, 0, -1):\n",
    "    # Left Stars\n",
    "    for j in range(i):\n",
    "        print('*', end='')\n",
    "    # Spaces\n",
    "    for j in range(2*(n-i)):\n",
    "        print(' ', end='')\n",
    "    # Right Stars\n",
    "    for j in range(i):\n",
    "        print('*', end='')\n",
    "    print()"
   ]
  },
  {
   "cell_type": "markdown",
   "id": "b4dd2301-6fd4-4749-9c5e-74fb37994c4a",
   "metadata": {},
   "source": [
    "# 16. Hollow Number Pyramid"
   ]
  },
  {
   "cell_type": "code",
   "execution_count": 54,
   "id": "776dab09-7d66-412a-8d88-e065ae832f8d",
   "metadata": {},
   "outputs": [
    {
     "name": "stdout",
     "output_type": "stream",
     "text": [
      "        1 \n",
      "      2   2 \n",
      "    3       3 \n",
      "  4           4 \n",
      "5 5 5 5 5 5 5 5 5 \n"
     ]
    }
   ],
   "source": [
    "n = 5\n",
    "\n",
    "for i in range(1, n+1):\n",
    "    # Leading spaces\n",
    "    for j in range(n-i):\n",
    "        print(' ', end=' ')\n",
    "    # Numbers and hollow spaces\n",
    "    for j in range(1, 2*i):\n",
    "        if j == 1 or j == 2*i - 1 or i == n:  # Edges + base row\n",
    "            print(i, end=' ')\n",
    "        else:\n",
    "            print(' ', end=' ')\n",
    "    print()"
   ]
  },
  {
   "cell_type": "markdown",
   "id": "6a469cea-e454-494c-bb42-958cd84fe582",
   "metadata": {},
   "source": [
    "# 17. Full Star Pyramid"
   ]
  },
  {
   "cell_type": "code",
   "execution_count": 55,
   "id": "3c01d729-92bc-48d5-8b93-5434d83e3c53",
   "metadata": {},
   "outputs": [
    {
     "name": "stdout",
     "output_type": "stream",
     "text": [
      "        * \n",
      "      * * * \n",
      "    * * * * * \n",
      "  * * * * * * * \n",
      "* * * * * * * * * \n"
     ]
    }
   ],
   "source": [
    "n = 5\n",
    "\n",
    "for i in range(1, n+1):\n",
    "    # Print leading spaces\n",
    "    for j in range(n - i):\n",
    "        print(' ', end=' ')\n",
    "    # Print stars\n",
    "    for j in range(2*i - 1):\n",
    "        print('*', end=' ')\n",
    "    print()"
   ]
  },
  {
   "cell_type": "markdown",
   "id": "3ba91940-fd7e-452f-add3-4f16772614af",
   "metadata": {},
   "source": [
    "# 18. Inverted Full Star Pyramid"
   ]
  },
  {
   "cell_type": "code",
   "execution_count": 56,
   "id": "f4b02cf3-4b24-4a5a-a8e7-7f4235bf551d",
   "metadata": {},
   "outputs": [
    {
     "name": "stdout",
     "output_type": "stream",
     "text": [
      "* * * * * * * * * \n",
      "  * * * * * * * \n",
      "    * * * * * \n",
      "      * * * \n",
      "        * \n"
     ]
    }
   ],
   "source": [
    "n = 5  # Number of rows\n",
    "\n",
    "for i in range(n, 0, -1):\n",
    "    # Leading spaces\n",
    "    for j in range(n-i):\n",
    "        print(' ', end=' ')\n",
    "    # Stars\n",
    "    for j in range(2*i - 1):\n",
    "        print('*', end=' ')\n",
    "    print()"
   ]
  },
  {
   "cell_type": "markdown",
   "id": "107484d2-148c-4686-b0cf-a19257dc37ed",
   "metadata": {},
   "source": [
    "# 19. Left-Aligned Pyramid"
   ]
  },
  {
   "cell_type": "code",
   "execution_count": 58,
   "id": "fecae316-e5df-439f-87cf-d05c2c600e01",
   "metadata": {},
   "outputs": [
    {
     "name": "stdout",
     "output_type": "stream",
     "text": [
      "* \n",
      "* * \n",
      "* * * \n",
      "* * * * \n",
      "* * * * * \n",
      "1 \n",
      "1 2 \n",
      "1 2 3 \n",
      "1 2 3 4 \n",
      "1 2 3 4 5 \n"
     ]
    }
   ],
   "source": [
    "n = 5  # Number of rows\n",
    "\n",
    "for i in range(1, n+1):\n",
    "    # Stars\n",
    "    for j in range(i):\n",
    "        print('*', end=' ')\n",
    "    print()\n",
    "\n",
    "\n",
    "n = 5  # Number of rows\n",
    "\n",
    "for i in range(1, n+1):\n",
    "    for j in range(1, i+1):\n",
    "        print(j, end=' ')\n",
    "    print()"
   ]
  },
  {
   "cell_type": "markdown",
   "id": "e6019d54-a6f9-4be7-a2de-dce21fc26f58",
   "metadata": {},
   "source": [
    "# 20. Right-Aligned Pyramid"
   ]
  },
  {
   "cell_type": "code",
   "execution_count": 60,
   "id": "36acfd72-6c3a-49e1-8171-7c466d69f0d6",
   "metadata": {},
   "outputs": [
    {
     "name": "stdout",
     "output_type": "stream",
     "text": [
      "        * \n",
      "      * * \n",
      "    * * * \n",
      "  * * * * \n",
      "* * * * * \n",
      "        1 \n",
      "      1 2 \n",
      "    1 2 3 \n",
      "  1 2 3 4 \n",
      "1 2 3 4 5 \n"
     ]
    }
   ],
   "source": [
    "n = 5  # Number of rows\n",
    "\n",
    "for i in range(1, n+1):\n",
    "    # Leading spaces\n",
    "    for j in range(n-i):\n",
    "        print(' ', end=' ')\n",
    "    # Stars\n",
    "    for j in range(i):\n",
    "        print('*', end=' ')\n",
    "    print()\n",
    "\n",
    "\n",
    "\n",
    "n = 5  # Number of rows\n",
    "\n",
    "for i in range(1, n+1):\n",
    "    # Leading spaces\n",
    "    for j in range(n-i):\n",
    "        print(' ', end=' ')\n",
    "    # Numbers\n",
    "    for j in range(1, i+1):\n",
    "        print(j, end=' ')\n",
    "    print()"
   ]
  }
 ],
 "metadata": {
  "kernelspec": {
   "display_name": "Python 3 (ipykernel)",
   "language": "python",
   "name": "python3"
  },
  "language_info": {
   "codemirror_mode": {
    "name": "ipython",
    "version": 3
   },
   "file_extension": ".py",
   "mimetype": "text/x-python",
   "name": "python",
   "nbconvert_exporter": "python",
   "pygments_lexer": "ipython3",
   "version": "3.13.5"
  },
  "widgets": {
   "application/vnd.jupyter.widget-state+json": {
    "state": {},
    "version_major": 2,
    "version_minor": 0
   }
  }
 },
 "nbformat": 4,
 "nbformat_minor": 5
}
