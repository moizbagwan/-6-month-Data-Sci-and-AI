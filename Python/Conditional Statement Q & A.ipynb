{
 "cells": [
  {
   "cell_type": "code",
   "execution_count": 38,
   "id": "3e221f45-6b28-4c2d-b557-55151dd5ac69",
   "metadata": {},
   "outputs": [
    {
     "name": "stdin",
     "output_type": "stream",
     "text": [
      "Enter the String: hii\n"
     ]
    },
    {
     "name": "stdout",
     "output_type": "stream",
     "text": [
      "hii\n"
     ]
    }
   ],
   "source": [
    "# 1. What is the input() function in Python used for?\n",
    "\n",
    "'''Input function is the in build function in python it used to entered data from the user '''\n",
    "\n",
    "a = input(\"Enter the String:\")      # string input by user.\n",
    "print(a)"
   ]
  },
  {
   "cell_type": "code",
   "execution_count": 47,
   "id": "373b733d-53eb-449e-ad67-d8bbf96ec8e2",
   "metadata": {},
   "outputs": [
    {
     "name": "stdin",
     "output_type": "stream",
     "text": [
      "Enter the Number: 45\n"
     ]
    },
    {
     "name": "stdout",
     "output_type": "stream",
     "text": [
      "45\n"
     ]
    }
   ],
   "source": [
    "# 2. How can you accept an integer as input from the user using input()?\n",
    "\n",
    "user = int(input(\"Enter the Number:\"))    # we accept the integer from the user,using input().\n",
    "print(user)"
   ]
  },
  {
   "cell_type": "code",
   "execution_count": 48,
   "id": "4ecb023d-ea69-4147-876f-4a8364391dc4",
   "metadata": {},
   "outputs": [
    {
     "name": "stdin",
     "output_type": "stream",
     "text": [
      "Enter the Number: 3.14\n"
     ]
    },
    {
     "name": "stdout",
     "output_type": "stream",
     "text": [
      "3.14\n"
     ]
    }
   ],
   "source": [
    "# 3. How do you accept a float input from the user?\n",
    "\n",
    "user = float(input(\"Enter the Number:\"))    # we accept the integer from the user,using input().\n",
    "print(user)"
   ]
  },
  {
   "cell_type": "code",
   "execution_count": 49,
   "id": "a93a5dc3-dff4-419d-8a37-eb358608de97",
   "metadata": {},
   "outputs": [
    {
     "name": "stdin",
     "output_type": "stream",
     "text": [
      "Enter the values: hello my name is moiz\n"
     ]
    },
    {
     "name": "stdout",
     "output_type": "stream",
     "text": [
      "['hello', 'my', 'name', 'is', 'moiz']\n"
     ]
    }
   ],
   "source": [
    "# 4. How can you take multiple space-separated values as input?\n",
    "\n",
    "a = input(\"Enter the values:\")  # using split function we create a space-seprated value as input.\n",
    "\n",
    "print(a.split())"
   ]
  },
  {
   "cell_type": "code",
   "execution_count": 2,
   "id": "b1500942-6ed1-49b8-a100-ad7c698bcada",
   "metadata": {},
   "outputs": [
    {
     "name": "stdin",
     "output_type": "stream",
     "text": [
      "Enter the Number : -8\n"
     ]
    },
    {
     "name": "stdout",
     "output_type": "stream",
     "text": [
      "Negative Number: -8\n"
     ]
    }
   ],
   "source": [
    "# 5-How do you check if a number entered by the user is positive, negative, or zero?\n",
    "\n",
    "num = int(input(\"Enter the Number :\"))\n",
    "\n",
    "if num > 0 :\n",
    "    print(\"Positive Number:\",num)\n",
    "elif num < 0 :\n",
    "    print(\"Negative Number:\",num)\n",
    "else:\n",
    "    print(\"Number is Zero:\")\n",
    "    "
   ]
  },
  {
   "cell_type": "code",
   "execution_count": 15,
   "id": "9b553d0d-eb56-4af2-b74f-e115237b7447",
   "metadata": {},
   "outputs": [],
   "source": [
    "# How do you convert user input to a list of integers?\n",
    "\n",
    "# l = int(input(\"Enter the Number:\"))\n"
   ]
  },
  {
   "cell_type": "code",
   "execution_count": 36,
   "id": "790017e0-3dcd-4203-8dd8-5f3ed1eb9347",
   "metadata": {},
   "outputs": [
    {
     "name": "stdin",
     "output_type": "stream",
     "text": [
      "Enter the string: hi my name is abdul moiz bagwan\n"
     ]
    },
    {
     "name": "stdout",
     "output_type": "stream",
     "text": [
      "HI MY NAME IS ABDUL MOIZ BAGWAN\n"
     ]
    }
   ],
   "source": [
    "# 7- How do you accept a string input and print it in uppercase?\n",
    "\n",
    "a = input(\"Enter the string:\")\n",
    "print(a.upper())"
   ]
  },
  {
   "cell_type": "code",
   "execution_count": null,
   "id": "b5e3e1e0-ec8b-44a8-a0d9-3ffc7ca443b8",
   "metadata": {},
   "outputs": [],
   "source": []
  },
  {
   "cell_type": "code",
   "execution_count": 57,
   "id": "17918fe4-8f33-405d-ab28-90ef3881fcaf",
   "metadata": {},
   "outputs": [
    {
     "name": "stdin",
     "output_type": "stream",
     "text": [
      "Enter the Number: 4449\n"
     ]
    },
    {
     "name": "stdout",
     "output_type": "stream",
     "text": [
      "ODD NUMBER\n"
     ]
    }
   ],
   "source": [
    "# 9. Write a program that takes a number as input and checks if it is even or odd.\n",
    "\n",
    "num = int(input(\"Enter the Number:\"))\n",
    "\n",
    "if num % 2 == 0 :\n",
    "    print(\"EVEN NUMBER:\",num)\n",
    "else :\n",
    "    print(\"ODD NUMBER\")\n"
   ]
  },
  {
   "cell_type": "code",
   "execution_count": 104,
   "id": "b9d49de2-bb63-465f-ad4b-3d654b8b6438",
   "metadata": {},
   "outputs": [
    {
     "name": "stdout",
     "output_type": "stream",
     "text": [
      "Not Palindrome number:\n"
     ]
    }
   ],
   "source": [
    "# 10. How would you check if a string is a palindrome or not.\n",
    "\n",
    "a = [1,2,3,2,1]\n",
    "\n",
    "copy_a = a.copy()\n",
    "copy_a.reverse()\n",
    "\n",
    "if a == a_copy:\n",
    "    print(\"Palindro number:\")\n",
    "else:\n",
    "    print(\"Not Palindrome number:\")\n"
   ]
  },
  {
   "cell_type": "code",
   "execution_count": null,
   "id": "fd24e4fc-1990-4e66-b708-98f1f205e935",
   "metadata": {},
   "outputs": [],
   "source": []
  }
 ],
 "metadata": {
  "kernelspec": {
   "display_name": "Python 3 (ipykernel)",
   "language": "python",
   "name": "python3"
  },
  "language_info": {
   "codemirror_mode": {
    "name": "ipython",
    "version": 3
   },
   "file_extension": ".py",
   "mimetype": "text/x-python",
   "name": "python",
   "nbconvert_exporter": "python",
   "pygments_lexer": "ipython3",
   "version": "3.13.5"
  },
  "widgets": {
   "application/vnd.jupyter.widget-state+json": {
    "state": {},
    "version_major": 2,
    "version_minor": 0
   }
  }
 },
 "nbformat": 4,
 "nbformat_minor": 5
}
