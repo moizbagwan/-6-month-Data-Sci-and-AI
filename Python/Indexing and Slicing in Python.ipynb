{
 "cells": [
  {
   "cell_type": "markdown",
   "id": "52c7d9e8-8afb-4297-897e-55dc8f7bc3db",
   "metadata": {},
   "source": [
    "# Indexing In Python\n",
    "\n",
    "    (i) - Forward Indexing\n",
    "    (ii) - Backward Indexing\n",
    "    (iii) - Step Indexing\n",
    "\n",
    "- Indexing in python Left to Right is started from zero (0) . ex. 0,1,2,3,4,5,and so on.... is called Farward Indexing.\n",
    "- And Right to left is Starts from -1, -2, -3, -4, -5, and so on .... is called Backward Indexing.\n",
    "\n",
    "\n",
    "        FORWARD INDEXING =     0    1    2    3    4\n",
    "                               H    E    L    L    O\n",
    "        BACKEARD iNDEXING =   -5   -4   -3   -2   -1\n",
    "\n",
    "        Formula : (n - 1)\n"
   ]
  },
  {
   "cell_type": "code",
   "execution_count": 1,
   "id": "bdc8f46e-6f3a-458e-bb83-bdb83929d666",
   "metadata": {},
   "outputs": [
    {
     "data": {
      "text/plain": [
       "'Good Morning'"
      ]
     },
     "execution_count": 1,
     "metadata": {},
     "output_type": "execute_result"
    }
   ],
   "source": [
    "s = (\"Good Morning\")\n",
    "s"
   ]
  },
  {
   "cell_type": "code",
   "execution_count": 48,
   "id": "85b80942-2709-451f-bf21-659020dcfbe4",
   "metadata": {},
   "outputs": [
    {
     "data": {
      "text/plain": [
       "12"
      ]
     },
     "execution_count": 48,
     "metadata": {},
     "output_type": "execute_result"
    }
   ],
   "source": [
    "len(s)"
   ]
  },
  {
   "cell_type": "code",
   "execution_count": 49,
   "id": "4200657d-8f17-4cd2-b252-1e4c36c7a6a0",
   "metadata": {},
   "outputs": [
    {
     "data": {
      "text/plain": [
       "1635645971056"
      ]
     },
     "execution_count": 49,
     "metadata": {},
     "output_type": "execute_result"
    }
   ],
   "source": [
    "id(s)"
   ]
  },
  {
   "cell_type": "code",
   "execution_count": 5,
   "id": "f25f7782-7c38-4c25-9f0c-623535922789",
   "metadata": {},
   "outputs": [
    {
     "data": {
      "text/plain": [
       "'G'"
      ]
     },
     "execution_count": 5,
     "metadata": {},
     "output_type": "execute_result"
    }
   ],
   "source": [
    "s[0]"
   ]
  },
  {
   "cell_type": "code",
   "execution_count": 6,
   "id": "89d43ac8-e867-4324-b75a-abd9940e3ea8",
   "metadata": {},
   "outputs": [
    {
     "data": {
      "text/plain": [
       "'o'"
      ]
     },
     "execution_count": 6,
     "metadata": {},
     "output_type": "execute_result"
    }
   ],
   "source": [
    "s[6]        # positive indexing"
   ]
  },
  {
   "cell_type": "code",
   "execution_count": 7,
   "id": "bdac0f52-1d4c-4624-97a9-0faa45d9a365",
   "metadata": {},
   "outputs": [
    {
     "data": {
      "text/plain": [
       "'M'"
      ]
     },
     "execution_count": 7,
     "metadata": {},
     "output_type": "execute_result"
    }
   ],
   "source": [
    "s[5]"
   ]
  },
  {
   "cell_type": "code",
   "execution_count": 9,
   "id": "80b7de4e-1b5a-459b-a02c-0ec7cf29ee79",
   "metadata": {},
   "outputs": [
    {
     "name": "stdout",
     "output_type": "stream",
     "text": [
      "G\n",
      "o\n",
      "o\n",
      "d\n",
      " \n"
     ]
    }
   ],
   "source": [
    "print(s[0])\n",
    "print(s[1])\n",
    "print(s[2])\n",
    "print(s[3])\n",
    "print(s[4])"
   ]
  },
  {
   "cell_type": "code",
   "execution_count": 11,
   "id": "eb2d572b-2139-4f58-9ffa-56ef45c6b67c",
   "metadata": {},
   "outputs": [
    {
     "name": "stdout",
     "output_type": "stream",
     "text": [
      "M\n",
      "o\n",
      "r\n",
      "n\n",
      "i\n",
      "n\n",
      "g\n"
     ]
    }
   ],
   "source": [
    "print(s[5])\n",
    "print(s[6])\n",
    "print(s[7])\n",
    "print(s[8])\n",
    "print(s[9])\n",
    "print(s[10])\n",
    "print(s[11])      "
   ]
  },
  {
   "cell_type": "code",
   "execution_count": 12,
   "id": "215e8416-734a-43ed-94eb-bc80d954ece7",
   "metadata": {},
   "outputs": [
    {
     "ename": "IndexError",
     "evalue": "string index out of range",
     "output_type": "error",
     "traceback": [
      "\u001b[31m---------------------------------------------------------------------------\u001b[39m",
      "\u001b[31mIndexError\u001b[39m                                Traceback (most recent call last)",
      "\u001b[36mCell\u001b[39m\u001b[36m \u001b[39m\u001b[32mIn[12]\u001b[39m\u001b[32m, line 1\u001b[39m\n\u001b[32m----> \u001b[39m\u001b[32m1\u001b[39m \u001b[38;5;28mprint\u001b[39m(\u001b[43ms\u001b[49m\u001b[43m[\u001b[49m\u001b[32;43m15\u001b[39;49m\u001b[43m]\u001b[49m)\n",
      "\u001b[31mIndexError\u001b[39m: string index out of range"
     ]
    }
   ],
   "source": [
    "print(s[15])        # out of range because the indexing ends at s[11] ."
   ]
  },
  {
   "cell_type": "code",
   "execution_count": 14,
   "id": "41b36587-109c-4154-841f-868a74ae694b",
   "metadata": {},
   "outputs": [
    {
     "data": {
      "text/plain": [
       "'g'"
      ]
     },
     "execution_count": 14,
     "metadata": {},
     "output_type": "execute_result"
    }
   ],
   "source": [
    "s[-1]         # Negativwe indexing."
   ]
  },
  {
   "cell_type": "code",
   "execution_count": 15,
   "id": "c98f600c-a0b0-4ad3-ae42-5bd5fc1be2bc",
   "metadata": {},
   "outputs": [
    {
     "data": {
      "text/plain": [
       "'i'"
      ]
     },
     "execution_count": 15,
     "metadata": {},
     "output_type": "execute_result"
    }
   ],
   "source": [
    "s[-3]         # Negativwe indexing."
   ]
  },
  {
   "cell_type": "markdown",
   "id": "1cb499a6-7294-42ab-b53b-2be5d065e293",
   "metadata": {},
   "source": [
    "# String Slicing\n",
    "\n",
    "    - Accending part of a String.\n",
    "    - String slicing means cutting out a part of a string. In Python, strings are like a series of characters placed in order. \n",
    "    - Each character has a position, called an index, starting from 0.\n",
    "    - start = the index where slicing begins (included)\n",
    "    - end = the index where slicing stops (not included)\n",
    "    - Explanation: It starts from index 1 (H) and goes up to index 5 (M), but doesn't include index 8 (N). Ending Index not Included.(n-1)"
   ]
  },
  {
   "cell_type": "code",
   "execution_count": 34,
   "id": "3fec5a22-18b7-44d1-b0fd-f21ef9c64e4d",
   "metadata": {},
   "outputs": [
    {
     "data": {
      "text/plain": [
       "'Good Morning'"
      ]
     },
     "execution_count": 34,
     "metadata": {},
     "output_type": "execute_result"
    }
   ],
   "source": [
    "s = (\"Good Morning\")\n",
    "s"
   ]
  },
  {
   "cell_type": "code",
   "execution_count": 35,
   "id": "3c1a33a8-636f-45d6-9fc0-4dc2e831db60",
   "metadata": {},
   "outputs": [
    {
     "data": {
      "text/plain": [
       "'Good Morning'"
      ]
     },
     "execution_count": 35,
     "metadata": {},
     "output_type": "execute_result"
    }
   ],
   "source": [
    "s[:]           "
   ]
  },
  {
   "cell_type": "code",
   "execution_count": 36,
   "id": "32d3fa2b-3ac0-497c-8bc8-8699f528a8ff",
   "metadata": {},
   "outputs": [
    {
     "data": {
      "text/plain": [
       "'ood'"
      ]
     },
     "execution_count": 36,
     "metadata": {},
     "output_type": "execute_result"
    }
   ],
   "source": [
    "s[1 : 4]              # slicing start with index 1 and end with index 4 , but index 4 (ending index) is not included.(n-1) Forward slicing.\n",
    "                      #   (Left to Right)"
   ]
  },
  {
   "cell_type": "code",
   "execution_count": 39,
   "id": "7e4dd165-574d-46f9-87c6-f7e173049b59",
   "metadata": {},
   "outputs": [
    {
     "data": {
      "text/plain": [
       "'Mor'"
      ]
     },
     "execution_count": 39,
     "metadata": {},
     "output_type": "execute_result"
    }
   ],
   "source": [
    "s[5 : 8]              # slicing start with index 5 and end with index 8 , but index 8 (ending index) is not included.(n-1) Forward slicing.\n",
    "                      #   (Left to Right)"
   ]
  },
  {
   "cell_type": "code",
   "execution_count": 40,
   "id": "2169f302-054b-4077-82c4-fa5f46436497",
   "metadata": {},
   "outputs": [
    {
     "data": {
      "text/plain": [
       "'Morn'"
      ]
     },
     "execution_count": 40,
     "metadata": {},
     "output_type": "execute_result"
    }
   ],
   "source": [
    "s[5 : 9]              # slicing start with index 5 and end with index 9 , but index 9 (ending index) is not included.(n-1) Forward slicing.\n",
    "                        "
   ]
  },
  {
   "cell_type": "code",
   "execution_count": 41,
   "id": "30279dfd-f6bb-46bc-99ee-e558e8f7eca5",
   "metadata": {},
   "outputs": [
    {
     "data": {
      "text/plain": [
       "'Morni'"
      ]
     },
     "execution_count": 41,
     "metadata": {},
     "output_type": "execute_result"
    }
   ],
   "source": [
    "s[5 : 10]             # slicing start with index 5 and end with index 10 , but index 10 (ending index) is not included.(n-1) Forward slicing."
   ]
  },
  {
   "cell_type": "code",
   "execution_count": 42,
   "id": "7f286cfb-5800-4375-8756-1347491f998d",
   "metadata": {},
   "outputs": [
    {
     "data": {
      "text/plain": [
       "'Morning'"
      ]
     },
     "execution_count": 42,
     "metadata": {},
     "output_type": "execute_result"
    }
   ],
   "source": [
    "s[5 : 13]            # slicing start with index 5 and end with index 13 , but index 13 (ending index) is not included.(n-1) Forward slicing."
   ]
  },
  {
   "cell_type": "code",
   "execution_count": 44,
   "id": "369d107d-4b95-477c-bd8c-a35b292ba4c1",
   "metadata": {},
   "outputs": [
    {
     "data": {
      "text/plain": [
       "'Good Morning'"
      ]
     },
     "execution_count": 44,
     "metadata": {},
     "output_type": "execute_result"
    }
   ],
   "source": [
    "s"
   ]
  },
  {
   "cell_type": "code",
   "execution_count": 46,
   "id": "0efb4710-e9e7-4628-a7be-f1166a66ea27",
   "metadata": {},
   "outputs": [
    {
     "data": {
      "text/plain": [
       "'g'"
      ]
     },
     "execution_count": 46,
     "metadata": {},
     "output_type": "execute_result"
    }
   ],
   "source": [
    "s[-1]              # Nigative Slicing. (Right to left)"
   ]
  },
  {
   "cell_type": "code",
   "execution_count": 53,
   "id": "1a83fb37-2be4-4b42-9bc1-6f239f029ab1",
   "metadata": {},
   "outputs": [
    {
     "data": {
      "text/plain": [
       "'n'"
      ]
     },
     "execution_count": 53,
     "metadata": {},
     "output_type": "execute_result"
    }
   ],
   "source": [
    "s[-2 : -1]         # Nigative Slicing.  (Right to left)"
   ]
  },
  {
   "cell_type": "code",
   "execution_count": 55,
   "id": "7f846ac7-4ad8-4c8f-a6cc-c615cc45a2e4",
   "metadata": {},
   "outputs": [
    {
     "data": {
      "text/plain": [
       "'Mornin'"
      ]
     },
     "execution_count": 55,
     "metadata": {},
     "output_type": "execute_result"
    }
   ],
   "source": [
    "s[-7 : -1]         # Nigative Slicing.  (Right to left)"
   ]
  },
  {
   "cell_type": "code",
   "execution_count": 56,
   "id": "3cac15b6-bfa0-4d5f-8909-687d4c30f4c9",
   "metadata": {},
   "outputs": [
    {
     "data": {
      "text/plain": [
       "'Good Mornin'"
      ]
     },
     "execution_count": 56,
     "metadata": {},
     "output_type": "execute_result"
    }
   ],
   "source": [
    "s[-12 : -1]        # Nigative Slicing.  (Right to left)"
   ]
  },
  {
   "cell_type": "code",
   "execution_count": null,
   "id": "bdadadf9-532d-4b93-9fce-7c01230fd09b",
   "metadata": {},
   "outputs": [],
   "source": []
  }
 ],
 "metadata": {
  "kernelspec": {
   "display_name": "Python 3 (ipykernel)",
   "language": "python",
   "name": "python3"
  },
  "language_info": {
   "codemirror_mode": {
    "name": "ipython",
    "version": 3
   },
   "file_extension": ".py",
   "mimetype": "text/x-python",
   "name": "python",
   "nbconvert_exporter": "python",
   "pygments_lexer": "ipython3",
   "version": "3.13.5"
  }
 },
 "nbformat": 4,
 "nbformat_minor": 5
}
