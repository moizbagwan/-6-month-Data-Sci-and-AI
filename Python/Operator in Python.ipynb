{
 "cells": [
  {
   "cell_type": "markdown",
   "id": "bcc12eb3-c261-4436-8130-12c99d23cd2c",
   "metadata": {},
   "source": [
    "# Operator In Python\n",
    "\n",
    "    - In Python, operators are special symbols or keywords used to perform operations on values or variables.\n",
    "    - They act on operands (data) and produce a result.\n",
    "    - Python has several types of operators for different tasks, are as follows :\n",
    "\n",
    "    * Arithmetic Operator (+, -, *, /, //, **)\n",
    "    * Assignment Operator (=, ==, +=, -=, <=, >=)\n",
    "    * Relational Operator (<, >, <=, >=, !=)\n",
    "    * Logical Operator (AND, OR, NOT)\n",
    "    * Unary Operator  \n",
    "    * Bitwise Operator--\n",
    "                        -[Bitwise AND Ooperator (&)\n",
    "                        - Bitwise OR Oprator (|)\n",
    "                        - Bitwise XOR Operator (^)\n",
    "                        - Bitwise Left shift Operator (<<)\n",
    "                        - Bitwise Right shift Operator (>>)]\n",
    "       "
   ]
  },
  {
   "cell_type": "markdown",
   "id": "7b76fd5e-2ce5-49d8-9efe-05948d536b74",
   "metadata": {},
   "source": [
    "# Arithmetic Operator \n",
    "\n",
    "    - Arithmetic operators are used to perform mathematical operations on numbers.\n",
    "    - Also works for string concatenation and sequence joining."
   ]
  },
  {
   "cell_type": "code",
   "execution_count": 1,
   "id": "44d2dc6e-92e1-494c-90ed-9abd5be70a8e",
   "metadata": {},
   "outputs": [
    {
     "name": "stdout",
     "output_type": "stream",
     "text": [
      "9\n"
     ]
    }
   ],
   "source": [
    "a = 5                        # Addition of two numbers\n",
    "b = 4\n",
    "\n",
    "print(a + b)"
   ]
  },
  {
   "cell_type": "code",
   "execution_count": 2,
   "id": "92f96863-2fd9-4258-8389-b2ea24c8ba56",
   "metadata": {},
   "outputs": [
    {
     "name": "stdout",
     "output_type": "stream",
     "text": [
      "1\n"
     ]
    }
   ],
   "source": [
    "a = 5                        # Substracion of two numbers\n",
    "b = 4\n",
    "\n",
    "print(a - b)"
   ]
  },
  {
   "cell_type": "code",
   "execution_count": 3,
   "id": "60f790a4-8b6b-46ee-8d05-cf6c3aa5a9a2",
   "metadata": {},
   "outputs": [
    {
     "name": "stdout",
     "output_type": "stream",
     "text": [
      "20\n"
     ]
    }
   ],
   "source": [
    "a = 5                        # multiplication of two numbers\n",
    "b = 4\n",
    "\n",
    "print(a * b)"
   ]
  },
  {
   "cell_type": "code",
   "execution_count": 4,
   "id": "4de3a8ba-c6d3-40d5-aa88-84e32cf206d1",
   "metadata": {},
   "outputs": [
    {
     "name": "stdout",
     "output_type": "stream",
     "text": [
      "1.25\n"
     ]
    }
   ],
   "source": [
    "a = 5                        # Division of two numbers\n",
    "b = 4\n",
    "\n",
    "print(a / b)"
   ]
  },
  {
   "cell_type": "code",
   "execution_count": 5,
   "id": "6efdedbb-ae6a-4d92-b626-633bc8aa2dd1",
   "metadata": {},
   "outputs": [
    {
     "name": "stdout",
     "output_type": "stream",
     "text": [
      "1\n"
     ]
    }
   ],
   "source": [
    "a = 5                        # Int Division of two numbers\n",
    "b = 4\n",
    "\n",
    "print(a // b)"
   ]
  },
  {
   "cell_type": "code",
   "execution_count": 6,
   "id": "a7d1ff12-8d7d-4a08-a92d-de13869ac1a2",
   "metadata": {},
   "outputs": [
    {
     "name": "stdout",
     "output_type": "stream",
     "text": [
      "625\n"
     ]
    }
   ],
   "source": [
    "a = 5                        # Power of two numbers\n",
    "b = 4\n",
    "\n",
    "print(a ** b)"
   ]
  },
  {
   "cell_type": "markdown",
   "id": "84a683bd-8015-4acc-a83a-18353658ba08",
   "metadata": {},
   "source": [
    "# Assignment Operator \n",
    "\n",
    "    - Assignment operators are used to assign values to variables."
   ]
  },
  {
   "cell_type": "code",
   "execution_count": 7,
   "id": "4a6e5e93-3f5e-43d6-b3f6-8fec186a865c",
   "metadata": {},
   "outputs": [
    {
     "data": {
      "text/plain": [
       "4"
      ]
     },
     "execution_count": 7,
     "metadata": {},
     "output_type": "execute_result"
    }
   ],
   "source": [
    "p = 2\n",
    "p = p +2         # increament by 2\n",
    "p"
   ]
  },
  {
   "cell_type": "code",
   "execution_count": 8,
   "id": "2c501367-636e-4656-8c4a-c131e8bc8693",
   "metadata": {},
   "outputs": [
    {
     "data": {
      "text/plain": [
       "13"
      ]
     },
     "execution_count": 8,
     "metadata": {},
     "output_type": "execute_result"
    }
   ],
   "source": [
    "p += 9           # increament by 9\n",
    "p"
   ]
  },
  {
   "cell_type": "code",
   "execution_count": 9,
   "id": "22cc1918-dcc0-41f9-89c9-3468e69a95bc",
   "metadata": {},
   "outputs": [
    {
     "data": {
      "text/plain": [
       "11"
      ]
     },
     "execution_count": 9,
     "metadata": {},
     "output_type": "execute_result"
    }
   ],
   "source": [
    "p -= 2           # p - 2\n",
    "p"
   ]
  },
  {
   "cell_type": "code",
   "execution_count": 10,
   "id": "0e9ced7e-5b2c-4ba6-9d27-e2288f8b3a60",
   "metadata": {},
   "outputs": [
    {
     "data": {
      "text/plain": [
       "22"
      ]
     },
     "execution_count": 10,
     "metadata": {},
     "output_type": "execute_result"
    }
   ],
   "source": [
    "p *= 2           # p*2\n",
    "p"
   ]
  },
  {
   "cell_type": "code",
   "execution_count": 11,
   "id": "49c883ba-c3b1-479a-9554-2d5a02e03ad9",
   "metadata": {},
   "outputs": [
    {
     "data": {
      "text/plain": [
       "11.0"
      ]
     },
     "execution_count": 11,
     "metadata": {},
     "output_type": "execute_result"
    }
   ],
   "source": [
    "p /=  2          # p/2\n",
    "p "
   ]
  },
  {
   "cell_type": "code",
   "execution_count": 12,
   "id": "85c2b0cd-cadf-4a0b-9950-3f0dc2f3ae3a",
   "metadata": {},
   "outputs": [
    {
     "data": {
      "text/plain": [
       "5.0"
      ]
     },
     "execution_count": 12,
     "metadata": {},
     "output_type": "execute_result"
    }
   ],
   "source": [
    "p //= 2         # p//2\n",
    "p"
   ]
  },
  {
   "cell_type": "code",
   "execution_count": 13,
   "id": "843c3c1a-c55e-4c18-bf40-b91829665b5a",
   "metadata": {},
   "outputs": [
    {
     "name": "stdout",
     "output_type": "stream",
     "text": [
      "4 5\n"
     ]
    }
   ],
   "source": [
    "a,b = 4,5       # we assign two values in two variables\n",
    "print(a,b)"
   ]
  },
  {
   "cell_type": "markdown",
   "id": "ac2445b3-95ac-492d-91bf-42aaa8005817",
   "metadata": {},
   "source": [
    "# Relational Operator\n",
    "\n",
    "    - Relational operators are used to compare two values.\n",
    "    - They always return a Boolean value — either True or False."
   ]
  },
  {
   "cell_type": "code",
   "execution_count": 14,
   "id": "f5a55ea5-9639-4b8b-a627-9d0464282513",
   "metadata": {},
   "outputs": [
    {
     "name": "stdout",
     "output_type": "stream",
     "text": [
      "150\n",
      "50\n"
     ]
    }
   ],
   "source": [
    "a = 150\n",
    "b = 50\n",
    "print(a)\n",
    "print(b)"
   ]
  },
  {
   "cell_type": "code",
   "execution_count": 15,
   "id": "6e2756f9-9379-4456-92c5-171f7c02fd68",
   "metadata": {},
   "outputs": [
    {
     "data": {
      "text/plain": [
       "True"
      ]
     },
     "execution_count": 15,
     "metadata": {},
     "output_type": "execute_result"
    }
   ],
   "source": [
    "a > b        # 150 is not equal to 50  (True)"
   ]
  },
  {
   "cell_type": "code",
   "execution_count": 16,
   "id": "35d43c18-ac39-4324-a8d4-2a3c218f3d3e",
   "metadata": {},
   "outputs": [
    {
     "data": {
      "text/plain": [
       "False"
      ]
     },
     "execution_count": 16,
     "metadata": {},
     "output_type": "execute_result"
    }
   ],
   "source": [
    "a < b      # a is smaller than b (False)"
   ]
  },
  {
   "cell_type": "code",
   "execution_count": 17,
   "id": "81356910-0569-4f75-b282-7cd952de727a",
   "metadata": {},
   "outputs": [
    {
     "data": {
      "text/plain": [
       "True"
      ]
     },
     "execution_count": 17,
     "metadata": {},
     "output_type": "execute_result"
    }
   ],
   "source": [
    "a > b        # a greater than b  (True)"
   ]
  },
  {
   "cell_type": "code",
   "execution_count": 18,
   "id": "88aeb59b-3563-495b-aa96-448ee9d584c1",
   "metadata": {},
   "outputs": [
    {
     "data": {
      "text/plain": [
       "True"
      ]
     },
     "execution_count": 18,
     "metadata": {},
     "output_type": "execute_result"
    }
   ],
   "source": [
    "a != b       # a is not equal to b (True)"
   ]
  },
  {
   "cell_type": "code",
   "execution_count": 19,
   "id": "1c2fdc3e-23d0-4212-bf58-942703bc1885",
   "metadata": {},
   "outputs": [
    {
     "data": {
      "text/plain": [
       "False"
      ]
     },
     "execution_count": 19,
     "metadata": {},
     "output_type": "execute_result"
    }
   ],
   "source": [
    "a <=b        # a is less than and equal to b (False)"
   ]
  },
  {
   "cell_type": "code",
   "execution_count": 20,
   "id": "1a4569dd-4684-488d-ba8a-cb224021ffce",
   "metadata": {},
   "outputs": [
    {
     "data": {
      "text/plain": [
       "True"
      ]
     },
     "execution_count": 20,
     "metadata": {},
     "output_type": "execute_result"
    }
   ],
   "source": [
    "a >= b       # a is greater than and equal to b (True)"
   ]
  },
  {
   "cell_type": "markdown",
   "id": "c322b6de-3cbe-4ba8-b471-d183987bc551",
   "metadata": {},
   "source": [
    "# Logical Operator\n",
    "\n",
    "    - Logical operators are used to combine conditional statements and return a Boolean value (True or False)."
   ]
  },
  {
   "cell_type": "markdown",
   "id": "70c28ed5-2fb2-4021-8c78-f8eb34df343d",
   "metadata": {},
   "source": [
    "# Logical AND Operator :-\n",
    "\n",
    "    - And operator is return when both conditions are True .\n",
    "    - In short :True = 1  ,  False 0\n",
    "\n",
    "#Truth Table for AND operator:\n",
    "\n",
    "                                  [A]        [Operator]         [B]                   [Result]\n",
    "\n",
    "                                  True(1)       (AND)          True(1)      --->       True(1)\n",
    "                                  True(1)       (AND)          False(0)     --->       False(0)\n",
    "                                  False(0)      (AND)          True(1)      --->       False(0)\n",
    "                                  False(0)      (AND)          False(0)     --->       False(0)"
   ]
  },
  {
   "cell_type": "code",
   "execution_count": 21,
   "id": "a9ce04d7-269b-4e21-b37c-aabe9db5c586",
   "metadata": {},
   "outputs": [
    {
     "name": "stdout",
     "output_type": "stream",
     "text": [
      "40\n",
      "30\n",
      "20\n"
     ]
    }
   ],
   "source": [
    "a = 40\n",
    "b = 30\n",
    "c = 20\n",
    "\n",
    "print(a)\n",
    "print(b)\n",
    "print(c)"
   ]
  },
  {
   "cell_type": "code",
   "execution_count": 22,
   "id": "2fd24d49-1b9f-445f-8b8f-564dd05d012b",
   "metadata": {},
   "outputs": [
    {
     "name": "stdout",
     "output_type": "stream",
     "text": [
      "True\n"
     ]
    }
   ],
   "source": [
    "print(a > b and a > c)         # a is greater than b and c."
   ]
  },
  {
   "cell_type": "code",
   "execution_count": 23,
   "id": "100d21f7-0bb2-4d91-af7f-68bea471b826",
   "metadata": {},
   "outputs": [
    {
     "name": "stdout",
     "output_type": "stream",
     "text": [
      "False\n"
     ]
    }
   ],
   "source": [
    "print(a < b and a > b)         # a smaller than b and a greater than c ( False)"
   ]
  },
  {
   "cell_type": "code",
   "execution_count": 24,
   "id": "2f57d87d-736a-4764-b62a-a552516b1687",
   "metadata": {},
   "outputs": [
    {
     "name": "stdout",
     "output_type": "stream",
     "text": [
      "False\n"
     ]
    }
   ],
   "source": [
    "print(a > b and a < b)         # a greater than b and a smaller than c ( False)"
   ]
  },
  {
   "cell_type": "code",
   "execution_count": 25,
   "id": "1f113f7e-832b-4973-b856-16cb51192e60",
   "metadata": {},
   "outputs": [
    {
     "name": "stdout",
     "output_type": "stream",
     "text": [
      "False\n"
     ]
    }
   ],
   "source": [
    "print(b > a and b > c )        # Fasle"
   ]
  },
  {
   "cell_type": "code",
   "execution_count": 26,
   "id": "5536b72a-a478-4347-99cf-ace54bd166b2",
   "metadata": {},
   "outputs": [
    {
     "name": "stdout",
     "output_type": "stream",
     "text": [
      "True\n"
     ]
    }
   ],
   "source": [
    "print(b < a and b > c)         # True"
   ]
  },
  {
   "cell_type": "code",
   "execution_count": 27,
   "id": "35a3e224-e085-4750-a159-97bfb9ecfdef",
   "metadata": {},
   "outputs": [
    {
     "name": "stdout",
     "output_type": "stream",
     "text": [
      "False\n"
     ]
    }
   ],
   "source": [
    "print(b < a and b < c)         # False"
   ]
  },
  {
   "cell_type": "code",
   "execution_count": 28,
   "id": "a083ed21-38db-4688-b844-34784caa511a",
   "metadata": {},
   "outputs": [
    {
     "name": "stdout",
     "output_type": "stream",
     "text": [
      "False\n"
     ]
    }
   ],
   "source": [
    "print(c > a and c < b)         # False"
   ]
  },
  {
   "cell_type": "code",
   "execution_count": 29,
   "id": "8c7fa95d-b6c2-405d-9274-d617c894ffd3",
   "metadata": {},
   "outputs": [
    {
     "name": "stdout",
     "output_type": "stream",
     "text": [
      "False\n"
     ]
    }
   ],
   "source": [
    "print(c > a and c > b)         # False"
   ]
  },
  {
   "cell_type": "code",
   "execution_count": 30,
   "id": "6ccf392e-8cc6-4ad1-9c13-d2ee6fa4c0e1",
   "metadata": {},
   "outputs": [
    {
     "name": "stdout",
     "output_type": "stream",
     "text": [
      "True\n"
     ]
    }
   ],
   "source": [
    "print(c < a and c < b)         # True"
   ]
  },
  {
   "cell_type": "markdown",
   "id": "f0121a20-d80e-4686-a6fc-3a329964a57e",
   "metadata": {},
   "source": [
    "# Logical OR Operator\n",
    "\n",
    "    - Returns True if at least one condition is True\n",
    "    - In short :True = 1  ,  False 0\n",
    "\n",
    "#Truth Table for OR operator:\n",
    "\n",
    "                                   [A]       [Operator]          [B]                   [Result]\n",
    "\n",
    "                                  True(1)       (OR)           True(1)      --->       True(1)\n",
    "                                  True(1)       (OR)           False(0)     --->       False(1)\n",
    "                                  False(0)      (OR)           True(1)      --->       False(1)\n",
    "                                  False(0)      (OR)           False(0)     --->       False(0)"
   ]
  },
  {
   "cell_type": "code",
   "execution_count": 31,
   "id": "6f0af579-576e-4af9-8bdc-56a167607a04",
   "metadata": {},
   "outputs": [
    {
     "name": "stdout",
     "output_type": "stream",
     "text": [
      "4\n",
      "10\n",
      "70\n"
     ]
    }
   ],
   "source": [
    "a = 4\n",
    "b = 10\n",
    "c = 70\n",
    "\n",
    "print(a)\n",
    "print(b)\n",
    "print(c)"
   ]
  },
  {
   "cell_type": "code",
   "execution_count": 33,
   "id": "6f755684-ae7f-4b68-bff8-d9ed70a84710",
   "metadata": {},
   "outputs": [
    {
     "name": "stdout",
     "output_type": "stream",
     "text": [
      "False\n"
     ]
    }
   ],
   "source": [
    "print(a > b or a > c)    # a is greater than b or a is greater than c (False)"
   ]
  },
  {
   "cell_type": "code",
   "execution_count": 34,
   "id": "194b4ba2-0528-419e-ab29-ef26ecbddc83",
   "metadata": {},
   "outputs": [
    {
     "data": {
      "text/plain": [
       "True"
      ]
     },
     "execution_count": 34,
     "metadata": {},
     "output_type": "execute_result"
    }
   ],
   "source": [
    "a < b or a > c             # True"
   ]
  },
  {
   "cell_type": "code",
   "execution_count": 35,
   "id": "58f7c9f3-040e-401c-986a-d9dc9fbb95aa",
   "metadata": {},
   "outputs": [
    {
     "name": "stdout",
     "output_type": "stream",
     "text": [
      "False\n"
     ]
    }
   ],
   "source": [
    "print(a > b or a > c)      # True"
   ]
  },
  {
   "cell_type": "code",
   "execution_count": 36,
   "id": "a0cc44b9-3464-408b-b979-ab020a34958e",
   "metadata": {},
   "outputs": [
    {
     "name": "stdout",
     "output_type": "stream",
     "text": [
      "True\n"
     ]
    }
   ],
   "source": [
    "print(b < a or b < c)      # True"
   ]
  },
  {
   "cell_type": "code",
   "execution_count": 37,
   "id": "487417a6-f024-47e7-a9a2-f7a12d271eef",
   "metadata": {},
   "outputs": [
    {
     "name": "stdout",
     "output_type": "stream",
     "text": [
      "False\n"
     ]
    }
   ],
   "source": [
    "print(b < a or b > c)      # False"
   ]
  },
  {
   "cell_type": "code",
   "execution_count": 38,
   "id": "16e15478-626c-4a6a-9cf4-f85ce9b42cf7",
   "metadata": {},
   "outputs": [
    {
     "name": "stdout",
     "output_type": "stream",
     "text": [
      "True\n"
     ]
    }
   ],
   "source": [
    "print(b > a or b > c)      # True"
   ]
  },
  {
   "cell_type": "code",
   "execution_count": 39,
   "id": "79b06046-c857-464a-8870-6a352234653a",
   "metadata": {},
   "outputs": [
    {
     "name": "stdout",
     "output_type": "stream",
     "text": [
      "False\n"
     ]
    }
   ],
   "source": [
    "print(c < a or c <b)       # False"
   ]
  },
  {
   "cell_type": "code",
   "execution_count": 40,
   "id": "a5a3e199-4619-44f2-aa88-9cbed8032fb4",
   "metadata": {},
   "outputs": [
    {
     "name": "stdout",
     "output_type": "stream",
     "text": [
      "True\n"
     ]
    }
   ],
   "source": [
    "print(c < a or c > b)      # True"
   ]
  },
  {
   "cell_type": "code",
   "execution_count": 41,
   "id": "a2061ffb-0c38-469e-8108-23d7469b677d",
   "metadata": {},
   "outputs": [
    {
     "name": "stdout",
     "output_type": "stream",
     "text": [
      "True\n"
     ]
    }
   ],
   "source": [
    "print(c > a or c > b)      # True"
   ]
  },
  {
   "cell_type": "markdown",
   "id": "7c7f11f2-93d1-44e3-870a-4a54b853f9be",
   "metadata": {},
   "source": [
    "# Logical NOT Operator\n",
    "\n",
    "    - The not operator is used to reverse the Boolean value of an expression.\n",
    "    - If the condition is True, not makes it False.\n",
    "    - If the condition is False, not makes it True\n",
    "    - - In short :True = 1  ,  False 0\n",
    "\n",
    "\n",
    "#Truth Table for NOT operator:\n",
    "\n",
    "                                    [Condition]        [Operator]             [Result]\n",
    "                                    \n",
    "                                     True(1)             (NOT)     --->       False(0) \n",
    "                                     False(0)            (NOT)     --->       True(1)"
   ]
  },
  {
   "cell_type": "code",
   "execution_count": 42,
   "id": "1f96f70f-0044-4567-8971-045cc6dbfb5f",
   "metadata": {},
   "outputs": [
    {
     "name": "stdout",
     "output_type": "stream",
     "text": [
      "40\n",
      "30\n"
     ]
    }
   ],
   "source": [
    "a = 40\n",
    "b = 30\n",
    "print(a)\n",
    "print(b)"
   ]
  },
  {
   "cell_type": "code",
   "execution_count": 43,
   "id": "24c30508-f007-4b1b-9bdf-be1961252d5b",
   "metadata": {},
   "outputs": [
    {
     "name": "stdout",
     "output_type": "stream",
     "text": [
      "False\n"
     ]
    }
   ],
   "source": [
    "print(not(a > b))"
   ]
  },
  {
   "cell_type": "code",
   "execution_count": 44,
   "id": "d03ff9b9-fa44-4b0b-9af7-a824aef53625",
   "metadata": {},
   "outputs": [
    {
     "name": "stdout",
     "output_type": "stream",
     "text": [
      "True\n"
     ]
    }
   ],
   "source": [
    "print(not(b > a))  # reverse result.."
   ]
  },
  {
   "cell_type": "code",
   "execution_count": 45,
   "id": "5698b175-563c-4344-a8f3-0e16160bf1c9",
   "metadata": {},
   "outputs": [
    {
     "name": "stdout",
     "output_type": "stream",
     "text": [
      "True\n"
     ]
    }
   ],
   "source": [
    "print(not(a < b))"
   ]
  },
  {
   "cell_type": "code",
   "execution_count": 46,
   "id": "af62634c-4e1f-424e-96de-91f6568ab073",
   "metadata": {},
   "outputs": [
    {
     "name": "stdout",
     "output_type": "stream",
     "text": [
      "False\n"
     ]
    }
   ],
   "source": [
    "print(not(b < a))   # False"
   ]
  },
  {
   "cell_type": "markdown",
   "id": "50585472-9c15-4378-95db-6015f7ee2c0b",
   "metadata": {},
   "source": [
    "# Unary Operator \n",
    "\n",
    "    - In Python, a unary operator is an operator that works on only one operand.\n",
    "    - Unary means “one,” so these operators take only a single operand.)"
   ]
  },
  {
   "cell_type": "code",
   "execution_count": 48,
   "id": "3693837b-e4cb-4581-8fb7-4a3f228463ee",
   "metadata": {},
   "outputs": [
    {
     "data": {
      "text/plain": [
       "5"
      ]
     },
     "execution_count": 48,
     "metadata": {},
     "output_type": "execute_result"
    }
   ],
   "source": [
    "a = +5      # same as 5\n",
    "a"
   ]
  },
  {
   "cell_type": "code",
   "execution_count": 49,
   "id": "e976dc7e-8815-4f66-8403-cd6a358c2659",
   "metadata": {},
   "outputs": [
    {
     "data": {
      "text/plain": [
       "-5"
      ]
     },
     "execution_count": 49,
     "metadata": {},
     "output_type": "execute_result"
    }
   ],
   "source": [
    "b = -(a) \n",
    "b"
   ]
  },
  {
   "cell_type": "code",
   "execution_count": 50,
   "id": "82edf70a-a41e-4549-8f6c-752a9c089b2e",
   "metadata": {},
   "outputs": [
    {
     "data": {
      "text/plain": [
       "-5"
      ]
     },
     "execution_count": 50,
     "metadata": {},
     "output_type": "execute_result"
    }
   ],
   "source": [
    "-a"
   ]
  },
  {
   "cell_type": "code",
   "execution_count": 51,
   "id": "390918d4-3156-4781-8116-92b5acb2940d",
   "metadata": {},
   "outputs": [
    {
     "name": "stdout",
     "output_type": "stream",
     "text": [
      "-5\n"
     ]
    }
   ],
   "source": [
    "print(-(a))"
   ]
  },
  {
   "cell_type": "markdown",
   "id": "b6ce0423-37e6-48eb-8567-61ba799c6030",
   "metadata": {},
   "source": [
    "#  Number System Conversion (Bit-Binay Digit)\n",
    "\n",
    "    - In programing we are using Binary system ,Decimal system & Hexadecimal system.\n",
    "\n",
    "\n",
    "            [System]                            [Base]                  [Digits_Used]\n",
    "\n",
    "            Binary Number System                 (2)                        {0-1}\n",
    "            Octal Number System                  (8)                        {0-7}\n",
    "            Decimal Number System                (10)                       {0-9}\n",
    "            Hexadecimal Number System            (16)                       {0-9,A–F (A=10 … F=15)}"
   ]
  },
  {
   "cell_type": "markdown",
   "id": "8c5912fa-ea33-4958-ae62-803ae35709d9",
   "metadata": {},
   "source": [
    "# Binary Number System\n",
    "\n",
    "    - Binary number system we wiil write as (0b)\n",
    "    - Base: 2\n",
    "    - Digits: [0-1]\n",
    "    - Use: Internal computer operations.\n",
    "    - we are use [bin] for converting Integer numbers to Binary numbers. Eg : [bin(10)] == 0b1010 \n",
    "    - Example : 1010₂ = (1×2³) + (0×2²) + (1×2¹) + (0×2⁰) = 8 + 0 + 2 + 0 = 10₁₀\n",
    "    - When we are useing [int] for converting Binary numbers to Integer numbers. Eg : [int(0b1010)] == 10.\n",
    "    - ** Count the numbers DOWN TO UP **"
   ]
  },
  {
   "cell_type": "code",
   "execution_count": 52,
   "id": "8213c1e0-e413-4b79-b7f9-6871f55299dd",
   "metadata": {},
   "outputs": [
    {
     "data": {
      "text/plain": [
       "10"
      ]
     },
     "execution_count": 52,
     "metadata": {},
     "output_type": "execute_result"
    }
   ],
   "source": [
    "a = 10\n",
    "a"
   ]
  },
  {
   "cell_type": "code",
   "execution_count": 53,
   "id": "70b07127-2cca-46f9-b29c-30b8d607ca7b",
   "metadata": {},
   "outputs": [
    {
     "data": {
      "text/plain": [
       "'0b1010'"
      ]
     },
     "execution_count": 53,
     "metadata": {},
     "output_type": "execute_result"
    }
   ],
   "source": [
    "a = bin(10)               #  we are use [bin] for converting Integer numbers to Binary numbers\n",
    "a                         # Integer number to Binary number (10 ---> 0b1010)."
   ]
  },
  {
   "cell_type": "code",
   "execution_count": 54,
   "id": "6ee9273f-ea27-4cf7-a29c-81885777bf91",
   "metadata": {},
   "outputs": [
    {
     "data": {
      "text/plain": [
       "'0b1100'"
      ]
     },
     "execution_count": 54,
     "metadata": {},
     "output_type": "execute_result"
    }
   ],
   "source": [
    "bin(12)                   # Integer number to Binary number (10 ---> 0b1010)."
   ]
  },
  {
   "cell_type": "code",
   "execution_count": 55,
   "id": "be4572da-0ccc-4343-ae65-a85affcd4cdd",
   "metadata": {},
   "outputs": [
    {
     "data": {
      "text/plain": [
       "'0b100010'"
      ]
     },
     "execution_count": 55,
     "metadata": {},
     "output_type": "execute_result"
    }
   ],
   "source": [
    "bin(34)                   # int to binary number"
   ]
  },
  {
   "cell_type": "code",
   "execution_count": 56,
   "id": "f2d856a0-9f15-4bcc-889d-af4b7f837742",
   "metadata": {},
   "outputs": [
    {
     "data": {
      "text/plain": [
       "'0b11001'"
      ]
     },
     "execution_count": 56,
     "metadata": {},
     "output_type": "execute_result"
    }
   ],
   "source": [
    "bin(25)                   # Integer number to Binary number (10 ---> 0b1010)."
   ]
  },
  {
   "cell_type": "code",
   "execution_count": 57,
   "id": "5c8f26de-f781-4db3-a39f-2de6cd386bd9",
   "metadata": {},
   "outputs": [
    {
     "data": {
      "text/plain": [
       "10"
      ]
     },
     "execution_count": 57,
     "metadata": {},
     "output_type": "execute_result"
    }
   ],
   "source": [
    "b = int(0b1010)           # Binary number to integer number (0b1010 ---> 10).\n",
    "b"
   ]
  },
  {
   "cell_type": "code",
   "execution_count": 58,
   "id": "80cc04f8-a66f-457f-b6ee-0ebef7a20db6",
   "metadata": {},
   "outputs": [
    {
     "data": {
      "text/plain": [
       "34"
      ]
     },
     "execution_count": 58,
     "metadata": {},
     "output_type": "execute_result"
    }
   ],
   "source": [
    "c = int(0b100010)    \n",
    "c"
   ]
  },
  {
   "cell_type": "code",
   "execution_count": 59,
   "id": "730f84ba-8986-4a8f-bb6f-5baae1cccd0c",
   "metadata": {},
   "outputs": [
    {
     "data": {
      "text/plain": [
       "'0b110111'"
      ]
     },
     "execution_count": 59,
     "metadata": {},
     "output_type": "execute_result"
    }
   ],
   "source": [
    "s = bin(55)\n",
    "s"
   ]
  },
  {
   "cell_type": "code",
   "execution_count": 60,
   "id": "ad3e29db-2d30-479e-8890-1a6cd98cc641",
   "metadata": {},
   "outputs": [
    {
     "data": {
      "text/plain": [
       "55"
      ]
     },
     "execution_count": 60,
     "metadata": {},
     "output_type": "execute_result"
    }
   ],
   "source": [
    "s1 = int(0b110111)\n",
    "s1"
   ]
  },
  {
   "cell_type": "code",
   "execution_count": 61,
   "id": "e8762bcc-40d4-47aa-9497-34c6d42767b5",
   "metadata": {},
   "outputs": [
    {
     "data": {
      "text/plain": [
       "'0b1011000'"
      ]
     },
     "execution_count": 61,
     "metadata": {},
     "output_type": "execute_result"
    }
   ],
   "source": [
    "bin(88)"
   ]
  },
  {
   "cell_type": "code",
   "execution_count": 62,
   "id": "c83fb236-4445-4cfa-b4f7-9fc894c6bb43",
   "metadata": {},
   "outputs": [
    {
     "data": {
      "text/plain": [
       "88"
      ]
     },
     "execution_count": 62,
     "metadata": {},
     "output_type": "execute_result"
    }
   ],
   "source": [
    "int(0b1011000)"
   ]
  },
  {
   "cell_type": "code",
   "execution_count": 63,
   "id": "c64df974-2009-4857-ae87-2552f085b4d1",
   "metadata": {},
   "outputs": [
    {
     "data": {
      "text/plain": [
       "10"
      ]
     },
     "execution_count": 63,
     "metadata": {},
     "output_type": "execute_result"
    }
   ],
   "source": [
    "int(0b1010)    #  binary to int "
   ]
  },
  {
   "cell_type": "markdown",
   "id": "6532ae9e-969b-4163-9701-e4797af6068a",
   "metadata": {},
   "source": [
    "# Octal Number System \n",
    "\n",
    "    - Octal Numbers System we will write as 0o.\n",
    "    - Base : 8\n",
    "    - Digits : [0-7]\n",
    "    - we are use [oct] for converting Integer numbers to Octal numbers. Eg : [oct(12)] == 0o14\n",
    "    - Example : 57₈ = (5×8¹) + (7×8⁰) = 40 + 7 = 47₁₀\n",
    "    - When we are useing [int] for converting Octal numbers to Integer numbers. Eg : [int(0o14)] == 12.\n",
    "    "
   ]
  },
  {
   "cell_type": "code",
   "execution_count": 64,
   "id": "35306f50-e07a-4ec7-90dc-4b666d4546d1",
   "metadata": {},
   "outputs": [
    {
     "data": {
      "text/plain": [
       "'0o14'"
      ]
     },
     "execution_count": 64,
     "metadata": {},
     "output_type": "execute_result"
    }
   ],
   "source": [
    "a = oct(12)            # Integer number to octal number (12 ---> 0o14)\n",
    "a"
   ]
  },
  {
   "cell_type": "code",
   "execution_count": 65,
   "id": "d87bbd89-59cf-4e31-b0ce-4be5af53bc1a",
   "metadata": {},
   "outputs": [
    {
     "data": {
      "text/plain": [
       "12"
      ]
     },
     "execution_count": 65,
     "metadata": {},
     "output_type": "execute_result"
    }
   ],
   "source": [
    "a1 = int(0o14)         # Octal number to Integer number (0o14 ---> 12)\n",
    "a1"
   ]
  },
  {
   "cell_type": "code",
   "execution_count": 66,
   "id": "624ca35a-cbf6-45e2-9247-3a623e2902cf",
   "metadata": {},
   "outputs": [
    {
     "data": {
      "text/plain": [
       "'0o12'"
      ]
     },
     "execution_count": 66,
     "metadata": {},
     "output_type": "execute_result"
    }
   ],
   "source": [
    "b = oct(10)            # Integer number to octal number (10 ---> 0o12)\n",
    "b "
   ]
  },
  {
   "cell_type": "code",
   "execution_count": 67,
   "id": "84fc58ad-7576-46ca-b51e-ada0bfca649c",
   "metadata": {},
   "outputs": [
    {
     "data": {
      "text/plain": [
       "10"
      ]
     },
     "execution_count": 67,
     "metadata": {},
     "output_type": "execute_result"
    }
   ],
   "source": [
    "b1 = int(0o12)         # Octal number to Intger number (0o12 ---> 10)\n",
    "b1"
   ]
  },
  {
   "cell_type": "code",
   "execution_count": 68,
   "id": "0cf620d4-f8e0-4975-9c22-af759829d61e",
   "metadata": {},
   "outputs": [
    {
     "data": {
      "text/plain": [
       "'0o17'"
      ]
     },
     "execution_count": 68,
     "metadata": {},
     "output_type": "execute_result"
    }
   ],
   "source": [
    "c = oct(15)            # Integer number to octal number (15 ---> 0o17)\n",
    "c"
   ]
  },
  {
   "cell_type": "code",
   "execution_count": 69,
   "id": "8979fb30-d574-4f97-8ce6-681d888b1594",
   "metadata": {},
   "outputs": [
    {
     "data": {
      "text/plain": [
       "15"
      ]
     },
     "execution_count": 69,
     "metadata": {},
     "output_type": "execute_result"
    }
   ],
   "source": [
    "c1 = int(0o17)         # Octal number to Intger number (0o17 ---> 15)\n",
    "c1"
   ]
  },
  {
   "cell_type": "markdown",
   "id": "b0146474-15f7-44d2-8f58-1b773399ca5a",
   "metadata": {},
   "source": [
    "# Decimal Number System \n",
    "\n",
    "    - Decimal number system we will write as 0x.\n",
    "    - Base : 10 \n",
    "    - Digits : [0-9].\n",
    "    - Example ; 246₁₀ = (2×10²) + (4×10¹) + (6×10⁰) = 200 + 40 + 6\n",
    "    - Converting int → decimal doesn’t really need a function like bin() or hex(), because decimal is the default display format.\n",
    "    \n"
   ]
  },
  {
   "cell_type": "code",
   "execution_count": 76,
   "id": "fed16245-5175-43b4-a5ee-40467c19d322",
   "metadata": {},
   "outputs": [
    {
     "name": "stdout",
     "output_type": "stream",
     "text": [
      "246\n"
     ]
    }
   ],
   "source": [
    "n = 246       \n",
    "print(n) "
   ]
  },
  {
   "cell_type": "code",
   "execution_count": 77,
   "id": "7f62ee8c-59c5-4352-ae76-533000b364ac",
   "metadata": {},
   "outputs": [
    {
     "name": "stdout",
     "output_type": "stream",
     "text": [
      "246\n",
      "246\n"
     ]
    }
   ],
   "source": [
    "n = 246   \n",
    "print(format(n,'d'))\n",
    "print(n) "
   ]
  },
  {
   "cell_type": "markdown",
   "id": "2dd69fb2-525d-47b2-a566-1281805b8dae",
   "metadata": {},
   "source": [
    "# Hexadecimal Number System\n",
    "\n",
    "    - Base: 16\n",
    "    - Digits used: 0, 1, 2, 3, 4, 5, 6, 7, 8, 9, A, B, C, D, E, F"
   ]
  },
  {
   "cell_type": "code",
   "execution_count": 78,
   "id": "759dcedd-c367-4da7-bf44-0f3d24e0cd9f",
   "metadata": {},
   "outputs": [
    {
     "name": "stdout",
     "output_type": "stream",
     "text": [
      "Decimal: 26\n",
      "Hexadecimal: 0x1a\n"
     ]
    }
   ],
   "source": [
    "# Decimal to Hexadecimal\n",
    "num = 26\n",
    "hex_value = hex(num)   # Convert decimal 26 to hexadecimal\n",
    "print(\"Decimal:\", num)\n",
    "print(\"Hexadecimal:\", hex_value)  # Output: 0x1a"
   ]
  },
  {
   "cell_type": "code",
   "execution_count": 79,
   "id": "955542d9-ee5a-4468-ae9d-470c34218bdd",
   "metadata": {},
   "outputs": [
    {
     "name": "stdout",
     "output_type": "stream",
     "text": [
      "Hexadecimal: 1A\n",
      "Decimal: 26\n"
     ]
    }
   ],
   "source": [
    "# Hexadecimal to Decimal\n",
    "hex_num = \"1A\"         # Hexadecimal value as a string\n",
    "decimal_value = int(hex_num, 16)  # Convert hex to decimal\n",
    "print(\"Hexadecimal:\", hex_num)\n",
    "print(\"Decimal:\", decimal_value)  # Output: 26"
   ]
  },
  {
   "cell_type": "code",
   "execution_count": 80,
   "id": "8fb5d7a9-d099-46fd-b3a7-040144d07310",
   "metadata": {},
   "outputs": [
    {
     "name": "stdout",
     "output_type": "stream",
     "text": [
      "Decimal: 3000\n",
      "Hexadecimal: 0xbb8\n"
     ]
    }
   ],
   "source": [
    "# Decimal to Hexadecimal\n",
    "num = 3000\n",
    "hex_value = hex(num)   # Convert decimal 26 to hexadecimal\n",
    "print(\"Decimal:\", num)\n",
    "print(\"Hexadecimal:\", hex_value)  # Output: 0x1a"
   ]
  },
  {
   "cell_type": "code",
   "execution_count": 81,
   "id": "94c62579-6849-41dd-bc2b-1e2e7dd1ba46",
   "metadata": {},
   "outputs": [
    {
     "name": "stdout",
     "output_type": "stream",
     "text": [
      "Hexadecimal: 0xbb8\n",
      "Decimal: 3000\n"
     ]
    }
   ],
   "source": [
    "# Hexadecimal to Decimal\n",
    "hex_num = \"0xbb8\"         # Hexadecimal value as a string\n",
    "decimal_value = int(hex_num, 16)  # Convert hex to decimal\n",
    "print(\"Hexadecimal:\", hex_num)\n",
    "print(\"Decimal:\", decimal_value)  # Output: 26"
   ]
  },
  {
   "cell_type": "markdown",
   "id": "1f6b1153-a9e8-49a9-8134-9a07c27b99b8",
   "metadata": {},
   "source": [
    "# Bitwise Operator\n",
    "\n",
    "    - In bitwise operator we have six(6) types of operators.\n",
    "\n",
    "        (1)- Complement bitwise operator (~).\n",
    "        (2)- Bitwise AND operator - (&).\n",
    "        (3)- Bitwise OR operator - (|).\n",
    "        (4)- Bitwise XOR operator (Exclusive OR-operator) - (^).\n",
    "        (5)- Bitwise Left shift operator - (<<).\n",
    "        (6)- Bitwise Right shift operator - (>>)."
   ]
  },
  {
   "cell_type": "markdown",
   "id": "68c59dd8-8c37-4e64-9aed-3bc7bf8bea3a",
   "metadata": {},
   "source": [
    "# Bitwise Complement Operator\n",
    "\n",
    "    - System can not be store a negative numbers .so we are store the negative numbers by using bitwise complement operator.\n",
    "    - The bitwise complement operator in Python is written as ~ (tilde).\n",
    "    - 1 becomes 0\n",
    "    - 0 becomes 1\n",
    "    - In Python, integers are stored using two's complemen representation.\n",
    "    - Formula is : n = −(n+1)"
   ]
  },
  {
   "cell_type": "code",
   "execution_count": 82,
   "id": "ea982e9e-08c9-44be-a46e-6f66be334dd3",
   "metadata": {},
   "outputs": [
    {
     "name": "stdout",
     "output_type": "stream",
     "text": [
      "-6\n"
     ]
    }
   ],
   "source": [
    "x = 5        # binary:  0000 0101\n",
    "y = ~x       # binary:  1111 1010 (in two's complement)\n",
    "print(y)     # output: -6"
   ]
  },
  {
   "cell_type": "code",
   "execution_count": 83,
   "id": "1356bc8c-0f96-4860-8d9a-9b399e78c125",
   "metadata": {},
   "outputs": [
    {
     "name": "stdout",
     "output_type": "stream",
     "text": [
      "-13\n"
     ]
    }
   ],
   "source": [
    "x = 12        # binary:  0000 0101\n",
    "y = ~x       # binary:  1111 1010 (in two's complement)\n",
    "print(y)     # output: -6\n"
   ]
  },
  {
   "cell_type": "code",
   "execution_count": 84,
   "id": "0132767f-1577-4264-b995-c9eebcfa828f",
   "metadata": {},
   "outputs": [
    {
     "name": "stdout",
     "output_type": "stream",
     "text": [
      "-20\n"
     ]
    }
   ],
   "source": [
    "x = 19        # binary:  0000 0101\n",
    "y = ~x       # binary:  1111 1010 (in two's complement)\n",
    "print(y)     # output: -6\n"
   ]
  },
  {
   "cell_type": "markdown",
   "id": "abc478e7-abe3-4287-9c94-4704f0db18a1",
   "metadata": {},
   "source": [
    "# Bitwise AND Operator (&)\n",
    "\n",
    "    - The bitwise AND operator in Python is written as &.\n",
    "    - It compares each bit of two numbers and returns 1 only if both bits are 1, otherwise 0.\n",
    "\n",
    "\n",
    "| Bit1 | Bit2 | Result |\n",
    "| ---- | ---- | ------ |\n",
    "| 0    | 0    | 0      |\n",
    "| 0    | 1    | 0      |\n",
    "| 1    | 0    | 0      |\n",
    "| 1    | 1    | 1      |\n"
   ]
  },
  {
   "cell_type": "code",
   "execution_count": 85,
   "id": "2a636ab1-6c2f-4ab1-96df-6ea526f89cb0",
   "metadata": {},
   "outputs": [
    {
     "name": "stdout",
     "output_type": "stream",
     "text": [
      "1\n"
     ]
    }
   ],
   "source": [
    "a = 5                  #     0101   (5)\n",
    "b = 3                  #   & 0011   (3)\n",
    "                       #  ---------\n",
    "print(a & b)           #    0001   (1)"
   ]
  },
  {
   "cell_type": "code",
   "execution_count": 86,
   "id": "cd3e1bde-073b-446d-9486-a2fc23cc84d7",
   "metadata": {},
   "outputs": [
    {
     "name": "stdout",
     "output_type": "stream",
     "text": [
      "4\n"
     ]
    }
   ],
   "source": [
    "p = 12\n",
    "q = 7\n",
    "\n",
    "print(12 & 7)   # 4  → 1100 & 0111 = 0100"
   ]
  },
  {
   "cell_type": "code",
   "execution_count": 87,
   "id": "97f3e787-7b10-4e5b-a602-c128c9a3ac2c",
   "metadata": {},
   "outputs": [
    {
     "name": "stdout",
     "output_type": "stream",
     "text": [
      "1\n"
     ]
    }
   ],
   "source": [
    "x = 9\n",
    "y = 5\n",
    "\n",
    "print(9 & 5)    # 1  → 1001 & 0101 = 0001"
   ]
  },
  {
   "cell_type": "code",
   "execution_count": 88,
   "id": "a9bc35c0-0dc5-4fe9-acb5-a8f7f73636db",
   "metadata": {},
   "outputs": [
    {
     "name": "stdout",
     "output_type": "stream",
     "text": [
      "2\n"
     ]
    }
   ],
   "source": [
    "s = 23    #  0b10111\n",
    "m = 10    #  0b1010\n",
    "\n",
    "print(s & m)"
   ]
  },
  {
   "cell_type": "code",
   "execution_count": 89,
   "id": "69a1f5da-c185-4b18-85dd-b59d79deec0a",
   "metadata": {},
   "outputs": [
    {
     "name": "stdout",
     "output_type": "stream",
     "text": [
      "24\n"
     ]
    }
   ],
   "source": [
    "l = 24\n",
    "b = 28\n",
    "\n",
    "print(l & b)"
   ]
  },
  {
   "cell_type": "markdown",
   "id": "0af5f920-5633-4092-999a-4efeefb7613c",
   "metadata": {},
   "source": [
    "# Bitwise OR Operator (|)\n",
    "\n",
    "    - The bitwise OR operator in Python is written as |.\n",
    "    - It compares each bit of two numbers and returns 1 if at least one bit is 1, otherwise 0.\n",
    "    \n",
    "Truth table for Bitwise OR operator:\n",
    "| Bit1 | Bit2 | Result |\n",
    "| ---- | ---- | ------ |\n",
    "| 0    | 0    | 0      |\n",
    "| 0    | 1    | 1      |\n",
    "| 1    | 0    | 1      |\n",
    "| 1    | 1    | 1      |\n",
    "\n"
   ]
  },
  {
   "cell_type": "code",
   "execution_count": 90,
   "id": "39551926-784d-4377-bd5c-7a5a57e3d40f",
   "metadata": {},
   "outputs": [
    {
     "name": "stdout",
     "output_type": "stream",
     "text": [
      "7\n"
     ]
    }
   ],
   "source": [
    "          \n",
    "a = 5                             #         101   (5)\n",
    "b = 3                             #     |  0011   (3)                \n",
    "result = a | b                    #      ----------\n",
    "print(result)                     #        0111                           "
   ]
  },
  {
   "cell_type": "code",
   "execution_count": 91,
   "id": "618f7e10-2a6f-48d1-a646-26dabf269f8b",
   "metadata": {},
   "outputs": [
    {
     "name": "stdout",
     "output_type": "stream",
     "text": [
      "15\n"
     ]
    }
   ],
   "source": [
    "x = 12\n",
    "y = 23\n",
    "print(x | b)"
   ]
  },
  {
   "cell_type": "code",
   "execution_count": 92,
   "id": "02177ac4-0391-41a4-ad51-464d6f36e8f2",
   "metadata": {},
   "outputs": [
    {
     "name": "stdout",
     "output_type": "stream",
     "text": [
      "47\n"
     ]
    }
   ],
   "source": [
    "l = 45\n",
    "b = 34\n",
    "\n",
    "print(l | b)"
   ]
  },
  {
   "cell_type": "markdown",
   "id": "dbb2fbaf-cbe2-4eed-bb35-546f9ea387fb",
   "metadata": {},
   "source": [
    "# Bitwise XOR Operator (Exclusive OR)\n",
    "\n",
    "    - The bitwise XOR operator in Python is written as ^.\n",
    "    - It compares each bit of two numbers and returns 1 if the bits are different, otherwise 0.\n",
    "\n",
    "Truth table for Bitwise XOR for one bit:\n",
    "\n",
    "| Bit1 | Bit2 | Result |\n",
    "| ---- | ---- | ------ |\n",
    "| 0    | 0    | 0      |\n",
    "| 0    | 1    | 1      |\n",
    "| 1    | 0    | 1      |\n",
    "| 1    | 1    | 0      |\n"
   ]
  },
  {
   "cell_type": "code",
   "execution_count": 93,
   "id": "e6f644e7-a233-493f-a73e-084512ba6b13",
   "metadata": {},
   "outputs": [
    {
     "name": "stdout",
     "output_type": "stream",
     "text": [
      "6\n"
     ]
    }
   ],
   "source": [
    "a = 5    # binary: 0101\n",
    "b = 3    # binary: 0011\n",
    "\n",
    "result = a ^ b\n",
    "print(result)  # Output: 6"
   ]
  },
  {
   "cell_type": "code",
   "execution_count": 94,
   "id": "00738a65-c0cd-448e-b9e8-9ea7b0b85c7f",
   "metadata": {},
   "outputs": [],
   "source": [
    "# for more explanation\n",
    "\n",
    "#     0101   (5)\n",
    "#  ^  0011   (3)\n",
    "#   ---------\n",
    "#     0110   (6)"
   ]
  },
  {
   "cell_type": "code",
   "execution_count": 95,
   "id": "29380ce3-efcf-474f-96e8-d9f2339bb9f7",
   "metadata": {},
   "outputs": [
    {
     "name": "stdout",
     "output_type": "stream",
     "text": [
      "2\n"
     ]
    }
   ],
   "source": [
    "a = 34  #  0b100010\n",
    "b = 32  #  0b100000\n",
    "\n",
    "print(a ^ b)"
   ]
  },
  {
   "cell_type": "code",
   "execution_count": 96,
   "id": "c41a8431-0605-4dd9-a75f-5ef6b06a440e",
   "metadata": {},
   "outputs": [
    {
     "name": "stdout",
     "output_type": "stream",
     "text": [
      "2\n"
     ]
    }
   ],
   "source": [
    "x = 56   # 0b111000\n",
    "y = 23   # 0b10111\n",
    "\n",
    "print(a ^ b)"
   ]
  },
  {
   "cell_type": "code",
   "execution_count": 97,
   "id": "a1d1b1c1-ad25-404c-a1c1-a9616d80541b",
   "metadata": {},
   "outputs": [
    {
     "name": "stdout",
     "output_type": "stream",
     "text": [
      "5\n"
     ]
    }
   ],
   "source": [
    "l = 12    # 0b1100\n",
    "b = 9     # 0b1001\n",
    "\n",
    "print(l ^ b)"
   ]
  },
  {
   "cell_type": "code",
   "execution_count": 98,
   "id": "1df1b6b0-7110-4cd1-bb40-057c20d2876c",
   "metadata": {},
   "outputs": [
    {
     "name": "stdout",
     "output_type": "stream",
     "text": [
      "20\n"
     ]
    }
   ],
   "source": [
    "s = 22   # 0b10110\n",
    "s1 = 2   #    0b10\n",
    "\n",
    "print(s ^ s1)"
   ]
  },
  {
   "cell_type": "code",
   "execution_count": 99,
   "id": "a38a8a78-9899-43b5-9fb3-4de1df6b4dff",
   "metadata": {},
   "outputs": [
    {
     "name": "stdout",
     "output_type": "stream",
     "text": [
      "25\n"
     ]
    }
   ],
   "source": [
    "p = 56      # 0b111000\n",
    "q = 33      # 0b100001\n",
    "\n",
    "print( p ^ q)"
   ]
  },
  {
   "cell_type": "markdown",
   "id": "600a4359-b066-484b-b260-9b7fde37e23d",
   "metadata": {},
   "source": [
    "# Bitwise Left Shift (<<)\n",
    "\n",
    "    - The bitwise left shift operator in Python is <<.\n",
    "    - It shifts the bits of a number to the left by the number of positions specified.\n",
    "    - Each shift to the left multiplies the number by 2 for every position moved.\n",
    "    - In short : (a × b²).\n",
    "    - Syntax : result = number << shift_count\n"
   ]
  },
  {
   "cell_type": "code",
   "execution_count": 100,
   "id": "6e5e9e9c-e6db-4c05-b3c1-7d2933862060",
   "metadata": {},
   "outputs": [
    {
     "name": "stdout",
     "output_type": "stream",
     "text": [
      "20\n"
     ]
    }
   ],
   "source": [
    "a = 5        # Binary:  0000 0101\n",
    "b = a << 2   # Shift left by 2 bits → Binary: 0001 0100\n",
    "print(b)     # Output: 20"
   ]
  },
  {
   "cell_type": "code",
   "execution_count": 101,
   "id": "579fa820-7420-428a-842f-57071d3c93f9",
   "metadata": {},
   "outputs": [
    {
     "name": "stdout",
     "output_type": "stream",
     "text": [
      "96\n"
     ]
    }
   ],
   "source": [
    "p = 24  #0b11000\n",
    "q = 2   # 0b10\n",
    "\n",
    "print(p << q)"
   ]
  },
  {
   "cell_type": "code",
   "execution_count": 102,
   "id": "ffb4636e-a55a-43f3-ac01-75ddc14e86e9",
   "metadata": {},
   "outputs": [
    {
     "name": "stdout",
     "output_type": "stream",
     "text": [
      "139264\n"
     ]
    }
   ],
   "source": [
    "l = 34   # 0b100010\n",
    "b = 12   # 0b1100\n",
    "\n",
    "print(l << b)"
   ]
  },
  {
   "cell_type": "code",
   "execution_count": 103,
   "id": "335f060e-0443-401d-b3f5-cf7c23600424",
   "metadata": {},
   "outputs": [
    {
     "name": "stdout",
     "output_type": "stream",
     "text": [
      "155648\n"
     ]
    }
   ],
   "source": [
    "s = 76   # 0b1001100\n",
    "m = 11   # 0b1011\n",
    " \n",
    "print(s << m)"
   ]
  },
  {
   "cell_type": "markdown",
   "id": "618c1465-c717-435d-87d5-6b925e30078b",
   "metadata": {},
   "source": [
    "# Bitwise Right Shift (>>)\n",
    "\n",
    "    - The bitwise right shift operator in Python is written as >>.\n",
    "    - Syntax : result = number >> positions.\n",
    "    - number → The integer whose bits you want to shift.\n",
    "    - positions → How many places to shift to the right.\n",
    "    - Each right shift by 1 means dividing the number by 2 (and ignoring remainder for integers).\n",
    "    - Bits shifted out on the right are discarded.\n",
    "    - If the number is positive, zeros are added on the left.\n",
    "    - If the number is negative, the sign bit is preserved (arithmetic shift).\n",
    "    - Formula is :  a/b**2 (a divided by b and b to the power is 2).\n"
   ]
  },
  {
   "cell_type": "code",
   "execution_count": 104,
   "id": "cef025a6-8bd1-4395-8cfe-91165a166834",
   "metadata": {},
   "outputs": [
    {
     "name": "stdout",
     "output_type": "stream",
     "text": [
      "5\n"
     ]
    }
   ],
   "source": [
    "a = 20          # Binary: 00010100\n",
    "result = a >> 2 # Shift right by 2 bits\n",
    "print(result)   # Output: 5"
   ]
  },
  {
   "cell_type": "code",
   "execution_count": 105,
   "id": "3e5065e7-f7ff-4c30-8083-83558b61ef54",
   "metadata": {},
   "outputs": [
    {
     "name": "stdout",
     "output_type": "stream",
     "text": [
      "3\n"
     ]
    }
   ],
   "source": [
    "a = 13\n",
    "b = 2\n",
    "\n",
    "print(a >> b)"
   ]
  },
  {
   "cell_type": "code",
   "execution_count": 106,
   "id": "89b8b3b9-a846-4890-9554-2e53d0cd9291",
   "metadata": {},
   "outputs": [
    {
     "name": "stdout",
     "output_type": "stream",
     "text": [
      "0\n"
     ]
    }
   ],
   "source": [
    "a = 34\n",
    "b = 9\n",
    "\n",
    "print(a >> b)"
   ]
  },
  {
   "cell_type": "code",
   "execution_count": 107,
   "id": "bdc5ed6b-46a0-453b-8b60-987dd7cc7e76",
   "metadata": {},
   "outputs": [
    {
     "name": "stdout",
     "output_type": "stream",
     "text": [
      "5\n"
     ]
    }
   ],
   "source": [
    "a = 23\n",
    "b = 2\n",
    "\n",
    "print(a >> b)"
   ]
  },
  {
   "cell_type": "code",
   "execution_count": 108,
   "id": "2264f9fa-6e3f-4bcb-b2d9-b67efb1fea44",
   "metadata": {},
   "outputs": [
    {
     "name": "stdout",
     "output_type": "stream",
     "text": [
      "9\n"
     ]
    }
   ],
   "source": [
    "v = 77\n",
    "w = 3\n",
    "\n",
    "print(v >> w)"
   ]
  },
  {
   "cell_type": "code",
   "execution_count": 109,
   "id": "231d98eb-992c-46fa-8063-0bf1f9fbc11a",
   "metadata": {},
   "outputs": [
    {
     "name": "stdout",
     "output_type": "stream",
     "text": [
      "5\n"
     ]
    }
   ],
   "source": [
    "q = 90\n",
    "r = 4\n",
    "\n",
    "print(q >> r)"
   ]
  }
 ],
 "metadata": {
  "kernelspec": {
   "display_name": "Python 3 (ipykernel)",
   "language": "python",
   "name": "python3"
  },
  "language_info": {
   "codemirror_mode": {
    "name": "ipython",
    "version": 3
   },
   "file_extension": ".py",
   "mimetype": "text/x-python",
   "name": "python",
   "nbconvert_exporter": "python",
   "pygments_lexer": "ipython3",
   "version": "3.13.5"
  },
  "widgets": {
   "application/vnd.jupyter.widget-state+json": {
    "state": {},
    "version_major": 2,
    "version_minor": 0
   }
  }
 },
 "nbformat": 4,
 "nbformat_minor": 5
}
