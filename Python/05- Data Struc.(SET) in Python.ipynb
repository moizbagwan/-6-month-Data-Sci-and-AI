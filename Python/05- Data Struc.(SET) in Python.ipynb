{
 "cells": [
  {
   "cell_type": "markdown",
   "id": "95fbe767-3124-4c03-a51d-98599350a44a",
   "metadata": {},
   "source": [
    "# Set {}\n",
    "\n",
    "                  - Set and dict are both define with {} , Curly Brackets.\n",
    "\n",
    "    - Mutable :-\n",
    "                   It is mutable (can be changed), but the elements must be immutable (e.g., int, string, tuple)\n",
    "\n",
    "    - Duplicates :-\n",
    "                    You can not have any duplicates value in set ,that means Every element will be unique .\n",
    "\n",
    "    - Unorderd :-\n",
    "                    A set is an unordered, unindexed collection of unique elements.\n",
    "\n",
    "    - Heterogeneous :-\n",
    "                    Sets are semi-heterogeneous it can stores some data type like string , numbers , tuple , but not everything.\n",
    "\n",
    "    - Sets do not support indexing and slicing."
   ]
  },
  {
   "cell_type": "code",
   "execution_count": 1,
   "id": "b27338e8-3ad2-4711-b852-67a8e98e2e36",
   "metadata": {},
   "outputs": [
    {
     "data": {
      "text/plain": [
       "{}"
      ]
     },
     "execution_count": 1,
     "metadata": {},
     "output_type": "execute_result"
    }
   ],
   "source": [
    "s = {}        # This is a dictionary,not set \n",
    "s                                           # making for set is following.."
   ]
  },
  {
   "cell_type": "code",
   "execution_count": 2,
   "id": "12708038-fc0f-4edf-967e-0a2837b35a90",
   "metadata": {},
   "outputs": [
    {
     "data": {
      "text/plain": [
       "dict"
      ]
     },
     "execution_count": 2,
     "metadata": {},
     "output_type": "execute_result"
    }
   ],
   "source": [
    "type(s)          "
   ]
  },
  {
   "cell_type": "code",
   "execution_count": 3,
   "id": "71b89cc0-6946-4574-8f93-a85906a0d54f",
   "metadata": {},
   "outputs": [],
   "source": [
    "s1 = set()         # Now this is empty set."
   ]
  },
  {
   "cell_type": "code",
   "execution_count": 4,
   "id": "8df9d574-806b-432c-a80f-0f76a30886e2",
   "metadata": {},
   "outputs": [
    {
     "data": {
      "text/plain": [
       "set()"
      ]
     },
     "execution_count": 4,
     "metadata": {},
     "output_type": "execute_result"
    }
   ],
   "source": [
    "s1"
   ]
  },
  {
   "cell_type": "code",
   "execution_count": 5,
   "id": "1784ad5d-f7e3-4be4-9c93-7c0a0d5c5241",
   "metadata": {},
   "outputs": [
    {
     "data": {
      "text/plain": [
       "set"
      ]
     },
     "execution_count": 5,
     "metadata": {},
     "output_type": "execute_result"
    }
   ],
   "source": [
    "type(s1)     # type of s1"
   ]
  },
  {
   "cell_type": "code",
   "execution_count": 10,
   "id": "3f8b2896-985c-45a0-8455-ee1b0a9aa21c",
   "metadata": {},
   "outputs": [
    {
     "data": {
      "text/plain": [
       "{1, 8, 34, 45, 67, 82, 90}"
      ]
     },
     "execution_count": 10,
     "metadata": {},
     "output_type": "execute_result"
    }
   ],
   "source": [
    "s1 = {90,34,67,1,8,45,82}\n",
    "s1                         # sets are unorderd \n"
   ]
  },
  {
   "cell_type": "code",
   "execution_count": 7,
   "id": "e10fb8fa-61ac-4b2a-a017-8a80ce67965a",
   "metadata": {},
   "outputs": [
    {
     "data": {
      "text/plain": [
       "set"
      ]
     },
     "execution_count": 7,
     "metadata": {},
     "output_type": "execute_result"
    }
   ],
   "source": [
    "type(s1)       # Type of s1 is set"
   ]
  },
  {
   "cell_type": "code",
   "execution_count": 8,
   "id": "6f675b31-37b7-4973-991a-50c5e891fc01",
   "metadata": {},
   "outputs": [
    {
     "data": {
      "text/plain": [
       "7"
      ]
     },
     "execution_count": 8,
     "metadata": {},
     "output_type": "execute_result"
    }
   ],
   "source": [
    "len(s1)        # length of s1"
   ]
  },
  {
   "cell_type": "code",
   "execution_count": 12,
   "id": "e2fe8fc3-31b2-42a2-a4bc-ae2e1ce04bb8",
   "metadata": {},
   "outputs": [
    {
     "data": {
      "text/plain": [
       "{'a', 'd', 'm', 'o', 'z'}"
      ]
     },
     "execution_count": 12,
     "metadata": {},
     "output_type": "execute_result"
    }
   ],
   "source": [
    "s2 = {'z','m','a','o','d'}     # unorderd\n",
    "s2"
   ]
  },
  {
   "cell_type": "code",
   "execution_count": 13,
   "id": "776afc7b-2449-4465-9361-a3fb6d00cfec",
   "metadata": {},
   "outputs": [
    {
     "data": {
      "text/plain": [
       "set"
      ]
     },
     "execution_count": 13,
     "metadata": {},
     "output_type": "execute_result"
    }
   ],
   "source": [
    "type(s2)"
   ]
  },
  {
   "cell_type": "code",
   "execution_count": 14,
   "id": "84c01873-f7f7-4e0c-ba67-c6989382369f",
   "metadata": {},
   "outputs": [
    {
     "name": "stdout",
     "output_type": "stream",
     "text": [
      "{1, 34, 67, 82, 8, 90, 45}\n",
      "{'m', 'z', 'o', 'd', 'a'}\n"
     ]
    }
   ],
   "source": [
    "print(s1)\n",
    "print(s2)"
   ]
  },
  {
   "cell_type": "code",
   "execution_count": 15,
   "id": "04583fdf-81b4-4ed8-8f24-ab77925c1d91",
   "metadata": {},
   "outputs": [
    {
     "data": {
      "text/plain": [
       "{'a', 'd', 'm', 'o', 'z'}"
      ]
     },
     "execution_count": 15,
     "metadata": {},
     "output_type": "execute_result"
    }
   ],
   "source": [
    "s2"
   ]
  },
  {
   "cell_type": "code",
   "execution_count": 16,
   "id": "c78b1a5f-ea4c-46bb-87b5-881900c27540",
   "metadata": {},
   "outputs": [
    {
     "data": {
      "text/plain": [
       "5"
      ]
     },
     "execution_count": 16,
     "metadata": {},
     "output_type": "execute_result"
    }
   ],
   "source": [
    "len(s2)"
   ]
  },
  {
   "cell_type": "code",
   "execution_count": 17,
   "id": "5d18b1b6-6b0f-458c-97fc-1c2e0f01e237",
   "metadata": {},
   "outputs": [
    {
     "data": {
      "text/plain": [
       "{(1+2j), 1, 3.2, False, 'nit'}"
      ]
     },
     "execution_count": 17,
     "metadata": {},
     "output_type": "execute_result"
    }
   ],
   "source": [
    "s3 = {1,3.2,'nit',1+2j,False}    \n",
    "s3"
   ]
  },
  {
   "cell_type": "code",
   "execution_count": 18,
   "id": "acb5e475-a63d-405a-b974-cbc7bddf2290",
   "metadata": {},
   "outputs": [
    {
     "data": {
      "text/plain": [
       "{1, 8, 34, 45, 67, 82, 90}"
      ]
     },
     "execution_count": 18,
     "metadata": {},
     "output_type": "execute_result"
    }
   ],
   "source": [
    "s1"
   ]
  },
  {
   "cell_type": "code",
   "execution_count": 19,
   "id": "6da6d6c8-8e51-4b0d-b6df-2709c84d7fc1",
   "metadata": {},
   "outputs": [
    {
     "data": {
      "text/plain": [
       "{1, 2, 3, 4, 5, 6}"
      ]
     },
     "execution_count": 19,
     "metadata": {},
     "output_type": "execute_result"
    }
   ],
   "source": [
    "s4 = {1,4,5,6,4,3,2,1,4}     # duplicates values are not print , because duplicates are not allowed.\n",
    "s4"
   ]
  },
  {
   "cell_type": "markdown",
   "id": "8e7ebec5-a61a-4810-a754-1faf27fa38bf",
   "metadata": {},
   "source": [
    "# loop trough a Set"
   ]
  },
  {
   "cell_type": "code",
   "execution_count": 1,
   "id": "0dfba9b9-729c-405b-a041-454a1234a474",
   "metadata": {},
   "outputs": [
    {
     "data": {
      "text/plain": [
       "{1, 2, 3, 4, 5, 6, 7, 8, 9}"
      ]
     },
     "execution_count": 1,
     "metadata": {},
     "output_type": "execute_result"
    }
   ],
   "source": [
    "s = {1,2,3,4,5,6,7,8,9}\n",
    "s"
   ]
  },
  {
   "cell_type": "code",
   "execution_count": 2,
   "id": "3cf65e9c-7616-4c43-9bf3-f9925bbbdc10",
   "metadata": {},
   "outputs": [
    {
     "name": "stdout",
     "output_type": "stream",
     "text": [
      "1\n",
      "2\n",
      "3\n",
      "4\n",
      "5\n",
      "6\n",
      "7\n",
      "8\n",
      "9\n"
     ]
    }
   ],
   "source": [
    "for i in s:\n",
    "    print(i)"
   ]
  },
  {
   "cell_type": "code",
   "execution_count": 4,
   "id": "b985283e-a01a-49b5-96d8-11f87eee5709",
   "metadata": {},
   "outputs": [
    {
     "data": {
      "text/plain": [
       "{'five', 'four', 'one', 'three', 'two'}"
      ]
     },
     "execution_count": 4,
     "metadata": {},
     "output_type": "execute_result"
    }
   ],
   "source": [
    "s1 = {'one','two','three','four','five'}\n",
    "s1"
   ]
  },
  {
   "cell_type": "code",
   "execution_count": 6,
   "id": "54daee45-4ac2-4e31-843d-f1c3a68143fa",
   "metadata": {},
   "outputs": [
    {
     "name": "stdout",
     "output_type": "stream",
     "text": [
      "(0, 'four')\n",
      "(1, 'three')\n",
      "(2, 'two')\n",
      "(3, 'five')\n",
      "(4, 'one')\n"
     ]
    }
   ],
   "source": [
    "for i in enumerate(s1):\n",
    "    print(i)"
   ]
  },
  {
   "cell_type": "markdown",
   "id": "05860bc9-6d97-4ea3-b6c5-f6e5b615588f",
   "metadata": {},
   "source": [
    "# Methods of Set"
   ]
  },
  {
   "cell_type": "markdown",
   "id": "1f5aa397-b4b6-46b1-817b-213285a73bfa",
   "metadata": {},
   "source": [
    "# Add method\n",
    "\n",
    "    - To add a single element to a set.\n",
    "    - Adds the element only if it’s not already present.\n",
    "    - The element must be immutable (like int, float, string, tuple).\n",
    "    - This method does not return anything (returns None).\n",
    "    - If you try to add a duplicate, it will be ignored."
   ]
  },
  {
   "cell_type": "code",
   "execution_count": 20,
   "id": "0e1f170c-34c0-4213-b523-611655d3d57c",
   "metadata": {},
   "outputs": [
    {
     "data": {
      "text/plain": [
       "{1, 8, 34, 45, 67, 82, 90}"
      ]
     },
     "execution_count": 20,
     "metadata": {},
     "output_type": "execute_result"
    }
   ],
   "source": [
    "s1"
   ]
  },
  {
   "cell_type": "code",
   "execution_count": 22,
   "id": "dbfa67b9-f4e3-46ef-92a4-cc79b8811f54",
   "metadata": {},
   "outputs": [
    {
     "data": {
      "text/plain": [
       "{1, 8, 9, 34, 45, 67, 82, 90}"
      ]
     },
     "execution_count": 22,
     "metadata": {},
     "output_type": "execute_result"
    }
   ],
   "source": [
    "s1.add(9)     # add element\n",
    "s1"
   ]
  },
  {
   "cell_type": "code",
   "execution_count": 23,
   "id": "c664d5ab-4e06-4025-8f0c-3c1e3c5c2689",
   "metadata": {},
   "outputs": [
    {
     "data": {
      "text/plain": [
       "{1, 8, 9, 34, 45, 67, 82, 90, 100}"
      ]
     },
     "execution_count": 23,
     "metadata": {},
     "output_type": "execute_result"
    }
   ],
   "source": [
    "s1.add(100)\n",
    "s1"
   ]
  },
  {
   "cell_type": "code",
   "execution_count": 24,
   "id": "0a460994-0cf1-4846-b42b-8258cafd8cf4",
   "metadata": {},
   "outputs": [
    {
     "data": {
      "text/plain": [
       "{1, 8, 9, 34, 45, 67, 82, 90, 100}"
      ]
     },
     "execution_count": 24,
     "metadata": {},
     "output_type": "execute_result"
    }
   ],
   "source": [
    "s1"
   ]
  },
  {
   "cell_type": "code",
   "execution_count": 26,
   "id": "3c5e41ec-3e17-44de-bc38-ef1dcac2bd3f",
   "metadata": {},
   "outputs": [
    {
     "data": {
      "text/plain": [
       "{1, 5, 8, 9, 34, 45, 67, 82, 90, 100}"
      ]
     },
     "execution_count": 26,
     "metadata": {},
     "output_type": "execute_result"
    }
   ],
   "source": [
    "s1.add(5)\n",
    "s1"
   ]
  },
  {
   "cell_type": "code",
   "execution_count": 27,
   "id": "6eeeedb7-02a3-4da6-8c7b-98457520091f",
   "metadata": {},
   "outputs": [
    {
     "name": "stdout",
     "output_type": "stream",
     "text": [
      "{1, 67, 5, 8, 9, 82, 90, 34, 100, 45}\n"
     ]
    }
   ],
   "source": [
    "print(s1)"
   ]
  },
  {
   "cell_type": "code",
   "execution_count": 28,
   "id": "e9ca4f3b-6334-4675-a395-1ad1073ac9bd",
   "metadata": {},
   "outputs": [
    {
     "data": {
      "text/plain": [
       "{(1+2j), 1, 3.2, False, 'nit'}"
      ]
     },
     "execution_count": 28,
     "metadata": {},
     "output_type": "execute_result"
    }
   ],
   "source": [
    "s3"
   ]
  },
  {
   "cell_type": "markdown",
   "id": "d12cbf0c-303f-445a-8a1f-673115e1443b",
   "metadata": {},
   "source": [
    "# Clear Method\n",
    "\n",
    "    - To remove all elements from a set, making it an empty set.\n",
    "    - It modifies the original set.\n",
    "    - The set becomes empty (set()).\n",
    "    - It does not return anything "
   ]
  },
  {
   "cell_type": "code",
   "execution_count": 29,
   "id": "ad6bd9ec-0bd8-4e07-beba-08c0c546a51e",
   "metadata": {},
   "outputs": [
    {
     "data": {
      "text/plain": [
       "{(1+2j), 1, 3.2, False, 'nit'}"
      ]
     },
     "execution_count": 29,
     "metadata": {},
     "output_type": "execute_result"
    }
   ],
   "source": [
    "s3"
   ]
  },
  {
   "cell_type": "code",
   "execution_count": 30,
   "id": "44a176cb-9c4b-486f-a854-a6fc1c8e372d",
   "metadata": {},
   "outputs": [
    {
     "data": {
      "text/plain": [
       "set()"
      ]
     },
     "execution_count": 30,
     "metadata": {},
     "output_type": "execute_result"
    }
   ],
   "source": [
    "s3.clear()      # it gives empty set().\n",
    "s3"
   ]
  },
  {
   "cell_type": "code",
   "execution_count": 32,
   "id": "edb7fdd2-d76b-4e7d-8c56-df709696ca7c",
   "metadata": {},
   "outputs": [
    {
     "data": {
      "text/plain": [
       "{1, 5, 8, 9, 34, 45, 67, 82, 90, 100}"
      ]
     },
     "execution_count": 32,
     "metadata": {},
     "output_type": "execute_result"
    }
   ],
   "source": [
    "s1"
   ]
  },
  {
   "cell_type": "code",
   "execution_count": 34,
   "id": "bd6fd076-d18d-487d-a5ab-1ff669f2c03f",
   "metadata": {},
   "outputs": [
    {
     "data": {
      "text/plain": [
       "{12, 67, 80, 89, 567}"
      ]
     },
     "execution_count": 34,
     "metadata": {},
     "output_type": "execute_result"
    }
   ],
   "source": [
    "set = {567,80,12,67,89}\n",
    "set"
   ]
  },
  {
   "cell_type": "code",
   "execution_count": 35,
   "id": "3fe2b750-c17a-42d3-a0f9-d44c8271ea89",
   "metadata": {},
   "outputs": [],
   "source": [
    "set.clear()        # empty set."
   ]
  },
  {
   "cell_type": "markdown",
   "id": "ae16437e-ef47-49ba-90da-495152d634dc",
   "metadata": {},
   "source": [
    "# Copy Method \n",
    "\n",
    "    - To create a duplicate of a set.\n",
    "    - It returns a new set with the same elements.\n",
    "    - Changing the copied set does not affect the original set."
   ]
  },
  {
   "cell_type": "code",
   "execution_count": 36,
   "id": "2364725a-f771-446b-a826-9e2080f3b947",
   "metadata": {},
   "outputs": [
    {
     "data": {
      "text/plain": [
       "{1, 2, 3, 4, 5, 6}"
      ]
     },
     "execution_count": 36,
     "metadata": {},
     "output_type": "execute_result"
    }
   ],
   "source": [
    "s4"
   ]
  },
  {
   "cell_type": "code",
   "execution_count": 37,
   "id": "5c4a0ce6-372b-49aa-9e17-2c3ab7d6edae",
   "metadata": {},
   "outputs": [
    {
     "data": {
      "text/plain": [
       "{1, 2, 3, 4, 5, 6}"
      ]
     },
     "execution_count": 37,
     "metadata": {},
     "output_type": "execute_result"
    }
   ],
   "source": [
    "s4.copy()       # copy\n",
    "s4"
   ]
  },
  {
   "cell_type": "code",
   "execution_count": 38,
   "id": "abe79e61-f8fa-4f99-bc87-0e9e4eab7024",
   "metadata": {},
   "outputs": [
    {
     "data": {
      "text/plain": [
       "{1, 5, 8, 9, 34, 45, 67, 82, 90, 100}"
      ]
     },
     "execution_count": 38,
     "metadata": {},
     "output_type": "execute_result"
    }
   ],
   "source": [
    "s4 = s1.copy()     # copy\n",
    "s4"
   ]
  },
  {
   "cell_type": "code",
   "execution_count": 39,
   "id": "ac11d987-e01a-4cf3-b6e8-4a4869b844af",
   "metadata": {},
   "outputs": [
    {
     "data": {
      "text/plain": [
       "{1, 5, 8, 9, 34, 45, 67, 82, 90, 100}"
      ]
     },
     "execution_count": 39,
     "metadata": {},
     "output_type": "execute_result"
    }
   ],
   "source": [
    "s1"
   ]
  },
  {
   "cell_type": "code",
   "execution_count": 40,
   "id": "deb28303-fd13-4fb8-abac-ad7d3026edba",
   "metadata": {},
   "outputs": [
    {
     "ename": "TypeError",
     "evalue": "'set' object is not subscriptable",
     "output_type": "error",
     "traceback": [
      "\u001b[31m---------------------------------------------------------------------------\u001b[39m",
      "\u001b[31mTypeError\u001b[39m                                 Traceback (most recent call last)",
      "\u001b[36mCell\u001b[39m\u001b[36m \u001b[39m\u001b[32mIn[40]\u001b[39m\u001b[32m, line 1\u001b[39m\n\u001b[32m----> \u001b[39m\u001b[32m1\u001b[39m \u001b[43ms1\u001b[49m\u001b[43m[\u001b[49m\u001b[32;43m0\u001b[39;49m\u001b[43m]\u001b[49m\n",
      "\u001b[31mTypeError\u001b[39m: 'set' object is not subscriptable"
     ]
    }
   ],
   "source": [
    "s1[0]       # sets are unorderd so indexing is not allowed."
   ]
  },
  {
   "cell_type": "code",
   "execution_count": 41,
   "id": "aa3265b3-56c5-4375-9217-686588f24680",
   "metadata": {},
   "outputs": [
    {
     "data": {
      "text/plain": [
       "{1, 5, 8, 9, 34, 45, 67, 82, 90, 100}"
      ]
     },
     "execution_count": 41,
     "metadata": {},
     "output_type": "execute_result"
    }
   ],
   "source": [
    "s1"
   ]
  },
  {
   "cell_type": "code",
   "execution_count": 42,
   "id": "3e4f4856-02ea-4a6a-b981-ede2d56bf07e",
   "metadata": {},
   "outputs": [
    {
     "ename": "TypeError",
     "evalue": "'set' object is not subscriptable",
     "output_type": "error",
     "traceback": [
      "\u001b[31m---------------------------------------------------------------------------\u001b[39m",
      "\u001b[31mTypeError\u001b[39m                                 Traceback (most recent call last)",
      "\u001b[36mCell\u001b[39m\u001b[36m \u001b[39m\u001b[32mIn[42]\u001b[39m\u001b[32m, line 1\u001b[39m\n\u001b[32m----> \u001b[39m\u001b[32m1\u001b[39m \u001b[43ms1\u001b[49m\u001b[43m[\u001b[49m\u001b[32;43m1\u001b[39;49m\u001b[43m:\u001b[49m\u001b[32;43m5\u001b[39;49m\u001b[43m]\u001b[49m\n",
      "\u001b[31mTypeError\u001b[39m: 'set' object is not subscriptable"
     ]
    }
   ],
   "source": [
    "s1[1:5]      # sets are unorderd so slicing are also not allowed."
   ]
  },
  {
   "cell_type": "markdown",
   "id": "199b0ed8-ad37-415c-ad6f-33fcf9b9bb74",
   "metadata": {},
   "source": [
    "# Pop Method\n",
    "\n",
    "    - To remove and return a random element from the set."
   ]
  },
  {
   "cell_type": "code",
   "execution_count": 43,
   "id": "123d9278-5edc-4425-bf6c-aac42ffced64",
   "metadata": {},
   "outputs": [
    {
     "data": {
      "text/plain": [
       "{1, 5, 8, 9, 34, 45, 67, 82, 90, 100}"
      ]
     },
     "execution_count": 43,
     "metadata": {},
     "output_type": "execute_result"
    }
   ],
   "source": [
    "s1"
   ]
  },
  {
   "cell_type": "code",
   "execution_count": 45,
   "id": "58f1052a-f935-40f5-a289-d096551316d3",
   "metadata": {},
   "outputs": [
    {
     "data": {
      "text/plain": [
       "67"
      ]
     },
     "execution_count": 45,
     "metadata": {},
     "output_type": "execute_result"
    }
   ],
   "source": [
    "s1.pop()   # remove and give random number from the set."
   ]
  },
  {
   "cell_type": "code",
   "execution_count": 46,
   "id": "83862673-25f2-4224-bd6f-ff802dc8f19f",
   "metadata": {},
   "outputs": [
    {
     "data": {
      "text/plain": [
       "{5, 8, 9, 34, 45, 82, 90, 100}"
      ]
     },
     "execution_count": 46,
     "metadata": {},
     "output_type": "execute_result"
    }
   ],
   "source": [
    "s1"
   ]
  },
  {
   "cell_type": "code",
   "execution_count": 48,
   "id": "59789db4-9bf4-42d2-99c4-cb96ac593383",
   "metadata": {},
   "outputs": [
    {
     "data": {
      "text/plain": [
       "5"
      ]
     },
     "execution_count": 48,
     "metadata": {},
     "output_type": "execute_result"
    }
   ],
   "source": [
    "s1.pop()"
   ]
  },
  {
   "cell_type": "code",
   "execution_count": 49,
   "id": "2d365b88-7986-4243-a2d7-a15dd5e4dc92",
   "metadata": {},
   "outputs": [
    {
     "data": {
      "text/plain": [
       "8"
      ]
     },
     "execution_count": 49,
     "metadata": {},
     "output_type": "execute_result"
    }
   ],
   "source": [
    "s1.pop()"
   ]
  },
  {
   "cell_type": "code",
   "execution_count": 50,
   "id": "df37e98b-5df0-48f0-b71d-5492cbec3cb2",
   "metadata": {},
   "outputs": [
    {
     "data": {
      "text/plain": [
       "{9, 34, 45, 82, 90, 100}"
      ]
     },
     "execution_count": 50,
     "metadata": {},
     "output_type": "execute_result"
    }
   ],
   "source": [
    "s1"
   ]
  },
  {
   "cell_type": "code",
   "execution_count": 51,
   "id": "aca97f1b-4ff6-4668-939d-dc7b59cccc48",
   "metadata": {},
   "outputs": [
    {
     "ename": "TypeError",
     "evalue": "set.pop() takes no arguments (1 given)",
     "output_type": "error",
     "traceback": [
      "\u001b[31m---------------------------------------------------------------------------\u001b[39m",
      "\u001b[31mTypeError\u001b[39m                                 Traceback (most recent call last)",
      "\u001b[36mCell\u001b[39m\u001b[36m \u001b[39m\u001b[32mIn[51]\u001b[39m\u001b[32m, line 1\u001b[39m\n\u001b[32m----> \u001b[39m\u001b[32m1\u001b[39m \u001b[43ms1\u001b[49m\u001b[43m.\u001b[49m\u001b[43mpop\u001b[49m\u001b[43m(\u001b[49m\u001b[32;43m0\u001b[39;49m\u001b[43m)\u001b[49m\n",
      "\u001b[31mTypeError\u001b[39m: set.pop() takes no arguments (1 given)"
     ]
    }
   ],
   "source": [
    "s1.pop(0)      # we can not take any arguments in pop() method."
   ]
  },
  {
   "cell_type": "code",
   "execution_count": 52,
   "id": "94f0bb48-22f8-4bef-921e-d4657b12d5bb",
   "metadata": {},
   "outputs": [
    {
     "data": {
      "text/plain": [
       "{9, 34, 45, 82, 90, 100}"
      ]
     },
     "execution_count": 52,
     "metadata": {},
     "output_type": "execute_result"
    }
   ],
   "source": [
    "s1"
   ]
  },
  {
   "cell_type": "markdown",
   "id": "6bbd1268-a36c-482a-8966-97cf81862f57",
   "metadata": {},
   "source": [
    "# Remove Method\n",
    "\n",
    "    - To remove a specific element from a set."
   ]
  },
  {
   "cell_type": "code",
   "execution_count": 53,
   "id": "b5ce3a14-e6b7-476f-96b0-2e3a572773e6",
   "metadata": {},
   "outputs": [
    {
     "data": {
      "text/plain": [
       "{9, 34, 45, 82, 90, 100}"
      ]
     },
     "execution_count": 53,
     "metadata": {},
     "output_type": "execute_result"
    }
   ],
   "source": [
    "s1"
   ]
  },
  {
   "cell_type": "code",
   "execution_count": 58,
   "id": "740920bd-c459-48d2-8560-78634f7b1e12",
   "metadata": {},
   "outputs": [
    {
     "data": {
      "text/plain": [
       "{34, 45, 100}"
      ]
     },
     "execution_count": 58,
     "metadata": {},
     "output_type": "execute_result"
    }
   ],
   "source": [
    "s1.remove(82)     # it is remove h element that is 82.\n",
    "s1"
   ]
  },
  {
   "cell_type": "code",
   "execution_count": 59,
   "id": "dbaa4e2d-4962-4d3c-a0e9-8cdaecb158ec",
   "metadata": {},
   "outputs": [
    {
     "data": {
      "text/plain": [
       "{34, 45, 100}"
      ]
     },
     "execution_count": 59,
     "metadata": {},
     "output_type": "execute_result"
    }
   ],
   "source": [
    "s1"
   ]
  },
  {
   "cell_type": "code",
   "execution_count": 60,
   "id": "7b433ea8-0e64-4d99-b85b-5cfb4743e1ed",
   "metadata": {},
   "outputs": [
    {
     "ename": "KeyError",
     "evalue": "1000",
     "output_type": "error",
     "traceback": [
      "\u001b[31m---------------------------------------------------------------------------\u001b[39m",
      "\u001b[31mKeyError\u001b[39m                                  Traceback (most recent call last)",
      "\u001b[36mCell\u001b[39m\u001b[36m \u001b[39m\u001b[32mIn[60]\u001b[39m\u001b[32m, line 1\u001b[39m\n\u001b[32m----> \u001b[39m\u001b[32m1\u001b[39m \u001b[43ms1\u001b[49m\u001b[43m.\u001b[49m\u001b[43mremove\u001b[49m\u001b[43m(\u001b[49m\u001b[32;43m1000\u001b[39;49m\u001b[43m)\u001b[49m\n",
      "\u001b[31mKeyError\u001b[39m: 1000"
     ]
    }
   ],
   "source": [
    "s1.remove(1000)   # 1000 is not exist in set.\n"
   ]
  },
  {
   "cell_type": "markdown",
   "id": "34d7cb67-728e-4f99-ae5e-7bc8a938cb52",
   "metadata": {},
   "source": [
    "# Discard Method\n",
    "\n",
    "    - It removes specific element , if it is not exist in set. "
   ]
  },
  {
   "cell_type": "code",
   "execution_count": 63,
   "id": "c49fe89a-4565-4f85-a68c-aaad601f737e",
   "metadata": {},
   "outputs": [
    {
     "data": {
      "text/plain": [
       "{1, 5, 8, 9, 34, 45, 67, 82, 90, 100}"
      ]
     },
     "execution_count": 63,
     "metadata": {},
     "output_type": "execute_result"
    }
   ],
   "source": [
    "s4"
   ]
  },
  {
   "cell_type": "code",
   "execution_count": 65,
   "id": "2de5f67c-4373-45c1-9fb1-96b6bf42b96c",
   "metadata": {},
   "outputs": [
    {
     "data": {
      "text/plain": [
       "{1, 5, 8, 9, 34, 45, 67, 82, 90}"
      ]
     },
     "execution_count": 65,
     "metadata": {},
     "output_type": "execute_result"
    }
   ],
   "source": [
    "s4.discard(100)      # remove element 100 it is exist in set.\n",
    "s4"
   ]
  },
  {
   "cell_type": "code",
   "execution_count": 66,
   "id": "eed789b7-fcb5-4fd2-bed8-b422f0208228",
   "metadata": {},
   "outputs": [
    {
     "data": {
      "text/plain": [
       "{1, 5, 8, 9, 34, 45, 67, 82, 90}"
      ]
     },
     "execution_count": 66,
     "metadata": {},
     "output_type": "execute_result"
    }
   ],
   "source": [
    "s4"
   ]
  },
  {
   "cell_type": "code",
   "execution_count": 67,
   "id": "8eec5d58-fd6b-4e98-b7a0-f8ad142c831d",
   "metadata": {},
   "outputs": [
    {
     "data": {
      "text/plain": [
       "{1, 5, 8, 9, 34, 45, 67, 82, 90}"
      ]
     },
     "execution_count": 67,
     "metadata": {},
     "output_type": "execute_result"
    }
   ],
   "source": [
    "s4.discard(5000)    # no error because of discard method ,remove the element if it is exist or not.\n",
    "s4"
   ]
  },
  {
   "cell_type": "code",
   "execution_count": 69,
   "id": "3082ecef-3a52-4e10-b3d3-aa27a8372345",
   "metadata": {},
   "outputs": [
    {
     "data": {
      "text/plain": [
       "{1, 5, 8, 9, 45, 67, 82, 90}"
      ]
     },
     "execution_count": 69,
     "metadata": {},
     "output_type": "execute_result"
    }
   ],
   "source": [
    "s4.discard(34)    # removes element that is 34.\n",
    "s4"
   ]
  },
  {
   "cell_type": "markdown",
   "id": "b00985ce-50d7-4734-acbc-b4a88148e212",
   "metadata": {},
   "source": [
    "# Set Membership \n",
    "\n",
    "        - Checks whether the value exists in the set or not.\n",
    "        - Returns a boolean value: True or False."
   ]
  },
  {
   "cell_type": "code",
   "execution_count": 72,
   "id": "72d86585-4293-4a96-ac1e-67dd378c2599",
   "metadata": {},
   "outputs": [
    {
     "data": {
      "text/plain": [
       "{1, 5, 8, 9, 45, 67, 82, 90}"
      ]
     },
     "execution_count": 72,
     "metadata": {},
     "output_type": "execute_result"
    }
   ],
   "source": [
    "s4"
   ]
  },
  {
   "cell_type": "code",
   "execution_count": 73,
   "id": "bd5fc0fd-d625-4f22-9617-b55b0f1a26cf",
   "metadata": {},
   "outputs": [
    {
     "data": {
      "text/plain": [
       "False"
      ]
     },
     "execution_count": 73,
     "metadata": {},
     "output_type": "execute_result"
    }
   ],
   "source": [
    "1000 in s4      # 1000 is not exists in set , so it gives False"
   ]
  },
  {
   "cell_type": "code",
   "execution_count": 74,
   "id": "1b315cad-3b5e-4a67-9fc6-864a01a91df0",
   "metadata": {},
   "outputs": [
    {
     "data": {
      "text/plain": [
       "True"
      ]
     },
     "execution_count": 74,
     "metadata": {},
     "output_type": "execute_result"
    }
   ],
   "source": [
    "45 in s4       # 45 exists in set ,so it gives True"
   ]
  },
  {
   "cell_type": "code",
   "execution_count": 76,
   "id": "32d86cc9-4620-4352-9c71-37f76a63c325",
   "metadata": {},
   "outputs": [
    {
     "data": {
      "text/plain": [
       "{34, 45, 100}"
      ]
     },
     "execution_count": 76,
     "metadata": {},
     "output_type": "execute_result"
    }
   ],
   "source": [
    "s1"
   ]
  },
  {
   "cell_type": "markdown",
   "id": "e1b3075a-cf29-4d57-a158-e7bc866274c5",
   "metadata": {},
   "source": [
    "# Set Operation \n",
    "\n",
    "    - Union\n",
    "    - intersection\n",
    "    - difference\n",
    "    - difference_update\n",
    "    - symmetric_difference\n",
    "    "
   ]
  },
  {
   "cell_type": "markdown",
   "id": "db66365b-2bea-42bc-a12b-4012f701dc79",
   "metadata": {},
   "source": [
    "# Union  |  :-\n",
    "\n",
    "        ** Symbol is \"   |   \"  pipe.\n",
    "        - To combine elements of two or more sets, and return a new set with all unique elements.\n",
    "        - It does not modify the original sets.\n",
    "        - It returns a new set.\n",
    "        - Removes duplicates automatically."
   ]
  },
  {
   "cell_type": "code",
   "execution_count": 77,
   "id": "f175b5bf-a2bc-4ec0-a5df-2f070d263fda",
   "metadata": {},
   "outputs": [],
   "source": [
    "a = {1,2,3,4,5}\n",
    "b = {4,5,6,7,8}\n",
    "c = {8,9,10}"
   ]
  },
  {
   "cell_type": "code",
   "execution_count": 78,
   "id": "77ce8825-eac3-4665-b5c9-a411dd3e535b",
   "metadata": {},
   "outputs": [
    {
     "name": "stdout",
     "output_type": "stream",
     "text": [
      "{1, 2, 3, 4, 5}\n",
      "{4, 5, 6, 7, 8}\n",
      "{8, 9, 10}\n"
     ]
    }
   ],
   "source": [
    "print(a)\n",
    "print(b)\n",
    "print(c)"
   ]
  },
  {
   "cell_type": "code",
   "execution_count": 79,
   "id": "af2de562-4cee-4839-8dd7-d99b9b7af0e1",
   "metadata": {},
   "outputs": [
    {
     "data": {
      "text/plain": [
       "{1, 2, 3, 4, 5, 6, 7, 8}"
      ]
     },
     "execution_count": 79,
     "metadata": {},
     "output_type": "execute_result"
    }
   ],
   "source": [
    "a.union(b)     # It combines two sets and make new set ,and duplicate elements are removes"
   ]
  },
  {
   "cell_type": "code",
   "execution_count": 80,
   "id": "2259ca40-fdd9-4edf-8de8-6d2350f64260",
   "metadata": {},
   "outputs": [
    {
     "data": {
      "text/plain": [
       "{1, 2, 3, 4, 5, 6, 7, 8, 9, 10}"
      ]
     },
     "execution_count": 80,
     "metadata": {},
     "output_type": "execute_result"
    }
   ],
   "source": [
    "a.union(b,c)   # It combines Three sets and make new set ,and duplicate elements are removes"
   ]
  },
  {
   "cell_type": "code",
   "execution_count": 81,
   "id": "4ebe2675-44bb-430d-8d19-ce4fb312a872",
   "metadata": {},
   "outputs": [
    {
     "data": {
      "text/plain": [
       "{1, 2, 3, 4, 5, 6, 7, 8, 9, 10}"
      ]
     },
     "execution_count": 81,
     "metadata": {},
     "output_type": "execute_result"
    }
   ],
   "source": [
    "a | b | c      #  | , this is symbl of union function"
   ]
  },
  {
   "cell_type": "code",
   "execution_count": 82,
   "id": "9cd49dec-999d-43f8-ba78-3f1c674021a7",
   "metadata": {},
   "outputs": [
    {
     "name": "stdout",
     "output_type": "stream",
     "text": [
      "{1, 2, 3, 4, 5}\n",
      "{4, 5, 6, 7, 8}\n",
      "{8, 9, 10}\n"
     ]
    }
   ],
   "source": [
    "print(a)\n",
    "print(b)\n",
    "print(c)"
   ]
  },
  {
   "cell_type": "markdown",
   "id": "3751a5f5-f0ed-422e-b27a-6dab10b65ae5",
   "metadata": {},
   "source": [
    "# Intersection  &  :-\n",
    "\n",
    "    - Intersection function Symbol is &.\n",
    "\n",
    "    - Intersection function is use to find out the common element in the 2 or more sets.\n",
    "\n",
    "    - It returns a new set containing only the elements that are common to all sets\n",
    "\n",
    "    - Intersection funcion does not change original set.\n",
    "\n",
    "    - If no common elelment in the set it gives a empty set ()."
   ]
  },
  {
   "cell_type": "code",
   "execution_count": 24,
   "id": "8d28673d-d38e-4008-a36e-557e3975f8bf",
   "metadata": {},
   "outputs": [],
   "source": [
    "a = {1,2,3,4,5}\n",
    "b = {4,5,6,7,8}\n",
    "c = {8,9,10}"
   ]
  },
  {
   "cell_type": "code",
   "execution_count": 25,
   "id": "e9be1071-69b9-4cb4-9bcf-6ae81614fc8a",
   "metadata": {},
   "outputs": [
    {
     "name": "stdout",
     "output_type": "stream",
     "text": [
      "{1, 2, 3, 4, 5}\n",
      "{4, 5, 6, 7, 8}\n",
      "{8, 9, 10}\n"
     ]
    }
   ],
   "source": [
    "print(a)\n",
    "print(b)\n",
    "print(c)"
   ]
  },
  {
   "cell_type": "code",
   "execution_count": 26,
   "id": "046f55e1-ed38-4b82-8d55-0e05773bc445",
   "metadata": {},
   "outputs": [
    {
     "data": {
      "text/plain": [
       "{4, 5}"
      ]
     },
     "execution_count": 26,
     "metadata": {},
     "output_type": "execute_result"
    }
   ],
   "source": [
    "a.intersection(b)      # 4 and 5 is common element in the set(a) and set(b)."
   ]
  },
  {
   "cell_type": "code",
   "execution_count": 27,
   "id": "1c39eb41-846a-45c5-8cfc-85ce89575f34",
   "metadata": {},
   "outputs": [
    {
     "data": {
      "text/plain": [
       "{8}"
      ]
     },
     "execution_count": 27,
     "metadata": {},
     "output_type": "execute_result"
    }
   ],
   "source": [
    "b.intersection(c)   # 8 is common in the set(b) and set(c)."
   ]
  },
  {
   "cell_type": "code",
   "execution_count": 19,
   "id": "8f7b53a1-ca85-4d9d-9527-2d82ad6476ee",
   "metadata": {},
   "outputs": [
    {
     "name": "stdout",
     "output_type": "stream",
     "text": [
      "{1, 2, 3, 4, 5, 10}\n",
      "{4, 5, 6, 7, 8, 10}\n",
      "{8, 9, 10}\n"
     ]
    }
   ],
   "source": [
    "print(a)\n",
    "print(b)\n",
    "print(c)"
   ]
  },
  {
   "cell_type": "code",
   "execution_count": 28,
   "id": "bdd2cf27-7f8d-4834-98c1-7dba7d33f7b9",
   "metadata": {},
   "outputs": [
    {
     "data": {
      "text/plain": [
       "{4, 5}"
      ]
     },
     "execution_count": 28,
     "metadata": {},
     "output_type": "execute_result"
    }
   ],
   "source": [
    "a&(b)    # we use symbol of intersetion function.4 and 5 is common in a and b\n"
   ]
  },
  {
   "cell_type": "code",
   "execution_count": 29,
   "id": "b8b127dc-930c-47a4-a1a0-05b338d0ea11",
   "metadata": {},
   "outputs": [
    {
     "data": {
      "text/plain": [
       "{8}"
      ]
     },
     "execution_count": 29,
     "metadata": {},
     "output_type": "execute_result"
    }
   ],
   "source": [
    "b&c     # we use symbol of intersetion function. 8 is common in a and b"
   ]
  },
  {
   "cell_type": "code",
   "execution_count": 31,
   "id": "8adb385f-1004-4919-aaf8-078e3b4e336b",
   "metadata": {},
   "outputs": [],
   "source": [
    "x = {10,20,30,40,50}\n",
    "y = {60,70,80,90,40}\n",
    "z = {111,222,40}"
   ]
  },
  {
   "cell_type": "code",
   "execution_count": 32,
   "id": "ab231923-db85-4400-84d0-d2da38b7c0ad",
   "metadata": {},
   "outputs": [
    {
     "data": {
      "text/plain": [
       "{40}"
      ]
     },
     "execution_count": 32,
     "metadata": {},
     "output_type": "execute_result"
    }
   ],
   "source": [
    "x.intersection(y,z)    # 40 is common in all set.set(x),set(y),set(z)"
   ]
  },
  {
   "cell_type": "markdown",
   "id": "58aac95e-a3a1-4383-a76f-38cf2f52d0a1",
   "metadata": {},
   "source": [
    "# Difference  -  :-\n",
    "\n",
    "    - The symbol of difference function is minus ( - ).\n",
    "    \n",
    "    - The defference function is returs the element that are only in first set,and not in the others.\n",
    "    \n",
    "    - I does not modify the original set.\n",
    "  \n"
   ]
  },
  {
   "cell_type": "code",
   "execution_count": 33,
   "id": "943c7626-6fd4-4790-9597-4ba30aab2594",
   "metadata": {},
   "outputs": [
    {
     "name": "stdout",
     "output_type": "stream",
     "text": [
      "{1, 2, 3, 4, 5}\n",
      "{4, 5, 6, 7, 8}\n",
      "{8, 9, 10}\n"
     ]
    }
   ],
   "source": [
    "print(a)\n",
    "print(b)\n",
    "print(c)"
   ]
  },
  {
   "cell_type": "code",
   "execution_count": 34,
   "id": "bc3d44ac-e896-4bdd-99a5-aaafbfe6d642",
   "metadata": {},
   "outputs": [
    {
     "data": {
      "text/plain": [
       "{1, 2, 3}"
      ]
     },
     "execution_count": 34,
     "metadata": {},
     "output_type": "execute_result"
    }
   ],
   "source": [
    "a.difference(b)      # 1,2,3 are the element of set(a)."
   ]
  },
  {
   "cell_type": "code",
   "execution_count": 35,
   "id": "700e5bc0-81a1-4a75-9e9f-44123d55605b",
   "metadata": {},
   "outputs": [
    {
     "data": {
      "text/plain": [
       "{4, 5, 6, 7}"
      ]
     },
     "execution_count": 35,
     "metadata": {},
     "output_type": "execute_result"
    }
   ],
   "source": [
    "b.difference(c) # 4,5,6,7 are element of set(b) and set(c)"
   ]
  },
  {
   "cell_type": "code",
   "execution_count": 36,
   "id": "e483f7a5-1320-4794-9666-59320ab935eb",
   "metadata": {},
   "outputs": [
    {
     "data": {
      "text/plain": [
       "{9, 10}"
      ]
     },
     "execution_count": 36,
     "metadata": {},
     "output_type": "execute_result"
    }
   ],
   "source": [
    "c.difference(b)   # Return all elements that are in c but not in bbecause of differance function is always returns a elemet of firt set"
   ]
  },
  {
   "cell_type": "code",
   "execution_count": 37,
   "id": "56dccc95-2e2a-4535-b279-7a0de5e0fe0f",
   "metadata": {},
   "outputs": [
    {
     "data": {
      "text/plain": [
       "{1, 2, 3}"
      ]
     },
     "execution_count": 37,
     "metadata": {},
     "output_type": "execute_result"
    }
   ],
   "source": [
    "a-b  # using symbol of didderence function"
   ]
  },
  {
   "cell_type": "code",
   "execution_count": 38,
   "id": "8946e4ce-b540-4e9f-8595-a8aee8a8a528",
   "metadata": {},
   "outputs": [
    {
     "data": {
      "text/plain": [
       "{4, 5, 6, 7}"
      ]
     },
     "execution_count": 38,
     "metadata": {},
     "output_type": "execute_result"
    }
   ],
   "source": [
    "b-c   # using symbol of didderence function"
   ]
  },
  {
   "cell_type": "code",
   "execution_count": 39,
   "id": "89c826e4-d1f5-44ac-88a2-cb117bcd167e",
   "metadata": {},
   "outputs": [
    {
     "data": {
      "text/plain": [
       "{8, 9, 10}"
      ]
     },
     "execution_count": 39,
     "metadata": {},
     "output_type": "execute_result"
    }
   ],
   "source": [
    "c-a    # using symbol of didderence function"
   ]
  },
  {
   "cell_type": "code",
   "execution_count": 40,
   "id": "df71c574-ba71-4bbc-abee-b934d0f0b5e0",
   "metadata": {},
   "outputs": [
    {
     "data": {
      "text/plain": [
       "{9, 10}"
      ]
     },
     "execution_count": 40,
     "metadata": {},
     "output_type": "execute_result"
    }
   ],
   "source": [
    "c-b     # using symbol of didderence function"
   ]
  },
  {
   "cell_type": "markdown",
   "id": "13a54988-72e5-4845-b4dd-b31efb845f3c",
   "metadata": {},
   "source": [
    "# Difference_Update :-\n",
    "\n",
    "    - All common elements between the sets are removed from the original set.\n",
    "\n",
    "    - It modifies the original set in place and does not return a new set."
   ]
  },
  {
   "cell_type": "code",
   "execution_count": 80,
   "id": "7f5cb47e-7d09-475e-9bc4-2888db4ddf1f",
   "metadata": {},
   "outputs": [
    {
     "name": "stdout",
     "output_type": "stream",
     "text": [
      "{1, 2, 3}\n",
      "{4, 5, 6, 7, 8}\n",
      "{8, 9, 10}\n"
     ]
    }
   ],
   "source": [
    "print(a)\n",
    "print(b)\n",
    "print(c)"
   ]
  },
  {
   "cell_type": "code",
   "execution_count": 89,
   "id": "da98576f-f82c-4045-81bc-43f9b246977f",
   "metadata": {},
   "outputs": [
    {
     "data": {
      "text/plain": [
       "{4, 5, 6, 7}"
      ]
     },
     "execution_count": 89,
     "metadata": {},
     "output_type": "execute_result"
    }
   ],
   "source": [
    "a.difference_update(b)      # common elements are removed\n",
    "b "
   ]
  },
  {
   "cell_type": "code",
   "execution_count": 90,
   "id": "86d02773-81e1-4bac-b5d7-4efb83a583b1",
   "metadata": {},
   "outputs": [
    {
     "data": {
      "text/plain": [
       "{4, 5, 6, 7}"
      ]
     },
     "execution_count": 90,
     "metadata": {},
     "output_type": "execute_result"
    }
   ],
   "source": [
    "b.difference_update(c)\n",
    "b"
   ]
  },
  {
   "cell_type": "markdown",
   "id": "583c7274-bc7b-4d88-bdd3-0b9acbb8368a",
   "metadata": {},
   "source": [
    "# Symmetric_Difference  ^  :-\n",
    "\n",
    "    - Symbol of symmetric_differance function is   ^    .\n",
    "    - symmetric_difference function is use to print unique element . common element are not print.\n",
    "    - In short : \"Unique elements from both sets.\""
   ]
  },
  {
   "cell_type": "code",
   "execution_count": 68,
   "id": "d66b2457-ccda-46ce-ae31-817bf7abb091",
   "metadata": {},
   "outputs": [],
   "source": [
    "a = {1,2,3,4,5}\n",
    "b = {4,5,6,7,8}\n",
    "c = {8,9,10}"
   ]
  },
  {
   "cell_type": "code",
   "execution_count": 69,
   "id": "38d4e474-b81b-43cb-9498-85a9cbed18a8",
   "metadata": {},
   "outputs": [
    {
     "name": "stdout",
     "output_type": "stream",
     "text": [
      "{1, 2, 3, 4, 5}\n",
      "{4, 5, 6, 7, 8}\n",
      "{8, 9, 10}\n"
     ]
    }
   ],
   "source": [
    "print(a)\n",
    "print(b)\n",
    "print(c)"
   ]
  },
  {
   "cell_type": "code",
   "execution_count": 70,
   "id": "b6093d2d-3b5a-4576-bef2-93141ef9ee59",
   "metadata": {},
   "outputs": [
    {
     "data": {
      "text/plain": [
       "{1, 2, 3, 6, 7, 8}"
      ]
     },
     "execution_count": 70,
     "metadata": {},
     "output_type": "execute_result"
    }
   ],
   "source": [
    "a.symmetric_difference(b)    # 4 and 5 are common"
   ]
  },
  {
   "cell_type": "code",
   "execution_count": 73,
   "id": "6b014c79-2f43-46ad-b40e-4c4df2c9c4da",
   "metadata": {},
   "outputs": [
    {
     "data": {
      "text/plain": [
       "{1, 2, 3, 6, 7, 8}"
      ]
     },
     "execution_count": 73,
     "metadata": {},
     "output_type": "execute_result"
    }
   ],
   "source": [
    "a^b                    # 4 and 5 are common"
   ]
  },
  {
   "cell_type": "code",
   "execution_count": 74,
   "id": "0bcf540b-c907-4c26-9039-1fcca7c23941",
   "metadata": {},
   "outputs": [
    {
     "data": {
      "text/plain": [
       "{4, 5, 6, 7, 9, 10}"
      ]
     },
     "execution_count": 74,
     "metadata": {},
     "output_type": "execute_result"
    }
   ],
   "source": [
    "b^c            # 8 common"
   ]
  },
  {
   "cell_type": "markdown",
   "id": "ec19df6b-a0ff-455e-8c4b-6a7fc4d98c60",
   "metadata": {},
   "source": [
    "# Superset , Subset , Disjoint"
   ]
  },
  {
   "cell_type": "markdown",
   "id": "580048e8-d59d-430c-b00e-ed096412d7b9",
   "metadata": {},
   "source": [
    "# 1) Superset :-"
   ]
  },
  {
   "cell_type": "code",
   "execution_count": 7,
   "id": "bc849ff4-22e4-47b1-8250-1be688f76bed",
   "metadata": {},
   "outputs": [],
   "source": [
    "a = {1,2,3,4,5,6,7,8,9}\n",
    "b = {3,4,5,6,7,8}\n",
    "c = {10,20,30,40,50}"
   ]
  },
  {
   "cell_type": "code",
   "execution_count": 9,
   "id": "73454268-7b09-40a8-bef8-577a457b48a8",
   "metadata": {},
   "outputs": [
    {
     "name": "stdout",
     "output_type": "stream",
     "text": [
      "{1, 2, 3, 4, 5, 6, 7, 8, 9}\n",
      "{3, 4, 5, 6, 7, 8}\n",
      "{50, 20, 40, 10, 30}\n"
     ]
    }
   ],
   "source": [
    "print(a)\n",
    "print(b)\n",
    "print(c)"
   ]
  },
  {
   "cell_type": "code",
   "execution_count": 11,
   "id": "51923d51-9a66-4de8-b74a-02a455936e62",
   "metadata": {},
   "outputs": [
    {
     "data": {
      "text/plain": [
       "True"
      ]
     },
     "execution_count": 11,
     "metadata": {},
     "output_type": "execute_result"
    }
   ],
   "source": [
    "a.issuperset(b)  # a is superset of b , because of b is cotaining all element of the a.\n",
    "                 # and return the boolean value (True , False)\n",
    "                # therefore: a is superset of b"
   ]
  },
  {
   "cell_type": "code",
   "execution_count": 12,
   "id": "c6f0340e-9290-4b43-9810-0a4c539302a7",
   "metadata": {},
   "outputs": [
    {
     "data": {
      "text/plain": [
       "False"
      ]
     },
     "execution_count": 12,
     "metadata": {},
     "output_type": "execute_result"
    }
   ],
   "source": [
    "a.issuperset(c) # c is not containing elements a . so it gives False"
   ]
  },
  {
   "cell_type": "code",
   "execution_count": 14,
   "id": "f87a3e09-458b-40f3-8aae-51630aaf653b",
   "metadata": {},
   "outputs": [
    {
     "data": {
      "text/plain": [
       "False"
      ]
     },
     "execution_count": 14,
     "metadata": {},
     "output_type": "execute_result"
    }
   ],
   "source": [
    "b.issuperset(a)        # a is not containing the elements b"
   ]
  },
  {
   "cell_type": "code",
   "execution_count": 15,
   "id": "36359555-35f6-4f15-b1b9-39406fba7abb",
   "metadata": {},
   "outputs": [
    {
     "data": {
      "text/plain": [
       "False"
      ]
     },
     "execution_count": 15,
     "metadata": {},
     "output_type": "execute_result"
    }
   ],
   "source": [
    "b.issuperset(c) # also b is not containt the elements of c"
   ]
  },
  {
   "cell_type": "code",
   "execution_count": 41,
   "id": "b01beda8-ef30-4dd5-9d69-a2bb7e5a1f78",
   "metadata": {},
   "outputs": [
    {
     "data": {
      "text/plain": [
       "False"
      ]
     },
     "execution_count": 41,
     "metadata": {},
     "output_type": "execute_result"
    }
   ],
   "source": [
    "c.issuperset(a)   # c is not containing the elements a"
   ]
  },
  {
   "cell_type": "code",
   "execution_count": 43,
   "id": "21ef34d5-a6e5-49b4-a679-3e573b7d16e1",
   "metadata": {},
   "outputs": [
    {
     "data": {
      "text/plain": [
       "False"
      ]
     },
     "execution_count": 43,
     "metadata": {},
     "output_type": "execute_result"
    }
   ],
   "source": [
    "c.issuperset(b)    # c is not containing the elements b"
   ]
  },
  {
   "cell_type": "markdown",
   "id": "cbbe42b2-c42f-4e7b-9c87-0e313beac7b6",
   "metadata": {},
   "source": [
    "# 2) Subset :-"
   ]
  },
  {
   "cell_type": "code",
   "execution_count": 16,
   "id": "6351d191-10f8-4022-b503-59f0decef835",
   "metadata": {},
   "outputs": [],
   "source": [
    "a = {1,2,3,4,5,6,7,8,9}\n",
    "b = {3,4,5,6,7,8}\n",
    "c = {10,20,30,40,50}"
   ]
  },
  {
   "cell_type": "code",
   "execution_count": 17,
   "id": "b8f13c47-b50d-41dd-9859-42a0a874fcca",
   "metadata": {},
   "outputs": [
    {
     "name": "stdout",
     "output_type": "stream",
     "text": [
      "{1, 2, 3, 4, 5, 6, 7, 8, 9}\n",
      "{3, 4, 5, 6, 7, 8}\n",
      "{50, 20, 40, 10, 30}\n"
     ]
    }
   ],
   "source": [
    "print(a)\n",
    "print(b)\n",
    "print(c)"
   ]
  },
  {
   "cell_type": "code",
   "execution_count": 18,
   "id": "8a704343-da28-4ac6-87da-d39da06151d0",
   "metadata": {},
   "outputs": [
    {
     "data": {
      "text/plain": [
       "False"
      ]
     },
     "execution_count": 18,
     "metadata": {},
     "output_type": "execute_result"
    }
   ],
   "source": [
    "a.issubset(b) # set a is not a subset of set b"
   ]
  },
  {
   "cell_type": "code",
   "execution_count": 22,
   "id": "2ced21ff-ca7f-4e71-9e46-44168cf9efb9",
   "metadata": {},
   "outputs": [
    {
     "data": {
      "text/plain": [
       "False"
      ]
     },
     "execution_count": 22,
     "metadata": {},
     "output_type": "execute_result"
    }
   ],
   "source": [
    "a.issubset(c)  # set a is not a subset of set c"
   ]
  },
  {
   "cell_type": "code",
   "execution_count": 19,
   "id": "a40fd1a2-5666-4003-a8af-745de7de6d6d",
   "metadata": {},
   "outputs": [
    {
     "data": {
      "text/plain": [
       "True"
      ]
     },
     "execution_count": 19,
     "metadata": {},
     "output_type": "execute_result"
    }
   ],
   "source": [
    "b.issubset(a)     # set b is a subset of set a"
   ]
  },
  {
   "cell_type": "code",
   "execution_count": 23,
   "id": "4b017a01-b97d-46f3-ae64-9601eef46032",
   "metadata": {},
   "outputs": [
    {
     "data": {
      "text/plain": [
       "False"
      ]
     },
     "execution_count": 23,
     "metadata": {},
     "output_type": "execute_result"
    }
   ],
   "source": [
    "b.issubset(c)    # set b is not a subset of set c"
   ]
  },
  {
   "cell_type": "code",
   "execution_count": 20,
   "id": "fb0bf677-9347-47de-b7e4-ce6c747c3278",
   "metadata": {},
   "outputs": [
    {
     "data": {
      "text/plain": [
       "False"
      ]
     },
     "execution_count": 20,
     "metadata": {},
     "output_type": "execute_result"
    }
   ],
   "source": [
    "c.issubset(a)   # set c is not a subset of set a"
   ]
  },
  {
   "cell_type": "code",
   "execution_count": 21,
   "id": "18d2e14b-719f-4203-a987-12e3dd38428c",
   "metadata": {},
   "outputs": [
    {
     "data": {
      "text/plain": [
       "False"
      ]
     },
     "execution_count": 21,
     "metadata": {},
     "output_type": "execute_result"
    }
   ],
   "source": [
    "c.issubset(b)    # set c is not a subset of set b"
   ]
  },
  {
   "cell_type": "markdown",
   "id": "a1f6bc33-ca1b-4f5f-8195-71d23a4b1232",
   "metadata": {},
   "source": [
    "# Disjoint :-"
   ]
  },
  {
   "cell_type": "code",
   "execution_count": null,
   "id": "49fe799c-886a-4831-9efd-3738f49288ce",
   "metadata": {},
   "outputs": [],
   "source": [
    "a = {1,2,3,4,5,6,7,8,9}\n",
    "b = {3,4,5,6,7,8}\n",
    "c = {10,20,30,40,50}"
   ]
  },
  {
   "cell_type": "code",
   "execution_count": 24,
   "id": "4f1fc5f7-c480-4af0-b6c4-140b4f2bc4ff",
   "metadata": {},
   "outputs": [
    {
     "name": "stdout",
     "output_type": "stream",
     "text": [
      "{1, 2, 3, 4, 5, 6, 7, 8, 9}\n",
      "{3, 4, 5, 6, 7, 8}\n",
      "{50, 20, 40, 10, 30}\n"
     ]
    }
   ],
   "source": [
    "print(a)\n",
    "print(b)\n",
    "print(c)"
   ]
  },
  {
   "cell_type": "code",
   "execution_count": 25,
   "id": "25ef128d-cf9e-4d31-871a-50f8f16a35f3",
   "metadata": {},
   "outputs": [
    {
     "data": {
      "text/plain": [
       "False"
      ]
     },
     "execution_count": 25,
     "metadata": {},
     "output_type": "execute_result"
    }
   ],
   "source": [
    "a.isdisjoint(b)  # Two sets are said to be disjoint sets if they have no common element\n",
    "                 # So, not disjoint"
   ]
  },
  {
   "cell_type": "code",
   "execution_count": 26,
   "id": "553d207f-fc39-4b79-bcb8-fc4b380c8b51",
   "metadata": {},
   "outputs": [
    {
     "data": {
      "text/plain": [
       "True"
      ]
     },
     "execution_count": 26,
     "metadata": {},
     "output_type": "execute_result"
    }
   ],
   "source": [
    "a.isdisjoint(c)  # Two sets are said to be disjoint sets if they have no common e\n",
    "                # So, they are disjoint"
   ]
  },
  {
   "cell_type": "code",
   "execution_count": 27,
   "id": "49b4fc70-dc88-46c5-a66d-8993986409ab",
   "metadata": {},
   "outputs": [
    {
     "data": {
      "text/plain": [
       "False"
      ]
     },
     "execution_count": 27,
     "metadata": {},
     "output_type": "execute_result"
    }
   ],
   "source": [
    "b.isdisjoint(a)   # Two sets are said to be disjoint sets if they have no common element\n",
    "                    #  # So, they are not disjoint"
   ]
  },
  {
   "cell_type": "code",
   "execution_count": 28,
   "id": "39aa1e8c-67da-43a0-a5c7-dab2516388c5",
   "metadata": {},
   "outputs": [
    {
     "data": {
      "text/plain": [
       "True"
      ]
     },
     "execution_count": 28,
     "metadata": {},
     "output_type": "execute_result"
    }
   ],
   "source": [
    "b.isdisjoint(c)      # So, they are disjoint"
   ]
  },
  {
   "cell_type": "code",
   "execution_count": 29,
   "id": "d147d240-665d-4d79-9fe5-6be2d571a9ea",
   "metadata": {},
   "outputs": [
    {
     "data": {
      "text/plain": [
       "True"
      ]
     },
     "execution_count": 29,
     "metadata": {},
     "output_type": "execute_result"
    }
   ],
   "source": [
    "c.isdisjoint(a)        # So, they are disjoint"
   ]
  },
  {
   "cell_type": "code",
   "execution_count": 30,
   "id": "dade767e-b8c9-4e61-96ff-cc56d5e5dfd1",
   "metadata": {},
   "outputs": [
    {
     "data": {
      "text/plain": [
       "True"
      ]
     },
     "execution_count": 30,
     "metadata": {},
     "output_type": "execute_result"
    }
   ],
   "source": [
    "c.isdisjoint(b)        # So, they are disjoint"
   ]
  },
  {
   "cell_type": "markdown",
   "id": "9cdf2e25-ea86-468d-9b80-dd5cbcadd6f7",
   "metadata": {},
   "source": [
    "# Other builtin function :-\n",
    "\n",
    "    - sum     ----->          print(sum)\n",
    "    - max     ----->          print(max)\n",
    "    - min     ----->          print(min)\n",
    "    - len     ----->          print(len)\n",
    "    - set(enumerate)\n",
    "    - sorted  ----->          print(accending order)\n",
    "    - sorte(reverse=True) --> print(decending order)"
   ]
  },
  {
   "cell_type": "code",
   "execution_count": 31,
   "id": "5cd3a0c5-92a9-4f1b-b613-f841959d2658",
   "metadata": {},
   "outputs": [
    {
     "data": {
      "text/plain": [
       "{1, 2, 3, 4, 5, 6, 7, 8, 9}"
      ]
     },
     "execution_count": 31,
     "metadata": {},
     "output_type": "execute_result"
    }
   ],
   "source": [
    "a = {1,2,3,4,5,6,7,8,9}\n",
    "a"
   ]
  },
  {
   "cell_type": "code",
   "execution_count": 32,
   "id": "ab8f2fc3-5503-4915-b143-f3b3c014e144",
   "metadata": {},
   "outputs": [
    {
     "data": {
      "text/plain": [
       "45"
      ]
     },
     "execution_count": 32,
     "metadata": {},
     "output_type": "execute_result"
    }
   ],
   "source": [
    "sum(a)    # total = sum"
   ]
  },
  {
   "cell_type": "code",
   "execution_count": 33,
   "id": "72c69dba-47a0-4230-982c-e4f34a67e2c0",
   "metadata": {},
   "outputs": [
    {
     "data": {
      "text/plain": [
       "9"
      ]
     },
     "execution_count": 33,
     "metadata": {},
     "output_type": "execute_result"
    }
   ],
   "source": [
    "max(a)   # maximum number"
   ]
  },
  {
   "cell_type": "code",
   "execution_count": 34,
   "id": "f15197e7-04f5-4cfe-a515-6513861895ae",
   "metadata": {},
   "outputs": [
    {
     "data": {
      "text/plain": [
       "1"
      ]
     },
     "execution_count": 34,
     "metadata": {},
     "output_type": "execute_result"
    }
   ],
   "source": [
    "min(a)   # minimum number"
   ]
  },
  {
   "cell_type": "code",
   "execution_count": 35,
   "id": "7328bfab-1b58-458e-89c4-2fcd19519314",
   "metadata": {},
   "outputs": [
    {
     "data": {
      "text/plain": [
       "9"
      ]
     },
     "execution_count": 35,
     "metadata": {},
     "output_type": "execute_result"
    }
   ],
   "source": [
    "len(a)      # length of a"
   ]
  },
  {
   "cell_type": "code",
   "execution_count": 36,
   "id": "3ac9587e-745d-43eb-b2a8-58f03acf538b",
   "metadata": {},
   "outputs": [
    {
     "data": {
      "text/plain": [
       "{(0, 1), (1, 2), (2, 3), (3, 4), (4, 5), (5, 6), (6, 7), (7, 8), (8, 9)}"
      ]
     },
     "execution_count": 36,
     "metadata": {},
     "output_type": "execute_result"
    }
   ],
   "source": [
    "set(enumerate(a))   # gives element with values"
   ]
  },
  {
   "cell_type": "code",
   "execution_count": 37,
   "id": "912d6375-4422-4c2e-aca3-08d1bed64fcb",
   "metadata": {},
   "outputs": [],
   "source": [
    "d = sorted(a)   # in acending ordered"
   ]
  },
  {
   "cell_type": "code",
   "execution_count": 38,
   "id": "d8476963-412d-496a-b74d-f55a8c60fb9d",
   "metadata": {},
   "outputs": [
    {
     "data": {
      "text/plain": [
       "[1, 2, 3, 4, 5, 6, 7, 8, 9]"
      ]
     },
     "execution_count": 38,
     "metadata": {},
     "output_type": "execute_result"
    }
   ],
   "source": [
    "d"
   ]
  },
  {
   "cell_type": "code",
   "execution_count": 39,
   "id": "c8e57aae-0f8f-44b6-bf12-4d3113300f0c",
   "metadata": {},
   "outputs": [],
   "source": [
    "d = sorted(a,reverse=True)      # decending ordered"
   ]
  },
  {
   "cell_type": "code",
   "execution_count": 40,
   "id": "616abeb6-2643-47ed-9687-746703b05dca",
   "metadata": {},
   "outputs": [
    {
     "data": {
      "text/plain": [
       "[9, 8, 7, 6, 5, 4, 3, 2, 1]"
      ]
     },
     "execution_count": 40,
     "metadata": {},
     "output_type": "execute_result"
    }
   ],
   "source": [
    "d"
   ]
  },
  {
   "cell_type": "code",
   "execution_count": null,
   "id": "467e2830-6364-422f-abe6-127d01b4256f",
   "metadata": {},
   "outputs": [],
   "source": []
  }
 ],
 "metadata": {
  "kernelspec": {
   "display_name": "Python 3 (ipykernel)",
   "language": "python",
   "name": "python3"
  },
  "language_info": {
   "codemirror_mode": {
    "name": "ipython",
    "version": 3
   },
   "file_extension": ".py",
   "mimetype": "text/x-python",
   "name": "python",
   "nbconvert_exporter": "python",
   "pygments_lexer": "ipython3",
   "version": "3.13.5"
  }
 },
 "nbformat": 4,
 "nbformat_minor": 5
}
