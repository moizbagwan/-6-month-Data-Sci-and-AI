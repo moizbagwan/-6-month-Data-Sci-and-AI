{
 "cells": [
  {
   "cell_type": "markdown",
   "id": "52c7d9e8-8afb-4297-897e-55dc8f7bc3db",
   "metadata": {},
   "source": [
    "# Indexing In Python\n",
    "\n",
    "    (i) - Forward Indexing\n",
    "    (ii) - Backward Indexing\n",
    "    (iii) - Step Indexing\n",
    "\n",
    "- Indexing in python Left to Right is started from zero (0) . ex. 0,1,2,3,4,5,and so on.... is called Farward Indexing.\n",
    "- And Right to left is Starts from -1, -2, -3, -4, -5, and so on .... is called Backward Indexing.\n",
    "\n",
    "\n",
    "        FORWARD INDEXING =     0    1    2    3    4\n",
    "                               H    E    L    L    O\n",
    "        BACKEARD iNDEXING =   -5   -4   -3   -2   -1\n",
    "\n",
    "        Formula : (n - 1)\n"
   ]
  },
  {
   "cell_type": "markdown",
   "id": "b3f693f9-4141-416a-bbfc-12d63f2e1fde",
   "metadata": {},
   "source": [
    "# String Indexing"
   ]
  },
  {
   "cell_type": "code",
   "execution_count": 1,
   "id": "bdc8f46e-6f3a-458e-bb83-bdb83929d666",
   "metadata": {},
   "outputs": [
    {
     "data": {
      "text/plain": [
       "'Good Morning'"
      ]
     },
     "execution_count": 1,
     "metadata": {},
     "output_type": "execute_result"
    }
   ],
   "source": [
    "s = (\"Good Morning\")\n",
    "s"
   ]
  },
  {
   "cell_type": "code",
   "execution_count": 48,
   "id": "85b80942-2709-451f-bf21-659020dcfbe4",
   "metadata": {},
   "outputs": [
    {
     "data": {
      "text/plain": [
       "12"
      ]
     },
     "execution_count": 48,
     "metadata": {},
     "output_type": "execute_result"
    }
   ],
   "source": [
    "len(s)           # length of s"
   ]
  },
  {
   "cell_type": "code",
   "execution_count": 49,
   "id": "4200657d-8f17-4cd2-b252-1e4c36c7a6a0",
   "metadata": {},
   "outputs": [
    {
     "data": {
      "text/plain": [
       "1635645971056"
      ]
     },
     "execution_count": 49,
     "metadata": {},
     "output_type": "execute_result"
    }
   ],
   "source": [
    "id(s)           # Address of s"
   ]
  },
  {
   "cell_type": "code",
   "execution_count": 5,
   "id": "f25f7782-7c38-4c25-9f0c-623535922789",
   "metadata": {},
   "outputs": [
    {
     "data": {
      "text/plain": [
       "'G'"
      ]
     },
     "execution_count": 5,
     "metadata": {},
     "output_type": "execute_result"
    }
   ],
   "source": [
    "s[0]           # 0th index of s"
   ]
  },
  {
   "cell_type": "code",
   "execution_count": 6,
   "id": "89d43ac8-e867-4324-b75a-abd9940e3ea8",
   "metadata": {},
   "outputs": [
    {
     "data": {
      "text/plain": [
       "'o'"
      ]
     },
     "execution_count": 6,
     "metadata": {},
     "output_type": "execute_result"
    }
   ],
   "source": [
    "s[6]          # positive indexing"
   ]
  },
  {
   "cell_type": "code",
   "execution_count": 7,
   "id": "bdac0f52-1d4c-4624-97a9-0faa45d9a365",
   "metadata": {},
   "outputs": [
    {
     "data": {
      "text/plain": [
       "'M'"
      ]
     },
     "execution_count": 7,
     "metadata": {},
     "output_type": "execute_result"
    }
   ],
   "source": [
    "s[5]          # 5th index of s and positive indexing"
   ]
  },
  {
   "cell_type": "code",
   "execution_count": 9,
   "id": "80b7de4e-1b5a-459b-a02c-0ec7cf29ee79",
   "metadata": {},
   "outputs": [
    {
     "name": "stdout",
     "output_type": "stream",
     "text": [
      "G\n",
      "o\n",
      "o\n",
      "d\n",
      " \n"
     ]
    }
   ],
   "source": [
    "print(s[0])\n",
    "print(s[1])\n",
    "print(s[2])       # positive indexing\n",
    "print(s[3])\n",
    "print(s[4])"
   ]
  },
  {
   "cell_type": "code",
   "execution_count": 11,
   "id": "eb2d572b-2139-4f58-9ffa-56ef45c6b67c",
   "metadata": {},
   "outputs": [
    {
     "name": "stdout",
     "output_type": "stream",
     "text": [
      "M\n",
      "o\n",
      "r\n",
      "n\n",
      "i\n",
      "n\n",
      "g\n"
     ]
    }
   ],
   "source": [
    "print(s[5])\n",
    "print(s[6])\n",
    "print(s[7])\n",
    "print(s[8])       # positive indexing\n",
    "print(s[9])\n",
    "print(s[10])\n",
    "print(s[11])      "
   ]
  },
  {
   "cell_type": "code",
   "execution_count": 12,
   "id": "215e8416-734a-43ed-94eb-bc80d954ece7",
   "metadata": {},
   "outputs": [
    {
     "ename": "IndexError",
     "evalue": "string index out of range",
     "output_type": "error",
     "traceback": [
      "\u001b[31m---------------------------------------------------------------------------\u001b[39m",
      "\u001b[31mIndexError\u001b[39m                                Traceback (most recent call last)",
      "\u001b[36mCell\u001b[39m\u001b[36m \u001b[39m\u001b[32mIn[12]\u001b[39m\u001b[32m, line 1\u001b[39m\n\u001b[32m----> \u001b[39m\u001b[32m1\u001b[39m \u001b[38;5;28mprint\u001b[39m(\u001b[43ms\u001b[49m\u001b[43m[\u001b[49m\u001b[32;43m15\u001b[39;49m\u001b[43m]\u001b[49m)\n",
      "\u001b[31mIndexError\u001b[39m: string index out of range"
     ]
    }
   ],
   "source": [
    "print(s[15])        # out of range because the indexing ends at s[11] ."
   ]
  },
  {
   "cell_type": "code",
   "execution_count": 14,
   "id": "41b36587-109c-4154-841f-868a74ae694b",
   "metadata": {},
   "outputs": [
    {
     "data": {
      "text/plain": [
       "'g'"
      ]
     },
     "execution_count": 14,
     "metadata": {},
     "output_type": "execute_result"
    }
   ],
   "source": [
    "s[-1]              # Negativwe indexing."
   ]
  },
  {
   "cell_type": "code",
   "execution_count": 15,
   "id": "c98f600c-a0b0-4ad3-ae42-5bd5fc1be2bc",
   "metadata": {},
   "outputs": [
    {
     "data": {
      "text/plain": [
       "'i'"
      ]
     },
     "execution_count": 15,
     "metadata": {},
     "output_type": "execute_result"
    }
   ],
   "source": [
    "s[-3]              # Negativwe indexing."
   ]
  },
  {
   "cell_type": "markdown",
   "id": "1cb499a6-7294-42ab-b53b-2be5d065e293",
   "metadata": {},
   "source": [
    "# String Slicing\n",
    "\n",
    "    - Accending part of a String.\n",
    "    - String slicing means cutting out a part of a string. In Python, strings are like a series of characters placed in order. \n",
    "    - Each character has a position, called an index, starting from 0.\n",
    "    - start = the index where slicing begins (included)\n",
    "    - end = the index where slicing stops (not included)\n",
    "    - Explanation: It starts from index 1 (H) and goes up to index 5 (M), but doesn't include index 8 (N). Ending Index not Included.(n-1)"
   ]
  },
  {
   "cell_type": "code",
   "execution_count": 34,
   "id": "3fec5a22-18b7-44d1-b0fd-f21ef9c64e4d",
   "metadata": {},
   "outputs": [
    {
     "data": {
      "text/plain": [
       "'Good Morning'"
      ]
     },
     "execution_count": 34,
     "metadata": {},
     "output_type": "execute_result"
    }
   ],
   "source": [
    "s = (\"Good Morning\")\n",
    "s"
   ]
  },
  {
   "cell_type": "code",
   "execution_count": 35,
   "id": "3c1a33a8-636f-45d6-9fc0-4dc2e831db60",
   "metadata": {},
   "outputs": [
    {
     "data": {
      "text/plain": [
       "'Good Morning'"
      ]
     },
     "execution_count": 35,
     "metadata": {},
     "output_type": "execute_result"
    }
   ],
   "source": [
    "s[:]                  # empty index means python Autometically detect the indexing number"
   ]
  },
  {
   "cell_type": "code",
   "execution_count": 36,
   "id": "32d3fa2b-3ac0-497c-8bc8-8699f528a8ff",
   "metadata": {},
   "outputs": [
    {
     "data": {
      "text/plain": [
       "'ood'"
      ]
     },
     "execution_count": 36,
     "metadata": {},
     "output_type": "execute_result"
    }
   ],
   "source": [
    "s[1 : 4]              # slicing start with index 1 and end with index 4 , but index 4 (ending index) is not included.(n-1) Forward slicing.\n",
    "                      #   (Left to Right)"
   ]
  },
  {
   "cell_type": "code",
   "execution_count": 39,
   "id": "7e4dd165-574d-46f9-87c6-f7e173049b59",
   "metadata": {},
   "outputs": [
    {
     "data": {
      "text/plain": [
       "'Mor'"
      ]
     },
     "execution_count": 39,
     "metadata": {},
     "output_type": "execute_result"
    }
   ],
   "source": [
    "s[5 : 8]              # slicing start with index 5 and end with index 8 , but index 8 (ending index) is not included.(n-1) Forward slicing.\n",
    "                      #   (Left to Right)"
   ]
  },
  {
   "cell_type": "code",
   "execution_count": 40,
   "id": "2169f302-054b-4077-82c4-fa5f46436497",
   "metadata": {},
   "outputs": [
    {
     "data": {
      "text/plain": [
       "'Morn'"
      ]
     },
     "execution_count": 40,
     "metadata": {},
     "output_type": "execute_result"
    }
   ],
   "source": [
    "s[5 : 9]              # slicing start with index 5 and end with index 9 , but index 9 (ending index) is not included.(n-1) Forward slicing.\n",
    "                      #   (Left to Right)"
   ]
  },
  {
   "cell_type": "code",
   "execution_count": 41,
   "id": "30279dfd-f6bb-46bc-99ee-e558e8f7eca5",
   "metadata": {},
   "outputs": [
    {
     "data": {
      "text/plain": [
       "'Morni'"
      ]
     },
     "execution_count": 41,
     "metadata": {},
     "output_type": "execute_result"
    }
   ],
   "source": [
    "s[5 : 10]             # slicing start with index 5 and end with index 10 , but index 10 (ending index) is not included.(n-1) Forward slicing.\n",
    "                      #   (Left to Right)"
   ]
  },
  {
   "cell_type": "code",
   "execution_count": 42,
   "id": "7f286cfb-5800-4375-8756-1347491f998d",
   "metadata": {},
   "outputs": [
    {
     "data": {
      "text/plain": [
       "'Morning'"
      ]
     },
     "execution_count": 42,
     "metadata": {},
     "output_type": "execute_result"
    }
   ],
   "source": [
    "s[5 : 13]            # slicing start with index 5 and end with index 13 , but index 13 (ending index) is not included.(n-1) Forward slicing.\n",
    "                     #   (Left to Right)"
   ]
  },
  {
   "cell_type": "code",
   "execution_count": 44,
   "id": "369d107d-4b95-477c-bd8c-a35b292ba4c1",
   "metadata": {},
   "outputs": [
    {
     "data": {
      "text/plain": [
       "'Good Morning'"
      ]
     },
     "execution_count": 44,
     "metadata": {},
     "output_type": "execute_result"
    }
   ],
   "source": [
    "s"
   ]
  },
  {
   "cell_type": "code",
   "execution_count": 46,
   "id": "0efb4710-e9e7-4628-a7be-f1166a66ea27",
   "metadata": {},
   "outputs": [
    {
     "data": {
      "text/plain": [
       "'g'"
      ]
     },
     "execution_count": 46,
     "metadata": {},
     "output_type": "execute_result"
    }
   ],
   "source": [
    "s[-1]              # Nigative Slicing. (Right to left)"
   ]
  },
  {
   "cell_type": "code",
   "execution_count": 53,
   "id": "1a83fb37-2be4-4b42-9bc1-6f239f029ab1",
   "metadata": {},
   "outputs": [
    {
     "data": {
      "text/plain": [
       "'n'"
      ]
     },
     "execution_count": 53,
     "metadata": {},
     "output_type": "execute_result"
    }
   ],
   "source": [
    "s[-2 : -1]         # Nigative Slicing.  (Right to left)"
   ]
  },
  {
   "cell_type": "code",
   "execution_count": 55,
   "id": "7f846ac7-4ad8-4c8f-a6cc-c615cc45a2e4",
   "metadata": {},
   "outputs": [
    {
     "data": {
      "text/plain": [
       "'Mornin'"
      ]
     },
     "execution_count": 55,
     "metadata": {},
     "output_type": "execute_result"
    }
   ],
   "source": [
    "s[-7 : -1]         # Nigative Slicing.  (Right to left)"
   ]
  },
  {
   "cell_type": "code",
   "execution_count": 56,
   "id": "3cac15b6-bfa0-4d5f-8909-687d4c30f4c9",
   "metadata": {},
   "outputs": [
    {
     "data": {
      "text/plain": [
       "'Good Mornin'"
      ]
     },
     "execution_count": 56,
     "metadata": {},
     "output_type": "execute_result"
    }
   ],
   "source": [
    "s[-12 : -1]        # Nigative Slicing.  (Right to left)"
   ]
  },
  {
   "cell_type": "markdown",
   "id": "4e1676df-3b1b-4076-a640-49c2ff176f7c",
   "metadata": {},
   "source": [
    "# Update & Delete String"
   ]
  },
  {
   "cell_type": "code",
   "execution_count": 8,
   "id": "afd326b5-0e72-4a90-b5c9-cabf02555298",
   "metadata": {},
   "outputs": [],
   "source": [
    "s = (\"Good Morning\")"
   ]
  },
  {
   "cell_type": "code",
   "execution_count": 9,
   "id": "91f30e6f-a8f6-495e-8f1f-7a55d9b44bc8",
   "metadata": {},
   "outputs": [
    {
     "data": {
      "text/plain": [
       "'Good Morning'"
      ]
     },
     "execution_count": 9,
     "metadata": {},
     "output_type": "execute_result"
    }
   ],
   "source": [
    "s"
   ]
  },
  {
   "cell_type": "code",
   "execution_count": 10,
   "id": "e5e0b480-0007-47ed-b1a6-603e4b19ecaa",
   "metadata": {},
   "outputs": [
    {
     "data": {
      "text/plain": [
       "'Good'"
      ]
     },
     "execution_count": 10,
     "metadata": {},
     "output_type": "execute_result"
    }
   ],
   "source": [
    "s[0 : 4]     # slicing"
   ]
  },
  {
   "cell_type": "code",
   "execution_count": 11,
   "id": "42ba276b-fbb5-4b5e-afe2-64a310554068",
   "metadata": {},
   "outputs": [
    {
     "ename": "TypeError",
     "evalue": "'str' object does not support item assignment",
     "output_type": "error",
     "traceback": [
      "\u001b[31m---------------------------------------------------------------------------\u001b[39m",
      "\u001b[31mTypeError\u001b[39m                                 Traceback (most recent call last)",
      "\u001b[36mCell\u001b[39m\u001b[36m \u001b[39m\u001b[32mIn[11]\u001b[39m\u001b[32m, line 1\u001b[39m\n\u001b[32m----> \u001b[39m\u001b[32m1\u001b[39m \u001b[43ms\u001b[49m\u001b[43m[\u001b[49m\u001b[32;43m0\u001b[39;49m\u001b[43m \u001b[49m\u001b[43m:\u001b[49m\u001b[43m \u001b[49m\u001b[32;43m4\u001b[39;49m\u001b[43m]\u001b[49m = \u001b[33m'\u001b[39m\u001b[33mBad\u001b[39m\u001b[33m'\u001b[39m\n",
      "\u001b[31mTypeError\u001b[39m: 'str' object does not support item assignment"
     ]
    }
   ],
   "source": [
    "s[0 : 4] = 'Bad'   # Srings are Immutable (not changable)"
   ]
  },
  {
   "cell_type": "code",
   "execution_count": 20,
   "id": "468a26a2-51bb-462b-9ae4-f188ce57a22e",
   "metadata": {},
   "outputs": [],
   "source": [
    "s = (\"Good Morning\")"
   ]
  },
  {
   "cell_type": "code",
   "execution_count": 21,
   "id": "c022643f-0479-401d-94ee-ab0dc6f7345e",
   "metadata": {},
   "outputs": [
    {
     "data": {
      "text/plain": [
       "'Good Morning'"
      ]
     },
     "execution_count": 21,
     "metadata": {},
     "output_type": "execute_result"
    }
   ],
   "source": [
    "s"
   ]
  },
  {
   "cell_type": "code",
   "execution_count": null,
   "id": "b47ec92d-7b62-4cc1-abe9-a8f61328396e",
   "metadata": {},
   "outputs": [],
   "source": [
    "del s                    # Delete a string \n",
    "print(s)         # strings are immutable"
   ]
  },
  {
   "cell_type": "markdown",
   "id": "68aeff12-dafc-4b78-b5e2-f1e47c1769ac",
   "metadata": {},
   "source": [
    "# String Concatenation"
   ]
  },
  {
   "cell_type": "code",
   "execution_count": 23,
   "id": "3221bf5e-a85d-41d7-bef8-6487b408e8aa",
   "metadata": {},
   "outputs": [
    {
     "name": "stdout",
     "output_type": "stream",
     "text": [
      "HelleMoiz\n"
     ]
    }
   ],
   "source": [
    "a = \"Helle\"\n",
    "b = \"Moiz\"     # string concatenation\n",
    "c = a + b\n",
    "print(c)"
   ]
  },
  {
   "cell_type": "code",
   "execution_count": null,
   "id": "367de753-b6bb-4be5-84e8-89106d05261b",
   "metadata": {},
   "outputs": [],
   "source": []
  }
 ],
 "metadata": {
  "kernelspec": {
   "display_name": "Python 3 (ipykernel)",
   "language": "python",
   "name": "python3"
  },
  "language_info": {
   "codemirror_mode": {
    "name": "ipython",
    "version": 3
   },
   "file_extension": ".py",
   "mimetype": "text/x-python",
   "name": "python",
   "nbconvert_exporter": "python",
   "pygments_lexer": "ipython3",
   "version": "3.13.5"
  }
 },
 "nbformat": 4,
 "nbformat_minor": 5
}
