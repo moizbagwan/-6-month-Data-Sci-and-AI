{
 "cells": [
  {
   "cell_type": "markdown",
   "id": "f2e85fde-58d6-4e75-bd94-c1b75199cd1c",
   "metadata": {},
   "source": [
    "# Input Function()\n",
    "\n",
    "    - In Python, the input() function is used to take input from the user via the keyboard. When input() is called, the program waits for the user to type something and press Enter. Whatever the user types is returned as a string.\n",
    "    \n",
    "    - Syntax : variable = input(\"Enter something: \")\n",
    "\n",
    "    - The string inside input() (e.g., \"Enter something: \") is called the prompt — it shows a message to the user.\n",
    "    - The input from the user is stored as a string in variable.\n"
   ]
  },
  {
   "cell_type": "code",
   "execution_count": 1,
   "id": "00cd64bd-4364-4670-989a-bff59c839148",
   "metadata": {},
   "outputs": [
    {
     "name": "stdin",
     "output_type": "stream",
     "text": [
      " hii\n"
     ]
    },
    {
     "data": {
      "text/plain": [
       "'hii'"
      ]
     },
     "execution_count": 1,
     "metadata": {},
     "output_type": "execute_result"
    }
   ],
   "source": [
    "a = input()        # Input From the user\n",
    "a"
   ]
  },
  {
   "cell_type": "code",
   "execution_count": 2,
   "id": "d8ac734a-0444-49a2-b214-2525e9e741fc",
   "metadata": {},
   "outputs": [
    {
     "name": "stdin",
     "output_type": "stream",
     "text": [
      " Hii Abdul MOiz Bagwan\n"
     ]
    },
    {
     "data": {
      "text/plain": [
       "'Hii Abdul MOiz Bagwan'"
      ]
     },
     "execution_count": 2,
     "metadata": {},
     "output_type": "execute_result"
    }
   ],
   "source": [
    "a1 = input()    # we pass input which is string.\n",
    "a1"
   ]
  },
  {
   "cell_type": "code",
   "execution_count": 3,
   "id": "759d8d9d-e72f-4913-8118-37989c0d79f9",
   "metadata": {},
   "outputs": [
    {
     "name": "stdin",
     "output_type": "stream",
     "text": [
      " 23,45\n"
     ]
    },
    {
     "data": {
      "text/plain": [
       "'23,45'"
      ]
     },
     "execution_count": 3,
     "metadata": {},
     "output_type": "execute_result"
    }
   ],
   "source": [
    "num = input()    # we pass int data type ,but output is given as string.\n",
    "num"
   ]
  },
  {
   "cell_type": "code",
   "execution_count": 6,
   "id": "369be0ec-9c8e-4e04-8c2e-54387809285d",
   "metadata": {},
   "outputs": [
    {
     "name": "stdin",
     "output_type": "stream",
     "text": [
      "Enter your name : Abdul Moiz Bagwan\n"
     ]
    },
    {
     "data": {
      "text/plain": [
       "'Abdul Moiz Bagwan'"
      ]
     },
     "execution_count": 6,
     "metadata": {},
     "output_type": "execute_result"
    }
   ],
   "source": [
    "n = input(\"Enter your name :\")         # in side the [paranthesis() this is called 'Prompt']\n",
    "n"
   ]
  },
  {
   "cell_type": "code",
   "execution_count": 23,
   "id": "de7349ed-fc47-4f2f-81df-8638604160d8",
   "metadata": {},
   "outputs": [
    {
     "name": "stdin",
     "output_type": "stream",
     "text": [
      "Enter the User name : moizbagwan\n",
      "Enter the password : bagwan@123\n"
     ]
    }
   ],
   "source": [
    "name = input(\"Enter the User name :\")\n",
    "pas = input(\"Enter the password :\")"
   ]
  },
  {
   "cell_type": "code",
   "execution_count": 24,
   "id": "fba274af-699c-4bd1-9cf8-9e52fa10798f",
   "metadata": {},
   "outputs": [
    {
     "data": {
      "text/plain": [
       "'b'"
      ]
     },
     "execution_count": 24,
     "metadata": {},
     "output_type": "execute_result"
    }
   ],
   "source": [
    "pas[0]           # indexing"
   ]
  },
  {
   "cell_type": "code",
   "execution_count": 27,
   "id": "317e45bc-762b-47e8-aab6-c48cf8406861",
   "metadata": {},
   "outputs": [
    {
     "data": {
      "text/plain": [
       "'1'"
      ]
     },
     "execution_count": 27,
     "metadata": {},
     "output_type": "execute_result"
    }
   ],
   "source": [
    "pas[-3]   # negative indexing"
   ]
  },
  {
   "cell_type": "code",
   "execution_count": 25,
   "id": "95f07e34-4205-40fe-86d2-98a2478ba266",
   "metadata": {},
   "outputs": [
    {
     "data": {
      "text/plain": [
       "'moiz'"
      ]
     },
     "execution_count": 25,
     "metadata": {},
     "output_type": "execute_result"
    }
   ],
   "source": [
    "name[0 : 4]     # slicing"
   ]
  },
  {
   "cell_type": "code",
   "execution_count": 29,
   "id": "ae5c67ca-97b3-4b60-9049-6d0b4b1f4628",
   "metadata": {},
   "outputs": [
    {
     "data": {
      "text/plain": [
       "'gw'"
      ]
     },
     "execution_count": 29,
     "metadata": {},
     "output_type": "execute_result"
    }
   ],
   "source": [
    "name[-4: -2]      # negative slicing"
   ]
  },
  {
   "cell_type": "code",
   "execution_count": 7,
   "id": "a72457a8-3e58-47db-91c3-e123ae41926b",
   "metadata": {},
   "outputs": [
    {
     "name": "stdin",
     "output_type": "stream",
     "text": [
      "Enter the numbers 34,56,2.4\n"
     ]
    },
    {
     "data": {
      "text/plain": [
       "'34,56,2.4'"
      ]
     },
     "execution_count": 7,
     "metadata": {},
     "output_type": "execute_result"
    }
   ],
   "source": [
    "num = input(\"Enter the numbers\")      # we pass int data type, but output is given as string.\n",
    "num"
   ]
  },
  {
   "cell_type": "markdown",
   "id": "e2ff8946-4a54-4cc1-807e-e797833f0cfa",
   "metadata": {},
   "source": [
    "#Since input() returns a string, to take numbers you need to convert it to the desired type:"
   ]
  },
  {
   "cell_type": "code",
   "execution_count": 10,
   "id": "71e6630a-d807-4be8-9244-669e01b2fb48",
   "metadata": {},
   "outputs": [
    {
     "name": "stdin",
     "output_type": "stream",
     "text": [
      "Enter the age : 3\n"
     ]
    },
    {
     "name": "stdout",
     "output_type": "stream",
     "text": [
      "3\n"
     ]
    }
   ],
   "source": [
    "age = input(\"Enter the age :\")   # we converted string data type to int data type is called Type Casting.\n",
    "age1 = int(age)\n",
    "\n",
    "print(age1)"
   ]
  },
  {
   "cell_type": "code",
   "execution_count": 11,
   "id": "d559b212-ce65-4be9-8401-5d05e2d42d33",
   "metadata": {},
   "outputs": [
    {
     "name": "stdin",
     "output_type": "stream",
     "text": [
      "Enter the First number : 23\n",
      "Enter the second number : 12\n"
     ]
    },
    {
     "name": "stdout",
     "output_type": "stream",
     "text": [
      "23\n",
      "12\n"
     ]
    }
   ],
   "source": [
    "a = input('Enter the First number :')       # prompt No.1\n",
    "a_1 = int(a)\n",
    "b = input('Enter the second number :')      # prompt No.2\n",
    "b_1 = int(b)\n",
    "\n",
    "print(a_1)\n",
    "print(b_1)\n"
   ]
  },
  {
   "cell_type": "code",
   "execution_count": 13,
   "id": "30afb4e8-1e0c-4106-8adf-11258796b881",
   "metadata": {},
   "outputs": [
    {
     "name": "stdin",
     "output_type": "stream",
     "text": [
      "Enter the First number : 11\n",
      "Enter the Second number : 33\n"
     ]
    },
    {
     "name": "stdout",
     "output_type": "stream",
     "text": [
      "11\n",
      "33\n"
     ]
    }
   ],
   "source": [
    "# Above code is Optimized..(short)\n",
    "\n",
    "a = int(input(\"Enter the First number :\"))\n",
    "b = int(input(\"Enter the Second number :\"))        # Code optimization\n",
    "\n",
    "print(a)\n",
    "print(b)"
   ]
  },
  {
   "cell_type": "code",
   "execution_count": 115,
   "id": "478191d0-2e24-4ad3-bddf-11c3296d9484",
   "metadata": {},
   "outputs": [
    {
     "name": "stdin",
     "output_type": "stream",
     "text": [
      "Enter the First number : 12\n",
      "Enter the Second number : 23\n"
     ]
    },
    {
     "name": "stdout",
     "output_type": "stream",
     "text": [
      "Addition of two numbers is : 35\n"
     ]
    }
   ],
   "source": [
    "# Addition of two numbers using input user define function .\n",
    "\n",
    "a = int(input(\"Enter the First number :\"))\n",
    "b = int(input(\"Enter the Second number :\"))\n",
    "\n",
    "sum = a + b                                  # Addition of two numbers ...\n",
    "\n",
    "print(\"Addition of two numbers is :\",sum)"
   ]
  },
  {
   "cell_type": "code",
   "execution_count": 16,
   "id": "66eabee6-a501-4fa2-8e8c-de6dc24b7390",
   "metadata": {},
   "outputs": [
    {
     "name": "stdin",
     "output_type": "stream",
     "text": [
      "Enter the First number : 10\n",
      "nter the Second number : 10\n"
     ]
    },
    {
     "name": "stdout",
     "output_type": "stream",
     "text": [
      "Addition of two numbers is : 20\n"
     ]
    }
   ],
   "source": [
    "# Optimize above code.\n",
    "\n",
    "a = int(input(\"Enter the First number :\"))\n",
    "b = int(input(\"nter the Second number :\"))\n",
    "\n",
    "print(\"Addition of two numbers is :\",a + b)"
   ]
  },
  {
   "cell_type": "markdown",
   "id": "6a12a113-f472-453f-bdf0-a779f849a08c",
   "metadata": {},
   "source": [
    "#convert string to Float Data Type . and print addition of 2 numbers by using input() function"
   ]
  },
  {
   "cell_type": "code",
   "execution_count": 18,
   "id": "9e2f3b80-45a1-41fb-9e70-c1f075d35099",
   "metadata": {},
   "outputs": [
    {
     "name": "stdin",
     "output_type": "stream",
     "text": [
      "Enter the First number : 3.5\n",
      "nter the Second number : 2.9\n"
     ]
    },
    {
     "name": "stdout",
     "output_type": "stream",
     "text": [
      "Addition of two numbers is : 6.4\n"
     ]
    }
   ],
   "source": [
    "a = float(input(\"Enter the First number :\"))\n",
    "b = float(input(\"nter the Second number :\"))  # Addition of two Floating numbers \n",
    "\n",
    "print(\"Addition of two numbers is :\",a + b)"
   ]
  },
  {
   "cell_type": "code",
   "execution_count": 35,
   "id": "7b0b156f-d79d-4614-9f74-30e54ca6d03b",
   "metadata": {},
   "outputs": [
    {
     "name": "stdin",
     "output_type": "stream",
     "text": [
      "Enter the 12 numbers : 112233445566\n"
     ]
    },
    {
     "name": "stdout",
     "output_type": "stream",
     "text": [
      "5566\n"
     ]
    }
   ],
   "source": [
    "n = (input(\"Enter the 12 numbers :\"))     # last 4 digits are visible because of string slicing, eg.(we see in masked aadhar)\n",
    "n1 = n[8 : 13]\n",
    "print(n1)"
   ]
  },
  {
   "cell_type": "code",
   "execution_count": 36,
   "id": "fe8a2e74-823b-46e3-b0f2-7365df4533b4",
   "metadata": {},
   "outputs": [
    {
     "name": "stdin",
     "output_type": "stream",
     "text": [
      "Enter the 12 numbers : 111222333444\n"
     ]
    },
    {
     "name": "stdout",
     "output_type": "stream",
     "text": [
      "444\n"
     ]
    }
   ],
   "source": [
    "n = (input(\"Enter the 12 numbers :\"))     # last 3 digits are visible because of string slicing, eg.(we see in masked aadhar)\n",
    "n1 = n[9 : 13]\n",
    "print(n1)"
   ]
  },
  {
   "cell_type": "code",
   "execution_count": 37,
   "id": "43cf3614-f510-4df8-ab12-417ea984049a",
   "metadata": {},
   "outputs": [
    {
     "name": "stdin",
     "output_type": "stream",
     "text": [
      "Enter the expression : 1 + 2\n"
     ]
    },
    {
     "ename": "ValueError",
     "evalue": "invalid literal for int() with base 10: '1 + 2'",
     "output_type": "error",
     "traceback": [
      "\u001b[31m---------------------------------------------------------------------------\u001b[39m",
      "\u001b[31mValueError\u001b[39m                                Traceback (most recent call last)",
      "\u001b[36mCell\u001b[39m\u001b[36m \u001b[39m\u001b[32mIn[37]\u001b[39m\u001b[32m, line 1\u001b[39m\n\u001b[32m----> \u001b[39m\u001b[32m1\u001b[39m ex = \u001b[38;5;28;43mint\u001b[39;49m\u001b[43m(\u001b[49m\u001b[38;5;28;43minput\u001b[39;49m\u001b[43m(\u001b[49m\u001b[33;43m\"\u001b[39;49m\u001b[33;43mEnter the expression :\u001b[39;49m\u001b[33;43m\"\u001b[39;49m\u001b[43m)\u001b[49m\u001b[43m)\u001b[49m\n\u001b[32m      2\u001b[39m \u001b[38;5;28mprint\u001b[39m(ex)\n",
      "\u001b[31mValueError\u001b[39m: invalid literal for int() with base 10: '1 + 2'"
     ]
    }
   ],
   "source": [
    "ex = int(input(\"Enter the expression :\"))      # error becaouse, we need to eval function.\n",
    "print(ex)"
   ]
  },
  {
   "cell_type": "markdown",
   "id": "fc938dc1-3b5f-4188-8bc5-6f85508c65f9",
   "metadata": {},
   "source": [
    "# Eval Function using Input Function\n",
    "\n",
    "    - Using eval() with input() in Python is a way to evaluate the user input as a Python expression, not just as a plain string.\n",
    "    - Eval() takes a string and executes it as Python code, then returns the result.\n",
    "    - So, if the user inputs something like \"a + b\" or \"x * y\", eval() will calculate and return the result.\n",
    "\n",
    "| Code            | Input   | Output               |\n",
    "| --------------- | ------- | -------------------- |\n",
    "| `input()`       | `2 + 3` | `\"2 + 3\"` (string)   |\n",
    "| `eval(input())` | `2 + 3` | `5` (integer result) |"
   ]
  },
  {
   "cell_type": "code",
   "execution_count": 44,
   "id": "8c58c204-d83a-43c3-8b81-bde23ae0af56",
   "metadata": {},
   "outputs": [
    {
     "name": "stdin",
     "output_type": "stream",
     "text": [
      "Enter the numbers 2 + 5\n"
     ]
    },
    {
     "name": "stdout",
     "output_type": "stream",
     "text": [
      "7\n"
     ]
    }
   ],
   "source": [
    "a = eval(input(\"Enter the numbers\"))       # Eval Function\n",
    "print(a)"
   ]
  },
  {
   "cell_type": "code",
   "execution_count": 46,
   "id": "a52533db-8d9f-4ebf-b725-c2cbd212602f",
   "metadata": {},
   "outputs": [
    {
     "name": "stdin",
     "output_type": "stream",
     "text": [
      "Enter the Expression : 2 + 6 * 2 /2 - 1\n"
     ]
    },
    {
     "name": "stdout",
     "output_type": "stream",
     "text": [
      "7.0\n"
     ]
    }
   ],
   "source": [
    "result = eval(input(\"Enter the Expression :\"))\n",
    "\n",
    "print(result)        # Expression ,using eval with input function."
   ]
  },
  {
   "cell_type": "markdown",
   "id": "e43119f6-9e72-4ca1-a62d-69d56bf0661c",
   "metadata": {},
   "source": [
    "# Import Math Module\n",
    "\n",
    "- In Python, the math module provides mathematical functions and constants beyond the basic arithmetic operators (+, -, *, /)."
   ]
  },
  {
   "cell_type": "code",
   "execution_count": 47,
   "id": "94dfa52a-2544-44f4-9e9c-3074728ada28",
   "metadata": {},
   "outputs": [
    {
     "ename": "NameError",
     "evalue": "name 'sqrt' is not defined",
     "output_type": "error",
     "traceback": [
      "\u001b[31m---------------------------------------------------------------------------\u001b[39m",
      "\u001b[31mNameError\u001b[39m                                 Traceback (most recent call last)",
      "\u001b[36mCell\u001b[39m\u001b[36m \u001b[39m\u001b[32mIn[47]\u001b[39m\u001b[32m, line 1\u001b[39m\n\u001b[32m----> \u001b[39m\u001b[32m1\u001b[39m a = \u001b[43msqrt\u001b[49m(\u001b[32m25\u001b[39m)\n\u001b[32m      2\u001b[39m a\n",
      "\u001b[31mNameError\u001b[39m: name 'sqrt' is not defined"
     ]
    }
   ],
   "source": [
    "a = sqrt(25)    # we need to math module.\n",
    "a"
   ]
  },
  {
   "cell_type": "code",
   "execution_count": 48,
   "id": "0d1a2561-48b4-4b60-a8b9-e75a23203957",
   "metadata": {},
   "outputs": [],
   "source": [
    "import math "
   ]
  },
  {
   "cell_type": "code",
   "execution_count": 50,
   "id": "6fd5f363-de13-4e2b-b39f-2f781291ea71",
   "metadata": {},
   "outputs": [
    {
     "data": {
      "text/plain": [
       "5.0"
      ]
     },
     "execution_count": 50,
     "metadata": {},
     "output_type": "execute_result"
    }
   ],
   "source": [
    "a = math.sqrt(25)       # we successfully import math module.\n",
    "a                       # Square root of 25"
   ]
  },
  {
   "cell_type": "code",
   "execution_count": 53,
   "id": "fa36a83b-e892-4611-aabd-d00a1d9f6069",
   "metadata": {},
   "outputs": [
    {
     "data": {
      "text/plain": [
       "16.0"
      ]
     },
     "execution_count": 53,
     "metadata": {},
     "output_type": "execute_result"
    }
   ],
   "source": [
    "a = math.pow(2,4)\n",
    "a                      # 2 to the power is 4"
   ]
  },
  {
   "cell_type": "code",
   "execution_count": 55,
   "id": "1743ede4-ed9a-42c1-b187-5d5ff918b6d5",
   "metadata": {},
   "outputs": [
    {
     "data": {
      "text/plain": [
       "5"
      ]
     },
     "execution_count": 55,
     "metadata": {},
     "output_type": "execute_result"
    }
   ],
   "source": [
    "a = math.floor(5.45)    # floor value of 5.45\n",
    "a"
   ]
  },
  {
   "cell_type": "code",
   "execution_count": 56,
   "id": "f9dcfc47-b94c-4bb9-8f99-3f8e286c5d61",
   "metadata": {},
   "outputs": [
    {
     "data": {
      "text/plain": [
       "3"
      ]
     },
     "execution_count": 56,
     "metadata": {},
     "output_type": "execute_result"
    }
   ],
   "source": [
    "b = math.floor(3.14)       # Floor value - minimum value    3.14 ----> 3\n",
    "b"
   ]
  },
  {
   "cell_type": "code",
   "execution_count": 66,
   "id": "e7f6b559-e6a2-4bc8-baee-a8cb15cf3592",
   "metadata": {},
   "outputs": [
    {
     "data": {
      "text/plain": [
       "35"
      ]
     },
     "execution_count": 66,
     "metadata": {},
     "output_type": "execute_result"
    }
   ],
   "source": [
    "c = math.ceil(34.5) # ceil value   -   maximum value  34.5 ----> 35\n",
    "c"
   ]
  },
  {
   "cell_type": "code",
   "execution_count": 67,
   "id": "a95f98b3-46a9-4c19-8334-bd1114c11f4b",
   "metadata": {},
   "outputs": [
    {
     "data": {
      "text/plain": [
       "4"
      ]
     },
     "execution_count": 67,
     "metadata": {},
     "output_type": "execute_result"
    }
   ],
   "source": [
    "cl = math.ceil(3.999)          maximum value\n",
    "cl"
   ]
  },
  {
   "cell_type": "code",
   "execution_count": 68,
   "id": "aba56535-84cc-4d3a-923d-5d234e3c12f0",
   "metadata": {},
   "outputs": [
    {
     "data": {
      "text/plain": [
       "3"
      ]
     },
     "execution_count": 68,
     "metadata": {},
     "output_type": "execute_result"
    }
   ],
   "source": [
    "m = math.ceil(2.121212)\n",
    "m"
   ]
  },
  {
   "cell_type": "code",
   "execution_count": 57,
   "id": "5e89e827-67cb-484b-8984-3a6064d33169",
   "metadata": {},
   "outputs": [
    {
     "ename": "NameError",
     "evalue": "name 'm' is not defined",
     "output_type": "error",
     "traceback": [
      "\u001b[31m---------------------------------------------------------------------------\u001b[39m",
      "\u001b[31mNameError\u001b[39m                                 Traceback (most recent call last)",
      "\u001b[36mCell\u001b[39m\u001b[36m \u001b[39m\u001b[32mIn[57]\u001b[39m\u001b[32m, line 1\u001b[39m\n\u001b[32m----> \u001b[39m\u001b[32m1\u001b[39m s = \u001b[43mm\u001b[49m.pow(\u001b[32m3\u001b[39m,\u001b[32m6\u001b[39m)\n",
      "\u001b[31mNameError\u001b[39m: name 'm' is not defined"
     ]
    }
   ],
   "source": [
    "s = m.pow(3,6)     # first of all we need to import math as m, then it work."
   ]
  },
  {
   "cell_type": "code",
   "execution_count": 90,
   "id": "e81d82c9-a246-4d76-aa97-53a5c5acc5c6",
   "metadata": {},
   "outputs": [],
   "source": [
    "import math as m"
   ]
  },
  {
   "cell_type": "code",
   "execution_count": 91,
   "id": "e122dc7a-867d-4179-a765-771eff2b426b",
   "metadata": {},
   "outputs": [
    {
     "data": {
      "text/plain": [
       "5.0"
      ]
     },
     "execution_count": 91,
     "metadata": {},
     "output_type": "execute_result"
    }
   ],
   "source": [
    "a = m.sqrt(25)        # using math a \"m\" .\n",
    "a"
   ]
  },
  {
   "cell_type": "code",
   "execution_count": 92,
   "id": "06b80c7c-fde6-4acb-b602-a823ee52d8d1",
   "metadata": {},
   "outputs": [
    {
     "data": {
      "text/plain": [
       "16384.0"
      ]
     },
     "execution_count": 92,
     "metadata": {},
     "output_type": "execute_result"
    }
   ],
   "source": [
    "p = m.pow(4,7)\n",
    "p"
   ]
  },
  {
   "cell_type": "code",
   "execution_count": 93,
   "id": "a53ef7db-c46f-4103-9a86-aabba0f37ed3",
   "metadata": {},
   "outputs": [
    {
     "data": {
      "text/plain": [
       "3"
      ]
     },
     "execution_count": 93,
     "metadata": {},
     "output_type": "execute_result"
    }
   ],
   "source": [
    "b = m.floor(3.14)\n",
    "b"
   ]
  },
  {
   "cell_type": "code",
   "execution_count": 94,
   "id": "1bda7f0d-e8f0-4f56-9e43-6bf7fc3e5f39",
   "metadata": {},
   "outputs": [
    {
     "data": {
      "text/plain": [
       "4"
      ]
     },
     "execution_count": 94,
     "metadata": {},
     "output_type": "execute_result"
    }
   ],
   "source": [
    "c = m.ceil(3.14)\n",
    "c"
   ]
  },
  {
   "cell_type": "code",
   "execution_count": 95,
   "id": "b215b3ea-9232-49c2-a4dc-99d07dbb3345",
   "metadata": {},
   "outputs": [
    {
     "data": {
      "text/plain": [
       "2.302585092994046"
      ]
     },
     "execution_count": 95,
     "metadata": {},
     "output_type": "execute_result"
    }
   ],
   "source": [
    "l = m.log(10)\n",
    "l"
   ]
  },
  {
   "cell_type": "code",
   "execution_count": 96,
   "id": "3a2f4fb1-31c6-49da-9cb6-2cc2d918135a",
   "metadata": {},
   "outputs": [
    {
     "data": {
      "text/plain": [
       "3.141592653589793"
      ]
     },
     "execution_count": 96,
     "metadata": {},
     "output_type": "execute_result"
    }
   ],
   "source": [
    "m = m.pi      # pi value.\n",
    "m"
   ]
  },
  {
   "cell_type": "code",
   "execution_count": 100,
   "id": "d6164fd2-15ee-4cc1-89b5-ae94a182554d",
   "metadata": {},
   "outputs": [
    {
     "name": "stdout",
     "output_type": "stream",
     "text": [
      "2.718281828459045\n"
     ]
    }
   ],
   "source": [
    "print(math.e)     # Exponantial \n"
   ]
  },
  {
   "cell_type": "markdown",
   "id": "f56b8470-753c-4388-85fb-36deef3dc06f",
   "metadata": {},
   "source": [
    "# From math import"
   ]
  },
  {
   "cell_type": "code",
   "execution_count": 106,
   "id": "569f79b7-4438-463d-801a-38e5d1437fee",
   "metadata": {},
   "outputs": [],
   "source": [
    "from math import sqrt, pow, floor, ceil, pi,e"
   ]
  },
  {
   "cell_type": "code",
   "execution_count": 114,
   "id": "4206e052-a285-48e6-996f-0e9db1fc0b46",
   "metadata": {},
   "outputs": [
    {
     "name": "stdout",
     "output_type": "stream",
     "text": [
      "3.1622776601683795\n",
      "243.0\n",
      "3\n",
      "4\n",
      "3.141592653589793\n",
      "2.718281828459045\n"
     ]
    }
   ],
   "source": [
    "print(math.sqrt(10))        # square root \n",
    "print(math.pow(3,5))        # power\n",
    "print(math.floor(3.456))    # floor value\n",
    "print(math.ceil(3.01))      # ceiling value\n",
    "print(math.pi)              # pi value (Constant)\n",
    "print(math.e)               # Exponantial value (constant)"
   ]
  }
 ],
 "metadata": {
  "kernelspec": {
   "display_name": "Python 3 (ipykernel)",
   "language": "python",
   "name": "python3"
  },
  "language_info": {
   "codemirror_mode": {
    "name": "ipython",
    "version": 3
   },
   "file_extension": ".py",
   "mimetype": "text/x-python",
   "name": "python",
   "nbconvert_exporter": "python",
   "pygments_lexer": "ipython3",
   "version": "3.13.5"
  },
  "widgets": {
   "application/vnd.jupyter.widget-state+json": {
    "state": {},
    "version_major": 2,
    "version_minor": 0
   }
  }
 },
 "nbformat": 4,
 "nbformat_minor": 5
}
