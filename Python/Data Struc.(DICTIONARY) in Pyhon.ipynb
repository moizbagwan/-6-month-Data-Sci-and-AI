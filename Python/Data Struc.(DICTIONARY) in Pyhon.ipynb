{
 "cells": [
  {
   "cell_type": "markdown",
   "id": "9f96aaea-82eb-4331-a864-c86f2fd6a2ec",
   "metadata": {},
   "source": [
    "# Dictionary {}\n",
    "\n",
    "    - Mutable : Dictionary is a mutable data structure in python.\n",
    "    \n",
    "    - Duplicates : key must be unique,you can have duplicates in values.\n",
    "    \n",
    "    - Order : Dictionary follows insertion order.\n",
    "    \n",
    "    - Heterogeneous : A dictionary can store different types of keys and values, like integer,string,lists,or even another dictionary.\n",
    "    \n",
    "    - we have use to key and values pair to store values in dictionary.\n",
    "    \n",
    "    - keys in dictionary acts like index values.\n",
    "    \n",
    "    - A python dictionary is a collection of key and value pairs seprated by colon(:) & enclosed in curly braces {}."
   ]
  },
  {
   "cell_type": "markdown",
   "id": "eeedc2f9-618c-48a5-9b2b-8b50387b8e80",
   "metadata": {},
   "source": [
    "# Create Dictionary"
   ]
  },
  {
   "cell_type": "code",
   "execution_count": 2,
   "id": "f8f42c6b-fb99-4839-a82c-f01a3d528d58",
   "metadata": {},
   "outputs": [
    {
     "data": {
      "text/plain": [
       "{}"
      ]
     },
     "execution_count": 2,
     "metadata": {},
     "output_type": "execute_result"
    }
   ],
   "source": [
    "d = dict()      # empty dictionary\n",
    "d"
   ]
  },
  {
   "cell_type": "code",
   "execution_count": 4,
   "id": "1ec960a3-e46d-49b1-b938-b14e12e3c4c5",
   "metadata": {},
   "outputs": [
    {
     "data": {
      "text/plain": [
       "dict"
      ]
     },
     "execution_count": 4,
     "metadata": {},
     "output_type": "execute_result"
    }
   ],
   "source": [
    "type(d)     # type of d"
   ]
  },
  {
   "cell_type": "code",
   "execution_count": 14,
   "id": "47083104-942b-44aa-b89a-cdc7667baa3a",
   "metadata": {},
   "outputs": [
    {
     "data": {
      "text/plain": [
       "{1: 'one', 2: 'two', 3: 'three', 4: 'four', 5: 'five'}"
      ]
     },
     "execution_count": 14,
     "metadata": {},
     "output_type": "execute_result"
    }
   ],
   "source": [
    "d = {1:'one',2:'two',3:'three',4:'four',5:'five'}    # dictionary with integer keys\n",
    "d"
   ]
  },
  {
   "cell_type": "code",
   "execution_count": 15,
   "id": "1c3e60a0-ac19-404e-a7fb-e949de7c0220",
   "metadata": {},
   "outputs": [
    {
     "data": {
      "text/plain": [
       "dict"
      ]
     },
     "execution_count": 15,
     "metadata": {},
     "output_type": "execute_result"
    }
   ],
   "source": [
    "type(d)   # type of d1"
   ]
  },
  {
   "cell_type": "code",
   "execution_count": 145,
   "id": "36a2f917-8b88-44bc-af96-98d0551df8d0",
   "metadata": {},
   "outputs": [
    {
     "data": {
      "text/plain": [
       "{1: 'one', 2: 'two', 3: 'three', 4: 'four'}"
      ]
     },
     "execution_count": 145,
     "metadata": {},
     "output_type": "execute_result"
    }
   ],
   "source": [
    "a = {1:'one' , 2:'two' , 3:'three' , 4:'four'}\n",
    "a"
   ]
  },
  {
   "cell_type": "code",
   "execution_count": 146,
   "id": "dd810288-8e7f-4ccc-95c8-5346c9dcfefd",
   "metadata": {},
   "outputs": [
    {
     "data": {
      "text/plain": [
       "'three'"
      ]
     },
     "execution_count": 146,
     "metadata": {},
     "output_type": "execute_result"
    }
   ],
   "source": [
    "a[3]"
   ]
  },
  {
   "cell_type": "code",
   "execution_count": 17,
   "id": "670412dd-47ed-4eb6-9ffa-b13ebc2781bf",
   "metadata": {},
   "outputs": [
    {
     "data": {
      "text/plain": [
       "{1: 'one', 2: 'two', 3: 'three', 4: 'four', 5: 'five'}"
      ]
     },
     "execution_count": 17,
     "metadata": {},
     "output_type": "execute_result"
    }
   ],
   "source": [
    "d = dict({1:'one',2:'two',3:'three',4:'four',5:'five'})  # create dictionaty using dict.\n",
    "d"
   ]
  },
  {
   "cell_type": "code",
   "execution_count": 21,
   "id": "9b38c368-3190-4dcc-848e-85256d23d3a5",
   "metadata": {},
   "outputs": [
    {
     "data": {
      "text/plain": [
       "{1: 'one', 'B': 'two', 3: 'three', 'C': 'four', 5: 'five'}"
      ]
     },
     "execution_count": 21,
     "metadata": {},
     "output_type": "execute_result"
    }
   ],
   "source": [
    "d = {1:'one','B':'two',3:'three','C':'four',5:'five'} # dictionary with mixed keys.\n",
    "d"
   ]
  },
  {
   "cell_type": "code",
   "execution_count": 29,
   "id": "43c528f4-087d-499c-851b-e3b306c0cf4e",
   "metadata": {},
   "outputs": [
    {
     "data": {
      "text/plain": [
       "{'A': 'one', 'B': 'two', 'c': ['moiz', 'Indian', 'globel']}"
      ]
     },
     "execution_count": 29,
     "metadata": {},
     "output_type": "execute_result"
    }
   ],
   "source": [
    "d = {'A':'one','B':'two','c':['moiz','Indian','globel']}\n",
    "d                        # dictionary with list."
   ]
  },
  {
   "cell_type": "code",
   "execution_count": 3,
   "id": "096542b1-54f7-4421-ad06-00e9d0c98246",
   "metadata": {},
   "outputs": [
    {
     "data": {
      "text/plain": [
       "{'A': 'one',\n",
       " 'B': 'two',\n",
       " 'C': ['moiz', 'Indian', 'globel'],\n",
       " 'D': ('bat', 'cat', 'hat')}"
      ]
     },
     "execution_count": 3,
     "metadata": {},
     "output_type": "execute_result"
    }
   ],
   "source": [
    "d = {'A':'one','B':'two','C':['moiz','Indian','globel'], 'D':('bat','cat','hat')}\n",
    "d                     # dictionary with list and tuple."
   ]
  },
  {
   "cell_type": "code",
   "execution_count": 32,
   "id": "eb2e0ddf-84d6-4c2d-a09e-1de245dc296f",
   "metadata": {},
   "outputs": [
    {
     "data": {
      "text/plain": [
       "{'A': 'one',\n",
       " 'B': 'two',\n",
       " 'c': {'Indian', 'globel', 'moiz'},\n",
       " 'D': ('bat', 'cat', 'hat')}"
      ]
     },
     "execution_count": 32,
     "metadata": {},
     "output_type": "execute_result"
    }
   ],
   "source": [
    "d = {'A':'one','B':'two','C':{'moiz','Indian','globel'},  'D':('bat','cat','hat')}\n",
    "d         # dictionay with nested data"
   ]
  },
  {
   "cell_type": "code",
   "execution_count": 48,
   "id": "1a6d2c8c-b61b-4947-b1ea-c39502e44224",
   "metadata": {},
   "outputs": [
    {
     "data": {
      "text/plain": [
       "{1: 'one', 2: 'two', 3: 'three', 4: 'four'}"
      ]
     },
     "execution_count": 48,
     "metadata": {},
     "output_type": "execute_result"
    }
   ],
   "source": [
    "d = {1:'one' , 2:'two' , 3:'three' , 4:'four'} \n",
    "d"
   ]
  },
  {
   "cell_type": "code",
   "execution_count": 49,
   "id": "169f195a-d106-43f6-b677-2f4fe4030428",
   "metadata": {},
   "outputs": [
    {
     "data": {
      "text/plain": [
       "'one'"
      ]
     },
     "execution_count": 49,
     "metadata": {},
     "output_type": "execute_result"
    }
   ],
   "source": [
    "d[1]        # access item using key"
   ]
  },
  {
   "cell_type": "code",
   "execution_count": 134,
   "id": "1ec7eedf-4808-48ec-a6f2-c21d98a91c05",
   "metadata": {},
   "outputs": [
    {
     "data": {
      "text/plain": [
       "{'Name': 'moiz', 'ID': 74123, 'DOB': 1991, 'job': 'Analyst'}"
      ]
     },
     "execution_count": 134,
     "metadata": {},
     "output_type": "execute_result"
    }
   ],
   "source": [
    "d1 = {'Name':'moiz' , 'ID': 74123 , 'DOB': 1991 , 'job' :'Analyst'} \n",
    "d1 "
   ]
  },
  {
   "cell_type": "code",
   "execution_count": 135,
   "id": "cdeeb092-7fdb-468c-ae8a-c649fa8756a0",
   "metadata": {},
   "outputs": [
    {
     "data": {
      "text/plain": [
       "{'Name': 'moiz', 'ID': 74123, 'DOB': 1991, 'job': 'Analyst'}"
      ]
     },
     "execution_count": 135,
     "metadata": {},
     "output_type": "execute_result"
    }
   ],
   "source": [
    "d1"
   ]
  },
  {
   "cell_type": "code",
   "execution_count": 137,
   "id": "c3ffc6d4-eb09-4e75-8d6e-2bde9ca44ad0",
   "metadata": {},
   "outputs": [
    {
     "ename": "KeyError",
     "evalue": "slice(0, 3, None)",
     "output_type": "error",
     "traceback": [
      "\u001b[31m---------------------------------------------------------------------------\u001b[39m",
      "\u001b[31mKeyError\u001b[39m                                  Traceback (most recent call last)",
      "\u001b[36mCell\u001b[39m\u001b[36m \u001b[39m\u001b[32mIn[137]\u001b[39m\u001b[32m, line 1\u001b[39m\n\u001b[32m----> \u001b[39m\u001b[32m1\u001b[39m \u001b[43md1\u001b[49m\u001b[43m[\u001b[49m\u001b[32;43m0\u001b[39;49m\u001b[43m \u001b[49m\u001b[43m:\u001b[49m\u001b[43m \u001b[49m\u001b[32;43m3\u001b[39;49m\u001b[43m]\u001b[49m      \u001b[38;5;66;03m# Dictonary are unorderd,so slicing is not allowed\u001b[39;00m\n",
      "\u001b[31mKeyError\u001b[39m: slice(0, 3, None)"
     ]
    }
   ],
   "source": [
    "d1[0 : 3]      # Dictonary are unorderd,so indexing & slicing are not allowed."
   ]
  },
  {
   "cell_type": "markdown",
   "id": "2bcc8616-114d-434e-94d7-0a3e2f211d19",
   "metadata": {},
   "source": [
    "# Add,Remove & Change Items\n"
   ]
  },
  {
   "cell_type": "code",
   "execution_count": 7,
   "id": "49e38d4f-5d96-4e61-8c22-43e85129654d",
   "metadata": {},
   "outputs": [
    {
     "data": {
      "text/plain": [
       "{'Name': 'Moiz', 'ID': 12345, 'DOB': 1991, 'Address': 'Hilsinki'}"
      ]
     },
     "execution_count": 7,
     "metadata": {},
     "output_type": "execute_result"
    }
   ],
   "source": [
    "\n",
    "d = {'Name':'Moiz' , 'ID': 12345 , 'DOB': 1991 , 'Address' : 'Hilsinki'} \n",
    "d"
   ]
  },
  {
   "cell_type": "code",
   "execution_count": 131,
   "id": "f4d7d148-4490-4200-981f-07a049961568",
   "metadata": {},
   "outputs": [
    {
     "data": {
      "text/plain": [
       "{0: 'a', 1: 'b', 'DOB': 1992, 'Address': 'Mumbai'}"
      ]
     },
     "execution_count": 131,
     "metadata": {},
     "output_type": "execute_result"
    }
   ],
   "source": [
    "d['DOB'] = 1992\n",
    "d['Address'] = 'Mumbai'\n",
    "d                        # changing dictionary because of mutablity."
   ]
  },
  {
   "cell_type": "code",
   "execution_count": null,
   "id": "c14f0ea4-1129-4c7f-bbd7-ee9a24f5a28e",
   "metadata": {},
   "outputs": [],
   "source": [
    "d = {'Name':'Moiz' , 'ID': 12345 , 'DOB': 1991 , 'Address' : 'Hilsinki'} \n",
    "d"
   ]
  },
  {
   "cell_type": "code",
   "execution_count": 66,
   "id": "dcd0561e-636e-4274-b70c-7b8e99f89b69",
   "metadata": {},
   "outputs": [
    {
     "data": {
      "text/plain": [
       "{'Name': 'Moiz',\n",
       " 'ID': 12345,\n",
       " 'DOB': 1991,\n",
       " 'Address': 'Hilsinki',\n",
       " 'Job': 'Analytics'}"
      ]
     },
     "execution_count": 66,
     "metadata": {},
     "output_type": "execute_result"
    }
   ],
   "source": [
    "d[\"Job\"] = \"Analytics\"     # add items in dictionary\n",
    "d"
   ]
  },
  {
   "cell_type": "code",
   "execution_count": 70,
   "id": "d0391fd8-1da7-469d-a725-0ffae444ab70",
   "metadata": {},
   "outputs": [
    {
     "data": {
      "text/plain": [
       "{'Name': 'Moiz', 'ID': 12345, 'DOB': 1991, 'Job': 'Analytics'}"
      ]
     },
     "execution_count": 70,
     "metadata": {},
     "output_type": "execute_result"
    }
   ],
   "source": [
    "d"
   ]
  },
  {
   "cell_type": "code",
   "execution_count": 74,
   "id": "bce357b2-1938-4cda-9779-a8b92a668e5d",
   "metadata": {},
   "outputs": [
    {
     "data": {
      "text/plain": [
       "{'Name': 'Moiz', 'ID': 12345}"
      ]
     },
     "execution_count": 74,
     "metadata": {},
     "output_type": "execute_result"
    }
   ],
   "source": [
    "d.pop('DOB')          # removing items in dictionary using POP method\n",
    "d"
   ]
  },
  {
   "cell_type": "code",
   "execution_count": 72,
   "id": "f84cbf56-b8cc-4f6a-b9e6-0fda672b490a",
   "metadata": {},
   "outputs": [
    {
     "data": {
      "text/plain": [
       "{'Name': 'Moiz', 'ID': 12345, 'DOB': 1991}"
      ]
     },
     "execution_count": 72,
     "metadata": {},
     "output_type": "execute_result"
    }
   ],
   "source": [
    "d.pop('Job')     # removing items in dictionary using POP method\n",
    "d"
   ]
  },
  {
   "cell_type": "markdown",
   "id": "5e74f54a-4555-4b69-bd57-dc5d1bbfd67b",
   "metadata": {},
   "source": [
    "# Dictionary Methods"
   ]
  },
  {
   "cell_type": "markdown",
   "id": "8dbf2223-2412-4bf4-90cd-f5f73f6a47b8",
   "metadata": {},
   "source": [
    "# Keys :-"
   ]
  },
  {
   "cell_type": "code",
   "execution_count": 73,
   "id": "d5cc7cac-2055-4bde-870b-6680d6e44945",
   "metadata": {},
   "outputs": [
    {
     "data": {
      "text/plain": [
       "{1: 'one', 2: 'two', 3: 'three', 4: 'four', 5: 'five'}"
      ]
     },
     "execution_count": 73,
     "metadata": {},
     "output_type": "execute_result"
    }
   ],
   "source": [
    "d = dict({1:'one',2:'two',3:'three',4:'four',5:'five'})\n",
    "d"
   ]
  },
  {
   "cell_type": "code",
   "execution_count": 78,
   "id": "18bfc712-85dc-477e-a22e-320b72b7bfdc",
   "metadata": {},
   "outputs": [
    {
     "data": {
      "text/plain": [
       "dict_keys([1, 2, 3, 4, 5])"
      ]
     },
     "execution_count": 78,
     "metadata": {},
     "output_type": "execute_result"
    }
   ],
   "source": [
    "d.keys()   # Return Dictionary KEYS , using keys() method.\n"
   ]
  },
  {
   "cell_type": "code",
   "execution_count": 11,
   "id": "06efc1b6-2756-4fe3-9acd-ca875b14e316",
   "metadata": {},
   "outputs": [
    {
     "data": {
      "text/plain": [
       "{1: 'one', 2: 'two', 3: 'three', 4: 'four'}"
      ]
     },
     "execution_count": 11,
     "metadata": {},
     "output_type": "execute_result"
    }
   ],
   "source": [
    "a = {1:'one' , 2:'two' , 3:'three' , 4:'four'} \n",
    "a"
   ]
  },
  {
   "cell_type": "code",
   "execution_count": 12,
   "id": "e4062236-ca1a-4c1e-b107-3aed6afd0ac0",
   "metadata": {},
   "outputs": [
    {
     "data": {
      "text/plain": [
       "dict_keys([1, 2, 3, 4])"
      ]
     },
     "execution_count": 12,
     "metadata": {},
     "output_type": "execute_result"
    }
   ],
   "source": [
    "a.keys()        # Return Dictionary KEYS , using keys() method."
   ]
  },
  {
   "cell_type": "code",
   "execution_count": 81,
   "id": "2f4e2fb9-ae4b-4d90-bf8e-c4a950df4e07",
   "metadata": {},
   "outputs": [
    {
     "data": {
      "text/plain": [
       "{'Name': 'moiz', 'ID': 74123, 'DOB': 1991, 'job': 'Analyst'}"
      ]
     },
     "execution_count": 81,
     "metadata": {},
     "output_type": "execute_result"
    }
   ],
   "source": [
    "s = {'Name':'moiz' , 'ID': 74123 , 'DOB': 1991 , 'job' :'Analyst'} \n",
    "s"
   ]
  },
  {
   "cell_type": "code",
   "execution_count": 82,
   "id": "e58f23bd-6d81-4cf6-9c29-a3f449bab127",
   "metadata": {},
   "outputs": [
    {
     "data": {
      "text/plain": [
       "dict_keys(['Name', 'ID', 'DOB', 'job'])"
      ]
     },
     "execution_count": 82,
     "metadata": {},
     "output_type": "execute_result"
    }
   ],
   "source": [
    "s.keys()     # Return Dictionary KEYS , using keys() method."
   ]
  },
  {
   "cell_type": "markdown",
   "id": "f53939bb-0925-4683-9e80-00d9de196b33",
   "metadata": {},
   "source": [
    "# Values :-"
   ]
  },
  {
   "cell_type": "code",
   "execution_count": 83,
   "id": "2a38068e-0af1-4f86-9417-19a26fca632f",
   "metadata": {},
   "outputs": [
    {
     "data": {
      "text/plain": [
       "{1: 'one', 2: 'two', 3: 'three', 4: 'four', 5: 'five'}"
      ]
     },
     "execution_count": 83,
     "metadata": {},
     "output_type": "execute_result"
    }
   ],
   "source": [
    "d = dict({1:'one',2:'two',3:'three',4:'four',5:'five'})\n",
    "d"
   ]
  },
  {
   "cell_type": "code",
   "execution_count": 84,
   "id": "69680316-3a56-4493-b770-e467da87c8f5",
   "metadata": {},
   "outputs": [
    {
     "data": {
      "text/plain": [
       "dict_values(['one', 'two', 'three', 'four', 'five'])"
      ]
     },
     "execution_count": 84,
     "metadata": {},
     "output_type": "execute_result"
    }
   ],
   "source": [
    "d.values()    # Return Dictionary VALUES , using values() method"
   ]
  },
  {
   "cell_type": "code",
   "execution_count": 85,
   "id": "711064b9-6cbb-45da-95ec-04f82b78e37a",
   "metadata": {},
   "outputs": [
    {
     "data": {
      "text/plain": [
       "{'Name': 'moiz', 'ID': 74123, 'DOB': 1991, 'job': 'Analyst'}"
      ]
     },
     "execution_count": 85,
     "metadata": {},
     "output_type": "execute_result"
    }
   ],
   "source": [
    "s = {'Name':'moiz' , 'ID': 74123 , 'DOB': 1991 , 'job' :'Analyst'} \n",
    "s"
   ]
  },
  {
   "cell_type": "code",
   "execution_count": 87,
   "id": "59067d48-ef66-4979-8cea-ecb45a561671",
   "metadata": {},
   "outputs": [
    {
     "data": {
      "text/plain": [
       "dict_values(['moiz', 74123, 1991, 'Analyst'])"
      ]
     },
     "execution_count": 87,
     "metadata": {},
     "output_type": "execute_result"
    }
   ],
   "source": [
    "s.values()    # Return Dictionary VALUES , using values() method"
   ]
  },
  {
   "cell_type": "code",
   "execution_count": 88,
   "id": "a1d71061-e3f1-48c2-a423-b2f83329035f",
   "metadata": {},
   "outputs": [
    {
     "data": {
      "text/plain": [
       "{1: 'one', 2: 'two', 3: 'three', 4: 'four'}"
      ]
     },
     "execution_count": 88,
     "metadata": {},
     "output_type": "execute_result"
    }
   ],
   "source": [
    "a = {1:'one' , 2:'two' , 3:'three' , 4:'four'} \n",
    "a"
   ]
  },
  {
   "cell_type": "code",
   "execution_count": 89,
   "id": "1104c161-405e-409a-8d47-fb64b9bc5aaa",
   "metadata": {},
   "outputs": [
    {
     "data": {
      "text/plain": [
       "dict_values(['one', 'two', 'three', 'four'])"
      ]
     },
     "execution_count": 89,
     "metadata": {},
     "output_type": "execute_result"
    }
   ],
   "source": [
    "a.values()    # Return Dictionary VALUES , using values() method"
   ]
  },
  {
   "cell_type": "markdown",
   "id": "111231c8-d1c4-4a64-be03-f6ea2cd279bd",
   "metadata": {},
   "source": [
    "# Items :-"
   ]
  },
  {
   "cell_type": "code",
   "execution_count": 90,
   "id": "afe940e6-aa97-4c10-af9e-c15bfaccde0c",
   "metadata": {},
   "outputs": [
    {
     "data": {
      "text/plain": [
       "{1: 'one', 2: 'two', 3: 'three', 4: 'four', 5: 'five'}"
      ]
     },
     "execution_count": 90,
     "metadata": {},
     "output_type": "execute_result"
    }
   ],
   "source": [
    "d = dict({1:'one',2:'two',3:'three',4:'four',5:'five'})\n",
    "d"
   ]
  },
  {
   "cell_type": "code",
   "execution_count": 91,
   "id": "64db8844-a7ae-4da5-a3d4-2c2ea69686a7",
   "metadata": {},
   "outputs": [
    {
     "data": {
      "text/plain": [
       "dict_items([(1, 'one'), (2, 'two'), (3, 'three'), (4, 'four'), (5, 'five')])"
      ]
     },
     "execution_count": 91,
     "metadata": {},
     "output_type": "execute_result"
    }
   ],
   "source": [
    "d.items()       # Access each key-value pair within a dictionary"
   ]
  },
  {
   "cell_type": "code",
   "execution_count": 16,
   "id": "10ace966-1050-4555-818c-e519d5b42f62",
   "metadata": {},
   "outputs": [
    {
     "data": {
      "text/plain": [
       "{'Name': 'moiz', 'ID': 74123, 'DOB': 1991, 'job': 'Analyst'}"
      ]
     },
     "execution_count": 16,
     "metadata": {},
     "output_type": "execute_result"
    }
   ],
   "source": [
    "s = {'Name':'moiz' , 'ID': 74123 , 'DOB': 1991 , 'job' :'Analyst'} \n",
    "s"
   ]
  },
  {
   "cell_type": "code",
   "execution_count": 17,
   "id": "dfb7c200-d68e-4558-8597-bc566788b3fd",
   "metadata": {},
   "outputs": [
    {
     "data": {
      "text/plain": [
       "dict_items([('Name', 'moiz'), ('ID', 74123), ('DOB', 1991), ('job', 'Analyst')])"
      ]
     },
     "execution_count": 17,
     "metadata": {},
     "output_type": "execute_result"
    }
   ],
   "source": [
    "s.items()       # Access each key-value pair within a dictionary"
   ]
  },
  {
   "cell_type": "code",
   "execution_count": null,
   "id": "1352ad86-875a-4997-8eea-75f232a97841",
   "metadata": {},
   "outputs": [],
   "source": [
    "a = {1:'one' , 2:'two' , 3:'three' , 4:'four'} \n",
    "a"
   ]
  },
  {
   "cell_type": "code",
   "execution_count": 94,
   "id": "3df89340-bfb8-442c-956c-63301f004c2c",
   "metadata": {},
   "outputs": [
    {
     "data": {
      "text/plain": [
       "dict_items([(1, 'one'), (2, 'two'), (3, 'three'), (4, 'four')])"
      ]
     },
     "execution_count": 94,
     "metadata": {},
     "output_type": "execute_result"
    }
   ],
   "source": [
    "a.items()       # Access each key-value pair within a dictionary"
   ]
  },
  {
   "cell_type": "markdown",
   "id": "ca809fc3-e6cf-4e35-b9e1-5c2b67fd785a",
   "metadata": {},
   "source": [
    "# Fromkeys :-"
   ]
  },
  {
   "cell_type": "code",
   "execution_count": 95,
   "id": "0a64d7f8-6a90-466f-9846-529f4b3f2669",
   "metadata": {},
   "outputs": [
    {
     "data": {
      "text/plain": [
       "{'a': None, 'b': None, 'c': None, 'd': None}"
      ]
     },
     "execution_count": 95,
     "metadata": {},
     "output_type": "execute_result"
    }
   ],
   "source": [
    "keys = {'a','b','c','d'}        # create a dictonary from a sequanse of keys\n",
    "dict1 = dict.fromkeys(keys)\n",
    "dict1\n"
   ]
  },
  {
   "cell_type": "code",
   "execution_count": 97,
   "id": "a10c3834-23dc-4cf6-a690-b5e8bd8a0dfa",
   "metadata": {},
   "outputs": [
    {
     "data": {
      "text/plain": [
       "{1: None, 2: None, 3: None, 4: None, 5: None}"
      ]
     },
     "execution_count": 97,
     "metadata": {},
     "output_type": "execute_result"
    }
   ],
   "source": [
    "keys = {1,2,3,4,5}        # create a dictonary from a sequanse of keys\n",
    "dict1 = dict.fromkeys(keys)\n",
    "dict1\n"
   ]
  },
  {
   "cell_type": "code",
   "execution_count": 100,
   "id": "be7b4b88-82cd-46e5-89fd-0942ea1d3af2",
   "metadata": {},
   "outputs": [
    {
     "data": {
      "text/plain": [
       "{1: 10, 2: 10, 3: 10, 4: 10, 5: 10}"
      ]
     },
     "execution_count": 100,
     "metadata": {},
     "output_type": "execute_result"
    }
   ],
   "source": [
    "keys = {1,2,3,4,5}        # create a dictonary from a sequanse of keys\n",
    "dict1 = dict.fromkeys(keys,values)\n",
    "dict1"
   ]
  },
  {
   "cell_type": "code",
   "execution_count": 99,
   "id": "a3611b26-9444-4966-9da9-08703614fd0e",
   "metadata": {},
   "outputs": [
    {
     "data": {
      "text/plain": [
       "{'a': 10, 'b': 10, 'c': 10, 'd': 10}"
      ]
     },
     "execution_count": 99,
     "metadata": {},
     "output_type": "execute_result"
    }
   ],
   "source": [
    "keys = {'a','b','c','d'}\n",
    "values = 10              # create a dictionary from sequance of values.\n",
    "dict2 = dict.fromkeys(keys,values)\n",
    "dict2"
   ]
  },
  {
   "cell_type": "code",
   "execution_count": 101,
   "id": "e1ed3e73-e784-4e4e-aa5e-12075ca76e07",
   "metadata": {},
   "outputs": [
    {
     "data": {
      "text/plain": [
       "{'a': 10, 'b': 10, 'c': 10, 'd': 10}"
      ]
     },
     "execution_count": 101,
     "metadata": {},
     "output_type": "execute_result"
    }
   ],
   "source": [
    "keys = {'a','b','c','d'}        # create a dictonary from a sequanse of keys\n",
    "dict1 = dict.fromkeys(keys,values)\n",
    "dict1"
   ]
  },
  {
   "cell_type": "code",
   "execution_count": 20,
   "id": "00f01c9d-e097-4b41-94ae-613f1b320113",
   "metadata": {},
   "outputs": [
    {
     "data": {
      "text/plain": [
       "{'a': {'a': 1, 'b': 2, 'c': 3, 'd': 4},\n",
       " 'b': {'a': 1, 'b': 2, 'c': 3, 'd': 4},\n",
       " 'c': {'a': 1, 'b': 2, 'c': 3, 'd': 4},\n",
       " 'd': {'a': 1, 'b': 2, 'c': 3, 'd': 4}}"
      ]
     },
     "execution_count": 20,
     "metadata": {},
     "output_type": "execute_result"
    }
   ],
   "source": [
    "keys = {'a' :1,'b' : 2,'c' : 3,'d' : 4}   \n",
    "values = keys                                # create a dictonary from a sequanse of keys\n",
    "dict1 = dict.fromkeys(keys,values)\n",
    "dict1\n"
   ]
  },
  {
   "cell_type": "markdown",
   "id": "5b270901-1e62-403b-8ceb-27db8d8fb794",
   "metadata": {},
   "source": [
    "# Get :-"
   ]
  },
  {
   "cell_type": "code",
   "execution_count": 102,
   "id": "62339d25-5e94-4c1a-8c85-427cdc148ac6",
   "metadata": {},
   "outputs": [
    {
     "data": {
      "text/plain": [
       "{1: 'one', 2: 'two', 3: 'three', 4: 'four', 5: 'five'}"
      ]
     },
     "execution_count": 102,
     "metadata": {},
     "output_type": "execute_result"
    }
   ],
   "source": [
    "d = dict({1:'one',2:'two',3:'three',4:'four',5:'five'})\n",
    "d"
   ]
  },
  {
   "cell_type": "code",
   "execution_count": 103,
   "id": "6d888f91-1534-4d0f-b7bc-0992cd798750",
   "metadata": {},
   "outputs": [
    {
     "data": {
      "text/plain": [
       "'one'"
      ]
     },
     "execution_count": 103,
     "metadata": {},
     "output_type": "execute_result"
    }
   ],
   "source": [
    "d.get(1)    # access a item using get() method"
   ]
  },
  {
   "cell_type": "code",
   "execution_count": 104,
   "id": "d850df9f-208c-47f9-8904-932ec8eda9d6",
   "metadata": {},
   "outputs": [
    {
     "data": {
      "text/plain": [
       "'five'"
      ]
     },
     "execution_count": 104,
     "metadata": {},
     "output_type": "execute_result"
    }
   ],
   "source": [
    "d.get(5)    # access a item using get() method"
   ]
  },
  {
   "cell_type": "code",
   "execution_count": 130,
   "id": "74ce5732-5610-46fa-93d6-438e2cb6a346",
   "metadata": {},
   "outputs": [
    {
     "data": {
      "text/plain": [
       "{'Name': 'moiz', 'ID': 74123, 'DOB': 1991, 'job': 'Analyst'}"
      ]
     },
     "execution_count": 130,
     "metadata": {},
     "output_type": "execute_result"
    }
   ],
   "source": [
    "s = {'Name':'moiz' , 'ID': 74123 , 'DOB': 1991 , 'job' :'Analyst'} \n",
    "s"
   ]
  },
  {
   "cell_type": "code",
   "execution_count": 107,
   "id": "a992753c-9f7b-48c0-9e76-a5995160e58f",
   "metadata": {},
   "outputs": [
    {
     "data": {
      "text/plain": [
       "'moiz'"
      ]
     },
     "execution_count": 107,
     "metadata": {},
     "output_type": "execute_result"
    }
   ],
   "source": [
    "s.get('Name') # access a item using get() method"
   ]
  },
  {
   "cell_type": "code",
   "execution_count": 108,
   "id": "44cf38b8-13a0-4439-b996-26ee48027c01",
   "metadata": {},
   "outputs": [
    {
     "data": {
      "text/plain": [
       "1991"
      ]
     },
     "execution_count": 108,
     "metadata": {},
     "output_type": "execute_result"
    }
   ],
   "source": [
    "s.get('DOB') # access a item using get() method"
   ]
  },
  {
   "cell_type": "code",
   "execution_count": 22,
   "id": "30c02ccd-c2f2-4f50-94a9-ee0b6f811563",
   "metadata": {},
   "outputs": [
    {
     "data": {
      "text/plain": [
       "{1: 1, 2: 4, 3: 9}"
      ]
     },
     "execution_count": 22,
     "metadata": {},
     "output_type": "execute_result"
    }
   ],
   "source": [
    "m = {1 : 1, 2 : 4, 3 : 9}\n",
    "m"
   ]
  },
  {
   "cell_type": "code",
   "execution_count": 26,
   "id": "ac399199-2603-43bd-a0a4-51df631a1798",
   "metadata": {},
   "outputs": [
    {
     "data": {
      "text/plain": [
       "1"
      ]
     },
     "execution_count": 26,
     "metadata": {},
     "output_type": "execute_result"
    }
   ],
   "source": [
    "m.get(1)"
   ]
  },
  {
   "cell_type": "markdown",
   "id": "850648c7-4641-480f-b94e-8ba0cd5aabe1",
   "metadata": {},
   "source": [
    "# Update :-"
   ]
  },
  {
   "cell_type": "code",
   "execution_count": 59,
   "id": "df02c4fd-c856-4635-a899-7d967b8b4953",
   "metadata": {},
   "outputs": [
    {
     "data": {
      "text/plain": [
       "{'Name': 'Asif', 'ID': 12345, 'DOB': 1991, 'Address': 'Hilsinki'}"
      ]
     },
     "execution_count": 59,
     "metadata": {},
     "output_type": "execute_result"
    }
   ],
   "source": [
    "\n",
    "mydict1 = {'Name':'Asif' , 'ID': 12345 , 'DOB': 1991 , 'Address' : 'Hilsinki'} \n",
    "mydict1 "
   ]
  },
  {
   "cell_type": "code",
   "execution_count": 60,
   "id": "76341474-fedf-4192-b221-f838b1ae0b21",
   "metadata": {},
   "outputs": [
    {
     "data": {
      "text/plain": [
       "{'Name': 'Asif', 'ID': 12345, 'DOB': 1995, 'Address': 'Hilsinki'}"
      ]
     },
     "execution_count": 60,
     "metadata": {},
     "output_type": "execute_result"
    }
   ],
   "source": [
    "dict1 = {'DOB':1995} \n",
    "mydict1.update(dict1)   # update DOB using updae method\n",
    "mydict1 "
   ]
  },
  {
   "cell_type": "code",
   "execution_count": 62,
   "id": "3956ac15-dcf1-4db0-9a3a-6e2bae05e76b",
   "metadata": {},
   "outputs": [
    {
     "data": {
      "text/plain": [
       "{'Name': 'Asif', 'ID': 12345, 'DOB': 1995, 'Address': 'Maharashtra'}"
      ]
     },
     "execution_count": 62,
     "metadata": {},
     "output_type": "execute_result"
    }
   ],
   "source": [
    "dict1 = {'Address' : 'Maharashtra'}\n",
    "mydict1.update(dict1)                 # update Address using updae method\n",
    "mydict1"
   ]
  },
  {
   "cell_type": "code",
   "execution_count": 63,
   "id": "e9e2fce7-8f05-43fc-b3cf-4e8abf7642e6",
   "metadata": {},
   "outputs": [
    {
     "data": {
      "text/plain": [
       "{'Name': 'Badshah', 'ID': 12345, 'DOB': 1995, 'Address': 'Maharashtra'}"
      ]
     },
     "execution_count": 63,
     "metadata": {},
     "output_type": "execute_result"
    }
   ],
   "source": [
    "dict1 = {'Name' : 'Badshah'}\n",
    "mydict1.update(dict1)             # update name using updae method\n",
    "mydict1"
   ]
  },
  {
   "cell_type": "markdown",
   "id": "e02e1e7c-b2cd-47a4-9d88-2e3772fc1227",
   "metadata": {},
   "source": [
    "# Popitem :-"
   ]
  },
  {
   "cell_type": "code",
   "execution_count": 75,
   "id": "8e9ace54-4a27-4745-91a4-f79073b269cf",
   "metadata": {},
   "outputs": [
    {
     "data": {
      "text/plain": [
       "{'Name': 'Asif', 'ID': 12345, 'DOB': 1991, 'Address': 'Hilsinki'}"
      ]
     },
     "execution_count": 75,
     "metadata": {},
     "output_type": "execute_result"
    }
   ],
   "source": [
    "mydict1 = {'Name':'Asif' , 'ID': 12345 , 'DOB': 1991 , 'Address' : 'Hilsinki'} \n",
    "mydict1 "
   ]
  },
  {
   "cell_type": "code",
   "execution_count": 77,
   "id": "170603fe-311d-4048-824d-8efd850c7e24",
   "metadata": {},
   "outputs": [
    {
     "data": {
      "text/plain": [
       "('Address', 'Hilsinki')"
      ]
     },
     "execution_count": 77,
     "metadata": {},
     "output_type": "execute_result"
    }
   ],
   "source": [
    "mydict1.popitem()     # A random item is removed "
   ]
  },
  {
   "cell_type": "code",
   "execution_count": 78,
   "id": "de6f0835-d811-492d-b434-04c5ab0d8709",
   "metadata": {},
   "outputs": [
    {
     "data": {
      "text/plain": [
       "('DOB', 1991)"
      ]
     },
     "execution_count": 78,
     "metadata": {},
     "output_type": "execute_result"
    }
   ],
   "source": [
    "mydict1.popitem()    # A random itemis removed"
   ]
  },
  {
   "cell_type": "code",
   "execution_count": 79,
   "id": "e5dcc990-409f-4467-9d01-9567cbf74111",
   "metadata": {},
   "outputs": [
    {
     "data": {
      "text/plain": [
       "('ID', 12345)"
      ]
     },
     "execution_count": 79,
     "metadata": {},
     "output_type": "execute_result"
    }
   ],
   "source": [
    "mydict1.popitem()   # A random item is removed"
   ]
  },
  {
   "cell_type": "markdown",
   "id": "faff1065-2f5a-4312-b5f6-6c5300c2fd6c",
   "metadata": {},
   "source": [
    "# Clear :-"
   ]
  },
  {
   "cell_type": "code",
   "execution_count": 80,
   "id": "cf65265f-f505-458f-828b-15edfbb4d758",
   "metadata": {},
   "outputs": [
    {
     "data": {
      "text/plain": [
       "{'Name': 'Asif', 'ID': 12345, 'DOB': 1991, 'Address': 'Hilsinki'}"
      ]
     },
     "execution_count": 80,
     "metadata": {},
     "output_type": "execute_result"
    }
   ],
   "source": [
    "mydict1 = {'Name':'Asif' , 'ID': 12345 , 'DOB': 1991 , 'Address' : 'Hilsinki'} \n",
    "mydict1 "
   ]
  },
  {
   "cell_type": "code",
   "execution_count": 82,
   "id": "b43dda86-d677-4c49-b7ff-920455a3ecb2",
   "metadata": {},
   "outputs": [
    {
     "data": {
      "text/plain": [
       "{}"
      ]
     },
     "execution_count": 82,
     "metadata": {},
     "output_type": "execute_result"
    }
   ],
   "source": [
    "mydict1.clear()     # Delete all items of dictionary using clear method\n",
    "mydict1"
   ]
  },
  {
   "cell_type": "code",
   "execution_count": 83,
   "id": "5e903357-8f08-4c3c-9a25-cfd68b39fca1",
   "metadata": {},
   "outputs": [
    {
     "data": {
      "text/plain": [
       "{'Name': 'moiz', 'ID': 74123, 'DOB': 1991, 'job': 'Analyst'}"
      ]
     },
     "execution_count": 83,
     "metadata": {},
     "output_type": "execute_result"
    }
   ],
   "source": [
    "s = {'Name':'moiz' , 'ID': 74123 , 'DOB': 1991 , 'job' :'Analyst'} \n",
    "s"
   ]
  },
  {
   "cell_type": "code",
   "execution_count": 84,
   "id": "b56f6564-969d-4366-ba75-89a348e68b81",
   "metadata": {},
   "outputs": [
    {
     "data": {
      "text/plain": [
       "{}"
      ]
     },
     "execution_count": 84,
     "metadata": {},
     "output_type": "execute_result"
    }
   ],
   "source": [
    "s.clear()\n",
    "s                 # Delete all items of dictionary using clear method\n"
   ]
  },
  {
   "cell_type": "markdown",
   "id": "6c9b6ca9-866d-448e-8c26-c9138d9cc625",
   "metadata": {},
   "source": [
    "# Copy :-"
   ]
  },
  {
   "cell_type": "code",
   "execution_count": 85,
   "id": "5b56547c-51cd-47a0-b5fe-8666e1110f21",
   "metadata": {},
   "outputs": [
    {
     "data": {
      "text/plain": [
       "{'Name': 'Asif', 'ID': 12345, 'DOB': 1991, 'Address': 'Hilsinki'}"
      ]
     },
     "execution_count": 85,
     "metadata": {},
     "output_type": "execute_result"
    }
   ],
   "source": [
    "mydict = {'Name':'Asif' , 'ID': 12345 , 'DOB': 1991 , 'Address' : 'Hilsinki'} \n",
    "mydict "
   ]
  },
  {
   "cell_type": "code",
   "execution_count": 86,
   "id": "62ddb122-a5ab-454b-bfdd-f9fc040a01d4",
   "metadata": {},
   "outputs": [],
   "source": [
    "mydict1 = mydict   # Create a new refrance 'mydict1'"
   ]
  },
  {
   "cell_type": "code",
   "execution_count": 87,
   "id": "cc642095-04f6-4bf8-a58e-43671d5d1afd",
   "metadata": {},
   "outputs": [
    {
     "data": {
      "text/plain": [
       "{'Name': 'Asif', 'ID': 12345, 'DOB': 1991, 'Address': 'Hilsinki'}"
      ]
     },
     "execution_count": 87,
     "metadata": {},
     "output_type": "execute_result"
    }
   ],
   "source": [
    "mydict1"
   ]
  },
  {
   "cell_type": "code",
   "execution_count": 88,
   "id": "fb5f39bf-8970-4b82-ac25-105845bb6bd8",
   "metadata": {},
   "outputs": [
    {
     "data": {
      "text/plain": [
       "(2320509093440, 2320509093440)"
      ]
     },
     "execution_count": 88,
     "metadata": {},
     "output_type": "execute_result"
    }
   ],
   "source": [
    "id(mydict),id(mydict1)  # both address are same (mydict and mydict1)."
   ]
  },
  {
   "cell_type": "code",
   "execution_count": 91,
   "id": "bc145ef2-59a9-40ba-b85a-acf042981ea8",
   "metadata": {},
   "outputs": [
    {
     "data": {
      "text/plain": [
       "{'Name': 'Asif', 'ID': 12345, 'DOB': 1991, 'Address': 'Hilsinki'}"
      ]
     },
     "execution_count": 91,
     "metadata": {},
     "output_type": "execute_result"
    }
   ],
   "source": [
    "mydict2 = mydict.copy()    # create a coy of dictionary\n",
    "mydict2"
   ]
  },
  {
   "cell_type": "code",
   "execution_count": 94,
   "id": "283ef5db-b805-4e42-ae5f-76d93cc15272",
   "metadata": {},
   "outputs": [
    {
     "data": {
      "text/plain": [
       "2320503761344"
      ]
     },
     "execution_count": 94,
     "metadata": {},
     "output_type": "execute_result"
    }
   ],
   "source": [
    "id(mydict2) # the address of dict2 is differente from mydict."
   ]
  },
  {
   "cell_type": "code",
   "execution_count": 92,
   "id": "afb2622f-94d9-4794-9022-74fe517e0885",
   "metadata": {},
   "outputs": [
    {
     "data": {
      "text/plain": [
       "{'Name': 'moiz', 'ID': 74123, 'DOB': 1991, 'job': 'Analyst'}"
      ]
     },
     "execution_count": 92,
     "metadata": {},
     "output_type": "execute_result"
    }
   ],
   "source": [
    "s = {'Name':'moiz' , 'ID': 74123 , 'DOB': 1991 , 'job' :'Analyst'} \n",
    "s"
   ]
  },
  {
   "cell_type": "code",
   "execution_count": 95,
   "id": "2afd6c38-86f4-43d9-b7eb-37c90b554a97",
   "metadata": {},
   "outputs": [
    {
     "data": {
      "text/plain": [
       "2320499581504"
      ]
     },
     "execution_count": 95,
     "metadata": {},
     "output_type": "execute_result"
    }
   ],
   "source": [
    "id(s)     # Address of s"
   ]
  },
  {
   "cell_type": "code",
   "execution_count": 93,
   "id": "d4d6d829-d306-4285-b5c6-ed95c29e2169",
   "metadata": {},
   "outputs": [
    {
     "data": {
      "text/plain": [
       "{'Name': 'moiz', 'ID': 74123, 'DOB': 1991, 'job': 'Analyst'}"
      ]
     },
     "execution_count": 93,
     "metadata": {},
     "output_type": "execute_result"
    }
   ],
   "source": [
    "s1 = s.copy()     # Create a copy\n",
    "s1"
   ]
  },
  {
   "cell_type": "code",
   "execution_count": 96,
   "id": "bf0eb85c-9a0f-4547-9b79-e19ce638ac9b",
   "metadata": {},
   "outputs": [
    {
     "data": {
      "text/plain": [
       "2320499002624"
      ]
     },
     "execution_count": 96,
     "metadata": {},
     "output_type": "execute_result"
    }
   ],
   "source": [
    "id(s1)     # address of s1 is differente from s."
   ]
  },
  {
   "cell_type": "code",
   "execution_count": 100,
   "id": "4d7713f3-d3fb-471d-8d38-821c4b4528cc",
   "metadata": {},
   "outputs": [
    {
     "data": {
      "text/plain": [
       "{'Name': 'Asif', 'ID': 12345, 'DOB': 1991, 'Address': 'Hilsinki'}"
      ]
     },
     "execution_count": 100,
     "metadata": {},
     "output_type": "execute_result"
    }
   ],
   "source": [
    "mydict = {'Name':'Asif' , 'ID': 12345 , 'DOB': 1991 , 'Address' : 'Hilsinki'} \n",
    "mydict "
   ]
  },
  {
   "cell_type": "code",
   "execution_count": 101,
   "id": "ff31a9f8-994e-436c-a89c-24671c8c7953",
   "metadata": {},
   "outputs": [
    {
     "data": {
      "text/plain": [
       "{'Name': 'Asif', 'ID': 12345, 'DOB': 1991, 'Address': 'Mumbai'}"
      ]
     },
     "execution_count": 101,
     "metadata": {},
     "output_type": "execute_result"
    }
   ],
   "source": [
    "mydict['Address'] = 'Mumbai'    # dictionary is mutable.\n",
    "mydict"
   ]
  },
  {
   "cell_type": "code",
   "execution_count": 102,
   "id": "df7ee848-cdae-49fb-b819-e37e18b55ff5",
   "metadata": {},
   "outputs": [
    {
     "data": {
      "text/plain": [
       "{'Name': 'Asif', 'ID': 12345, 'DOB': 1991, 'Address': 'Hilsinki'}"
      ]
     },
     "execution_count": 102,
     "metadata": {},
     "output_type": "execute_result"
    }
   ],
   "source": [
    "mydict1 # mydict will be impact as it is pointing to the same dictionary"
   ]
  },
  {
   "cell_type": "code",
   "execution_count": 103,
   "id": "492ed0a9-66a1-4aed-8d63-43382571bfff",
   "metadata": {},
   "outputs": [
    {
     "data": {
      "text/plain": [
       "{'Name': 'Asif', 'ID': 12345, 'DOB': 1991, 'Address': 'Mumbai'}"
      ]
     },
     "execution_count": 103,
     "metadata": {},
     "output_type": "execute_result"
    }
   ],
   "source": [
    "mydict  # copy of list won't be impacted due to change made in the original"
   ]
  },
  {
   "cell_type": "markdown",
   "id": "c43b86ed-1bad-4027-995e-188cd9f994e8",
   "metadata": {},
   "source": [
    "# Loop through a Dictionary"
   ]
  },
  {
   "cell_type": "code",
   "execution_count": 105,
   "id": "a327d185-98d4-43e8-bb6f-19cd33536aed",
   "metadata": {},
   "outputs": [
    {
     "data": {
      "text/plain": [
       "{'Name': 'moiz', 'ID': 74123, 'DOB': 1991, 'job': 'Analyst'}"
      ]
     },
     "execution_count": 105,
     "metadata": {},
     "output_type": "execute_result"
    }
   ],
   "source": [
    "s = {'Name':'moiz' , 'ID': 74123 , 'DOB': 1991 , 'job' :'Analyst'} \n",
    "s"
   ]
  },
  {
   "cell_type": "code",
   "execution_count": 106,
   "id": "91c66ab3-2fd2-4095-a1c6-fddd6178aa06",
   "metadata": {},
   "outputs": [
    {
     "name": "stdout",
     "output_type": "stream",
     "text": [
      "Name : moiz\n",
      "ID : 74123\n",
      "DOB : 1991\n",
      "job : Analyst\n"
     ]
    }
   ],
   "source": [
    "for i in s:              # key and value pair.\n",
    "    print(i, ':', s[i])"
   ]
  },
  {
   "cell_type": "code",
   "execution_count": 107,
   "id": "64b1c9d4-67e1-48d7-b747-f1bf65878fdf",
   "metadata": {},
   "outputs": [
    {
     "data": {
      "text/plain": [
       "{'Name': 'Asif', 'ID': 12345, 'DOB': 1991, 'Address': 'Hilsinki'}"
      ]
     },
     "execution_count": 107,
     "metadata": {},
     "output_type": "execute_result"
    }
   ],
   "source": [
    "mydict = {'Name':'Asif' , 'ID': 12345 , 'DOB': 1991 , 'Address' : 'Hilsinki'} \n",
    "mydict "
   ]
  },
  {
   "cell_type": "code",
   "execution_count": 110,
   "id": "cb705562-2aa6-4dec-8bb7-f61bd6e10041",
   "metadata": {},
   "outputs": [
    {
     "name": "stdout",
     "output_type": "stream",
     "text": [
      "Asif\n",
      "12345\n",
      "1991\n",
      "Hilsinki\n"
     ]
    }
   ],
   "source": [
    "for i in mydict :        # dictionary items\n",
    "    print(mydict[i])"
   ]
  },
  {
   "cell_type": "markdown",
   "id": "19f134bb-08a5-421f-8f90-bb7afd249456",
   "metadata": {},
   "source": [
    "# Dictionary Membership"
   ]
  },
  {
   "cell_type": "code",
   "execution_count": 111,
   "id": "38d91b0e-a459-48ba-a7e9-7611073af540",
   "metadata": {},
   "outputs": [
    {
     "data": {
      "text/plain": [
       "{'Name': 'Asif', 'ID': 12345, 'DOB': 1991, 'Address': 'Hilsinki'}"
      ]
     },
     "execution_count": 111,
     "metadata": {},
     "output_type": "execute_result"
    }
   ],
   "source": [
    "mydict = {'Name':'Asif' , 'ID': 12345 , 'DOB': 1991 , 'Address' : 'Hilsinki'} \n",
    "mydict "
   ]
  },
  {
   "cell_type": "code",
   "execution_count": 112,
   "id": "982b5527-1910-4e49-aa55-16295cf793e3",
   "metadata": {},
   "outputs": [
    {
     "data": {
      "text/plain": [
       "True"
      ]
     },
     "execution_count": 112,
     "metadata": {},
     "output_type": "execute_result"
    }
   ],
   "source": [
    "'Name' in mydict   # True , membership test can be done for keys."
   ]
  },
  {
   "cell_type": "code",
   "execution_count": 113,
   "id": "c056fca6-4657-49eb-b4b9-889e89510706",
   "metadata": {},
   "outputs": [
    {
     "data": {
      "text/plain": [
       "True"
      ]
     },
     "execution_count": 113,
     "metadata": {},
     "output_type": "execute_result"
    }
   ],
   "source": [
    "'ID' in mydict        # 'ID' is the member of mydict."
   ]
  },
  {
   "cell_type": "code",
   "execution_count": 115,
   "id": "9afe28c6-72d5-4944-9ca0-6a0bcd896d97",
   "metadata": {},
   "outputs": [
    {
     "data": {
      "text/plain": [
       "False"
      ]
     },
     "execution_count": 115,
     "metadata": {},
     "output_type": "execute_result"
    }
   ],
   "source": [
    "'Asif' in mydict     # 'Asif' is the member of mydict."
   ]
  },
  {
   "cell_type": "code",
   "execution_count": 132,
   "id": "9bd6b79e-f4fc-4c1b-b998-091513ca5805",
   "metadata": {},
   "outputs": [
    {
     "data": {
      "text/plain": [
       "False"
      ]
     },
     "execution_count": 132,
     "metadata": {},
     "output_type": "execute_result"
    }
   ],
   "source": [
    "'asif' in mydict    # case sensitive ."
   ]
  },
  {
   "cell_type": "code",
   "execution_count": 117,
   "id": "99729297-ba56-4d95-ae42-16d4517be573",
   "metadata": {},
   "outputs": [
    {
     "data": {
      "text/plain": [
       "False"
      ]
     },
     "execution_count": 117,
     "metadata": {},
     "output_type": "execute_result"
    }
   ],
   "source": [
    "'City' in mydict    # city is not member of mydict."
   ]
  },
  {
   "cell_type": "markdown",
   "id": "f9244181-de65-48d0-8db3-379e0fd8239f",
   "metadata": {},
   "source": [
    "# All / Any\n",
    "\n",
    "    - The all() method returns :\n",
    "    \n",
    "                            * True - If all keys of the dictionary is True.\n",
    "                            * False - If any key of the dictionary is False.\n",
    "\n",
    "    - Any function returns the True if any key of the dictionary is True. If not,any() returns False."
   ]
  },
  {
   "cell_type": "code",
   "execution_count": 118,
   "id": "4e4a8334-1234-4d8b-a195-fa6c58746f11",
   "metadata": {},
   "outputs": [
    {
     "data": {
      "text/plain": [
       "{'Name': 'Asif', 'ID': 12345, 'DOB': 1991, 'Job': 'Analyst'}"
      ]
     },
     "execution_count": 118,
     "metadata": {},
     "output_type": "execute_result"
    }
   ],
   "source": [
    "mydict1 = {'Name':'Asif' , 'ID': 12345 , 'DOB': 1991 , 'Job': 'Analyst'} \n",
    "mydict1 "
   ]
  },
  {
   "cell_type": "code",
   "execution_count": 119,
   "id": "a17d38b6-5709-43c1-b02a-e8baf1cf59bf",
   "metadata": {},
   "outputs": [
    {
     "data": {
      "text/plain": [
       "True"
      ]
     },
     "execution_count": 119,
     "metadata": {},
     "output_type": "execute_result"
    }
   ],
   "source": [
    "all(mydict)"
   ]
  },
  {
   "cell_type": "code",
   "execution_count": 120,
   "id": "2f5f3ffe-6799-437b-b0c5-e433ffbdbb5f",
   "metadata": {},
   "outputs": [
    {
     "data": {
      "text/plain": [
       "True"
      ]
     },
     "execution_count": 120,
     "metadata": {},
     "output_type": "execute_result"
    }
   ],
   "source": [
    "any(mydict)"
   ]
  },
  {
   "cell_type": "code",
   "execution_count": 121,
   "id": "c1281c41-cdfa-4dbb-9646-ddf0abed4977",
   "metadata": {},
   "outputs": [
    {
     "name": "stdout",
     "output_type": "stream",
     "text": [
      "True\n"
     ]
    }
   ],
   "source": [
    "d = {1: 'a', 2: 'b'}\n",
    "print(all(d))  # True (both keys are non-zero)"
   ]
  },
  {
   "cell_type": "code",
   "execution_count": 128,
   "id": "8bac6eef-7760-4d89-82bb-1e3ba72db4bb",
   "metadata": {},
   "outputs": [
    {
     "name": "stdout",
     "output_type": "stream",
     "text": [
      "False\n"
     ]
    }
   ],
   "source": [
    "d = {0: 'a', 5:'e'}\n",
    "print(all(d))"
   ]
  },
  {
   "cell_type": "code",
   "execution_count": 129,
   "id": "9b7a719c-e389-46ea-a943-47f01a1ddbf6",
   "metadata": {},
   "outputs": [
    {
     "name": "stdout",
     "output_type": "stream",
     "text": [
      "True\n"
     ]
    }
   ],
   "source": [
    "d = {0: 'a', 1: 'b'}\n",
    "print(any(d))  # True (1 is truthy)"
   ]
  },
  {
   "cell_type": "code",
   "execution_count": null,
   "id": "cf0654eb-818d-48a3-8def-fa0721bd7d55",
   "metadata": {},
   "outputs": [],
   "source": [
    "d = {0: 'a', False: 'b'}\n",
    "print(any(d))  # False (all keys are falsy)"
   ]
  }
 ],
 "metadata": {
  "kernelspec": {
   "display_name": "Python 3 (ipykernel)",
   "language": "python",
   "name": "python3"
  },
  "language_info": {
   "codemirror_mode": {
    "name": "ipython",
    "version": 3
   },
   "file_extension": ".py",
   "mimetype": "text/x-python",
   "name": "python",
   "nbconvert_exporter": "python",
   "pygments_lexer": "ipython3",
   "version": "3.13.5"
  }
 },
 "nbformat": 4,
 "nbformat_minor": 5
}
