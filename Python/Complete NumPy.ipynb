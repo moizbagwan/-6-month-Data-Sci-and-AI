{
 "cells": [
  {
   "cell_type": "markdown",
   "id": "d6160e65-fd13-43be-b6eb-10c5df9f49ad",
   "metadata": {},
   "source": [
    "# NumPy\n",
    "\n",
    "    - NumPy (Numerical Python) is a Python library used for fast mathematical and scientific computing.It provides:\n",
    "\n",
    "    - Multi-dimensional array object called ndarray\n",
    "    - Tools for linear algebra, Fourier transforms, and random number generation\n",
    "    - Vectorized operations (fast operations without writing loops)\n",
    "    \n",
    "**Uses of Numpy:\n",
    "\n",
    "    - Speed – Much faster than Python lists for large datasets\n",
    "    - Memory Efficiency – Stores data in compact binary format\n",
    "    - Convenient Functions – Ready-made mathematical operations\n",
    "    - Integration – Works with Pandas, Matplotlib, Scikit-learn, TensorFlow, etc.\n",
    "\n",
    "**Key Features:\n",
    "\n",
    "    - ndarray: Powerful n-dimensional array\n",
    "    - Broadcasting: Perform operations on arrays of different shapes\n",
    "    - Vectorization: No need for Python for loops\n",
    "    - Mathematical Functions: sum(), mean(), sqrt(), etc.\n",
    "    - Indexing/Slicing: Extract data easily\n",
    "    - Random Module: Random number generation\n",
    "\n",
    "**Advantages Over Python Lists\n",
    "\n",
    "| Feature      | Python List   | NumPy Array       |\n",
    "| ------------ | ------------- | ----------------- |\n",
    "| Speed        | Slow          | Very Fast         |\n",
    "| Memory Usage | High          | Low               |\n",
    "| Operations   | Need loops    | Vectorized        |\n",
    "| Data Types   | Mixed allowed | Single fixed type |\n",
    "\n",
    "\n",
    "\n",
    "    **Rows → Go horizontally (left to right)\n",
    "    **Columns → Go vertically (top to bottom)\n",
    "\n",
    "|           | **Column 0** | **Column 1** | **Column 2** |\n",
    "| --------- | ------------ | ------------ | ------------ |\n",
    "| **Row 0** | 10           | 20           | 30           |\n",
    "| **Row 1** | 40           | 50           | 60           |\n",
    "| **Row 2** | 70           | 80           | 90           |\n"
   ]
  },
  {
   "cell_type": "markdown",
   "id": "1e8d23fe-dbc9-4a7b-b374-cf6114b47175",
   "metadata": {},
   "source": [
    "# Array Creation"
   ]
  },
  {
   "cell_type": "code",
   "execution_count": 1,
   "id": "f2f5f47a-07c5-4b35-9dbf-347bd28c156a",
   "metadata": {},
   "outputs": [
    {
     "data": {
      "text/plain": [
       "[1, 2, 3, 4, 5, 3.14, True, (1+2j), 'MOIZ']"
      ]
     },
     "execution_count": 1,
     "metadata": {},
     "output_type": "execute_result"
    }
   ],
   "source": [
    "# Create a list:\n",
    "\n",
    "l = [1,2,3,4,5,3.14,True,1+2j,\"MOIZ\"]   # in list we can stores multiple types of data types.\n",
    "l"
   ]
  },
  {
   "cell_type": "code",
   "execution_count": 2,
   "id": "31440a94-28cf-42df-8be9-812b060817bc",
   "metadata": {},
   "outputs": [
    {
     "name": "stdout",
     "output_type": "stream",
     "text": [
      "<class 'list'>\n"
     ]
    }
   ],
   "source": [
    "print(type(l))     # list"
   ]
  },
  {
   "cell_type": "markdown",
   "id": "f89fdcb5-739d-4338-a7e8-85761ab673ee",
   "metadata": {},
   "source": [
    "#Create a Array using List:\n",
    "\n",
    "#First of all to create a Array we neet to import numpy library in your python program."
   ]
  },
  {
   "cell_type": "code",
   "execution_count": 3,
   "id": "097792a7-392c-499c-840e-168b40f1c694",
   "metadata": {},
   "outputs": [],
   "source": [
    "import numpy as np   # we imported the numpy labrary, numpy as np."
   ]
  },
  {
   "cell_type": "code",
   "execution_count": 4,
   "id": "1e7e6c89-172a-49bf-a93d-d2302c16cb62",
   "metadata": {},
   "outputs": [
    {
     "data": {
      "text/plain": [
       "array(['1', '2', '3', '4', '5', '3.14', 'True', '(1+2j)', 'MOIZ'],\n",
       "      dtype='<U64')"
      ]
     },
     "execution_count": 4,
     "metadata": {},
     "output_type": "execute_result"
    }
   ],
   "source": [
    "arr = np.array(l)     # numpy only contain same type of data types . np converted mixed data types to same data type.\n",
    "arr                  # we create a array using python list."
   ]
  },
  {
   "cell_type": "code",
   "execution_count": 5,
   "id": "697757f4-a72d-4814-9181-dbbdf81596cb",
   "metadata": {},
   "outputs": [
    {
     "data": {
      "text/plain": [
       "array([1, 2, 3])"
      ]
     },
     "execution_count": 5,
     "metadata": {},
     "output_type": "execute_result"
    }
   ],
   "source": [
    "arr1 = np.array([1,2,3])      # we create a new array\n",
    "arr1"
   ]
  },
  {
   "cell_type": "code",
   "execution_count": 6,
   "id": "5edccaa4-2ab1-4d3e-a48c-8442ef51abef",
   "metadata": {},
   "outputs": [
    {
     "name": "stdout",
     "output_type": "stream",
     "text": [
      "<class 'numpy.ndarray'>\n"
     ]
    }
   ],
   "source": [
    "print(type(arr1))"
   ]
  },
  {
   "cell_type": "code",
   "execution_count": 7,
   "id": "85a306ea-eebb-4c26-bcbd-9b547c42a87a",
   "metadata": {},
   "outputs": [
    {
     "data": {
      "text/plain": [
       "array([1, 2, 3, 4, 5, 6, 7, 8, 9])"
      ]
     },
     "execution_count": 7,
     "metadata": {},
     "output_type": "execute_result"
    }
   ],
   "source": [
    "arr1 = np.array([1,2,3,4,5,6,7,8,9])     # this is 1D (one Dimentional)array . this array in the form of vector.\n",
    "arr1"
   ]
  },
  {
   "cell_type": "code",
   "execution_count": 8,
   "id": "2a78f6a6-ecf3-4116-a8fd-4668343af012",
   "metadata": {},
   "outputs": [
    {
     "data": {
      "text/plain": [
       "([1, 2, 3], [4, 5, 6], [7, 8, 9])"
      ]
     },
     "execution_count": 8,
     "metadata": {},
     "output_type": "execute_result"
    }
   ],
   "source": [
    "l1 = [1,2,3],[4,5,6],[7,8,9]    # this list is 1D \n",
    "l1"
   ]
  },
  {
   "cell_type": "code",
   "execution_count": 9,
   "id": "620dba64-d8a3-4d4a-9cab-d43c76747fe1",
   "metadata": {},
   "outputs": [
    {
     "data": {
      "text/plain": [
       "array([[1, 2, 3],\n",
       "       [4, 5, 6],\n",
       "       [7, 8, 9]])"
      ]
     },
     "execution_count": 9,
     "metadata": {},
     "output_type": "execute_result"
    }
   ],
   "source": [
    "# convert One Dimension (1D) to Two Dimension (2D) array:\n",
    "\n",
    "arr2 = np.array([[1,2,3],[4,5,6],[7,8,9]])\n",
    "arr2"
   ]
  },
  {
   "cell_type": "markdown",
   "id": "ab5002b6-e05d-4da3-9d94-cebc552d2e56",
   "metadata": {},
   "source": [
    "Numpy Arrays Vs Python Sequences\n",
    "\n",
    "\n",
    "NumPy arrays have a fixed size at creation, unlike Python lists (which can grow dynamically).\n",
    "Changing the size of an ndarray will create a new array and delete the original.\n",
    "The elements in a NumPy array are all required to be of the same data type, and thus will be\n",
    "the same size in memory.\n",
    "NumPy arrays facilitate advanced mathematical and other types of operations on large\n",
    "numbers of data. Typically, such operations are executed more efficiently and with less code\n",
    "than is possible using Python’s built-in sequences.\n",
    "A growing plethora of scientific and mathematical Python-based packages are using NumPy\n",
    "arrays; though these typically support Python-sequence input, they convert such input to\n",
    "NumPy arrays prior to processing, and they often output NumPy arrays."
   ]
  },
  {
   "cell_type": "markdown",
   "id": "d183d6ca-8005-4ce6-9131-b3eb54f8ab49",
   "metadata": {},
   "source": [
    "# Array Generation Function:"
   ]
  },
  {
   "cell_type": "markdown",
   "id": "e60a1ee8-71c1-4e8f-a230-12ea0003f64e",
   "metadata": {},
   "source": [
    "# Arange:\n",
    "\n",
    "    - np.arange() is a NumPy function that creates an array with evenly spaced values within a specified range.\n",
    "    - It’s like Python’s built-in range() but:\n",
    "    \n",
    "        - It returns a NumPy array instead of a list.\n",
    "        - It can work with decimal (float) steps, not just integers.\n",
    "\n",
    "\n",
    "-Syntax : np.arange(start, stop, step, dtype=None)\n",
    "\n",
    "**Parameters:\n",
    "\n",
    "            - Start → The starting value (inclusive). Default = 0 if not given.\n",
    "            - Stop → The ending value (exclusive, not included).\n",
    "            - Step → The gap between values. Default = 1.\n",
    "            - dtype → Data type of the output (optional).\n",
    "\n",
    "\n",
    "**Difference from np.linspace()\n",
    "\n",
    "                        - np.arange(start, stop, step) → You give step size.\n",
    "                        - np.linspace(start, stop, num) → You give how many values you want."
   ]
  },
  {
   "cell_type": "code",
   "execution_count": 10,
   "id": "ef1420a5-9096-4377-90d7-2f8c7d77f3d5",
   "metadata": {},
   "outputs": [
    {
     "data": {
      "text/plain": [
       "array([0, 1, 2, 3, 4, 5, 6, 7, 8])"
      ]
     },
     "execution_count": 10,
     "metadata": {},
     "output_type": "execute_result"
    }
   ],
   "source": [
    "s = np.arange(9)    # created a array by using arange function.\n",
    "s"
   ]
  },
  {
   "cell_type": "code",
   "execution_count": 11,
   "id": "77def41e-5017-4d7d-8318-d5949c866ba1",
   "metadata": {},
   "outputs": [
    {
     "data": {
      "text/plain": [
       "array([ 1,  2,  3,  4,  5,  6,  7,  8,  9, 10])"
      ]
     },
     "execution_count": 11,
     "metadata": {},
     "output_type": "execute_result"
    }
   ],
   "source": [
    "arr = np.arange(1,11) # print array from 1 to 11. endending endex i not encluded.step by default 1. \n",
    "arr"
   ]
  },
  {
   "cell_type": "code",
   "execution_count": 12,
   "id": "8e39dcf0-70c4-4ade-a43a-7d44eb8f95ee",
   "metadata": {},
   "outputs": [
    {
     "data": {
      "text/plain": [
       "array([ 1,  2,  3,  4,  5,  6,  7,  8,  9, 10, 11, 12, 13, 14, 15, 16, 17,\n",
       "       18, 19, 20, 21, 22, 23, 24, 25, 26, 27, 28, 29, 30, 31, 32, 33, 34,\n",
       "       35, 36, 37, 38, 39, 40, 41, 42, 43, 44, 45, 46, 47, 48, 49])"
      ]
     },
     "execution_count": 12,
     "metadata": {},
     "output_type": "execute_result"
    }
   ],
   "source": [
    "a = np.arange(1,50)   # this is in 1D (vector)\n",
    "a"
   ]
  },
  {
   "cell_type": "code",
   "execution_count": 13,
   "id": "798008bd-adcc-480a-877a-bd5d6bfe256e",
   "metadata": {},
   "outputs": [
    {
     "data": {
      "text/plain": [
       "array([ 1,  3,  5,  7,  9, 11, 13, 15, 17, 19])"
      ]
     },
     "execution_count": 13,
     "metadata": {},
     "output_type": "execute_result"
    }
   ],
   "source": [
    "b = np.arange(1,21,2) # Step → The gap between values 2.\n",
    "b"
   ]
  },
  {
   "cell_type": "markdown",
   "id": "3806d6a7-f81a-4876-a26d-5418a2d8f267",
   "metadata": {},
   "source": [
    "# Zeros:\n",
    "\n",
    "    - np.zeros() creates a new array filled entirely with 0s.\n",
    "    - It’s useful when you want an empty container to store future data, or when you need a base array for calculations.\n",
    "\n",
    "**Syntax: np.zeros(shape, dtype=float)\n",
    "\n",
    "**Parameters:\n",
    "\n",
    "        - Shape → Size of the array.\n",
    "        - Can be an integer (for 1D) or a tuple (for multi-dimensional arrays).\n",
    "        - dtype → Data type of the elements. Default is float."
   ]
  },
  {
   "cell_type": "code",
   "execution_count": 14,
   "id": "81b6909f-9e95-4127-8200-d74cfc03b5e0",
   "metadata": {},
   "outputs": [
    {
     "data": {
      "text/plain": [
       "array([0., 0., 0., 0., 0.])"
      ]
     },
     "execution_count": 14,
     "metadata": {},
     "output_type": "execute_result"
    }
   ],
   "source": [
    "arr = np.zeros(5) # array in vector form by default data type of element is float.\n",
    "arr"
   ]
  },
  {
   "cell_type": "code",
   "execution_count": 15,
   "id": "251bd1e9-7f9e-494e-a4b2-6cf9a26efae8",
   "metadata": {},
   "outputs": [
    {
     "data": {
      "text/plain": [
       "array([[0., 0., 0., 0.],\n",
       "       [0., 0., 0., 0.],\n",
       "       [0., 0., 0., 0.],\n",
       "       [0., 0., 0., 0.]])"
      ]
     },
     "execution_count": 15,
     "metadata": {},
     "output_type": "execute_result"
    }
   ],
   "source": [
    "arr = np.zeros((4,4))     # now array is in matrix and 2D form. but by default data type of element is float.\n",
    "arr                       # 4,4 means [4 rows & 4 columns]."
   ]
  },
  {
   "cell_type": "code",
   "execution_count": 16,
   "id": "c565d143-de1a-4ef3-a07c-451b064ccf7a",
   "metadata": {},
   "outputs": [
    {
     "data": {
      "text/plain": [
       "array([[0, 0, 0, 0],\n",
       "       [0, 0, 0, 0],\n",
       "       [0, 0, 0, 0],\n",
       "       [0, 0, 0, 0]])"
      ]
     },
     "execution_count": 16,
     "metadata": {},
     "output_type": "execute_result"
    }
   ],
   "source": [
    "# Change the data type of element of above matrix:\n",
    "\n",
    "arr = np.zeros((4,4),dtype=int)   # we converted float data type to int data type(Type Casting).\n",
    "arr                               "
   ]
  },
  {
   "cell_type": "code",
   "execution_count": 17,
   "id": "648307dc-ecad-462a-ae2b-75e54ac8651e",
   "metadata": {},
   "outputs": [
    {
     "data": {
      "text/plain": [
       "array([[0, 0, 0, 0, 0],\n",
       "       [0, 0, 0, 0, 0],\n",
       "       [0, 0, 0, 0, 0],\n",
       "       [0, 0, 0, 0, 0],\n",
       "       [0, 0, 0, 0, 0],\n",
       "       [0, 0, 0, 0, 0]])"
      ]
     },
     "execution_count": 17,
     "metadata": {},
     "output_type": "execute_result"
    }
   ],
   "source": [
    "arr = np.zeros((6,5),dtype=int) # 6 rows & 5 columns.\n",
    "arr"
   ]
  },
  {
   "cell_type": "markdown",
   "id": "40410a3a-d6d4-42dd-9445-f29904ed17ba",
   "metadata": {},
   "source": [
    "# Ones:\n",
    "\n",
    "    - np.ones() creates a new array filled entirely with 1s.\n",
    "    - It’s often used when you need a base array for calculations or initialization where all values start as 1.\n",
    "\n",
    "**Syntax : np.ones(shape, dtype=float)\n",
    "\n",
    "**Parameters:\n",
    "\n",
    "    - Shape → Size of the array.\n",
    "    - Integer → for 1D arrays.\n",
    "    - Tuple → for multi-dimensional arrays.\n",
    "    - dtype → Data type of the elements (default: float).\n",
    "\n",
    "**Common Uses\n",
    "\n",
    "    - Mathematical calculations (when multiplying or adding values).\n",
    "    - Masking in data science (representing “all True” conditions).\n",
    "    - Matrix initialization for algorithms."
   ]
  },
  {
   "cell_type": "code",
   "execution_count": 18,
   "id": "e61ee8c5-d9e6-4938-9801-576eedec9aa7",
   "metadata": {},
   "outputs": [
    {
     "data": {
      "text/plain": [
       "array([1., 1., 1., 1., 1., 1., 1., 1., 1.])"
      ]
     },
     "execution_count": 18,
     "metadata": {},
     "output_type": "execute_result"
    }
   ],
   "source": [
    "arr = np.ones(9)    # create a array using ones(),by default data type of element is float.\n",
    "arr"
   ]
  },
  {
   "cell_type": "code",
   "execution_count": 19,
   "id": "bc54deda-e3e1-4342-8a66-cece599f28f4",
   "metadata": {},
   "outputs": [
    {
     "data": {
      "text/plain": [
       "array([[1., 1., 1., 1., 1.],\n",
       "       [1., 1., 1., 1., 1.],\n",
       "       [1., 1., 1., 1., 1.],\n",
       "       [1., 1., 1., 1., 1.],\n",
       "       [1., 1., 1., 1., 1.]])"
      ]
     },
     "execution_count": 19,
     "metadata": {},
     "output_type": "execute_result"
    }
   ],
   "source": [
    "# convert above 1D matrix to 2D matrix:\n",
    "\n",
    "arr = np.ones((5,5))  # 2D matrix\n",
    "arr"
   ]
  },
  {
   "cell_type": "code",
   "execution_count": 20,
   "id": "3dfe0187-83f9-4316-b762-017387caf593",
   "metadata": {},
   "outputs": [
    {
     "data": {
      "text/plain": [
       "array([[1, 1, 1, 1, 1],\n",
       "       [1, 1, 1, 1, 1],\n",
       "       [1, 1, 1, 1, 1],\n",
       "       [1, 1, 1, 1, 1],\n",
       "       [1, 1, 1, 1, 1]])"
      ]
     },
     "execution_count": 20,
     "metadata": {},
     "output_type": "execute_result"
    }
   ],
   "source": [
    "# convert Data type of element from float to int data type:\n",
    "\n",
    "arr = np.ones((5,5),dtype=int)    # converted float to int (Type Casting).\n",
    "arr"
   ]
  },
  {
   "cell_type": "code",
   "execution_count": 21,
   "id": "3843a0fc-40b9-4391-b872-44ee04c6f60a",
   "metadata": {},
   "outputs": [
    {
     "data": {
      "text/plain": [
       "array([[1, 1, 1, 1, 1, 1, 1, 1, 1, 1],\n",
       "       [1, 1, 1, 1, 1, 1, 1, 1, 1, 1],\n",
       "       [1, 1, 1, 1, 1, 1, 1, 1, 1, 1],\n",
       "       [1, 1, 1, 1, 1, 1, 1, 1, 1, 1],\n",
       "       [1, 1, 1, 1, 1, 1, 1, 1, 1, 1],\n",
       "       [1, 1, 1, 1, 1, 1, 1, 1, 1, 1],\n",
       "       [1, 1, 1, 1, 1, 1, 1, 1, 1, 1],\n",
       "       [1, 1, 1, 1, 1, 1, 1, 1, 1, 1],\n",
       "       [1, 1, 1, 1, 1, 1, 1, 1, 1, 1],\n",
       "       [1, 1, 1, 1, 1, 1, 1, 1, 1, 1]])"
      ]
     },
     "execution_count": 21,
     "metadata": {},
     "output_type": "execute_result"
    }
   ],
   "source": [
    "arr = np.ones((10,10),dtype=int)\n",
    "arr"
   ]
  },
  {
   "cell_type": "code",
   "execution_count": 22,
   "id": "fdc3d982-1ab8-4e58-83f0-eb3e5e2d8c8c",
   "metadata": {},
   "outputs": [
    {
     "data": {
      "text/plain": [
       "array([[1, 1, 1, 1, 1, 1, 1, 1, 1, 1],\n",
       "       [1, 1, 1, 1, 1, 1, 1, 1, 1, 1],\n",
       "       [1, 1, 1, 1, 1, 1, 1, 1, 1, 1],\n",
       "       [1, 1, 1, 1, 1, 1, 1, 1, 1, 1],\n",
       "       [1, 1, 1, 1, 1, 1, 1, 1, 1, 1],\n",
       "       [1, 1, 1, 1, 1, 1, 1, 1, 1, 1],\n",
       "       [1, 1, 1, 1, 1, 1, 1, 1, 1, 1],\n",
       "       [1, 1, 1, 1, 1, 1, 1, 1, 1, 1],\n",
       "       [1, 1, 1, 1, 1, 1, 1, 1, 1, 1],\n",
       "       [1, 1, 1, 1, 1, 1, 1, 1, 1, 1]])"
      ]
     },
     "execution_count": 22,
     "metadata": {},
     "output_type": "execute_result"
    }
   ],
   "source": [
    "arr"
   ]
  },
  {
   "cell_type": "markdown",
   "id": "b04b0be8-0ac8-4ba7-842f-c00429aea0a5",
   "metadata": {},
   "source": [
    "# Random:\n",
    "\n",
    "    - np.random is a module inside NumPy that can generate random numbers.\n",
    "    - It can produce:\n",
    "    - Floats (decimal numbers)\n",
    "    - Integers\n",
    "    - Arrays with random values\n",
    "    - Numbers from specific probability distributions (normal, uniform, etc.)\n",
    "\n",
    "**Summary Table:\n",
    "\n",
    "| Function       | Output Type | Range / Distribution |\n",
    "| -------------- | ----------- | -------------------- |\n",
    "| `rand()`       | float       | 0 to 1 (uniform)     |\n",
    "| `randint(a,b)` | int         | a to b-1 (uniform)   |\n",
    "| `randn()`      | float       | Normal dist (mean=0) |\n",
    "| `random()`     | float       | 0 to 1 (uniform)     |\n",
    "| `choice()`     | any element | From given sequence  |\n"
   ]
  },
  {
   "cell_type": "code",
   "execution_count": 23,
   "id": "9f5fba63-2ff6-4fd0-bddd-1f502bec793f",
   "metadata": {},
   "outputs": [
    {
     "data": {
      "text/plain": [
       "array([[1, 1, 1, 1, 1, 1, 1, 1, 1, 1],\n",
       "       [1, 1, 1, 1, 1, 1, 1, 1, 1, 1],\n",
       "       [1, 1, 1, 1, 1, 1, 1, 1, 1, 1],\n",
       "       [1, 1, 1, 1, 1, 1, 1, 1, 1, 1],\n",
       "       [1, 1, 1, 1, 1, 1, 1, 1, 1, 1],\n",
       "       [1, 1, 1, 1, 1, 1, 1, 1, 1, 1],\n",
       "       [1, 1, 1, 1, 1, 1, 1, 1, 1, 1],\n",
       "       [1, 1, 1, 1, 1, 1, 1, 1, 1, 1],\n",
       "       [1, 1, 1, 1, 1, 1, 1, 1, 1, 1],\n",
       "       [1, 1, 1, 1, 1, 1, 1, 1, 1, 1]])"
      ]
     },
     "execution_count": 23,
     "metadata": {},
     "output_type": "execute_result"
    }
   ],
   "source": [
    "arr"
   ]
  },
  {
   "cell_type": "code",
   "execution_count": 24,
   "id": "1a6d398e-9e03-4b15-aa74-732ff711891d",
   "metadata": {},
   "outputs": [
    {
     "data": {
      "text/plain": [
       "array([[0.37382351, 0.22060975, 0.55619742],\n",
       "       [0.64560009, 0.02616842, 0.34177492]])"
      ]
     },
     "execution_count": 24,
     "metadata": {},
     "output_type": "execute_result"
    }
   ],
   "source": [
    "arr = np.random.rand(2,3)\n",
    "arr"
   ]
  },
  {
   "cell_type": "code",
   "execution_count": 25,
   "id": "354aacd2-4f2e-4ee3-8d58-3e8aa12f30f7",
   "metadata": {},
   "outputs": [
    {
     "data": {
      "text/plain": [
       "array([[0.05518729, 0.53926395, 0.44913536, 0.51589408, 0.47004495],\n",
       "       [0.41340683, 0.49630755, 0.45165112, 0.85272395, 0.27106902]])"
      ]
     },
     "execution_count": 25,
     "metadata": {},
     "output_type": "execute_result"
    }
   ],
   "source": [
    "np.random.rand(2,5)"
   ]
  },
  {
   "cell_type": "code",
   "execution_count": 26,
   "id": "49981f88-dbb3-4f6b-940b-81686965cd7a",
   "metadata": {},
   "outputs": [
    {
     "data": {
      "text/plain": [
       "array([[6, 3, 7, 6],\n",
       "       [3, 7, 9, 7]], dtype=int32)"
      ]
     },
     "execution_count": 26,
     "metadata": {},
     "output_type": "execute_result"
    }
   ],
   "source": [
    "np.random.randint(1, 10, (2, 4))    # Generate random integer number. use randint()"
   ]
  },
  {
   "cell_type": "code",
   "execution_count": 27,
   "id": "c30b20c5-d21a-406e-bf21-40fa002c89b6",
   "metadata": {},
   "outputs": [
    {
     "data": {
      "text/plain": [
       "array([-0.88525304, -0.53177207, -2.42712425, -1.63241698, -0.12972767,\n",
       "        1.66581448, -0.77301698, -2.20817337,  0.06765331,  0.79749708])"
      ]
     },
     "execution_count": 27,
     "metadata": {},
     "output_type": "execute_result"
    }
   ],
   "source": [
    "np.random.randn(10) # standidisation"
   ]
  },
  {
   "cell_type": "code",
   "execution_count": 28,
   "id": "15e24677-1931-47ad-96a3-3795cc884b65",
   "metadata": {},
   "outputs": [
    {
     "data": {
      "text/plain": [
       "array([10, 13, 11, 11], dtype=int32)"
      ]
     },
     "execution_count": 28,
     "metadata": {},
     "output_type": "execute_result"
    }
   ],
   "source": [
    "np.random.randint(10,15,4)  # print4 random number between 10 and 15."
   ]
  },
  {
   "cell_type": "markdown",
   "id": "f388272e-cca7-4105-a4f3-fe4bc1c3b50d",
   "metadata": {},
   "source": [
    "# Linspace:\n",
    "\n",
    "    - In NumPy, the linspace() function is used to create a sequence of evenly spaced numbers over a specified range.\n",
    "\n",
    "**Syntax : np.linspace(start, stop, num=50, endpoint=True, retstep=False, dtype=None)\n",
    "\n",
    "**Parameters:\n",
    "\n",
    "    - Start – The starting value of the sequence.\n",
    "    - Stop – The end value of the sequence.\n",
    "    - Num (optional) – Number of values to generate (default = 50).\n",
    "    - Endpoint (optional) –\n",
    "    - True (default): Includes the stop value in the sequence.\n",
    "    - False: Excludes the stop value.\n",
    "    - Retstep (optional) –\n",
    "    - True: Returns both the array and the spacing between values.\n",
    "    - False (default): Returns only the array.\n",
    "    - dtype (optional) – The type of the output array (e.g., int, float).\n",
    "\n",
    "**Key Difference from arange()\n",
    "\n",
    "    - linspace() is based on number of elements you want.\n",
    "    - arange() is based on the step size.\n"
   ]
  },
  {
   "cell_type": "markdown",
   "id": "b9843355-01f6-47ce-b4b7-f5ff86236a38",
   "metadata": {},
   "source": [
    "# identity\n",
    "\n",
    "indentity matrix is that diagonal items will be ones and evrything will be zeros\n"
   ]
  },
  {
   "cell_type": "code",
   "execution_count": 29,
   "id": "d5173897-f6dd-475a-beab-8b1935e662d9",
   "metadata": {},
   "outputs": [
    {
     "data": {
      "text/plain": [
       "array([[1., 0., 0.],\n",
       "       [0., 1., 0.],\n",
       "       [0., 0., 1.]])"
      ]
     },
     "execution_count": 29,
     "metadata": {},
     "output_type": "execute_result"
    }
   ],
   "source": [
    "# creating the indentity matrix\n",
    "np.identity(3)"
   ]
  },
  {
   "cell_type": "code",
   "execution_count": 30,
   "id": "9d4f2e68-75e0-4c0d-872b-03c1be56b18b",
   "metadata": {},
   "outputs": [
    {
     "data": {
      "text/plain": [
       "array([[1., 0., 0., 0., 0., 0.],\n",
       "       [0., 1., 0., 0., 0., 0.],\n",
       "       [0., 0., 1., 0., 0., 0.],\n",
       "       [0., 0., 0., 1., 0., 0.],\n",
       "       [0., 0., 0., 0., 1., 0.],\n",
       "       [0., 0., 0., 0., 0., 1.]])"
      ]
     },
     "execution_count": 30,
     "metadata": {},
     "output_type": "execute_result"
    }
   ],
   "source": [
    "np.identity(6)"
   ]
  },
  {
   "cell_type": "markdown",
   "id": "ead192a2-7800-4dab-9c97-534151e2b631",
   "metadata": {},
   "source": [
    "# Linspace\n",
    "    \n",
    "    - start → The first value in the range (here 1).\n",
    "    - stop → The last value in the range (here 10).\n",
    "    - Blue dots → Evenly spaced numbers generated between start and stop.\n",
    "    - evenly spaced → Means the interval (gap) between consecutive numbers is the same."
   ]
  },
  {
   "cell_type": "code",
   "execution_count": 31,
   "id": "d9bbfef8-ccf6-40f6-a3f7-e2d4ffc14407",
   "metadata": {},
   "outputs": [
    {
     "data": {
      "text/plain": [
       "array([ 1.        ,  1.18367347,  1.36734694,  1.55102041,  1.73469388,\n",
       "        1.91836735,  2.10204082,  2.28571429,  2.46938776,  2.65306122,\n",
       "        2.83673469,  3.02040816,  3.20408163,  3.3877551 ,  3.57142857,\n",
       "        3.75510204,  3.93877551,  4.12244898,  4.30612245,  4.48979592,\n",
       "        4.67346939,  4.85714286,  5.04081633,  5.2244898 ,  5.40816327,\n",
       "        5.59183673,  5.7755102 ,  5.95918367,  6.14285714,  6.32653061,\n",
       "        6.51020408,  6.69387755,  6.87755102,  7.06122449,  7.24489796,\n",
       "        7.42857143,  7.6122449 ,  7.79591837,  7.97959184,  8.16326531,\n",
       "        8.34693878,  8.53061224,  8.71428571,  8.89795918,  9.08163265,\n",
       "        9.26530612,  9.44897959,  9.63265306,  9.81632653, 10.        ])"
      ]
     },
     "execution_count": 31,
     "metadata": {},
     "output_type": "execute_result"
    }
   ],
   "source": [
    "np.linspace(1,10)"
   ]
  },
  {
   "cell_type": "code",
   "execution_count": 32,
   "id": "1d2861c9-17e4-48d7-9e3b-f51d433752bf",
   "metadata": {},
   "outputs": [
    {
     "data": {
      "text/plain": [
       "array([1.  , 1.25, 1.5 , 1.75, 2.  ])"
      ]
     },
     "execution_count": 32,
     "metadata": {},
     "output_type": "execute_result"
    }
   ],
   "source": [
    "arr = np.linspace(1,2,5) # step count\n",
    "arr"
   ]
  },
  {
   "cell_type": "code",
   "execution_count": 33,
   "id": "da145e39-9ba9-4005-ba73-79dbb80cc1c9",
   "metadata": {},
   "outputs": [
    {
     "data": {
      "text/plain": [
       "array([ 1,  1,  1,  2,  2,  3,  3,  4,  4,  5,  5,  6,  6,  7,  7,  8,  8,\n",
       "        9,  9, 10])"
      ]
     },
     "execution_count": 33,
     "metadata": {},
     "output_type": "execute_result"
    }
   ],
   "source": [
    "arr = np.linspace(1,10,num=20,dtype=int)\n",
    "arr"
   ]
  },
  {
   "cell_type": "code",
   "execution_count": 34,
   "id": "d9c27b7c-bb75-4025-b3e0-23160e77aa03",
   "metadata": {},
   "outputs": [],
   "source": [
    "arr2 = np.linspace(2,6,num=7)"
   ]
  },
  {
   "cell_type": "code",
   "execution_count": 35,
   "id": "68285d0d-2121-442a-bfe7-0b7fe5c12e4c",
   "metadata": {},
   "outputs": [
    {
     "data": {
      "text/plain": [
       "array([2.        , 2.66666667, 3.33333333, 4.        , 4.66666667,\n",
       "       5.33333333, 6.        ])"
      ]
     },
     "execution_count": 35,
     "metadata": {},
     "output_type": "execute_result"
    }
   ],
   "source": [
    "arr2"
   ]
  },
  {
   "cell_type": "code",
   "execution_count": 36,
   "id": "62f7c1f8-1add-4b8c-9c35-05eb2558bc8d",
   "metadata": {},
   "outputs": [
    {
     "data": {
      "text/plain": [
       "array([2, 2, 3, 4, 4, 5, 6])"
      ]
     },
     "execution_count": 36,
     "metadata": {},
     "output_type": "execute_result"
    }
   ],
   "source": [
    "# convert the above code into int data type:\n",
    "\n",
    "arr2 = np.linspace(2,6,num=7,dtype=int)\n",
    "arr2"
   ]
  },
  {
   "cell_type": "markdown",
   "id": "6daa0fd2-cf97-4181-812b-26098e1cb4a3",
   "metadata": {},
   "source": [
    "# Max & Min"
   ]
  },
  {
   "cell_type": "code",
   "execution_count": 37,
   "id": "59bc16a7-1e2d-4c81-a12c-f0d8f8c596bd",
   "metadata": {},
   "outputs": [
    {
     "name": "stdout",
     "output_type": "stream",
     "text": [
      "6\n"
     ]
    }
   ],
   "source": [
    "print(np.max(arr2))"
   ]
  },
  {
   "cell_type": "code",
   "execution_count": 38,
   "id": "33d0c657-692a-4936-9ee0-dbdd87411f34",
   "metadata": {},
   "outputs": [
    {
     "name": "stdout",
     "output_type": "stream",
     "text": [
      "10\n"
     ]
    }
   ],
   "source": [
    "print(np.max(arr))"
   ]
  },
  {
   "cell_type": "code",
   "execution_count": 39,
   "id": "d2557954-8dc8-4b31-ada5-5fdbbd85ead7",
   "metadata": {},
   "outputs": [
    {
     "name": "stdout",
     "output_type": "stream",
     "text": [
      "1\n"
     ]
    }
   ],
   "source": [
    "print(np.min(arr))"
   ]
  },
  {
   "cell_type": "code",
   "execution_count": 40,
   "id": "8e33aa07-9f4b-41c0-bce8-6c4188481579",
   "metadata": {},
   "outputs": [
    {
     "name": "stdout",
     "output_type": "stream",
     "text": [
      "2\n"
     ]
    }
   ],
   "source": [
    "print(np.min(arr2))"
   ]
  },
  {
   "cell_type": "code",
   "execution_count": 41,
   "id": "e6c7e484-5710-4f1f-a776-808eb565ef82",
   "metadata": {},
   "outputs": [
    {
     "name": "stdout",
     "output_type": "stream",
     "text": [
      "101\n"
     ]
    }
   ],
   "source": [
    "print(np.sum(arr))"
   ]
  },
  {
   "cell_type": "code",
   "execution_count": 42,
   "id": "fb1762ec-8ad2-49a6-ba6a-49ba979ad30c",
   "metadata": {},
   "outputs": [
    {
     "name": "stdout",
     "output_type": "stream",
     "text": [
      "26\n"
     ]
    }
   ],
   "source": [
    "print(np.sum(arr2))"
   ]
  },
  {
   "cell_type": "code",
   "execution_count": 43,
   "id": "a16616f0-1e53-43f3-976d-03a35c7933b5",
   "metadata": {},
   "outputs": [
    {
     "name": "stdout",
     "output_type": "stream",
     "text": [
      "1316818944000\n"
     ]
    }
   ],
   "source": [
    "# prod ----> Multiplication\n",
    "\n",
    "print(np.prod(arr))"
   ]
  },
  {
   "cell_type": "code",
   "execution_count": 44,
   "id": "fb9015e4-e59f-4047-9f6b-be5c6ccef691",
   "metadata": {},
   "outputs": [
    {
     "name": "stdout",
     "output_type": "stream",
     "text": [
      "5760\n"
     ]
    }
   ],
   "source": [
    "print(np.prod(arr2))"
   ]
  },
  {
   "cell_type": "code",
   "execution_count": 45,
   "id": "0f2223e5-e9b0-44f1-beb3-c5f946dedb51",
   "metadata": {},
   "outputs": [
    {
     "data": {
      "text/plain": [
       "array([[1, 2, 3],\n",
       "       [4, 5, 6],\n",
       "       [7, 8, 9]])"
      ]
     },
     "execution_count": 45,
     "metadata": {},
     "output_type": "execute_result"
    }
   ],
   "source": [
    "a = np.array([[1,2,3],[4,5,6],[7,8,9]])\n",
    "a"
   ]
  },
  {
   "cell_type": "code",
   "execution_count": 46,
   "id": "040ca80d-19d8-4750-b285-daeb42df0ca1",
   "metadata": {},
   "outputs": [
    {
     "data": {
      "text/plain": [
       "array([3, 6, 9])"
      ]
     },
     "execution_count": 46,
     "metadata": {},
     "output_type": "execute_result"
    }
   ],
   "source": [
    "# if we want maximum of every row\n",
    "\n",
    "np.max(a, axis = 1)"
   ]
  },
  {
   "cell_type": "code",
   "execution_count": 47,
   "id": "934d506c-0f00-4438-8fc4-7fdf5f82beca",
   "metadata": {},
   "outputs": [
    {
     "data": {
      "text/plain": [
       "array([7, 8, 9])"
      ]
     },
     "execution_count": 47,
     "metadata": {},
     "output_type": "execute_result"
    }
   ],
   "source": [
    "# maximum of every column\n",
    "\n",
    "np.max(a, axis = 0)"
   ]
  },
  {
   "cell_type": "code",
   "execution_count": 48,
   "id": "a632a201-f88d-421a-83c3-4560ccc809c2",
   "metadata": {},
   "outputs": [
    {
     "data": {
      "text/plain": [
       "array([ 28,  80, 162])"
      ]
     },
     "execution_count": 48,
     "metadata": {},
     "output_type": "execute_result"
    }
   ],
   "source": [
    "# product of every column\n",
    "\n",
    "np.prod(a, axis = 0)"
   ]
  },
  {
   "cell_type": "markdown",
   "id": "efac1243-c3e8-4a93-a7be-c8d6ec4ccc7f",
   "metadata": {},
   "source": [
    "# Mathematical Functions\n",
    "\n",
    "    - In NumPy, mathematical functions are divided into several categories — they work element-wise on arrays and are highly optimized for speed.\n",
    "                                                                                                                                      \n",
    "**Here’s a structured list                                                                                                                                      \n",
    "\n",
    "| Function            | Description    | Example                              |\n",
    "| ------------------- | -------------- | ------------------------------------ |\n",
    "| `np.add(a, b)`      | Addition       | `np.add([1,2],[3,4]) → [4 6]`        |\n",
    "| `np.subtract(a, b)` | Subtraction    | `np.subtract([5,4],[2,3]) → [3 1]`   |\n",
    "| `np.multiply(a, b)` | Multiplication | `np.multiply([2,3],[4,5]) → [8 15]`  |\n",
    "| `np.divide(a, b)`   | Division       | `np.divide([10,20],[2,5]) → [5. 4.]` |\n",
    "| `np.power(a, b)`    | Exponentiation | `np.power([2,3],[3,2]) → [8 9]`      |\n",
    "| `np.mod(a, b)`      | Modulus        | `np.mod([10,15],[3,4]) → [1 3]`      |\n"
   ]
  },
  {
   "cell_type": "code",
   "execution_count": 49,
   "id": "236aa146-8915-40c2-a5d4-799f435e9319",
   "metadata": {},
   "outputs": [
    {
     "name": "stdout",
     "output_type": "stream",
     "text": [
      "[1 2 3 4 5]\n",
      "[ 6  7  8  9 10]\n"
     ]
    }
   ],
   "source": [
    "a1 = np.array([1,2,3,4,5])\n",
    "a2 = np.array([6,7,8,9,10])\n",
    "print(a1)\n",
    "print(a2)"
   ]
  },
  {
   "cell_type": "code",
   "execution_count": 50,
   "id": "a5c955f5-3ff4-458f-88f9-08b62949f4cb",
   "metadata": {},
   "outputs": [
    {
     "data": {
      "text/plain": [
       "array([ 7,  9, 11, 13, 15])"
      ]
     },
     "execution_count": 50,
     "metadata": {},
     "output_type": "execute_result"
    }
   ],
   "source": [
    "# Addition of a1 & a2 :\n",
    "\n",
    "a1 + a2"
   ]
  },
  {
   "cell_type": "code",
   "execution_count": 51,
   "id": "0a1ce7ad-2c99-4db1-95cd-71f3360efacd",
   "metadata": {},
   "outputs": [
    {
     "data": {
      "text/plain": [
       "array([-5, -5, -5, -5, -5])"
      ]
     },
     "execution_count": 51,
     "metadata": {},
     "output_type": "execute_result"
    }
   ],
   "source": [
    "# Substracton of a1 & a2 :\n",
    "\n",
    "a1 - a2"
   ]
  },
  {
   "cell_type": "code",
   "execution_count": 52,
   "id": "fc6b61be-5276-4407-895f-16982d320411",
   "metadata": {},
   "outputs": [
    {
     "data": {
      "text/plain": [
       "array([0.16666667, 0.28571429, 0.375     , 0.44444444, 0.5       ])"
      ]
     },
     "execution_count": 52,
     "metadata": {},
     "output_type": "execute_result"
    }
   ],
   "source": [
    "# Division of a1 & a2 :\n",
    "\n",
    "a1 / a2"
   ]
  },
  {
   "cell_type": "code",
   "execution_count": 53,
   "id": "93099e61-d213-4f3b-9739-35b90e85fc89",
   "metadata": {},
   "outputs": [
    {
     "data": {
      "text/plain": [
       "array([0, 0, 0, 0, 0])"
      ]
     },
     "execution_count": 53,
     "metadata": {},
     "output_type": "execute_result"
    }
   ],
   "source": [
    "# int Division of a1 & a2 :\n",
    "\n",
    "a1 // a2"
   ]
  },
  {
   "cell_type": "code",
   "execution_count": 54,
   "id": "3a74db89-b7ec-4729-830d-b45cfb94f5c3",
   "metadata": {},
   "outputs": [
    {
     "data": {
      "text/plain": [
       "array([ 6, 14, 24, 36, 50])"
      ]
     },
     "execution_count": 54,
     "metadata": {},
     "output_type": "execute_result"
    }
   ],
   "source": [
    "# multiplication of a1 & a2 :\n",
    "\n",
    "a1 * a2"
   ]
  },
  {
   "cell_type": "code",
   "execution_count": 55,
   "id": "fc0845e4-26cf-45a9-9246-d9883540e9b1",
   "metadata": {},
   "outputs": [
    {
     "data": {
      "text/plain": [
       "array([      1,     128,    6561,  262144, 9765625])"
      ]
     },
     "execution_count": 55,
     "metadata": {},
     "output_type": "execute_result"
    }
   ],
   "source": [
    "# Power of a1 & a2:\n",
    "\n",
    "a1 ** a2"
   ]
  },
  {
   "cell_type": "code",
   "execution_count": 56,
   "id": "ede014e4-911b-4fdc-8f2e-2dff4c0b3026",
   "metadata": {},
   "outputs": [
    {
     "name": "stdout",
     "output_type": "stream",
     "text": [
      "[ 1 11]\n",
      "[10 21]\n"
     ]
    }
   ],
   "source": [
    "a = np.array([1,11])\n",
    "print(a)\n",
    "b = np.array([10,21])\n",
    "print(b)"
   ]
  },
  {
   "cell_type": "code",
   "execution_count": 57,
   "id": "913abad2-164b-4757-9b76-603979164aa4",
   "metadata": {},
   "outputs": [
    {
     "name": "stdout",
     "output_type": "stream",
     "text": [
      "Added 2 to g: [3 4 5 6]\n"
     ]
    }
   ],
   "source": [
    "# Add two arrays\n",
    "g = np.array([1, 2, 3, 4])\n",
    "added = np.add(g, 2)  # Add 2 to each element\n",
    "print(\"Added 2 to g:\", added)"
   ]
  },
  {
   "cell_type": "code",
   "execution_count": 58,
   "id": "a7fce1ee-9848-4b26-9e72-9502c878f20a",
   "metadata": {},
   "outputs": [
    {
     "data": {
      "text/plain": [
       "array([  4, -11])"
      ]
     },
     "execution_count": 58,
     "metadata": {},
     "output_type": "execute_result"
    }
   ],
   "source": [
    "s = np.subtract([6,4],[2,15])     # substract 2 each elememnt\n",
    "s"
   ]
  },
  {
   "cell_type": "code",
   "execution_count": 59,
   "id": "dc460868-a130-4446-9f04-8a2486324436",
   "metadata": {},
   "outputs": [
    {
     "data": {
      "text/plain": [
       "array([0.5, 5.5])"
      ]
     },
     "execution_count": 59,
     "metadata": {},
     "output_type": "execute_result"
    }
   ],
   "source": [
    "d = np.divide(a,2)\n",
    "d"
   ]
  },
  {
   "cell_type": "code",
   "execution_count": 60,
   "id": "257d04fd-48e4-40c4-b71a-7f8f860c0c67",
   "metadata": {},
   "outputs": [
    {
     "data": {
      "text/plain": [
       "array([21, 32])"
      ]
     },
     "execution_count": 60,
     "metadata": {},
     "output_type": "execute_result"
    }
   ],
   "source": [
    "m = np.multiply([7,2],[3,16])\n",
    "m"
   ]
  },
  {
   "cell_type": "markdown",
   "id": "bbd6d18d-ba10-49d3-aa83-9bba433c2ef2",
   "metadata": {},
   "source": [
    "# Statistical Functions\n",
    "\n",
    "    - In NumPy, “Statistical Functions” are built-in methods that help you quickly calculate key statistics on numerical data stored in arrays.\n",
    "    - They work element-wise or on the whole array, and you can also specify an axis for row-wise or column-wise results.\n",
    "\n",
    "**1. Central Tendency Functions:\n",
    "\n",
    "| Function                      | Description               | Example                                      |\n",
    "| ----------------------------- | ------------------------- | -------------------------------------------- |\n",
    "| `np.mean(a)`                  | Arithmetic mean (average) | `np.mean([1,2,3]) → 2.0`                     |\n",
    "| `np.median(a)`                | Middle value when sorted  | `np.median([1,3,2]) → 2.0`                   |\n",
    "| `np.average(a, weights=None)` | Weighted average          | `np.average([1,2,3], weights=[1,2,1]) → 2.0` |\n",
    "\n",
    "\n",
    "\n",
    "**2. Spread (Dispersion) Functions:\n",
    "\n",
    "| Function    | Description        | Example                    |\n",
    "| ----------- | ------------------ | -------------------------- |\n",
    "| `np.std(a)` | Standard deviation | `np.std([1,2,3]) → 0.8165` |\n",
    "| `np.var(a)` | Variance           | `np.var([1,2,3]) → 0.6667` |\n",
    "\n",
    "\n",
    "**3. Min, Max, and Related:\n",
    "\n",
    "| Function    | Description     | Example               |\n",
    "| ----------- | --------------- | --------------------- |\n",
    "| `np.min(a)` | Minimum value   | `np.min([5,1,9]) → 1` |\n",
    "| `np.max(a)` | Maximum value   | `np.max([5,1,9]) → 9` |\n",
    "| `np.ptp(a)` | Range (max-min) | `np.ptp([5,1,9]) → 8` |\n",
    "\n",
    "\n"
   ]
  },
  {
   "cell_type": "code",
   "execution_count": 61,
   "id": "db1dfb17-ec71-43a5-a98c-191953f4bd2b",
   "metadata": {},
   "outputs": [
    {
     "name": "stdout",
     "output_type": "stream",
     "text": [
      "Mean of s: 2.5\n"
     ]
    }
   ],
   "source": [
    "s = np.array([1, 2, 3, 4])\n",
    "mean = np.mean(s)\n",
    "print(\"Mean of s:\", mean)"
   ]
  },
  {
   "cell_type": "code",
   "execution_count": 62,
   "id": "b39b0b1c-d200-42d9-83f4-3664844eb986",
   "metadata": {},
   "outputs": [
    {
     "name": "stdout",
     "output_type": "stream",
     "text": [
      "mean of m is : 2.5\n"
     ]
    }
   ],
   "source": [
    "m = np.array([1,2,3,4,5,6,7,8])\n",
    "mean = np.mean(s)\n",
    "print(\"mean of m is :\",mean)"
   ]
  },
  {
   "cell_type": "markdown",
   "id": "8e7fa583-f46f-423e-8aee-a0fa05211694",
   "metadata": {},
   "source": [
    "# Array Attributes\n",
    "\n",
    "    - In NumPy, array attributes give you important information about the structure, size, shape, and type of an array.\n",
    "    - They are not methods (so no ()), they are properties you access directly.\n",
    "\n",
    "**Common NumPy Array Attributes:\n",
    "\n",
    "| Attribute              | Description                                       | Example                      |\n",
    "| ---------------------- | ------------------------------------------------- | ---------------------------- |\n",
    "| **`ndarray.ndim`**     | Number of dimensions (axes)                       | `a.ndim → 2`                 |\n",
    "| **`ndarray.shape`**    | Tuple of array dimensions (rows, cols, etc.)      | `a.shape → (3, 4)`           |\n",
    "| **`ndarray.size`**     | Total number of elements                          | `a.size → 12`                |\n",
    "| **`ndarray.dtype`**    | Data type of array elements                       | `a.dtype → dtype('int32')`   |\n",
    "| **`ndarray.itemsize`** | Size in bytes of one element                      | `a.itemsize → 4` (for int32) |\n",
    "| **`ndarray.nbytes`**   | Total bytes consumed (`size × itemsize`)          | `a.nbytes → 48`              |\n",
    "| **`ndarray.T`**        | Transposed version of array                       | `a.T`                        |\n",
    "| **`ndarray.real`**     | Real part (for complex arrays)                    | `a.real`                     |\n",
    "| **`ndarray.imag`**     | Imaginary part (for complex arrays)               | `a.imag`                     |\n",
    "| **`ndarray.data`**     | Memory buffer of the array (rarely used directly) | `a.data`                     |\n"
   ]
  },
  {
   "cell_type": "code",
   "execution_count": 63,
   "id": "48471337-0431-44c5-b9c6-6fd39876f450",
   "metadata": {},
   "outputs": [
    {
     "data": {
      "text/plain": [
       "array([0, 1, 2, 3, 4, 5, 6, 7, 8, 9])"
      ]
     },
     "execution_count": 63,
     "metadata": {},
     "output_type": "execute_result"
    }
   ],
   "source": [
    "a1 = np.arange(10) # 1D\n",
    "a1\n"
   ]
  },
  {
   "cell_type": "code",
   "execution_count": 64,
   "id": "c6b3e7f3-f530-4594-8f2e-a7c2aa716fb0",
   "metadata": {},
   "outputs": [
    {
     "data": {
      "text/plain": [
       "array([[ 0.,  1.,  2.,  3.],\n",
       "       [ 4.,  5.,  6.,  7.],\n",
       "       [ 8.,  9., 10., 11.]])"
      ]
     },
     "execution_count": 64,
     "metadata": {},
     "output_type": "execute_result"
    }
   ],
   "source": [
    "a2 =np.arange(12, dtype =float).reshape(3,4) # Matrix\n",
    "a2\n"
   ]
  },
  {
   "cell_type": "code",
   "execution_count": 65,
   "id": "ced2c507-66bb-42a2-b6bf-bad7949ee98c",
   "metadata": {},
   "outputs": [
    {
     "data": {
      "text/plain": [
       "array([[[0, 1],\n",
       "        [2, 3]],\n",
       "\n",
       "       [[4, 5],\n",
       "        [6, 7]]])"
      ]
     },
     "execution_count": 65,
     "metadata": {},
     "output_type": "execute_result"
    }
   ],
   "source": [
    "a3 = np.arange(8).reshape(2,2,2) # 3D --> Tensor\n",
    "a3\n"
   ]
  },
  {
   "cell_type": "markdown",
   "id": "702e6293-13c0-4167-b17b-52da69992239",
   "metadata": {},
   "source": [
    "# ndim\n",
    "    - To findout given arrays number of dimensions\n"
   ]
  },
  {
   "cell_type": "code",
   "execution_count": 66,
   "id": "a54a3347-9c44-4365-874f-c356368c2158",
   "metadata": {},
   "outputs": [
    {
     "data": {
      "text/plain": [
       "1"
      ]
     },
     "execution_count": 66,
     "metadata": {},
     "output_type": "execute_result"
    }
   ],
   "source": [
    "a1.ndim\n"
   ]
  },
  {
   "cell_type": "code",
   "execution_count": 67,
   "id": "243c761b-8e78-4a5d-99f6-d65b322e76f5",
   "metadata": {},
   "outputs": [
    {
     "data": {
      "text/plain": [
       "2"
      ]
     },
     "execution_count": 67,
     "metadata": {},
     "output_type": "execute_result"
    }
   ],
   "source": [
    "a2.ndim\n"
   ]
  },
  {
   "cell_type": "code",
   "execution_count": 68,
   "id": "9fa3a744-af99-47b5-9c06-0858f8cc9638",
   "metadata": {},
   "outputs": [
    {
     "data": {
      "text/plain": [
       "array([[1, 2, 3],\n",
       "       [4, 5, 6],\n",
       "       [7, 8, 9]])"
      ]
     },
     "execution_count": 68,
     "metadata": {},
     "output_type": "execute_result"
    }
   ],
   "source": [
    "a = np.array([[1,2,3],[4,5,6],[7,8,9]])\n",
    "a"
   ]
  },
  {
   "cell_type": "code",
   "execution_count": 69,
   "id": "0f41b673-7630-47a8-ba73-ba75ba71575c",
   "metadata": {},
   "outputs": [
    {
     "data": {
      "text/plain": [
       "3"
      ]
     },
     "execution_count": 69,
     "metadata": {},
     "output_type": "execute_result"
    }
   ],
   "source": [
    "a3.ndim"
   ]
  },
  {
   "cell_type": "code",
   "execution_count": 70,
   "id": "4ad67faf-61e3-4c25-8b36-e452626a2c59",
   "metadata": {},
   "outputs": [
    {
     "name": "stdout",
     "output_type": "stream",
     "text": [
      "Array:\n",
      " [[1 2 3]\n",
      " [4 5 6]\n",
      " [7 8 9]]\n"
     ]
    }
   ],
   "source": [
    "print(\"Array:\\n\", a)"
   ]
  },
  {
   "cell_type": "markdown",
   "id": "81c1bd76-719e-4f48-af1d-78782634130f",
   "metadata": {},
   "source": [
    "# shape\n",
    "    - gives each item consist of no.of rows and np.of column\n"
   ]
  },
  {
   "cell_type": "code",
   "execution_count": 71,
   "id": "0528eec8-8d3f-41ed-a272-c14300141027",
   "metadata": {},
   "outputs": [
    {
     "data": {
      "text/plain": [
       "(10,)"
      ]
     },
     "execution_count": 71,
     "metadata": {},
     "output_type": "execute_result"
    }
   ],
   "source": [
    "a1.shape # 1D array has 10 Items"
   ]
  },
  {
   "cell_type": "code",
   "execution_count": 72,
   "id": "259a13a9-fdd6-49ee-9ee1-588b7578b6b2",
   "metadata": {},
   "outputs": [
    {
     "data": {
      "text/plain": [
       "(3, 4)"
      ]
     },
     "execution_count": 72,
     "metadata": {},
     "output_type": "execute_result"
    }
   ],
   "source": [
    "a2.shape # 3 rows and 4 columns"
   ]
  },
  {
   "cell_type": "code",
   "execution_count": 73,
   "id": "3a158f1d-308a-4ac2-868a-dee782d4e691",
   "metadata": {},
   "outputs": [
    {
     "data": {
      "text/plain": [
       "(3, 3)"
      ]
     },
     "execution_count": 73,
     "metadata": {},
     "output_type": "execute_result"
    }
   ],
   "source": [
    "a.shape    #uple of array dimensions (rows, cols, etc.)"
   ]
  },
  {
   "cell_type": "code",
   "execution_count": 74,
   "id": "b8323269-e438-45f4-946d-7fcbeea21e27",
   "metadata": {},
   "outputs": [
    {
     "data": {
      "text/plain": [
       "(2, 2, 2)"
      ]
     },
     "execution_count": 74,
     "metadata": {},
     "output_type": "execute_result"
    }
   ],
   "source": [
    "a3.shape # first ,2 says it consists of 2D arrays .2,2 gives no.of rows and c"
   ]
  },
  {
   "cell_type": "markdown",
   "id": "fa2f8297-fe64-4ef4-9cef-b030d0cdca6a",
   "metadata": {},
   "source": [
    "# size\n",
    "    - gives number of items"
   ]
  },
  {
   "cell_type": "code",
   "execution_count": 75,
   "id": "0df47991-2dd8-472f-a17f-86f8f8f6d694",
   "metadata": {},
   "outputs": [
    {
     "data": {
      "text/plain": [
       "array([[[0, 1],\n",
       "        [2, 3]],\n",
       "\n",
       "       [[4, 5],\n",
       "        [6, 7]]])"
      ]
     },
     "execution_count": 75,
     "metadata": {},
     "output_type": "execute_result"
    }
   ],
   "source": [
    "a3"
   ]
  },
  {
   "cell_type": "code",
   "execution_count": 76,
   "id": "46bedaa1-8784-463d-bd0d-b2fdcaeebd30",
   "metadata": {},
   "outputs": [
    {
     "data": {
      "text/plain": [
       "8"
      ]
     },
     "execution_count": 76,
     "metadata": {},
     "output_type": "execute_result"
    }
   ],
   "source": [
    "a3.size # it has 8 items . like shape :2,2,2 = 8"
   ]
  },
  {
   "cell_type": "code",
   "execution_count": 77,
   "id": "ffbec442-b352-4809-a037-c048259419d6",
   "metadata": {},
   "outputs": [
    {
     "data": {
      "text/plain": [
       "array([[ 0.,  1.,  2.,  3.],\n",
       "       [ 4.,  5.,  6.,  7.],\n",
       "       [ 8.,  9., 10., 11.]])"
      ]
     },
     "execution_count": 77,
     "metadata": {},
     "output_type": "execute_result"
    }
   ],
   "source": [
    "a2"
   ]
  },
  {
   "cell_type": "code",
   "execution_count": 78,
   "id": "e094749d-a20e-47f8-8ab2-df08c33f3e83",
   "metadata": {},
   "outputs": [
    {
     "data": {
      "text/plain": [
       "12"
      ]
     },
     "execution_count": 78,
     "metadata": {},
     "output_type": "execute_result"
    }
   ],
   "source": [
    "a2.size"
   ]
  },
  {
   "cell_type": "markdown",
   "id": "2fe02f2b-2e23-45fe-873a-f9e1bfb41d71",
   "metadata": {},
   "source": [
    "# item size\n",
    "    - Memory occupied by the item\n"
   ]
  },
  {
   "cell_type": "code",
   "execution_count": 79,
   "id": "ead4332f-d0f8-4264-b257-59841eadf7a7",
   "metadata": {},
   "outputs": [
    {
     "data": {
      "text/plain": [
       "array([0, 1, 2, 3, 4, 5, 6, 7, 8, 9])"
      ]
     },
     "execution_count": 79,
     "metadata": {},
     "output_type": "execute_result"
    }
   ],
   "source": [
    "a1\n"
   ]
  },
  {
   "cell_type": "code",
   "execution_count": 80,
   "id": "ff29295c-8238-4b3e-bd3d-1c0d5e4cf149",
   "metadata": {},
   "outputs": [
    {
     "data": {
      "text/plain": [
       "8"
      ]
     },
     "execution_count": 80,
     "metadata": {},
     "output_type": "execute_result"
    }
   ],
   "source": [
    "a1.itemsize # bytes\n"
   ]
  },
  {
   "cell_type": "code",
   "execution_count": 81,
   "id": "c83f2d4f-1cac-483e-893b-b4e09d7e43cd",
   "metadata": {},
   "outputs": [
    {
     "data": {
      "text/plain": [
       "array([[ 0.,  1.,  2.,  3.],\n",
       "       [ 4.,  5.,  6.,  7.],\n",
       "       [ 8.,  9., 10., 11.]])"
      ]
     },
     "execution_count": 81,
     "metadata": {},
     "output_type": "execute_result"
    }
   ],
   "source": [
    "a2"
   ]
  },
  {
   "cell_type": "code",
   "execution_count": 82,
   "id": "b000093a-b73e-4524-afcf-8a12371700b0",
   "metadata": {},
   "outputs": [
    {
     "data": {
      "text/plain": [
       "8"
      ]
     },
     "execution_count": 82,
     "metadata": {},
     "output_type": "execute_result"
    }
   ],
   "source": [
    "a2.itemsize # integer 64 gives = 8 bytes"
   ]
  },
  {
   "cell_type": "code",
   "execution_count": 83,
   "id": "4e70a64e-0842-42f2-adb7-06437367ad34",
   "metadata": {},
   "outputs": [
    {
     "data": {
      "text/plain": [
       "array([[[0, 1],\n",
       "        [2, 3]],\n",
       "\n",
       "       [[4, 5],\n",
       "        [6, 7]]])"
      ]
     },
     "execution_count": 83,
     "metadata": {},
     "output_type": "execute_result"
    }
   ],
   "source": [
    "a3"
   ]
  },
  {
   "cell_type": "code",
   "execution_count": 84,
   "id": "98692136-e5fc-42f5-84bf-e3dc7d38fa3a",
   "metadata": {},
   "outputs": [
    {
     "data": {
      "text/plain": [
       "8"
      ]
     },
     "execution_count": 84,
     "metadata": {},
     "output_type": "execute_result"
    }
   ],
   "source": [
    "a3.itemsize # integer 32 gives = 4 bytes"
   ]
  },
  {
   "cell_type": "markdown",
   "id": "4180aa69-7674-4a85-a013-fe9109bc5eeb",
   "metadata": {},
   "source": [
    "# dtype\n",
    "    - gives data type of the item\n"
   ]
  },
  {
   "cell_type": "code",
   "execution_count": 85,
   "id": "3d1dc8a9-7ff0-4c71-a5c8-b34246466542",
   "metadata": {},
   "outputs": [
    {
     "name": "stdout",
     "output_type": "stream",
     "text": [
      "int64\n",
      "float64\n",
      "int64\n"
     ]
    }
   ],
   "source": [
    "print(a1.dtype)\n",
    "print(a2.dtype)\n",
    "print(a3.dtype)"
   ]
  },
  {
   "cell_type": "code",
   "execution_count": 86,
   "id": "46be296c-d756-4817-99a8-d37e28de9203",
   "metadata": {},
   "outputs": [
    {
     "data": {
      "text/plain": [
       "dtype('int64')"
      ]
     },
     "execution_count": 86,
     "metadata": {},
     "output_type": "execute_result"
    }
   ],
   "source": [
    "a.dtype  #  Data type of array items  "
   ]
  },
  {
   "cell_type": "markdown",
   "id": "c43eab94-574e-4f88-8f9e-ba7afcf8bbf1",
   "metadata": {},
   "source": [
    "# Changing Data Type\n"
   ]
  },
  {
   "cell_type": "code",
   "execution_count": 87,
   "id": "46496811-5cb5-4699-9768-1790bdb4d72f",
   "metadata": {},
   "outputs": [
    {
     "data": {
      "text/plain": [
       "array([33. , 22. ,  2.5])"
      ]
     },
     "execution_count": 87,
     "metadata": {},
     "output_type": "execute_result"
    }
   ],
   "source": [
    "#astype\n",
    "\n",
    "x = np.array([33, 22, 2.5])\n",
    "x"
   ]
  },
  {
   "cell_type": "code",
   "execution_count": 88,
   "id": "d816ae25-cf1f-4a46-ac3f-0b72858caf7c",
   "metadata": {},
   "outputs": [
    {
     "data": {
      "text/plain": [
       "array([33, 22,  2])"
      ]
     },
     "execution_count": 88,
     "metadata": {},
     "output_type": "execute_result"
    }
   ],
   "source": [
    "x.astype(int)"
   ]
  },
  {
   "cell_type": "code",
   "execution_count": 89,
   "id": "1f182f93-a38d-40d5-825e-fb223112062a",
   "metadata": {},
   "outputs": [
    {
     "data": {
      "text/plain": [
       "array([5. , 7. , 7.9])"
      ]
     },
     "execution_count": 89,
     "metadata": {},
     "output_type": "execute_result"
    }
   ],
   "source": [
    "y = np.array([5,7,7.9])\n",
    "y"
   ]
  },
  {
   "cell_type": "code",
   "execution_count": 90,
   "id": "57c64c1a-3999-4efa-b90f-eebe2725cefb",
   "metadata": {},
   "outputs": [
    {
     "data": {
      "text/plain": [
       "array([5, 7, 7])"
      ]
     },
     "execution_count": 90,
     "metadata": {},
     "output_type": "execute_result"
    }
   ],
   "source": [
    "y.astype(int)"
   ]
  },
  {
   "cell_type": "markdown",
   "id": "8b0888e0-129e-4fa6-8530-72d535996fde",
   "metadata": {},
   "source": [
    "# Array Methods"
   ]
  },
  {
   "cell_type": "code",
   "execution_count": 91,
   "id": "fa271714-4e08-45ab-87f9-0dd4f0b04f52",
   "metadata": {},
   "outputs": [
    {
     "data": {
      "text/plain": [
       "array([[1, 2, 3],\n",
       "       [4, 5, 6],\n",
       "       [7, 8, 9]])"
      ]
     },
     "execution_count": 91,
     "metadata": {},
     "output_type": "execute_result"
    }
   ],
   "source": [
    "arr3 = np.array([[1,2,3],[4,5,6],[7,8,9]])\n",
    "arr3"
   ]
  },
  {
   "cell_type": "code",
   "execution_count": 92,
   "id": "b3e70ef0-1622-454a-8191-3c803cf05702",
   "metadata": {},
   "outputs": [
    {
     "name": "stdout",
     "output_type": "stream",
     "text": [
      "9\n"
     ]
    }
   ],
   "source": [
    "print(arr3.max()) # maximum number in the list"
   ]
  },
  {
   "cell_type": "code",
   "execution_count": 93,
   "id": "bfc3053d-13c9-48b6-b9ba-b2595c52b61e",
   "metadata": {},
   "outputs": [
    {
     "name": "stdout",
     "output_type": "stream",
     "text": [
      "1\n"
     ]
    }
   ],
   "source": [
    "print(arr3.min()) # print smallest in the list"
   ]
  },
  {
   "cell_type": "code",
   "execution_count": 94,
   "id": "0ed5c77e-1418-4403-988d-bba3550eae86",
   "metadata": {},
   "outputs": [
    {
     "name": "stdout",
     "output_type": "stream",
     "text": [
      "45\n"
     ]
    }
   ],
   "source": [
    "print(arr3.sum()) # addition of matrix"
   ]
  },
  {
   "cell_type": "code",
   "execution_count": 95,
   "id": "38d2911c-c81e-4e40-a84f-6755d4aae61f",
   "metadata": {},
   "outputs": [
    {
     "name": "stdout",
     "output_type": "stream",
     "text": [
      "[12 15 18]\n"
     ]
    }
   ],
   "source": [
    "print(np.sum(arr3,0))   # Addition of COULMN"
   ]
  },
  {
   "cell_type": "code",
   "execution_count": 96,
   "id": "a8bccb21-0aa7-4660-b811-b2dee8db5947",
   "metadata": {},
   "outputs": [
    {
     "name": "stdout",
     "output_type": "stream",
     "text": [
      "[ 6 15 24]\n"
     ]
    }
   ],
   "source": [
    "print(np.sum(arr3,1))  # Addition of ROWS in the matrix."
   ]
  },
  {
   "cell_type": "code",
   "execution_count": 97,
   "id": "3c1ce876-e514-4a1e-aa72-579476629dfc",
   "metadata": {},
   "outputs": [
    {
     "name": "stdout",
     "output_type": "stream",
     "text": [
      "5.0\n"
     ]
    }
   ],
   "source": [
    "print(np.mean(arr3))   # mean position"
   ]
  },
  {
   "cell_type": "code",
   "execution_count": 98,
   "id": "ae4f7857-1b97-4535-8d9b-014f639e2ba3",
   "metadata": {},
   "outputs": [
    {
     "name": "stdout",
     "output_type": "stream",
     "text": [
      "2.581988897471611\n"
     ]
    }
   ],
   "source": [
    "print(np.std(arr3))# Standerd daviation"
   ]
  },
  {
   "cell_type": "code",
   "execution_count": 99,
   "id": "195895c9-b6f0-451c-9c1b-e6d46178f53d",
   "metadata": {},
   "outputs": [
    {
     "name": "stdout",
     "output_type": "stream",
     "text": [
      "8\n"
     ]
    }
   ],
   "source": [
    "print(np.argmax(arr3))# maximum element index number"
   ]
  },
  {
   "cell_type": "code",
   "execution_count": 100,
   "id": "22fb367a-f5e1-4eb5-b779-0d9e3df15fcf",
   "metadata": {},
   "outputs": [
    {
     "name": "stdout",
     "output_type": "stream",
     "text": [
      "0\n"
     ]
    }
   ],
   "source": [
    "print(np.argmin(arr3))   # minimun element index number"
   ]
  },
  {
   "cell_type": "markdown",
   "id": "02934076-afc8-4f9c-a424-f2677ab620d1",
   "metadata": {},
   "source": [
    "# Reshape & Resizing\n",
    "\n",
    "**1. reshape() – Change Shape Without Changing Data\n",
    " \n",
    "        - Purpose: Changes the dimensions (shape) of an array without changing the data.\n",
    "        - Important: The total number of elements must remain the same.\n",
    "\n",
    "**Syntax : numpy.reshape(a, newshape) , or : arr.reshape(newshape)\n",
    "\n",
    "\n",
    "**2. resize() – Change Shape AND Size\n",
    "\n",
    "        - Purpose: Changes shape and can change the total number of elements.\n",
    "        - Difference from reshape:\n",
    "        - resize() modifies the original array (in-place if called as a method).\n",
    "        - If the new size is bigger, extra elements are filled with zeros.\n",
    "        - If smaller, extra data is truncated.\n",
    "\n",
    "**Syntax :  numpy.resize(a, new_shape)   # Returns new array\n",
    "            arr.resize(new_shape)        # Changes array in place\n",
    "\n",
    "\n",
    "Key Differences:\n",
    "\n",
    "| Feature                | `reshape()`           | `resize()`                     |\n",
    "| ---------------------- | --------------------- | ------------------------------ |\n",
    "| Changes element count? | ❌ No                  | ✅ Yes                          |\n",
    "| Creates a copy?        | Sometimes (if needed) | Optional (can modify original) |\n",
    "| Keeps original array?  | ✅ Yes                 | ❌ Can overwrite                |\n",
    "| Fills missing values?  | ❌ No                  | ✅ Yes, with zeros              |\n",
    "\n"
   ]
  },
  {
   "cell_type": "code",
   "execution_count": 101,
   "id": "aa4575fd-0644-45f8-8899-a944a88261e3",
   "metadata": {},
   "outputs": [
    {
     "data": {
      "text/plain": [
       "array([ 1,  2,  3,  4,  5,  6,  7,  8,  9, 10, 11, 12, 13, 14, 15, 16, 17,\n",
       "       18, 19, 20, 21, 22, 23, 24, 25, 26, 27, 28, 29, 30])"
      ]
     },
     "execution_count": 101,
     "metadata": {},
     "output_type": "execute_result"
    }
   ],
   "source": [
    "arr = np.arange(1,31)\n",
    "arr"
   ]
  },
  {
   "cell_type": "code",
   "execution_count": 102,
   "id": "83b252a0-74cd-4090-ab70-1164a77d7a5b",
   "metadata": {},
   "outputs": [
    {
     "data": {
      "text/plain": [
       "array([[ 1,  2,  3,  4,  5],\n",
       "       [ 6,  7,  8,  9, 10],\n",
       "       [11, 12, 13, 14, 15],\n",
       "       [16, 17, 18, 19, 20],\n",
       "       [21, 22, 23, 24, 25],\n",
       "       [26, 27, 28, 29, 30]])"
      ]
     },
     "execution_count": 102,
     "metadata": {},
     "output_type": "execute_result"
    }
   ],
   "source": [
    "# convert above 1D array into 2D array using reshape function:\n",
    "\n",
    "arr.reshape(6,5) # Convertd 1D to 2D array."
   ]
  },
  {
   "cell_type": "markdown",
   "id": "552ea178-da1e-4850-8aac-ee463de061df",
   "metadata": {},
   "source": [
    "# reshape\n",
    "\n",
    "Both of number products should be equal to umber of Items present inside the array."
   ]
  },
  {
   "cell_type": "code",
   "execution_count": 103,
   "id": "9a7914e4-9299-400e-b144-dd8c7b70bbf4",
   "metadata": {},
   "outputs": [
    {
     "data": {
      "text/plain": [
       "array([[ 1,  2],\n",
       "       [ 3,  4],\n",
       "       [ 5,  6],\n",
       "       [ 7,  8],\n",
       "       [ 9, 10]])"
      ]
     },
     "execution_count": 103,
     "metadata": {},
     "output_type": "execute_result"
    }
   ],
   "source": [
    "np.arange(1,11).reshape(5,2) # converted 5 rows and 2 columns\n"
   ]
  },
  {
   "cell_type": "code",
   "execution_count": 104,
   "id": "5ce85939-d593-41f3-840c-acb453701247",
   "metadata": {},
   "outputs": [
    {
     "data": {
      "text/plain": [
       "array([[ 1,  2,  3,  4,  5],\n",
       "       [ 6,  7,  8,  9, 10]])"
      ]
     },
     "execution_count": 104,
     "metadata": {},
     "output_type": "execute_result"
    }
   ],
   "source": [
    "np.arange(1,11).reshape(2,5) # converted 2 rows and 5 columns\n"
   ]
  },
  {
   "cell_type": "code",
   "execution_count": 105,
   "id": "19da703e-7950-4105-9812-46556e1f58d7",
   "metadata": {},
   "outputs": [
    {
     "data": {
      "text/plain": [
       "array([[ 1,  2,  3,  4],\n",
       "       [ 5,  6,  7,  8],\n",
       "       [ 9, 10, 11, 12]])"
      ]
     },
     "execution_count": 105,
     "metadata": {},
     "output_type": "execute_result"
    }
   ],
   "source": [
    "np.arange(1,13).reshape(3,4) # converted 3 rows and 4 columns\n"
   ]
  },
  {
   "cell_type": "markdown",
   "id": "52975741-e1b4-4014-9233-5dda7af821ae",
   "metadata": {},
   "source": [
    "# Resize \n",
    "\n",
    "    - Purpose: Return a new array with the specified shape.\n",
    "    - It does not modify the original array.\n",
    "    - If the new shape is larger than the original, it repeats the array elements to fill the space.\n",
    "\n",
    "    - Use np.resize() if you want a new array and don’t want to touch the original.\n",
    "    - Use arr.resize() if you want to change the original array in-place"
   ]
  },
  {
   "cell_type": "code",
   "execution_count": 106,
   "id": "0ca6ae32-bbe7-48a8-835e-17e1448d3a8d",
   "metadata": {},
   "outputs": [
    {
     "data": {
      "text/plain": [
       "array([1, 2, 3, 4, 5])"
      ]
     },
     "execution_count": 106,
     "metadata": {},
     "output_type": "execute_result"
    }
   ],
   "source": [
    "arr = np.array([1,2,3,4,5])\n",
    "arr"
   ]
  },
  {
   "cell_type": "code",
   "execution_count": 107,
   "id": "5fe30f2a-c062-46e0-88f3-3cce7b9b9db8",
   "metadata": {},
   "outputs": [
    {
     "data": {
      "text/plain": [
       "array([[1, 2],\n",
       "       [3, 4]])"
      ]
     },
     "execution_count": 107,
     "metadata": {},
     "output_type": "execute_result"
    }
   ],
   "source": [
    "resize = np.resize(arr,(2,2))\n",
    "resize"
   ]
  },
  {
   "cell_type": "code",
   "execution_count": 108,
   "id": "2048764c-67f7-4ebd-a271-3046b517c06f",
   "metadata": {},
   "outputs": [
    {
     "data": {
      "text/plain": [
       "array([[1, 2, 3, 4],\n",
       "       [5, 1, 2, 3],\n",
       "       [4, 5, 1, 2],\n",
       "       [3, 4, 5, 1]])"
      ]
     },
     "execution_count": 108,
     "metadata": {},
     "output_type": "execute_result"
    }
   ],
   "source": [
    "rsz = np.resize(arr,(4,4))   # \"The new array needs 4×4 = 16 elements → [1, 2, 3, 4, 5 1, 2, 3, 4, 5 1, 2, ...] are repeated.\"\n",
    "rsz"
   ]
  },
  {
   "cell_type": "code",
   "execution_count": 109,
   "id": "a702145a-9538-4b4d-8d9d-8ecc14caf3b2",
   "metadata": {},
   "outputs": [
    {
     "data": {
      "text/plain": [
       "array([[1, 2, 3, 4, 5, 1],\n",
       "       [2, 3, 4, 5, 1, 2],\n",
       "       [3, 4, 5, 1, 2, 3],\n",
       "       [4, 5, 1, 2, 3, 4],\n",
       "       [5, 1, 2, 3, 4, 5],\n",
       "       [1, 2, 3, 4, 5, 1]])"
      ]
     },
     "execution_count": 109,
     "metadata": {},
     "output_type": "execute_result"
    }
   ],
   "source": [
    "s = np.resize(arr,(6,6)) # \"The new array needs 6 X 6 = 36 elements → [1, 2, 3, 4, 5 1, 2, 3, 4, 5 1, 2, ...] are repeated.\"\n",
    "rsz\n",
    "s"
   ]
  },
  {
   "cell_type": "markdown",
   "id": "df59991e-070a-429b-9282-aa59c8c6a2fc",
   "metadata": {},
   "source": [
    "# Indexing & Slicing of Vectors:\n",
    "\n",
    "**1. Indexing in NumPy\n",
    "\n",
    "        - Indexing means accessing elements from an array.\n",
    "        - NumPy supports 0-based indexing (first element index is 0).\n",
    "\n",
    "**2. Slicing in NumPy\n",
    "\n",
    "        - Slicing extracts a range of elements from an array."
   ]
  },
  {
   "cell_type": "code",
   "execution_count": 110,
   "id": "eafd3402-2f82-42cb-9e06-cf94cbf6fb4f",
   "metadata": {},
   "outputs": [],
   "source": [
    "p1 = np.arange(10)\n",
    "p2 = np.arange(12).reshape(3,4)\n",
    "p3 = np.arange(8).reshape(2,2,2)"
   ]
  },
  {
   "cell_type": "code",
   "execution_count": 111,
   "id": "b17f780f-e9d9-4c58-bd36-5e30515944f2",
   "metadata": {},
   "outputs": [
    {
     "data": {
      "text/plain": [
       "array([0, 1, 2, 3, 4, 5, 6, 7, 8, 9])"
      ]
     },
     "execution_count": 111,
     "metadata": {},
     "output_type": "execute_result"
    }
   ],
   "source": [
    "p1"
   ]
  },
  {
   "cell_type": "code",
   "execution_count": 112,
   "id": "64501312-dd9d-4569-b055-8edafc5b4c85",
   "metadata": {},
   "outputs": [
    {
     "data": {
      "text/plain": [
       "array([[ 0,  1,  2,  3],\n",
       "       [ 4,  5,  6,  7],\n",
       "       [ 8,  9, 10, 11]])"
      ]
     },
     "execution_count": 112,
     "metadata": {},
     "output_type": "execute_result"
    }
   ],
   "source": [
    "p2"
   ]
  },
  {
   "cell_type": "code",
   "execution_count": 113,
   "id": "f831173c-bec1-450f-8839-2ca3451e851f",
   "metadata": {},
   "outputs": [
    {
     "data": {
      "text/plain": [
       "array([[[0, 1],\n",
       "        [2, 3]],\n",
       "\n",
       "       [[4, 5],\n",
       "        [6, 7]]])"
      ]
     },
     "execution_count": 113,
     "metadata": {},
     "output_type": "execute_result"
    }
   ],
   "source": [
    "p3"
   ]
  },
  {
   "cell_type": "markdown",
   "id": "aa06a4e6-965f-4261-9346-b9074165c5cb",
   "metadata": {},
   "source": [
    "# Indexing on 1D array"
   ]
  },
  {
   "cell_type": "code",
   "execution_count": 114,
   "id": "ae66a7be-34d2-4124-927c-bfe271546f3b",
   "metadata": {},
   "outputs": [
    {
     "data": {
      "text/plain": [
       "array([0, 1, 2, 3, 4, 5, 6, 7, 8, 9])"
      ]
     },
     "execution_count": 114,
     "metadata": {},
     "output_type": "execute_result"
    }
   ],
   "source": [
    "p1"
   ]
  },
  {
   "cell_type": "code",
   "execution_count": 115,
   "id": "8b3cb5f7-59fc-459b-9c5f-c49a3c8e22f2",
   "metadata": {},
   "outputs": [
    {
     "name": "stdout",
     "output_type": "stream",
     "text": [
      "0\n"
     ]
    }
   ],
   "source": [
    "# fetchig first ietm\n",
    "\n",
    "print(p1[0])"
   ]
  },
  {
   "cell_type": "code",
   "execution_count": 116,
   "id": "2d576654-7b24-4054-856f-7a7b908b43f7",
   "metadata": {},
   "outputs": [
    {
     "name": "stdout",
     "output_type": "stream",
     "text": [
      "9\n"
     ]
    }
   ],
   "source": [
    "# fetching last item\n",
    "\n",
    "print(p1[-1])"
   ]
  },
  {
   "cell_type": "code",
   "execution_count": 117,
   "id": "ca642d9a-609a-4b10-b50e-eba00aa93b78",
   "metadata": {},
   "outputs": [
    {
     "data": {
      "text/plain": [
       "array([11, 12, 13, 14, 15, 16, 17, 18, 19, 20])"
      ]
     },
     "execution_count": 117,
     "metadata": {},
     "output_type": "execute_result"
    }
   ],
   "source": [
    "# 1D Array:\n",
    "\n",
    "arr = np.arange(11,21)\n",
    "arr"
   ]
  },
  {
   "cell_type": "code",
   "execution_count": 118,
   "id": "1df5a444-eeb7-45c2-a6f3-dfb9f1f2a9de",
   "metadata": {},
   "outputs": [
    {
     "name": "stdout",
     "output_type": "stream",
     "text": [
      "11\n"
     ]
    }
   ],
   "source": [
    "# Indexing:\n",
    "\n",
    "print(arr[0])       # zeroth index."
   ]
  },
  {
   "cell_type": "code",
   "execution_count": 119,
   "id": "3913e9b3-8c83-4b92-98f4-8dd4bac3f588",
   "metadata": {},
   "outputs": [
    {
     "name": "stdout",
     "output_type": "stream",
     "text": [
      "16\n"
     ]
    }
   ],
   "source": [
    "print(arr[5]) # 5th index number that is 16."
   ]
  },
  {
   "cell_type": "code",
   "execution_count": 120,
   "id": "4183e46e-e804-4f04-b779-65f92a748ddf",
   "metadata": {},
   "outputs": [
    {
     "name": "stdout",
     "output_type": "stream",
     "text": [
      "20\n"
     ]
    }
   ],
   "source": [
    "print(arr[9]) "
   ]
  },
  {
   "cell_type": "markdown",
   "id": "2f3ff12b-fbe5-42e7-9d1b-22b28c357939",
   "metadata": {},
   "source": [
    "# Slicing on 1D"
   ]
  },
  {
   "cell_type": "code",
   "execution_count": 121,
   "id": "ea968708-8202-494f-b5f6-33d07c9320d8",
   "metadata": {},
   "outputs": [
    {
     "data": {
      "text/plain": [
       "array([11, 12, 13, 14, 15, 16, 17, 18, 19, 20])"
      ]
     },
     "execution_count": 121,
     "metadata": {},
     "output_type": "execute_result"
    }
   ],
   "source": [
    "arr"
   ]
  },
  {
   "cell_type": "code",
   "execution_count": 122,
   "id": "2e926c95-4e82-482c-bb04-bd3c4fee4c85",
   "metadata": {},
   "outputs": [
    {
     "name": "stdout",
     "output_type": "stream",
     "text": [
      "[11 12 13 14 15 16]\n"
     ]
    }
   ],
   "source": [
    "# 1D Slicing:\n",
    "\n",
    "print(arr[0 : 6])     # slicing from 0th index to 6th index number."
   ]
  },
  {
   "cell_type": "code",
   "execution_count": 123,
   "id": "56eae35b-6bc8-48a4-8d06-f1b52850dbb1",
   "metadata": {},
   "outputs": [
    {
     "name": "stdout",
     "output_type": "stream",
     "text": [
      "[14 15 16 17 18 19 20]\n"
     ]
    }
   ],
   "source": [
    "print(arr[3 : ])  # slicing from 3rd index to last , by default after colon not mention is as the till the last.\n"
   ]
  },
  {
   "cell_type": "code",
   "execution_count": 124,
   "id": "6125e2f2-9884-4ea4-aaa3-332fe43a0ecb",
   "metadata": {},
   "outputs": [
    {
     "name": "stdout",
     "output_type": "stream",
     "text": [
      "[11 12 13 14 15 16]\n"
     ]
    }
   ],
   "source": [
    "print(arr[ : 6])  # slicing from oth index to 6th index"
   ]
  },
  {
   "cell_type": "code",
   "execution_count": 125,
   "id": "45ffeb84-87af-4d71-bed2-a7841fb99030",
   "metadata": {},
   "outputs": [
    {
     "name": "stdout",
     "output_type": "stream",
     "text": [
      "[11 13 15 17 19]\n"
     ]
    }
   ],
   "source": [
    "arr_1 = print(arr[0 : 9 : 2]) # step slicing.\n",
    "arr_1"
   ]
  },
  {
   "cell_type": "markdown",
   "id": "633b6a58-ed30-46a9-a9d2-ff8adb4c9e88",
   "metadata": {},
   "source": [
    "# Slicing on 2D\n",
    "\n",
    "\n",
    "\n",
    "| Slice Syntax    | Meaning                          |\n",
    "| --------------- | -------------------------------- |\n",
    "| `mat[0:2, :]`   | First 2 rows, all columns        |\n",
    "| `mat[:, 1:3]`   | All rows, columns 1 and 2        |\n",
    "| `mat[::2, ::2]` | Every 2nd row & every 2nd column |\n",
    "| `mat[-1, :]`    | Last row, all columns            |\n",
    "| `mat[:, -1]`    | All rows, last column            |\n"
   ]
  },
  {
   "cell_type": "code",
   "execution_count": 126,
   "id": "7a267aa4-b403-4aa6-b9ae-9081b090feec",
   "metadata": {},
   "outputs": [
    {
     "data": {
      "text/plain": [
       "array([[1, 2, 3],\n",
       "       [4, 5, 6],\n",
       "       [7, 8, 9]])"
      ]
     },
     "execution_count": 126,
     "metadata": {},
     "output_type": "execute_result"
    }
   ],
   "source": [
    "mat = np.arange(1,10).reshape(3,3)\n",
    "mat"
   ]
  },
  {
   "cell_type": "code",
   "execution_count": 127,
   "id": "c733e537-4297-4592-ae7c-77a2df9b583b",
   "metadata": {},
   "outputs": [
    {
     "data": {
      "text/plain": [
       "array([1, 2, 3])"
      ]
     },
     "execution_count": 127,
     "metadata": {},
     "output_type": "execute_result"
    }
   ],
   "source": [
    "mat[0] # Rows"
   ]
  },
  {
   "cell_type": "code",
   "execution_count": 128,
   "id": "1537ddf3-18c3-43ee-84c3-47a9727b4b06",
   "metadata": {},
   "outputs": [
    {
     "data": {
      "text/plain": [
       "array([4, 5, 6])"
      ]
     },
     "execution_count": 128,
     "metadata": {},
     "output_type": "execute_result"
    }
   ],
   "source": [
    "mat[1] # Rows"
   ]
  },
  {
   "cell_type": "code",
   "execution_count": 129,
   "id": "88cd884d-ec7c-4e6d-914c-73bd7e34ef42",
   "metadata": {},
   "outputs": [
    {
     "data": {
      "text/plain": [
       "array([7, 8, 9])"
      ]
     },
     "execution_count": 129,
     "metadata": {},
     "output_type": "execute_result"
    }
   ],
   "source": [
    "mat[2]  # Rows"
   ]
  },
  {
   "cell_type": "code",
   "execution_count": 130,
   "id": "ae0968ba-22b9-4688-9b54-9ec3a4efdd1d",
   "metadata": {},
   "outputs": [
    {
     "data": {
      "text/plain": [
       "array([1, 4, 7])"
      ]
     },
     "execution_count": 130,
     "metadata": {},
     "output_type": "execute_result"
    }
   ],
   "source": [
    "mat[:,0]  # columns"
   ]
  },
  {
   "cell_type": "code",
   "execution_count": 131,
   "id": "b6e0845d-cb47-446b-a980-140700a2f84d",
   "metadata": {},
   "outputs": [
    {
     "data": {
      "text/plain": [
       "array([2, 5, 8])"
      ]
     },
     "execution_count": 131,
     "metadata": {},
     "output_type": "execute_result"
    }
   ],
   "source": [
    "mat[:,1]   # columns"
   ]
  },
  {
   "cell_type": "code",
   "execution_count": 132,
   "id": "3797eb00-3cd6-4868-80e7-7e2e5efdcb9d",
   "metadata": {},
   "outputs": [
    {
     "data": {
      "text/plain": [
       "array([3, 6, 9])"
      ]
     },
     "execution_count": 132,
     "metadata": {},
     "output_type": "execute_result"
    }
   ],
   "source": [
    "mat[:,2]   # columns"
   ]
  },
  {
   "cell_type": "code",
   "execution_count": 133,
   "id": "e386d667-375a-408a-a08b-83ebd7da3acc",
   "metadata": {},
   "outputs": [
    {
     "data": {
      "text/plain": [
       "array([[1, 2, 3],\n",
       "       [4, 5, 6],\n",
       "       [7, 8, 9]])"
      ]
     },
     "execution_count": 133,
     "metadata": {},
     "output_type": "execute_result"
    }
   ],
   "source": [
    "mat"
   ]
  },
  {
   "cell_type": "code",
   "execution_count": 134,
   "id": "fd87b9ef-067a-4736-a633-00fd4914aff4",
   "metadata": {},
   "outputs": [
    {
     "data": {
      "text/plain": [
       "array([[4, 5, 6],\n",
       "       [7, 8, 9]])"
      ]
     },
     "execution_count": 134,
     "metadata": {},
     "output_type": "execute_result"
    }
   ],
   "source": [
    "mat[1:3]    # 1st row and 2nd row"
   ]
  },
  {
   "cell_type": "code",
   "execution_count": 135,
   "id": "f6e9d6ec-f023-4c1f-aea9-61227782529e",
   "metadata": {},
   "outputs": [
    {
     "data": {
      "text/plain": [
       "array([[1, 2, 3],\n",
       "       [4, 5, 6],\n",
       "       [7, 8, 9]])"
      ]
     },
     "execution_count": 135,
     "metadata": {},
     "output_type": "execute_result"
    }
   ],
   "source": [
    "mat[0:3]  # 0th to 3rd row"
   ]
  },
  {
   "cell_type": "code",
   "execution_count": 136,
   "id": "d32bf121-f6f4-44e4-ae08-9eba91a8f639",
   "metadata": {},
   "outputs": [
    {
     "data": {
      "text/plain": [
       "array([[1, 2],\n",
       "       [4, 5],\n",
       "       [7, 8]])"
      ]
     },
     "execution_count": 136,
     "metadata": {},
     "output_type": "execute_result"
    }
   ],
   "source": [
    "mat[:,0:2]    # Columns slicing"
   ]
  },
  {
   "cell_type": "code",
   "execution_count": 137,
   "id": "200e6adb-39dd-42a7-aac1-b8c30fa7e604",
   "metadata": {},
   "outputs": [
    {
     "data": {
      "text/plain": [
       "array([[ 0,  1,  2,  3],\n",
       "       [ 4,  5,  6,  7],\n",
       "       [ 8,  9, 10, 11]])"
      ]
     },
     "execution_count": 137,
     "metadata": {},
     "output_type": "execute_result"
    }
   ],
   "source": [
    "p2"
   ]
  },
  {
   "cell_type": "code",
   "execution_count": 138,
   "id": "f34ae91b-ad62-43f4-8696-fb3122ea1771",
   "metadata": {},
   "outputs": [
    {
     "data": {
      "text/plain": [
       "array([0, 1, 2, 3])"
      ]
     },
     "execution_count": 138,
     "metadata": {},
     "output_type": "execute_result"
    }
   ],
   "source": [
    "# fetching total First row\n",
    "p2[0, :]"
   ]
  },
  {
   "cell_type": "markdown",
   "id": "df9b5074-7f47-4873-9b8f-dab00b252548",
   "metadata": {},
   "source": [
    "#EXPLANATION :Here 0 represents first row and (:) represnts Total column"
   ]
  },
  {
   "cell_type": "code",
   "execution_count": 139,
   "id": "3c8db69c-0e3c-4a0a-bf34-f1ea1b7dda1e",
   "metadata": {},
   "outputs": [
    {
     "data": {
      "text/plain": [
       "array([ 2,  6, 10])"
      ]
     },
     "execution_count": 139,
     "metadata": {},
     "output_type": "execute_result"
    }
   ],
   "source": [
    "# fetching total third column\n",
    "p2[:,2]"
   ]
  },
  {
   "cell_type": "markdown",
   "id": "ae1ac325-5982-4f42-9ba8-1d0ea56329dc",
   "metadata": {},
   "source": [
    "#EXPLANATION :Here we want all rows so (:) , and we want 3rd column so 2"
   ]
  },
  {
   "cell_type": "code",
   "execution_count": 140,
   "id": "514d21a8-7cfe-4615-ba72-f624ee79a188",
   "metadata": {},
   "outputs": [
    {
     "data": {
      "text/plain": [
       "array([[ 0,  1,  2,  3],\n",
       "       [ 4,  5,  6,  7],\n",
       "       [ 8,  9, 10, 11]])"
      ]
     },
     "execution_count": 140,
     "metadata": {},
     "output_type": "execute_result"
    }
   ],
   "source": [
    "# fetch 5,6 and 9,10\n",
    "p2\n"
   ]
  },
  {
   "cell_type": "code",
   "execution_count": 141,
   "id": "ce0932bf-65ae-4b66-97ca-c98b5ffb24e9",
   "metadata": {},
   "outputs": [
    {
     "data": {
      "text/plain": [
       "array([[ 4,  5,  6,  7],\n",
       "       [ 8,  9, 10, 11]])"
      ]
     },
     "execution_count": 141,
     "metadata": {},
     "output_type": "execute_result"
    }
   ],
   "source": [
    "p2[1:3] # for rows"
   ]
  },
  {
   "cell_type": "code",
   "execution_count": 142,
   "id": "2aace336-c3d0-475a-bb35-028d6cca19ed",
   "metadata": {},
   "outputs": [
    {
     "data": {
      "text/plain": [
       "array([[ 5,  6],\n",
       "       [ 9, 10]])"
      ]
     },
     "execution_count": 142,
     "metadata": {},
     "output_type": "execute_result"
    }
   ],
   "source": [
    "p2[1:3 ,1:3] # For columns"
   ]
  },
  {
   "cell_type": "markdown",
   "id": "6757a0e4-c482-46ba-a925-eea753666bc8",
   "metadata": {},
   "source": [
    "#EXPLANATION :Here first [1:3] we slice 2 second row is to third row is not existed which is 2\n",
    "and Secondly , we take [1:3] which is same as first:we slice 2 second row is to third row is not\n",
    "included which is 3"
   ]
  },
  {
   "cell_type": "code",
   "execution_count": 143,
   "id": "59a03b43-f525-495f-bd87-de2686c7b04b",
   "metadata": {},
   "outputs": [
    {
     "data": {
      "text/plain": [
       "array([[ 0,  1,  2,  3],\n",
       "       [ 4,  5,  6,  7],\n",
       "       [ 8,  9, 10, 11]])"
      ]
     },
     "execution_count": 143,
     "metadata": {},
     "output_type": "execute_result"
    }
   ],
   "source": [
    "# fetch 0,3 and 8,11\n",
    "p2"
   ]
  },
  {
   "cell_type": "code",
   "execution_count": 144,
   "id": "16c5ec1d-d2d7-452e-9906-3824b09ee256",
   "metadata": {},
   "outputs": [
    {
     "data": {
      "text/plain": [
       "array([[ 0,  3],\n",
       "       [ 8, 11]])"
      ]
     },
     "execution_count": 144,
     "metadata": {},
     "output_type": "execute_result"
    }
   ],
   "source": [
    "p2[::2, ::3]"
   ]
  },
  {
   "cell_type": "code",
   "execution_count": 145,
   "id": "9e4228b7-3ef3-4bf7-ae66-10d2295d1b6e",
   "metadata": {},
   "outputs": [
    {
     "data": {
      "text/plain": [
       "array([[ 0,  1,  2,  3],\n",
       "       [ 4,  5,  6,  7],\n",
       "       [ 8,  9, 10, 11]])"
      ]
     },
     "execution_count": 145,
     "metadata": {},
     "output_type": "execute_result"
    }
   ],
   "source": [
    "# fetch 1,3 and 9,11\n",
    "p2"
   ]
  },
  {
   "cell_type": "code",
   "execution_count": 146,
   "id": "0314935f-03d9-4e39-92cf-31980b9f6bb5",
   "metadata": {},
   "outputs": [
    {
     "data": {
      "text/plain": [
       "array([[ 0,  1,  2,  3],\n",
       "       [ 8,  9, 10, 11]])"
      ]
     },
     "execution_count": 146,
     "metadata": {},
     "output_type": "execute_result"
    }
   ],
   "source": [
    "p2[::2] # For rows"
   ]
  },
  {
   "cell_type": "code",
   "execution_count": 147,
   "id": "4b1269b9-3d2f-4a69-a82b-6545ec471bcd",
   "metadata": {},
   "outputs": [
    {
     "data": {
      "text/plain": [
       "array([[ 1,  3],\n",
       "       [ 9, 11]])"
      ]
     },
     "execution_count": 147,
     "metadata": {},
     "output_type": "execute_result"
    }
   ],
   "source": [
    "p2[::2 ,1::2] # columns"
   ]
  },
  {
   "cell_type": "code",
   "execution_count": 149,
   "id": "54e25ddd-1df1-4403-999f-d5eef3f87225",
   "metadata": {},
   "outputs": [
    {
     "data": {
      "text/plain": [
       "array([[ 0,  1,  2,  3],\n",
       "       [ 8,  9, 10, 11]])"
      ]
     },
     "execution_count": 149,
     "metadata": {},
     "output_type": "execute_result"
    }
   ],
   "source": [
    "p2[::2]"
   ]
  },
  {
   "cell_type": "markdown",
   "id": "08d97a9c-b271-4872-8e82-45f747927504",
   "metadata": {},
   "source": [
    "EXPLANATION : Here we take (:) because we want all rows , second(:2) for alternate value,\n",
    "and (1) for we want from second column and (:2) jump for two steps and ignore middle one"
   ]
  },
  {
   "cell_type": "code",
   "execution_count": 150,
   "id": "c4de1ee2-58bf-4bea-80e3-1c602b54c0c1",
   "metadata": {},
   "outputs": [
    {
     "data": {
      "text/plain": [
       "array([[ 0,  1,  2,  3],\n",
       "       [ 4,  5,  6,  7],\n",
       "       [ 8,  9, 10, 11]])"
      ]
     },
     "execution_count": 150,
     "metadata": {},
     "output_type": "execute_result"
    }
   ],
   "source": [
    "# fetch only 4 ,7\n",
    "p2"
   ]
  },
  {
   "cell_type": "code",
   "execution_count": 151,
   "id": "33e5a858-d64e-41fa-93a0-25c4c0f32351",
   "metadata": {},
   "outputs": [
    {
     "data": {
      "text/plain": [
       "array([4, 5, 6, 7])"
      ]
     },
     "execution_count": 151,
     "metadata": {},
     "output_type": "execute_result"
    }
   ],
   "source": [
    "p2[1] # first rows"
   ]
  },
  {
   "cell_type": "code",
   "execution_count": 152,
   "id": "603d34a8-c44a-406f-a7c1-d504df3cf863",
   "metadata": {},
   "outputs": [
    {
     "data": {
      "text/plain": [
       "array([4, 7])"
      ]
     },
     "execution_count": 152,
     "metadata": {},
     "output_type": "execute_result"
    }
   ],
   "source": [
    "p2[1,::3] # second columns"
   ]
  },
  {
   "cell_type": "markdown",
   "id": "b092a5ec-0c63-43f5-871f-2699ff1f74a8",
   "metadata": {},
   "source": [
    "EXPLANATION : Here we take (1) because we want second row , second(:) for total column,\n",
    "(:3) jump for two steps and ignore middle ones"
   ]
  },
  {
   "cell_type": "code",
   "execution_count": 153,
   "id": "8bf6e303-d1fe-4e4a-b7d4-db0f283cdd08",
   "metadata": {},
   "outputs": [
    {
     "data": {
      "text/plain": [
       "array([[ 0,  1,  2,  3],\n",
       "       [ 4,  5,  6,  7],\n",
       "       [ 8,  9, 10, 11]])"
      ]
     },
     "execution_count": 153,
     "metadata": {},
     "output_type": "execute_result"
    }
   ],
   "source": [
    "# fetch 1,2,3 and 5,6,7\n",
    "p2"
   ]
  },
  {
   "cell_type": "code",
   "execution_count": 154,
   "id": "bf09fe41-0688-4a13-8cc9-606fd0c5000d",
   "metadata": {},
   "outputs": [
    {
     "data": {
      "text/plain": [
       "array([[0, 1, 2, 3],\n",
       "       [4, 5, 6, 7]])"
      ]
     },
     "execution_count": 154,
     "metadata": {},
     "output_type": "execute_result"
    }
   ],
   "source": [
    "p2[0:2] # first fetched rows"
   ]
  },
  {
   "cell_type": "code",
   "execution_count": 155,
   "id": "ddadb9e1-0954-4b7d-a04d-4724ea4b49e3",
   "metadata": {},
   "outputs": [
    {
     "data": {
      "text/plain": [
       "array([[1, 2, 3],\n",
       "       [5, 6, 7]])"
      ]
     },
     "execution_count": 155,
     "metadata": {},
     "output_type": "execute_result"
    }
   ],
   "source": [
    "p2[0:2 ,1: ] # for column"
   ]
  },
  {
   "cell_type": "code",
   "execution_count": 156,
   "id": "1417c771-e1c1-47bf-8d41-7050512f5d76",
   "metadata": {},
   "outputs": [
    {
     "data": {
      "text/plain": [
       "array([[ 0,  1,  2,  3],\n",
       "       [ 4,  5,  6,  7],\n",
       "       [ 8,  9, 10, 11]])"
      ]
     },
     "execution_count": 156,
     "metadata": {},
     "output_type": "execute_result"
    }
   ],
   "source": [
    "# fetch 1,3 and 5,7\n",
    "p2"
   ]
  },
  {
   "cell_type": "code",
   "execution_count": 157,
   "id": "2ecab3b4-6d08-4b2f-8052-26cc22f33274",
   "metadata": {},
   "outputs": [
    {
     "data": {
      "text/plain": [
       "array([[0, 1, 2, 3],\n",
       "       [4, 5, 6, 7]])"
      ]
     },
     "execution_count": 157,
     "metadata": {},
     "output_type": "execute_result"
    }
   ],
   "source": [
    "p2[0:2] # for rows"
   ]
  },
  {
   "cell_type": "code",
   "execution_count": 158,
   "id": "4a9f6f3f-7d1f-4b68-98fa-5480bd73ee96",
   "metadata": {},
   "outputs": [
    {
     "data": {
      "text/plain": [
       "array([[1, 3],\n",
       "       [5, 7]])"
      ]
     },
     "execution_count": 158,
     "metadata": {},
     "output_type": "execute_result"
    }
   ],
   "source": [
    "p2[0:2 ,1::2]"
   ]
  },
  {
   "cell_type": "markdown",
   "id": "eddc6361-aff2-461a-b1b2-975f1630b9dd",
   "metadata": {},
   "source": [
    "#EXPLANATION : 0:2 selects the rows from index 0 (inclusive) to index 2 (exclusive), which\n",
    "means it will select the first and second rows of the array. , is used to separate row and column\n",
    "selections. 1::2 selects the columns starting from index 1 and selects every second column. So\n",
    "it will select the second and fourth columns of the array.\n"
   ]
  },
  {
   "cell_type": "markdown",
   "id": "4efaec4b-a107-41cf-987e-faed5d84a16a",
   "metadata": {},
   "source": [
    "# Slicing in 3D"
   ]
  },
  {
   "cell_type": "code",
   "execution_count": 159,
   "id": "ad25e4d2-8846-4d36-afff-3a5a37f7c797",
   "metadata": {},
   "outputs": [
    {
     "data": {
      "text/plain": [
       "array([[[ 0,  1,  2],\n",
       "        [ 3,  4,  5],\n",
       "        [ 6,  7,  8]],\n",
       "\n",
       "       [[ 9, 10, 11],\n",
       "        [12, 13, 14],\n",
       "        [15, 16, 17]],\n",
       "\n",
       "       [[18, 19, 20],\n",
       "        [21, 22, 23],\n",
       "        [24, 25, 26]]])"
      ]
     },
     "execution_count": 159,
     "metadata": {},
     "output_type": "execute_result"
    }
   ],
   "source": [
    "p3 = np.arange(27).reshape(3,3,3)\n",
    "p3"
   ]
  },
  {
   "cell_type": "code",
   "execution_count": 160,
   "id": "d2d8fed8-d91c-4d0e-9c8c-cf7ac3bc7c4d",
   "metadata": {},
   "outputs": [
    {
     "data": {
      "text/plain": [
       "array([[ 9, 10, 11],\n",
       "       [12, 13, 14],\n",
       "       [15, 16, 17]])"
      ]
     },
     "execution_count": 160,
     "metadata": {},
     "output_type": "execute_result"
    }
   ],
   "source": [
    "# fetch second matrix\n",
    "p3[1]"
   ]
  },
  {
   "cell_type": "code",
   "execution_count": 161,
   "id": "ba2f59a1-278f-4815-9c8d-77f261922870",
   "metadata": {},
   "outputs": [
    {
     "data": {
      "text/plain": [
       "array([[[ 0,  1,  2],\n",
       "        [ 3,  4,  5],\n",
       "        [ 6,  7,  8]],\n",
       "\n",
       "       [[18, 19, 20],\n",
       "        [21, 22, 23],\n",
       "        [24, 25, 26]]])"
      ]
     },
     "execution_count": 161,
     "metadata": {},
     "output_type": "execute_result"
    }
   ],
   "source": [
    "# fetch first and last\n",
    "p3[::2]\n"
   ]
  },
  {
   "cell_type": "markdown",
   "id": "74bf4785-fd3e-48d9-a347-cf3bf2518ca7",
   "metadata": {},
   "source": [
    "#EXPLANATION : Along the first axis, (::2) selects every second element. This means it will\n",
    "select the subarrays at indices 0 and 2"
   ]
  },
  {
   "cell_type": "code",
   "execution_count": 162,
   "id": "5f1dac89-ea3b-41fe-8aba-d7839bdb22b7",
   "metadata": {},
   "outputs": [
    {
     "data": {
      "text/plain": [
       "array([[[ 0,  1,  2],\n",
       "        [ 3,  4,  5],\n",
       "        [ 6,  7,  8]],\n",
       "\n",
       "       [[ 9, 10, 11],\n",
       "        [12, 13, 14],\n",
       "        [15, 16, 17]],\n",
       "\n",
       "       [[18, 19, 20],\n",
       "        [21, 22, 23],\n",
       "        [24, 25, 26]]])"
      ]
     },
     "execution_count": 162,
     "metadata": {},
     "output_type": "execute_result"
    }
   ],
   "source": [
    "# Fetch 1 2d array's 2 row ---> 3,4,5\n",
    "p3"
   ]
  },
  {
   "cell_type": "code",
   "execution_count": 163,
   "id": "57fd3983-2339-4733-ad06-9a4446eb60de",
   "metadata": {},
   "outputs": [
    {
     "data": {
      "text/plain": [
       "array([[0, 1, 2],\n",
       "       [3, 4, 5],\n",
       "       [6, 7, 8]])"
      ]
     },
     "execution_count": 163,
     "metadata": {},
     "output_type": "execute_result"
    }
   ],
   "source": [
    "p3[0] # first numpy array"
   ]
  },
  {
   "cell_type": "code",
   "execution_count": 164,
   "id": "0682030a-eb64-417b-b432-d0a66056beca",
   "metadata": {},
   "outputs": [
    {
     "data": {
      "text/plain": [
       "array([3, 4, 5])"
      ]
     },
     "execution_count": 164,
     "metadata": {},
     "output_type": "execute_result"
    }
   ],
   "source": [
    "p3[0,1,:]\n"
   ]
  },
  {
   "cell_type": "markdown",
   "id": "cd837f28-57aa-426f-b474-512b9f593328",
   "metadata": {},
   "source": [
    "#EXPLANATION : 0 represnts first matrix , 1 represents second row , (:) means total"
   ]
  },
  {
   "cell_type": "code",
   "execution_count": 165,
   "id": "0197ccdc-5179-43f9-ae64-28b353112ebb",
   "metadata": {},
   "outputs": [
    {
     "data": {
      "text/plain": [
       "array([[[ 0,  1,  2],\n",
       "        [ 3,  4,  5],\n",
       "        [ 6,  7,  8]],\n",
       "\n",
       "       [[ 9, 10, 11],\n",
       "        [12, 13, 14],\n",
       "        [15, 16, 17]],\n",
       "\n",
       "       [[18, 19, 20],\n",
       "        [21, 22, 23],\n",
       "        [24, 25, 26]]])"
      ]
     },
     "execution_count": 165,
     "metadata": {},
     "output_type": "execute_result"
    }
   ],
   "source": [
    "# Fetch 2 numpy array ,middle column ---> 10,13,16\n",
    "p3"
   ]
  },
  {
   "cell_type": "code",
   "execution_count": 166,
   "id": "0809c76e-80e1-4557-8175-c35cde6a4b71",
   "metadata": {},
   "outputs": [
    {
     "data": {
      "text/plain": [
       "array([[ 9, 10, 11],\n",
       "       [12, 13, 14],\n",
       "       [15, 16, 17]])"
      ]
     },
     "execution_count": 166,
     "metadata": {},
     "output_type": "execute_result"
    }
   ],
   "source": [
    "p3[1] # middle Array"
   ]
  },
  {
   "cell_type": "code",
   "execution_count": 167,
   "id": "39f472f7-01d6-4118-a613-3a2abddcabae",
   "metadata": {},
   "outputs": [
    {
     "data": {
      "text/plain": [
       "array([10, 13, 16])"
      ]
     },
     "execution_count": 167,
     "metadata": {},
     "output_type": "execute_result"
    }
   ],
   "source": [
    "p3[1,:,1]"
   ]
  },
  {
   "cell_type": "markdown",
   "id": "8d0ecaf4-ca87-4f5f-9c45-e8f5aba6e389",
   "metadata": {},
   "source": [
    "#EXPLANATION : 1 respresnts middle column , (:) all columns , 1 represnts middle column"
   ]
  },
  {
   "cell_type": "code",
   "execution_count": 168,
   "id": "66c0bb52-f6f5-4855-bcc6-82ae5f4cd7ef",
   "metadata": {},
   "outputs": [
    {
     "data": {
      "text/plain": [
       "array([[[ 0,  1,  2],\n",
       "        [ 3,  4,  5],\n",
       "        [ 6,  7,  8]],\n",
       "\n",
       "       [[ 9, 10, 11],\n",
       "        [12, 13, 14],\n",
       "        [15, 16, 17]],\n",
       "\n",
       "       [[18, 19, 20],\n",
       "        [21, 22, 23],\n",
       "        [24, 25, 26]]])"
      ]
     },
     "execution_count": 168,
     "metadata": {},
     "output_type": "execute_result"
    }
   ],
   "source": [
    "# Fetch 3 array--->22,23,25,26\n",
    "p3"
   ]
  },
  {
   "cell_type": "code",
   "execution_count": 169,
   "id": "56ce99b1-674e-448c-b672-b2d4faf5f268",
   "metadata": {},
   "outputs": [
    {
     "data": {
      "text/plain": [
       "array([[18, 19, 20],\n",
       "       [21, 22, 23],\n",
       "       [24, 25, 26]])"
      ]
     },
     "execution_count": 169,
     "metadata": {},
     "output_type": "execute_result"
    }
   ],
   "source": [
    "p3[2] # last row"
   ]
  },
  {
   "cell_type": "code",
   "execution_count": 170,
   "id": "bdc2330a-866e-424f-99ee-fd65748dd85d",
   "metadata": {},
   "outputs": [
    {
     "data": {
      "text/plain": [
       "array([[21, 22, 23],\n",
       "       [24, 25, 26]])"
      ]
     },
     "execution_count": 170,
     "metadata": {},
     "output_type": "execute_result"
    }
   ],
   "source": [
    "p3[2, 1: ] # last two rows"
   ]
  },
  {
   "cell_type": "code",
   "execution_count": 171,
   "id": "0548dc35-daab-414b-bf0c-247438da62f1",
   "metadata": {},
   "outputs": [
    {
     "data": {
      "text/plain": [
       "array([[22, 23],\n",
       "       [25, 26]])"
      ]
     },
     "execution_count": 171,
     "metadata": {},
     "output_type": "execute_result"
    }
   ],
   "source": [
    "p3[2, 1: ,1:] # last two columns"
   ]
  },
  {
   "cell_type": "markdown",
   "id": "3f019363-41e8-4eed-8fe7-0d01066734cf",
   "metadata": {},
   "source": [
    "#EXPLANATION : Here we go through 3 stages , where 2 for last array , and (1:) from second\n",
    "row to total rows , and (1:) is for second column to total columns"
   ]
  },
  {
   "cell_type": "code",
   "execution_count": 172,
   "id": "ab696646-1802-4c34-889f-bcdc32bc6204",
   "metadata": {},
   "outputs": [
    {
     "data": {
      "text/plain": [
       "array([[[ 0,  1,  2],\n",
       "        [ 3,  4,  5],\n",
       "        [ 6,  7,  8]],\n",
       "\n",
       "       [[ 9, 10, 11],\n",
       "        [12, 13, 14],\n",
       "        [15, 16, 17]],\n",
       "\n",
       "       [[18, 19, 20],\n",
       "        [21, 22, 23],\n",
       "        [24, 25, 26]]])"
      ]
     },
     "execution_count": 172,
     "metadata": {},
     "output_type": "execute_result"
    }
   ],
   "source": [
    "# Fetch o, 2, 18 , 20\n",
    "p3"
   ]
  },
  {
   "cell_type": "code",
   "execution_count": 173,
   "id": "2a3a1fd7-e1d8-4b51-84b2-df3cec8ba0ca",
   "metadata": {},
   "outputs": [
    {
     "data": {
      "text/plain": [
       "array([[[ 0,  1,  2],\n",
       "        [ 3,  4,  5],\n",
       "        [ 6,  7,  8]],\n",
       "\n",
       "       [[18, 19, 20],\n",
       "        [21, 22, 23],\n",
       "        [24, 25, 26]]])"
      ]
     },
     "execution_count": 173,
     "metadata": {},
     "output_type": "execute_result"
    }
   ],
   "source": [
    "p3[0::2] # for arrays"
   ]
  },
  {
   "cell_type": "code",
   "execution_count": 174,
   "id": "b91a26f1-6799-44d0-b02f-5fd1f8a95244",
   "metadata": {},
   "outputs": [
    {
     "data": {
      "text/plain": [
       "array([[ 0,  1,  2],\n",
       "       [18, 19, 20]])"
      ]
     },
     "execution_count": 174,
     "metadata": {},
     "output_type": "execute_result"
    }
   ],
   "source": [
    "p3[0::2 , 0] # for rows"
   ]
  },
  {
   "cell_type": "code",
   "execution_count": 175,
   "id": "eb5ef7f8-ab48-4e57-9eb4-ca3f694bf204",
   "metadata": {},
   "outputs": [
    {
     "data": {
      "text/plain": [
       "array([[ 0,  2],\n",
       "       [18, 20]])"
      ]
     },
     "execution_count": 175,
     "metadata": {},
     "output_type": "execute_result"
    }
   ],
   "source": [
    "p3[0::2 , 0 , ::2] # for columns"
   ]
  },
  {
   "cell_type": "markdown",
   "id": "85f3a2d9-6572-4fc7-82ef-02045c72c6c1",
   "metadata": {},
   "source": [
    "#EXPLANATION : Here we take (0::2) first adn last column , so we did jump using this, and we\n",
    "took (0) for first row , and we (::2) ignored middle column"
   ]
  },
  {
   "cell_type": "markdown",
   "id": "5cf3a073-0948-45f5-b734-6b6a90f20740",
   "metadata": {},
   "source": [
    "# Boolean Indexing in Numpy:\n",
    "\n",
    "**What is Boolean Indexing?\n",
    "\n",
    "                - Boolean indexing means filtering array elements using a True/False condition.\n",
    "                - You create a boolean mask (array of True/False) based on a condition.\n",
    "                - NumPy then selects only the elements where the mask is True."
   ]
  },
  {
   "cell_type": "code",
   "execution_count": 176,
   "id": "95bac312-09cf-46ec-81d4-3d73757ab78b",
   "metadata": {},
   "outputs": [
    {
     "data": {
      "text/plain": [
       "array([ 1,  2,  3,  4,  5,  6,  7,  8,  9, 10, 11, 12, 13, 14, 15, 16, 17,\n",
       "       18, 19, 20])"
      ]
     },
     "execution_count": 176,
     "metadata": {},
     "output_type": "execute_result"
    }
   ],
   "source": [
    "arr= np.arange(1,21)\n",
    "arr"
   ]
  },
  {
   "cell_type": "code",
   "execution_count": 177,
   "id": "1dcfef6c-e23d-4eda-9005-7085a07c052f",
   "metadata": {},
   "outputs": [
    {
     "data": {
      "text/plain": [
       "array([False,  True, False,  True, False,  True, False,  True, False,\n",
       "        True, False,  True, False,  True, False,  True, False,  True,\n",
       "       False,  True])"
      ]
     },
     "execution_count": 177,
     "metadata": {},
     "output_type": "execute_result"
    }
   ],
   "source": [
    "bool_index = arr%2==0\n",
    "bool_index"
   ]
  },
  {
   "cell_type": "code",
   "execution_count": 178,
   "id": "8af150e1-390f-48ab-93bd-19878fa430ba",
   "metadata": {},
   "outputs": [],
   "source": [
    "arr = arr[bool_index]"
   ]
  },
  {
   "cell_type": "code",
   "execution_count": 179,
   "id": "95c70fcd-922e-4129-a6ac-d2348e2b5f8e",
   "metadata": {},
   "outputs": [
    {
     "data": {
      "text/plain": [
       "array([ 2,  4,  6,  8, 10, 12, 14, 16, 18, 20])"
      ]
     },
     "execution_count": 179,
     "metadata": {},
     "output_type": "execute_result"
    }
   ],
   "source": [
    "arr"
   ]
  },
  {
   "cell_type": "markdown",
   "id": "e884a37d-9d59-46f7-b4e5-b7f93885af03",
   "metadata": {},
   "source": [
    "# Iterating"
   ]
  },
  {
   "cell_type": "code",
   "execution_count": 180,
   "id": "f8f3112f-acbb-4fbc-816d-9b28bc78ceb2",
   "metadata": {},
   "outputs": [
    {
     "data": {
      "text/plain": [
       "array([0, 1, 2, 3, 4, 5, 6, 7, 8, 9])"
      ]
     },
     "execution_count": 180,
     "metadata": {},
     "output_type": "execute_result"
    }
   ],
   "source": [
    "p1"
   ]
  },
  {
   "cell_type": "code",
   "execution_count": 181,
   "id": "be823b97-70ca-4b9f-acfb-d91920f9707f",
   "metadata": {},
   "outputs": [
    {
     "name": "stdout",
     "output_type": "stream",
     "text": [
      "0\n",
      "1\n",
      "2\n",
      "3\n",
      "4\n",
      "5\n",
      "6\n",
      "7\n",
      "8\n",
      "9\n"
     ]
    }
   ],
   "source": [
    "# Looping on 1D array\n",
    "for i in p1:\n",
    "    print(i)\n"
   ]
  },
  {
   "cell_type": "code",
   "execution_count": 182,
   "id": "3c176b21-ee14-4e38-9506-55b543122ec1",
   "metadata": {},
   "outputs": [
    {
     "data": {
      "text/plain": [
       "array([[ 0,  1,  2,  3],\n",
       "       [ 4,  5,  6,  7],\n",
       "       [ 8,  9, 10, 11]])"
      ]
     },
     "execution_count": 182,
     "metadata": {},
     "output_type": "execute_result"
    }
   ],
   "source": [
    "p2"
   ]
  },
  {
   "cell_type": "code",
   "execution_count": 183,
   "id": "d93b25fb-2374-4936-824f-cdeecd4b9ca5",
   "metadata": {},
   "outputs": [
    {
     "name": "stdout",
     "output_type": "stream",
     "text": [
      "[0 1 2 3]\n",
      "[4 5 6 7]\n",
      "[ 8  9 10 11]\n"
     ]
    }
   ],
   "source": [
    "## Looping on 2D array\n",
    "for i in p2:\n",
    "    print(i) # prints rows"
   ]
  },
  {
   "cell_type": "code",
   "execution_count": 184,
   "id": "ddca4f25-0ef1-46b6-8f04-26ae1e8ed195",
   "metadata": {},
   "outputs": [
    {
     "data": {
      "text/plain": [
       "array([[[ 0,  1,  2],\n",
       "        [ 3,  4,  5],\n",
       "        [ 6,  7,  8]],\n",
       "\n",
       "       [[ 9, 10, 11],\n",
       "        [12, 13, 14],\n",
       "        [15, 16, 17]],\n",
       "\n",
       "       [[18, 19, 20],\n",
       "        [21, 22, 23],\n",
       "        [24, 25, 26]]])"
      ]
     },
     "execution_count": 184,
     "metadata": {},
     "output_type": "execute_result"
    }
   ],
   "source": [
    "p3"
   ]
  },
  {
   "cell_type": "code",
   "execution_count": 185,
   "id": "bd1bdebe-b54f-4f89-9832-35f810d7bf73",
   "metadata": {},
   "outputs": [
    {
     "name": "stdout",
     "output_type": "stream",
     "text": [
      "[[0 1 2]\n",
      " [3 4 5]\n",
      " [6 7 8]]\n",
      "[[ 9 10 11]\n",
      " [12 13 14]\n",
      " [15 16 17]]\n",
      "[[18 19 20]\n",
      " [21 22 23]\n",
      " [24 25 26]]\n"
     ]
    }
   ],
   "source": [
    "for i in p3:\n",
    "    print(i)"
   ]
  },
  {
   "cell_type": "markdown",
   "id": "319a7185-63e0-4a32-b6f1-11508fb5a03b",
   "metadata": {},
   "source": [
    "#print all items in 3D using nditer ----> first convert in to 1D and applying Loop"
   ]
  },
  {
   "cell_type": "code",
   "execution_count": 186,
   "id": "5a9ad5ab-5ddc-488f-abaf-df0b864ed7d0",
   "metadata": {},
   "outputs": [
    {
     "name": "stdout",
     "output_type": "stream",
     "text": [
      "0\n",
      "1\n",
      "2\n",
      "3\n",
      "4\n",
      "5\n",
      "6\n",
      "7\n",
      "8\n",
      "9\n",
      "10\n",
      "11\n",
      "12\n",
      "13\n",
      "14\n",
      "15\n",
      "16\n",
      "17\n",
      "18\n",
      "19\n",
      "20\n",
      "21\n",
      "22\n",
      "23\n",
      "24\n",
      "25\n",
      "26\n"
     ]
    }
   ],
   "source": [
    "for i in np.nditer(p3):\n",
    "    print(i)"
   ]
  },
  {
   "cell_type": "markdown",
   "id": "20661830-71af-45e8-8419-0af9d255e660",
   "metadata": {},
   "source": [
    "# Reshaping"
   ]
  },
  {
   "cell_type": "markdown",
   "id": "51d2e1e8-9afd-44ae-84b6-ee514d476ecb",
   "metadata": {},
   "source": [
    "# Transpose ---> Converts rows in to clumns ad columns into rows"
   ]
  },
  {
   "cell_type": "code",
   "execution_count": 187,
   "id": "9a99e835-019f-4d78-8c52-37796c57fcb2",
   "metadata": {},
   "outputs": [
    {
     "data": {
      "text/plain": [
       "array([[ 0,  1,  2,  3],\n",
       "       [ 4,  5,  6,  7],\n",
       "       [ 8,  9, 10, 11]])"
      ]
     },
     "execution_count": 187,
     "metadata": {},
     "output_type": "execute_result"
    }
   ],
   "source": [
    "p2"
   ]
  },
  {
   "cell_type": "code",
   "execution_count": 188,
   "id": "c0dfd3bd-c5a6-453a-afd6-a8a24056d541",
   "metadata": {},
   "outputs": [
    {
     "data": {
      "text/plain": [
       "array([[ 0,  4,  8],\n",
       "       [ 1,  5,  9],\n",
       "       [ 2,  6, 10],\n",
       "       [ 3,  7, 11]])"
      ]
     },
     "execution_count": 188,
     "metadata": {},
     "output_type": "execute_result"
    }
   ],
   "source": [
    "np.transpose(p2)"
   ]
  },
  {
   "cell_type": "code",
   "execution_count": 189,
   "id": "ae6bd5a9-710b-464e-8bb2-31840c12583e",
   "metadata": {},
   "outputs": [
    {
     "data": {
      "text/plain": [
       "array([[ 0,  4,  8],\n",
       "       [ 1,  5,  9],\n",
       "       [ 2,  6, 10],\n",
       "       [ 3,  7, 11]])"
      ]
     },
     "execution_count": 189,
     "metadata": {},
     "output_type": "execute_result"
    }
   ],
   "source": [
    "# Another method\n",
    "p2.T"
   ]
  },
  {
   "cell_type": "code",
   "execution_count": 190,
   "id": "67ea4618-fff6-44c2-8c55-7b7f926e1dc2",
   "metadata": {},
   "outputs": [
    {
     "data": {
      "text/plain": [
       "array([[[ 0,  1,  2],\n",
       "        [ 3,  4,  5],\n",
       "        [ 6,  7,  8]],\n",
       "\n",
       "       [[ 9, 10, 11],\n",
       "        [12, 13, 14],\n",
       "        [15, 16, 17]],\n",
       "\n",
       "       [[18, 19, 20],\n",
       "        [21, 22, 23],\n",
       "        [24, 25, 26]]])"
      ]
     },
     "execution_count": 190,
     "metadata": {},
     "output_type": "execute_result"
    }
   ],
   "source": [
    "p3"
   ]
  },
  {
   "cell_type": "code",
   "execution_count": 191,
   "id": "7869d926-d865-476f-9791-35dd5c81ceb3",
   "metadata": {},
   "outputs": [
    {
     "data": {
      "text/plain": [
       "array([[[ 0,  9, 18],\n",
       "        [ 3, 12, 21],\n",
       "        [ 6, 15, 24]],\n",
       "\n",
       "       [[ 1, 10, 19],\n",
       "        [ 4, 13, 22],\n",
       "        [ 7, 16, 25]],\n",
       "\n",
       "       [[ 2, 11, 20],\n",
       "        [ 5, 14, 23],\n",
       "        [ 8, 17, 26]]])"
      ]
     },
     "execution_count": 191,
     "metadata": {},
     "output_type": "execute_result"
    }
   ],
   "source": [
    "p3.T"
   ]
  },
  {
   "cell_type": "markdown",
   "id": "d86bca1f-ee84-4e49-9156-4b7a53a6ec36",
   "metadata": {},
   "source": [
    "# Ravel"
   ]
  },
  {
   "cell_type": "code",
   "execution_count": 192,
   "id": "517d1172-688a-4def-b11f-e63baafa06f6",
   "metadata": {},
   "outputs": [
    {
     "data": {
      "text/plain": [
       "array([[ 0,  1,  2,  3],\n",
       "       [ 4,  5,  6,  7],\n",
       "       [ 8,  9, 10, 11]])"
      ]
     },
     "execution_count": 192,
     "metadata": {},
     "output_type": "execute_result"
    }
   ],
   "source": [
    "p2"
   ]
  },
  {
   "cell_type": "code",
   "execution_count": 193,
   "id": "6809f69f-a733-44a8-af85-1be49375b3c2",
   "metadata": {},
   "outputs": [
    {
     "data": {
      "text/plain": [
       "array([ 0,  1,  2,  3,  4,  5,  6,  7,  8,  9, 10, 11])"
      ]
     },
     "execution_count": 193,
     "metadata": {},
     "output_type": "execute_result"
    }
   ],
   "source": [
    "p2.ravel()    # convert 2D into vector"
   ]
  },
  {
   "cell_type": "code",
   "execution_count": 194,
   "id": "fbf3fc90-fc62-4a80-beee-3057957697d6",
   "metadata": {},
   "outputs": [
    {
     "data": {
      "text/plain": [
       "array([[[ 0,  1,  2],\n",
       "        [ 3,  4,  5],\n",
       "        [ 6,  7,  8]],\n",
       "\n",
       "       [[ 9, 10, 11],\n",
       "        [12, 13, 14],\n",
       "        [15, 16, 17]],\n",
       "\n",
       "       [[18, 19, 20],\n",
       "        [21, 22, 23],\n",
       "        [24, 25, 26]]])"
      ]
     },
     "execution_count": 194,
     "metadata": {},
     "output_type": "execute_result"
    }
   ],
   "source": [
    "p3"
   ]
  },
  {
   "cell_type": "code",
   "execution_count": 195,
   "id": "4109b2a9-f1a6-460e-af78-7752f843d712",
   "metadata": {},
   "outputs": [
    {
     "data": {
      "text/plain": [
       "array([ 0,  1,  2,  3,  4,  5,  6,  7,  8,  9, 10, 11, 12, 13, 14, 15, 16,\n",
       "       17, 18, 19, 20, 21, 22, 23, 24, 25, 26])"
      ]
     },
     "execution_count": 195,
     "metadata": {},
     "output_type": "execute_result"
    }
   ],
   "source": [
    "p3.ravel()"
   ]
  },
  {
   "cell_type": "markdown",
   "id": "170ce9d3-20a8-417a-b4a9-b515e87bf489",
   "metadata": {},
   "source": [
    "# Stacking\n",
    "\n",
    "    - Stacking is the concept of joining arrays in NumPy. Arrays having the same dimensions can be stacked\n"
   ]
  },
  {
   "cell_type": "code",
   "execution_count": 196,
   "id": "76fe541b-4c59-4ed0-8c82-9b352fd20774",
   "metadata": {},
   "outputs": [],
   "source": [
    "# Horizontal stacking\n",
    "w1 = np.arange(12).reshape(3,4)\n",
    "w2 = np.arange(12,24).reshape(3,4)"
   ]
  },
  {
   "cell_type": "code",
   "execution_count": 197,
   "id": "0f1d56ec-5606-4ffe-8788-18eebadc5538",
   "metadata": {},
   "outputs": [
    {
     "data": {
      "text/plain": [
       "array([[ 0,  1,  2,  3],\n",
       "       [ 4,  5,  6,  7],\n",
       "       [ 8,  9, 10, 11]])"
      ]
     },
     "execution_count": 197,
     "metadata": {},
     "output_type": "execute_result"
    }
   ],
   "source": [
    "w1"
   ]
  },
  {
   "cell_type": "code",
   "execution_count": 198,
   "id": "869e798b-b7b6-4a28-a540-3db899fb769d",
   "metadata": {},
   "outputs": [
    {
     "data": {
      "text/plain": [
       "array([[12, 13, 14, 15],\n",
       "       [16, 17, 18, 19],\n",
       "       [20, 21, 22, 23]])"
      ]
     },
     "execution_count": 198,
     "metadata": {},
     "output_type": "execute_result"
    }
   ],
   "source": [
    "w2"
   ]
  },
  {
   "cell_type": "code",
   "execution_count": 199,
   "id": "09a95bc4-d3cf-44ee-b3f9-39bf02dd12b0",
   "metadata": {},
   "outputs": [
    {
     "data": {
      "text/plain": [
       "array([[ 0,  1,  2,  3, 12, 13, 14, 15],\n",
       "       [ 4,  5,  6,  7, 16, 17, 18, 19],\n",
       "       [ 8,  9, 10, 11, 20, 21, 22, 23]])"
      ]
     },
     "execution_count": 199,
     "metadata": {},
     "output_type": "execute_result"
    }
   ],
   "source": [
    "# using hstack for Horizontal stacking\n",
    "\n",
    "np.hstack((w1,w2))"
   ]
  },
  {
   "cell_type": "code",
   "execution_count": 200,
   "id": "ccec49c7-60c2-45d8-a390-39bc69754c59",
   "metadata": {},
   "outputs": [
    {
     "data": {
      "text/plain": [
       "array([[ 0,  1,  2,  3],\n",
       "       [ 4,  5,  6,  7],\n",
       "       [ 8,  9, 10, 11]])"
      ]
     },
     "execution_count": 200,
     "metadata": {},
     "output_type": "execute_result"
    }
   ],
   "source": [
    "# Vertical stacking\n",
    "w1"
   ]
  },
  {
   "cell_type": "code",
   "execution_count": 201,
   "id": "a0a4a363-3cdc-425b-be5b-b213daa8256b",
   "metadata": {},
   "outputs": [
    {
     "data": {
      "text/plain": [
       "array([[12, 13, 14, 15],\n",
       "       [16, 17, 18, 19],\n",
       "       [20, 21, 22, 23]])"
      ]
     },
     "execution_count": 201,
     "metadata": {},
     "output_type": "execute_result"
    }
   ],
   "source": [
    "w2"
   ]
  },
  {
   "cell_type": "markdown",
   "id": "c3b5a52f-af5d-436c-afb0-5145033c7a0a",
   "metadata": {},
   "source": [
    "#using vstack for vertical stacking"
   ]
  },
  {
   "cell_type": "code",
   "execution_count": 202,
   "id": "1775cdba-52c6-4109-bee3-5f4d7df6133c",
   "metadata": {},
   "outputs": [
    {
     "data": {
      "text/plain": [
       "array([[ 0,  1,  2,  3],\n",
       "       [ 4,  5,  6,  7],\n",
       "       [ 8,  9, 10, 11],\n",
       "       [12, 13, 14, 15],\n",
       "       [16, 17, 18, 19],\n",
       "       [20, 21, 22, 23]])"
      ]
     },
     "execution_count": 202,
     "metadata": {},
     "output_type": "execute_result"
    }
   ],
   "source": [
    "np.vstack((w1,w2))"
   ]
  },
  {
   "cell_type": "markdown",
   "id": "4dd58cba-1dc7-49b1-a3d7-06a30462c9cf",
   "metadata": {},
   "source": [
    "# Splitting\n",
    "\n",
    "    - its opposite of Stacking"
   ]
  },
  {
   "cell_type": "code",
   "execution_count": 203,
   "id": "6044e9d5-b562-49a3-9716-50b36362b8f6",
   "metadata": {},
   "outputs": [
    {
     "data": {
      "text/plain": [
       "array([[ 0,  1,  2,  3],\n",
       "       [ 4,  5,  6,  7],\n",
       "       [ 8,  9, 10, 11]])"
      ]
     },
     "execution_count": 203,
     "metadata": {},
     "output_type": "execute_result"
    }
   ],
   "source": [
    "# Horizontal splitting\n",
    "w1"
   ]
  },
  {
   "cell_type": "code",
   "execution_count": 204,
   "id": "9da4b1a6-136c-42b8-a2e0-ed5e0b5d91d2",
   "metadata": {},
   "outputs": [
    {
     "data": {
      "text/plain": [
       "[array([[0, 1],\n",
       "        [4, 5],\n",
       "        [8, 9]]),\n",
       " array([[ 2,  3],\n",
       "        [ 6,  7],\n",
       "        [10, 11]])]"
      ]
     },
     "execution_count": 204,
     "metadata": {},
     "output_type": "execute_result"
    }
   ],
   "source": [
    "np.hsplit(w1,2) # splitting by 2"
   ]
  },
  {
   "cell_type": "code",
   "execution_count": 205,
   "id": "829cdcbf-fb78-4203-b8da-b09f56ff1d37",
   "metadata": {},
   "outputs": [
    {
     "data": {
      "text/plain": [
       "[array([[0],\n",
       "        [4],\n",
       "        [8]]),\n",
       " array([[1],\n",
       "        [5],\n",
       "        [9]]),\n",
       " array([[ 2],\n",
       "        [ 6],\n",
       "        [10]]),\n",
       " array([[ 3],\n",
       "        [ 7],\n",
       "        [11]])]"
      ]
     },
     "execution_count": 205,
     "metadata": {},
     "output_type": "execute_result"
    }
   ],
   "source": [
    "np.hsplit(w1,4) # splitting by 4\n"
   ]
  },
  {
   "cell_type": "code",
   "execution_count": 206,
   "id": "fb80d4d8-246d-4238-9a4e-a39df845194a",
   "metadata": {},
   "outputs": [
    {
     "data": {
      "text/plain": [
       "array([[12, 13, 14, 15],\n",
       "       [16, 17, 18, 19],\n",
       "       [20, 21, 22, 23]])"
      ]
     },
     "execution_count": 206,
     "metadata": {},
     "output_type": "execute_result"
    }
   ],
   "source": [
    "# Vertical splitting\n",
    "w2"
   ]
  },
  {
   "cell_type": "code",
   "execution_count": 207,
   "id": "2ca9cb6c-5fcd-4824-9fba-9f64772bff4d",
   "metadata": {},
   "outputs": [
    {
     "data": {
      "text/plain": [
       "[array([[12, 13, 14, 15]]),\n",
       " array([[16, 17, 18, 19]]),\n",
       " array([[20, 21, 22, 23]])]"
      ]
     },
     "execution_count": 207,
     "metadata": {},
     "output_type": "execute_result"
    }
   ],
   "source": [
    "np.vsplit(w2,3) # splittig into 3 rows"
   ]
  },
  {
   "cell_type": "markdown",
   "id": "34927229-c415-46b7-967c-19ba7167c710",
   "metadata": {},
   "source": [
    "# Broadcasting"
   ]
  },
  {
   "cell_type": "code",
   "execution_count": 208,
   "id": "19f7be63-2116-4398-9047-b4a63eca77cc",
   "metadata": {},
   "outputs": [
    {
     "data": {
      "text/plain": [
       "array([[ 1,  2,  3,  4,  5],\n",
       "       [ 6,  7,  8,  9, 10],\n",
       "       [11, 12, 13, 14, 15],\n",
       "       [16, 17, 18, 19, 20],\n",
       "       [21, 22, 23, 24, 25]])"
      ]
     },
     "execution_count": 208,
     "metadata": {},
     "output_type": "execute_result"
    }
   ],
   "source": [
    "a = np.arange(1,26).reshape(5,5)\n",
    "a"
   ]
  },
  {
   "cell_type": "code",
   "execution_count": 209,
   "id": "1019a0c4-e20f-4a24-9f12-ec76f43d62f8",
   "metadata": {},
   "outputs": [
    {
     "data": {
      "text/plain": [
       "array([[11, 12, 13, 14, 15],\n",
       "       [16, 17, 18, 19, 20],\n",
       "       [21, 22, 23, 24, 25],\n",
       "       [26, 27, 28, 29, 30],\n",
       "       [31, 32, 33, 34, 35]])"
      ]
     },
     "execution_count": 209,
     "metadata": {},
     "output_type": "execute_result"
    }
   ],
   "source": [
    "s = a + 10      # add 10 in the matrix.\n",
    "s"
   ]
  },
  {
   "cell_type": "code",
   "execution_count": 210,
   "id": "bfdae229-a6c2-4b45-90ee-9569b773c4d7",
   "metadata": {},
   "outputs": [
    {
     "data": {
      "text/plain": [
       "array([[ 1,  2,  3,  4,  5],\n",
       "       [ 6,  7,  8,  9, 10],\n",
       "       [11, 12, 13, 14, 15],\n",
       "       [16, 17, 18, 19, 20],\n",
       "       [21, 22, 23, 24, 25]])"
      ]
     },
     "execution_count": 210,
     "metadata": {},
     "output_type": "execute_result"
    }
   ],
   "source": [
    "a "
   ]
  },
  {
   "cell_type": "code",
   "execution_count": 211,
   "id": "f5c6a062-86f4-42c3-b68d-023a30e1c64a",
   "metadata": {},
   "outputs": [
    {
     "data": {
      "text/plain": [
       "array([[ 0.66666667,  1.33333333,  2.        ,  2.66666667,  3.33333333],\n",
       "       [ 4.        ,  4.66666667,  5.33333333,  6.        ,  6.66666667],\n",
       "       [ 7.33333333,  8.        ,  8.66666667,  9.33333333, 10.        ],\n",
       "       [10.66666667, 11.33333333, 12.        , 12.66666667, 13.33333333],\n",
       "       [14.        , 14.66666667, 15.33333333, 16.        , 16.66666667]])"
      ]
     },
     "execution_count": 211,
     "metadata": {},
     "output_type": "execute_result"
    }
   ],
   "source": [
    "l = a * 2 /3\n",
    "l"
   ]
  },
  {
   "cell_type": "markdown",
   "id": "968fa772-e779-4a70-9e40-0ec98e5ead2b",
   "metadata": {},
   "source": [
    "# Deep & Shapllo Copy :\n"
   ]
  },
  {
   "cell_type": "code",
   "execution_count": 212,
   "id": "b4357cef-76c2-41d6-97aa-97f890c79c8b",
   "metadata": {},
   "outputs": [
    {
     "data": {
      "text/plain": [
       "array([ 1,  2,  3,  4,  5,  6,  7,  8,  9, 10, 11, 12, 13, 14, 15])"
      ]
     },
     "execution_count": 212,
     "metadata": {},
     "output_type": "execute_result"
    }
   ],
   "source": [
    "z = np.arange(1,16)\n",
    "z"
   ]
  },
  {
   "cell_type": "code",
   "execution_count": 213,
   "id": "179e3f6e-23e2-41bc-9183-9f600f8db0aa",
   "metadata": {},
   "outputs": [
    {
     "data": {
      "text/plain": [
       "array([1, 2, 3, 4, 5, 6])"
      ]
     },
     "execution_count": 213,
     "metadata": {},
     "output_type": "execute_result"
    }
   ],
   "source": [
    "s = slice = z[:6]\n",
    "s = slice\n",
    "s"
   ]
  },
  {
   "cell_type": "code",
   "execution_count": 214,
   "id": "05199d62-6ed3-4ba2-8938-b77fc7dc1da3",
   "metadata": {},
   "outputs": [
    {
     "data": {
      "text/plain": [
       "array([ 2,  4,  6,  8, 10, 12])"
      ]
     },
     "execution_count": 214,
     "metadata": {},
     "output_type": "execute_result"
    }
   ],
   "source": [
    "s = slice = z[:6]\n",
    "s = slice * 2\n",
    "s"
   ]
  },
  {
   "cell_type": "code",
   "execution_count": 215,
   "id": "9d1d9eaa-7058-4d03-aa77-bff9168c15c5",
   "metadata": {},
   "outputs": [
    {
     "data": {
      "text/plain": [
       "array([ 1,  2,  3,  4,  5,  6,  7,  8,  9, 10, 11, 12, 13, 14, 15])"
      ]
     },
     "execution_count": 215,
     "metadata": {},
     "output_type": "execute_result"
    }
   ],
   "source": [
    "z"
   ]
  },
  {
   "cell_type": "code",
   "execution_count": 216,
   "id": "1eeabc47-6c0f-49fa-abed-8dcb79d92724",
   "metadata": {},
   "outputs": [
    {
     "data": {
      "text/plain": [
       "array([ 1,  2,  3,  4,  5,  6,  7,  8,  9, 10, 11, 12, 13, 14, 15])"
      ]
     },
     "execution_count": 216,
     "metadata": {},
     "output_type": "execute_result"
    }
   ],
   "source": [
    "s = z.copy()\n",
    "s"
   ]
  },
  {
   "cell_type": "code",
   "execution_count": 217,
   "id": "4cb7ac65-19d6-4203-8506-d0c37083fb26",
   "metadata": {},
   "outputs": [
    {
     "name": "stdout",
     "output_type": "stream",
     "text": [
      "2556458533104\n",
      "2556458534736\n"
     ]
    }
   ],
   "source": [
    "print(id(z))\n",
    "print(id(s))"
   ]
  },
  {
   "cell_type": "code",
   "execution_count": null,
   "id": "bd70b9bc-5fac-439f-8e5b-127995b79040",
   "metadata": {},
   "outputs": [],
   "source": []
  },
  {
   "cell_type": "code",
   "execution_count": 218,
   "id": "5dbd4d14-5314-410f-91a8-b83db95996d4",
   "metadata": {},
   "outputs": [
    {
     "data": {
      "text/plain": [
       "array([99,  2,  3,  4,  5,  6,  7,  8,  9, 10, 11, 12, 13, 14, 15])"
      ]
     },
     "execution_count": 218,
     "metadata": {},
     "output_type": "execute_result"
    }
   ],
   "source": [
    "s[0] = 99\n",
    "s"
   ]
  },
  {
   "cell_type": "code",
   "execution_count": 219,
   "id": "8ff13315-32b0-4c64-86fc-8bb9432ce902",
   "metadata": {},
   "outputs": [
    {
     "data": {
      "text/plain": [
       "array([ 1,  2,  3,  4,  5,  6,  7,  8,  9, 10, 11, 12, 13, 14, 15])"
      ]
     },
     "execution_count": 219,
     "metadata": {},
     "output_type": "execute_result"
    }
   ],
   "source": [
    "z"
   ]
  },
  {
   "cell_type": "code",
   "execution_count": 220,
   "id": "b014e79c-b33f-47f6-a9fc-a0288dba190e",
   "metadata": {},
   "outputs": [
    {
     "data": {
      "text/plain": [
       "2556458533104"
      ]
     },
     "execution_count": 220,
     "metadata": {},
     "output_type": "execute_result"
    }
   ],
   "source": [
    "id(z)"
   ]
  },
  {
   "cell_type": "code",
   "execution_count": 221,
   "id": "73173022-dd49-4907-9653-942ebc7cffa2",
   "metadata": {},
   "outputs": [],
   "source": [
    "a = np.array([[1,2],[3,4]])\n",
    "b = np.array([[5,6],[7,8]])"
   ]
  },
  {
   "cell_type": "code",
   "execution_count": 222,
   "id": "9953c279-2046-4ee8-aca3-2ea7335cf6c7",
   "metadata": {},
   "outputs": [
    {
     "data": {
      "text/plain": [
       "array([[1, 2],\n",
       "       [3, 4]])"
      ]
     },
     "execution_count": 222,
     "metadata": {},
     "output_type": "execute_result"
    }
   ],
   "source": [
    "a"
   ]
  },
  {
   "cell_type": "code",
   "execution_count": 223,
   "id": "ae9547aa-25e3-4c9c-be2a-88636b0155a2",
   "metadata": {},
   "outputs": [
    {
     "data": {
      "text/plain": [
       "array([[5, 6],\n",
       "       [7, 8]])"
      ]
     },
     "execution_count": 223,
     "metadata": {},
     "output_type": "execute_result"
    }
   ],
   "source": [
    "b"
   ]
  },
  {
   "cell_type": "code",
   "execution_count": 224,
   "id": "3daa74b8-eb44-41d1-ac86-2314e4595bc1",
   "metadata": {},
   "outputs": [
    {
     "data": {
      "text/plain": [
       "array([[19, 22],\n",
       "       [43, 50]])"
      ]
     },
     "execution_count": 224,
     "metadata": {},
     "output_type": "execute_result"
    }
   ],
   "source": [
    "a @ b"
   ]
  },
  {
   "cell_type": "code",
   "execution_count": 225,
   "id": "d8f667e3-f721-412b-b31d-9483f8cb761b",
   "metadata": {},
   "outputs": [
    {
     "data": {
      "text/plain": [
       "array([[19, 22],\n",
       "       [43, 50]])"
      ]
     },
     "execution_count": 225,
     "metadata": {},
     "output_type": "execute_result"
    }
   ],
   "source": [
    "np.dot(a,b)  # Second method of multiplication"
   ]
  },
  {
   "cell_type": "code",
   "execution_count": 226,
   "id": "156ebb6c-0cd8-444b-8f75-97278996a3ca",
   "metadata": {},
   "outputs": [
    {
     "data": {
      "text/plain": [
       "array([[1, 2],\n",
       "       [3, 4]])"
      ]
     },
     "execution_count": 226,
     "metadata": {},
     "output_type": "execute_result"
    }
   ],
   "source": [
    "# Transpose:\n",
    "            # means it convrt rows to columns and columns to rows.\n",
    "\n",
    "a"
   ]
  },
  {
   "cell_type": "code",
   "execution_count": 227,
   "id": "574b3182-cd1a-4379-98cc-3cf7d393f7ae",
   "metadata": {},
   "outputs": [
    {
     "data": {
      "text/plain": [
       "array([[5, 6],\n",
       "       [7, 8]])"
      ]
     },
     "execution_count": 227,
     "metadata": {},
     "output_type": "execute_result"
    }
   ],
   "source": [
    "b"
   ]
  },
  {
   "cell_type": "code",
   "execution_count": 228,
   "id": "c495dded-701e-4818-97a8-a9134e0bec2e",
   "metadata": {},
   "outputs": [
    {
     "data": {
      "text/plain": [
       "array([[1, 3],\n",
       "       [2, 4]])"
      ]
     },
     "execution_count": 228,
     "metadata": {},
     "output_type": "execute_result"
    }
   ],
   "source": [
    "a.T  # rows to columns"
   ]
  },
  {
   "cell_type": "code",
   "execution_count": 229,
   "id": "bfdb18fd-8a03-498f-b024-dc99a8add4df",
   "metadata": {},
   "outputs": [
    {
     "data": {
      "text/plain": [
       "array([[5, 7],\n",
       "       [6, 8]])"
      ]
     },
     "execution_count": 229,
     "metadata": {},
     "output_type": "execute_result"
    }
   ],
   "source": [
    "b.T "
   ]
  },
  {
   "cell_type": "markdown",
   "id": "13f44b87-5005-4e0b-89fd-ce5cbc8a57e7",
   "metadata": {},
   "source": [
    "# Advance array manupilation\n",
    "\n",
    "- Stacking Array"
   ]
  },
  {
   "cell_type": "code",
   "execution_count": 230,
   "id": "378a85ac-4047-4d47-bdf4-bddb3585869a",
   "metadata": {},
   "outputs": [],
   "source": [
    "a = [[1,2,3,4,5]]\n",
    "b = [[6,7,8,9,10]]"
   ]
  },
  {
   "cell_type": "code",
   "execution_count": 231,
   "id": "61230386-a0bc-4453-9d29-8d9da603a429",
   "metadata": {},
   "outputs": [
    {
     "data": {
      "text/plain": [
       "[[1, 2, 3, 4, 5]]"
      ]
     },
     "execution_count": 231,
     "metadata": {},
     "output_type": "execute_result"
    }
   ],
   "source": [
    "a"
   ]
  },
  {
   "cell_type": "code",
   "execution_count": 232,
   "id": "be8604c0-6902-4f8e-a5a5-9cf60eeea21e",
   "metadata": {},
   "outputs": [
    {
     "data": {
      "text/plain": [
       "[[6, 7, 8, 9, 10]]"
      ]
     },
     "execution_count": 232,
     "metadata": {},
     "output_type": "execute_result"
    }
   ],
   "source": [
    "b"
   ]
  },
  {
   "cell_type": "code",
   "execution_count": 233,
   "id": "b74eb5c1-37b0-455c-9002-430dc842f304",
   "metadata": {},
   "outputs": [
    {
     "data": {
      "text/plain": [
       "array([[ 1,  2,  3,  4,  5,  6,  7,  8,  9, 10]])"
      ]
     },
     "execution_count": 233,
     "metadata": {},
     "output_type": "execute_result"
    }
   ],
   "source": [
    "h = np.hstack((a,b))\n",
    "h"
   ]
  },
  {
   "cell_type": "code",
   "execution_count": 234,
   "id": "937008cd-b398-4ceb-8232-c7a8b6b2e503",
   "metadata": {},
   "outputs": [
    {
     "data": {
      "text/plain": [
       "array([[ 1,  2,  3,  4,  5],\n",
       "       [ 6,  7,  8,  9, 10]])"
      ]
     },
     "execution_count": 234,
     "metadata": {},
     "output_type": "execute_result"
    }
   ],
   "source": [
    "v = np.vstack((a,b))\n",
    "v"
   ]
  },
  {
   "cell_type": "code",
   "execution_count": 235,
   "id": "ee0a8e0c-cd49-43f1-be77-d91722296a01",
   "metadata": {},
   "outputs": [
    {
     "data": {
      "text/plain": [
       "[[1, 2, 3, 4, 5]]"
      ]
     },
     "execution_count": 235,
     "metadata": {},
     "output_type": "execute_result"
    }
   ],
   "source": [
    "a"
   ]
  },
  {
   "cell_type": "code",
   "execution_count": 236,
   "id": "69d57080-414d-4034-84a6-7e7adf883fd3",
   "metadata": {},
   "outputs": [
    {
     "data": {
      "text/plain": [
       "[[6, 7, 8, 9, 10]]"
      ]
     },
     "execution_count": 236,
     "metadata": {},
     "output_type": "execute_result"
    }
   ],
   "source": [
    "b"
   ]
  },
  {
   "cell_type": "code",
   "execution_count": 237,
   "id": "ceb255a1-9da1-475c-b279-129345abb314",
   "metadata": {},
   "outputs": [
    {
     "data": {
      "text/plain": [
       "array([[ 1,  2,  3,  4,  5,  6,  7,  8,  9, 10]])"
      ]
     },
     "execution_count": 237,
     "metadata": {},
     "output_type": "execute_result"
    }
   ],
   "source": [
    "np.column_stack((a,b))"
   ]
  },
  {
   "cell_type": "code",
   "execution_count": 238,
   "id": "e52ff951-40af-43a3-b6b3-6d3632ab3854",
   "metadata": {},
   "outputs": [
    {
     "data": {
      "text/plain": [
       "array([[ 0,  1,  2,  3],\n",
       "       [ 4,  5,  6,  7],\n",
       "       [ 8,  9, 10, 11],\n",
       "       [12, 13, 14, 15]])"
      ]
     },
     "execution_count": 238,
     "metadata": {},
     "output_type": "execute_result"
    }
   ],
   "source": [
    "A = np.arange(16).reshape(4,4)\n",
    "A"
   ]
  },
  {
   "cell_type": "code",
   "execution_count": 239,
   "id": "844ab868-e95c-4ded-846d-6da12a4cf3f5",
   "metadata": {},
   "outputs": [
    {
     "data": {
      "text/plain": [
       "[array([[ 0,  1],\n",
       "        [ 4,  5],\n",
       "        [ 8,  9],\n",
       "        [12, 13]]),\n",
       " array([[ 2,  3],\n",
       "        [ 6,  7],\n",
       "        [10, 11],\n",
       "        [14, 15]])]"
      ]
     },
     "execution_count": 239,
     "metadata": {},
     "output_type": "execute_result"
    }
   ],
   "source": [
    "np.hsplit(A,2)"
   ]
  },
  {
   "cell_type": "code",
   "execution_count": 240,
   "id": "aa04eb99-381a-4ba5-9031-4006fc2c1183",
   "metadata": {},
   "outputs": [
    {
     "data": {
      "text/plain": [
       "[array([[ 0],\n",
       "        [ 4],\n",
       "        [ 8],\n",
       "        [12]]),\n",
       " array([[ 1],\n",
       "        [ 5],\n",
       "        [ 9],\n",
       "        [13]]),\n",
       " array([[ 2],\n",
       "        [ 6],\n",
       "        [10],\n",
       "        [14]]),\n",
       " array([[ 3],\n",
       "        [ 7],\n",
       "        [11],\n",
       "        [15]])]"
      ]
     },
     "execution_count": 240,
     "metadata": {},
     "output_type": "execute_result"
    }
   ],
   "source": [
    "np.hsplit(A,4)"
   ]
  },
  {
   "cell_type": "code",
   "execution_count": 241,
   "id": "3f995862-ff87-44ce-80a3-aefe03d8041a",
   "metadata": {},
   "outputs": [
    {
     "data": {
      "text/plain": [
       "[array([[0, 1, 2, 3],\n",
       "        [4, 5, 6, 7]]),\n",
       " array([[ 8,  9, 10, 11],\n",
       "        [12, 13, 14, 15]])]"
      ]
     },
     "execution_count": 241,
     "metadata": {},
     "output_type": "execute_result"
    }
   ],
   "source": [
    "np.vsplit(A,2)"
   ]
  }
 ],
 "metadata": {
  "kernelspec": {
   "display_name": "Python 3 (ipykernel)",
   "language": "python",
   "name": "python3"
  },
  "language_info": {
   "codemirror_mode": {
    "name": "ipython",
    "version": 3
   },
   "file_extension": ".py",
   "mimetype": "text/x-python",
   "name": "python",
   "nbconvert_exporter": "python",
   "pygments_lexer": "ipython3",
   "version": "3.13.5"
  },
  "widgets": {
   "application/vnd.jupyter.widget-state+json": {
    "state": {},
    "version_major": 2,
    "version_minor": 0
   }
  }
 },
 "nbformat": 4,
 "nbformat_minor": 5
}
