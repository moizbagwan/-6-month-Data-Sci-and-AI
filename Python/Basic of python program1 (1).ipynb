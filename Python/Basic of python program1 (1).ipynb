{
 "cells": [
  {
   "cell_type": "markdown",
   "id": "e1ef4c10-b64c-489b-97ce-0e3288a05acc",
   "metadata": {},
   "source": [
    "# 1 - NUMBERS IN PYTHON \n",
    "\n",
    "- Numbers\n",
    "- String\n",
    "- Variable\n",
    "- Functions"
   ]
  },
  {
   "cell_type": "markdown",
   "id": "cf2550ca-9c90-4d27-b016-b99e55443a35",
   "metadata": {},
   "source": [
    "1         "
   ]
  },
  {
   "cell_type": "code",
   "execution_count": 6,
   "id": "d061eb6a-6f31-474a-b989-b8cff7d4a747",
   "metadata": {},
   "outputs": [
    {
     "data": {
      "text/plain": [
       "7"
      ]
     },
     "execution_count": 6,
     "metadata": {},
     "output_type": "execute_result"
    }
   ],
   "source": [
    "7"
   ]
  },
  {
   "cell_type": "code",
   "execution_count": 9,
   "id": "7efa3133-780f-4a7d-8d12-0fcd24df2543",
   "metadata": {},
   "outputs": [
    {
     "data": {
      "text/plain": [
       "8"
      ]
     },
     "execution_count": 9,
     "metadata": {},
     "output_type": "execute_result"
    }
   ],
   "source": [
    "5 + 2        #Addition of 2 numbers"
   ]
  },
  {
   "cell_type": "code",
   "execution_count": 8,
   "id": "8b35fb8a-4a05-45fd-934b-82c5286f4998",
   "metadata": {},
   "outputs": [
    {
     "data": {
      "text/plain": [
       "2"
      ]
     },
     "execution_count": 8,
     "metadata": {},
     "output_type": "execute_result"
    }
   ],
   "source": [
    "5 - 3       # Substraction of 2 numbers"
   ]
  },
  {
   "cell_type": "code",
   "execution_count": 10,
   "id": "ac11a855-0981-4a13-922c-3dab8c21a039",
   "metadata": {},
   "outputs": [
    {
     "data": {
      "text/plain": [
       "10"
      ]
     },
     "execution_count": 10,
     "metadata": {},
     "output_type": "execute_result"
    }
   ],
   "source": [
    "5 * 2        # Multiplication of 2 numbers"
   ]
  },
  {
   "cell_type": "code",
   "execution_count": 13,
   "id": "7dcdc0d0-5ec2-465e-a06d-c33ba4d6ad4e",
   "metadata": {},
   "outputs": [
    {
     "data": {
      "text/plain": [
       "5.0"
      ]
     },
     "execution_count": 13,
     "metadata": {},
     "output_type": "execute_result"
    }
   ],
   "source": [
    "10 / 2       # Float Divison"
   ]
  },
  {
   "cell_type": "code",
   "execution_count": 14,
   "id": "57793995-73fa-4cec-956b-d01be825f600",
   "metadata": {},
   "outputs": [
    {
     "data": {
      "text/plain": [
       "5"
      ]
     },
     "execution_count": 14,
     "metadata": {},
     "output_type": "execute_result"
    }
   ],
   "source": [
    "10 // 2      # Int Divison"
   ]
  },
  {
   "cell_type": "code",
   "execution_count": 15,
   "id": "397ca9d2-1160-4a24-bc50-f249fcc79f39",
   "metadata": {},
   "outputs": [
    {
     "data": {
      "text/plain": [
       "10"
      ]
     },
     "execution_count": 15,
     "metadata": {},
     "output_type": "execute_result"
    }
   ],
   "source": [
    "5 * 2        # Multiplication"
   ]
  },
  {
   "cell_type": "code",
   "execution_count": 16,
   "id": "4ae5fde2-440b-4ae5-b0bb-754ba20738e6",
   "metadata": {},
   "outputs": [
    {
     "data": {
      "text/plain": [
       "25"
      ]
     },
     "execution_count": 16,
     "metadata": {},
     "output_type": "execute_result"
    }
   ],
   "source": [
    "5 ** 2       # Power / Square"
   ]
  },
  {
   "cell_type": "markdown",
   "id": "4222afbe-88d9-40da-a337-4e37c41fde2d",
   "metadata": {},
   "source": [
    "# 2 - STRING IN PYTHON(TEXT) "
   ]
  },
  {
   "cell_type": "code",
   "execution_count": 18,
   "id": "dbf5358b-105a-4d13-9224-55d9eb82c1e4",
   "metadata": {},
   "outputs": [
    {
     "ename": "NameError",
     "evalue": "name 'hello' is not defined",
     "output_type": "error",
     "traceback": [
      "\u001b[1;31m---------------------------------------------------------------------------\u001b[0m",
      "\u001b[1;31mNameError\u001b[0m                                 Traceback (most recent call last)",
      "Cell \u001b[1;32mIn[18], line 1\u001b[0m\n\u001b[1;32m----> 1\u001b[0m hello\n",
      "\u001b[1;31mNameError\u001b[0m: name 'hello' is not defined"
     ]
    }
   ],
   "source": [
    "hello    # ERROR (Quots are complsory for Srting)"
   ]
  },
  {
   "cell_type": "code",
   "execution_count": 19,
   "id": "d6db9faa-eeae-4bd4-838f-2bacd8f1066c",
   "metadata": {},
   "outputs": [
    {
     "data": {
      "text/plain": [
       "'Hello'"
      ]
     },
     "execution_count": 19,
     "metadata": {},
     "output_type": "execute_result"
    }
   ],
   "source": [
    "'Hello' # SIngle Quots.."
   ]
  },
  {
   "cell_type": "code",
   "execution_count": 20,
   "id": "852bcfb2-241c-4892-9e0e-09df0efab601",
   "metadata": {},
   "outputs": [
    {
     "data": {
      "text/plain": [
       "'Hello'"
      ]
     },
     "execution_count": 20,
     "metadata": {},
     "output_type": "execute_result"
    }
   ],
   "source": [
    "\"Hello\"  # Double Quots"
   ]
  },
  {
   "cell_type": "code",
   "execution_count": 21,
   "id": "0f1b608e-4073-4902-8008-dda430dfd581",
   "metadata": {},
   "outputs": [
    {
     "data": {
      "text/plain": [
       "'Hello'"
      ]
     },
     "execution_count": 21,
     "metadata": {},
     "output_type": "execute_result"
    }
   ],
   "source": [
    "'''Hello'''  # Multi line Quots / Triple Quots"
   ]
  },
  {
   "cell_type": "code",
   "execution_count": 22,
   "id": "d745abe2-9431-4b54-9cdb-c83e29dd67bc",
   "metadata": {},
   "outputs": [
    {
     "ename": "_IncompleteInputError",
     "evalue": "incomplete input (3036439947.py, line 1)",
     "output_type": "error",
     "traceback": [
      "\u001b[1;36m  Cell \u001b[1;32mIn[22], line 1\u001b[1;36m\u001b[0m\n\u001b[1;33m    ''' Hii my name is Abdul Moiz '\u001b[0m\n\u001b[1;37m    ^\u001b[0m\n\u001b[1;31m_IncompleteInputError\u001b[0m\u001b[1;31m:\u001b[0m incomplete input\n"
     ]
    }
   ],
   "source": [
    "''' Hii my name is Abdul Moiz '    "
   ]
  },
  {
   "cell_type": "code",
   "execution_count": 28,
   "id": "8a63824f-999c-45d7-8aa9-132b79d8be9d",
   "metadata": {},
   "outputs": [
    {
     "ename": "_IncompleteInputError",
     "evalue": "incomplete input (1352673543.py, line 1)",
     "output_type": "error",
     "traceback": [
      "\u001b[1;36m  Cell \u001b[1;32mIn[28], line 1\u001b[1;36m\u001b[0m\n\u001b[1;33m    '''Hii my name is Abdul Moiz\"\u001b[0m\n\u001b[1;37m    ^\u001b[0m\n\u001b[1;31m_IncompleteInputError\u001b[0m\u001b[1;31m:\u001b[0m incomplete input\n"
     ]
    }
   ],
   "source": [
    "'''Hii my name is Abdul Moiz\""
   ]
  },
  {
   "cell_type": "code",
   "execution_count": 29,
   "id": "b59e8560-532c-4d5b-a723-cad338c61db6",
   "metadata": {},
   "outputs": [
    {
     "data": {
      "text/plain": [
       "' Hii my name is Abdul Moiz'"
      ]
     },
     "execution_count": 29,
     "metadata": {},
     "output_type": "execute_result"
    }
   ],
   "source": [
    "''' Hii my name is Abdul Moiz'''"
   ]
  },
  {
   "cell_type": "code",
   "execution_count": 31,
   "id": "5454feea-bfd3-4f01-97de-ed9032272d83",
   "metadata": {},
   "outputs": [
    {
     "data": {
      "text/plain": [
       "' Hii my name is Abdul Moiz i am from Maharashtra i study in NIT'"
      ]
     },
     "execution_count": 31,
     "metadata": {},
     "output_type": "execute_result"
    }
   ],
   "source": [
    "' Hii my name is Abdul Moiz i am from Maharashtra i study in NIT'"
   ]
  },
  {
   "cell_type": "code",
   "execution_count": 36,
   "id": "7073a9e2-0527-4fec-ba89-3205af61f809",
   "metadata": {},
   "outputs": [
    {
     "data": {
      "text/plain": [
       "'Hii my name is Abdul Moiz i am from Maharashtra i study in NIT'"
      ]
     },
     "execution_count": 36,
     "metadata": {},
     "output_type": "execute_result"
    }
   ],
   "source": [
    "''Hii my name is Abdul Moiz i am from Maharashtra i study in NIT''  # ERROR (USEER MISTAKE)(QUOTS)"
   ]
  },
  {
   "cell_type": "code",
   "execution_count": 37,
   "id": "55efd118-e059-46f3-86f4-829d2abed8ec",
   "metadata": {},
   "outputs": [
    {
     "data": {
      "text/plain": [
       "'Hii my name is Abdul Moiz\\ni am from Maharashtra \\ni study in NIT'"
      ]
     },
     "execution_count": 37,
     "metadata": {},
     "output_type": "execute_result"
    }
   ],
   "source": [
    "'''Hii my name is Abdul Moiz\n",
    "i am from Maharashtra             \n",
    "i study in NIT'''                  # MULTI LINE COMMENTS (USE TRIPLE QOUTS)"
   ]
  },
  {
   "cell_type": "markdown",
   "id": "77d9bb32-0cc8-430d-8e4c-6d8cec2d807a",
   "metadata": {},
   "source": [
    "# 3 - VARIABLE (OBJECT) IN PYTHON"
   ]
  },
  {
   "cell_type": "code",
   "execution_count": 52,
   "id": "3ec9eaaa-f7a4-4fc7-97f8-9df177888040",
   "metadata": {},
   "outputs": [
    {
     "ename": "SyntaxError",
     "evalue": "invalid decimal literal (2847245014.py, line 1)",
     "output_type": "error",
     "traceback": [
      "\u001b[1;36m  Cell \u001b[1;32mIn[52], line 1\u001b[1;36m\u001b[0m\n\u001b[1;33m    1num = a         # You Cannot Start VARIABLE WITH NUMBERS (1NUM) , AND SPECIAL CHARECTERS(@,#,$,*,&)....\u001b[0m\n\u001b[1;37m    ^\u001b[0m\n\u001b[1;31mSyntaxError\u001b[0m\u001b[1;31m:\u001b[0m invalid decimal literal\n"
     ]
    }
   ],
   "source": [
    "1num = a         # VARIABLE Never Start WITH NUMBERS (1NUM) , AND SPECIAL CHARECTERS(@,#,$,*,&).... But end with numbers..\n",
    "1num"
   ]
  },
  {
   "cell_type": "code",
   "execution_count": 40,
   "id": "8a8e8433-8dd2-48f1-a64d-c5bb45eb0c36",
   "metadata": {},
   "outputs": [
    {
     "ename": "NameError",
     "evalue": "name 'A' is not defined",
     "output_type": "error",
     "traceback": [
      "\u001b[1;31m---------------------------------------------------------------------------\u001b[0m",
      "\u001b[1;31mNameError\u001b[0m                                 Traceback (most recent call last)",
      "Cell \u001b[1;32mIn[40], line 2\u001b[0m\n\u001b[0;32m      1\u001b[0m a \u001b[38;5;241m=\u001b[39m \u001b[38;5;241m9\u001b[39m        \u001b[38;5;66;03m# 'a' is VARIABLE , and '9' is value...\u001b[39;00m\n\u001b[1;32m----> 2\u001b[0m A\n",
      "\u001b[1;31mNameError\u001b[0m: name 'A' is not defined"
     ]
    }
   ],
   "source": [
    "a = 9        # PYTHON IS THE CASE SENSITIVE LAGUAGE,'a' and 'A' is differernt....\n",
    "A"
   ]
  },
  {
   "cell_type": "code",
   "execution_count": 41,
   "id": "3ca5b9d1-c0fb-4f0f-a48e-b7c032fa6c37",
   "metadata": {},
   "outputs": [
    {
     "data": {
      "text/plain": [
       "9"
      ]
     },
     "execution_count": 41,
     "metadata": {},
     "output_type": "execute_result"
    }
   ],
   "source": [
    "a = 9\n",
    "a"
   ]
  },
  {
   "cell_type": "code",
   "execution_count": 39,
   "id": "b810d21b-6adc-471b-a69c-07325553f6d9",
   "metadata": {},
   "outputs": [
    {
     "data": {
      "text/plain": [
       "90"
      ]
     },
     "execution_count": 39,
     "metadata": {},
     "output_type": "execute_result"
    }
   ],
   "source": [
    "a = 45    \n",
    "b = 45        # ADDITION BY USING VARIABLE...\n",
    "a + b"
   ]
  },
  {
   "cell_type": "code",
   "execution_count": 44,
   "id": "58351266-c923-4a83-813e-35dbb5fb0cd7",
   "metadata": {},
   "outputs": [
    {
     "data": {
      "text/plain": [
       "10"
      ]
     },
     "execution_count": 44,
     "metadata": {},
     "output_type": "execute_result"
    }
   ],
   "source": [
    "a = 20\n",
    "b = 10       # SUBSTRACTION BY USING VARIABLE...\n",
    "a - b"
   ]
  },
  {
   "cell_type": "code",
   "execution_count": 47,
   "id": "a84c7681-be2e-4ebf-80c9-d89748b25313",
   "metadata": {},
   "outputs": [
    {
     "data": {
      "text/plain": [
       "2.0"
      ]
     },
     "execution_count": 47,
     "metadata": {},
     "output_type": "execute_result"
    }
   ],
   "source": [
    "a = 100\n",
    "b = 50       # (FLOAT DIVISON) BY USING VARIABLE...\n",
    "a / b"
   ]
  },
  {
   "cell_type": "code",
   "execution_count": 48,
   "id": "48cd130f-0f85-410f-b4a4-852c10ba509e",
   "metadata": {},
   "outputs": [
    {
     "data": {
      "text/plain": [
       "2"
      ]
     },
     "execution_count": 48,
     "metadata": {},
     "output_type": "execute_result"
    }
   ],
   "source": [
    "a = 100\n",
    "b = 50       # (INT DIVISON) BY USING VARIABLE...\n",
    "a // b"
   ]
  },
  {
   "cell_type": "code",
   "execution_count": 49,
   "id": "26879eb2-edfc-418a-844c-ccdf05b1ca2b",
   "metadata": {},
   "outputs": [
    {
     "data": {
      "text/plain": [
       "100"
      ]
     },
     "execution_count": 49,
     "metadata": {},
     "output_type": "execute_result"
    }
   ],
   "source": [
    "a = 10\n",
    "b = 10      # MULTIPLICATION BY USING VARIABLE...\n",
    "a * b"
   ]
  },
  {
   "cell_type": "code",
   "execution_count": 57,
   "id": "50d9fc49-d6f0-441d-b310-271426ed0589",
   "metadata": {},
   "outputs": [
    {
     "ename": "NameError",
     "evalue": "name 'sur_name' is not defined",
     "output_type": "error",
     "traceback": [
      "\u001b[1;31m---------------------------------------------------------------------------\u001b[0m",
      "\u001b[1;31mNameError\u001b[0m                                 Traceback (most recent call last)",
      "Cell \u001b[1;32mIn[57], line 2\u001b[0m\n\u001b[0;32m      1\u001b[0m name \u001b[38;5;241m=\u001b[39m \u001b[38;5;124m\"\u001b[39m\u001b[38;5;124mNIT\u001b[39m\u001b[38;5;124m\"\u001b[39m\n\u001b[1;32m----> 2\u001b[0m sur_name\n",
      "\u001b[1;31mNameError\u001b[0m: name 'sur_name' is not defined"
     ]
    }
   ],
   "source": [
    "name = \"NIT\"\n",
    "sur_name          # i define with 'NAME' and i call with \"sur_name\" .... NAme ERROR"
   ]
  },
  {
   "cell_type": "code",
   "execution_count": 59,
   "id": "5b4ee384-3612-4785-9588-cc67e0065935",
   "metadata": {},
   "outputs": [
    {
     "data": {
      "text/plain": [
       "'NIT'"
      ]
     },
     "execution_count": 59,
     "metadata": {},
     "output_type": "execute_result"
    }
   ],
   "source": [
    "name = \"NIT\"\n",
    "name           # Define and call the same Variable...."
   ]
  },
  {
   "cell_type": "code",
   "execution_count": 64,
   "id": "5e44705f-8248-47d3-a8ca-52aeaaded5fb",
   "metadata": {},
   "outputs": [
    {
     "data": {
      "text/plain": [
       "'pushpa'"
      ]
     },
     "execution_count": 64,
     "metadata": {},
     "output_type": "execute_result"
    }
   ],
   "source": [
    "name1,name2 = 'pushpa','KGF'\n",
    "name1                     # after the name1 i rum the name1 then the name1 output is diapear.... \n",
    "name2                         # Threfor we use \"(FUNCTION\") for CODE 'OPTIMISATION'"
   ]
  },
  {
   "cell_type": "markdown",
   "id": "24d96e39-69eb-4fec-9804-fb7fbb98334a",
   "metadata": {},
   "source": [
    "# 4 - FUNCTION IN PYTHON"
   ]
  },
  {
   "cell_type": "code",
   "execution_count": 66,
   "id": "02d8dba4-c779-41c7-bf91-4b1c9368041b",
   "metadata": {},
   "outputs": [
    {
     "ename": "SyntaxError",
     "evalue": "invalid syntax (1867390700.py, line 1)",
     "output_type": "error",
     "traceback": [
      "\u001b[1;36m  Cell \u001b[1;32mIn[66], line 1\u001b[1;36m\u001b[0m\n\u001b[1;33m    name@ = \"NIT\"\u001b[0m\n\u001b[1;37m          ^\u001b[0m\n\u001b[1;31mSyntaxError\u001b[0m\u001b[1;31m:\u001b[0m invalid syntax\n"
     ]
    }
   ],
   "source": [
    "name@ = \"NIT\"\n",
    "name@                  # SPECIAL CHARECTERS ARE NOT USE IN VARIABLE...(ECCEPT 'UNDERSCORE')....."
   ]
  },
  {
   "cell_type": "code",
   "execution_count": 67,
   "id": "d4ede0e2-d2d7-4e1d-960e-a444337bf8a0",
   "metadata": {},
   "outputs": [
    {
     "ename": "SyntaxError",
     "evalue": "invalid syntax (2392378291.py, line 1)",
     "output_type": "error",
     "traceback": [
      "\u001b[1;36m  Cell \u001b[1;32mIn[67], line 1\u001b[1;36m\u001b[0m\n\u001b[1;33m    num$ = 10\u001b[0m\n\u001b[1;37m       ^\u001b[0m\n\u001b[1;31mSyntaxError\u001b[0m\u001b[1;31m:\u001b[0m invalid syntax\n"
     ]
    }
   ],
   "source": [
    "num$ = 10\n",
    "num$                  # SPECIAL CHARECTERS ARE NOT USE IN VARIABLE...(ECCEPT 'UNDERSCORE')....."
   ]
  },
  {
   "cell_type": "code",
   "execution_count": 68,
   "id": "d9d6eeef-6894-4c66-be6b-97c0a7bdec07",
   "metadata": {},
   "outputs": [
    {
     "data": {
      "text/plain": [
       "1000"
      ]
     },
     "execution_count": 68,
     "metadata": {},
     "output_type": "execute_result"
    }
   ],
   "source": [
    "num_ = 1000\n",
    "num_                  # Special Charecters are cannot use in Variable...(ECCEPT 'UNDERSCORE')....."
   ]
  },
  {
   "cell_type": "code",
   "execution_count": 65,
   "id": "e6bcb292-095f-402d-a616-3c15544d5d3b",
   "metadata": {},
   "outputs": [
    {
     "name": "stdout",
     "output_type": "stream",
     "text": [
      "moiz\n",
      "Bagwan\n"
     ]
    }
   ],
   "source": [
    "name1 = \"moiz\"\n",
    "name2 = \"Bagwan\"\n",
    "print(name1)           # PRINT() FUNCTION We use to ptint Output.....\n",
    "print(name2)"
   ]
  },
  {
   "cell_type": "code",
   "execution_count": 69,
   "id": "c903c0fb-381d-4296-847f-1d20502cbb2f",
   "metadata": {},
   "outputs": [
    {
     "ename": "SyntaxError",
     "evalue": "invalid syntax (1911644139.py, line 1)",
     "output_type": "error",
     "traceback": [
      "\u001b[1;36m  Cell \u001b[1;32mIn[69], line 1\u001b[1;36m\u001b[0m\n\u001b[1;33m    if = 999\u001b[0m\n\u001b[1;37m       ^\u001b[0m\n\u001b[1;31mSyntaxError\u001b[0m\u001b[1;31m:\u001b[0m invalid syntax\n"
     ]
    }
   ],
   "source": [
    "if = 999\n",
    "if                # \"IF\" is the reserve word in Python (35 recerved Words in Python)...."
   ]
  },
  {
   "cell_type": "code",
   "execution_count": 75,
   "id": "9f94f0fa-9e7b-4b3e-8054-8e6e25a1f26a",
   "metadata": {},
   "outputs": [
    {
     "data": {
      "text/plain": [
       "['False',\n",
       " 'None',\n",
       " 'True',\n",
       " 'and',\n",
       " 'as',\n",
       " 'assert',\n",
       " 'async',\n",
       " 'await',\n",
       " 'break',\n",
       " 'class',\n",
       " 'continue',\n",
       " 'def',\n",
       " 'del',\n",
       " 'elif',\n",
       " 'else',\n",
       " 'except',\n",
       " 'finally',\n",
       " 'for',\n",
       " 'from',\n",
       " 'global',\n",
       " 'if',\n",
       " 'import',\n",
       " 'in',\n",
       " 'is',\n",
       " 'lambda',\n",
       " 'nonlocal',\n",
       " 'not',\n",
       " 'or',\n",
       " 'pass',\n",
       " 'raise',\n",
       " 'return',\n",
       " 'try',\n",
       " 'while',\n",
       " 'with',\n",
       " 'yield']"
      ]
     },
     "execution_count": 75,
     "metadata": {},
     "output_type": "execute_result"
    }
   ],
   "source": [
    "import keyword\n",
    "keyword.kwlist          # THESE RESERVED keywords(35) WORDS NEVER BE \"VARIABLE\"...."
   ]
  },
  {
   "cell_type": "code",
   "execution_count": 74,
   "id": "1f6a3ed5-574e-4bae-994d-34678aabf769",
   "metadata": {},
   "outputs": [
    {
     "data": {
      "text/plain": [
       "35"
      ]
     },
     "execution_count": 74,
     "metadata": {},
     "output_type": "execute_result"
    }
   ],
   "source": [
    "len(keyword.kwlist)"
   ]
  },
  {
   "cell_type": "code",
   "execution_count": 76,
   "id": "53a818de-b9d9-4cab-9571-2790e32b6f1b",
   "metadata": {},
   "outputs": [
    {
     "data": {
      "text/plain": [
       "'variable is completed'"
      ]
     },
     "execution_count": 76,
     "metadata": {},
     "output_type": "execute_result"
    }
   ],
   "source": [
    "\"variable is completed\""
   ]
  },
  {
   "cell_type": "markdown",
   "id": "86bfbb11-6ee1-416b-b557-8011addd1826",
   "metadata": {},
   "source": [
    "# 5 - DATATYPES\n"
   ]
  },
  {
   "cell_type": "markdown",
   "id": "64e3e9c5-cb7d-4cf0-be0d-213daf6949da",
   "metadata": {},
   "source": [
    "# - i INTEGER"
   ]
  },
  {
   "cell_type": "code",
   "execution_count": 17,
   "id": "b630eccb-626b-47fa-8eb7-0d5df376e396",
   "metadata": {},
   "outputs": [
    {
     "name": "stdout",
     "output_type": "stream",
     "text": [
      "1\n",
      "<class 'int'>\n"
     ]
    }
   ],
   "source": [
    "i = 1       \n",
    "print(i)\n",
    "print(type(i))                 # Detatype Is (INTEGER)"
   ]
  },
  {
   "cell_type": "code",
   "execution_count": 16,
   "id": "150fa1e3-c703-46af-bd0e-decdab454572",
   "metadata": {},
   "outputs": [
    {
     "name": "stdout",
     "output_type": "stream",
     "text": [
      "99.99\n",
      "<class 'float'>\n"
     ]
    }
   ],
   "source": [
    "f = 99.99   \n",
    "print(f)\n",
    "print(type(f))                 # Detatype Is (FLOAT)"
   ]
  },
  {
   "cell_type": "code",
   "execution_count": 15,
   "id": "a730ea6e-53b7-497c-8572-6520cb0d8e01",
   "metadata": {},
   "outputs": [
    {
     "name": "stdout",
     "output_type": "stream",
     "text": [
      "Hello\n",
      "<class 'str'>\n"
     ]
    }
   ],
   "source": [
    "s = \"Hello\"\n",
    "print(s)\n",
    "print(type(s))                 # Detatype Is (STRING)"
   ]
  },
  {
   "cell_type": "markdown",
   "id": "b15a5328-500a-4919-b0a8-c0d376170b33",
   "metadata": {},
   "source": [
    "# - ii BOOLIAN"
   ]
  },
  {
   "cell_type": "code",
   "execution_count": 10,
   "id": "ca8e8815-9410-4773-ba2e-85221c4eb9e7",
   "metadata": {},
   "outputs": [
    {
     "ename": "NameError",
     "evalue": "name 'true' is not defined",
     "output_type": "error",
     "traceback": [
      "\u001b[1;31m---------------------------------------------------------------------------\u001b[0m",
      "\u001b[1;31mNameError\u001b[0m                                 Traceback (most recent call last)",
      "Cell \u001b[1;32mIn[10], line 1\u001b[0m\n\u001b[1;32m----> 1\u001b[0m b \u001b[38;5;241m=\u001b[39m true\n\u001b[0;32m      2\u001b[0m b\n",
      "\u001b[1;31mNameError\u001b[0m: name 'true' is not defined"
     ]
    }
   ],
   "source": [
    "b = true\n",
    "b              # \"True\" is a reserved word in python and \"T\" is Always \"CAPITAL\""
   ]
  },
  {
   "cell_type": "code",
   "execution_count": 14,
   "id": "fe32eaf2-7224-427e-bdff-db4c88045859",
   "metadata": {},
   "outputs": [
    {
     "name": "stdout",
     "output_type": "stream",
     "text": [
      "True\n",
      "<class 'bool'>\n"
     ]
    }
   ],
   "source": [
    "b = True\n",
    "print(b)             # \"True\" is a reserved word in python and \"T\" is Always \"CAPITAL\"\n",
    "print(type(b))"
   ]
  },
  {
   "cell_type": "code",
   "execution_count": 18,
   "id": "fbe62cce-d4ac-4259-96d7-ceeae813013b",
   "metadata": {},
   "outputs": [
    {
     "ename": "NameError",
     "evalue": "name 'false' is not defined",
     "output_type": "error",
     "traceback": [
      "\u001b[1;31m---------------------------------------------------------------------------\u001b[0m",
      "\u001b[1;31mNameError\u001b[0m                                 Traceback (most recent call last)",
      "Cell \u001b[1;32mIn[18], line 1\u001b[0m\n\u001b[1;32m----> 1\u001b[0m c \u001b[38;5;241m=\u001b[39m false\n\u001b[0;32m      2\u001b[0m c                   \u001b[38;5;66;03m# \"FALSE\" is a reserved word in python and \"F\" is Always \"CAPITAL\"\u001b[39;00m\n\u001b[0;32m      3\u001b[0m \u001b[38;5;28mprint\u001b[39m(\u001b[38;5;28mtype\u001b[39m(c))\n",
      "\u001b[1;31mNameError\u001b[0m: name 'false' is not defined"
     ]
    }
   ],
   "source": [
    "c = false\n",
    "c                   # \"FALSE\" is also a reserved word in python and \"F\" is Always \"CAPITAL\"\n",
    "print(type(c))"
   ]
  },
  {
   "cell_type": "code",
   "execution_count": 20,
   "id": "248d4add-cdda-4092-a1d3-81070dd0dc4e",
   "metadata": {},
   "outputs": [
    {
     "name": "stdout",
     "output_type": "stream",
     "text": [
      "False\n",
      "<class 'bool'>\n"
     ]
    }
   ],
   "source": [
    "c = False\n",
    "print(c)                   # \"FALSE\" is a reserved word in python and \"F\" is Always \"CAPITAL\"\n",
    "print(type(c))"
   ]
  },
  {
   "cell_type": "code",
   "execution_count": 8,
   "id": "9463b21b-f03a-47ea-a2e0-56f9a87b73dc",
   "metadata": {},
   "outputs": [
    {
     "ename": "SyntaxError",
     "evalue": "invalid decimal literal (4237172741.py, line 1)",
     "output_type": "error",
     "traceback": [
      "\u001b[1;36m  Cell \u001b[1;32mIn[8], line 1\u001b[1;36m\u001b[0m\n\u001b[1;33m    f = 1a2\u001b[0m\n\u001b[1;37m        ^\u001b[0m\n\u001b[1;31mSyntaxError\u001b[0m\u001b[1;31m:\u001b[0m invalid decimal literal\n"
     ]
    }
   ],
   "source": [
    "f = 1a2\n",
    "f                      # only E,e letter is allowed in float not any other letter...."
   ]
  },
  {
   "cell_type": "code",
   "execution_count": 9,
   "id": "8308a36a-a02e-4d54-a5ea-2f79ead67f9b",
   "metadata": {},
   "outputs": [
    {
     "data": {
      "text/plain": [
       "1"
      ]
     },
     "execution_count": 9,
     "metadata": {},
     "output_type": "execute_result"
    }
   ],
   "source": [
    "True + False          # In Memory (True is \"1\" , and False is \"0\")"
   ]
  },
  {
   "cell_type": "code",
   "execution_count": 10,
   "id": "620dcab6-ddae-4ea6-a588-27865b963e27",
   "metadata": {},
   "outputs": [
    {
     "data": {
      "text/plain": [
       "3"
      ]
     },
     "execution_count": 10,
     "metadata": {},
     "output_type": "execute_result"
    }
   ],
   "source": [
    "True + True +True          # 1 + 1 + 1 = 3"
   ]
  },
  {
   "cell_type": "code",
   "execution_count": 11,
   "id": "6e17df56-b4f7-4683-b5a5-4efb3a1b93a9",
   "metadata": {},
   "outputs": [
    {
     "data": {
      "text/plain": [
       "1"
      ]
     },
     "execution_count": 11,
     "metadata": {},
     "output_type": "execute_result"
    }
   ],
   "source": [
    "False + True              # 0 + 1 = 1"
   ]
  },
  {
   "cell_type": "code",
   "execution_count": 12,
   "id": "a55904b8-0fa1-4c0f-a5bf-4eed11d74670",
   "metadata": {},
   "outputs": [
    {
     "data": {
      "text/plain": [
       "0"
      ]
     },
     "execution_count": 12,
     "metadata": {},
     "output_type": "execute_result"
    }
   ],
   "source": [
    "False + False             # 0 + 0 = 0"
   ]
  },
  {
   "cell_type": "code",
   "execution_count": 13,
   "id": "4271401d-e1f0-41d7-abad-a5468d207ca7",
   "metadata": {},
   "outputs": [
    {
     "data": {
      "text/plain": [
       "0"
      ]
     },
     "execution_count": 13,
     "metadata": {},
     "output_type": "execute_result"
    }
   ],
   "source": [
    "True * False              # 1 * 0 = 0"
   ]
  },
  {
   "cell_type": "code",
   "execution_count": 16,
   "id": "81a93233-1f08-4862-b191-c4bbe33920fa",
   "metadata": {},
   "outputs": [
    {
     "data": {
      "text/plain": [
       "0.0"
      ]
     },
     "execution_count": 16,
     "metadata": {},
     "output_type": "execute_result"
    }
   ],
   "source": [
    "False / True              # 0 / 1 = 0.0"
   ]
  },
  {
   "cell_type": "markdown",
   "id": "4fcec59d-6d5f-4adf-94a0-d471fe590c80",
   "metadata": {},
   "source": [
    "# - iii FLOAT"
   ]
  },
  {
   "cell_type": "code",
   "execution_count": 1,
   "id": "7dfe947a-10ca-45e5-8e3b-941c5569affd",
   "metadata": {},
   "outputs": [
    {
     "data": {
      "text/plain": [
       "1.0"
      ]
     },
     "execution_count": 1,
     "metadata": {},
     "output_type": "execute_result"
    }
   ],
   "source": [
    "f = 1e0                # 1 'e' to the power is one (1e0)...\n",
    "f                      # in FLOAT The (LETTER \"E\", \"e \"is allowd )......."
   ]
  },
  {
   "cell_type": "code",
   "execution_count": 4,
   "id": "81da7912-1f14-4029-a481-c608b54a93b5",
   "metadata": {},
   "outputs": [
    {
     "data": {
      "text/plain": [
       "float"
      ]
     },
     "execution_count": 4,
     "metadata": {},
     "output_type": "execute_result"
    }
   ],
   "source": [
    "f = 1e1           # e0 = 1\n",
    "                  #e1 = 10\n",
    "f                # e2 = 100 , and so on\n",
    "type(f)"
   ]
  },
  {
   "cell_type": "code",
   "execution_count": 5,
   "id": "6b2dfe79-5994-4509-8b79-188621afb173",
   "metadata": {},
   "outputs": [
    {
     "data": {
      "text/plain": [
       "20.0"
      ]
     },
     "execution_count": 5,
     "metadata": {},
     "output_type": "execute_result"
    }
   ],
   "source": [
    "f1 = 2e1\n",
    "f1          # 2 * 10.0 = 20.0"
   ]
  },
  {
   "cell_type": "code",
   "execution_count": 6,
   "id": "a3e59287-3bb7-4753-bb08-2bfe350cfd42",
   "metadata": {},
   "outputs": [
    {
     "data": {
      "text/plain": [
       "240.0"
      ]
     },
     "execution_count": 6,
     "metadata": {},
     "output_type": "execute_result"
    }
   ],
   "source": [
    "f2 = 2.4e2              # 2.4 / 10 * 100 = 240.0 \n",
    "f2"
   ]
  },
  {
   "cell_type": "code",
   "execution_count": 7,
   "id": "a0527f70-0cb0-4df0-ae7e-b2f9e879448e",
   "metadata": {},
   "outputs": [
    {
     "data": {
      "text/plain": [
       "2500.0"
      ]
     },
     "execution_count": 7,
     "metadata": {},
     "output_type": "execute_result"
    }
   ],
   "source": [
    "f3 = 2.5E3             # 2.5 /10 * 1000 = 2500.0\n",
    "f3                     # in FLOAT The (LETTER (\"E\"), (\"e\")(EXPONENTIAL)is allowd )......."
   ]
  },
  {
   "cell_type": "markdown",
   "id": "050cc778-e589-42e8-a04e-938188d38c46",
   "metadata": {},
   "source": [
    "# - iv COMPLEX DATATYPE\n",
    "- Format = a + bj"
   ]
  },
  {
   "cell_type": "code",
   "execution_count": 20,
   "id": "dc573d17-84af-4376-8fb0-f58aab27b5e0",
   "metadata": {},
   "outputs": [
    {
     "data": {
      "text/plain": [
       "(1+2j)"
      ]
     },
     "execution_count": 20,
     "metadata": {},
     "output_type": "execute_result"
    }
   ],
   "source": [
    "c = 1 + 2j      # 1 is REAL PART\n",
    "c               # 2 is IMAGNARY PART\n",
    "                # j is SQUARE ROOT OF (-1)          # we use Dot(.) for call the Function"
   ]
  },
  {
   "cell_type": "code",
   "execution_count": 21,
   "id": "a6faaca3-a564-4e93-bcb6-e4d7abfb6702",
   "metadata": {},
   "outputs": [
    {
     "data": {
      "text/plain": [
       "1.0"
      ]
     },
     "execution_count": 21,
     "metadata": {},
     "output_type": "execute_result"
    }
   ],
   "source": [
    "c.real"
   ]
  },
  {
   "cell_type": "code",
   "execution_count": 22,
   "id": "1e136f83-6d53-432e-ac71-89fc34ca8ba9",
   "metadata": {},
   "outputs": [
    {
     "data": {
      "text/plain": [
       "2.0"
      ]
     },
     "execution_count": 22,
     "metadata": {},
     "output_type": "execute_result"
    }
   ],
   "source": [
    "c.imag"
   ]
  },
  {
   "cell_type": "code",
   "execution_count": 24,
   "id": "99a9578b-6773-4cb7-b1d5-e9bd71c944c3",
   "metadata": {},
   "outputs": [
    {
     "ename": "SyntaxError",
     "evalue": "invalid decimal literal (3612010892.py, line 1)",
     "output_type": "error",
     "traceback": [
      "\u001b[1;36m  Cell \u001b[1;32mIn[24], line 1\u001b[1;36m\u001b[0m\n\u001b[1;33m    c = 1 + 3s\u001b[0m\n\u001b[1;37m            ^\u001b[0m\n\u001b[1;31mSyntaxError\u001b[0m\u001b[1;31m:\u001b[0m invalid decimal literal\n"
     ]
    }
   ],
   "source": [
    "c = 1 + 3s\n",
    "c               # Only (j) letter is allowed not any other letter"
   ]
  },
  {
   "cell_type": "code",
   "execution_count": 1,
   "id": "9da53e20-ddba-49dd-bbd6-7391e49207e8",
   "metadata": {},
   "outputs": [
    {
     "data": {
      "text/plain": [
       "(30+75j)"
      ]
     },
     "execution_count": 1,
     "metadata": {},
     "output_type": "execute_result"
    }
   ],
   "source": [
    "a = 10 + 25j\n",
    "b = 20 + 50j\n",
    "a + b"
   ]
  },
  {
   "cell_type": "markdown",
   "id": "41918f50-ee07-4234-88b1-4928e55d3d3b",
   "metadata": {},
   "source": [
    "# v - STRING DATATYPE"
   ]
  },
  {
   "cell_type": "code",
   "execution_count": 2,
   "id": "6bb93613-e01e-4d13-a9ee-2f928c092414",
   "metadata": {},
   "outputs": [
    {
     "data": {
      "text/plain": [
       "'Naresh it'"
      ]
     },
     "execution_count": 2,
     "metadata": {},
     "output_type": "execute_result"
    }
   ],
   "source": [
    "a = 'Naresh it'\n",
    "a"
   ]
  },
  {
   "cell_type": "code",
   "execution_count": 3,
   "id": "68a2d072-0bff-4a53-82cd-02825e802f16",
   "metadata": {},
   "outputs": [
    {
     "data": {
      "text/plain": [
       "'N'"
      ]
     },
     "execution_count": 3,
     "metadata": {},
     "output_type": "execute_result"
    }
   ],
   "source": [
    "a[0]          # Indexing"
   ]
  },
  {
   "cell_type": "code",
   "execution_count": 4,
   "id": "f0f6de41-dde5-4cf2-97fc-a6d6ca374294",
   "metadata": {},
   "outputs": [
    {
     "data": {
      "text/plain": [
       "'a'"
      ]
     },
     "execution_count": 4,
     "metadata": {},
     "output_type": "execute_result"
    }
   ],
   "source": [
    "a[1]"
   ]
  },
  {
   "cell_type": "markdown",
   "id": "42786633-3189-49e8-8a0e-6038e1593c48",
   "metadata": {},
   "source": [
    "s1 = 'MOiz'                      # string : s1  \"M o i z\"\n",
    "s2 = 'bagwan'                      #indexing     0 1 2 3\n",
    "print(s1)                      # string : s2  \"B a g w a n\"\n",
    "print(s2)                        #indexing     0 1 2 3 4 5"
   ]
  },
  {
   "cell_type": "code",
   "execution_count": 14,
   "id": "efc16059-daa1-4065-81bd-f19b00bed5b5",
   "metadata": {},
   "outputs": [
    {
     "name": "stdout",
     "output_type": "stream",
     "text": [
      "M\n",
      "b\n"
     ]
    }
   ],
   "source": [
    "print(s1[0])             # string : s1  \"B a g w a n\"\n",
    "print(s2[0])               #indexing     0 1 2 3 4 5"
   ]
  },
  {
   "cell_type": "code",
   "execution_count": 20,
   "id": "d5948332-7a07-42f8-89e6-00ce5b822e99",
   "metadata": {},
   "outputs": [
    {
     "data": {
      "text/plain": [
       "'Naresh itMOizbagwan'"
      ]
     },
     "execution_count": 20,
     "metadata": {},
     "output_type": "execute_result"
    }
   ],
   "source": [
    "a + s1 + s2               # Concagination"
   ]
  },
  {
   "cell_type": "markdown",
   "id": "7848c627-08eb-49ad-b21f-ba6d068fe413",
   "metadata": {},
   "source": [
    "# Print Result with Numbers"
   ]
  },
  {
   "cell_type": "code",
   "execution_count": 21,
   "id": "d1d05461-0794-4471-87b1-f718762f2f70",
   "metadata": {},
   "outputs": [
    {
     "name": "stdout",
     "output_type": "stream",
     "text": [
      "moiz 99.99 True\n"
     ]
    }
   ],
   "source": [
    "print('moiz',99.99,True)     # i print all the detatypes in on function(print)...."
   ]
  },
  {
   "cell_type": "raw",
   "id": "01f460a5-bf84-4d24-97b1-c43a05fe2563",
   "metadata": {},
   "source": []
  },
  {
   "cell_type": "code",
   "execution_count": 32,
   "id": "41496b4a-c143-4ef1-8700-b7ab09e61fe2",
   "metadata": {},
   "outputs": [
    {
     "name": "stdout",
     "output_type": "stream",
     "text": [
      "addition of 30 and 30 and 30 is = 90\n"
     ]
    }
   ],
   "source": [
    "num1 = 30\n",
    "num2 = 30\n",
    "num3 = 30\n",
    "add = num1 + num2 + num3\n",
    "\n",
    "print('addition of {} and {} and {} is = {}'.format(num1,num2,num3,add))"
   ]
  },
  {
   "cell_type": "code",
   "execution_count": null,
   "id": "41fd153c-919d-444c-a6f2-561b589ea666",
   "metadata": {},
   "outputs": [],
   "source": []
  },
  {
   "cell_type": "code",
   "execution_count": null,
   "id": "4fae6b4f-fc49-4a8f-a63d-99f4fd2bcbb3",
   "metadata": {},
   "outputs": [],
   "source": []
  },
  {
   "cell_type": "code",
   "execution_count": null,
   "id": "f9f5cedb-e3d0-4d41-8110-37635035d88f",
   "metadata": {},
   "outputs": [],
   "source": []
  },
  {
   "cell_type": "code",
   "execution_count": null,
   "id": "fe826390-d09a-4da8-9a01-23c7b1e07e57",
   "metadata": {},
   "outputs": [],
   "source": []
  },
  {
   "cell_type": "code",
   "execution_count": null,
   "id": "68157632-13a1-4f60-bb0e-2c9cc66ac29f",
   "metadata": {},
   "outputs": [],
   "source": []
  },
  {
   "cell_type": "code",
   "execution_count": null,
   "id": "83f90b2b-dff2-4a93-b138-aaeebd749ec3",
   "metadata": {},
   "outputs": [],
   "source": []
  },
  {
   "cell_type": "code",
   "execution_count": null,
   "id": "8e09402e-3120-4ada-9faf-294a23150a9e",
   "metadata": {},
   "outputs": [],
   "source": []
  },
  {
   "cell_type": "code",
   "execution_count": null,
   "id": "786871e4-3cf6-4005-bfda-c6ac59845d86",
   "metadata": {},
   "outputs": [],
   "source": []
  },
  {
   "cell_type": "code",
   "execution_count": null,
   "id": "e822f974-916d-4173-a61d-c822135a037b",
   "metadata": {},
   "outputs": [],
   "source": []
  },
  {
   "cell_type": "code",
   "execution_count": null,
   "id": "b900d774-0991-4c14-9b70-cd81bb9ee425",
   "metadata": {},
   "outputs": [],
   "source": []
  }
 ],
 "metadata": {
  "kernelspec": {
   "display_name": "Python 3 (ipykernel)",
   "language": "python",
   "name": "python3"
  },
  "language_info": {
   "codemirror_mode": {
    "name": "ipython",
    "version": 3
   },
   "file_extension": ".py",
   "mimetype": "text/x-python",
   "name": "python",
   "nbconvert_exporter": "python",
   "pygments_lexer": "ipython3",
   "version": "3.13.5"
  }
 },
 "nbformat": 4,
 "nbformat_minor": 5
}
