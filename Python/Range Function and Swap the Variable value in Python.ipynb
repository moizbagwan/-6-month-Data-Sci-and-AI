{
 "cells": [
  {
   "cell_type": "markdown",
   "id": "4081993a-92af-4b96-961c-d1d79e43428d",
   "metadata": {},
   "source": [
    "# Range Function \n",
    "\n",
    "    - The range() function generates a sequence of numbers..\n",
    "    - Returns a range object (immutable, memory-efficient).\n",
    "    - Works with positive or negative step, but step ≠ 0.\n",
    "    - Stop is exclusive (not included).\n",
    "    - Supports indexing and slicing like a lists.\n",
    "    - Membership check (in) is O(1) speed.\n",
    "    - Syntax : range(start, stop, step)."
   ]
  },
  {
   "cell_type": "code",
   "execution_count": 5,
   "id": "63a06f3b-9b26-4da8-8d88-475f4061e975",
   "metadata": {},
   "outputs": [
    {
     "ename": "TypeError",
     "evalue": "range expected at least 1 argument, got 0",
     "output_type": "error",
     "traceback": [
      "\u001b[31m---------------------------------------------------------------------------\u001b[39m",
      "\u001b[31mTypeError\u001b[39m                                 Traceback (most recent call last)",
      "\u001b[36mCell\u001b[39m\u001b[36m \u001b[39m\u001b[32mIn[5]\u001b[39m\u001b[32m, line 1\u001b[39m\n\u001b[32m----> \u001b[39m\u001b[32m1\u001b[39m \u001b[38;5;28;43mrange\u001b[39;49m\u001b[43m(\u001b[49m\u001b[43m)\u001b[49m       \u001b[38;5;66;03m# in range function pass at least one argument.\u001b[39;00m\n",
      "\u001b[31mTypeError\u001b[39m: range expected at least 1 argument, got 0"
     ]
    }
   ],
   "source": [
    "range()       # in range function pass at least one argument."
   ]
  },
  {
   "cell_type": "code",
   "execution_count": 6,
   "id": "7fcee60a-86e5-4f6a-a6d1-a09d061cbf86",
   "metadata": {},
   "outputs": [
    {
     "data": {
      "text/plain": [
       "range(1, 5)"
      ]
     },
     "execution_count": 6,
     "metadata": {},
     "output_type": "execute_result"
    }
   ],
   "source": [
    "range(1,5)"
   ]
  },
  {
   "cell_type": "code",
   "execution_count": 8,
   "id": "2a57fab1-97df-48f3-9c89-464e317f26f3",
   "metadata": {},
   "outputs": [
    {
     "data": {
      "text/plain": [
       "range(12, 90)"
      ]
     },
     "execution_count": 8,
     "metadata": {},
     "output_type": "execute_result"
    }
   ],
   "source": [
    "range(12,100) # but i have to print 1 to 10 numbers in the form of list "
   ]
  },
  {
   "cell_type": "code",
   "execution_count": 21,
   "id": "7413879e-733a-4e1e-875c-620c5b0cbed6",
   "metadata": {},
   "outputs": [
    {
     "data": {
      "text/plain": [
       "[1, 2, 3, 4, 5, 6, 7, 8, 9, 10]"
      ]
     },
     "execution_count": 21,
     "metadata": {},
     "output_type": "execute_result"
    }
   ],
   "source": [
    "a = list(range(1,11))\n",
    "a"
   ]
  },
  {
   "cell_type": "code",
   "execution_count": 25,
   "id": "cc1c4a3d-e4f0-4fb6-93a3-ddec513c55ca",
   "metadata": {},
   "outputs": [
    {
     "data": {
      "text/plain": [
       "list"
      ]
     },
     "execution_count": 25,
     "metadata": {},
     "output_type": "execute_result"
    }
   ],
   "source": [
    "type(a)  # list type"
   ]
  },
  {
   "cell_type": "code",
   "execution_count": 33,
   "id": "b49f6841-fe7d-4dd0-9c19-9d17fcba1c46",
   "metadata": {},
   "outputs": [
    {
     "data": {
      "text/plain": [
       "{1, 2, 3, 4, 5, 6, 7, 8, 9, 10, 11, 12, 13, 14, 15}"
      ]
     },
     "execution_count": 33,
     "metadata": {},
     "output_type": "execute_result"
    }
   ],
   "source": [
    "# print the number from 1 to 16 in the form of set\n",
    "\n",
    "s = set(range(1,16))      # last index is not print.\n",
    "s"
   ]
  },
  {
   "cell_type": "code",
   "execution_count": 34,
   "id": "5a25e3b3-c709-42a9-9827-fdc22a179548",
   "metadata": {},
   "outputs": [
    {
     "data": {
      "text/plain": [
       "set"
      ]
     },
     "execution_count": 34,
     "metadata": {},
     "output_type": "execute_result"
    }
   ],
   "source": [
    "type(s)"
   ]
  },
  {
   "cell_type": "code",
   "execution_count": 30,
   "id": "029ff19c-ea1a-4483-ac03-a2c8a0131851",
   "metadata": {},
   "outputs": [
    {
     "data": {
      "text/plain": [
       "(1, 2, 3, 4, 5, 6, 7, 8, 9, 10, 11, 12, 13, 14, 15)"
      ]
     },
     "execution_count": 30,
     "metadata": {},
     "output_type": "execute_result"
    }
   ],
   "source": [
    "# print the number from 1 to 16 in the form of tuple.\n",
    "\n",
    "t = (tuple(range(1,16)))\n",
    "t"
   ]
  },
  {
   "cell_type": "code",
   "execution_count": 31,
   "id": "4e3e595c-bbba-4d4d-a9b6-f640f7a3d1d7",
   "metadata": {},
   "outputs": [
    {
     "data": {
      "text/plain": [
       "tuple"
      ]
     },
     "execution_count": 31,
     "metadata": {},
     "output_type": "execute_result"
    }
   ],
   "source": [
    "type(t)"
   ]
  },
  {
   "cell_type": "code",
   "execution_count": 36,
   "id": "8b0ff45e-1fc0-473e-9c6e-9f3930ac1d62",
   "metadata": {},
   "outputs": [
    {
     "data": {
      "text/plain": [
       "[50, 51, 52, 53, 54, 55, 56, 57, 58, 59]"
      ]
     },
     "execution_count": 36,
     "metadata": {},
     "output_type": "execute_result"
    }
   ],
   "source": [
    "# print the number from 50 to 70 in the form of list.\n",
    "\n",
    "l = (list(range(50,60)))\n",
    "l"
   ]
  },
  {
   "cell_type": "code",
   "execution_count": 37,
   "id": "d1e5cdb8-2dd2-45c3-87f8-3aca18486d19",
   "metadata": {},
   "outputs": [
    {
     "name": "stdout",
     "output_type": "stream",
     "text": [
      "<class 'list'>\n"
     ]
    }
   ],
   "source": [
    "print(type(l))"
   ]
  },
  {
   "cell_type": "markdown",
   "id": "cabf955e-0d08-43e3-a4d9-845393927f91",
   "metadata": {},
   "source": [
    "# Swap the variable Value:\n",
    "\n",
    "    -  swap means exchanging the values of two variables so that each variable ends up holding the other’s original value."
   ]
  },
  {
   "cell_type": "code",
   "execution_count": 41,
   "id": "19e5e0b9-ebc7-4ad4-97cb-6e4f9dfa96cd",
   "metadata": {},
   "outputs": [
    {
     "name": "stdout",
     "output_type": "stream",
     "text": [
      "(5, 10)\n"
     ]
    }
   ],
   "source": [
    "a = 10\n",
    "b = 5\n",
    "                        # exchange the value of a to b using with third variable\n",
    "swap = a,b = b,a\n",
    "print(swap)"
   ]
  },
  {
   "cell_type": "code",
   "execution_count": 42,
   "id": "6f32d6fd-97b0-49b1-b497-779faa3a2b82",
   "metadata": {},
   "outputs": [
    {
     "name": "stdout",
     "output_type": "stream",
     "text": [
      "90 50\n"
     ]
    }
   ],
   "source": [
    "l = 50\n",
    "b = 90                # swap the value without using third variable.\n",
    "\n",
    "l,b = b,l\n",
    "\n",
    "print(l,b)"
   ]
  },
  {
   "cell_type": "code",
   "execution_count": 48,
   "id": "df3fda72-5197-48c5-b1ed-7f7bea239311",
   "metadata": {},
   "outputs": [
    {
     "name": "stdout",
     "output_type": "stream",
     "text": [
      "100 200\n"
     ]
    }
   ],
   "source": [
    "p = 100\n",
    "q = 200\n",
    "\n",
    "p,q = p,q\n",
    "print(p,q)"
   ]
  },
  {
   "cell_type": "code",
   "execution_count": null,
   "id": "a01c4d26-82ab-457e-be07-19e81aa8c231",
   "metadata": {},
   "outputs": [],
   "source": []
  }
 ],
 "metadata": {
  "kernelspec": {
   "display_name": "Python 3 (ipykernel)",
   "language": "python",
   "name": "python3"
  },
  "language_info": {
   "codemirror_mode": {
    "name": "ipython",
    "version": 3
   },
   "file_extension": ".py",
   "mimetype": "text/x-python",
   "name": "python",
   "nbconvert_exporter": "python",
   "pygments_lexer": "ipython3",
   "version": "3.13.5"
  },
  "widgets": {
   "application/vnd.jupyter.widget-state+json": {
    "state": {},
    "version_major": 2,
    "version_minor": 0
   }
  }
 },
 "nbformat": 4,
 "nbformat_minor": 5
}
