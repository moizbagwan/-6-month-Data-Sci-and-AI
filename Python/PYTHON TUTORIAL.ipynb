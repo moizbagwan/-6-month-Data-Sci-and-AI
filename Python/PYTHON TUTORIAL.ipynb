{
 "cells": [
  {
   "cell_type": "markdown",
   "id": "3efa4244-d842-45e0-91b3-dc3e6607250f",
   "metadata": {},
   "source": [
    "# PYTHON TUTORIAL"
   ]
  },
  {
   "cell_type": "code",
   "execution_count": 3,
   "id": "ba93e6f7-2bc6-428c-927a-ff02b053e453",
   "metadata": {},
   "outputs": [],
   "source": [
    "import sys\n",
    "import keyword\n",
    "import operator\n",
    "from datetime import datetime\n",
    "import os"
   ]
  },
  {
   "cell_type": "markdown",
   "id": "ffe927b0-dc73-4a18-999c-dea288c2d176",
   "metadata": {},
   "source": [
    "# Keywords\n",
    "\n",
    "- keywords are the reserved words in python and can't be use an identifier (variable)"
   ]
  },
  {
   "cell_type": "code",
   "execution_count": 4,
   "id": "6e4f6ae7-66bc-4e03-a52c-c8749ed7c99f",
   "metadata": {},
   "outputs": [
    {
     "name": "stdout",
     "output_type": "stream",
     "text": [
      "['False', 'None', 'True', 'and', 'as', 'assert', 'async', 'await', 'break', 'class', 'continue', 'def', 'del', 'elif', 'else', 'except', 'finally', 'for', 'from', 'global', 'if', 'import', 'in', 'is', 'lambda', 'nonlocal', 'not', 'or', 'pass', 'raise', 'return', 'try', 'while', 'with', 'yield']\n"
     ]
    }
   ],
   "source": [
    "print(keyword.kwlist)      # list of all python keywords"
   ]
  },
  {
   "cell_type": "code",
   "execution_count": 6,
   "id": "07d92ba9-7ef9-4669-8d4a-fa036d213b64",
   "metadata": {},
   "outputs": [
    {
     "data": {
      "text/plain": [
       "35"
      ]
     },
     "execution_count": 6,
     "metadata": {},
     "output_type": "execute_result"
    }
   ],
   "source": [
    "len(keyword.kwlist)        # python contains 35 keywords"
   ]
  },
  {
   "cell_type": "markdown",
   "id": "5c2bdea3-2ae1-470e-8848-078e6dfb529a",
   "metadata": {},
   "source": [
    "# Identifiers\n",
    "\n",
    "An identifier ia a name given to entities like class,function,variable,etc,,,. it helps to differentiate one entity another."
   ]
  },
  {
   "cell_type": "code",
   "execution_count": 7,
   "id": "6c4c5a34-cf9b-46fe-b3e1-3a076cf03900",
   "metadata": {},
   "outputs": [
    {
     "ename": "SyntaxError",
     "evalue": "invalid decimal literal (1383109852.py, line 1)",
     "output_type": "error",
     "traceback": [
      "\u001b[1;36m  Cell \u001b[1;32mIn[7], line 1\u001b[1;36m\u001b[0m\n\u001b[1;33m    1var = 10         # variable can't start with numbers / digits\u001b[0m\n\u001b[1;37m    ^\u001b[0m\n\u001b[1;31mSyntaxError\u001b[0m\u001b[1;31m:\u001b[0m invalid decimal literal\n"
     ]
    }
   ],
   "source": [
    "1var = 10         # variable can't start with numbers / digits"
   ]
  },
  {
   "cell_type": "code",
   "execution_count": 8,
   "id": "a281cc46-5e4f-4c72-b9a9-b587ef17f12e",
   "metadata": {},
   "outputs": [
    {
     "ename": "SyntaxError",
     "evalue": "invalid syntax (1888548071.py, line 1)",
     "output_type": "error",
     "traceback": [
      "\u001b[1;36m  Cell \u001b[1;32mIn[8], line 1\u001b[1;36m\u001b[0m\n\u001b[1;33m    var2@ = 35         # variable can't use special Symbols\u001b[0m\n\u001b[1;37m          ^\u001b[0m\n\u001b[1;31mSyntaxError\u001b[0m\u001b[1;31m:\u001b[0m invalid syntax\n"
     ]
    }
   ],
   "source": [
    "var2@ = 35         # variable can't use special Symbols accept - 'underscore'"
   ]
  },
  {
   "cell_type": "code",
   "execution_count": 9,
   "id": "852d73dc-56f7-4c82-8b02-a3039510453b",
   "metadata": {},
   "outputs": [
    {
     "ename": "SyntaxError",
     "evalue": "invalid syntax (2858233637.py, line 1)",
     "output_type": "error",
     "traceback": [
      "\u001b[1;36m  Cell \u001b[1;32mIn[9], line 1\u001b[1;36m\u001b[0m\n\u001b[1;33m    import = 125      # Keywords can't be use identifiers\u001b[0m\n\u001b[1;37m           ^\u001b[0m\n\u001b[1;31mSyntaxError\u001b[0m\u001b[1;31m:\u001b[0m invalid syntax\n"
     ]
    }
   ],
   "source": [
    "import = 125      # Keywords can't be use identifiers"
   ]
  },
  {
   "cell_type": "code",
   "execution_count": 12,
   "id": "95fe78c9-f814-410c-82e6-b47b1172bd21",
   "metadata": {},
   "outputs": [
    {
     "data": {
      "text/plain": [
       "10"
      ]
     },
     "execution_count": 12,
     "metadata": {},
     "output_type": "execute_result"
    }
   ],
   "source": [
    "var1 = 10 \n",
    "var1                     # this is correct because after vaariable name we can use digits.."
   ]
  },
  {
   "cell_type": "code",
   "execution_count": 13,
   "id": "2734d56b-35ba-4c2c-9bcc-8ad3340fd630",
   "metadata": {},
   "outputs": [
    {
     "data": {
      "text/plain": [
       "36"
      ]
     },
     "execution_count": 13,
     "metadata": {},
     "output_type": "execute_result"
    }
   ],
   "source": [
    "var2 = 36\n",
    "var2        # this is correct because after vaariable name we can use digits.."
   ]
  },
  {
   "cell_type": "code",
   "execution_count": 14,
   "id": "38dfb40b-1bbb-4220-a3e7-1d26fbd6dc72",
   "metadata": {},
   "outputs": [
    {
     "data": {
      "text/plain": [
       "24345"
      ]
     },
     "execution_count": 14,
     "metadata": {},
     "output_type": "execute_result"
    }
   ],
   "source": [
    "var_1 = 24345\n",
    "var_1"
   ]
  },
  {
   "cell_type": "markdown",
   "id": "05ae5caa-ae10-4628-9a94-b16110aebb1c",
   "metadata": {},
   "source": [
    "# Comments in Python\n",
    "\n",
    "Comments can be useed to explain the code for more readablity."
   ]
  },
  {
   "cell_type": "code",
   "execution_count": 15,
   "id": "bb8165b0-0a66-4cf5-880e-95536df7c9e6",
   "metadata": {},
   "outputs": [],
   "source": [
    "# Single line comment\n",
    "Val1 = 10"
   ]
  },
  {
   "cell_type": "code",
   "execution_count": 16,
   "id": "bf940ec2-2130-4483-be80-f8764fb90ea3",
   "metadata": {},
   "outputs": [],
   "source": [
    "# Multiple\n",
    "# line\n",
    "# Comment\n",
    "Val1 = 10"
   ]
  },
  {
   "cell_type": "code",
   "execution_count": 17,
   "id": "a30871af-c771-4fb8-a1c1-4be3f2b18016",
   "metadata": {},
   "outputs": [],
   "source": [
    "'''Multiple\n",
    "line\n",
    "comment\n",
    "'''\n",
    "Val1 = 10"
   ]
  },
  {
   "cell_type": "code",
   "execution_count": 18,
   "id": "9490267e-49ff-4ffd-963b-53294cbfbe41",
   "metadata": {},
   "outputs": [
    {
     "name": "stdout",
     "output_type": "stream",
     "text": [
      "10\n"
     ]
    }
   ],
   "source": [
    "\"\"\"Multiple \n",
    "line\n",
    "comment\n",
    "\"\"\"\n",
    "Val1 = 10\n",
    "print(Val1)"
   ]
  },
  {
   "cell_type": "markdown",
   "id": "da518244-a938-4f95-be29-8d5cb69c9c64",
   "metadata": {},
   "source": [
    "# Statements\n",
    "\n",
    "Instruction that a Python interpreter can execute."
   ]
  },
  {
   "cell_type": "code",
   "execution_count": 21,
   "id": "70d865c2-c41f-443a-8a22-3e2263cdecad",
   "metadata": {},
   "outputs": [
    {
     "data": {
      "text/plain": [
       "(20, int, '0x7fff7d9db608')"
      ]
     },
     "execution_count": 21,
     "metadata": {},
     "output_type": "execute_result"
    }
   ],
   "source": [
    "p = 20                     # creats an integer object with value 20 and assigns the variable p and p\n",
    "q = 20                     # create new refrance q which will point to the value 20. p & q will be point\n",
    "q = q                      # Variable r is also point ti the same location where p & q are pointin\n",
    "p, type(p), hex(id(p))     # variable p is pointing to the memory location '0x7fff6d71a'  "
   ]
  },
  {
   "cell_type": "code",
   "execution_count": 22,
   "id": "69bc0a41-9588-4a0b-ad49-b59771976959",
   "metadata": {},
   "outputs": [
    {
     "data": {
      "text/plain": [
       "(20, int, '0x7fff7d9db608')"
      ]
     },
     "execution_count": 22,
     "metadata": {},
     "output_type": "execute_result"
    }
   ],
   "source": [
    "q , type(q), hex(id(q))"
   ]
  },
  {
   "cell_type": "code",
   "execution_count": 23,
   "id": "ef9dac7c-e8bb-4f87-a8fa-fb71b3d8249b",
   "metadata": {},
   "outputs": [
    {
     "data": {
      "text/plain": [
       "(20, int, '0x7fff7d9db608')"
      ]
     },
     "execution_count": 23,
     "metadata": {},
     "output_type": "execute_result"
    }
   ],
   "source": [
    "r , type(r), hex(id(r))"
   ]
  },
  {
   "cell_type": "code",
   "execution_count": 25,
   "id": "70307502-dded-419f-b71c-385788169a26",
   "metadata": {},
   "outputs": [
    {
     "data": {
      "text/plain": [
       "30"
      ]
     },
     "execution_count": 25,
     "metadata": {},
     "output_type": "execute_result"
    }
   ],
   "source": [
    "p = 20\n",
    "p = p + 10  # Variable overwriting\n",
    "p"
   ]
  },
  {
   "cell_type": "markdown",
   "id": "eb7c9bb6-c745-4eec-97d6-3c92cfad1201",
   "metadata": {},
   "source": [
    "# Variable Assignment"
   ]
  },
  {
   "cell_type": "code",
   "execution_count": 26,
   "id": "5eb45def-ca8a-4525-bae8-05f66f94d829",
   "metadata": {},
   "outputs": [
    {
     "name": "stdout",
     "output_type": "stream",
     "text": [
      "10\n",
      "2.27\n",
      "PYTHON LANGUAGE\n"
     ]
    }
   ],
   "source": [
    "intvar = 10  # integer Variable\n",
    "floatvar = 2.27   # float variable\n",
    "strvar = \"PYTHON LANGUAGE\"  # string variable\n",
    "\n",
    "print(intvar)\n",
    "print(floatvar)\n",
    "print(strvar)"
   ]
  },
  {
   "cell_type": "markdown",
   "id": "7c255377-1a1f-4efb-83b9-2378a458bdaa",
   "metadata": {},
   "source": [
    "# Multiple Assignments"
   ]
  },
  {
   "cell_type": "code",
   "execution_count": 27,
   "id": "a46c0989-d5a4-4796-8273-c0e1d90fee81",
   "metadata": {},
   "outputs": [
    {
     "name": "stdout",
     "output_type": "stream",
     "text": [
      "10\n",
      "2.56\n",
      "python language\n"
     ]
    }
   ],
   "source": [
    "intvar , floatvar , strvar = 10,2.56,\"python language\" # using comma to seprate\n",
    "\n",
    "print(intvar)\n",
    "print(floatvar)\n",
    "print(strvar)"
   ]
  },
  {
   "cell_type": "code",
   "execution_count": 28,
   "id": "36be02a3-3d58-4be6-9058-653a7e3cc2ad",
   "metadata": {},
   "outputs": [
    {
     "name": "stdout",
     "output_type": "stream",
     "text": [
      "44 44 44 44\n"
     ]
    }
   ],
   "source": [
    "p1 = p2 = p3 = p4 = 44 # all variable pointing same vallue\n",
    "print(p1,p2,p3,p4)"
   ]
  },
  {
   "cell_type": "markdown",
   "id": "3ae62d8f-cea7-4a23-9c88-ac4e2821a312",
   "metadata": {},
   "source": [
    "# DATA TYPES\n",
    "\n",
    "Numeric"
   ]
  },
  {
   "cell_type": "code",
   "execution_count": 34,
   "id": "759bfb01-106c-4e02-b912-b7b6730a2f7c",
   "metadata": {},
   "outputs": [
    {
     "name": "stdout",
     "output_type": "stream",
     "text": [
      "10\n",
      "<class 'int'>\n",
      "28\n",
      "10  is Integer? True\n"
     ]
    }
   ],
   "source": [
    "val1 = 10 # Integer data type \n",
    "print(val1) \n",
    "print(type(val1)) # type of object \n",
    "print(sys.getsizeof(val1)) # size of integer object in bytes \n",
    "print(val1, \" is Integer?\", isinstance(val1, int)) # val1 is an instance of int "
   ]
  },
  {
   "cell_type": "code",
   "execution_count": 35,
   "id": "9ce02fe5-5d73-4a44-ae07-5f988d34eed2",
   "metadata": {},
   "outputs": [
    {
     "name": "stdout",
     "output_type": "stream",
     "text": [
      "146.76\n",
      "<class 'float'>\n",
      "24\n",
      "146.76  is float? True\n"
     ]
    }
   ],
   "source": [
    "val2 = 146.76 # float data type \n",
    "print(val2) \n",
    "print(type(val2)) # type of object \n",
    "print(sys.getsizeof(val2)) # size of float object in bytes \n",
    "print(val2, \" is float?\", isinstance(val2, float)) # val1 is an instance of int "
   ]
  },
  {
   "cell_type": "code",
   "execution_count": 36,
   "id": "5bddcbd4-09be-4b20-8b27-abd5479ad017",
   "metadata": {},
   "outputs": [
    {
     "name": "stdout",
     "output_type": "stream",
     "text": [
      "(25+10j)\n",
      "<class 'complex'>\n",
      "32\n",
      "(25+10j)  is complex? True\n"
     ]
    }
   ],
   "source": [
    "val3 = 25 + 10j   # complex data type \n",
    "print(val3) \n",
    "print(type(val3)) # type of object \n",
    "print(sys.getsizeof(val3)) # size of complex object in bytes \n",
    "print(val3, \" is complex?\", isinstance(val3, complex)) # val1 is an instance of complex "
   ]
  },
  {
   "cell_type": "code",
   "execution_count": 37,
   "id": "1a9ce741-c984-4b7e-8ce2-1c71af4bcf4b",
   "metadata": {},
   "outputs": [
    {
     "data": {
      "text/plain": [
       "28"
      ]
     },
     "execution_count": 37,
     "metadata": {},
     "output_type": "execute_result"
    }
   ],
   "source": [
    "sys.getsizeof(int())   # size of integer object in bytes"
   ]
  },
  {
   "cell_type": "code",
   "execution_count": 38,
   "id": "546863f4-7044-4c39-a1ba-c9dcfc18507e",
   "metadata": {},
   "outputs": [
    {
     "data": {
      "text/plain": [
       "24"
      ]
     },
     "execution_count": 38,
     "metadata": {},
     "output_type": "execute_result"
    }
   ],
   "source": [
    "sys.getsizeof(float())   # size of integer object in bytes"
   ]
  },
  {
   "cell_type": "code",
   "execution_count": 39,
   "id": "fac33f7a-781a-4bfb-b1de-f7f0d1ebe9a8",
   "metadata": {},
   "outputs": [
    {
     "data": {
      "text/plain": [
       "32"
      ]
     },
     "execution_count": 39,
     "metadata": {},
     "output_type": "execute_result"
    }
   ],
   "source": [
    "sys.getsizeof(complex())   # size of integer object in bytes"
   ]
  },
  {
   "cell_type": "code",
   "execution_count": 40,
   "id": "d041b928-dcc2-47f7-8c86-644dce3a921c",
   "metadata": {},
   "outputs": [
    {
     "data": {
      "text/plain": [
       "41"
      ]
     },
     "execution_count": 40,
     "metadata": {},
     "output_type": "execute_result"
    }
   ],
   "source": [
    "sys.getsizeof(str())   # size of integer object in bytes"
   ]
  },
  {
   "cell_type": "code",
   "execution_count": 41,
   "id": "8af31cc4-1e50-417e-86a7-e62a40070491",
   "metadata": {},
   "outputs": [
    {
     "data": {
      "text/plain": [
       "28"
      ]
     },
     "execution_count": 41,
     "metadata": {},
     "output_type": "execute_result"
    }
   ],
   "source": [
    "sys.getsizeof(bool())   # size of integer object in bytes"
   ]
  },
  {
   "cell_type": "markdown",
   "id": "22835c29-4c6f-4d6b-a114-af162c2cfe27",
   "metadata": {},
   "source": [
    "# Boolean \n",
    "\n",
    "Boolean data type can have only two possible values True or False."
   ]
  },
  {
   "cell_type": "code",
   "execution_count": 44,
   "id": "6440f790-92a8-408f-a0b1-e6d5bd1ab516",
   "metadata": {},
   "outputs": [
    {
     "ename": "NameError",
     "evalue": "name 'true' is not defined",
     "output_type": "error",
     "traceback": [
      "\u001b[1;31m---------------------------------------------------------------------------\u001b[0m",
      "\u001b[1;31mNameError\u001b[0m                                 Traceback (most recent call last)",
      "Cell \u001b[1;32mIn[44], line 1\u001b[0m\n\u001b[1;32m----> 1\u001b[0m bool1 \u001b[38;5;241m=\u001b[39m true\n\u001b[0;32m      2\u001b[0m bool1\n",
      "\u001b[1;31mNameError\u001b[0m: name 'true' is not defined"
     ]
    }
   ],
   "source": [
    "bool1 = true         # Always the letter of a True is (CAPITAL)\n",
    "bool1"
   ]
  },
  {
   "cell_type": "code",
   "execution_count": 45,
   "id": "cecd30ae-3c33-472b-a876-ddb95bd0ddf9",
   "metadata": {},
   "outputs": [
    {
     "data": {
      "text/plain": [
       "True"
      ]
     },
     "execution_count": 45,
     "metadata": {},
     "output_type": "execute_result"
    }
   ],
   "source": [
    "bool1 = True\n",
    "bool1"
   ]
  },
  {
   "cell_type": "code",
   "execution_count": 46,
   "id": "6b6dae06-0342-4509-b3e5-dfbebf8a7d57",
   "metadata": {},
   "outputs": [
    {
     "name": "stdout",
     "output_type": "stream",
     "text": [
      "<class 'bool'>\n"
     ]
    }
   ],
   "source": [
    "print(type(bool1))"
   ]
  },
  {
   "cell_type": "code",
   "execution_count": 47,
   "id": "8b6233d5-cb5c-4790-b22f-f0e76427c241",
   "metadata": {},
   "outputs": [
    {
     "data": {
      "text/plain": [
       "True"
      ]
     },
     "execution_count": 47,
     "metadata": {},
     "output_type": "execute_result"
    }
   ],
   "source": [
    "isinstance(bool1, bool)"
   ]
  },
  {
   "cell_type": "code",
   "execution_count": 48,
   "id": "f4dcd76b-b2b5-434c-9ce5-b8367d0c7a56",
   "metadata": {},
   "outputs": [
    {
     "data": {
      "text/plain": [
       "False"
      ]
     },
     "execution_count": 48,
     "metadata": {},
     "output_type": "execute_result"
    }
   ],
   "source": [
    "bool(0)         # Always in memory False store as a zero (0)."
   ]
  },
  {
   "cell_type": "code",
   "execution_count": 49,
   "id": "b2f98f3b-a784-41ea-8e44-03e0de3d0426",
   "metadata": {},
   "outputs": [
    {
     "data": {
      "text/plain": [
       "True"
      ]
     },
     "execution_count": 49,
     "metadata": {},
     "output_type": "execute_result"
    }
   ],
   "source": [
    "bool(1)          # Always in memory True store as a one (1)."
   ]
  },
  {
   "cell_type": "code",
   "execution_count": 50,
   "id": "165780fc-2867-4758-9e0a-d289fc1903ed",
   "metadata": {},
   "outputs": [
    {
     "data": {
      "text/plain": [
       "False"
      ]
     },
     "execution_count": 50,
     "metadata": {},
     "output_type": "execute_result"
    }
   ],
   "source": [
    "bool(None)"
   ]
  },
  {
   "cell_type": "code",
   "execution_count": 51,
   "id": "ead61875-1609-48aa-8941-e8e6b6b576a8",
   "metadata": {},
   "outputs": [
    {
     "data": {
      "text/plain": [
       "False"
      ]
     },
     "execution_count": 51,
     "metadata": {},
     "output_type": "execute_result"
    }
   ],
   "source": [
    "bool(False)"
   ]
  },
  {
   "cell_type": "markdown",
   "id": "8004304f-977d-4c76-be8e-4825877ed8f2",
   "metadata": {},
   "source": [
    "# String\n",
    "\n",
    "- String Creation"
   ]
  },
  {
   "cell_type": "code",
   "execution_count": 52,
   "id": "a3c5de05-c91a-4de4-ab4c-ee7de284f05a",
   "metadata": {},
   "outputs": [
    {
     "name": "stdout",
     "output_type": "stream",
     "text": [
      "HELLO PYTHON\n"
     ]
    }
   ],
   "source": [
    "str1 = \"HELLO PYTHON\"\n",
    "print(str1)"
   ]
  },
  {
   "cell_type": "code",
   "execution_count": 53,
   "id": "a773fa29-587b-4167-8876-a8f41d9b2862",
   "metadata": {},
   "outputs": [
    {
     "name": "stdout",
     "output_type": "stream",
     "text": [
      "Good Morning\n"
     ]
    }
   ],
   "source": [
    "mystr = 'Good Morning'   # Define String using Single Quotes\n",
    "print(mystr)"
   ]
  },
  {
   "cell_type": "code",
   "execution_count": 54,
   "id": "e4f865ab-1de7-4f87-8df9-4444687cf46a",
   "metadata": {},
   "outputs": [
    {
     "name": "stdout",
     "output_type": "stream",
     "text": [
      "Good Afternoon\n"
     ]
    }
   ],
   "source": [
    "mystr = \"Good Afternoon\"   # Define String using Double Quotes\n",
    "print(mystr)"
   ]
  },
  {
   "cell_type": "code",
   "execution_count": 56,
   "id": "24704f82-1ea7-4df1-8280-82f8cfcb198d",
   "metadata": {},
   "outputs": [
    {
     "name": "stdout",
     "output_type": "stream",
     "text": [
      "Good Morning\n"
     ]
    }
   ],
   "source": [
    "mystr = '''Good Morning'''   # Define String using Triple Quotes\n",
    "print(mystr)"
   ]
  },
  {
   "cell_type": "code",
   "execution_count": 57,
   "id": "0633b806-cb60-415b-b96a-ce889d2dd124",
   "metadata": {},
   "outputs": [
    {
     "name": "stdout",
     "output_type": "stream",
     "text": [
      "Good\n",
      "           Morning\n"
     ]
    }
   ],
   "source": [
    "mystr = '''Good\n",
    "           Morning'''          # Define String using Triple Quotes\n",
    "print(mystr)"
   ]
  },
  {
   "cell_type": "code",
   "execution_count": 59,
   "id": "0dc3e6c7-dd6e-44f6-a40b-9c1aa2913b96",
   "metadata": {},
   "outputs": [
    {
     "name": "stdout",
     "output_type": "stream",
     "text": [
      "Good\n",
      "            Morning\n"
     ]
    }
   ],
   "source": [
    "mystr = \"\"\"Good\n",
    "            Morning\"\"\"   # Define String using Triple Quotes\n",
    "print(mystr)"
   ]
  },
  {
   "cell_type": "code",
   "execution_count": 62,
   "id": "c6fd52c2-e039-4821-aa77-bd0ef279e178",
   "metadata": {},
   "outputs": [
    {
     "name": "stdout",
     "output_type": "stream",
     "text": [
      "Good Morning veryone\n"
     ]
    }
   ],
   "source": [
    "mystr = ('Good ' \n",
    "         'Morning ' \n",
    "         'veryone')  \n",
    "print(mystr)"
   ]
  },
  {
   "cell_type": "code",
   "execution_count": 65,
   "id": "ccc227ee-374d-46a0-b7e4-1befa852089c",
   "metadata": {},
   "outputs": [
    {
     "data": {
      "text/plain": [
       "'Woohoo Woohoo Woohoo Woohoo Woohoo '"
      ]
     },
     "execution_count": 65,
     "metadata": {},
     "output_type": "execute_result"
    }
   ],
   "source": [
    "mystr2 = 'Woohoo '\n",
    "mystr2 = mystr2*5\n",
    "mystr2"
   ]
  },
  {
   "cell_type": "code",
   "execution_count": 67,
   "id": "16e5538e-ea1d-49a5-895c-239b22846a2b",
   "metadata": {},
   "outputs": [
    {
     "data": {
      "text/plain": [
       "35"
      ]
     },
     "execution_count": 67,
     "metadata": {},
     "output_type": "execute_result"
    }
   ],
   "source": [
    "len(mystr2)     # length of string"
   ]
  },
  {
   "cell_type": "markdown",
   "id": "5188e00a-d1e2-4a4d-b10a-f0acb371a8dc",
   "metadata": {},
   "source": [
    "# Srting Indexing\n",
    "\n",
    "- Forward Indexing"
   ]
  },
  {
   "cell_type": "raw",
   "id": "99f69403-5cda-4dc9-a018-0849ad7c9d47",
   "metadata": {},
   "source": [
    "                         #  Forward Indexing\n",
    "-   0    1    2    3    4    5    6    7    8   9    10    11\n",
    "-   H    E    L    L    O         P    Y    T    H     O    N\n",
    "-   -12 -11  -10  -9   -8   -7   -6   -5   -4   -3   -2    -1\n",
    "                        # Backward indexing"
   ]
  },
  {
   "cell_type": "code",
   "execution_count": 69,
   "id": "b26f97c0-0593-45a8-8030-caafe8af45c6",
   "metadata": {},
   "outputs": [
    {
     "name": "stdout",
     "output_type": "stream",
     "text": [
      "Hello Python\n"
     ]
    }
   ],
   "source": [
    "str1 = 'Hello Python'\n",
    "print(str1)"
   ]
  },
  {
   "cell_type": "code",
   "execution_count": 70,
   "id": "1b055d72-a063-4efe-8ca5-4642b364e773",
   "metadata": {},
   "outputs": [
    {
     "data": {
      "text/plain": [
       "'H'"
      ]
     },
     "execution_count": 70,
     "metadata": {},
     "output_type": "execute_result"
    }
   ],
   "source": [
    "str1[0]      # First character in string \"str1\""
   ]
  },
  {
   "cell_type": "code",
   "execution_count": 71,
   "id": "8a92c7e6-8343-4411-bbe3-39fad3a42f30",
   "metadata": {},
   "outputs": [
    {
     "data": {
      "text/plain": [
       "'l'"
      ]
     },
     "execution_count": 71,
     "metadata": {},
     "output_type": "execute_result"
    }
   ],
   "source": [
    "str1[2]        # third character in string \"str1\""
   ]
  },
  {
   "cell_type": "code",
   "execution_count": 72,
   "id": "3e5638d0-629a-4a67-95b1-b44b6abf43a9",
   "metadata": {},
   "outputs": [
    {
     "data": {
      "text/plain": [
       "'n'"
      ]
     },
     "execution_count": 72,
     "metadata": {},
     "output_type": "execute_result"
    }
   ],
   "source": [
    "str1[-1]      # Last character in string "
   ]
  },
  {
   "cell_type": "code",
   "execution_count": 73,
   "id": "2599fd97-705b-4af6-8928-e393f1cf564c",
   "metadata": {},
   "outputs": [
    {
     "data": {
      "text/plain": [
       "'P'"
      ]
     },
     "execution_count": 73,
     "metadata": {},
     "output_type": "execute_result"
    }
   ],
   "source": [
    "str1[6] #Fetch 7th element of the string "
   ]
  },
  {
   "cell_type": "code",
   "execution_count": 74,
   "id": "e308e49c-4e9a-4e5c-8e6e-b5f4d26f7d14",
   "metadata": {},
   "outputs": [
    {
     "data": {
      "text/plain": [
       "' '"
      ]
     },
     "execution_count": 74,
     "metadata": {},
     "output_type": "execute_result"
    }
   ],
   "source": [
    "str1[5]  "
   ]
  },
  {
   "cell_type": "markdown",
   "id": "6164cb8d-6a0f-4495-8a54-8d52c51b396d",
   "metadata": {},
   "source": [
    "# String Slicing"
   ]
  },
  {
   "cell_type": "code",
   "execution_count": 76,
   "id": "72efb42d-0fa6-4d76-8700-2cf727eaa221",
   "metadata": {},
   "outputs": [
    {
     "data": {
      "text/plain": [
       "'He'"
      ]
     },
     "execution_count": 76,
     "metadata": {},
     "output_type": "execute_result"
    }
   ],
   "source": [
    "str1[0 : 2]     # String slicing - Fetch all characters from 0 to 2 index location exc"
   ]
  },
  {
   "cell_type": "code",
   "execution_count": 79,
   "id": "b390a96d-2f37-46a0-bbfd-eadea5a30c64",
   "metadata": {},
   "outputs": [
    {
     "data": {
      "text/plain": [
       "'Python'"
      ]
     },
     "execution_count": 79,
     "metadata": {},
     "output_type": "execute_result"
    }
   ],
   "source": [
    " \n",
    "str1[6:12]            # String slicing - Retreive all characters between 6 - 12 index loc e "
   ]
  },
  {
   "cell_type": "code",
   "execution_count": 78,
   "id": "411ce7db-0eaf-4f9d-8499-725436c662c6",
   "metadata": {},
   "outputs": [
    {
     "data": {
      "text/plain": [
       "'Hello'"
      ]
     },
     "execution_count": 78,
     "metadata": {},
     "output_type": "execute_result"
    }
   ],
   "source": [
    " \n",
    "str1[0:5]              # String slicing - Retreive all characters between 6 - 12 index loc e "
   ]
  },
  {
   "cell_type": "code",
   "execution_count": 80,
   "id": "dc08673d-9740-4c26-bdaa-45c9d357db2b",
   "metadata": {},
   "outputs": [
    {
     "data": {
      "text/plain": [
       "'thon'"
      ]
     },
     "execution_count": 80,
     "metadata": {},
     "output_type": "execute_result"
    }
   ],
   "source": [
    "str1[-4:]         # Retreive last four characters of the string "
   ]
  },
  {
   "cell_type": "code",
   "execution_count": 81,
   "id": "c4894e30-28c3-4376-9193-cd5deb31e35b",
   "metadata": {},
   "outputs": [
    {
     "data": {
      "text/plain": [
       "'Python'"
      ]
     },
     "execution_count": 81,
     "metadata": {},
     "output_type": "execute_result"
    }
   ],
   "source": [
    "str1[-6:] # Retreive last six characters of the string "
   ]
  },
  {
   "cell_type": "code",
   "execution_count": 82,
   "id": "d0805ebb-8fea-48da-be1d-8412fa798027",
   "metadata": {},
   "outputs": [
    {
     "data": {
      "text/plain": [
       "'Hell'"
      ]
     },
     "execution_count": 82,
     "metadata": {},
     "output_type": "execute_result"
    }
   ],
   "source": [
    " str1[:4] # Retreive first four characters of the string "
   ]
  },
  {
   "cell_type": "code",
   "execution_count": 83,
   "id": "51cf5957-241d-4390-98c5-dff61db54c42",
   "metadata": {},
   "outputs": [
    {
     "data": {
      "text/plain": [
       "'Hello '"
      ]
     },
     "execution_count": 83,
     "metadata": {},
     "output_type": "execute_result"
    }
   ],
   "source": [
    "str1[:6] # Retreive first six characters of the string "
   ]
  },
  {
   "cell_type": "markdown",
   "id": "4d0e4d87-30c6-42ff-962e-f11170dd2b42",
   "metadata": {},
   "source": [
    "# Update & Delete String"
   ]
  },
  {
   "cell_type": "code",
   "execution_count": 84,
   "id": "40c52e6f-4b90-4563-a772-d2819db4c669",
   "metadata": {},
   "outputs": [
    {
     "data": {
      "text/plain": [
       "'Hello Python'"
      ]
     },
     "execution_count": 84,
     "metadata": {},
     "output_type": "execute_result"
    }
   ],
   "source": [
    "str1"
   ]
  },
  {
   "cell_type": "code",
   "execution_count": null,
   "id": "bb3f7f7b-d603-488e-8d50-5604bfafef2b",
   "metadata": {},
   "outputs": [],
   "source": [
    "# Strings are immutale which means elements of a string cannot be change once you create\n",
    "sr1[0 : 5] = 'HOLLA'"
   ]
  },
  {
   "cell_type": "code",
   "execution_count": 87,
   "id": "a3e69ae8-4610-43a2-806a-6f2cad357a00",
   "metadata": {},
   "outputs": [
    {
     "ename": "NameError",
     "evalue": "name 'str1' is not defined",
     "output_type": "error",
     "traceback": [
      "\u001b[1;31m---------------------------------------------------------------------------\u001b[0m",
      "\u001b[1;31mNameError\u001b[0m                                 Traceback (most recent call last)",
      "Cell \u001b[1;32mIn[87], line 2\u001b[0m\n\u001b[0;32m      1\u001b[0m \u001b[38;5;28;01mdel\u001b[39;00m str1 \u001b[38;5;66;03m# Delete a String\u001b[39;00m\n\u001b[1;32m----> 2\u001b[0m \u001b[38;5;28mprint\u001b[39m(str1)\n",
      "\u001b[1;31mNameError\u001b[0m: name 'str1' is not defined"
     ]
    }
   ],
   "source": [
    "del str1 # Delete a String\n",
    "print(str1)"
   ]
  },
  {
   "cell_type": "markdown",
   "id": "78fd43d0-3cc6-4c01-8896-1abc05bf8722",
   "metadata": {},
   "source": [
    "# String Conncatenation"
   ]
  },
  {
   "cell_type": "code",
   "execution_count": 88,
   "id": "1f853831-7172-4b78-a5f0-90955add3a86",
   "metadata": {},
   "outputs": [
    {
     "ename": "SyntaxError",
     "evalue": "invalid syntax (1008096026.py, line 2)",
     "output_type": "error",
     "traceback": [
      "\u001b[1;36m  Cell \u001b[1;32mIn[88], line 2\u001b[1;36m\u001b[0m\n\u001b[1;33m    s1 \"Hello\"\u001b[0m\n\u001b[1;37m       ^\u001b[0m\n\u001b[1;31mSyntaxError\u001b[0m\u001b[1;31m:\u001b[0m invalid syntax\n"
     ]
    }
   ],
   "source": [
    "# string concatenation\n",
    "s1 \"Hello\"\n",
    "s2 = \"Moiz\"\n",
    "s3 = s1 + s2\n",
    "print(s3)"
   ]
  },
  {
   "cell_type": "code",
   "execution_count": null,
   "id": "1a3520b7-759d-48c2-b9bf-66a9888750aa",
   "metadata": {},
   "outputs": [],
   "source": []
  }
 ],
 "metadata": {
  "kernelspec": {
   "display_name": "Python 3 (ipykernel)",
   "language": "python",
   "name": "python3"
  },
  "language_info": {
   "codemirror_mode": {
    "name": "ipython",
    "version": 3
   },
   "file_extension": ".py",
   "mimetype": "text/x-python",
   "name": "python",
   "nbconvert_exporter": "python",
   "pygments_lexer": "ipython3",
   "version": "3.13.5"
  }
 },
 "nbformat": 4,
 "nbformat_minor": 5
}
