{
 "cells": [
  {
   "cell_type": "markdown",
   "id": "dafde244-1152-4be3-9f5f-c2b5a2bbc2ce",
   "metadata": {},
   "source": [
    "# PYTHON DATA STRUCTURE\n",
    "\n",
    "- Data Stucture ------> is the user or developer assign more than one(1) value in the data stucture....\n",
    "\n",
    "Data structure is Divived into 2(two) parts\n",
    "\n",
    "1) - Inbuild data structure / Builtin Data Structure\n",
    "\n",
    "        (i) - LIST\n",
    "        (ii) - TOUPLE\n",
    "        (iii) - SET\n",
    "        (iv) - DICTONARY\n",
    "        (v) - RANGE\n",
    "   * This are the inbuild Data Stucture.\n",
    "\n",
    "2) - User Define Data Structure\n",
    "\n",
    "        (i) - STACK\n",
    "        (ii) - HEAP\n",
    "        (iii) - LINKEDLIST\n",
    "        (iv) - TREE\n",
    "        (v) - QUEUE\n",
    "        (vi) - HASHMAP\n",
    "    * And This atr the 'User Define Data Structure'.\n",
    "    *User Define Data Structure Automatically take care by some of Libraries \n",
    "    or Module.\n",
    "                (Sklearn , Tensorflow , Numpy , Pandas , Matplotlib , Seaborn).\n",
    "\n",
    "\n"
   ]
  },
  {
   "cell_type": "markdown",
   "id": "57418c27-2527-43b0-8071-ca8a3aa8d1ea",
   "metadata": {},
   "source": [
    "# 1 - LIST [] \n",
    "\n",
    "    (i) - List is Define with Square Brackets []\n",
    "    (ii) - We can store stored Set of Values in the LIST.\n",
    "    (iii) - It can store elements of different types (integer,float,string,bool,complex).\n",
    "    (iv) - \"List are MUTABLE (Changeble) in python\""
   ]
  },
  {
   "cell_type": "raw",
   "id": "f208a8f9-f19e-4b14-a45f-cfe7875fff69",
   "metadata": {},
   "source": [
    "L = []        # l is variable and [] square barackets is define a list..\n",
    "L"
   ]
  },
  {
   "cell_type": "code",
   "execution_count": 1,
   "id": "a5407f5f-6ac1-420c-bf54-cbb92325c33b",
   "metadata": {},
   "outputs": [
    {
     "data": {
      "text/plain": [
       "[1]"
      ]
     },
     "execution_count": 1,
     "metadata": {},
     "output_type": "execute_result"
    }
   ],
   "source": [
    "L = [1]         # l is variable and in the [] square baracket one(1) is assign value. \n",
    "L"
   ]
  },
  {
   "cell_type": "code",
   "execution_count": 2,
   "id": "111f1152-1ae3-41d4-93cb-10576ed456a9",
   "metadata": {},
   "outputs": [
    {
     "data": {
      "text/plain": [
       "[3.14]"
      ]
     },
     "execution_count": 2,
     "metadata": {},
     "output_type": "execute_result"
    }
   ],
   "source": [
    "L = [3.14]      # float value is allowed in list.\n",
    "L"
   ]
  },
  {
   "cell_type": "code",
   "execution_count": 3,
   "id": "e4fddf16-7ef9-4ee3-a61d-e65b9fbc6f65",
   "metadata": {},
   "outputs": [
    {
     "data": {
      "text/plain": [
       "['MOIZ']"
      ]
     },
     "execution_count": 3,
     "metadata": {},
     "output_type": "execute_result"
    }
   ],
   "source": [
    "L = ['MOIZ']      # string value is allowed in list.\n",
    "L"
   ]
  },
  {
   "cell_type": "code",
   "execution_count": 4,
   "id": "798310eb-fb0e-4d8f-8a73-2e2412c7f35f",
   "metadata": {},
   "outputs": [
    {
     "data": {
      "text/plain": [
       "[(1+2j)]"
      ]
     },
     "execution_count": 4,
     "metadata": {},
     "output_type": "execute_result"
    }
   ],
   "source": [
    "L = [1 + 2j]      # complex value is allowed in list.\n",
    "L"
   ]
  },
  {
   "cell_type": "code",
   "execution_count": 5,
   "id": "77ecebe7-c5c1-4347-8d2f-0cece17027c5",
   "metadata": {},
   "outputs": [
    {
     "data": {
      "text/plain": [
       "[True]"
      ]
     },
     "execution_count": 5,
     "metadata": {},
     "output_type": "execute_result"
    }
   ],
   "source": [
    "L = [True]      # bool value is allowed in list.\n",
    "L\n",
    "\n",
    "            # Over all in the list multiple Data type are allowed."
   ]
  },
  {
   "cell_type": "code",
   "execution_count": 8,
   "id": "c81c3671-affa-45e4-b1f2-fe220ceaec9d",
   "metadata": {},
   "outputs": [
    {
     "data": {
      "text/plain": [
       "list"
      ]
     },
     "execution_count": 8,
     "metadata": {},
     "output_type": "execute_result"
    }
   ],
   "source": [
    "type(L)    # TYPE OF Data Stucture."
   ]
  },
  {
   "cell_type": "code",
   "execution_count": 6,
   "id": "f1207633-7fd5-4ae9-8a29-b88b5cb93888",
   "metadata": {},
   "outputs": [
    {
     "data": {
      "text/plain": [
       "1"
      ]
     },
     "execution_count": 6,
     "metadata": {},
     "output_type": "execute_result"
    }
   ],
   "source": [
    "len(L)     # length of a list."
   ]
  },
  {
   "cell_type": "code",
   "execution_count": 17,
   "id": "bd945051-ca14-4d51-84a8-eefea0118acf",
   "metadata": {},
   "outputs": [
    {
     "data": {
      "text/plain": [
       "1564419988160"
      ]
     },
     "execution_count": 17,
     "metadata": {},
     "output_type": "execute_result"
    }
   ],
   "source": [
    "id(L)     # Address of variable L.."
   ]
  },
  {
   "cell_type": "code",
   "execution_count": 14,
   "id": "1cacce0d-ca4f-45af-8366-d5c92c8a04bc",
   "metadata": {},
   "outputs": [
    {
     "name": "stdout",
     "output_type": "stream",
     "text": [
      "['SHAIKH']\n"
     ]
    }
   ],
   "source": [
    "L = ['ABDUL MOIZ BAGWAN']\n",
    "L[0] = 'SHAIKH'                # List is MUTABLE in python\n",
    "print(L)"
   ]
  },
  {
   "cell_type": "markdown",
   "id": "071954f1-dc06-4d7b-8e59-dbb6162ccc3e",
   "metadata": {},
   "source": [
    "# Methods Of LIST\n",
    "\n",
    "- Append()\n",
    "- Copy()\n",
    "- duplicate() , etc\n",
    "\n"
   ]
  },
  {
   "cell_type": "markdown",
   "id": "ae222b9f-8a07-42cb-9e8d-005d2ace9b57",
   "metadata": {},
   "source": [
    "# Apepend \n",
    "\n",
    "    - Append means add the elements at the last..."
   ]
  },
  {
   "cell_type": "code",
   "execution_count": 15,
   "id": "b12ef893-6f7e-4035-87d9-39439bf39e38",
   "metadata": {},
   "outputs": [
    {
     "data": {
      "text/plain": [
       "<function list.append(object, /)>"
      ]
     },
     "execution_count": 15,
     "metadata": {},
     "output_type": "execute_result"
    }
   ],
   "source": [
    "L.append           #  - Append means add the elements in the last..."
   ]
  },
  {
   "cell_type": "code",
   "execution_count": 16,
   "id": "47b81a1f-d4c2-4718-9d4e-ce03ed50b093",
   "metadata": {},
   "outputs": [
    {
     "ename": "TypeError",
     "evalue": "list.append() takes exactly one argument (0 given)",
     "output_type": "error",
     "traceback": [
      "\u001b[31m----------------------------------------------------------------\u001b[39m",
      "\u001b[31mTypeError\u001b[39m                      Traceback (most recent call last)",
      "\u001b[36mCell\u001b[39m\u001b[36m \u001b[39m\u001b[32mIn[16]\u001b[39m\u001b[32m, line 1\u001b[39m\n\u001b[32m----> \u001b[39m\u001b[32m1\u001b[39m \u001b[43mL\u001b[49m\u001b[43m.\u001b[49m\u001b[43mappend\u001b[49m\u001b[43m(\u001b[49m\u001b[43m)\u001b[49m\n",
      "\u001b[31mTypeError\u001b[39m: list.append() takes exactly one argument (0 given)"
     ]
    }
   ],
   "source": [
    "L.append()       #   minimum pass one argument"
   ]
  },
  {
   "cell_type": "code",
   "execution_count": 15,
   "id": "0c906579-7eaf-49c4-b53a-7f40dc1b9931",
   "metadata": {},
   "outputs": [
    {
     "data": {
      "text/plain": [
       "<function list.append(object, /)>"
      ]
     },
     "execution_count": 15,
     "metadata": {},
     "output_type": "execute_result"
    }
   ],
   "source": [
    "L.append"
   ]
  },
  {
   "cell_type": "code",
   "execution_count": 20,
   "id": "795c7d61-a5b6-4b5e-aecb-f0ad843aeba2",
   "metadata": {},
   "outputs": [
    {
     "data": {
      "text/plain": [
       "<function list.append(object, /)>"
      ]
     },
     "execution_count": 20,
     "metadata": {},
     "output_type": "execute_result"
    }
   ],
   "source": [
    "L.append"
   ]
  },
  {
   "cell_type": "code",
   "execution_count": 18,
   "id": "b7f7f6bd-1ca3-4eb2-9bb7-0d9871c14ee4",
   "metadata": {},
   "outputs": [
    {
     "data": {
      "text/plain": [
       "['SHAIKH', 10]"
      ]
     },
     "execution_count": 18,
     "metadata": {},
     "output_type": "execute_result"
    }
   ],
   "source": [
    "L.append(10)\n",
    "L\n"
   ]
  },
  {
   "cell_type": "code",
   "execution_count": 19,
   "id": "ad1b7ccd-6cf1-4025-b0ac-48128dc8422e",
   "metadata": {},
   "outputs": [
    {
     "name": "stdout",
     "output_type": "stream",
     "text": [
      "['SHAIKH', 10, 30, 35, 40]\n"
     ]
    }
   ],
   "source": [
    "L.append(30)\n",
    "L.append(35)\n",
    "L.append(40)\n",
    "print(L)\n"
   ]
  },
  {
   "cell_type": "code",
   "execution_count": 26,
   "id": "b3b82e6f-5a39-4550-a296-f0c853d0b296",
   "metadata": {},
   "outputs": [],
   "source": [
    "L.append               # add element at last\n",
    "L\n",
    "(30)"
   ]
  },
  {
   "cell_type": "code",
   "execution_count": 20,
   "id": "c41abbe0-eb2d-428d-bff2-55e7b1d9f7d2",
   "metadata": {},
   "outputs": [
    {
     "data": {
      "text/plain": [
       "5"
      ]
     },
     "execution_count": 20,
     "metadata": {},
     "output_type": "execute_result"
    }
   ],
   "source": [
    "len(L)"
   ]
  },
  {
   "cell_type": "code",
   "execution_count": 21,
   "id": "7422d961-cddf-49f0-9d28-22426c9a3a29",
   "metadata": {},
   "outputs": [
    {
     "data": {
      "text/plain": [
       "['SHAIKH', 10, 30, 35, 40]"
      ]
     },
     "execution_count": 21,
     "metadata": {},
     "output_type": "execute_result"
    }
   ],
   "source": [
    "L1 = L.copy()\n",
    "L1\n"
   ]
  },
  {
   "cell_type": "code",
   "execution_count": 22,
   "id": "73a87fdc-7d8a-4ac3-b5d7-2276c90a8a32",
   "metadata": {},
   "outputs": [
    {
     "data": {
      "text/plain": [
       "True"
      ]
     },
     "execution_count": 22,
     "metadata": {},
     "output_type": "execute_result"
    }
   ],
   "source": [
    "L == L1   "
   ]
  },
  {
   "cell_type": "code",
   "execution_count": 23,
   "id": "a3739b30-a06b-4f25-be69-9e6043c69277",
   "metadata": {},
   "outputs": [
    {
     "data": {
      "text/plain": [
       "False"
      ]
     },
     "execution_count": 23,
     "metadata": {},
     "output_type": "execute_result"
    }
   ],
   "source": [
    "L != L1"
   ]
  },
  {
   "cell_type": "code",
   "execution_count": 24,
   "id": "8cb98986-4ddf-4105-950f-acf046c77d4b",
   "metadata": {},
   "outputs": [
    {
     "data": {
      "text/plain": [
       "['SHAIKH', 10, 30, 35, 40, 100]"
      ]
     },
     "execution_count": 24,
     "metadata": {},
     "output_type": "execute_result"
    }
   ],
   "source": [
    "L1.append(100)\n",
    "L1"
   ]
  },
  {
   "cell_type": "code",
   "execution_count": 25,
   "id": "b4de6a89-3a77-4f29-827f-4e936c92b90e",
   "metadata": {},
   "outputs": [
    {
     "data": {
      "text/plain": [
       "['SHAIKH', 10, 30, 35, 40, 100]"
      ]
     },
     "execution_count": 25,
     "metadata": {},
     "output_type": "execute_result"
    }
   ],
   "source": [
    "L = L1\n",
    "L"
   ]
  },
  {
   "cell_type": "code",
   "execution_count": 26,
   "id": "b9e0236e-db74-423a-b0cf-4fce2b6f174a",
   "metadata": {},
   "outputs": [
    {
     "name": "stdout",
     "output_type": "stream",
     "text": [
      "6\n",
      "6\n"
     ]
    }
   ],
   "source": [
    "print(len(L))\n",
    "print(len(L1))"
   ]
  },
  {
   "cell_type": "code",
   "execution_count": 27,
   "id": "b44a9db2-651e-4b0a-870a-ba9b9c2acd81",
   "metadata": {},
   "outputs": [
    {
     "data": {
      "text/plain": [
       "1564420014208"
      ]
     },
     "execution_count": 27,
     "metadata": {},
     "output_type": "execute_result"
    }
   ],
   "source": [
    "id(L1)"
   ]
  },
  {
   "cell_type": "code",
   "execution_count": 37,
   "id": "4b43f1e0-37bd-45c9-a4f4-90d20344f845",
   "metadata": {},
   "outputs": [
    {
     "data": {
      "text/plain": [
       "14"
      ]
     },
     "execution_count": 37,
     "metadata": {},
     "output_type": "execute_result"
    }
   ],
   "source": [
    "len(L)"
   ]
  },
  {
   "cell_type": "code",
   "execution_count": 28,
   "id": "58ba478e-7723-488e-9615-9dd3a8340f2a",
   "metadata": {},
   "outputs": [
    {
     "data": {
      "text/plain": [
       "[]"
      ]
     },
     "execution_count": 28,
     "metadata": {},
     "output_type": "execute_result"
    }
   ],
   "source": [
    "L.clear()\n",
    "L"
   ]
  },
  {
   "cell_type": "code",
   "execution_count": 29,
   "id": "1b515c49-33e0-41f8-b129-6bc9da001b4f",
   "metadata": {},
   "outputs": [
    {
     "data": {
      "text/plain": [
       "0"
      ]
     },
     "execution_count": 29,
     "metadata": {},
     "output_type": "execute_result"
    }
   ],
   "source": [
    "len(L1)"
   ]
  },
  {
   "cell_type": "code",
   "execution_count": 30,
   "id": "2f2356d6-928e-4e89-ab2f-e70d8d47bffc",
   "metadata": {},
   "outputs": [
    {
     "data": {
      "text/plain": [
       "1564420014208"
      ]
     },
     "execution_count": 30,
     "metadata": {},
     "output_type": "execute_result"
    }
   ],
   "source": [
    "id(L1)"
   ]
  },
  {
   "cell_type": "code",
   "execution_count": 31,
   "id": "86fa0172-1347-4e0f-bb95-87ae55bd06f4",
   "metadata": {},
   "outputs": [
    {
     "data": {
      "text/plain": [
       "[]"
      ]
     },
     "execution_count": 31,
     "metadata": {},
     "output_type": "execute_result"
    }
   ],
   "source": [
    "L"
   ]
  },
  {
   "cell_type": "code",
   "execution_count": 44,
   "id": "cd94e7f8-130e-4037-a3c0-608cfe7fcac5",
   "metadata": {},
   "outputs": [
    {
     "data": {
      "text/plain": [
       "[]"
      ]
     },
     "execution_count": 44,
     "metadata": {},
     "output_type": "execute_result"
    }
   ],
   "source": [
    "L1"
   ]
  },
  {
   "cell_type": "code",
   "execution_count": 45,
   "id": "a87b7572-e522-4915-8894-4ef62ebe9042",
   "metadata": {},
   "outputs": [
    {
     "ename": "TypeError",
     "evalue": "list.append() takes exactly one argument (2 given)",
     "output_type": "error",
     "traceback": [
      "\u001b[31m---------------------------------------------------------------------------\u001b[39m",
      "\u001b[31mTypeError\u001b[39m                                 Traceback (most recent call last)",
      "\u001b[36mCell\u001b[39m\u001b[36m \u001b[39m\u001b[32mIn[45]\u001b[39m\u001b[32m, line 1\u001b[39m\n\u001b[32m----> \u001b[39m\u001b[32m1\u001b[39m \u001b[43mL\u001b[49m\u001b[43m.\u001b[49m\u001b[43mappend\u001b[49m\u001b[43m(\u001b[49m\u001b[32;43m2.3\u001b[39;49m\u001b[43m,\u001b[49m\u001b[32;43m34\u001b[39;49m\u001b[43m)\u001b[49m\n",
      "\u001b[31mTypeError\u001b[39m: list.append() takes exactly one argument (2 given)"
     ]
    }
   ],
   "source": [
    "L.append(2.3,34) # pass only one argument not more than one.."
   ]
  },
  {
   "cell_type": "code",
   "execution_count": 46,
   "id": "4977168c-81c2-417c-82ed-8be8e619b312",
   "metadata": {},
   "outputs": [
    {
     "data": {
      "text/plain": [
       "[]"
      ]
     },
     "execution_count": 46,
     "metadata": {},
     "output_type": "execute_result"
    }
   ],
   "source": [
    "L1"
   ]
  },
  {
   "cell_type": "code",
   "execution_count": 33,
   "id": "849cbbba-c2ff-4c97-ab5e-b2a11be78190",
   "metadata": {},
   "outputs": [
    {
     "data": {
      "text/plain": [
       "['nit', 3.6, (1+2j), [1, 2, 3], 'nit', 3.6, (1+2j), [1, 2, 3], True]"
      ]
     },
     "execution_count": 33,
     "metadata": {},
     "output_type": "execute_result"
    }
   ],
   "source": [
    "L.append('nit')\n",
    "L.append(3.6)\n",
    "L.append(1 + 2j)\n",
    "L.append([1,2,3])\n",
    "L.append(True)\n",
    "L\n"
   ]
  },
  {
   "cell_type": "markdown",
   "id": "2f629108-2a1b-447a-8a2b-101d0d37cbf4",
   "metadata": {},
   "source": [
    "# Copy\n",
    "\n",
    "    - Copy one list to Another List..."
   ]
  },
  {
   "cell_type": "code",
   "execution_count": 34,
   "id": "c0f4802d-e53c-4199-82ec-244f4b7e6b82",
   "metadata": {},
   "outputs": [
    {
     "data": {
      "text/plain": [
       "['Good Morning']"
      ]
     },
     "execution_count": 34,
     "metadata": {},
     "output_type": "execute_result"
    }
   ],
   "source": [
    "s = ['Good Morning']\n",
    "s"
   ]
  },
  {
   "cell_type": "code",
   "execution_count": 37,
   "id": "4a865787-7e96-472f-a5c7-da22db40b59e",
   "metadata": {},
   "outputs": [
    {
     "data": {
      "text/plain": [
       "['Good Morning']"
      ]
     },
     "execution_count": 37,
     "metadata": {},
     "output_type": "execute_result"
    }
   ],
   "source": [
    "s1 = s.copy()    # copy method\n",
    "s1"
   ]
  },
  {
   "cell_type": "code",
   "execution_count": 39,
   "id": "b89d0188-4263-418b-9a09-3f062ea5de5b",
   "metadata": {},
   "outputs": [
    {
     "name": "stdout",
     "output_type": "stream",
     "text": [
      "['Good Morning']\n",
      "{'SundayMonday'}\n"
     ]
    }
   ],
   "source": [
    "s1 = {'Sunday''Monday'}\n",
    "print(s)\n",
    "print(s1)"
   ]
  },
  {
   "cell_type": "code",
   "execution_count": 40,
   "id": "0ebd958f-6366-409a-a814-7b37cfce48cd",
   "metadata": {},
   "outputs": [
    {
     "name": "stdout",
     "output_type": "stream",
     "text": [
      "1564419922752\n",
      "1564423896224\n"
     ]
    }
   ],
   "source": [
    "print(id(s))\n",
    "print(id(s1))"
   ]
  },
  {
   "cell_type": "code",
   "execution_count": 41,
   "id": "28601a5a-bf96-4bac-bc60-00718580e4dd",
   "metadata": {},
   "outputs": [
    {
     "name": "stdout",
     "output_type": "stream",
     "text": [
      "1\n",
      "1\n"
     ]
    }
   ],
   "source": [
    "print(len(s))\n",
    "print(len(s1))"
   ]
  },
  {
   "cell_type": "code",
   "execution_count": null,
   "id": "10f62f92-bc29-4dd5-b03b-8d8939bc311d",
   "metadata": {},
   "outputs": [],
   "source": []
  }
 ],
 "metadata": {
  "kernelspec": {
   "display_name": "Python 3 (ipykernel)",
   "language": "python",
   "name": "python3"
  },
  "language_info": {
   "codemirror_mode": {
    "name": "ipython",
    "version": 3
   },
   "file_extension": ".py",
   "mimetype": "text/x-python",
   "name": "python",
   "nbconvert_exporter": "python",
   "pygments_lexer": "ipython3",
   "version": "3.13.5"
  }
 },
 "nbformat": 4,
 "nbformat_minor": 5
}
