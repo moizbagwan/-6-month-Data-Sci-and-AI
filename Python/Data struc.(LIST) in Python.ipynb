{
 "cells": [
  {
   "cell_type": "markdown",
   "id": "243f4136-eea6-404f-93c4-6bd2829bc806",
   "metadata": {},
   "source": [
    "# DATA STRUCTURE IN PYTHON\n",
    "\n",
    "- Data Stucture ------> is the user or developer assign more than one(1) value in the data stucture....\n",
    "\n",
    "Data structure is Divived into 2(two) parts\n",
    "\n",
    "1) - Inbuild data structure / Builtin Data Structure\n",
    "\n",
    "        (i) - LIST\n",
    "        (ii) - TOUPLE\n",
    "        (iii) - SET\n",
    "        (iv) - DICTONARY\n",
    "        (v) - RANGE\n",
    "   * This are the inbuild Data Stucture.\n",
    "\n",
    "2) - User Define Data Structure\n",
    "\n",
    "        (i) - STACK\n",
    "        (ii) - HEAP\n",
    "        (iii) - LINKEDLIST\n",
    "        (iv) - TREE\n",
    "        (v) - QUEUE\n",
    "        (vi) - HASHMAP\n",
    "    * And This atr the 'User Define Data Structure'.\n",
    "    *User Define Data Structure Automatically take care by some of Libraries \n",
    "    or Module.\n",
    "                (Sklearn , Tensorflow , Numpy , Pandas , Matplotlib , Seaborn).\n",
    "\n",
    "\n"
   ]
  },
  {
   "cell_type": "markdown",
   "id": "3686dabd-c326-44e7-b1e2-e91bcf2e1eb9",
   "metadata": {},
   "source": [
    "# 1 - LIST [] \n",
    "\n",
    "(i) - List is Define with Square Brackets []\n",
    "(ii) - We can store stored Set of Values in the LIST.\n",
    "(iii) - It can store elements of different types (integer,float,string,bool,complex).\n",
    "\n",
    "    (iv) - MUTABLE :- Mutablity we need to understand some of the terminology.\n",
    "    (v) - Duplicaes :- We know data structure are us to store multiple values so duplicates means same value occuring multiple time . list allow   this.\n",
    "    (vi) - Orderd :- list maintain ordered data structure maintain the sequence of element as they are were inserted . Tis means you can access     elements using their position (index).\n",
    "    (vii) - Heterogenous :- List have heterogenous nature that means we can have multiple data types inside the list.\n",
    "\n",
    "- syntax to creat a list : fruits = ['Apple','Banana','mango']\n",
    "                            ,- numbers = [10,20,30,40,50]\n",
    "\n",
    "Now list has Indexing and slicing and it is same as string .\n",
    "\n",
    "Now list has Indexing and slicing and it is same as string if\n",
    "you forgot how string indexing and slicing works watch the\n",
    "video or revise the notes.'"
   ]
  },
  {
   "cell_type": "raw",
   "id": "e373d63d-7006-43d9-880f-ba4867422aa4",
   "metadata": {},
   "source": [
    "L = []        # l is variable and [] square barackets is define a list..\n",
    "L"
   ]
  },
  {
   "cell_type": "code",
   "execution_count": null,
   "id": "a5407f5f-6ac1-420c-bf54-cbb92325c33b",
   "metadata": {},
   "outputs": [
    {
     "data": {
      "text/plain": [
       "[1]"
      ]
     },
     "execution_count": 1,
     "metadata": {},
     "output_type": "execute_result"
    }
   ],
   "source": [
    "L = [1]         # l is variable and in the [] square baracket one(1) is assign value. \n",
    "L"
   ]
  },
  {
   "cell_type": "code",
   "execution_count": null,
   "id": "111f1152-1ae3-41d4-93cb-10576ed456a9",
   "metadata": {},
   "outputs": [
    {
     "data": {
      "text/plain": [
       "[3.14]"
      ]
     },
     "execution_count": 2,
     "metadata": {},
     "output_type": "execute_result"
    }
   ],
   "source": [
    "L = [3.14]      # float value is allowed in list.\n",
    "L"
   ]
  },
  {
   "cell_type": "code",
   "execution_count": null,
   "id": "e4fddf16-7ef9-4ee3-a61d-e65b9fbc6f65",
   "metadata": {},
   "outputs": [
    {
     "data": {
      "text/plain": [
       "['MOIZ']"
      ]
     },
     "execution_count": 3,
     "metadata": {},
     "output_type": "execute_result"
    }
   ],
   "source": [
    "L = ['MOIZ']      # string value is allowed in list.\n",
    "L"
   ]
  },
  {
   "cell_type": "code",
   "execution_count": null,
   "id": "798310eb-fb0e-4d8f-8a73-2e2412c7f35f",
   "metadata": {},
   "outputs": [
    {
     "data": {
      "text/plain": [
       "[(1+2j)]"
      ]
     },
     "execution_count": 4,
     "metadata": {},
     "output_type": "execute_result"
    }
   ],
   "source": [
    "L = [1 + 2j]      # complex value is allowed in list.\n",
    "L"
   ]
  },
  {
   "cell_type": "code",
   "execution_count": null,
   "id": "77ecebe7-c5c1-4347-8d2f-0cece17027c5",
   "metadata": {},
   "outputs": [
    {
     "data": {
      "text/plain": [
       "[True]"
      ]
     },
     "execution_count": 5,
     "metadata": {},
     "output_type": "execute_result"
    }
   ],
   "source": [
    "L = [True]      # bool value is allowed in list.\n",
    "L\n",
    "\n",
    "            # Over all in the list multiple Data type are allowed."
   ]
  },
  {
   "cell_type": "code",
   "execution_count": null,
   "id": "c81c3671-affa-45e4-b1f2-fe220ceaec9d",
   "metadata": {},
   "outputs": [
    {
     "data": {
      "text/plain": [
       "list"
      ]
     },
     "execution_count": 6,
     "metadata": {},
     "output_type": "execute_result"
    }
   ],
   "source": [
    "type(L)    # TYPE OF Data Stucture."
   ]
  },
  {
   "cell_type": "code",
   "execution_count": null,
   "id": "f1207633-7fd5-4ae9-8a29-b88b5cb93888",
   "metadata": {},
   "outputs": [
    {
     "data": {
      "text/plain": [
       "1"
      ]
     },
     "execution_count": 7,
     "metadata": {},
     "output_type": "execute_result"
    }
   ],
   "source": [
    "len(L)     # length of a list."
   ]
  },
  {
   "cell_type": "code",
   "execution_count": null,
   "id": "bd945051-ca14-4d51-84a8-eefea0118acf",
   "metadata": {},
   "outputs": [
    {
     "data": {
      "text/plain": [
       "2136924517056"
      ]
     },
     "execution_count": 8,
     "metadata": {},
     "output_type": "execute_result"
    }
   ],
   "source": [
    "id(L)     # Address of variable L.."
   ]
  },
  {
   "cell_type": "code",
   "execution_count": null,
   "id": "1cacce0d-ca4f-45af-8366-d5c92c8a04bc",
   "metadata": {},
   "outputs": [
    {
     "name": "stdout",
     "output_type": "stream",
     "text": [
      "['SHAIKH']\n"
     ]
    }
   ],
   "source": [
    "L = ['ABDUL MOIZ BAGWAN']\n",
    "L[0] = 'SHAIKH'                # List is MUTABLE in python\n",
    "print(L)"
   ]
  },
  {
   "cell_type": "markdown",
   "id": "071954f1-dc06-4d7b-8e59-dbb6162ccc3e",
   "metadata": {},
   "source": [
    "# Methods Of LIST\n",
    "\n",
    "- Append()\n",
    "- Copy()\n",
    "- duplicate() , etc\n",
    "\n"
   ]
  },
  {
   "cell_type": "markdown",
   "id": "3a0bd2fd-4fd7-4df3-aeee-e4885daefb73",
   "metadata": {},
   "source": [
    "# Apepend Method\n",
    "\n",
    "    - Append means add the elements at the last..."
   ]
  },
  {
   "cell_type": "code",
   "execution_count": null,
   "id": "b12ef893-6f7e-4035-87d9-39439bf39e38",
   "metadata": {},
   "outputs": [
    {
     "data": {
      "text/plain": [
       "<function list.append(object, /)>"
      ]
     },
     "execution_count": 10,
     "metadata": {},
     "output_type": "execute_result"
    }
   ],
   "source": [
    "L.append           #  - Append means add the elements at the last..."
   ]
  },
  {
   "cell_type": "code",
   "execution_count": null,
   "id": "47b81a1f-d4c2-4718-9d4e-ce03ed50b093",
   "metadata": {},
   "outputs": [
    {
     "ename": "TypeError",
     "evalue": "list.append() takes exactly one argument (0 given)",
     "output_type": "error",
     "traceback": [
      "\u001b[31m---------------------------------------------------------------------------\u001b[39m",
      "\u001b[31mTypeError\u001b[39m                                 Traceback (most recent call last)",
      "\u001b[36mCell\u001b[39m\u001b[36m \u001b[39m\u001b[32mIn[11]\u001b[39m\u001b[32m, line 1\u001b[39m\n\u001b[32m----> \u001b[39m\u001b[32m1\u001b[39m \u001b[43mL\u001b[49m\u001b[43m.\u001b[49m\u001b[43mappend\u001b[49m\u001b[43m(\u001b[49m\u001b[43m)\u001b[49m       \u001b[38;5;66;03m#   minimum pass one argument\u001b[39;00m\n",
      "\u001b[31mTypeError\u001b[39m: list.append() takes exactly one argument (0 given)"
     ]
    }
   ],
   "source": [
    "L.append()       #   minimum pass one argument"
   ]
  },
  {
   "cell_type": "code",
   "execution_count": null,
   "id": "0c906579-7eaf-49c4-b53a-7f40dc1b9931",
   "metadata": {},
   "outputs": [],
   "source": [
    "L.append"
   ]
  },
  {
   "cell_type": "code",
   "execution_count": null,
   "id": "795c7d61-a5b6-4b5e-aecb-f0ad843aeba2",
   "metadata": {},
   "outputs": [],
   "source": [
    "L.append"
   ]
  },
  {
   "cell_type": "code",
   "execution_count": null,
   "id": "b7f7f6bd-1ca3-4eb2-9bb7-0d9871c14ee4",
   "metadata": {},
   "outputs": [],
   "source": [
    "L.append(10)        # 10 add at the last.\n",
    "L\n"
   ]
  },
  {
   "cell_type": "code",
   "execution_count": null,
   "id": "ad1b7ccd-6cf1-4025-b0ac-48128dc8422e",
   "metadata": {},
   "outputs": [],
   "source": [
    "L.append(30)         #First Argument (30)\n",
    "L.append(35)         #First Argument (35)\n",
    "L.append(40)         #First Argument (40)\n",
    "print(L)\n"
   ]
  },
  {
   "cell_type": "code",
   "execution_count": null,
   "id": "b3b82e6f-5a39-4550-a296-f0c853d0b296",
   "metadata": {},
   "outputs": [],
   "source": [
    "L.append               # add element at last\n",
    "L\n",
    "(30)"
   ]
  },
  {
   "cell_type": "code",
   "execution_count": null,
   "id": "c41abbe0-eb2d-428d-bff2-55e7b1d9f7d2",
   "metadata": {},
   "outputs": [],
   "source": [
    "len(L)                 # Length of the value"
   ]
  },
  {
   "cell_type": "code",
   "execution_count": null,
   "id": "7422d961-cddf-49f0-9d28-22426c9a3a29",
   "metadata": {},
   "outputs": [],
   "source": [
    "L1 = L.copy()          \n",
    "L1\n"
   ]
  },
  {
   "cell_type": "code",
   "execution_count": null,
   "id": "73a87fdc-7d8a-4ac3-b5d7-2276c90a8a32",
   "metadata": {},
   "outputs": [],
   "source": [
    "L == L1   # l is equal to l1"
   ]
  },
  {
   "cell_type": "code",
   "execution_count": null,
   "id": "a3739b30-a06b-4f25-be69-9e6043c69277",
   "metadata": {},
   "outputs": [],
   "source": [
    "L != L1          # l is equal not to l1"
   ]
  },
  {
   "cell_type": "code",
   "execution_count": null,
   "id": "8cb98986-4ddf-4105-950f-acf046c77d4b",
   "metadata": {},
   "outputs": [],
   "source": [
    "L1.append(100)\n",
    "L1"
   ]
  },
  {
   "cell_type": "code",
   "execution_count": null,
   "id": "b4de6a89-3a77-4f29-827f-4e936c92b90e",
   "metadata": {},
   "outputs": [],
   "source": [
    "L = L1\n",
    "L"
   ]
  },
  {
   "cell_type": "code",
   "execution_count": null,
   "id": "b9e0236e-db74-423a-b0cf-4fce2b6f174a",
   "metadata": {},
   "outputs": [],
   "source": [
    "print(len(L))       #length of l\n",
    "print(len(L1))      #length of l"
   ]
  },
  {
   "cell_type": "code",
   "execution_count": null,
   "id": "b44a9db2-651e-4b0a-870a-ba9b9c2acd81",
   "metadata": {},
   "outputs": [],
   "source": [
    "id(L1)             # Address of l1"
   ]
  },
  {
   "cell_type": "code",
   "execution_count": null,
   "id": "4b43f1e0-37bd-45c9-a4f4-90d20344f845",
   "metadata": {},
   "outputs": [],
   "source": [
    "len(L)            # length of l"
   ]
  },
  {
   "cell_type": "code",
   "execution_count": null,
   "id": "58ba478e-7723-488e-9615-9dd3a8340f2a",
   "metadata": {},
   "outputs": [],
   "source": [
    "L.clear()       # All clear\n",
    "L"
   ]
  },
  {
   "cell_type": "code",
   "execution_count": null,
   "id": "1b515c49-33e0-41f8-b129-6bc9da001b4f",
   "metadata": {},
   "outputs": [],
   "source": [
    "len(L1)"
   ]
  },
  {
   "cell_type": "code",
   "execution_count": null,
   "id": "2f2356d6-928e-4e89-ab2f-e70d8d47bffc",
   "metadata": {},
   "outputs": [],
   "source": [
    "id(L1)"
   ]
  },
  {
   "cell_type": "code",
   "execution_count": null,
   "id": "86fa0172-1347-4e0f-bb95-87ae55bd06f4",
   "metadata": {},
   "outputs": [],
   "source": [
    "L"
   ]
  },
  {
   "cell_type": "code",
   "execution_count": null,
   "id": "cd94e7f8-130e-4037-a3c0-608cfe7fcac5",
   "metadata": {},
   "outputs": [],
   "source": [
    "L1"
   ]
  },
  {
   "cell_type": "code",
   "execution_count": null,
   "id": "a87b7572-e522-4915-8894-4ef62ebe9042",
   "metadata": {},
   "outputs": [],
   "source": [
    "L.append(2.3,34)                   # pass only one argument not more than one.."
   ]
  },
  {
   "cell_type": "code",
   "execution_count": null,
   "id": "4977168c-81c2-417c-82ed-8be8e619b312",
   "metadata": {},
   "outputs": [],
   "source": [
    "L1"
   ]
  },
  {
   "cell_type": "code",
   "execution_count": null,
   "id": "849cbbba-c2ff-4c97-ab5e-b2a11be78190",
   "metadata": {},
   "outputs": [],
   "source": [
    "L.append('nit')\n",
    "L.append(3.6)\n",
    "L.append(1 + 2j)\n",
    "L.append([1,2,3])\n",
    "L.append(True)\n",
    "L\n"
   ]
  },
  {
   "cell_type": "markdown",
   "id": "050c9953-0e0a-4020-a19a-b3c089089217",
   "metadata": {},
   "source": [
    "# Copy Method\n",
    "\n",
    "    Creat a copy of a List"
   ]
  },
  {
   "cell_type": "code",
   "execution_count": null,
   "id": "c0f4802d-e53c-4199-82ec-244f4b7e6b82",
   "metadata": {},
   "outputs": [
    {
     "data": {
      "text/plain": [
       "['Good Morning']"
      ]
     },
     "execution_count": 15,
     "metadata": {},
     "output_type": "execute_result"
    }
   ],
   "source": [
    "s = ['Good Morning']\n",
    "s"
   ]
  },
  {
   "cell_type": "code",
   "execution_count": null,
   "id": "4a865787-7e96-472f-a5c7-da22db40b59e",
   "metadata": {},
   "outputs": [
    {
     "data": {
      "text/plain": [
       "['Good Morning']"
      ]
     },
     "execution_count": 16,
     "metadata": {},
     "output_type": "execute_result"
    }
   ],
   "source": [
    "s1 = s.copy()    # copy method\n",
    "s1"
   ]
  },
  {
   "cell_type": "code",
   "execution_count": null,
   "id": "b89d0188-4263-418b-9a09-3f062ea5de5b",
   "metadata": {},
   "outputs": [
    {
     "name": "stdout",
     "output_type": "stream",
     "text": [
      "['Good Morning']\n",
      "{'SundayMonday'}\n"
     ]
    }
   ],
   "source": [
    "s1 = {'Sunday''Monday'}\n",
    "print(s)\n",
    "print(s1)"
   ]
  },
  {
   "cell_type": "code",
   "execution_count": null,
   "id": "0ebd958f-6366-409a-a814-7b37cfce48cd",
   "metadata": {},
   "outputs": [
    {
     "name": "stdout",
     "output_type": "stream",
     "text": [
      "2136931139456\n",
      "2136924765344\n"
     ]
    }
   ],
   "source": [
    "print(id(s))         # Address of s\n",
    "print(id(s1))        # Address of s1"
   ]
  },
  {
   "cell_type": "code",
   "execution_count": null,
   "id": "28601a5a-bf96-4bac-bc60-00718580e4dd",
   "metadata": {},
   "outputs": [
    {
     "name": "stdout",
     "output_type": "stream",
     "text": [
      "1\n",
      "1\n"
     ]
    }
   ],
   "source": [
    "print(len(s))         #length of s   \n",
    "print(len(s1))        #length of s1  "
   ]
  },
  {
   "cell_type": "code",
   "execution_count": null,
   "id": "39555e3f-77b9-44a1-b874-6e8483acaf99",
   "metadata": {},
   "outputs": [
    {
     "data": {
      "text/plain": [
       "['Good Morning']"
      ]
     },
     "execution_count": 22,
     "metadata": {},
     "output_type": "execute_result"
    }
   ],
   "source": [
    "s"
   ]
  },
  {
   "cell_type": "code",
   "execution_count": null,
   "id": "b89d4ee1-1ea3-488a-8e54-1d6f485ac1d4",
   "metadata": {},
   "outputs": [
    {
     "data": {
      "text/plain": [
       "{'SundayMonday'}"
      ]
     },
     "execution_count": 23,
     "metadata": {},
     "output_type": "execute_result"
    }
   ],
   "source": [
    "s1"
   ]
  },
  {
   "cell_type": "code",
   "execution_count": null,
   "id": "79955c80-c2b0-438c-b8bb-7ca0a6c4f0e0",
   "metadata": {},
   "outputs": [
    {
     "data": {
      "text/plain": [
       "['Good Morning']"
      ]
     },
     "execution_count": 24,
     "metadata": {},
     "output_type": "execute_result"
    }
   ],
   "source": [
    "s.copy()"
   ]
  },
  {
   "cell_type": "markdown",
   "id": "ebc282b1-3a84-4d80-a7dd-6865f2377a1c",
   "metadata": {},
   "source": [
    "# Count Method\n",
    "\n",
    "In Python, the count() method is used with lists to count how many times a specific value appears in the list\n",
    "\n",
    "It is case-sensitive: 'Apple' and 'apple' are different.\n",
    "Works with any data type: strings, numbers, booleans, etc.\n",
    "\n",
    "count() does not change the original list."
   ]
  },
  {
   "cell_type": "code",
   "execution_count": null,
   "id": "e69e80be-20d8-43da-806b-19b4634a7858",
   "metadata": {},
   "outputs": [
    {
     "data": {
      "text/plain": [
       "[10, 2.3, (1+2j), True, 'Hello', [1, 2, 3, 10]]"
      ]
     },
     "execution_count": 29,
     "metadata": {},
     "output_type": "execute_result"
    }
   ],
   "source": [
    "l1 = [10, 2.3, 1+2j, True, 'Hello', [1, 2, 3, 10]]  #    mix list\n",
    "l1"
   ]
  },
  {
   "cell_type": "code",
   "execution_count": null,
   "id": "7db15aeb-6af1-45e0-9ef8-050bf4d89d2e",
   "metadata": {},
   "outputs": [
    {
     "data": {
      "text/plain": [
       "1"
      ]
     },
     "execution_count": 30,
     "metadata": {},
     "output_type": "execute_result"
    }
   ],
   "source": [
    "l1.count(2.3)          # finf occurance of 2.3\n"
   ]
  },
  {
   "cell_type": "code",
   "execution_count": null,
   "id": "a0024d1a-5863-4375-90d9-1a22ade0122e",
   "metadata": {},
   "outputs": [
    {
     "data": {
      "text/plain": [
       "1"
      ]
     },
     "execution_count": 33,
     "metadata": {},
     "output_type": "execute_result"
    }
   ],
   "source": [
    "l1.count(10)   # occurance of 10.\n"
   ]
  },
  {
   "cell_type": "code",
   "execution_count": null,
   "id": "80334094-bbfa-4cbb-b000-a935d22cdd8c",
   "metadata": {},
   "outputs": [
    {
     "data": {
      "text/plain": [
       "140734876988616"
      ]
     },
     "execution_count": 35,
     "metadata": {},
     "output_type": "execute_result"
    }
   ],
   "source": [
    "id(10)     # address of element 10"
   ]
  },
  {
   "cell_type": "code",
   "execution_count": null,
   "id": "12d977cc-2a61-485d-b0bf-fa1b85bf9b30",
   "metadata": {},
   "outputs": [],
   "source": [
    "l1[0] = 100      # mutable "
   ]
  },
  {
   "cell_type": "code",
   "execution_count": null,
   "id": "7305fc0e-236b-42f6-b8d6-74dfec3b411a",
   "metadata": {},
   "outputs": [
    {
     "data": {
      "text/plain": [
       "[100, 2.3, (1+2j), True, 'Hello', [1, 2, 3, 10]]"
      ]
     },
     "execution_count": 37,
     "metadata": {},
     "output_type": "execute_result"
    }
   ],
   "source": [
    "l1"
   ]
  },
  {
   "cell_type": "code",
   "execution_count": null,
   "id": "5ce8bc9b-4a68-45cb-8fce-a888bed17190",
   "metadata": {},
   "outputs": [
    {
     "name": "stdout",
     "output_type": "stream",
     "text": [
      "<class 'int'>\n"
     ]
    }
   ],
   "source": [
    "print(type(10))       # int data type"
   ]
  },
  {
   "cell_type": "code",
   "execution_count": null,
   "id": "9c03dfe4-4a06-4542-92c1-0907a06f3d22",
   "metadata": {},
   "outputs": [
    {
     "name": "stdout",
     "output_type": "stream",
     "text": [
      "6\n"
     ]
    }
   ],
   "source": [
    "print(len(l1))"
   ]
  },
  {
   "cell_type": "markdown",
   "id": "5b059390-8c06-4315-8b30-45fb7a227d21",
   "metadata": {},
   "source": [
    "# Remove Method\n",
    "\n",
    "he remove() method is used to delete the first occurrence of a specified value from the list\n",
    "\n",
    "Removes only the first matching item\n",
    "\n",
    "It modifies the original list.\n",
    "\n",
    "It does not return anything (returns None).\n",
    "\n",
    "Use if item in list: before remove() to avoid errors"
   ]
  },
  {
   "cell_type": "code",
   "execution_count": null,
   "id": "c04eeeb0-a581-406d-9168-1660aad38fd3",
   "metadata": {},
   "outputs": [
    {
     "data": {
      "text/plain": [
       "[100, 2.3, (1+2j), True, 'Hello', [1, 2, 3, 10]]"
      ]
     },
     "execution_count": 42,
     "metadata": {},
     "output_type": "execute_result"
    }
   ],
   "source": [
    "l1"
   ]
  },
  {
   "cell_type": "code",
   "execution_count": null,
   "id": "28fa0e93-c0d7-40f4-9e97-bd7998eacfd7",
   "metadata": {},
   "outputs": [],
   "source": [
    "l1.remove(2.3)      # Remove 2.3"
   ]
  },
  {
   "cell_type": "code",
   "execution_count": null,
   "id": "74ba1572-e745-4970-b561-bffe015c5946",
   "metadata": {},
   "outputs": [
    {
     "data": {
      "text/plain": [
       "[100, 2.3, True, 'Hello', [1, 2, 3, 10]]"
      ]
     },
     "execution_count": 47,
     "metadata": {},
     "output_type": "execute_result"
    }
   ],
   "source": [
    "l1"
   ]
  },
  {
   "cell_type": "code",
   "execution_count": null,
   "id": "19e93d5b-6d7a-444d-8266-fa4885f90d2b",
   "metadata": {},
   "outputs": [
    {
     "data": {
      "text/plain": [
       "2136932349552"
      ]
     },
     "execution_count": 50,
     "metadata": {},
     "output_type": "execute_result"
    }
   ],
   "source": [
    "id(2.3)   # adress of element"
   ]
  },
  {
   "cell_type": "code",
   "execution_count": null,
   "id": "ec59bd92-e532-4b76-ae83-c1150f0589e3",
   "metadata": {},
   "outputs": [
    {
     "data": {
      "text/plain": [
       "4"
      ]
     },
     "execution_count": 52,
     "metadata": {},
     "output_type": "execute_result"
    }
   ],
   "source": [
    "len(l1)    # Length of l1"
   ]
  },
  {
   "cell_type": "code",
   "execution_count": null,
   "id": "aea853ff-f93b-4e22-962d-7576d8a3b3f2",
   "metadata": {},
   "outputs": [
    {
     "data": {
      "text/plain": [
       "list"
      ]
     },
     "execution_count": 53,
     "metadata": {},
     "output_type": "execute_result"
    }
   ],
   "source": [
    "type(l1)"
   ]
  },
  {
   "cell_type": "code",
   "execution_count": null,
   "id": "c9490b3a-cfe5-40ad-a385-6c99fa08a8ae",
   "metadata": {},
   "outputs": [],
   "source": [
    "l1.remove(True)        # True is removed"
   ]
  },
  {
   "cell_type": "code",
   "execution_count": null,
   "id": "b8864301-054b-4ba7-ba65-e7d6331bfa85",
   "metadata": {},
   "outputs": [
    {
     "data": {
      "text/plain": [
       "[100, True, 'Hello', [1, 2, 3, 10]]"
      ]
     },
     "execution_count": 56,
     "metadata": {},
     "output_type": "execute_result"
    }
   ],
   "source": [
    "l1"
   ]
  },
  {
   "cell_type": "markdown",
   "id": "af33b5e4-dc4a-4558-a07c-6e12e873cdb9",
   "metadata": {},
   "source": [
    "# Pop Method\n",
    "\n",
    "The pop() method is used to remove and return an element from a list — by default from the end\n",
    "\n",
    "Useful when you want to store or process the removed item\n",
    "\n",
    "Index starts from 0.\n",
    "\n",
    "You can also use negative indexing:\n",
    "\n",
    "pop(-1) → last item\n",
    "\n",
    "pop(0) → first item\n",
    "\n",
    "\n",
    "Use pop() when:\n",
    "                You need to remove and use the value."
   ]
  },
  {
   "cell_type": "code",
   "execution_count": null,
   "id": "1b4be52b-4c55-4fbc-9199-fa70624c967a",
   "metadata": {},
   "outputs": [
    {
     "data": {
      "text/plain": [
       "[100, 'Hello', [1, 2, 3, 10]]"
      ]
     },
     "execution_count": 59,
     "metadata": {},
     "output_type": "execute_result"
    }
   ],
   "source": [
    "l1"
   ]
  },
  {
   "cell_type": "code",
   "execution_count": null,
   "id": "b6edd9b9-dfd4-4644-a745-f8fa6f76ec60",
   "metadata": {},
   "outputs": [
    {
     "data": {
      "text/plain": [
       "[1, 2, 3, 10]"
      ]
     },
     "execution_count": 60,
     "metadata": {},
     "output_type": "execute_result"
    }
   ],
   "source": [
    "l1.pop()        # remove and store the element "
   ]
  },
  {
   "cell_type": "code",
   "execution_count": null,
   "id": "6d78bec9-2a24-4bc2-8f6a-b3a4b752e773",
   "metadata": {},
   "outputs": [
    {
     "data": {
      "text/plain": [
       "'Hello'"
      ]
     },
     "execution_count": 62,
     "metadata": {},
     "output_type": "execute_result"
    }
   ],
   "source": [
    "l1.pop(1)     # remove and store the element at1"
   ]
  },
  {
   "cell_type": "code",
   "execution_count": null,
   "id": "2ef9ff3f-7297-4bdf-80ed-8c3e094f2702",
   "metadata": {},
   "outputs": [
    {
     "data": {
      "text/plain": [
       "[100]"
      ]
     },
     "execution_count": 63,
     "metadata": {},
     "output_type": "execute_result"
    }
   ],
   "source": [
    "l1"
   ]
  },
  {
   "cell_type": "code",
   "execution_count": null,
   "id": "aee6a236-f8b6-4d85-8db9-0077d9875d6c",
   "metadata": {},
   "outputs": [
    {
     "data": {
      "text/plain": [
       "2136920752064"
      ]
     },
     "execution_count": 65,
     "metadata": {},
     "output_type": "execute_result"
    }
   ],
   "source": [
    "id('hello')      # addrss of 'hello'"
   ]
  },
  {
   "cell_type": "code",
   "execution_count": null,
   "id": "e7edac16-eac4-4fbf-894b-6240321f59d3",
   "metadata": {},
   "outputs": [
    {
     "data": {
      "text/plain": [
       "1"
      ]
     },
     "execution_count": 66,
     "metadata": {},
     "output_type": "execute_result"
    }
   ],
   "source": [
    "len(l1)       # length of l1"
   ]
  },
  {
   "cell_type": "code",
   "execution_count": null,
   "id": "4fda0a1b-ab1b-400c-8d98-4d0e27322727",
   "metadata": {},
   "outputs": [
    {
     "data": {
      "text/plain": [
       "str"
      ]
     },
     "execution_count": 67,
     "metadata": {},
     "output_type": "execute_result"
    }
   ],
   "source": [
    "type('hello')     # type of 'hello'"
   ]
  },
  {
   "cell_type": "code",
   "execution_count": null,
   "id": "861035a2-f6c8-4823-93a2-cd8944fc3a6c",
   "metadata": {},
   "outputs": [
    {
     "data": {
      "text/plain": [
       "[10, 2.3, (1+2j), True, 'Hello', [1, 2, 3, 10]]"
      ]
     },
     "execution_count": 68,
     "metadata": {},
     "output_type": "execute_result"
    }
   ],
   "source": [
    "l1 = [10, 2.3, 1+2j, True, 'Hello', [1, 2, 3, 10]]\n",
    "l1"
   ]
  },
  {
   "cell_type": "markdown",
   "id": "dc63999b-a22b-4f99-9b82-091a2d60db69",
   "metadata": {},
   "source": [
    "# Index Method\n",
    "\n",
    "The index() method returns the index (position) of the first occurrence of a specified element in a list.\n",
    "    \n",
    "useful in :-\n",
    "            Find the position of an item.\n",
    "\n",
    "            Useful in search-based operations.\n",
    "\n",
    "            Often combined with slicing or replacing values.\n",
    "    \n",
    "    \n",
    "Indexing starts at 0 in Python.\n",
    "\n",
    "index() only returns the first match.\n",
    "\n",
    "Case-sensitive for strings ('A' ≠ 'a')"
   ]
  },
  {
   "cell_type": "code",
   "execution_count": null,
   "id": "40daae57-1c4a-48d9-9a7a-f715a919c60e",
   "metadata": {},
   "outputs": [
    {
     "data": {
      "text/plain": [
       "[10, 2.3, (1+2j), True, 'Hello', [1, 2, 3, 10]]"
      ]
     },
     "execution_count": 69,
     "metadata": {},
     "output_type": "execute_result"
    }
   ],
   "source": [
    "l1"
   ]
  },
  {
   "cell_type": "code",
   "execution_count": null,
   "id": "2dbdf2ac-7448-49e1-97f9-8ee56d7a0ff3",
   "metadata": {},
   "outputs": [
    {
     "data": {
      "text/plain": [
       "1"
      ]
     },
     "execution_count": 71,
     "metadata": {},
     "output_type": "execute_result"
    }
   ],
   "source": [
    "l1.index(2.3)      # index of 2.3"
   ]
  },
  {
   "cell_type": "code",
   "execution_count": null,
   "id": "e37eb1c8-7573-452e-b2f2-da8c21901e7b",
   "metadata": {},
   "outputs": [
    {
     "data": {
      "text/plain": [
       "4"
      ]
     },
     "execution_count": 72,
     "metadata": {},
     "output_type": "execute_result"
    }
   ],
   "source": [
    "l1.index('Hello')   # index of 'Hello'"
   ]
  },
  {
   "cell_type": "code",
   "execution_count": null,
   "id": "f9695ab1-8c84-44e4-a7bb-8f4a4f40e409",
   "metadata": {},
   "outputs": [
    {
     "data": {
      "text/plain": [
       "3"
      ]
     },
     "execution_count": 73,
     "metadata": {},
     "output_type": "execute_result"
    }
   ],
   "source": [
    "l1.index(True)    # index of True"
   ]
  },
  {
   "cell_type": "markdown",
   "id": "35d46eaf-2440-49d7-bf34-e3daa34ceab6",
   "metadata": {},
   "source": [
    "# Insert Method\n",
    "\n",
    "The insert() method is used to add an item at a specific position (index) in a list.\n",
    "\n",
    "\n",
    "✅ Syntax:\n",
    "            list.insert(index, element)\n",
    "            index: The position where the element should be inserted.\n",
    "            element: The item to insert\n",
    "\n",
    "    Modifies the original list.\n",
    "    Does not return anything (None).\n",
    "    Does not replace – it shifts existing items to the right.\n",
    "    Indexing starts from 0."
   ]
  },
  {
   "cell_type": "code",
   "execution_count": null,
   "id": "e53520ee-ea5c-4e70-9151-aa8bf639e68a",
   "metadata": {},
   "outputs": [
    {
     "data": {
      "text/plain": [
       "[10, 2.3, (1+2j), True, 'Hello', [1, 2, 3, 10]]"
      ]
     },
     "execution_count": 74,
     "metadata": {},
     "output_type": "execute_result"
    }
   ],
   "source": [
    "l1"
   ]
  },
  {
   "cell_type": "code",
   "execution_count": null,
   "id": "e78c5f64-0d10-4895-ab65-9f43520e1e22",
   "metadata": {},
   "outputs": [],
   "source": [
    "l1.insert(3,False)   # insert False at index 3"
   ]
  },
  {
   "cell_type": "code",
   "execution_count": null,
   "id": "cb144a14-164f-4e3f-a745-9fd0c35ca930",
   "metadata": {},
   "outputs": [
    {
     "data": {
      "text/plain": [
       "[10, 2.3, (1+2j), False, True, 'Hello', [1, 2, 3, 10]]"
      ]
     },
     "execution_count": 76,
     "metadata": {},
     "output_type": "execute_result"
    }
   ],
   "source": [
    "l1\n"
   ]
  },
  {
   "cell_type": "code",
   "execution_count": null,
   "id": "c966f189-8bf0-4139-9536-3c14a871281c",
   "metadata": {},
   "outputs": [],
   "source": [
    "l1.insert(5,10)         # insert 10 at index 5"
   ]
  },
  {
   "cell_type": "code",
   "execution_count": null,
   "id": "7e76823d-8867-4ef9-a269-084331af95e5",
   "metadata": {},
   "outputs": [
    {
     "data": {
      "text/plain": [
       "[10, 2.3, (1+2j), False, True, 10, 'Hello', [1, 2, 3, 10]]"
      ]
     },
     "execution_count": 78,
     "metadata": {},
     "output_type": "execute_result"
    }
   ],
   "source": [
    "l1"
   ]
  },
  {
   "cell_type": "code",
   "execution_count": null,
   "id": "639c267b-f836-44b6-9419-907ad4a203fc",
   "metadata": {},
   "outputs": [
    {
     "data": {
      "text/plain": [
       "10"
      ]
     },
     "execution_count": 79,
     "metadata": {},
     "output_type": "execute_result"
    }
   ],
   "source": [
    "l1[5]      # indexing"
   ]
  },
  {
   "cell_type": "code",
   "execution_count": null,
   "id": "6a1d5a7e-7deb-4e19-8c39-db0211940090",
   "metadata": {},
   "outputs": [],
   "source": [
    "l1.insert(2,4)         # insert 4 at index 2"
   ]
  },
  {
   "cell_type": "code",
   "execution_count": null,
   "id": "fa32b79f-734e-423d-8398-bd4d98a5ba3e",
   "metadata": {},
   "outputs": [
    {
     "data": {
      "text/plain": [
       "[10, 2.3, 4, (1+2j), False, True, 10, 'Hello', [1, 2, 3, 10]]"
      ]
     },
     "execution_count": 81,
     "metadata": {},
     "output_type": "execute_result"
    }
   ],
   "source": [
    "l1"
   ]
  },
  {
   "cell_type": "markdown",
   "id": "4b3cf6ce-1ec1-4f69-a186-a0e375e256f6",
   "metadata": {},
   "source": [
    "# Extend Method\n",
    "\n",
    "The extend() method is used to add multiple elements from another iterable (like a list, tuple, set) to the end of the list\n",
    "\n",
    "📌 When to Use extend():\n",
    "When you want to combine two or more lists into one.\n",
    "\n",
    "To flatten one level of nested lists.\n",
    "\n",
    "\n",
    "✅ Modifies original list\n",
    "\n",
    "✅ Adds multiple elements at once\n",
    "\n",
    "❌ Does not return anything\n",
    "\n",
    "❌ Adds elements (not entire list like append())\n",
    "\n"
   ]
  },
  {
   "cell_type": "code",
   "execution_count": null,
   "id": "961c1cf2-4886-48ae-8f76-ab4bb21740de",
   "metadata": {},
   "outputs": [
    {
     "data": {
      "text/plain": [
       "[10, 2.3, 4, (1+2j), False, True, 10, 'Hello', [1, 2, 3, 10]]"
      ]
     },
     "execution_count": 82,
     "metadata": {},
     "output_type": "execute_result"
    }
   ],
   "source": [
    "l1"
   ]
  },
  {
   "cell_type": "code",
   "execution_count": null,
   "id": "0ca11308-3f5e-412d-861c-d67af31104c3",
   "metadata": {},
   "outputs": [],
   "source": [
    "l1.extend([5,7])     # add the multiple element at the end"
   ]
  },
  {
   "cell_type": "code",
   "execution_count": null,
   "id": "9ea37f00-d68d-48be-83fa-7a152c39a3f8",
   "metadata": {},
   "outputs": [
    {
     "data": {
      "text/plain": [
       "[10, 2.3, 4, (1+2j), False, True, 10, 'Hello', [1, 2, 3, 10], 5, 7]"
      ]
     },
     "execution_count": 96,
     "metadata": {},
     "output_type": "execute_result"
    }
   ],
   "source": [
    "l1"
   ]
  },
  {
   "cell_type": "code",
   "execution_count": null,
   "id": "c2910295-9436-4ac4-b2e2-86ceee83e8eb",
   "metadata": {},
   "outputs": [],
   "source": [
    "l1.extend([6,99])          # add the multiple element at the end"
   ]
  },
  {
   "cell_type": "code",
   "execution_count": null,
   "id": "27021fb1-f372-4fe4-b648-5104aba1fb37",
   "metadata": {},
   "outputs": [
    {
     "data": {
      "text/plain": [
       "[10,\n",
       " 2.3,\n",
       " 4,\n",
       " (1+2j),\n",
       " False,\n",
       " True,\n",
       " 10,\n",
       " 'Hello',\n",
       " [1, 2, 3, 10],\n",
       " 5,\n",
       " 7,\n",
       " 6,\n",
       " 99,\n",
       " 6,\n",
       " 99,\n",
       " 6,\n",
       " 99]"
      ]
     },
     "execution_count": 100,
     "metadata": {},
     "output_type": "execute_result"
    }
   ],
   "source": [
    "l1 "
   ]
  },
  {
   "cell_type": "markdown",
   "id": "70d3eb17-68b3-48b0-b7ed-f459544fb966",
   "metadata": {},
   "source": [
    "# Reverse Method\n",
    "\n",
    "A built-in method in Python used to reverse the elements of a list in-place (without creating a new list)\n",
    "\n",
    "The reverse() method is used to reverse the order of elements in a list in-place (it changes the original list).\n",
    "\n",
    "🧠 Key Points:\n",
    "\n",
    "    It modifies the original list.\n",
    "    It does not return a new list.\n",
    "    It returns None\n",
    "\n"
   ]
  },
  {
   "cell_type": "code",
   "execution_count": null,
   "id": "1397b122-c2c0-475f-934e-b9b4ef7b2f13",
   "metadata": {},
   "outputs": [],
   "source": [
    "l1 = [10, 2.3, 4, (1+2j), False, True, 10, 'Hello', [1, 2, 3, 10]]"
   ]
  },
  {
   "cell_type": "code",
   "execution_count": null,
   "id": "11e51bf2-80c9-4708-8666-466f8feb08ac",
   "metadata": {},
   "outputs": [
    {
     "data": {
      "text/plain": [
       "[10, 2.3, 4, (1+2j), False, True, 10, 'Hello', [1, 2, 3, 10]]"
      ]
     },
     "execution_count": 103,
     "metadata": {},
     "output_type": "execute_result"
    }
   ],
   "source": [
    "l1"
   ]
  },
  {
   "cell_type": "code",
   "execution_count": null,
   "id": "6d90d26b-ee94-4ad8-8daa-e514e9ca3952",
   "metadata": {},
   "outputs": [],
   "source": [
    "l1.reverse()"
   ]
  },
  {
   "cell_type": "code",
   "execution_count": null,
   "id": "c8de3cac-8740-43de-95bb-acc27cd43ed6",
   "metadata": {},
   "outputs": [
    {
     "data": {
      "text/plain": [
       "[[1, 2, 3, 10], 'Hello', 10, True, False, (1+2j), 4, 2.3, 10]"
      ]
     },
     "execution_count": 107,
     "metadata": {},
     "output_type": "execute_result"
    }
   ],
   "source": [
    "l1"
   ]
  },
  {
   "cell_type": "code",
   "execution_count": null,
   "id": "7572d96b-0491-4e24-94a0-56eece3b6cd7",
   "metadata": {},
   "outputs": [
    {
     "data": {
      "text/plain": [
       "[300, 3, 34, 9, 100]"
      ]
     },
     "execution_count": 108,
     "metadata": {},
     "output_type": "execute_result"
    }
   ],
   "source": [
    "l2 = [300, 3, 34, 9, 100]\n",
    "l2"
   ]
  },
  {
   "cell_type": "markdown",
   "id": "85109bce-e673-42f6-8ddd-0b2e7a949501",
   "metadata": {},
   "source": [
    "# Sort Method\n",
    "\n",
    "The sort() method is used to arrange the elements of a list in ascending or descending order.\n",
    "\n",
    "Important Points:\n",
    "                sort() changes the original list (in-place).\n",
    "                It does not return a new list (returns None).\n",
    "                Use sorted() if you want a new sorted list without changing the original.\n",
    "\n"
   ]
  },
  {
   "cell_type": "code",
   "execution_count": null,
   "id": "4e944ef0-96c7-4acf-b00a-1117d378196b",
   "metadata": {},
   "outputs": [
    {
     "data": {
      "text/plain": [
       "[300, 3, 34, 9, 100]"
      ]
     },
     "execution_count": 109,
     "metadata": {},
     "output_type": "execute_result"
    }
   ],
   "source": [
    "l2"
   ]
  },
  {
   "cell_type": "code",
   "execution_count": null,
   "id": "f4674284-27f7-4189-808c-58c5c9e3a19e",
   "metadata": {},
   "outputs": [],
   "source": [
    "l2.sort()   # Assending Order"
   ]
  },
  {
   "cell_type": "code",
   "execution_count": null,
   "id": "aca4d72f-ad6b-4f2f-8b0f-a6c08aab26fb",
   "metadata": {},
   "outputs": [
    {
     "data": {
      "text/plain": [
       "[3, 9, 34, 100, 300]"
      ]
     },
     "execution_count": 111,
     "metadata": {},
     "output_type": "execute_result"
    }
   ],
   "source": [
    "l2"
   ]
  },
  {
   "cell_type": "code",
   "execution_count": null,
   "id": "7100a2d8-246b-4521-994f-f3f188ebc425",
   "metadata": {},
   "outputs": [
    {
     "data": {
      "text/plain": [
       "[[1, 2, 3, 10], 'Hello', 10, True, False, (1+2j), 4, 2.3, 10]"
      ]
     },
     "execution_count": 112,
     "metadata": {},
     "output_type": "execute_result"
    }
   ],
   "source": [
    "l1"
   ]
  },
  {
   "cell_type": "code",
   "execution_count": null,
   "id": "21f9591f-9ac1-4daa-b937-8f2b3fe4b0c1",
   "metadata": {},
   "outputs": [
    {
     "data": {
      "text/plain": [
       "2136935525312"
      ]
     },
     "execution_count": 117,
     "metadata": {},
     "output_type": "execute_result"
    }
   ],
   "source": [
    "id(l2)"
   ]
  },
  {
   "cell_type": "code",
   "execution_count": null,
   "id": "71a31aae-3db3-4afc-b93d-27ee398440b2",
   "metadata": {},
   "outputs": [
    {
     "data": {
      "text/plain": [
       "5"
      ]
     },
     "execution_count": 116,
     "metadata": {},
     "output_type": "execute_result"
    }
   ],
   "source": [
    "len(l2)"
   ]
  },
  {
   "cell_type": "code",
   "execution_count": null,
   "id": "e5bf13c6-7593-461b-ac5a-9a573c810af9",
   "metadata": {},
   "outputs": [],
   "source": [
    "l2.sort(reverse=True) # decending order"
   ]
  },
  {
   "cell_type": "code",
   "execution_count": null,
   "id": "64ae3554-e1a0-484c-ba8c-728fd3a3b835",
   "metadata": {},
   "outputs": [
    {
     "data": {
      "text/plain": [
       "[300, 100, 34, 9, 3]"
      ]
     },
     "execution_count": 119,
     "metadata": {},
     "output_type": "execute_result"
    }
   ],
   "source": [
    "l2"
   ]
  },
  {
   "cell_type": "code",
   "execution_count": null,
   "id": "beaf9dd6-688c-4517-ba52-d8bbf419f263",
   "metadata": {},
   "outputs": [],
   "source": [
    "l2[0] = 30000"
   ]
  },
  {
   "cell_type": "code",
   "execution_count": 2,
   "id": "187ce065-88ce-467b-bd08-a1185a3bf7ae",
   "metadata": {},
   "outputs": [
    {
     "ename": "NameError",
     "evalue": "name 'l2' is not defined",
     "output_type": "error",
     "traceback": [
      "\u001b[31m---------------------------------------------------------------------------\u001b[39m",
      "\u001b[31mNameError\u001b[39m                                 Traceback (most recent call last)",
      "\u001b[36mCell\u001b[39m\u001b[36m \u001b[39m\u001b[32mIn[2]\u001b[39m\u001b[32m, line 1\u001b[39m\n\u001b[32m----> \u001b[39m\u001b[32m1\u001b[39m \u001b[43ml2\u001b[49m       \n",
      "\u001b[31mNameError\u001b[39m: name 'l2' is not defined"
     ]
    }
   ],
   "source": [
    "l2       "
   ]
  }
 ],
 "metadata": {
  "kernelspec": {
   "display_name": "Python 3",
   "language": "python",
   "name": "python3"
  },
  "language_info": {
   "codemirror_mode": {
    "name": "ipython",
    "version": 3
   },
   "file_extension": ".py",
   "mimetype": "text/x-python",
   "name": "python",
   "nbconvert_exporter": "python",
   "pygments_lexer": "ipython3",
   "version": "3.13.5"
  }
 },
 "nbformat": 4,
 "nbformat_minor": 5
}
