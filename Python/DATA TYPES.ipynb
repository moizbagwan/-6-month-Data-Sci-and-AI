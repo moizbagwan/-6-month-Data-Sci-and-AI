{
 "cells": [
  {
   "cell_type": "markdown",
   "id": "8c93f2fb-7e0b-48be-bc61-d77e1b636211",
   "metadata": {},
   "source": [
    "# Data Type\n",
    "\n",
    "    - In Python, data types are used to define the kind of value a variable can hold\n",
    "    - Int (numeric data type).\n",
    "    - Float Data Type\n",
    "    - String Data Type\n",
    "    - Float Data Type\n",
    "    - Complex Data Type\n",
    "    - Bool Data Type\n",
    "    - List\n",
    "    - Touple\n",
    "    - Dictonary\n",
    "    - Set\n",
    "    - Use type() function to check any variable’s data type: ex: print(type())...."
   ]
  },
  {
   "cell_type": "markdown",
   "id": "a1d38cff-04cd-4f63-9235-2afe857e6a4b",
   "metadata": {},
   "source": [
    "# Introduction"
   ]
  },
  {
   "cell_type": "code",
   "execution_count": 3,
   "id": "2bdf614b-7528-4d36-bab9-46cb992da7e7",
   "metadata": {},
   "outputs": [
    {
     "name": "stdout",
     "output_type": "stream",
     "text": [
      "5\n",
      "1\n",
      "6\n",
      "1.5\n",
      "9\n",
      "1\n",
      "1\n"
     ]
    }
   ],
   "source": [
    "print(3 + 2)     # ADDITION (+)\n",
    "print(3 - 2)     # SUBSTRACTION (-)\n",
    "print(3 * 2)     # MULTIPLICATION (*)\n",
    "print(3 / 2)     # DIVISION (/)\n",
    "print(3 ** 2)    # EXPONENTIAL(**)\n",
    "print(3 // 2)    # FLOOR DIVISION OPERATION(//)\n",
    "print(3 % 2)     # MODULUS(%)"
   ]
  },
  {
   "cell_type": "markdown",
   "id": "db86c8b6-5b0b-42ce-bf23-6f1d3bc66e68",
   "metadata": {},
   "source": [
    "# CHECKING DATATYPES"
   ]
  },
  {
   "cell_type": "code",
   "execution_count": 6,
   "id": "047c5d40-0883-4797-80db-dc33c5316582",
   "metadata": {},
   "outputs": [
    {
     "name": "stdout",
     "output_type": "stream",
     "text": [
      "<class 'int'>\n",
      "<class 'float'>\n",
      "<class 'complex'>\n",
      "<class 'str'>\n",
      "<class 'list'>\n",
      "<class 'dict'>\n",
      "<class 'set'>\n",
      "<class 'tuple'>\n",
      "<class 'bool'>\n",
      "<class 'bool'>\n"
     ]
    }
   ],
   "source": [
    "print(type(10))                  # Int type\n",
    "print(type(3.14))                # Float type\n",
    "print(type(1 + 3j))              # Complex type\n",
    "print(type('Asabeneh'))          # String type\n",
    "print(type([1, 2, 3]))           # List \n",
    "print(type({'name':'Asabeneh'})) # Dictionary\n",
    "print(type({9.8, 3.14, 2.7}))    # Set\n",
    "print(type((9.8, 3.14, 2.7)))    # Tuple\n",
    "print(type(3 == 3))              # Bool\n",
    "print(type(3 >= 3))              # Bool\n"
   ]
  },
  {
   "cell_type": "markdown",
   "id": "9c01cadc-057e-4da8-83f6-07bea6d47790",
   "metadata": {},
   "source": [
    "# Integer Data Type (int) :-\n",
    "\n",
    "    - int = integer data type.(-5,-4,-3,-2,-1,0,1,2,3,4,5)\n",
    "    - we can store whole Numbers in integer data type (Positive , Negative , Zero).\n",
    "    - but can not stote Desimal (float) numbers in the integer data type."
   ]
  },
  {
   "cell_type": "code",
   "execution_count": 1,
   "id": "7132fb56-abb4-4930-9a78-45ceab834702",
   "metadata": {},
   "outputs": [
    {
     "data": {
      "text/plain": [
       "1"
      ]
     },
     "execution_count": 1,
     "metadata": {},
     "output_type": "execute_result"
    }
   ],
   "source": [
    "a = 1              #  1 is the integer data typpe\n",
    "a"
   ]
  },
  {
   "cell_type": "code",
   "execution_count": 2,
   "id": "a417f6a4-3808-4b65-bcd0-ac7fcb3a7956",
   "metadata": {},
   "outputs": [
    {
     "name": "stdout",
     "output_type": "stream",
     "text": [
      "<class 'int'>\n"
     ]
    }
   ],
   "source": [
    "print(type(a))     # integer data type"
   ]
  },
  {
   "cell_type": "code",
   "execution_count": 3,
   "id": "752f1a0c-4ab5-4a5a-b921-b669fdeb133d",
   "metadata": {},
   "outputs": [
    {
     "data": {
      "text/plain": [
       "140734974964648"
      ]
     },
     "execution_count": 3,
     "metadata": {},
     "output_type": "execute_result"
    }
   ],
   "source": [
    "id(a)              # address of a"
   ]
  },
  {
   "cell_type": "code",
   "execution_count": 4,
   "id": "262a856a-3c28-4eaf-8324-c8bc5d365a4e",
   "metadata": {},
   "outputs": [
    {
     "data": {
      "text/plain": [
       "(15, 35, 588, 44)"
      ]
     },
     "execution_count": 4,
     "metadata": {},
     "output_type": "execute_result"
    }
   ],
   "source": [
    "i = 15,35,588,44\n",
    "i                              # we can assgn one and more than one value in integer data type."
   ]
  },
  {
   "cell_type": "code",
   "execution_count": 5,
   "id": "d4678c50-e397-4c18-bd16-3e9930313843",
   "metadata": {},
   "outputs": [
    {
     "data": {
      "text/plain": [
       "(0, 1, 2, 3, 4, 5, 6, 7, 8, 9)"
      ]
     },
     "execution_count": 5,
     "metadata": {},
     "output_type": "execute_result"
    }
   ],
   "source": [
    "i = 0,1,2,3,4,5,6,7,8,9\n",
    "i"
   ]
  },
  {
   "cell_type": "code",
   "execution_count": 6,
   "id": "04ae1cad-19ea-46b0-8b79-62f92837758b",
   "metadata": {},
   "outputs": [
    {
     "data": {
      "text/plain": [
       "(2.5, 76, 34)"
      ]
     },
     "execution_count": 6,
     "metadata": {},
     "output_type": "execute_result"
    }
   ],
   "source": [
    "i = 2.5,76,34\n",
    "i"
   ]
  },
  {
   "cell_type": "code",
   "execution_count": 8,
   "id": "7affa586-dd20-4427-b688-a9a485dbcdda",
   "metadata": {},
   "outputs": [
    {
     "name": "stdout",
     "output_type": "stream",
     "text": [
      "35\n"
     ]
    }
   ],
   "source": [
    "a = 5                #Addition of two Integer numbers \n",
    "b = 30\n",
    "c = a + b\n",
    "print(c)"
   ]
  },
  {
   "cell_type": "code",
   "execution_count": 11,
   "id": "111fc61b-0883-4552-a573-7f4d7543d080",
   "metadata": {},
   "outputs": [
    {
     "name": "stdout",
     "output_type": "stream",
     "text": [
      "20\n"
     ]
    }
   ],
   "source": [
    "a = 50              #substraction of two Integer numbers \n",
    "b = 30\n",
    "c = a - b\n",
    "print(c)"
   ]
  },
  {
   "cell_type": "code",
   "execution_count": 10,
   "id": "7661f1ba-b66d-473d-aa13-31ed11e3c9e2",
   "metadata": {},
   "outputs": [
    {
     "name": "stdout",
     "output_type": "stream",
     "text": [
      "150\n"
     ]
    }
   ],
   "source": [
    "a = 5               #multiplication of two Integer numbers \n",
    "b = 30\n",
    "c = a * b\n",
    "print(c)"
   ]
  },
  {
   "cell_type": "code",
   "execution_count": 13,
   "id": "17abfda2-9c1a-480e-9257-6b3ee32728e1",
   "metadata": {},
   "outputs": [
    {
     "name": "stdout",
     "output_type": "stream",
     "text": [
      "1.6666666666666667\n"
     ]
    }
   ],
   "source": [
    "a = 50              #division of two Integer numbers \n",
    "b = 30\n",
    "c = a / b\n",
    "print(c)"
   ]
  },
  {
   "cell_type": "code",
   "execution_count": 18,
   "id": "afbb0b7c-e3c9-4b7b-a4cd-474a0481e238",
   "metadata": {},
   "outputs": [
    {
     "name": "stdout",
     "output_type": "stream",
     "text": [
      "1\n"
     ]
    }
   ],
   "source": [
    "a = 50              #int division of two Integer numbers \n",
    "b = 30\n",
    "c = a // b\n",
    "print(c)"
   ]
  },
  {
   "cell_type": "code",
   "execution_count": 17,
   "id": "3c1fabea-8b0a-406e-94cb-0a3406a7bb4f",
   "metadata": {},
   "outputs": [
    {
     "name": "stdout",
     "output_type": "stream",
     "text": [
      "125\n"
     ]
    }
   ],
   "source": [
    "a = 5              #power of two Integer numbers \n",
    "b = 3\n",
    "c = a ** b\n",
    "print(c)"
   ]
  },
  {
   "cell_type": "markdown",
   "id": "f95bc966-f99d-4e8f-9860-cab04b721b90",
   "metadata": {},
   "source": [
    "# Float Data Type :-\n",
    "\n",
    "    - In float data type can store floting point numbers (1.4,3.14,4.8,8.99, etc)\n",
    "    - In pyhon wecan only use 'e' letter not others..\n",
    "    - Float value can be created  using decimal.\n",
    "    - We can convert float data type to int data type and also revese of it."
   ]
  },
  {
   "cell_type": "code",
   "execution_count": 19,
   "id": "19404a01-91b2-4b0f-9324-7aad6d67470c",
   "metadata": {},
   "outputs": [
    {
     "data": {
      "text/plain": [
       "3.14"
      ]
     },
     "execution_count": 19,
     "metadata": {},
     "output_type": "execute_result"
    }
   ],
   "source": [
    "f = 3.14              #  we can creat a variable assign value is float (3.14)\n",
    "f"
   ]
  },
  {
   "cell_type": "code",
   "execution_count": 20,
   "id": "124a4668-a70b-4a81-947c-a676e4777892",
   "metadata": {},
   "outputs": [
    {
     "name": "stdout",
     "output_type": "stream",
     "text": [
      "<class 'float'>\n"
     ]
    }
   ],
   "source": [
    "print(type(f))        # print float data typpe"
   ]
  },
  {
   "cell_type": "code",
   "execution_count": 21,
   "id": "7a6980e6-340d-4481-bffd-6a2d3361257c",
   "metadata": {},
   "outputs": [
    {
     "data": {
      "text/plain": [
       "2396299993680"
      ]
     },
     "execution_count": 21,
     "metadata": {},
     "output_type": "execute_result"
    }
   ],
   "source": [
    "id(f)                 # Address of f"
   ]
  },
  {
   "cell_type": "code",
   "execution_count": 23,
   "id": "4d36e952-5400-438a-9846-9b1fd16ea56f",
   "metadata": {},
   "outputs": [
    {
     "data": {
      "text/plain": [
       "(3.14, 4.76, 77.99, 99.99)"
      ]
     },
     "execution_count": 23,
     "metadata": {},
     "output_type": "execute_result"
    }
   ],
   "source": [
    "f1 = 3.14, 4.76, 77.99, 99.99       \n",
    "f1                                 # we can assgn one and more than one value in float data type."
   ]
  },
  {
   "cell_type": "code",
   "execution_count": 25,
   "id": "93e90e0d-811e-45b5-b6c0-4cc28941bf5b",
   "metadata": {},
   "outputs": [
    {
     "name": "stdout",
     "output_type": "stream",
     "text": [
      "12.4\n"
     ]
    }
   ],
   "source": [
    "a = 5.5\n",
    "b = 6.9                # Addition of two float numbers.\n",
    "c = a + b\n",
    "print(c)"
   ]
  },
  {
   "cell_type": "code",
   "execution_count": 38,
   "id": "e36b013a-df57-465a-bf17-9e77b1a2aefb",
   "metadata": {},
   "outputs": [
    {
     "name": "stdout",
     "output_type": "stream",
     "text": [
      "8.6\n"
     ]
    }
   ],
   "source": [
    "a = 15.5\n",
    "b = 6.9                # substraction of two float numbers.\n",
    "c = a - b\n",
    "print(c)"
   ]
  },
  {
   "cell_type": "code",
   "execution_count": 36,
   "id": "5a5ce6b5-a8d6-4fb7-ae3c-1064295c2657",
   "metadata": {},
   "outputs": [
    {
     "name": "stdout",
     "output_type": "stream",
     "text": [
      "37.95\n"
     ]
    }
   ],
   "source": [
    "a = 5.5\n",
    "b = 6.9                # multiplication of two float numbers.\n",
    "c = a * b\n",
    "print(c)"
   ]
  },
  {
   "cell_type": "code",
   "execution_count": 35,
   "id": "bef49bf5-1792-4238-b7c9-0cddd0a6a558",
   "metadata": {},
   "outputs": [
    {
     "name": "stdout",
     "output_type": "stream",
     "text": [
      "2.2463768115942027\n"
     ]
    }
   ],
   "source": [
    "a = 15.5\n",
    "b = 6.9                # division of two float numbers.\n",
    "c = a / b\n",
    "print(c)"
   ]
  },
  {
   "cell_type": "code",
   "execution_count": 34,
   "id": "dde4cd61-2760-48d5-9417-11b1327b7a21",
   "metadata": {},
   "outputs": [
    {
     "name": "stdout",
     "output_type": "stream",
     "text": [
      "2.0\n"
     ]
    }
   ],
   "source": [
    "a = 15.58\n",
    "b = 6.9                # int division of two float numbers.\n",
    "c = a // b\n",
    "print(c)"
   ]
  },
  {
   "cell_type": "code",
   "execution_count": 28,
   "id": "be30a88f-fa03-4176-aa8b-fee6da33d1e1",
   "metadata": {},
   "outputs": [
    {
     "name": "stdout",
     "output_type": "stream",
     "text": [
      "128381.53306911257\n"
     ]
    }
   ],
   "source": [
    "a = 5.5\n",
    "b = 6.9                # power/square of two float numbers.\n",
    "c = a ** b\n",
    "print(c)"
   ]
  },
  {
   "cell_type": "markdown",
   "id": "77d6ee2a-09db-4288-9164-b329102a946c",
   "metadata": {},
   "source": [
    "# String Data Type :-\n",
    "\n",
    "    - In string Data Type we can store everything means (we can store everything instring data type\n",
    "        (int,float,bool,complex,special symbol,etc))\n",
    "    - Quots are complsory ...\n",
    "    - single quots (''),\n",
    "    - Double quots (\"\"),\n",
    "    - Triple quots (\"\"\" \"\"\")\n",
    "    "
   ]
  },
  {
   "cell_type": "code",
   "execution_count": 1,
   "id": "5a6ef802-672b-4647-9a50-e24f49c74376",
   "metadata": {},
   "outputs": [
    {
     "data": {
      "text/plain": [
       "'ABDUL MOIZ'"
      ]
     },
     "execution_count": 1,
     "metadata": {},
     "output_type": "execute_result"
    }
   ],
   "source": [
    "s = 'ABDUL MOIZ'         # We create a string. In Single Quots\n",
    "s"
   ]
  },
  {
   "cell_type": "code",
   "execution_count": 2,
   "id": "5819e501-2cb6-4023-aa4f-7fcf3ecd4ff9",
   "metadata": {},
   "outputs": [
    {
     "data": {
      "text/plain": [
       "'ABDUL MOIZ'"
      ]
     },
     "execution_count": 2,
     "metadata": {},
     "output_type": "execute_result"
    }
   ],
   "source": [
    "s = \"ABDUL MOIZ\"         # We create a string. In Double Quots\n",
    "s"
   ]
  },
  {
   "cell_type": "code",
   "execution_count": 3,
   "id": "b000673d-12d8-4400-8bca-2e4d7f4bcc39",
   "metadata": {},
   "outputs": [
    {
     "data": {
      "text/plain": [
       "'ABDUL MOIZ'"
      ]
     },
     "execution_count": 3,
     "metadata": {},
     "output_type": "execute_result"
    }
   ],
   "source": [
    "s = '''ABDUL MOIZ'''    # We create a string. In Triple Quots\n",
    "s"
   ]
  },
  {
   "cell_type": "code",
   "execution_count": 4,
   "id": "8e3a8c15-0caf-4857-9b4c-8199e32eed0f",
   "metadata": {},
   "outputs": [
    {
     "ename": "SyntaxError",
     "evalue": "unterminated string literal (detected at line 1) (508995553.py, line 1)",
     "output_type": "error",
     "traceback": [
      "  \u001b[36mCell\u001b[39m\u001b[36m \u001b[39m\u001b[32mIn[4]\u001b[39m\u001b[32m, line 1\u001b[39m\n\u001b[31m    \u001b[39m\u001b[31ms = 'MOIZ''\u001b[39m\n              ^\n\u001b[31mSyntaxError\u001b[39m\u001b[31m:\u001b[39m unterminated string literal (detected at line 1)\n"
     ]
    }
   ],
   "source": [
    "s = 'MOIZ''  \n",
    "s                       # do proper Quots"
   ]
  },
  {
   "cell_type": "code",
   "execution_count": 5,
   "id": "c1d24783-b214-48d8-9bce-a74b103da927",
   "metadata": {},
   "outputs": [
    {
     "data": {
      "text/plain": [
       "'hii my name is abdul moiz and i study in naresh it and i a from maharashtra'"
      ]
     },
     "execution_count": 5,
     "metadata": {},
     "output_type": "execute_result"
    }
   ],
   "source": [
    "\"hii my name is abdul moiz and i study in naresh it and i a from maharashtra\""
   ]
  },
  {
   "cell_type": "code",
   "execution_count": 8,
   "id": "2cf70cb1-a67b-4ebe-ab40-e7f5b844c3a7",
   "metadata": {},
   "outputs": [
    {
     "data": {
      "text/plain": [
       "'hii my name is abdul moiz \\nand i study in naresh it                \\nand i a from maharashtra'"
      ]
     },
     "execution_count": 8,
     "metadata": {},
     "output_type": "execute_result"
    }
   ],
   "source": [
    "'''hii my name is abdul moiz \n",
    "and i study in naresh it                \n",
    "and i a from maharashtra'''             # more than 2 and 3 line please use Triple Quots."
   ]
  },
  {
   "cell_type": "code",
   "execution_count": 12,
   "id": "e2d97735-a74b-4297-98ab-634d84151480",
   "metadata": {},
   "outputs": [
    {
     "name": "stdout",
     "output_type": "stream",
     "text": [
      "shaikh bagwan\n"
     ]
    }
   ],
   "source": [
    "s1 = 'shaikh '\n",
    "s2 = 'bagwan'          # Concagination\n",
    "s3 = s1 + s2\n",
    "print(s3)"
   ]
  },
  {
   "cell_type": "code",
   "execution_count": 15,
   "id": "0fe1b868-ea67-43fe-81c9-d9df3ac39e33",
   "metadata": {},
   "outputs": [
    {
     "data": {
      "text/plain": [
       "'s'"
      ]
     },
     "execution_count": 15,
     "metadata": {},
     "output_type": "execute_result"
    }
   ],
   "source": [
    "s1[0]                 # string indexing"
   ]
  },
  {
   "cell_type": "code",
   "execution_count": 19,
   "id": "735df099-9b73-4c9d-83ff-1c1eba2fd6d8",
   "metadata": {},
   "outputs": [
    {
     "data": {
      "text/plain": [
       "13"
      ]
     },
     "execution_count": 19,
     "metadata": {},
     "output_type": "execute_result"
    }
   ],
   "source": [
    "print(len(s1))\n",
    "print(len(s2))        # length of String\n",
    "print(len(s3))"
   ]
  },
  {
   "cell_type": "code",
   "execution_count": 21,
   "id": "ae52a261-c98b-4101-b666-b79287d69b10",
   "metadata": {},
   "outputs": [
    {
     "name": "stdout",
     "output_type": "stream",
     "text": [
      "2479055722928\n",
      "2479055723360\n",
      "2479055791792\n"
     ]
    }
   ],
   "source": [
    "print(id(s1))\n",
    "print(id(s2))         # Address of the String\n",
    "print(id(s3))"
   ]
  },
  {
   "cell_type": "code",
   "execution_count": 22,
   "id": "3533e9bd-71f8-4e11-b822-a18a7a3b3bd5",
   "metadata": {},
   "outputs": [
    {
     "data": {
      "text/plain": [
       "'hai'"
      ]
     },
     "execution_count": 22,
     "metadata": {},
     "output_type": "execute_result"
    }
   ],
   "source": [
    "s1[1 : 4]              # string Slicing."
   ]
  },
  {
   "cell_type": "markdown",
   "id": "812d93db-ee40-4760-bac4-2c2dcc45bc8d",
   "metadata": {},
   "source": [
    "# Boolean Data Type :-\n",
    "\n",
    "    - Boolean Data Type in python gives two (2) values,\n",
    "    - First one is (True)\n",
    "    - Second is (False)\n",
    "\n",
    "    - Booleans are mostly used in decision making.\n",
    "\n",
    "    -  Important Points\n",
    "                        (1) True and False start with capital letters.\n",
    "                        (2)True is equal to 1, and False is equal to 0.\n",
    "\n",
    "                            \n",
    "    🔹 Boolean Conversion with bool():\n",
    "        You can convert other types to Boolean using bool()\n",
    "                            \n",
    "                            - bool(1)         # True\n",
    "                            - bool(0)         # False\n",
    "                            - bool(\"hello\")   # True\n",
    "                            - bool(\"\")        # False\n",
    "                            - bool([])        # False\n",
    "                            - bool([1,2])     # True\n"
   ]
  },
  {
   "cell_type": "code",
   "execution_count": 23,
   "id": "830f382e-ddb7-4d5c-bc0e-9d26f92d04a1",
   "metadata": {},
   "outputs": [
    {
     "data": {
      "text/plain": [
       "True"
      ]
     },
     "execution_count": 23,
     "metadata": {},
     "output_type": "execute_result"
    }
   ],
   "source": [
    "a = True\n",
    "a                        # Boolean Data Type"
   ]
  },
  {
   "cell_type": "code",
   "execution_count": 24,
   "id": "3a04c663-1b94-4780-9e52-ed97b9661502",
   "metadata": {},
   "outputs": [
    {
     "data": {
      "text/plain": [
       "False"
      ]
     },
     "execution_count": 24,
     "metadata": {},
     "output_type": "execute_result"
    }
   ],
   "source": [
    "b = False\n",
    "b"
   ]
  },
  {
   "cell_type": "code",
   "execution_count": 25,
   "id": "b3c30f4a-cc71-44fd-9c46-c06d72344668",
   "metadata": {},
   "outputs": [
    {
     "name": "stdout",
     "output_type": "stream",
     "text": [
      "<class 'bool'>\n",
      "<class 'bool'>\n"
     ]
    }
   ],
   "source": [
    "print(type(a))\n",
    "print(type(b))           # Data type"
   ]
  },
  {
   "cell_type": "code",
   "execution_count": 26,
   "id": "58c9559f-f622-41bc-82fc-bbed890c1390",
   "metadata": {},
   "outputs": [
    {
     "name": "stdout",
     "output_type": "stream",
     "text": [
      "140735716313568\n",
      "140735716313600\n"
     ]
    }
   ],
   "source": [
    "print(id(a))\n",
    "print(id(b))             # Address of the a and b..."
   ]
  },
  {
   "cell_type": "markdown",
   "id": "7b11925f-66de-456b-9382-30e866df0cbd",
   "metadata": {},
   "source": [
    "# Complex Data Type :- \n",
    "\n",
    "(1 + 2j) and (1 + 2J) '1' is \"real part\" and '2j' is \"imagnary part\"\n",
    "\n",
    "A complex number has a real part and an imaginary part.\n",
    "\n",
    "In Python, the complex type is used to represent complex numbers, which consist of a real \n",
    "and an imaginary part.  \n",
    "You can create complex numbers and perform mathematical operations on them using the \n",
    "built-in support for complex numbers.\n",
    "\n",
    "Creating a Complex Number \n",
    "\n",
    "    A complex number is created by appending the letter j (or J) to the imaginary part. The \n",
    "format is:\n",
    "\n",
    "You can access the real and imaginary parts of a complex number using the .real and .imag \n",
    "attributes:"
   ]
  },
  {
   "cell_type": "code",
   "execution_count": 1,
   "id": "86f852cb-8026-4f5e-83c3-d4084abcf68c",
   "metadata": {},
   "outputs": [
    {
     "data": {
      "text/plain": [
       "(1+2j)"
      ]
     },
     "execution_count": 1,
     "metadata": {},
     "output_type": "execute_result"
    }
   ],
   "source": [
    "a = (1 + 2j)\n",
    "a"
   ]
  },
  {
   "cell_type": "code",
   "execution_count": 2,
   "id": "ebcd70c0-7bd6-4140-8e13-a0a41cc71c39",
   "metadata": {},
   "outputs": [
    {
     "name": "stdout",
     "output_type": "stream",
     "text": [
      "<class 'complex'>\n"
     ]
    }
   ],
   "source": [
    "print(type(a))             # Complex data type"
   ]
  },
  {
   "cell_type": "code",
   "execution_count": 3,
   "id": "b047db4b-e1ed-4766-a811-d966518ef208",
   "metadata": {},
   "outputs": [
    {
     "data": {
      "text/plain": [
       "1.0"
      ]
     },
     "execution_count": 3,
     "metadata": {},
     "output_type": "execute_result"
    }
   ],
   "source": [
    "a.real                     # 1 is real part"
   ]
  },
  {
   "cell_type": "code",
   "execution_count": 4,
   "id": "bbd81b61-91a8-41f2-8cf3-917b3e97c4a7",
   "metadata": {},
   "outputs": [
    {
     "data": {
      "text/plain": [
       "2.0"
      ]
     },
     "execution_count": 4,
     "metadata": {},
     "output_type": "execute_result"
    }
   ],
   "source": [
    "a.imag                     # 2j is the imagnary part"
   ]
  },
  {
   "cell_type": "code",
   "execution_count": 5,
   "id": "f1179b94-d1e6-461e-9f81-2bf382b5ad1d",
   "metadata": {},
   "outputs": [
    {
     "name": "stdout",
     "output_type": "stream",
     "text": [
      "(30+60j)\n"
     ]
    }
   ],
   "source": [
    "a = 10 + 20j               # Addition of tw ocomplex numbers\n",
    "b = 20 + 40j               # python is add only real part to real part, and imagnary part to imagnary part\n",
    "c = a + b\n",
    "print(c)"
   ]
  },
  {
   "cell_type": "code",
   "execution_count": 6,
   "id": "a87a2419-6c3b-4a06-b9a3-f9bcaf0249ed",
   "metadata": {},
   "outputs": [],
   "source": [
    "s = 'MOIZ'"
   ]
  },
  {
   "cell_type": "code",
   "execution_count": 7,
   "id": "11bcde55-5dab-446d-b44a-49c3a1cb82de",
   "metadata": {},
   "outputs": [
    {
     "data": {
      "text/plain": [
       "'M'"
      ]
     },
     "execution_count": 7,
     "metadata": {},
     "output_type": "execute_result"
    }
   ],
   "source": [
    "s[0]                      # indexing"
   ]
  },
  {
   "cell_type": "code",
   "execution_count": 8,
   "id": "8b22ebb0-5d33-4789-a4de-ea81cf4facb0",
   "metadata": {},
   "outputs": [
    {
     "data": {
      "text/plain": [
       "'O'"
      ]
     },
     "execution_count": 8,
     "metadata": {},
     "output_type": "execute_result"
    }
   ],
   "source": [
    "s[1]                      # indexing"
   ]
  }
 ],
 "metadata": {
  "kernelspec": {
   "display_name": "Python 3 (ipykernel)",
   "language": "python",
   "name": "python3"
  },
  "language_info": {
   "codemirror_mode": {
    "name": "ipython",
    "version": 3
   },
   "file_extension": ".py",
   "mimetype": "text/x-python",
   "name": "python",
   "nbconvert_exporter": "python",
   "pygments_lexer": "ipython3",
   "version": "3.13.5"
  }
 },
 "nbformat": 4,
 "nbformat_minor": 5
}
