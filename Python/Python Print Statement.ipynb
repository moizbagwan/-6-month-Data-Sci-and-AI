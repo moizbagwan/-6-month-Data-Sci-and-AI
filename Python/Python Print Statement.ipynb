{
 "cells": [
  {
   "cell_type": "markdown",
   "id": "77411cbd-e272-4acb-9feb-beb8d7bd1581",
   "metadata": {},
   "source": [
    "# Print Format Method"
   ]
  },
  {
   "cell_type": "code",
   "execution_count": 3,
   "id": "a515cff4-075a-4273-b39e-19b23e0b2a31",
   "metadata": {},
   "outputs": [],
   "source": [
    "num1 = 20            # addition of 2 numbers using format method\n",
    "num2 = 30\n",
    "add = num1 + num2      #first deside how the print statement should be \n",
    "                      #like:- The addition of 20 and 30 is = 50  \n",
    "                     #then replace the variable position with curly brtacesm { } \n",
    "                    #then appply .format(val1,val2,....val-n methodm "
   ]
  },
  {
   "cell_type": "code",
   "execution_count": 4,
   "id": "0da20a94-f7f6-45d9-94d2-343038f4e445",
   "metadata": {},
   "outputs": [
    {
     "name": "stdout",
     "output_type": "stream",
     "text": [
      "the addition of 20 and 30 is = 50\n"
     ]
    }
   ],
   "source": [
    "print('the addition of {} and {} is = {}'.format(num1,num2,add))"
   ]
  },
  {
   "cell_type": "code",
   "execution_count": 5,
   "id": "d511dfcb-bd27-4cbf-ba0f-6b95a94e5ee3",
   "metadata": {},
   "outputs": [],
   "source": [
    "num1 = 20            # addition of 2 numbers \n",
    "num2 = 30\n",
    "num3 = 30\n",
    "add = num1 + num2 + num3"
   ]
  },
  {
   "cell_type": "code",
   "execution_count": 6,
   "id": "75c86cab-5706-47e6-b9bd-17a7ebe18d7c",
   "metadata": {},
   "outputs": [
    {
     "name": "stdout",
     "output_type": "stream",
     "text": [
      "the addition of 20 and 30 and 30 is = 80\n"
     ]
    }
   ],
   "source": [
    "print('the addition of {} and {} and {} is = {}'.format(num1,num2,num3,add))"
   ]
  },
  {
   "cell_type": "code",
   "execution_count": 7,
   "id": "c7d0e077-f1fb-40e0-aa8e-a4ecd897db21",
   "metadata": {},
   "outputs": [],
   "source": [
    "num1 = 20            # addition of 3 numbers \n",
    "num2 = 30\n",
    "add = num1 + num2 +num3"
   ]
  },
  {
   "cell_type": "code",
   "execution_count": 8,
   "id": "5901e2de-46dd-4c3e-a488-e5c799830448",
   "metadata": {},
   "outputs": [
    {
     "name": "stdout",
     "output_type": "stream",
     "text": [
      "the addition of 20 and 30 and 30 is = 80\n"
     ]
    }
   ],
   "source": [
    "print('the addition of {} and {} and {} is = {}'.format(num1,num2,num3,add))"
   ]
  },
  {
   "cell_type": "code",
   "execution_count": 9,
   "id": "9be68b8d-90d5-4df4-bd89-22782809b7af",
   "metadata": {},
   "outputs": [],
   "source": [
    "name = 'Python'\n",
    "age = 20\n",
    "city = 'Hydrabad'         # # hello my mane is python and i an 20 years old from hydrabad. make like this\n"
   ]
  },
  {
   "cell_type": "code",
   "execution_count": 10,
   "id": "12648706-ce4a-4351-ac75-e79b56e4c2c5",
   "metadata": {},
   "outputs": [
    {
     "name": "stdout",
     "output_type": "stream",
     "text": [
      "hello my name is Python , and i am 20 years old ,from Hydrabad\n"
     ]
    }
   ],
   "source": [
    "print('hello my name is {} , and i am {} years old ,from {}'.format(name,age,city))"
   ]
  },
  {
   "cell_type": "code",
   "execution_count": 4,
   "id": "fd23f34e-291a-4f60-8199-e507009b7fba",
   "metadata": {},
   "outputs": [
    {
     "name": "stdout",
     "output_type": "stream",
     "text": [
      "The average of 100, 25, is = 333 or 152.66666666666666\n"
     ]
    }
   ],
   "source": [
    "num1 = 100\n",
    "num2 = 25\n",
    "num3 = 333\n",
    "\n",
    "avg = (num1 + num2 + num3)/3      # we can use avg = round ((num1 + num2 + num3)/3,2)\n",
    "avg1 = round((num1 + num2 + num3)/3,2)\n",
    "\n",
    "print('The average of {}, {}, is = {} or {}'.format(num1,num2,num3,avg,avg1))  # here we can use round(avg,2) also"
   ]
  },
  {
   "cell_type": "code",
   "execution_count": 5,
   "id": "688059ff-0573-47e5-9aef-d75922bf79df",
   "metadata": {},
   "outputs": [
    {
     "data": {
      "text/plain": [
       "152.67"
      ]
     },
     "execution_count": 5,
     "metadata": {},
     "output_type": "execute_result"
    }
   ],
   "source": [
    "round(avg,2) "
   ]
  },
  {
   "cell_type": "markdown",
   "id": "29bcdb42-2d7d-417f-be39-708181dc725b",
   "metadata": {},
   "source": [
    "# More short format meythod(f string method) \n",
    "\n",
    "    - Variable shoud be in Curly braces.\n",
    "    - And write everything inside quots ''.\n",
    "    - At starting simply add f."
   ]
  },
  {
   "cell_type": "code",
   "execution_count": 6,
   "id": "ecdf86cd-e755-488a-bee8-41f5d5d1de73",
   "metadata": {},
   "outputs": [],
   "source": [
    "num1 = 20\n",
    "num2 = 30"
   ]
  },
  {
   "cell_type": "code",
   "execution_count": 8,
   "id": "7ece54b2-5b1a-44a7-945b-3c1eba06501f",
   "metadata": {},
   "outputs": [
    {
     "name": "stdout",
     "output_type": "stream",
     "text": [
      "The addition of 20 and 30 is = 50\n"
     ]
    }
   ],
   "source": [
    "add = num1 + num2\n",
    "print(f'The addition of {num1} and {num2} is = {add}')        # always prefer this."
   ]
  },
  {
   "cell_type": "code",
   "execution_count": 9,
   "id": "3de0cbde-cfff-4eb3-9609-6edaa65429ea",
   "metadata": {},
   "outputs": [],
   "source": [
    "name='Python' \n",
    "age=20 \n",
    "city='hyd'      #hellow my name is python and i am 10 year old from hydrabad "
   ]
  },
  {
   "cell_type": "code",
   "execution_count": 11,
   "id": "96bbb4ed-41f9-43f3-94d0-4943d2651c85",
   "metadata": {},
   "outputs": [
    {
     "name": "stdout",
     "output_type": "stream",
     "text": [
      "hello my name is Python , and i am 20 year old , from hyd.\n"
     ]
    }
   ],
   "source": [
    "print(f'hello my name is {name} , and i am {age} year old , from {city}.')"
   ]
  },
  {
   "cell_type": "code",
   "execution_count": 12,
   "id": "95b1358a-99e1-4a08-bd6c-614551ffd447",
   "metadata": {},
   "outputs": [],
   "source": [
    "num1=100 \n",
    "num2=25 \n",
    "num3=333 \n",
    "avg=round((num1+num2+num3)/3,2) # or we can use avg=round(num1+num2+num3)/3,2) \n",
    "                                # The avrage of num1,num2,num3 is = avg"
   ]
  },
  {
   "cell_type": "code",
   "execution_count": 13,
   "id": "99fcd026-930a-4f6a-99f3-6fbc81c472f4",
   "metadata": {},
   "outputs": [
    {
     "name": "stdout",
     "output_type": "stream",
     "text": [
      "The avrage of 100, 25 and 333 is = 152.67\n"
     ]
    }
   ],
   "source": [
    "print(f'The avrage of {num1}, {num2} and {num3} is = {avg}') "
   ]
  },
  {
   "cell_type": "code",
   "execution_count": 14,
   "id": "083c328b-4f71-4b1c-94ff-27de25435e8e",
   "metadata": {},
   "outputs": [
    {
     "name": "stdout",
     "output_type": "stream",
     "text": [
      "The addition of 10 and 20 is= 30\n",
      "The addition of 10 and 20 is= 30\n",
      "The addition of 10 and 20 is= 30\n"
     ]
    }
   ],
   "source": [
    "# lete combine all \n",
    "num1=10 \n",
    "num2=20 \n",
    "add = num1+ num2 \n",
    "print('The addition of',num1,'and',num2,'is=',add) \n",
    "print('The addition of {} and {} is= {}'.format(num1,num2,add)) \n",
    "print(f'The addition of {num1} and {num2} is= {add}') "
   ]
  },
  {
   "cell_type": "markdown",
   "id": "6ebf8873-b4a4-4634-862b-84ac4bd4aa2c",
   "metadata": {},
   "source": [
    "# End Statement \n",
    "\n",
    "- Here we will use end statement that joint line from end of one string to starting of other \n",
    "string "
   ]
  },
  {
   "cell_type": "code",
   "execution_count": 15,
   "id": "c2e9b86b-13ba-4d62-b1fc-6b5f274263e2",
   "metadata": {},
   "outputs": [
    {
     "name": "stdout",
     "output_type": "stream",
     "text": [
      "hello\n",
      "good moorning\n"
     ]
    }
   ],
   "source": [
    "print('hello') # 1st statement \n",
    "print('good moorning') # 2nd statement) \n",
    "                       # i want print like:- hellow good morning "
   ]
  },
  {
   "cell_type": "code",
   "execution_count": 16,
   "id": "56498e5e-7d5c-471c-8237-d0d648b16a26",
   "metadata": {},
   "outputs": [
    {
     "name": "stdout",
     "output_type": "stream",
     "text": [
      "hello world good day\n"
     ]
    }
   ],
   "source": [
    "print('hello', end=' ') # 1st statement \n",
    "print('world good day') # 2nd statement "
   ]
  },
  {
   "cell_type": "code",
   "execution_count": 18,
   "id": "aaa51d4f-e44a-4d19-bf4d-78dd73006fb7",
   "metadata": {},
   "outputs": [
    {
     "name": "stdout",
     "output_type": "stream",
     "text": [
      "hellomoiz "
     ]
    }
   ],
   "source": [
    "print('hello', end='moiz ') # 1st statement "
   ]
  },
  {
   "cell_type": "markdown",
   "id": "0e9a2b0a-3d68-48f2-a056-8e07b052a1d9",
   "metadata": {},
   "source": [
    "# Seprator \n",
    "\n",
    "- here one print statement only we use \n",
    " \n",
    "- insisde one print statement we have multipal values \n",
    " \n",
    "- we want to seperate these multipal values with anything "
   ]
  },
  {
   "cell_type": "code",
   "execution_count": 21,
   "id": "1a5e12a1-7fb3-40b8-a0b1-a3adc401f06d",
   "metadata": {},
   "outputs": [
    {
     "name": "stdout",
     "output_type": "stream",
     "text": [
      "hello---->hii---->how are you\n"
     ]
    }
   ],
   "source": [
    "print(\"hello\", \"hii\", \"how are you\" ,sep= \"---->\")         # seprate print method"
   ]
  },
  {
   "cell_type": "code",
   "execution_count": 22,
   "id": "415dac7f-4035-4c7e-a116-3ac69bba4f51",
   "metadata": {},
   "outputs": [
    {
     "name": "stdout",
     "output_type": "stream",
     "text": [
      "hello&hai&how are you\n"
     ]
    }
   ],
   "source": [
    "print('hello','hai','how are you',sep='&')     # seprate print method"
   ]
  },
  {
   "cell_type": "code",
   "execution_count": 23,
   "id": "d37273c3-5669-4512-a239-e75c365ab0c2",
   "metadata": {},
   "outputs": [
    {
     "name": "stdout",
     "output_type": "stream",
     "text": [
      "hello@hai@how are you\n"
     ]
    }
   ],
   "source": [
    "print('hello','hai','how are you',sep='@') "
   ]
  },
  {
   "cell_type": "code",
   "execution_count": 24,
   "id": "7f8a3ef8-73a5-4934-b6c5-4a4c90e196a0",
   "metadata": {},
   "outputs": [
    {
     "name": "stdout",
     "output_type": "stream",
     "text": [
      "hello hai how are you\n"
     ]
    }
   ],
   "source": [
    "print('hello','hai','how are you',sep=' ') "
   ]
  },
  {
   "cell_type": "code",
   "execution_count": null,
   "id": "0bdc6da1-d99b-4ca8-92bb-459c708b3c64",
   "metadata": {},
   "outputs": [],
   "source": [
    "rint(3,'.') # . is far from 3 so here we will use sep method "
   ]
  }
 ],
 "metadata": {
  "kernelspec": {
   "display_name": "Python 3 (ipykernel)",
   "language": "python",
   "name": "python3"
  },
  "language_info": {
   "codemirror_mode": {
    "name": "ipython",
    "version": 3
   },
   "file_extension": ".py",
   "mimetype": "text/x-python",
   "name": "python",
   "nbconvert_exporter": "python",
   "pygments_lexer": "ipython3",
   "version": "3.13.5"
  }
 },
 "nbformat": 4,
 "nbformat_minor": 5
}
