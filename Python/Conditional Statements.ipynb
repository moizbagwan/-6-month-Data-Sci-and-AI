{
 "cells": [
  {
   "cell_type": "markdown",
   "id": "03042a6e-46ec-4463-b4dd-ad35c5840882",
   "metadata": {},
   "source": [
    "# Conditional Statements:\n",
    "\n",
    "**Definition\n",
    "\n",
    "    Conditional statements are used to make decisions in a program. They execute code based on conditions (True/False).\n",
    "    \n",
    "**Notes\n",
    "\n",
    "    - Conditions use comparison operators (==, !=, >, <, >=, <=) and logical operators (and, or, not).\n",
    "    - Indentation is very important in Python.\n",
    "    - Conditions are checked top to bottom. First match is executed.\n",
    "\n",
    "**Types of Conditional Statements in Python\n",
    "\n",
    "    if statement:\n",
    "                (Runs a block of code if the condition is True.)\n",
    "    if...else statement:\n",
    "                       ( Runs one block if condition is True, otherwise runs another block.)\n",
    "\n",
    "    if...elif...else statement:\n",
    "                                (Used for multiple conditions.)\n",
    "    Nested if statement:\n",
    "                       ( An if inside another if.)\n",
    "\n",
    "**Summary\n",
    "\n",
    "    - if → check one condition\n",
    "    - if...else → two-way decision\n",
    "    - if...elif...else → many conditions\n",
    "    - nested if → one condition inside another"
   ]
  },
  {
   "cell_type": "code",
   "execution_count": 6,
   "id": "968e4a1f-ebe1-4716-ba6a-d816283364a7",
   "metadata": {},
   "outputs": [
    {
     "name": "stdout",
     "output_type": "stream",
     "text": [
      "DATA SCIENCE\n"
     ]
    }
   ],
   "source": [
    "if True:\n",
    "    print(\"DATA SCIENCE\")"
   ]
  },
  {
   "cell_type": "code",
   "execution_count": 7,
   "id": "c74ed70f-e1bf-418d-bbb3-64a610bcb1a3",
   "metadata": {},
   "outputs": [
    {
     "name": "stdout",
     "output_type": "stream",
     "text": [
      "GOOD BYE\n"
     ]
    }
   ],
   "source": [
    "if False:\n",
    "   print(\"DATA SCIENCE\")\n",
    "print(\"GOOD BYE\")"
   ]
  },
  {
   "cell_type": "code",
   "execution_count": 10,
   "id": "fc649d56-d96b-48ca-8a56-35cae623f6ee",
   "metadata": {},
   "outputs": [
    {
     "name": "stdout",
     "output_type": "stream",
     "text": [
      "Data Science\n"
     ]
    }
   ],
   "source": [
    "if True:\n",
    "    print('Data Science')\n",
    "else:\n",
    "    print('bye for now')"
   ]
  },
  {
   "cell_type": "code",
   "execution_count": 11,
   "id": "1d940734-c161-4236-9848-b6b05ffdd762",
   "metadata": {},
   "outputs": [
    {
     "name": "stdout",
     "output_type": "stream",
     "text": [
      "bye for now\n"
     ]
    }
   ],
   "source": [
    "if False:\n",
    "    print('Data Science')\n",
    "else:\n",
    "    print('bye for now')"
   ]
  },
  {
   "cell_type": "code",
   "execution_count": 15,
   "id": "151cb8b3-28db-4768-89c5-9b439fb1435f",
   "metadata": {},
   "outputs": [
    {
     "name": "stdout",
     "output_type": "stream",
     "text": [
      "Even Number\n"
     ]
    }
   ],
   "source": [
    "x = 4 \n",
    "r = x % 2\n",
    "if r == 0:\n",
    "    print(\"Even Number\")"
   ]
  },
  {
   "cell_type": "code",
   "execution_count": 16,
   "id": "c9e55ebd-0db4-4bec-a3c3-bb10de07ecdb",
   "metadata": {},
   "outputs": [
    {
     "name": "stdout",
     "output_type": "stream",
     "text": [
      "Odd Number\n"
     ]
    }
   ],
   "source": [
    "x = 5\n",
    "r = x % 2\n",
    "\n",
    "if r == 0:\n",
    "    print(\"Even Number\")\n",
    "else:\n",
    "    print(\"Odd Number\")"
   ]
  },
  {
   "cell_type": "code",
   "execution_count": 17,
   "id": "42cbf408-fc10-4d8b-83a4-a17633043539",
   "metadata": {},
   "outputs": [
    {
     "name": "stdout",
     "output_type": "stream",
     "text": [
      "Even Number\n"
     ]
    }
   ],
   "source": [
    "x = 4 \n",
    "r = x % 2\n",
    "\n",
    "if r == 0:\n",
    "    print(\"Even Number\")\n",
    "\n",
    "if r == 1:                    # Do not use multiple if it takes more memory space.\n",
    "    print(\"Odd Number\")\n",
    "\n",
    "if r == 2:\n",
    "    print(\"even number\")\n"
   ]
  },
  {
   "cell_type": "code",
   "execution_count": 19,
   "id": "70604de1-6f60-44bb-8b36-d67636c65997",
   "metadata": {},
   "outputs": [
    {
     "name": "stdout",
     "output_type": "stream",
     "text": [
      "one\n"
     ]
    }
   ],
   "source": [
    "x = 1\n",
    "\n",
    "if x == 1:\n",
    "    print('one')\n",
    "if x == 2:\n",
    "    print('Two')       # Do not use multiple if, it takes more space in memory.\n",
    "if x == 3:\n",
    "    print('Three')\n",
    "if x == 4:\n",
    "    print('four')"
   ]
  },
  {
   "cell_type": "code",
   "execution_count": 23,
   "id": "dd9e646e-52b8-46b2-83e4-e0169c25f121",
   "metadata": {},
   "outputs": [
    {
     "name": "stdout",
     "output_type": "stream",
     "text": [
      "Even number\n"
     ]
    }
   ],
   "source": [
    "x = 4\n",
    "r = x % 2\n",
    "\n",
    "if r == 0:\n",
    "    print('Even number')\n",
    "else:\n",
    "    print('Odd Number')"
   ]
  },
  {
   "cell_type": "code",
   "execution_count": 21,
   "id": "b0e6177d-4067-4e48-8f09-e60225c223f6",
   "metadata": {},
   "outputs": [
    {
     "name": "stdout",
     "output_type": "stream",
     "text": [
      "Even Number\n"
     ]
    }
   ],
   "source": [
    "# Optimized the above code:\n",
    "\n",
    "x = 4\n",
    "\n",
    "if x % 2 == 0:\n",
    "    print(\"Even Number\")\n",
    "else:\n",
    "    print(\"Odd Number\")"
   ]
  },
  {
   "cell_type": "code",
   "execution_count": 25,
   "id": "7d8c7686-b335-4f2d-a3e3-5c074f0122ea",
   "metadata": {},
   "outputs": [
    {
     "name": "stdout",
     "output_type": "stream",
     "text": [
      "Less than Five: 3\n"
     ]
    }
   ],
   "source": [
    "a = 3\n",
    "\n",
    "if a > 5:\n",
    "    print(\"Greater than five:\",a)\n",
    "else:\n",
    "    print(\"Less than Five:\",a)\n"
   ]
  },
  {
   "cell_type": "code",
   "execution_count": 27,
   "id": "d8b46778-241c-4d16-a16c-6b94afbef99b",
   "metadata": {},
   "outputs": [
    {
     "name": "stdin",
     "output_type": "stream",
     "text": [
      "Enter the number : 2\n"
     ]
    },
    {
     "name": "stdout",
     "output_type": "stream",
     "text": [
      "Even Number: 2\n"
     ]
    }
   ],
   "source": [
    "# Input from user:\n",
    "\n",
    "num = int(input(\"Enter the number :\"))\n",
    "\n",
    "if num % 2 == 0:\n",
    "    print(\"Even Number:\",num)\n",
    "else:\n",
    "    print(\"Odd Number:\",num)"
   ]
  },
  {
   "cell_type": "code",
   "execution_count": 32,
   "id": "2ec260b7-041c-420c-982e-de386db47ba1",
   "metadata": {},
   "outputs": [
    {
     "name": "stdout",
     "output_type": "stream",
     "text": [
      "Even Number: 4\n"
     ]
    }
   ],
   "source": [
    "# Nested IF:\n",
    "\n",
    "x = 4\n",
    "if x % 2 == 0:\n",
    "    print(\"Even Number:\",x)\n",
    "    if x > 5:\n",
    "        print(\"Greater Number:\",x)\n",
    "else:\n",
    "    print(\"Odd Number\")"
   ]
  },
  {
   "cell_type": "code",
   "execution_count": 38,
   "id": "a3127581-ec94-4e9c-9241-e21b099331e5",
   "metadata": {},
   "outputs": [
    {
     "name": "stdout",
     "output_type": "stream",
     "text": [
      "Odd Number\n"
     ]
    }
   ],
   "source": [
    "# Nested IF:\n",
    "\n",
    "x = 7\n",
    "if x % 2 == 0:\n",
    "    print(\"Even Number:\",x)\n",
    "    if x > 5:\n",
    "        print(\"Greater Number:\",x)\n",
    "else:\n",
    "    print(\"Odd Number\")"
   ]
  },
  {
   "cell_type": "code",
   "execution_count": 36,
   "id": "5da7885d-0fcf-4f37-9182-14cd0712337f",
   "metadata": {},
   "outputs": [
    {
     "name": "stdin",
     "output_type": "stream",
     "text": [
      "Enter the Number : 7\n"
     ]
    },
    {
     "name": "stdout",
     "output_type": "stream",
     "text": [
      "Odd Number\n"
     ]
    }
   ],
   "source": [
    "# Input From User:\n",
    "\n",
    "# Nested IF:\n",
    "\n",
    "x = int(input(\"Enter the Number :\"))\n",
    "if x % 2 == 0:\n",
    "    print(\"Even Number:\",x)\n",
    "    if x > 5:\n",
    "        print(\"Greater Number:\",x)\n",
    "else:\n",
    "    print(\"Odd Number\")"
   ]
  },
  {
   "cell_type": "code",
   "execution_count": 40,
   "id": "65ddc082-9c60-495b-bd09-cf13c0a5f1db",
   "metadata": {},
   "outputs": [
    {
     "name": "stdin",
     "output_type": "stream",
     "text": [
      "Enter the Number : 6\n"
     ]
    },
    {
     "name": "stdout",
     "output_type": "stream",
     "text": [
      "Even Number: 6\n",
      "Greater Number: 6\n"
     ]
    }
   ],
   "source": [
    "# Input From User:\n",
    "\n",
    "# Nested IF:\n",
    "\n",
    "x = int(input(\"Enter the Number :\"))\n",
    "if x % 2 == 0:\n",
    "    print(\"Even Number:\",x)\n",
    "    if x > 5:\n",
    "        print(\"Greater Number:\",x)\n",
    "    else:\n",
    "        print(\"Number is Lesser\")\n",
    "else:\n",
    "    print(\"Odd Number\")\n",
    "    "
   ]
  },
  {
   "cell_type": "code",
   "execution_count": 43,
   "id": "e62fdb84-bfcd-4745-a340-fa59d71e752a",
   "metadata": {},
   "outputs": [
    {
     "name": "stdout",
     "output_type": "stream",
     "text": [
      "one\n"
     ]
    }
   ],
   "source": [
    "# If...elif...else :\n",
    "\n",
    "# elif it wont check till the block once you find the output it wont go to next line\n",
    "# you can try with multiple parameter 1, 2 & 3 value in x \n",
    "\n",
    "x = 1\n",
    "\n",
    "if(x == 1):\n",
    "    print('one')\n",
    "elif(x == 2):\n",
    "    print('Two')\n",
    "elif(x == 3):\n",
    "    print('Three')\n",
    "elif(x == 4):\n",
    "    print('four')"
   ]
  },
  {
   "cell_type": "code",
   "execution_count": 44,
   "id": "7c25d9a5-667a-4bed-9020-3ad23321ac11",
   "metadata": {},
   "outputs": [],
   "source": [
    "# elif it wont check till the block once you find the output it wont go to next line\n",
    "# you can try with multiple parameter 1, 2 & 3 value in x \n",
    "\n",
    "x = 7\n",
    "\n",
    "if(x == 1):\n",
    "    print('one')\n",
    "elif(x == 2):\n",
    "    print('Two')\n",
    "elif(x == 3):\n",
    "    print('Three')\n",
    "elif(x == 4):\n",
    "    print('four')"
   ]
  },
  {
   "cell_type": "code",
   "execution_count": 45,
   "id": "b605cda7-fcc8-4fb5-9825-3039d2a958d8",
   "metadata": {},
   "outputs": [
    {
     "name": "stdout",
     "output_type": "stream",
     "text": [
      "number not found\n"
     ]
    }
   ],
   "source": [
    "# elif it wont check till the block once you find the output it wont go to next line\n",
    "# you can try with multiple parameter 1, 2 & 3 value in x \n",
    "\n",
    "x = 7\n",
    "\n",
    "if(x == 1):\n",
    "    print('one')\n",
    "    \n",
    "elif(x == 2):\n",
    "    print('Two')\n",
    "elif(x == 3):\n",
    "    print('Three')\n",
    "elif(x == 4):\n",
    "    print('four')\n",
    "\n",
    "else:\n",
    "    print('number not found')"
   ]
  },
  {
   "cell_type": "code",
   "execution_count": 47,
   "id": "6ce656e2-2d0f-47f4-88fd-6807272ff9d3",
   "metadata": {},
   "outputs": [
    {
     "name": "stdout",
     "output_type": "stream",
     "text": [
      "Third Number is Greatest : 30\n"
     ]
    }
   ],
   "source": [
    "# Write a program to find greatest number.\n",
    "\n",
    "num1 = 10\n",
    "num2 = 15\n",
    "num3 = 30\n",
    "if num1 > num2 and num > num3:\n",
    "    print(\"First Number is Greatest :\",num1)\n",
    "elif num2 > num3:\n",
    "    print(\"Second Number is Greatest :\",num2)\n",
    "else:\n",
    "    print(\"Third Number is Greatest :\",num3)\n",
    "    "
   ]
  },
  {
   "cell_type": "code",
   "execution_count": 48,
   "id": "051f328d-ce9a-4c90-b41c-04e172a5d5c7",
   "metadata": {},
   "outputs": [
    {
     "name": "stdin",
     "output_type": "stream",
     "text": [
      "Enter the First Number : 23\n",
      "Enter the Second Number : 67\n",
      "Enter the Third Number : 78\n"
     ]
    },
    {
     "name": "stdout",
     "output_type": "stream",
     "text": [
      "Third Number is Greatest : 78\n"
     ]
    }
   ],
   "source": [
    "# Write a program to find greatest number entered by user.\n",
    "\n",
    "num1 = int(input(\"Enter the First Number :\"))\n",
    "num2 = int(input(\"Enter the Second Number :\"))\n",
    "num3 = int(input(\"Enter the Third Number :\"))\n",
    "\n",
    "if num1 > num2 and num > num3:\n",
    "    print(\"First Number is Greatest :\",num1)\n",
    "elif num2 > num3:\n",
    "    print(\"Second Number is Greatest :\",num2)\n",
    "else:\n",
    "    print(\"Third Number is Greatest :\",num3)\n",
    "    "
   ]
  }
 ],
 "metadata": {
  "kernelspec": {
   "display_name": "Python 3 (ipykernel)",
   "language": "python",
   "name": "python3"
  },
  "language_info": {
   "codemirror_mode": {
    "name": "ipython",
    "version": 3
   },
   "file_extension": ".py",
   "mimetype": "text/x-python",
   "name": "python",
   "nbconvert_exporter": "python",
   "pygments_lexer": "ipython3",
   "version": "3.13.5"
  },
  "widgets": {
   "application/vnd.jupyter.widget-state+json": {
    "state": {},
    "version_major": 2,
    "version_minor": 0
   }
  }
 },
 "nbformat": 4,
 "nbformat_minor": 5
}
