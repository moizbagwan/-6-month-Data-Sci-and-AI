{
 "cells": [
  {
   "cell_type": "code",
   "execution_count": 1,
   "id": "72272c3e-9aba-47d4-bba6-f20dd9c1473f",
   "metadata": {},
   "outputs": [
    {
     "name": "stdout",
     "output_type": "stream",
     "text": [
      "MSE: 0.0\n",
      "R2 Score: 1.0\n"
     ]
    },
    {
     "data": {
      "image/png": "[encoded data removed]",
      "text/plain": [
       "<Figure size 640x480 with 1 Axes>"
      ]
     },
     "metadata": {},
     "output_type": "display_data"
    }
   ],
   "source": [
    "import pandas as pd\n",
    "from sklearn.model_selection import train_test_split\n",
    "from sklearn.linear_model import LinearRegression\n",
    "from sklearn.metrics import mean_squared_error, r2_score\n",
    "import matplotlib.pyplot as plt\n",
    "\n",
    "# Sample data\n",
    "data = {'Hours': [1, 2, 3, 4, 5, 6, 7],\n",
    "        'Marks': [50, 55, 60, 65, 70, 75, 80]}\n",
    "df = pd.DataFrame(data)\n",
    "\n",
    "# Features & Target\n",
    "X = df[['Hours']]\n",
    "y = df['Marks']\n",
    "\n",
    "# Split data\n",
    "X_train, X_test, y_train, y_test = train_test_split(X, y, test_size=0.2, random_state=42)\n",
    "\n",
    "# Train model\n",
    "model = LinearRegression()\n",
    "model.fit(X_train, y_train)\n",
    "\n",
    "# Predict\n",
    "y_pred = model.predict(X_test)\n",
    "\n",
    "# Evaluation\n",
    "print(\"MSE:\", mean_squared_error(y_test, y_pred))\n",
    "print(\"R2 Score:\", r2_score(y_test, y_pred))\n",
    "\n",
    "# Visualize\n",
    "plt.scatter(X, y, color='blue')          # Data points\n",
    "plt.plot(X, model.predict(X), color='red')  # Regression line\n",
    "plt.xlabel(\"Hours Studied\")\n",
    "plt.ylabel(\"Marks\")\n",
    "plt.show()\n"
   ]
  },
  {
   "cell_type": "markdown",
   "id": "bc1b4c21-23ba-4f6a-8411-2062c270ef68",
   "metadata": {},
   "source": [
    "# Assumptions of Linear Regression\n",
    "\n",
    "**- What “Assumptions” Means**\n",
    "- An assumption is something the model expects to be true about the data.\n",
    "- If assumptions are violated, the predictions may be less accurate or misleading.\n",
    "- Think of it like rules of the game — if you break them, the model may not perform well.\n",
    "\n",
    "**1. Linearity**\n",
    "\n",
    "- The relationship between input (X) and output (Y) should be linear.\n",
    "- i.e., the data should roughly form a straight-line pattern.\n",
    "- Why: Linear Regression fits a straight line, so if the data is curved, predictions will be wrong.\n",
    "- Example: Hours studied → Marks scored (more hours, higher marks)\n",
    "\n",
    "**2. Independence**\n",
    "\n",
    "- The observations (data points) should be independent of each other.\n",
    "- Why: If data points are correlated, it can mislead the model.\n",
    "- Example: Predicting house prices — one house’s price shouldn’t directly affect another’s in the dataset.\n",
    "\n",
    "**3. Homoscedasticity**\n",
    "\n",
    "- The variance of errors should be constant across all levels of X.\n",
    "- Why: If errors are larger for some values, model may be biased.\n",
    "- Check: Residual plots should have random spread, not a funnel shape.\n",
    "\n",
    "**4. Normality of Errors**\n",
    "\n",
    "- The residuals (difference between predicted and actual values) should be normally distributed.\n",
    "- Why: Helps in making confidence intervals and hypothesis tests reliable.\n",
    "- Check: Histogram of residuals or Q-Q plot.\n",
    "\n",
    "**5. No Multicollinearity (for Multiple Regression)**\n",
    "\n",
    "- Features (inputs) should not be highly correlated with each other.\n",
    "- Why: If features are highly correlated, it becomes hard to separate their effects on Y.\n",
    "- Check: Correlation matrix or Variance Inflation Factor (VIF)."
   ]
  },
  {
   "cell_type": "markdown",
   "id": "c15544c1-06fe-44de-942a-26fb8b0aad13",
   "metadata": {},
   "source": [
    "**Quick Summary Table**\n",
    "\n",
    "\n",
    "| Assumption           | Meaning                          | Why Important                        |\n",
    "| -------------------- | -------------------------------- | ------------------------------------ |\n",
    "| Linearity            | X and Y have linear relationship | Model fits straight line             |\n",
    "| Independence         | Data points independent          | Avoid biased results                 |\n",
    "| Homoscedasticity     | Constant variance of errors      | Stable predictions                   |\n",
    "| Normality of Errors  | Residuals ~ normal distribution  | Reliable confidence intervals        |\n",
    "| No Multicollinearity | Features not highly correlated   | Clear interpretation of coefficients |\n"
   ]
  }
 ],
 "metadata": {
  "kernelspec": {
   "display_name": "Python 3 (ipykernel)",
   "language": "python",
   "name": "python3"
  },
  "language_info": {
   "codemirror_mode": {
    "name": "ipython",
    "version": 3
   },
   "file_extension": ".py",
   "mimetype": "text/x-python",
   "name": "python",
   "nbconvert_exporter": "python",
   "pygments_lexer": "ipython3",
   "version": "3.13.5"
  },
  "widgets": {
   "application/vnd.jupyter.widget-state+json": {
    "state": {},
    "version_major": 2,
    "version_minor": 0
   }
  }
 },
 "nbformat": 4,
 "nbformat_minor": 5
}
